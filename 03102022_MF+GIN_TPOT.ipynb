{
 "cells": [
  {
   "cell_type": "code",
   "execution_count": 1,
   "id": "17534b9f",
   "metadata": {},
   "outputs": [],
   "source": [
    "import pickle\n",
    "import math\n",
    "import numpy as np\n",
    "import time\n",
    "import networkx as nx\n",
    "\n",
    "import torch\n",
    "from torch.nn import Linear\n",
    "import torch.nn.functional as F\n",
    "from torch_geometric.nn import GCNConv\n",
    "\n",
    "from sklearn.metrics import mean_absolute_error, mean_squared_error, r2_score\n"
   ]
  },
  {
   "cell_type": "code",
   "execution_count": 4,
   "id": "a2c8c0df",
   "metadata": {},
   "outputs": [],
   "source": [
    "AutoML_path = \"\"\n",
    "log_folder = \"tpot_log\"\n",
    "\n",
    "log_DDN = AutoML_path+log_folder+'/DDN_single_time'\n",
    "log_MF = AutoML_path+log_folder+'/meta_features_02272022'\n",
    "log_pipeline_steps = AutoML_path+log_folder+'/pipeline_steps_class_02272022_tpot'\n",
    "\n",
    "combination_name = 'MF+GIN'\n",
    "today = '03102022'\n",
    "log_target_test_pred_time = AutoML_path+log_folder+'/'+combination_name+'_target_test_pred_time_'+today\n"
   ]
  },
  {
   "cell_type": "code",
   "execution_count": 6,
   "id": "62870f07",
   "metadata": {},
   "outputs": [
    {
     "name": "stdout",
     "output_type": "stream",
     "text": [
      "39\n",
      "39\n",
      "12863\n",
      "11797\n"
     ]
    }
   ],
   "source": [
    "DDN = pickle.load(open(log_DDN, \"rb\"))\n",
    "print(len(DDN))\n",
    "\n",
    "MF = pickle.load(open(log_MF, \"rb\"))\n",
    "MF_keys = list(MF[list(MF.keys())[0]][0].keys())\n",
    "MF_np = {}\n",
    "for task in MF:\n",
    "    feature = [MF[task][0][key]['value'] for key in MF_keys]\n",
    "    feature = [0 if type(i) != float or math.isnan(i) else i for i in feature]\n",
    "    MF_np[task] = np.array(feature)\n",
    "print(len(MF_np))\n",
    "\n",
    "pipeline_steps_class = pickle.load(open(log_pipeline_steps, 'rb'))\n",
    "print(len(pipeline_steps_class))\n",
    "\n",
    "pipeline_steps_class = [i for i in pipeline_steps_class if i[3] != \"Timeout\" and not np.isinf(i[3])]\n",
    "print(len(pipeline_steps_class))\n"
   ]
  },
  {
   "cell_type": "code",
   "execution_count": 7,
   "id": "3ad017fe",
   "metadata": {},
   "outputs": [
    {
     "name": "stderr",
     "output_type": "stream",
     "text": [
      "<ipython-input-7-8d9bf76e7917>:14: UserWarning: Creating a tensor from a list of numpy.ndarrays is extremely slow. Please consider converting the list to a single numpy.ndarray with numpy.array() before converting to a tensor. (Triggered internally at  ../torch/csrc/utils/tensor_new.cpp:201.)\n",
      "  node_x = torch.tensor(node_attribute_list, dtype=torch.float)\n"
     ]
    }
   ],
   "source": [
    "from torch_geometric.data import Data\n",
    "from collections import defaultdict\n",
    "device = torch.device('cpu')\n",
    "graphs = defaultdict(list)\n",
    "\n",
    "for pipeline in pipeline_steps_class:\n",
    "    data_name = pipeline[0]\n",
    "    if data_name in MF_np:\n",
    "        g = pipeline[2]\n",
    "        score = pipeline[3]\n",
    "        node_attribute_dict = nx.get_node_attributes(g, name='feature')\n",
    "        node_attribute_list = [np.hstack((node_attribute_dict[i],MF_np[data_name])) for i in node_attribute_dict]\n",
    "#         node_attribute_list = [np.hstack((node_attribute_dict[i],X_meta[data_name])) for i in node_attribute_dict]\n",
    "        node_x = torch.tensor(node_attribute_list, dtype=torch.float)\n",
    "\n",
    "        edge_list = list(g.edges())\n",
    "        edge_index = torch.tensor(edge_list,dtype=torch.long).t()\n",
    "\n",
    "        graph_data = Data(edge_index=edge_index, x=node_x, y=score)\n",
    "        graphs[data_name].append(graph_data.to(device))\n",
    "        "
   ]
  },
  {
   "cell_type": "code",
   "execution_count": 8,
   "id": "856a5b3f",
   "metadata": {},
   "outputs": [
    {
     "name": "stdout",
     "output_type": "stream",
     "text": [
      "39\n"
     ]
    },
    {
     "data": {
      "text/plain": [
       "Data(x=[46, 277], edge_index=[2, 1], y=0.7911666666666666)"
      ]
     },
     "execution_count": 8,
     "metadata": {},
     "output_type": "execute_result"
    }
   ],
   "source": [
    "print(len(graphs))\n",
    "graphs['adult'][0]"
   ]
  },
  {
   "cell_type": "code",
   "execution_count": 9,
   "id": "29fe55b5",
   "metadata": {},
   "outputs": [],
   "source": [
    "from torch.nn import Linear\n",
    "import torch.nn.functional as F\n",
    "from torch_geometric.nn import GCNConv, GATConv, GINConv\n",
    "from torch_geometric.nn import global_mean_pool\n",
    "\n",
    "class GIN(torch.nn.Module):\n",
    "    def __init__(self, in_channels, hidden_channels):\n",
    "        super(GIN, self).__init__()\n",
    "        torch.manual_seed(12345)\n",
    "        self.conv1 = GINConv(torch.nn.Sequential(\n",
    "           Linear(in_channels, hidden_channels)\n",
    "        ))\n",
    "        self.conv2 = GINConv(torch.nn.Sequential(\n",
    "           Linear(hidden_channels, hidden_channels)\n",
    "        ))\n",
    "        self.conv3 = GINConv(torch.nn.Sequential(\n",
    "           Linear(hidden_channels, hidden_channels)\n",
    "        ))\n",
    "        self.lin1 = Linear(hidden_channels, hidden_channels)\n",
    "        self.lin2 = Linear(hidden_channels, hidden_channels)\n",
    "        self.lin3 = Linear(hidden_channels, 1)\n",
    "\n",
    "    def forward(self, x, edge_index, batch):\n",
    "        dataset_embedding = x[:, 40:104]\n",
    "#         print(x.shape, dataset_embedding.shape)\n",
    "        # 1. Obtain node embeddings \n",
    "        x = self.conv1(x, edge_index)\n",
    "        x = x.relu()\n",
    "        x = F.dropout(x, p=0.2, training=self.training)\n",
    "        x = self.conv2(x, edge_index)\n",
    "        x = x.relu()\n",
    "        x = F.dropout(x, p=0.2, training=self.training)\n",
    "        x = self.conv3(x, edge_index)\n",
    "        x = x.relu()\n",
    "\n",
    "        # 2. Readout layer\n",
    "#         x = torch.cat((x, dataset_embedding), dim=1)\n",
    "        x = global_mean_pool(x, batch)  # [batch_size, hidden_channels]\n",
    "\n",
    "        # 3. Apply a final classifier\n",
    "#         x = F.dropout(x, p=0.2, training=self.training)\n",
    "#         print(x.shape, dataset_embedding.shape)\n",
    "        x = self.lin1(x)\n",
    "        x = x.relu()\n",
    "        x = self.lin2(x)\n",
    "        x = x.relu()\n",
    "        x = self.lin3(x)\n",
    "        \n",
    "        return x"
   ]
  },
  {
   "cell_type": "code",
   "execution_count": 16,
   "id": "65dba102",
   "metadata": {
    "scrolled": true
   },
   "outputs": [
    {
     "name": "stdout",
     "output_type": "stream",
     "text": [
      "========================================\n",
      "0 adult\n",
      "---------------------------------------- 0.05\n",
      "graphs_train shape: 2129 graphs_train[0] shape: Data(x=[46, 277], edge_index=[2, 1], y=0.7552428795420986)\n",
      "graphs_test shape: 271 graphs_test[0] shape: Data(x=[46, 277], edge_index=[2, 1], y=0.7911666666666666)\n",
      "Epoch: 009, Train MAE: 0.0902, Train MSE: 0.0140\n",
      "Epoch: 009, Test MAE: 0.0554, Test MSE: 0.0046\n",
      "Time: 6.777953147888184\n",
      "---------------------------------------- 0.1\n",
      "graphs_train shape: 4352 graphs_train[0] shape: Data(x=[46, 277], edge_index=[2, 1], y=0.7552428795420986)\n",
      "graphs_test shape: 271 graphs_test[0] shape: Data(x=[46, 277], edge_index=[2, 1], y=0.7911666666666666)\n"
     ]
    },
    {
     "name": "stderr",
     "output_type": "stream",
     "text": [
      "/Users/haox/opt/anaconda3/lib/python3.8/site-packages/torch_geometric/deprecation.py:13: UserWarning: 'data.DataLoader' is deprecated, use 'loader.DataLoader' instead\n",
      "  warnings.warn(out)\n"
     ]
    },
    {
     "name": "stdout",
     "output_type": "stream",
     "text": [
      "Epoch: 009, Train MAE: 0.0757, Train MSE: 0.0103\n",
      "Epoch: 009, Test MAE: 0.0410, Test MSE: 0.0036\n",
      "Time: 12.857715129852295\n",
      "---------------------------------------- 0.15000000000000002\n",
      "graphs_train shape: 7632 graphs_train[0] shape: Data(x=[46, 277], edge_index=[2, 1], y=0.932)\n",
      "graphs_test shape: 271 graphs_test[0] shape: Data(x=[46, 277], edge_index=[2, 1], y=0.7911666666666666)\n"
     ]
    },
    {
     "name": "stderr",
     "output_type": "stream",
     "text": [
      "/Users/haox/opt/anaconda3/lib/python3.8/site-packages/torch_geometric/deprecation.py:13: UserWarning: 'data.DataLoader' is deprecated, use 'loader.DataLoader' instead\n",
      "  warnings.warn(out)\n"
     ]
    },
    {
     "name": "stdout",
     "output_type": "stream",
     "text": [
      "Epoch: 009, Train MAE: 0.1073, Train MSE: 0.0227\n",
      "Epoch: 009, Test MAE: 0.0733, Test MSE: 0.0085\n",
      "Time: 22.16364097595215\n",
      "---------------------------------------- 0.2\n",
      "graphs_train shape: 8814 graphs_train[0] shape: Data(x=[46, 277], edge_index=[2, 1], y=0.932)\n",
      "graphs_test shape: 271 graphs_test[0] shape: Data(x=[46, 277], edge_index=[2, 1], y=0.7911666666666666)\n"
     ]
    },
    {
     "name": "stderr",
     "output_type": "stream",
     "text": [
      "/Users/haox/opt/anaconda3/lib/python3.8/site-packages/torch_geometric/deprecation.py:13: UserWarning: 'data.DataLoader' is deprecated, use 'loader.DataLoader' instead\n",
      "  warnings.warn(out)\n"
     ]
    },
    {
     "name": "stdout",
     "output_type": "stream",
     "text": [
      "Epoch: 009, Train MAE: 0.1111, Train MSE: 0.0260\n",
      "Epoch: 009, Test MAE: 0.1057, Test MSE: 0.0143\n",
      "Time: 25.245187759399414\n",
      "---------------------------------------- 0.25\n",
      "graphs_train shape: 10228 graphs_train[0] shape: Data(x=[46, 277], edge_index=[2, 1], y=0.932)\n",
      "graphs_test shape: 271 graphs_test[0] shape: Data(x=[46, 277], edge_index=[2, 1], y=0.7911666666666666)\n"
     ]
    },
    {
     "name": "stderr",
     "output_type": "stream",
     "text": [
      "/Users/haox/opt/anaconda3/lib/python3.8/site-packages/torch_geometric/deprecation.py:13: UserWarning: 'data.DataLoader' is deprecated, use 'loader.DataLoader' instead\n",
      "  warnings.warn(out)\n"
     ]
    },
    {
     "name": "stdout",
     "output_type": "stream",
     "text": [
      "Epoch: 009, Train MAE: 0.1336, Train MSE: 0.0313\n",
      "Epoch: 009, Test MAE: 0.0638, Test MSE: 0.0072\n",
      "Time: 29.332764148712158\n",
      "---------------------------------------- 0.3\n",
      "graphs_train shape: 10830 graphs_train[0] shape: Data(x=[46, 277], edge_index=[2, 1], y=0.932)\n",
      "graphs_test shape: 271 graphs_test[0] shape: Data(x=[46, 277], edge_index=[2, 1], y=0.7911666666666666)\n"
     ]
    },
    {
     "name": "stderr",
     "output_type": "stream",
     "text": [
      "/Users/haox/opt/anaconda3/lib/python3.8/site-packages/torch_geometric/deprecation.py:13: UserWarning: 'data.DataLoader' is deprecated, use 'loader.DataLoader' instead\n",
      "  warnings.warn(out)\n"
     ]
    },
    {
     "name": "stdout",
     "output_type": "stream",
     "text": [
      "Epoch: 009, Train MAE: 0.1409, Train MSE: 0.0345\n",
      "Epoch: 009, Test MAE: 0.0660, Test MSE: 0.0075\n",
      "Time: 31.16192388534546\n",
      "---------------------------------------- 0.35000000000000003\n",
      "graphs_train shape: 11173 graphs_train[0] shape: Data(x=[46, 277], edge_index=[2, 1], y=0.932)\n",
      "graphs_test shape: 271 graphs_test[0] shape: Data(x=[46, 277], edge_index=[2, 1], y=0.7911666666666666)\n"
     ]
    },
    {
     "name": "stderr",
     "output_type": "stream",
     "text": [
      "/Users/haox/opt/anaconda3/lib/python3.8/site-packages/torch_geometric/deprecation.py:13: UserWarning: 'data.DataLoader' is deprecated, use 'loader.DataLoader' instead\n",
      "  warnings.warn(out)\n"
     ]
    },
    {
     "name": "stdout",
     "output_type": "stream",
     "text": [
      "Epoch: 009, Train MAE: 0.1480, Train MSE: 0.0365\n",
      "Epoch: 009, Test MAE: 0.0598, Test MSE: 0.0067\n",
      "Time: 33.480215072631836\n",
      "---------------------------------------- 0.4\n",
      "++++++++++++++++++++++++++++++\n",
      "adult_MF+GIN_0.35 adult_MF+GIN_0.4\n",
      "36 36\n",
      "---------------------------------------- 0.45\n",
      "++++++++++++++++++++++++++++++\n",
      "adult_MF+GIN_0.4 adult_MF+GIN_0.45\n",
      "36 36\n",
      "========================================\n",
      "1 airlines\n",
      "---------------------------------------- 0.05\n",
      "graphs_train shape: 281 graphs_train[0] shape: Data(x=[46, 277], edge_index=[2, 1], y=0.6066666666666667)\n",
      "graphs_test shape: 321 graphs_test[0] shape: Data(x=[46, 277], edge_index=[2, 1], y=0.589)\n"
     ]
    },
    {
     "name": "stderr",
     "output_type": "stream",
     "text": [
      "/Users/haox/opt/anaconda3/lib/python3.8/site-packages/torch_geometric/deprecation.py:13: UserWarning: 'data.DataLoader' is deprecated, use 'loader.DataLoader' instead\n",
      "  warnings.warn(out)\n"
     ]
    },
    {
     "name": "stdout",
     "output_type": "stream",
     "text": [
      "Epoch: 009, Train MAE: 0.0399, Train MSE: 0.0020\n",
      "Epoch: 009, Test MAE: 0.7885, Test MSE: 0.6284\n",
      "Time: 1.46531081199646\n",
      "---------------------------------------- 0.1\n",
      "graphs_train shape: 2038 graphs_train[0] shape: Data(x=[46, 277], edge_index=[2, 1], y=0.5485)\n",
      "graphs_test shape: 321 graphs_test[0] shape: Data(x=[46, 277], edge_index=[2, 1], y=0.589)\n"
     ]
    },
    {
     "name": "stderr",
     "output_type": "stream",
     "text": [
      "/Users/haox/opt/anaconda3/lib/python3.8/site-packages/torch_geometric/deprecation.py:13: UserWarning: 'data.DataLoader' is deprecated, use 'loader.DataLoader' instead\n",
      "  warnings.warn(out)\n"
     ]
    },
    {
     "name": "stdout",
     "output_type": "stream",
     "text": [
      "Epoch: 009, Train MAE: 0.0728, Train MSE: 0.0086\n",
      "Epoch: 009, Test MAE: 0.0851, Test MSE: 0.0083\n",
      "Time: 6.752227067947388\n",
      "---------------------------------------- 0.15000000000000002\n",
      "graphs_train shape: 2473 graphs_train[0] shape: Data(x=[46, 277], edge_index=[2, 1], y=0.6736413817340144)\n",
      "graphs_test shape: 321 graphs_test[0] shape: Data(x=[46, 277], edge_index=[2, 1], y=0.589)\n"
     ]
    },
    {
     "name": "stderr",
     "output_type": "stream",
     "text": [
      "/Users/haox/opt/anaconda3/lib/python3.8/site-packages/torch_geometric/deprecation.py:13: UserWarning: 'data.DataLoader' is deprecated, use 'loader.DataLoader' instead\n",
      "  warnings.warn(out)\n"
     ]
    },
    {
     "name": "stdout",
     "output_type": "stream",
     "text": [
      "Epoch: 009, Train MAE: 0.0701, Train MSE: 0.0094\n",
      "Epoch: 009, Test MAE: 0.0305, Test MSE: 0.0015\n",
      "Time: 7.751783847808838\n",
      "---------------------------------------- 0.2\n",
      "graphs_train shape: 4552 graphs_train[0] shape: Data(x=[46, 277], edge_index=[2, 1], y=0.45183333333333336)\n",
      "graphs_test shape: 321 graphs_test[0] shape: Data(x=[46, 277], edge_index=[2, 1], y=0.589)\n"
     ]
    },
    {
     "name": "stderr",
     "output_type": "stream",
     "text": [
      "/Users/haox/opt/anaconda3/lib/python3.8/site-packages/torch_geometric/deprecation.py:13: UserWarning: 'data.DataLoader' is deprecated, use 'loader.DataLoader' instead\n",
      "  warnings.warn(out)\n"
     ]
    },
    {
     "name": "stdout",
     "output_type": "stream",
     "text": [
      "Epoch: 009, Train MAE: 0.2492, Train MSE: 0.2182\n",
      "Epoch: 009, Test MAE: 0.1118, Test MSE: 0.0135\n",
      "Time: 13.543389797210693\n",
      "---------------------------------------- 0.25\n",
      "++++++++++++++++++++++++++++++\n",
      "airlines_MF+GIN_0.2 airlines_MF+GIN_0.25\n",
      "16 16\n",
      "---------------------------------------- 0.3\n",
      "graphs_train shape: 7186 graphs_train[0] shape: Data(x=[46, 277], edge_index=[2, 1], y=0.45183333333333336)\n",
      "graphs_test shape: 321 graphs_test[0] shape: Data(x=[46, 277], edge_index=[2, 1], y=0.589)\n"
     ]
    },
    {
     "name": "stderr",
     "output_type": "stream",
     "text": [
      "/Users/haox/opt/anaconda3/lib/python3.8/site-packages/torch_geometric/deprecation.py:13: UserWarning: 'data.DataLoader' is deprecated, use 'loader.DataLoader' instead\n",
      "  warnings.warn(out)\n"
     ]
    },
    {
     "name": "stdout",
     "output_type": "stream",
     "text": [
      "Epoch: 009, Train MAE: 0.1519, Train MSE: 0.0382\n",
      "Epoch: 009, Test MAE: 0.1434, Test MSE: 0.0216\n",
      "Time: 20.7327139377594\n",
      "---------------------------------------- 0.35000000000000003\n",
      "graphs_train shape: 7505 graphs_train[0] shape: Data(x=[46, 277], edge_index=[2, 1], y=0.45183333333333336)\n",
      "graphs_test shape: 321 graphs_test[0] shape: Data(x=[46, 277], edge_index=[2, 1], y=0.589)\n"
     ]
    },
    {
     "name": "stderr",
     "output_type": "stream",
     "text": [
      "/Users/haox/opt/anaconda3/lib/python3.8/site-packages/torch_geometric/deprecation.py:13: UserWarning: 'data.DataLoader' is deprecated, use 'loader.DataLoader' instead\n",
      "  warnings.warn(out)\n"
     ]
    },
    {
     "name": "stdout",
     "output_type": "stream",
     "text": [
      "Epoch: 009, Train MAE: 0.1567, Train MSE: 0.0354\n",
      "Epoch: 009, Test MAE: 0.0289, Test MSE: 0.0012\n",
      "Time: 21.61146903038025\n",
      "---------------------------------------- 0.4\n",
      "graphs_train shape: 9479 graphs_train[0] shape: Data(x=[46, 277], edge_index=[2, 1], y=0.45183333333333336)\n",
      "graphs_test shape: 321 graphs_test[0] shape: Data(x=[46, 277], edge_index=[2, 1], y=0.589)\n"
     ]
    },
    {
     "name": "stderr",
     "output_type": "stream",
     "text": [
      "/Users/haox/opt/anaconda3/lib/python3.8/site-packages/torch_geometric/deprecation.py:13: UserWarning: 'data.DataLoader' is deprecated, use 'loader.DataLoader' instead\n",
      "  warnings.warn(out)\n"
     ]
    },
    {
     "name": "stdout",
     "output_type": "stream",
     "text": [
      "Epoch: 009, Train MAE: 0.1736, Train MSE: 0.0569\n",
      "Epoch: 009, Test MAE: 0.1710, Test MSE: 0.0303\n",
      "Time: 27.20164680480957\n",
      "---------------------------------------- 0.45\n",
      "graphs_train shape: 11476 graphs_train[0] shape: Data(x=[46, 277], edge_index=[2, 1], y=0.932)\n",
      "graphs_test shape: 321 graphs_test[0] shape: Data(x=[46, 277], edge_index=[2, 1], y=0.589)\n"
     ]
    },
    {
     "name": "stderr",
     "output_type": "stream",
     "text": [
      "/Users/haox/opt/anaconda3/lib/python3.8/site-packages/torch_geometric/deprecation.py:13: UserWarning: 'data.DataLoader' is deprecated, use 'loader.DataLoader' instead\n",
      "  warnings.warn(out)\n"
     ]
    },
    {
     "name": "stdout",
     "output_type": "stream",
     "text": [
      "Epoch: 009, Train MAE: 0.1534, Train MSE: 0.0426\n",
      "Epoch: 009, Test MAE: 0.2663, Test MSE: 0.0720\n",
      "Time: 33.41310691833496\n",
      "========================================\n",
      "2 albert\n",
      "---------------------------------------- 0.05\n",
      "graphs_train shape: 606 graphs_train[0] shape: Data(x=[46, 277], edge_index=[2, 1], y=0.589)\n",
      "graphs_test shape: 281 graphs_test[0] shape: Data(x=[46, 277], edge_index=[2, 1], y=0.6066666666666667)\n"
     ]
    },
    {
     "name": "stderr",
     "output_type": "stream",
     "text": [
      "/Users/haox/opt/anaconda3/lib/python3.8/site-packages/torch_geometric/deprecation.py:13: UserWarning: 'data.DataLoader' is deprecated, use 'loader.DataLoader' instead\n",
      "  warnings.warn(out)\n"
     ]
    },
    {
     "name": "stdout",
     "output_type": "stream",
     "text": [
      "Epoch: 009, Train MAE: 0.0283, Train MSE: 0.0012\n",
      "Epoch: 009, Test MAE: 0.0398, Test MSE: 0.0020\n",
      "Time: 2.27132511138916\n",
      "---------------------------------------- 0.1\n",
      "graphs_train shape: 2078 graphs_train[0] shape: Data(x=[46, 277], edge_index=[2, 1], y=0.5485)\n",
      "graphs_test shape: 281 graphs_test[0] shape: Data(x=[46, 277], edge_index=[2, 1], y=0.6066666666666667)\n"
     ]
    },
    {
     "name": "stderr",
     "output_type": "stream",
     "text": [
      "/Users/haox/opt/anaconda3/lib/python3.8/site-packages/torch_geometric/deprecation.py:13: UserWarning: 'data.DataLoader' is deprecated, use 'loader.DataLoader' instead\n",
      "  warnings.warn(out)\n"
     ]
    },
    {
     "name": "stdout",
     "output_type": "stream",
     "text": [
      "Epoch: 009, Train MAE: 0.2650, Train MSE: 0.0753\n",
      "Epoch: 009, Test MAE: 0.2814, Test MSE: 0.0813\n",
      "Time: 7.586384057998657\n",
      "---------------------------------------- 0.15000000000000002\n",
      "graphs_train shape: 3214 graphs_train[0] shape: Data(x=[46, 277], edge_index=[2, 1], y=0.4556213017751479)\n",
      "graphs_test shape: 281 graphs_test[0] shape: Data(x=[46, 277], edge_index=[2, 1], y=0.6066666666666667)\n"
     ]
    },
    {
     "name": "stderr",
     "output_type": "stream",
     "text": [
      "/Users/haox/opt/anaconda3/lib/python3.8/site-packages/torch_geometric/deprecation.py:13: UserWarning: 'data.DataLoader' is deprecated, use 'loader.DataLoader' instead\n",
      "  warnings.warn(out)\n"
     ]
    },
    {
     "name": "stdout",
     "output_type": "stream",
     "text": [
      "Epoch: 009, Train MAE: 0.0991, Train MSE: 0.0151\n",
      "Epoch: 009, Test MAE: 0.0446, Test MSE: 0.0027\n",
      "Time: 13.141140937805176\n",
      "---------------------------------------- 0.2\n",
      "graphs_train shape: 4592 graphs_train[0] shape: Data(x=[46, 277], edge_index=[2, 1], y=0.45183333333333336)\n",
      "graphs_test shape: 281 graphs_test[0] shape: Data(x=[46, 277], edge_index=[2, 1], y=0.6066666666666667)\n"
     ]
    },
    {
     "name": "stderr",
     "output_type": "stream",
     "text": [
      "/Users/haox/opt/anaconda3/lib/python3.8/site-packages/torch_geometric/deprecation.py:13: UserWarning: 'data.DataLoader' is deprecated, use 'loader.DataLoader' instead\n",
      "  warnings.warn(out)\n"
     ]
    },
    {
     "name": "stdout",
     "output_type": "stream",
     "text": [
      "Epoch: 009, Train MAE: 0.1191, Train MSE: 0.0222\n",
      "Epoch: 009, Test MAE: 0.0398, Test MSE: 0.0020\n",
      "Time: 18.374433040618896\n",
      "---------------------------------------- 0.25\n",
      "++++++++++++++++++++++++++++++\n",
      "albert_MF+GIN_0.2 albert_MF+GIN_0.25\n",
      "16 16\n",
      "---------------------------------------- 0.3\n",
      "graphs_train shape: 7226 graphs_train[0] shape: Data(x=[46, 277], edge_index=[2, 1], y=0.45183333333333336)\n",
      "graphs_test shape: 281 graphs_test[0] shape: Data(x=[46, 277], edge_index=[2, 1], y=0.6066666666666667)\n"
     ]
    },
    {
     "name": "stderr",
     "output_type": "stream",
     "text": [
      "/Users/haox/opt/anaconda3/lib/python3.8/site-packages/torch_geometric/deprecation.py:13: UserWarning: 'data.DataLoader' is deprecated, use 'loader.DataLoader' instead\n",
      "  warnings.warn(out)\n"
     ]
    },
    {
     "name": "stdout",
     "output_type": "stream",
     "text": [
      "Epoch: 009, Train MAE: 0.1277, Train MSE: 0.0307\n",
      "Epoch: 009, Test MAE: 0.1358, Test MSE: 0.0205\n",
      "Time: 22.337513208389282\n",
      "---------------------------------------- 0.35000000000000003\n",
      "graphs_train shape: 8201 graphs_train[0] shape: Data(x=[46, 277], edge_index=[2, 1], y=0.45183333333333336)\n",
      "graphs_test shape: 281 graphs_test[0] shape: Data(x=[46, 277], edge_index=[2, 1], y=0.6066666666666667)\n"
     ]
    },
    {
     "name": "stderr",
     "output_type": "stream",
     "text": [
      "/Users/haox/opt/anaconda3/lib/python3.8/site-packages/torch_geometric/deprecation.py:13: UserWarning: 'data.DataLoader' is deprecated, use 'loader.DataLoader' instead\n",
      "  warnings.warn(out)\n"
     ]
    },
    {
     "name": "stdout",
     "output_type": "stream",
     "text": [
      "Epoch: 009, Train MAE: 0.1381, Train MSE: 0.0326\n",
      "Epoch: 009, Test MAE: 0.1534, Test MSE: 0.0255\n",
      "Time: 23.869489908218384\n",
      "---------------------------------------- 0.4\n",
      "graphs_train shape: 9736 graphs_train[0] shape: Data(x=[46, 277], edge_index=[2, 1], y=0.45183333333333336)\n",
      "graphs_test shape: 281 graphs_test[0] shape: Data(x=[46, 277], edge_index=[2, 1], y=0.6066666666666667)\n"
     ]
    },
    {
     "name": "stderr",
     "output_type": "stream",
     "text": [
      "/Users/haox/opt/anaconda3/lib/python3.8/site-packages/torch_geometric/deprecation.py:13: UserWarning: 'data.DataLoader' is deprecated, use 'loader.DataLoader' instead\n",
      "  warnings.warn(out)\n"
     ]
    },
    {
     "name": "stdout",
     "output_type": "stream",
     "text": [
      "Epoch: 009, Train MAE: 0.1483, Train MSE: 0.0385\n",
      "Epoch: 009, Test MAE: 0.2194, Test MSE: 0.0501\n",
      "Time: 28.742401123046875\n",
      "---------------------------------------- 0.45\n",
      "graphs_train shape: 11516 graphs_train[0] shape: Data(x=[46, 277], edge_index=[2, 1], y=0.932)\n",
      "graphs_test shape: 281 graphs_test[0] shape: Data(x=[46, 277], edge_index=[2, 1], y=0.6066666666666667)\n"
     ]
    },
    {
     "name": "stderr",
     "output_type": "stream",
     "text": [
      "/Users/haox/opt/anaconda3/lib/python3.8/site-packages/torch_geometric/deprecation.py:13: UserWarning: 'data.DataLoader' is deprecated, use 'loader.DataLoader' instead\n",
      "  warnings.warn(out)\n"
     ]
    },
    {
     "name": "stdout",
     "output_type": "stream",
     "text": [
      "Epoch: 009, Train MAE: 0.1562, Train MSE: 0.0447\n",
      "Epoch: 009, Test MAE: 0.2833, Test MSE: 0.0823\n",
      "Time: 33.331936836242676\n",
      "========================================\n",
      "3 Amazon_employee_access\n",
      "---------------------------------------- 0.05\n",
      "graphs_train shape: 2711 graphs_train[0] shape: Data(x=[46, 277], edge_index=[2, 1], y=0.932)\n",
      "graphs_test shape: 397 graphs_test[0] shape: Data(x=[46, 277], edge_index=[2, 1], y=0.8511666666666666)\n"
     ]
    },
    {
     "name": "stderr",
     "output_type": "stream",
     "text": [
      "/Users/haox/opt/anaconda3/lib/python3.8/site-packages/torch_geometric/deprecation.py:13: UserWarning: 'data.DataLoader' is deprecated, use 'loader.DataLoader' instead\n",
      "  warnings.warn(out)\n"
     ]
    },
    {
     "name": "stdout",
     "output_type": "stream",
     "text": [
      "Epoch: 009, Train MAE: 0.0511, Train MSE: 0.0058\n",
      "Epoch: 009, Test MAE: 0.0224, Test MSE: 0.0046\n",
      "Time: 8.590906143188477\n",
      "---------------------------------------- 0.1\n",
      "graphs_train shape: 5399 graphs_train[0] shape: Data(x=[46, 277], edge_index=[2, 1], y=0.932)\n",
      "graphs_test shape: 397 graphs_test[0] shape: Data(x=[46, 277], edge_index=[2, 1], y=0.8511666666666666)\n"
     ]
    },
    {
     "name": "stderr",
     "output_type": "stream",
     "text": [
      "/Users/haox/opt/anaconda3/lib/python3.8/site-packages/torch_geometric/deprecation.py:13: UserWarning: 'data.DataLoader' is deprecated, use 'loader.DataLoader' instead\n",
      "  warnings.warn(out)\n"
     ]
    },
    {
     "name": "stdout",
     "output_type": "stream",
     "text": [
      "Epoch: 009, Train MAE: 0.1844, Train MSE: 0.2202\n",
      "Epoch: 009, Test MAE: 0.0784, Test MSE: 0.0105\n",
      "Time: 17.55649495124817\n",
      "---------------------------------------- 0.15000000000000002\n",
      "graphs_train shape: 6293 graphs_train[0] shape: Data(x=[46, 277], edge_index=[2, 1], y=0.932)\n",
      "graphs_test shape: 397 graphs_test[0] shape: Data(x=[46, 277], edge_index=[2, 1], y=0.8511666666666666)\n"
     ]
    },
    {
     "name": "stderr",
     "output_type": "stream",
     "text": [
      "/Users/haox/opt/anaconda3/lib/python3.8/site-packages/torch_geometric/deprecation.py:13: UserWarning: 'data.DataLoader' is deprecated, use 'loader.DataLoader' instead\n",
      "  warnings.warn(out)\n"
     ]
    },
    {
     "name": "stdout",
     "output_type": "stream",
     "text": [
      "Epoch: 009, Train MAE: 0.0756, Train MSE: 0.0115\n",
      "Epoch: 009, Test MAE: 0.0480, Test MSE: 0.0052\n",
      "Time: 19.261919021606445\n",
      "---------------------------------------- 0.2\n",
      "graphs_train shape: 7276 graphs_train[0] shape: Data(x=[46, 277], edge_index=[2, 1], y=0.932)\n",
      "graphs_test shape: 397 graphs_test[0] shape: Data(x=[46, 277], edge_index=[2, 1], y=0.8511666666666666)\n"
     ]
    },
    {
     "name": "stderr",
     "output_type": "stream",
     "text": [
      "/Users/haox/opt/anaconda3/lib/python3.8/site-packages/torch_geometric/deprecation.py:13: UserWarning: 'data.DataLoader' is deprecated, use 'loader.DataLoader' instead\n",
      "  warnings.warn(out)\n"
     ]
    },
    {
     "name": "stdout",
     "output_type": "stream",
     "text": [
      "Epoch: 009, Train MAE: 0.0866, Train MSE: 0.0130\n",
      "Epoch: 009, Test MAE: 0.0618, Test MSE: 0.0065\n",
      "Time: 21.179842948913574\n",
      "---------------------------------------- 0.25\n",
      "graphs_train shape: 8688 graphs_train[0] shape: Data(x=[46, 277], edge_index=[2, 1], y=0.932)\n",
      "graphs_test shape: 397 graphs_test[0] shape: Data(x=[46, 277], edge_index=[2, 1], y=0.8511666666666666)\n"
     ]
    },
    {
     "name": "stderr",
     "output_type": "stream",
     "text": [
      "/Users/haox/opt/anaconda3/lib/python3.8/site-packages/torch_geometric/deprecation.py:13: UserWarning: 'data.DataLoader' is deprecated, use 'loader.DataLoader' instead\n",
      "  warnings.warn(out)\n"
     ]
    },
    {
     "name": "stdout",
     "output_type": "stream",
     "text": [
      "Epoch: 009, Train MAE: 0.1065, Train MSE: 0.0202\n",
      "Epoch: 009, Test MAE: 0.0516, Test MSE: 0.0055\n",
      "Time: 25.055888175964355\n",
      "---------------------------------------- 0.3\n",
      "++++++++++++++++++++++++++++++\n",
      "Amazon_employee_access_MF+GIN_0.25 Amazon_employee_access_MF+GIN_0.3\n",
      "28 28\n",
      "---------------------------------------- 0.35000000000000003\n",
      "graphs_train shape: 10102 graphs_train[0] shape: Data(x=[46, 277], edge_index=[2, 1], y=0.932)\n",
      "graphs_test shape: 397 graphs_test[0] shape: Data(x=[46, 277], edge_index=[2, 1], y=0.8511666666666666)\n"
     ]
    },
    {
     "name": "stderr",
     "output_type": "stream",
     "text": [
      "/Users/haox/opt/anaconda3/lib/python3.8/site-packages/torch_geometric/deprecation.py:13: UserWarning: 'data.DataLoader' is deprecated, use 'loader.DataLoader' instead\n",
      "  warnings.warn(out)\n"
     ]
    },
    {
     "name": "stdout",
     "output_type": "stream",
     "text": [
      "Epoch: 009, Train MAE: 0.1347, Train MSE: 0.0320\n",
      "Epoch: 009, Test MAE: 0.0684, Test MSE: 0.0073\n",
      "Time: 29.827682971954346\n",
      "---------------------------------------- 0.4\n",
      "graphs_train shape: 10704 graphs_train[0] shape: Data(x=[46, 277], edge_index=[2, 1], y=0.932)\n",
      "graphs_test shape: 397 graphs_test[0] shape: Data(x=[46, 277], edge_index=[2, 1], y=0.8511666666666666)\n"
     ]
    },
    {
     "name": "stderr",
     "output_type": "stream",
     "text": [
      "/Users/haox/opt/anaconda3/lib/python3.8/site-packages/torch_geometric/deprecation.py:13: UserWarning: 'data.DataLoader' is deprecated, use 'loader.DataLoader' instead\n",
      "  warnings.warn(out)\n"
     ]
    },
    {
     "name": "stdout",
     "output_type": "stream",
     "text": [
      "Epoch: 009, Train MAE: 0.1376, Train MSE: 0.0300\n",
      "Epoch: 009, Test MAE: 0.1028, Test MSE: 0.0130\n",
      "Time: 38.578763008117676\n",
      "---------------------------------------- 0.45\n",
      "graphs_train shape: 11047 graphs_train[0] shape: Data(x=[46, 277], edge_index=[2, 1], y=0.932)\n",
      "graphs_test shape: 397 graphs_test[0] shape: Data(x=[46, 277], edge_index=[2, 1], y=0.8511666666666666)\n"
     ]
    },
    {
     "name": "stderr",
     "output_type": "stream",
     "text": [
      "/Users/haox/opt/anaconda3/lib/python3.8/site-packages/torch_geometric/deprecation.py:13: UserWarning: 'data.DataLoader' is deprecated, use 'loader.DataLoader' instead\n",
      "  warnings.warn(out)\n"
     ]
    },
    {
     "name": "stdout",
     "output_type": "stream",
     "text": [
      "Epoch: 009, Train MAE: 0.1468, Train MSE: 0.0355\n",
      "Epoch: 009, Test MAE: 0.0803, Test MSE: 0.0091\n",
      "Time: 37.052491664886475\n",
      "========================================\n",
      "4 APSFailure\n",
      "---------------------------------------- 0.05\n",
      "graphs_train shape: 2996 graphs_train[0] shape: Data(x=[46, 277], edge_index=[2, 1], y=0.932)\n",
      "graphs_test shape: 319 graphs_test[0] shape: Data(x=[46, 277], edge_index=[2, 1], y=0.9281666666666666)\n"
     ]
    },
    {
     "name": "stderr",
     "output_type": "stream",
     "text": [
      "/Users/haox/opt/anaconda3/lib/python3.8/site-packages/torch_geometric/deprecation.py:13: UserWarning: 'data.DataLoader' is deprecated, use 'loader.DataLoader' instead\n",
      "  warnings.warn(out)\n"
     ]
    },
    {
     "name": "stdout",
     "output_type": "stream",
     "text": [
      "Epoch: 009, Train MAE: 0.0869, Train MSE: 0.0125\n",
      "Epoch: 009, Test MAE: 0.1284, Test MSE: 0.0168\n",
      "Time: 8.832006931304932\n",
      "---------------------------------------- 0.1\n",
      "graphs_train shape: 3971 graphs_train[0] shape: Data(x=[46, 277], edge_index=[2, 1], y=0.932)\n",
      "graphs_test shape: 319 graphs_test[0] shape: Data(x=[46, 277], edge_index=[2, 1], y=0.9281666666666666)\n"
     ]
    },
    {
     "name": "stderr",
     "output_type": "stream",
     "text": [
      "/Users/haox/opt/anaconda3/lib/python3.8/site-packages/torch_geometric/deprecation.py:13: UserWarning: 'data.DataLoader' is deprecated, use 'loader.DataLoader' instead\n",
      "  warnings.warn(out)\n"
     ]
    },
    {
     "name": "stdout",
     "output_type": "stream",
     "text": [
      "Epoch: 009, Train MAE: 0.1141, Train MSE: 0.0180\n",
      "Epoch: 009, Test MAE: 0.1233, Test MSE: 0.0155\n",
      "Time: 11.90401005744934\n",
      "---------------------------------------- 0.15000000000000002\n",
      "graphs_train shape: 6371 graphs_train[0] shape: Data(x=[46, 277], edge_index=[2, 1], y=0.932)\n",
      "graphs_test shape: 319 graphs_test[0] shape: Data(x=[46, 277], edge_index=[2, 1], y=0.9281666666666666)\n"
     ]
    },
    {
     "name": "stderr",
     "output_type": "stream",
     "text": [
      "/Users/haox/opt/anaconda3/lib/python3.8/site-packages/torch_geometric/deprecation.py:13: UserWarning: 'data.DataLoader' is deprecated, use 'loader.DataLoader' instead\n",
      "  warnings.warn(out)\n"
     ]
    },
    {
     "name": "stdout",
     "output_type": "stream",
     "text": [
      "Epoch: 009, Train MAE: 0.0834, Train MSE: 0.0122\n",
      "Epoch: 009, Test MAE: 0.1132, Test MSE: 0.0131\n",
      "Time: 18.858155012130737\n",
      "---------------------------------------- 0.2\n",
      "++++++++++++++++++++++++++++++\n",
      "APSFailure_MF+GIN_0.15 APSFailure_MF+GIN_0.2\n",
      "20 20\n",
      "---------------------------------------- 0.25\n",
      "graphs_train shape: 7354 graphs_train[0] shape: Data(x=[46, 277], edge_index=[2, 1], y=0.932)\n",
      "graphs_test shape: 319 graphs_test[0] shape: Data(x=[46, 277], edge_index=[2, 1], y=0.9281666666666666)\n"
     ]
    },
    {
     "name": "stderr",
     "output_type": "stream",
     "text": [
      "/Users/haox/opt/anaconda3/lib/python3.8/site-packages/torch_geometric/deprecation.py:13: UserWarning: 'data.DataLoader' is deprecated, use 'loader.DataLoader' instead\n",
      "  warnings.warn(out)\n"
     ]
    },
    {
     "name": "stdout",
     "output_type": "stream",
     "text": [
      "Epoch: 009, Train MAE: 0.0841, Train MSE: 0.0138\n",
      "Epoch: 009, Test MAE: 0.0661, Test MSE: 0.0047\n",
      "Time: 22.06381392478943\n",
      "---------------------------------------- 0.3\n",
      "graphs_train shape: 8766 graphs_train[0] shape: Data(x=[46, 277], edge_index=[2, 1], y=0.932)\n",
      "graphs_test shape: 319 graphs_test[0] shape: Data(x=[46, 277], edge_index=[2, 1], y=0.9281666666666666)\n"
     ]
    },
    {
     "name": "stderr",
     "output_type": "stream",
     "text": [
      "/Users/haox/opt/anaconda3/lib/python3.8/site-packages/torch_geometric/deprecation.py:13: UserWarning: 'data.DataLoader' is deprecated, use 'loader.DataLoader' instead\n",
      "  warnings.warn(out)\n"
     ]
    },
    {
     "name": "stdout",
     "output_type": "stream",
     "text": [
      "Epoch: 009, Train MAE: 0.1077, Train MSE: 0.0222\n",
      "Epoch: 009, Test MAE: 0.1032, Test MSE: 0.0109\n",
      "Time: 29.091650009155273\n",
      "---------------------------------------- 0.35000000000000003\n",
      "graphs_train shape: 8997 graphs_train[0] shape: Data(x=[46, 277], edge_index=[2, 1], y=0.932)\n",
      "graphs_test shape: 319 graphs_test[0] shape: Data(x=[46, 277], edge_index=[2, 1], y=0.9281666666666666)\n"
     ]
    },
    {
     "name": "stderr",
     "output_type": "stream",
     "text": [
      "/Users/haox/opt/anaconda3/lib/python3.8/site-packages/torch_geometric/deprecation.py:13: UserWarning: 'data.DataLoader' is deprecated, use 'loader.DataLoader' instead\n",
      "  warnings.warn(out)\n"
     ]
    },
    {
     "name": "stdout",
     "output_type": "stream",
     "text": [
      "Epoch: 009, Train MAE: 0.1149, Train MSE: 0.0260\n",
      "Epoch: 009, Test MAE: 0.0788, Test MSE: 0.0065\n",
      "Time: 28.25941300392151\n",
      "---------------------------------------- 0.4\n",
      "graphs_train shape: 10180 graphs_train[0] shape: Data(x=[46, 277], edge_index=[2, 1], y=0.932)\n",
      "graphs_test shape: 319 graphs_test[0] shape: Data(x=[46, 277], edge_index=[2, 1], y=0.9281666666666666)\n"
     ]
    },
    {
     "name": "stderr",
     "output_type": "stream",
     "text": [
      "/Users/haox/opt/anaconda3/lib/python3.8/site-packages/torch_geometric/deprecation.py:13: UserWarning: 'data.DataLoader' is deprecated, use 'loader.DataLoader' instead\n",
      "  warnings.warn(out)\n"
     ]
    },
    {
     "name": "stdout",
     "output_type": "stream",
     "text": [
      "Epoch: 009, Train MAE: 0.1337, Train MSE: 0.0321\n",
      "Epoch: 009, Test MAE: 0.1012, Test MSE: 0.0105\n",
      "Time: 30.01622700691223\n",
      "---------------------------------------- 0.45\n",
      "graphs_train shape: 10782 graphs_train[0] shape: Data(x=[46, 277], edge_index=[2, 1], y=0.932)\n",
      "graphs_test shape: 319 graphs_test[0] shape: Data(x=[46, 277], edge_index=[2, 1], y=0.9281666666666666)\n"
     ]
    },
    {
     "name": "stderr",
     "output_type": "stream",
     "text": [
      "/Users/haox/opt/anaconda3/lib/python3.8/site-packages/torch_geometric/deprecation.py:13: UserWarning: 'data.DataLoader' is deprecated, use 'loader.DataLoader' instead\n",
      "  warnings.warn(out)\n"
     ]
    },
    {
     "name": "stdout",
     "output_type": "stream",
     "text": [
      "Epoch: 009, Train MAE: 0.3280, Train MSE: 0.1817\n",
      "Epoch: 009, Test MAE: 0.5204, Test MSE: 0.2716\n",
      "Time: 33.48581290245056\n",
      "========================================\n",
      "5 Australian\n",
      "---------------------------------------- 0.05\n",
      "graphs_train shape: 2405 graphs_train[0] shape: Data(x=[46, 277], edge_index=[2, 1], y=0.7552428795420986)\n",
      "graphs_test shape: 314 graphs_test[0] shape: Data(x=[46, 277], edge_index=[2, 1], y=0.8548714693748016)\n"
     ]
    },
    {
     "name": "stderr",
     "output_type": "stream",
     "text": [
      "/Users/haox/opt/anaconda3/lib/python3.8/site-packages/torch_geometric/deprecation.py:13: UserWarning: 'data.DataLoader' is deprecated, use 'loader.DataLoader' instead\n",
      "  warnings.warn(out)\n"
     ]
    },
    {
     "name": "stdout",
     "output_type": "stream",
     "text": [
      "Epoch: 009, Train MAE: 0.0688, Train MSE: 0.0115\n",
      "Epoch: 009, Test MAE: 0.0510, Test MSE: 0.0032\n",
      "Time: 8.010905027389526\n",
      "---------------------------------------- 0.1\n",
      "graphs_train shape: 4379 graphs_train[0] shape: Data(x=[46, 277], edge_index=[2, 1], y=0.7552428795420986)\n",
      "graphs_test shape: 314 graphs_test[0] shape: Data(x=[46, 277], edge_index=[2, 1], y=0.8548714693748016)\n"
     ]
    },
    {
     "name": "stderr",
     "output_type": "stream",
     "text": [
      "/Users/haox/opt/anaconda3/lib/python3.8/site-packages/torch_geometric/deprecation.py:13: UserWarning: 'data.DataLoader' is deprecated, use 'loader.DataLoader' instead\n",
      "  warnings.warn(out)\n"
     ]
    },
    {
     "name": "stdout",
     "output_type": "stream",
     "text": [
      "Epoch: 009, Train MAE: 0.0669, Train MSE: 0.0097\n",
      "Epoch: 009, Test MAE: 0.1267, Test MSE: 0.0180\n",
      "Time: 14.057284116744995\n",
      "---------------------------------------- 0.15000000000000002\n",
      "graphs_train shape: 8336 graphs_train[0] shape: Data(x=[46, 277], edge_index=[2, 1], y=0.932)\n",
      "graphs_test shape: 314 graphs_test[0] shape: Data(x=[46, 277], edge_index=[2, 1], y=0.8548714693748016)\n"
     ]
    },
    {
     "name": "stderr",
     "output_type": "stream",
     "text": [
      "/Users/haox/opt/anaconda3/lib/python3.8/site-packages/torch_geometric/deprecation.py:13: UserWarning: 'data.DataLoader' is deprecated, use 'loader.DataLoader' instead\n",
      "  warnings.warn(out)\n"
     ]
    },
    {
     "name": "stdout",
     "output_type": "stream",
     "text": [
      "Epoch: 009, Train MAE: 0.1092, Train MSE: 0.0243\n",
      "Epoch: 009, Test MAE: 0.0733, Test MSE: 0.0073\n",
      "Time: 29.513255834579468\n",
      "---------------------------------------- 0.2\n",
      "graphs_train shape: 8771 graphs_train[0] shape: Data(x=[46, 277], edge_index=[2, 1], y=0.932)\n",
      "graphs_test shape: 314 graphs_test[0] shape: Data(x=[46, 277], edge_index=[2, 1], y=0.8548714693748016)\n"
     ]
    },
    {
     "name": "stderr",
     "output_type": "stream",
     "text": [
      "/Users/haox/opt/anaconda3/lib/python3.8/site-packages/torch_geometric/deprecation.py:13: UserWarning: 'data.DataLoader' is deprecated, use 'loader.DataLoader' instead\n",
      "  warnings.warn(out)\n"
     ]
    },
    {
     "name": "stdout",
     "output_type": "stream",
     "text": [
      "Epoch: 009, Train MAE: 0.2263, Train MSE: 0.3730\n",
      "Epoch: 009, Test MAE: 0.1009, Test MSE: 0.0122\n",
      "Time: 34.31737017631531\n",
      "---------------------------------------- 0.25\n",
      "graphs_train shape: 10185 graphs_train[0] shape: Data(x=[46, 277], edge_index=[2, 1], y=0.932)\n",
      "graphs_test shape: 314 graphs_test[0] shape: Data(x=[46, 277], edge_index=[2, 1], y=0.8548714693748016)\n"
     ]
    },
    {
     "name": "stderr",
     "output_type": "stream",
     "text": [
      "/Users/haox/opt/anaconda3/lib/python3.8/site-packages/torch_geometric/deprecation.py:13: UserWarning: 'data.DataLoader' is deprecated, use 'loader.DataLoader' instead\n",
      "  warnings.warn(out)\n"
     ]
    },
    {
     "name": "stdout",
     "output_type": "stream",
     "text": [
      "Epoch: 009, Train MAE: 0.1352, Train MSE: 0.0320\n",
      "Epoch: 009, Test MAE: 0.0397, Test MSE: 0.0035\n",
      "Time: 58.34738898277283\n",
      "---------------------------------------- 0.3\n",
      "graphs_train shape: 10787 graphs_train[0] shape: Data(x=[46, 277], edge_index=[2, 1], y=0.932)\n",
      "graphs_test shape: 314 graphs_test[0] shape: Data(x=[46, 277], edge_index=[2, 1], y=0.8548714693748016)\n"
     ]
    },
    {
     "name": "stderr",
     "output_type": "stream",
     "text": [
      "/Users/haox/opt/anaconda3/lib/python3.8/site-packages/torch_geometric/deprecation.py:13: UserWarning: 'data.DataLoader' is deprecated, use 'loader.DataLoader' instead\n",
      "  warnings.warn(out)\n"
     ]
    },
    {
     "name": "stdout",
     "output_type": "stream",
     "text": [
      "Epoch: 009, Train MAE: 0.1416, Train MSE: 0.0337\n",
      "Epoch: 009, Test MAE: 0.0331, Test MSE: 0.0030\n",
      "Time: 56.14652609825134\n",
      "---------------------------------------- 0.35000000000000003\n",
      "++++++++++++++++++++++++++++++\n",
      "Australian_MF+GIN_0.3 Australian_MF+GIN_0.35\n",
      "35 35\n",
      "---------------------------------------- 0.4\n",
      "graphs_train shape: 11130 graphs_train[0] shape: Data(x=[46, 277], edge_index=[2, 1], y=0.932)\n",
      "graphs_test shape: 314 graphs_test[0] shape: Data(x=[46, 277], edge_index=[2, 1], y=0.8548714693748016)\n"
     ]
    },
    {
     "name": "stderr",
     "output_type": "stream",
     "text": [
      "/Users/haox/opt/anaconda3/lib/python3.8/site-packages/torch_geometric/deprecation.py:13: UserWarning: 'data.DataLoader' is deprecated, use 'loader.DataLoader' instead\n",
      "  warnings.warn(out)\n"
     ]
    },
    {
     "name": "stdout",
     "output_type": "stream",
     "text": [
      "Epoch: 009, Train MAE: 0.1630, Train MSE: 0.0455\n",
      "Epoch: 009, Test MAE: 0.0323, Test MSE: 0.0029\n",
      "Time: 53.90152406692505\n",
      "---------------------------------------- 0.45\n",
      "++++++++++++++++++++++++++++++\n",
      "Australian_MF+GIN_0.4 Australian_MF+GIN_0.45\n",
      "36 36\n",
      "========================================\n",
      "6 bank-marketing\n",
      "---------------------------------------- 0.05\n",
      "graphs_train shape: 2591 graphs_train[0] shape: Data(x=[46, 277], edge_index=[2, 1], y=0.6303610622434448)\n",
      "graphs_test shape: 319 graphs_test[0] shape: Data(x=[46, 277], edge_index=[2, 1], y=0.8285)\n"
     ]
    },
    {
     "name": "stderr",
     "output_type": "stream",
     "text": [
      "/Users/haox/opt/anaconda3/lib/python3.8/site-packages/torch_geometric/deprecation.py:13: UserWarning: 'data.DataLoader' is deprecated, use 'loader.DataLoader' instead\n",
      "  warnings.warn(out)\n"
     ]
    },
    {
     "name": "stdout",
     "output_type": "stream",
     "text": [
      "Epoch: 009, Train MAE: 0.0857, Train MSE: 0.0118\n",
      "Epoch: 009, Test MAE: 0.0376, Test MSE: 0.0017\n",
      "Time: 14.998121976852417\n",
      "---------------------------------------- 0.1\n",
      "graphs_train shape: 6009 graphs_train[0] shape: Data(x=[46, 277], edge_index=[2, 1], y=0.932)\n",
      "graphs_test shape: 319 graphs_test[0] shape: Data(x=[46, 277], edge_index=[2, 1], y=0.8285)\n"
     ]
    },
    {
     "name": "stderr",
     "output_type": "stream",
     "text": [
      "/Users/haox/opt/anaconda3/lib/python3.8/site-packages/torch_geometric/deprecation.py:13: UserWarning: 'data.DataLoader' is deprecated, use 'loader.DataLoader' instead\n",
      "  warnings.warn(out)\n"
     ]
    },
    {
     "name": "stdout",
     "output_type": "stream",
     "text": [
      "Epoch: 009, Train MAE: 0.0824, Train MSE: 0.0156\n",
      "Epoch: 009, Test MAE: 0.0438, Test MSE: 0.0025\n",
      "Time: 36.369225025177\n",
      "---------------------------------------- 0.15000000000000002\n",
      "graphs_train shape: 6706 graphs_train[0] shape: Data(x=[46, 277], edge_index=[2, 1], y=0.932)\n",
      "graphs_test shape: 319 graphs_test[0] shape: Data(x=[46, 277], edge_index=[2, 1], y=0.8285)\n"
     ]
    },
    {
     "name": "stderr",
     "output_type": "stream",
     "text": [
      "/Users/haox/opt/anaconda3/lib/python3.8/site-packages/torch_geometric/deprecation.py:13: UserWarning: 'data.DataLoader' is deprecated, use 'loader.DataLoader' instead\n",
      "  warnings.warn(out)\n"
     ]
    },
    {
     "name": "stdout",
     "output_type": "stream",
     "text": [
      "Epoch: 009, Train MAE: 0.0799, Train MSE: 0.0151\n",
      "Epoch: 009, Test MAE: 0.0675, Test MSE: 0.0052\n",
      "Time: 34.0704550743103\n",
      "---------------------------------------- 0.2\n",
      "graphs_train shape: 8493 graphs_train[0] shape: Data(x=[46, 277], edge_index=[2, 1], y=0.932)\n",
      "graphs_test shape: 319 graphs_test[0] shape: Data(x=[46, 277], edge_index=[2, 1], y=0.8285)\n"
     ]
    },
    {
     "name": "stderr",
     "output_type": "stream",
     "text": [
      "/Users/haox/opt/anaconda3/lib/python3.8/site-packages/torch_geometric/deprecation.py:13: UserWarning: 'data.DataLoader' is deprecated, use 'loader.DataLoader' instead\n",
      "  warnings.warn(out)\n"
     ]
    },
    {
     "name": "stdout",
     "output_type": "stream",
     "text": [
      "Epoch: 009, Train MAE: 0.1093, Train MSE: 0.0237\n",
      "Epoch: 009, Test MAE: 0.0196, Test MSE: 0.0009\n",
      "Time: 39.74618101119995\n",
      "---------------------------------------- 0.25\n",
      "graphs_train shape: 8766 graphs_train[0] shape: Data(x=[46, 277], edge_index=[2, 1], y=0.932)\n",
      "graphs_test shape: 319 graphs_test[0] shape: Data(x=[46, 277], edge_index=[2, 1], y=0.8285)\n"
     ]
    },
    {
     "name": "stderr",
     "output_type": "stream",
     "text": [
      "/Users/haox/opt/anaconda3/lib/python3.8/site-packages/torch_geometric/deprecation.py:13: UserWarning: 'data.DataLoader' is deprecated, use 'loader.DataLoader' instead\n",
      "  warnings.warn(out)\n"
     ]
    },
    {
     "name": "stdout",
     "output_type": "stream",
     "text": [
      "Epoch: 009, Train MAE: 0.1170, Train MSE: 0.0253\n",
      "Epoch: 009, Test MAE: 0.0178, Test MSE: 0.0007\n",
      "Time: 42.93453788757324\n",
      "---------------------------------------- 0.3\n",
      "graphs_train shape: 10180 graphs_train[0] shape: Data(x=[46, 277], edge_index=[2, 1], y=0.932)\n",
      "graphs_test shape: 319 graphs_test[0] shape: Data(x=[46, 277], edge_index=[2, 1], y=0.8285)\n"
     ]
    },
    {
     "name": "stderr",
     "output_type": "stream",
     "text": [
      "/Users/haox/opt/anaconda3/lib/python3.8/site-packages/torch_geometric/deprecation.py:13: UserWarning: 'data.DataLoader' is deprecated, use 'loader.DataLoader' instead\n",
      "  warnings.warn(out)\n"
     ]
    },
    {
     "name": "stdout",
     "output_type": "stream",
     "text": [
      "Epoch: 009, Train MAE: 0.1346, Train MSE: 0.0311\n",
      "Epoch: 009, Test MAE: 0.0216, Test MSE: 0.0007\n",
      "Time: 47.367164850234985\n",
      "---------------------------------------- 0.35000000000000003\n",
      "graphs_train shape: 10782 graphs_train[0] shape: Data(x=[46, 277], edge_index=[2, 1], y=0.932)\n",
      "graphs_test shape: 319 graphs_test[0] shape: Data(x=[46, 277], edge_index=[2, 1], y=0.8285)\n"
     ]
    },
    {
     "name": "stderr",
     "output_type": "stream",
     "text": [
      "/Users/haox/opt/anaconda3/lib/python3.8/site-packages/torch_geometric/deprecation.py:13: UserWarning: 'data.DataLoader' is deprecated, use 'loader.DataLoader' instead\n",
      "  warnings.warn(out)\n"
     ]
    },
    {
     "name": "stdout",
     "output_type": "stream",
     "text": [
      "Epoch: 009, Train MAE: 0.1423, Train MSE: 0.0335\n",
      "Epoch: 009, Test MAE: 0.0231, Test MSE: 0.0008\n",
      "Time: 50.434837102890015\n",
      "---------------------------------------- 0.4\n",
      "graphs_train shape: 11125 graphs_train[0] shape: Data(x=[46, 277], edge_index=[2, 1], y=0.932)\n",
      "graphs_test shape: 319 graphs_test[0] shape: Data(x=[46, 277], edge_index=[2, 1], y=0.8285)\n"
     ]
    },
    {
     "name": "stderr",
     "output_type": "stream",
     "text": [
      "/Users/haox/opt/anaconda3/lib/python3.8/site-packages/torch_geometric/deprecation.py:13: UserWarning: 'data.DataLoader' is deprecated, use 'loader.DataLoader' instead\n",
      "  warnings.warn(out)\n"
     ]
    },
    {
     "name": "stdout",
     "output_type": "stream",
     "text": [
      "Epoch: 009, Train MAE: 0.1464, Train MSE: 0.0358\n",
      "Epoch: 009, Test MAE: 0.0687, Test MSE: 0.0051\n",
      "Time: 52.55232501029968\n",
      "---------------------------------------- 0.45\n",
      "++++++++++++++++++++++++++++++\n",
      "bank-marketing_MF+GIN_0.4 bank-marketing_MF+GIN_0.45\n",
      "36 36\n",
      "========================================\n",
      "7 blood-transfusion-service-center\n",
      "---------------------------------------- 0.05\n",
      "graphs_train shape: 2103 graphs_train[0] shape: Data(x=[46, 277], edge_index=[2, 1], y=0.7552428795420986)\n",
      "graphs_test shape: 297 graphs_test[0] shape: Data(x=[46, 277], edge_index=[2, 1], y=0.7469798657718122)\n"
     ]
    },
    {
     "name": "stderr",
     "output_type": "stream",
     "text": [
      "/Users/haox/opt/anaconda3/lib/python3.8/site-packages/torch_geometric/deprecation.py:13: UserWarning: 'data.DataLoader' is deprecated, use 'loader.DataLoader' instead\n",
      "  warnings.warn(out)\n"
     ]
    },
    {
     "name": "stdout",
     "output_type": "stream",
     "text": [
      "Epoch: 009, Train MAE: 0.0677, Train MSE: 0.0108\n",
      "Epoch: 009, Test MAE: 0.0357, Test MSE: 0.0019\n",
      "Time: 10.713409185409546\n",
      "---------------------------------------- 0.1\n",
      "graphs_train shape: 4326 graphs_train[0] shape: Data(x=[46, 277], edge_index=[2, 1], y=0.7552428795420986)\n",
      "graphs_test shape: 297 graphs_test[0] shape: Data(x=[46, 277], edge_index=[2, 1], y=0.7469798657718122)\n"
     ]
    },
    {
     "name": "stderr",
     "output_type": "stream",
     "text": [
      "/Users/haox/opt/anaconda3/lib/python3.8/site-packages/torch_geometric/deprecation.py:13: UserWarning: 'data.DataLoader' is deprecated, use 'loader.DataLoader' instead\n",
      "  warnings.warn(out)\n"
     ]
    },
    {
     "name": "stdout",
     "output_type": "stream",
     "text": [
      "Epoch: 009, Train MAE: 0.0800, Train MSE: 0.0132\n",
      "Epoch: 009, Test MAE: 0.1237, Test MSE: 0.0160\n",
      "Time: 21.1830472946167\n",
      "---------------------------------------- 0.15000000000000002\n",
      "graphs_train shape: 7327 graphs_train[0] shape: Data(x=[46, 277], edge_index=[2, 1], y=0.45183333333333336)\n",
      "graphs_test shape: 297 graphs_test[0] shape: Data(x=[46, 277], edge_index=[2, 1], y=0.7469798657718122)\n"
     ]
    },
    {
     "name": "stderr",
     "output_type": "stream",
     "text": [
      "/Users/haox/opt/anaconda3/lib/python3.8/site-packages/torch_geometric/deprecation.py:13: UserWarning: 'data.DataLoader' is deprecated, use 'loader.DataLoader' instead\n",
      "  warnings.warn(out)\n"
     ]
    },
    {
     "name": "stdout",
     "output_type": "stream",
     "text": [
      "Epoch: 009, Train MAE: 0.1031, Train MSE: 0.0201\n",
      "Epoch: 009, Test MAE: 0.0954, Test MSE: 0.0098\n",
      "Time: 34.08857297897339\n",
      "---------------------------------------- 0.2\n",
      "graphs_train shape: 9019 graphs_train[0] shape: Data(x=[46, 277], edge_index=[2, 1], y=0.932)\n",
      "graphs_test shape: 297 graphs_test[0] shape: Data(x=[46, 277], edge_index=[2, 1], y=0.7469798657718122)\n"
     ]
    },
    {
     "name": "stderr",
     "output_type": "stream",
     "text": [
      "/Users/haox/opt/anaconda3/lib/python3.8/site-packages/torch_geometric/deprecation.py:13: UserWarning: 'data.DataLoader' is deprecated, use 'loader.DataLoader' instead\n",
      "  warnings.warn(out)\n"
     ]
    },
    {
     "name": "stdout",
     "output_type": "stream",
     "text": [
      "Epoch: 009, Train MAE: 0.1125, Train MSE: 0.0254\n",
      "Epoch: 009, Test MAE: 0.1510, Test MSE: 0.0235\n",
      "Time: 42.20623731613159\n",
      "---------------------------------------- 0.25\n",
      "graphs_train shape: 10202 graphs_train[0] shape: Data(x=[46, 277], edge_index=[2, 1], y=0.932)\n",
      "graphs_test shape: 297 graphs_test[0] shape: Data(x=[46, 277], edge_index=[2, 1], y=0.7469798657718122)\n"
     ]
    },
    {
     "name": "stderr",
     "output_type": "stream",
     "text": [
      "/Users/haox/opt/anaconda3/lib/python3.8/site-packages/torch_geometric/deprecation.py:13: UserWarning: 'data.DataLoader' is deprecated, use 'loader.DataLoader' instead\n",
      "  warnings.warn(out)\n"
     ]
    },
    {
     "name": "stdout",
     "output_type": "stream",
     "text": [
      "Epoch: 009, Train MAE: 0.1319, Train MSE: 0.0309\n",
      "Epoch: 009, Test MAE: 0.1214, Test MSE: 0.0154\n",
      "Time: 51.51750302314758\n",
      "---------------------------------------- 0.3\n",
      "graphs_train shape: 10804 graphs_train[0] shape: Data(x=[46, 277], edge_index=[2, 1], y=0.932)\n",
      "graphs_test shape: 297 graphs_test[0] shape: Data(x=[46, 277], edge_index=[2, 1], y=0.7469798657718122)\n"
     ]
    },
    {
     "name": "stderr",
     "output_type": "stream",
     "text": [
      "/Users/haox/opt/anaconda3/lib/python3.8/site-packages/torch_geometric/deprecation.py:13: UserWarning: 'data.DataLoader' is deprecated, use 'loader.DataLoader' instead\n",
      "  warnings.warn(out)\n"
     ]
    },
    {
     "name": "stdout",
     "output_type": "stream",
     "text": [
      "Epoch: 009, Train MAE: 0.1401, Train MSE: 0.0335\n",
      "Epoch: 009, Test MAE: 0.1179, Test MSE: 0.0146\n",
      "Time: 48.68928813934326\n",
      "---------------------------------------- 0.35000000000000003\n",
      "graphs_train shape: 11147 graphs_train[0] shape: Data(x=[46, 277], edge_index=[2, 1], y=0.932)\n",
      "graphs_test shape: 297 graphs_test[0] shape: Data(x=[46, 277], edge_index=[2, 1], y=0.7469798657718122)\n"
     ]
    },
    {
     "name": "stderr",
     "output_type": "stream",
     "text": [
      "/Users/haox/opt/anaconda3/lib/python3.8/site-packages/torch_geometric/deprecation.py:13: UserWarning: 'data.DataLoader' is deprecated, use 'loader.DataLoader' instead\n",
      "  warnings.warn(out)\n"
     ]
    },
    {
     "name": "stdout",
     "output_type": "stream",
     "text": [
      "Epoch: 009, Train MAE: 0.1511, Train MSE: 0.0358\n",
      "Epoch: 009, Test MAE: 0.2467, Test MSE: 0.0615\n",
      "Time: 51.678309202194214\n",
      "---------------------------------------- 0.4\n",
      "++++++++++++++++++++++++++++++\n",
      "blood-transfusion-service-center_MF+GIN_0.35 blood-transfusion-service-center_MF+GIN_0.4\n",
      "36 36\n",
      "---------------------------------------- 0.45\n",
      "graphs_train shape: 11266 graphs_train[0] shape: Data(x=[46, 277], edge_index=[2, 1], y=0.932)\n",
      "graphs_test shape: 297 graphs_test[0] shape: Data(x=[46, 277], edge_index=[2, 1], y=0.7469798657718122)\n"
     ]
    },
    {
     "name": "stderr",
     "output_type": "stream",
     "text": [
      "/Users/haox/opt/anaconda3/lib/python3.8/site-packages/torch_geometric/deprecation.py:13: UserWarning: 'data.DataLoader' is deprecated, use 'loader.DataLoader' instead\n",
      "  warnings.warn(out)\n"
     ]
    },
    {
     "name": "stdout",
     "output_type": "stream",
     "text": [
      "Epoch: 009, Train MAE: 0.1513, Train MSE: 0.0397\n",
      "Epoch: 009, Test MAE: 0.1203, Test MSE: 0.0151\n",
      "Time: 53.20160102844238\n",
      "========================================\n",
      "8 car\n",
      "---------------------------------------- 0.05\n",
      "graphs_train shape: 2384 graphs_train[0] shape: Data(x=[46, 277], edge_index=[2, 1], y=0.7552428795420986)\n",
      "graphs_test shape: 335 graphs_test[0] shape: Data(x=[46, 277], edge_index=[2, 1], y=0.6303610622434448)\n"
     ]
    },
    {
     "name": "stderr",
     "output_type": "stream",
     "text": [
      "/Users/haox/opt/anaconda3/lib/python3.8/site-packages/torch_geometric/deprecation.py:13: UserWarning: 'data.DataLoader' is deprecated, use 'loader.DataLoader' instead\n",
      "  warnings.warn(out)\n"
     ]
    },
    {
     "name": "stdout",
     "output_type": "stream",
     "text": [
      "Epoch: 009, Train MAE: 0.1877, Train MSE: 0.0682\n",
      "Epoch: 009, Test MAE: 0.0737, Test MSE: 0.0184\n",
      "Time: 11.129909038543701\n",
      "---------------------------------------- 0.1\n",
      "graphs_train shape: 4693 graphs_train[0] shape: Data(x=[46, 277], edge_index=[2, 1], y=0.7552428795420986)\n",
      "graphs_test shape: 335 graphs_test[0] shape: Data(x=[46, 277], edge_index=[2, 1], y=0.6303610622434448)\n"
     ]
    },
    {
     "name": "stderr",
     "output_type": "stream",
     "text": [
      "/Users/haox/opt/anaconda3/lib/python3.8/site-packages/torch_geometric/deprecation.py:13: UserWarning: 'data.DataLoader' is deprecated, use 'loader.DataLoader' instead\n",
      "  warnings.warn(out)\n"
     ]
    },
    {
     "name": "stdout",
     "output_type": "stream",
     "text": [
      "Epoch: 009, Train MAE: 0.0910, Train MSE: 0.0125\n",
      "Epoch: 009, Test MAE: 0.1549, Test MSE: 0.0257\n",
      "Time: 23.322152853012085\n",
      "---------------------------------------- 0.15000000000000002\n",
      "graphs_train shape: 8315 graphs_train[0] shape: Data(x=[46, 277], edge_index=[2, 1], y=0.932)\n",
      "graphs_test shape: 335 graphs_test[0] shape: Data(x=[46, 277], edge_index=[2, 1], y=0.6303610622434448)\n"
     ]
    },
    {
     "name": "stderr",
     "output_type": "stream",
     "text": [
      "/Users/haox/opt/anaconda3/lib/python3.8/site-packages/torch_geometric/deprecation.py:13: UserWarning: 'data.DataLoader' is deprecated, use 'loader.DataLoader' instead\n",
      "  warnings.warn(out)\n"
     ]
    },
    {
     "name": "stdout",
     "output_type": "stream",
     "text": [
      "Epoch: 009, Train MAE: 0.0979, Train MSE: 0.0167\n",
      "Epoch: 009, Test MAE: 0.1139, Test MSE: 0.0155\n",
      "Time: 41.73140096664429\n",
      "---------------------------------------- 0.2\n",
      "graphs_train shape: 8750 graphs_train[0] shape: Data(x=[46, 277], edge_index=[2, 1], y=0.932)\n",
      "graphs_test shape: 335 graphs_test[0] shape: Data(x=[46, 277], edge_index=[2, 1], y=0.6303610622434448)\n"
     ]
    },
    {
     "name": "stderr",
     "output_type": "stream",
     "text": [
      "/Users/haox/opt/anaconda3/lib/python3.8/site-packages/torch_geometric/deprecation.py:13: UserWarning: 'data.DataLoader' is deprecated, use 'loader.DataLoader' instead\n",
      "  warnings.warn(out)\n"
     ]
    },
    {
     "name": "stdout",
     "output_type": "stream",
     "text": [
      "Epoch: 009, Train MAE: 0.1939, Train MSE: 0.1426\n",
      "Epoch: 009, Test MAE: 0.1070, Test MSE: 0.0147\n",
      "Time: 37.95151996612549\n",
      "---------------------------------------- 0.25\n",
      "graphs_train shape: 10164 graphs_train[0] shape: Data(x=[46, 277], edge_index=[2, 1], y=0.932)\n",
      "graphs_test shape: 335 graphs_test[0] shape: Data(x=[46, 277], edge_index=[2, 1], y=0.6303610622434448)\n"
     ]
    },
    {
     "name": "stderr",
     "output_type": "stream",
     "text": [
      "/Users/haox/opt/anaconda3/lib/python3.8/site-packages/torch_geometric/deprecation.py:13: UserWarning: 'data.DataLoader' is deprecated, use 'loader.DataLoader' instead\n",
      "  warnings.warn(out)\n"
     ]
    },
    {
     "name": "stdout",
     "output_type": "stream",
     "text": [
      "Epoch: 009, Train MAE: 0.1319, Train MSE: 0.0308\n",
      "Epoch: 009, Test MAE: 0.1136, Test MSE: 0.0154\n",
      "Time: 46.42666983604431\n",
      "---------------------------------------- 0.3\n",
      "graphs_train shape: 10766 graphs_train[0] shape: Data(x=[46, 277], edge_index=[2, 1], y=0.932)\n",
      "graphs_test shape: 335 graphs_test[0] shape: Data(x=[46, 277], edge_index=[2, 1], y=0.6303610622434448)\n"
     ]
    },
    {
     "name": "stderr",
     "output_type": "stream",
     "text": [
      "/Users/haox/opt/anaconda3/lib/python3.8/site-packages/torch_geometric/deprecation.py:13: UserWarning: 'data.DataLoader' is deprecated, use 'loader.DataLoader' instead\n",
      "  warnings.warn(out)\n"
     ]
    },
    {
     "name": "stdout",
     "output_type": "stream",
     "text": [
      "Epoch: 009, Train MAE: 0.1400, Train MSE: 0.0334\n",
      "Epoch: 009, Test MAE: 0.1147, Test MSE: 0.0156\n",
      "Time: 36.82332181930542\n",
      "---------------------------------------- 0.35000000000000003\n",
      "graphs_train shape: 11109 graphs_train[0] shape: Data(x=[46, 277], edge_index=[2, 1], y=0.932)\n",
      "graphs_test shape: 335 graphs_test[0] shape: Data(x=[46, 277], edge_index=[2, 1], y=0.6303610622434448)\n"
     ]
    },
    {
     "name": "stderr",
     "output_type": "stream",
     "text": [
      "/Users/haox/opt/anaconda3/lib/python3.8/site-packages/torch_geometric/deprecation.py:13: UserWarning: 'data.DataLoader' is deprecated, use 'loader.DataLoader' instead\n",
      "  warnings.warn(out)\n"
     ]
    },
    {
     "name": "stdout",
     "output_type": "stream",
     "text": [
      "Epoch: 009, Train MAE: 0.1473, Train MSE: 0.0367\n",
      "Epoch: 009, Test MAE: 0.1131, Test MSE: 0.0154\n",
      "Time: 31.85115694999695\n",
      "---------------------------------------- 0.4\n",
      "++++++++++++++++++++++++++++++\n",
      "car_MF+GIN_0.35 car_MF+GIN_0.4\n",
      "36 36\n",
      "---------------------------------------- 0.45\n",
      "++++++++++++++++++++++++++++++\n",
      "car_MF+GIN_0.4 car_MF+GIN_0.45\n",
      "36 36\n",
      "========================================\n",
      "9 christine\n",
      "---------------------------------------- 0.05\n",
      "graphs_train shape: 1139 graphs_train[0] shape: Data(x=[46, 277], edge_index=[2, 1], y=0.45183333333333336)\n",
      "graphs_test shape: 273 graphs_test[0] shape: Data(x=[46, 277], edge_index=[2, 1], y=0.6736413817340144)\n"
     ]
    },
    {
     "name": "stderr",
     "output_type": "stream",
     "text": [
      "/Users/haox/opt/anaconda3/lib/python3.8/site-packages/torch_geometric/deprecation.py:13: UserWarning: 'data.DataLoader' is deprecated, use 'loader.DataLoader' instead\n",
      "  warnings.warn(out)\n"
     ]
    },
    {
     "name": "stdout",
     "output_type": "stream",
     "text": [
      "Epoch: 009, Train MAE: 0.0935, Train MSE: 0.0236\n",
      "Epoch: 009, Test MAE: 0.0362, Test MSE: 0.0024\n",
      "Time: 3.5415470600128174\n",
      "---------------------------------------- 0.1\n",
      "graphs_train shape: 3536 graphs_train[0] shape: Data(x=[46, 277], edge_index=[2, 1], y=0.45183333333333336)\n",
      "graphs_test shape: 273 graphs_test[0] shape: Data(x=[46, 277], edge_index=[2, 1], y=0.6736413817340144)\n"
     ]
    },
    {
     "name": "stderr",
     "output_type": "stream",
     "text": [
      "/Users/haox/opt/anaconda3/lib/python3.8/site-packages/torch_geometric/deprecation.py:13: UserWarning: 'data.DataLoader' is deprecated, use 'loader.DataLoader' instead\n",
      "  warnings.warn(out)\n"
     ]
    },
    {
     "name": "stdout",
     "output_type": "stream",
     "text": [
      "Epoch: 009, Train MAE: 0.0954, Train MSE: 0.0144\n",
      "Epoch: 009, Test MAE: 0.0848, Test MSE: 0.0084\n",
      "Time: 10.396921873092651\n",
      "---------------------------------------- 0.15000000000000002\n",
      "graphs_train shape: 5032 graphs_train[0] shape: Data(x=[46, 277], edge_index=[2, 1], y=0.45183333333333336)\n",
      "graphs_test shape: 273 graphs_test[0] shape: Data(x=[46, 277], edge_index=[2, 1], y=0.6736413817340144)\n"
     ]
    },
    {
     "name": "stderr",
     "output_type": "stream",
     "text": [
      "/Users/haox/opt/anaconda3/lib/python3.8/site-packages/torch_geometric/deprecation.py:13: UserWarning: 'data.DataLoader' is deprecated, use 'loader.DataLoader' instead\n",
      "  warnings.warn(out)\n"
     ]
    },
    {
     "name": "stdout",
     "output_type": "stream",
     "text": [
      "Epoch: 009, Train MAE: 0.1013, Train MSE: 0.0185\n",
      "Epoch: 009, Test MAE: 0.0372, Test MSE: 0.0019\n",
      "Time: 14.566689014434814\n",
      "---------------------------------------- 0.2\n",
      "graphs_train shape: 6881 graphs_train[0] shape: Data(x=[46, 277], edge_index=[2, 1], y=0.45183333333333336)\n",
      "graphs_test shape: 273 graphs_test[0] shape: Data(x=[46, 277], edge_index=[2, 1], y=0.6736413817340144)\n"
     ]
    },
    {
     "name": "stderr",
     "output_type": "stream",
     "text": [
      "/Users/haox/opt/anaconda3/lib/python3.8/site-packages/torch_geometric/deprecation.py:13: UserWarning: 'data.DataLoader' is deprecated, use 'loader.DataLoader' instead\n",
      "  warnings.warn(out)\n"
     ]
    },
    {
     "name": "stdout",
     "output_type": "stream",
     "text": [
      "Epoch: 009, Train MAE: 0.1207, Train MSE: 0.0224\n",
      "Epoch: 009, Test MAE: 0.0341, Test MSE: 0.0020\n",
      "Time: 19.858948707580566\n",
      "---------------------------------------- 0.25\n",
      "graphs_train shape: 8518 graphs_train[0] shape: Data(x=[46, 277], edge_index=[2, 1], y=0.45183333333333336)\n",
      "graphs_test shape: 273 graphs_test[0] shape: Data(x=[46, 277], edge_index=[2, 1], y=0.6736413817340144)\n"
     ]
    },
    {
     "name": "stderr",
     "output_type": "stream",
     "text": [
      "/Users/haox/opt/anaconda3/lib/python3.8/site-packages/torch_geometric/deprecation.py:13: UserWarning: 'data.DataLoader' is deprecated, use 'loader.DataLoader' instead\n",
      "  warnings.warn(out)\n"
     ]
    },
    {
     "name": "stdout",
     "output_type": "stream",
     "text": [
      "Epoch: 009, Train MAE: 0.1376, Train MSE: 0.0313\n",
      "Epoch: 009, Test MAE: 0.1290, Test MSE: 0.0180\n",
      "Time: 24.651732921600342\n",
      "---------------------------------------- 0.3\n",
      "graphs_train shape: 10400 graphs_train[0] shape: Data(x=[46, 277], edge_index=[2, 1], y=0.932)\n",
      "graphs_test shape: 273 graphs_test[0] shape: Data(x=[46, 277], edge_index=[2, 1], y=0.6736413817340144)\n"
     ]
    },
    {
     "name": "stderr",
     "output_type": "stream",
     "text": [
      "/Users/haox/opt/anaconda3/lib/python3.8/site-packages/torch_geometric/deprecation.py:13: UserWarning: 'data.DataLoader' is deprecated, use 'loader.DataLoader' instead\n",
      "  warnings.warn(out)\n"
     ]
    },
    {
     "name": "stdout",
     "output_type": "stream",
     "text": [
      "Epoch: 009, Train MAE: 0.1358, Train MSE: 0.0316\n",
      "Epoch: 009, Test MAE: 0.1386, Test MSE: 0.0206\n",
      "Time: 29.9475679397583\n",
      "---------------------------------------- 0.35000000000000003\n",
      "graphs_train shape: 11290 graphs_train[0] shape: Data(x=[46, 277], edge_index=[2, 1], y=0.932)\n",
      "graphs_test shape: 273 graphs_test[0] shape: Data(x=[46, 277], edge_index=[2, 1], y=0.6736413817340144)\n"
     ]
    },
    {
     "name": "stderr",
     "output_type": "stream",
     "text": [
      "/Users/haox/opt/anaconda3/lib/python3.8/site-packages/torch_geometric/deprecation.py:13: UserWarning: 'data.DataLoader' is deprecated, use 'loader.DataLoader' instead\n",
      "  warnings.warn(out)\n"
     ]
    },
    {
     "name": "stdout",
     "output_type": "stream",
     "text": [
      "Epoch: 009, Train MAE: 0.1494, Train MSE: 0.0387\n",
      "Epoch: 009, Test MAE: 0.1822, Test MSE: 0.0346\n",
      "Time: 32.50483512878418\n",
      "---------------------------------------- 0.4\n",
      "++++++++++++++++++++++++++++++\n",
      "christine_MF+GIN_0.35 christine_MF+GIN_0.4\n",
      "37 37\n",
      "---------------------------------------- 0.45\n",
      "graphs_train shape: 11524 graphs_train[0] shape: Data(x=[46, 277], edge_index=[2, 1], y=0.932)\n",
      "graphs_test shape: 273 graphs_test[0] shape: Data(x=[46, 277], edge_index=[2, 1], y=0.6736413817340144)\n"
     ]
    },
    {
     "name": "stderr",
     "output_type": "stream",
     "text": [
      "/Users/haox/opt/anaconda3/lib/python3.8/site-packages/torch_geometric/deprecation.py:13: UserWarning: 'data.DataLoader' is deprecated, use 'loader.DataLoader' instead\n",
      "  warnings.warn(out)\n"
     ]
    },
    {
     "name": "stdout",
     "output_type": "stream",
     "text": [
      "Epoch: 009, Train MAE: 0.1590, Train MSE: 0.0461\n",
      "Epoch: 009, Test MAE: 0.1796, Test MSE: 0.0337\n",
      "Time: 33.12305998802185\n",
      "========================================\n",
      "10 cnae-9\n",
      "---------------------------------------- 0.05\n",
      "graphs_train shape: 2222 graphs_train[0] shape: Data(x=[46, 277], edge_index=[2, 1], y=0.7858106644900136)\n",
      "graphs_test shape: 288 graphs_test[0] shape: Data(x=[46, 277], edge_index=[2, 1], y=0.9127993109388457)\n"
     ]
    },
    {
     "name": "stderr",
     "output_type": "stream",
     "text": [
      "/Users/haox/opt/anaconda3/lib/python3.8/site-packages/torch_geometric/deprecation.py:13: UserWarning: 'data.DataLoader' is deprecated, use 'loader.DataLoader' instead\n",
      "  warnings.warn(out)\n"
     ]
    },
    {
     "name": "stdout",
     "output_type": "stream",
     "text": [
      "Epoch: 009, Train MAE: 0.0443, Train MSE: 0.0046\n",
      "Epoch: 009, Test MAE: 0.0461, Test MSE: 0.0026\n",
      "Time: 6.607517957687378\n",
      "---------------------------------------- 0.1\n",
      "graphs_train shape: 6402 graphs_train[0] shape: Data(x=[46, 277], edge_index=[2, 1], y=0.932)\n",
      "graphs_test shape: 288 graphs_test[0] shape: Data(x=[46, 277], edge_index=[2, 1], y=0.9127993109388457)\n"
     ]
    },
    {
     "name": "stderr",
     "output_type": "stream",
     "text": [
      "/Users/haox/opt/anaconda3/lib/python3.8/site-packages/torch_geometric/deprecation.py:13: UserWarning: 'data.DataLoader' is deprecated, use 'loader.DataLoader' instead\n",
      "  warnings.warn(out)\n"
     ]
    },
    {
     "name": "stdout",
     "output_type": "stream",
     "text": [
      "Epoch: 009, Train MAE: 0.0920, Train MSE: 0.0151\n",
      "Epoch: 009, Test MAE: 0.0499, Test MSE: 0.0030\n",
      "Time: 18.47747278213501\n",
      "---------------------------------------- 0.15000000000000002\n",
      "++++++++++++++++++++++++++++++\n",
      "cnae-9_MF+GIN_0.1 cnae-9_MF+GIN_0.15\n",
      "20 20\n",
      "---------------------------------------- 0.2\n",
      "graphs_train shape: 7661 graphs_train[0] shape: Data(x=[46, 277], edge_index=[2, 1], y=0.932)\n",
      "graphs_test shape: 288 graphs_test[0] shape: Data(x=[46, 277], edge_index=[2, 1], y=0.9127993109388457)\n"
     ]
    },
    {
     "name": "stderr",
     "output_type": "stream",
     "text": [
      "/Users/haox/opt/anaconda3/lib/python3.8/site-packages/torch_geometric/deprecation.py:13: UserWarning: 'data.DataLoader' is deprecated, use 'loader.DataLoader' instead\n",
      "  warnings.warn(out)\n"
     ]
    },
    {
     "name": "stdout",
     "output_type": "stream",
     "text": [
      "Epoch: 009, Train MAE: 0.0792, Train MSE: 0.0143\n",
      "Epoch: 009, Test MAE: 0.0272, Test MSE: 0.0010\n",
      "Time: 22.046974182128906\n",
      "---------------------------------------- 0.25\n",
      "graphs_train shape: 8797 graphs_train[0] shape: Data(x=[46, 277], edge_index=[2, 1], y=0.932)\n",
      "graphs_test shape: 288 graphs_test[0] shape: Data(x=[46, 277], edge_index=[2, 1], y=0.9127993109388457)\n"
     ]
    },
    {
     "name": "stderr",
     "output_type": "stream",
     "text": [
      "/Users/haox/opt/anaconda3/lib/python3.8/site-packages/torch_geometric/deprecation.py:13: UserWarning: 'data.DataLoader' is deprecated, use 'loader.DataLoader' instead\n",
      "  warnings.warn(out)\n"
     ]
    },
    {
     "name": "stdout",
     "output_type": "stream",
     "text": [
      "Epoch: 009, Train MAE: 0.1080, Train MSE: 0.0213\n",
      "Epoch: 009, Test MAE: 0.0604, Test MSE: 0.0045\n",
      "Time: 25.373142957687378\n",
      "---------------------------------------- 0.3\n",
      "graphs_train shape: 9926 graphs_train[0] shape: Data(x=[46, 277], edge_index=[2, 1], y=0.932)\n",
      "graphs_test shape: 288 graphs_test[0] shape: Data(x=[46, 277], edge_index=[2, 1], y=0.9127993109388457)\n"
     ]
    },
    {
     "name": "stderr",
     "output_type": "stream",
     "text": [
      "/Users/haox/opt/anaconda3/lib/python3.8/site-packages/torch_geometric/deprecation.py:13: UserWarning: 'data.DataLoader' is deprecated, use 'loader.DataLoader' instead\n",
      "  warnings.warn(out)\n"
     ]
    },
    {
     "name": "stdout",
     "output_type": "stream",
     "text": [
      "Epoch: 009, Train MAE: 0.1290, Train MSE: 0.0297\n",
      "Epoch: 009, Test MAE: 0.0579, Test MSE: 0.0041\n",
      "Time: 28.61994194984436\n",
      "---------------------------------------- 0.35000000000000003\n",
      "graphs_train shape: 10492 graphs_train[0] shape: Data(x=[46, 277], edge_index=[2, 1], y=0.932)\n",
      "graphs_test shape: 288 graphs_test[0] shape: Data(x=[46, 277], edge_index=[2, 1], y=0.9127993109388457)\n"
     ]
    },
    {
     "name": "stderr",
     "output_type": "stream",
     "text": [
      "/Users/haox/opt/anaconda3/lib/python3.8/site-packages/torch_geometric/deprecation.py:13: UserWarning: 'data.DataLoader' is deprecated, use 'loader.DataLoader' instead\n",
      "  warnings.warn(out)\n"
     ]
    },
    {
     "name": "stdout",
     "output_type": "stream",
     "text": [
      "Epoch: 009, Train MAE: 0.1378, Train MSE: 0.0327\n",
      "Epoch: 009, Test MAE: 0.0591, Test MSE: 0.0043\n",
      "Time: 30.27584981918335\n",
      "---------------------------------------- 0.4\n",
      "graphs_train shape: 10813 graphs_train[0] shape: Data(x=[46, 277], edge_index=[2, 1], y=0.932)\n",
      "graphs_test shape: 288 graphs_test[0] shape: Data(x=[46, 277], edge_index=[2, 1], y=0.9127993109388457)\n"
     ]
    },
    {
     "name": "stderr",
     "output_type": "stream",
     "text": [
      "/Users/haox/opt/anaconda3/lib/python3.8/site-packages/torch_geometric/deprecation.py:13: UserWarning: 'data.DataLoader' is deprecated, use 'loader.DataLoader' instead\n",
      "  warnings.warn(out)\n"
     ]
    },
    {
     "name": "stdout",
     "output_type": "stream",
     "text": [
      "Epoch: 009, Train MAE: 0.1361, Train MSE: 0.0320\n",
      "Epoch: 009, Test MAE: 0.0695, Test MSE: 0.0058\n",
      "Time: 31.73866891860962\n",
      "---------------------------------------- 0.45\n",
      "graphs_train shape: 11156 graphs_train[0] shape: Data(x=[46, 277], edge_index=[2, 1], y=0.932)\n",
      "graphs_test shape: 288 graphs_test[0] shape: Data(x=[46, 277], edge_index=[2, 1], y=0.9127993109388457)\n"
     ]
    },
    {
     "name": "stderr",
     "output_type": "stream",
     "text": [
      "/Users/haox/opt/anaconda3/lib/python3.8/site-packages/torch_geometric/deprecation.py:13: UserWarning: 'data.DataLoader' is deprecated, use 'loader.DataLoader' instead\n",
      "  warnings.warn(out)\n"
     ]
    },
    {
     "name": "stdout",
     "output_type": "stream",
     "text": [
      "Epoch: 009, Train MAE: 0.1477, Train MSE: 0.0361\n",
      "Epoch: 009, Test MAE: 0.0683, Test MSE: 0.0056\n",
      "Time: 33.653926849365234\n",
      "========================================\n",
      "11 connect-4\n",
      "---------------------------------------- 0.05\n",
      "graphs_train shape: 2073 graphs_train[0] shape: Data(x=[46, 277], edge_index=[2, 1], y=0.45183333333333336)\n",
      "graphs_test shape: 322 graphs_test[0] shape: Data(x=[46, 277], edge_index=[2, 1], y=0.2455)\n"
     ]
    },
    {
     "name": "stderr",
     "output_type": "stream",
     "text": [
      "/Users/haox/opt/anaconda3/lib/python3.8/site-packages/torch_geometric/deprecation.py:13: UserWarning: 'data.DataLoader' is deprecated, use 'loader.DataLoader' instead\n",
      "  warnings.warn(out)\n"
     ]
    },
    {
     "name": "stdout",
     "output_type": "stream",
     "text": [
      "Epoch: 009, Train MAE: 0.0903, Train MSE: 0.0215\n",
      "Epoch: 009, Test MAE: 0.1030, Test MSE: 0.0244\n",
      "Time: 6.544183015823364\n",
      "---------------------------------------- 0.1\n",
      "graphs_train shape: 3487 graphs_train[0] shape: Data(x=[46, 277], edge_index=[2, 1], y=0.45183333333333336)\n",
      "graphs_test shape: 322 graphs_test[0] shape: Data(x=[46, 277], edge_index=[2, 1], y=0.2455)\n"
     ]
    },
    {
     "name": "stderr",
     "output_type": "stream",
     "text": [
      "/Users/haox/opt/anaconda3/lib/python3.8/site-packages/torch_geometric/deprecation.py:13: UserWarning: 'data.DataLoader' is deprecated, use 'loader.DataLoader' instead\n",
      "  warnings.warn(out)\n"
     ]
    },
    {
     "name": "stdout",
     "output_type": "stream",
     "text": [
      "Epoch: 009, Train MAE: 0.0924, Train MSE: 0.0148\n",
      "Epoch: 009, Test MAE: 0.0821, Test MSE: 0.0146\n",
      "Time: 10.373486995697021\n",
      "---------------------------------------- 0.15000000000000002\n",
      "graphs_train shape: 6168 graphs_train[0] shape: Data(x=[46, 277], edge_index=[2, 1], y=0.45183333333333336)\n",
      "graphs_test shape: 322 graphs_test[0] shape: Data(x=[46, 277], edge_index=[2, 1], y=0.2455)\n"
     ]
    },
    {
     "name": "stderr",
     "output_type": "stream",
     "text": [
      "/Users/haox/opt/anaconda3/lib/python3.8/site-packages/torch_geometric/deprecation.py:13: UserWarning: 'data.DataLoader' is deprecated, use 'loader.DataLoader' instead\n",
      "  warnings.warn(out)\n"
     ]
    },
    {
     "name": "stdout",
     "output_type": "stream",
     "text": [
      "Epoch: 009, Train MAE: 0.1159, Train MSE: 0.0236\n",
      "Epoch: 009, Test MAE: 0.0994, Test MSE: 0.0236\n",
      "Time: 23.649988174438477\n",
      "---------------------------------------- 0.2\n",
      "graphs_train shape: 7176 graphs_train[0] shape: Data(x=[46, 277], edge_index=[2, 1], y=0.45183333333333336)\n",
      "graphs_test shape: 322 graphs_test[0] shape: Data(x=[46, 277], edge_index=[2, 1], y=0.2455)\n"
     ]
    },
    {
     "name": "stderr",
     "output_type": "stream",
     "text": [
      "/Users/haox/opt/anaconda3/lib/python3.8/site-packages/torch_geometric/deprecation.py:13: UserWarning: 'data.DataLoader' is deprecated, use 'loader.DataLoader' instead\n",
      "  warnings.warn(out)\n"
     ]
    },
    {
     "name": "stdout",
     "output_type": "stream",
     "text": [
      "Epoch: 009, Train MAE: 0.1212, Train MSE: 0.0246\n",
      "Epoch: 009, Test MAE: 0.1150, Test MSE: 0.0269\n",
      "Time: 34.46576690673828\n",
      "---------------------------------------- 0.25\n",
      "graphs_train shape: 9125 graphs_train[0] shape: Data(x=[46, 277], edge_index=[2, 1], y=0.45183333333333336)\n",
      "graphs_test shape: 322 graphs_test[0] shape: Data(x=[46, 277], edge_index=[2, 1], y=0.2455)\n"
     ]
    },
    {
     "name": "stderr",
     "output_type": "stream",
     "text": [
      "/Users/haox/opt/anaconda3/lib/python3.8/site-packages/torch_geometric/deprecation.py:13: UserWarning: 'data.DataLoader' is deprecated, use 'loader.DataLoader' instead\n",
      "  warnings.warn(out)\n"
     ]
    },
    {
     "name": "stdout",
     "output_type": "stream",
     "text": [
      "Epoch: 009, Train MAE: 0.1345, Train MSE: 0.0284\n",
      "Epoch: 009, Test MAE: 0.1365, Test MSE: 0.0324\n",
      "Time: 45.95019602775574\n",
      "---------------------------------------- 0.3\n",
      "graphs_train shape: 11122 graphs_train[0] shape: Data(x=[46, 277], edge_index=[2, 1], y=0.932)\n",
      "graphs_test shape: 322 graphs_test[0] shape: Data(x=[46, 277], edge_index=[2, 1], y=0.2455)\n"
     ]
    },
    {
     "name": "stderr",
     "output_type": "stream",
     "text": [
      "/Users/haox/opt/anaconda3/lib/python3.8/site-packages/torch_geometric/deprecation.py:13: UserWarning: 'data.DataLoader' is deprecated, use 'loader.DataLoader' instead\n",
      "  warnings.warn(out)\n"
     ]
    },
    {
     "name": "stdout",
     "output_type": "stream",
     "text": [
      "Epoch: 009, Train MAE: 0.1442, Train MSE: 0.0351\n",
      "Epoch: 009, Test MAE: 0.1994, Test MSE: 0.0535\n",
      "Time: 68.58123207092285\n",
      "---------------------------------------- 0.35000000000000003\n",
      "graphs_train shape: 11241 graphs_train[0] shape: Data(x=[46, 277], edge_index=[2, 1], y=0.932)\n",
      "graphs_test shape: 322 graphs_test[0] shape: Data(x=[46, 277], edge_index=[2, 1], y=0.2455)\n"
     ]
    },
    {
     "name": "stderr",
     "output_type": "stream",
     "text": [
      "/Users/haox/opt/anaconda3/lib/python3.8/site-packages/torch_geometric/deprecation.py:13: UserWarning: 'data.DataLoader' is deprecated, use 'loader.DataLoader' instead\n",
      "  warnings.warn(out)\n"
     ]
    },
    {
     "name": "stdout",
     "output_type": "stream",
     "text": [
      "Epoch: 009, Train MAE: 0.1489, Train MSE: 0.0384\n",
      "Epoch: 009, Test MAE: 0.2026, Test MSE: 0.0548\n",
      "Time: 54.03660488128662\n",
      "---------------------------------------- 0.4\n",
      "++++++++++++++++++++++++++++++\n",
      "connect-4_MF+GIN_0.35 connect-4_MF+GIN_0.4\n",
      "37 37\n",
      "---------------------------------------- 0.45\n",
      "graphs_train shape: 11475 graphs_train[0] shape: Data(x=[46, 277], edge_index=[2, 1], y=0.932)\n",
      "graphs_test shape: 322 graphs_test[0] shape: Data(x=[46, 277], edge_index=[2, 1], y=0.2455)\n"
     ]
    },
    {
     "name": "stderr",
     "output_type": "stream",
     "text": [
      "/Users/haox/opt/anaconda3/lib/python3.8/site-packages/torch_geometric/deprecation.py:13: UserWarning: 'data.DataLoader' is deprecated, use 'loader.DataLoader' instead\n",
      "  warnings.warn(out)\n"
     ]
    },
    {
     "name": "stdout",
     "output_type": "stream",
     "text": [
      "Epoch: 009, Train MAE: 0.1594, Train MSE: 0.0465\n",
      "Epoch: 009, Test MAE: 0.2034, Test MSE: 0.0551\n",
      "Time: 56.28649115562439\n",
      "========================================\n",
      "12 covertype\n",
      "---------------------------------------- 0.05\n",
      "graphs_train shape: 2119 graphs_train[0] shape: Data(x=[46, 277], edge_index=[2, 1], y=0.4556213017751479)\n",
      "graphs_test shape: 276 graphs_test[0] shape: Data(x=[46, 277], edge_index=[2, 1], y=0.45183333333333336)\n"
     ]
    },
    {
     "name": "stderr",
     "output_type": "stream",
     "text": [
      "/Users/haox/opt/anaconda3/lib/python3.8/site-packages/torch_geometric/deprecation.py:13: UserWarning: 'data.DataLoader' is deprecated, use 'loader.DataLoader' instead\n",
      "  warnings.warn(out)\n"
     ]
    },
    {
     "name": "stdout",
     "output_type": "stream",
     "text": [
      "Epoch: 009, Train MAE: 0.1238, Train MSE: 0.0296\n",
      "Epoch: 009, Test MAE: 0.1458, Test MSE: 0.0404\n",
      "Time: 10.37258768081665\n",
      "---------------------------------------- 0.1\n",
      "graphs_train shape: 2589 graphs_train[0] shape: Data(x=[46, 277], edge_index=[2, 1], y=0.4556213017751479)\n",
      "graphs_test shape: 276 graphs_test[0] shape: Data(x=[46, 277], edge_index=[2, 1], y=0.45183333333333336)\n"
     ]
    },
    {
     "name": "stderr",
     "output_type": "stream",
     "text": [
      "/Users/haox/opt/anaconda3/lib/python3.8/site-packages/torch_geometric/deprecation.py:13: UserWarning: 'data.DataLoader' is deprecated, use 'loader.DataLoader' instead\n",
      "  warnings.warn(out)\n"
     ]
    },
    {
     "name": "stdout",
     "output_type": "stream",
     "text": [
      "Epoch: 009, Train MAE: 0.0851, Train MSE: 0.0164\n",
      "Epoch: 009, Test MAE: 0.1020, Test MSE: 0.0191\n",
      "Time: 13.762781858444214\n",
      "---------------------------------------- 0.15000000000000002\n",
      "graphs_train shape: 5933 graphs_train[0] shape: Data(x=[46, 277], edge_index=[2, 1], y=0.4556213017751479)\n",
      "graphs_test shape: 276 graphs_test[0] shape: Data(x=[46, 277], edge_index=[2, 1], y=0.45183333333333336)\n"
     ]
    },
    {
     "name": "stderr",
     "output_type": "stream",
     "text": [
      "/Users/haox/opt/anaconda3/lib/python3.8/site-packages/torch_geometric/deprecation.py:13: UserWarning: 'data.DataLoader' is deprecated, use 'loader.DataLoader' instead\n",
      "  warnings.warn(out)\n"
     ]
    },
    {
     "name": "stdout",
     "output_type": "stream",
     "text": [
      "Epoch: 009, Train MAE: 0.1208, Train MSE: 0.0252\n",
      "Epoch: 009, Test MAE: 0.1597, Test MSE: 0.0447\n",
      "Time: 29.520883083343506\n",
      "---------------------------------------- 0.2\n",
      "graphs_train shape: 7510 graphs_train[0] shape: Data(x=[46, 277], edge_index=[2, 1], y=0.4556213017751479)\n",
      "graphs_test shape: 276 graphs_test[0] shape: Data(x=[46, 277], edge_index=[2, 1], y=0.45183333333333336)\n"
     ]
    },
    {
     "name": "stderr",
     "output_type": "stream",
     "text": [
      "/Users/haox/opt/anaconda3/lib/python3.8/site-packages/torch_geometric/deprecation.py:13: UserWarning: 'data.DataLoader' is deprecated, use 'loader.DataLoader' instead\n",
      "  warnings.warn(out)\n"
     ]
    },
    {
     "name": "stdout",
     "output_type": "stream",
     "text": [
      "Epoch: 009, Train MAE: 0.1524, Train MSE: 0.0335\n",
      "Epoch: 009, Test MAE: 0.1177, Test MSE: 0.0209\n",
      "Time: 36.07843589782715\n",
      "---------------------------------------- 0.25\n",
      "graphs_train shape: 9388 graphs_train[0] shape: Data(x=[46, 277], edge_index=[2, 1], y=0.4556213017751479)\n",
      "graphs_test shape: 276 graphs_test[0] shape: Data(x=[46, 277], edge_index=[2, 1], y=0.45183333333333336)\n"
     ]
    },
    {
     "name": "stderr",
     "output_type": "stream",
     "text": [
      "/Users/haox/opt/anaconda3/lib/python3.8/site-packages/torch_geometric/deprecation.py:13: UserWarning: 'data.DataLoader' is deprecated, use 'loader.DataLoader' instead\n",
      "  warnings.warn(out)\n"
     ]
    },
    {
     "name": "stdout",
     "output_type": "stream",
     "text": [
      "Epoch: 009, Train MAE: 0.1342, Train MSE: 0.0295\n",
      "Epoch: 009, Test MAE: 0.1552, Test MSE: 0.0432\n",
      "Time: 46.57583403587341\n",
      "---------------------------------------- 0.3\n",
      "graphs_train shape: 11168 graphs_train[0] shape: Data(x=[46, 277], edge_index=[2, 1], y=0.932)\n",
      "graphs_test shape: 276 graphs_test[0] shape: Data(x=[46, 277], edge_index=[2, 1], y=0.45183333333333336)\n"
     ]
    },
    {
     "name": "stderr",
     "output_type": "stream",
     "text": [
      "/Users/haox/opt/anaconda3/lib/python3.8/site-packages/torch_geometric/deprecation.py:13: UserWarning: 'data.DataLoader' is deprecated, use 'loader.DataLoader' instead\n",
      "  warnings.warn(out)\n"
     ]
    },
    {
     "name": "stdout",
     "output_type": "stream",
     "text": [
      "Epoch: 009, Train MAE: 0.1451, Train MSE: 0.0356\n",
      "Epoch: 009, Test MAE: 0.1987, Test MSE: 0.0586\n",
      "Time: 60.29255390167236\n",
      "---------------------------------------- 0.35000000000000003\n",
      "graphs_train shape: 11287 graphs_train[0] shape: Data(x=[46, 277], edge_index=[2, 1], y=0.932)\n",
      "graphs_test shape: 276 graphs_test[0] shape: Data(x=[46, 277], edge_index=[2, 1], y=0.45183333333333336)\n"
     ]
    },
    {
     "name": "stderr",
     "output_type": "stream",
     "text": [
      "/Users/haox/opt/anaconda3/lib/python3.8/site-packages/torch_geometric/deprecation.py:13: UserWarning: 'data.DataLoader' is deprecated, use 'loader.DataLoader' instead\n",
      "  warnings.warn(out)\n"
     ]
    },
    {
     "name": "stdout",
     "output_type": "stream",
     "text": [
      "Epoch: 009, Train MAE: 0.1494, Train MSE: 0.0385\n",
      "Epoch: 009, Test MAE: 0.1993, Test MSE: 0.0589\n",
      "Time: 58.60190200805664\n",
      "---------------------------------------- 0.4\n",
      "++++++++++++++++++++++++++++++\n",
      "covertype_MF+GIN_0.35 covertype_MF+GIN_0.4\n",
      "37 37\n",
      "---------------------------------------- 0.45\n",
      "graphs_train shape: 11521 graphs_train[0] shape: Data(x=[46, 277], edge_index=[2, 1], y=0.932)\n",
      "graphs_test shape: 276 graphs_test[0] shape: Data(x=[46, 277], edge_index=[2, 1], y=0.45183333333333336)\n"
     ]
    },
    {
     "name": "stderr",
     "output_type": "stream",
     "text": [
      "/Users/haox/opt/anaconda3/lib/python3.8/site-packages/torch_geometric/deprecation.py:13: UserWarning: 'data.DataLoader' is deprecated, use 'loader.DataLoader' instead\n",
      "  warnings.warn(out)\n"
     ]
    },
    {
     "name": "stdout",
     "output_type": "stream",
     "text": [
      "Epoch: 009, Train MAE: 1.2674, Train MSE: 5.2957\n",
      "Epoch: 009, Test MAE: 0.4799, Test MSE: 0.2486\n",
      "Time: 66.62781882286072\n",
      "========================================\n",
      "13 credit-g\n",
      "---------------------------------------- 0.05\n",
      "graphs_train shape: 1810 graphs_train[0] shape: Data(x=[46, 277], edge_index=[2, 1], y=0.45183333333333336)\n",
      "graphs_test shape: 312 graphs_test[0] shape: Data(x=[46, 277], edge_index=[2, 1], y=0.6887437185929649)\n"
     ]
    },
    {
     "name": "stderr",
     "output_type": "stream",
     "text": [
      "/Users/haox/opt/anaconda3/lib/python3.8/site-packages/torch_geometric/deprecation.py:13: UserWarning: 'data.DataLoader' is deprecated, use 'loader.DataLoader' instead\n",
      "  warnings.warn(out)\n"
     ]
    },
    {
     "name": "stdout",
     "output_type": "stream",
     "text": [
      "Epoch: 009, Train MAE: 0.7192, Train MSE: 0.5385\n",
      "Epoch: 009, Test MAE: 0.7266, Test MSE: 0.5319\n",
      "Time: 10.822187185287476\n",
      "---------------------------------------- 0.1\n",
      "graphs_train shape: 3210 graphs_train[0] shape: Data(x=[46, 277], edge_index=[2, 1], y=0.45183333333333336)\n",
      "graphs_test shape: 312 graphs_test[0] shape: Data(x=[46, 277], edge_index=[2, 1], y=0.6887437185929649)\n"
     ]
    },
    {
     "name": "stderr",
     "output_type": "stream",
     "text": [
      "/Users/haox/opt/anaconda3/lib/python3.8/site-packages/torch_geometric/deprecation.py:13: UserWarning: 'data.DataLoader' is deprecated, use 'loader.DataLoader' instead\n",
      "  warnings.warn(out)\n"
     ]
    },
    {
     "name": "stdout",
     "output_type": "stream",
     "text": [
      "Epoch: 009, Train MAE: 0.1128, Train MSE: 0.0202\n",
      "Epoch: 009, Test MAE: 0.0597, Test MSE: 0.0049\n",
      "Time: 17.367876768112183\n",
      "---------------------------------------- 0.15000000000000002\n",
      "graphs_train shape: 5897 graphs_train[0] shape: Data(x=[46, 277], edge_index=[2, 1], y=0.45183333333333336)\n",
      "graphs_test shape: 312 graphs_test[0] shape: Data(x=[46, 277], edge_index=[2, 1], y=0.6887437185929649)\n"
     ]
    },
    {
     "name": "stderr",
     "output_type": "stream",
     "text": [
      "/Users/haox/opt/anaconda3/lib/python3.8/site-packages/torch_geometric/deprecation.py:13: UserWarning: 'data.DataLoader' is deprecated, use 'loader.DataLoader' instead\n",
      "  warnings.warn(out)\n"
     ]
    },
    {
     "name": "stdout",
     "output_type": "stream",
     "text": [
      "Epoch: 009, Train MAE: 0.1176, Train MSE: 0.0255\n",
      "Epoch: 009, Test MAE: 0.0874, Test MSE: 0.0116\n",
      "Time: 30.244045972824097\n",
      "---------------------------------------- 0.2\n",
      "graphs_train shape: 8136 graphs_train[0] shape: Data(x=[46, 277], edge_index=[2, 1], y=0.45183333333333336)\n",
      "graphs_test shape: 312 graphs_test[0] shape: Data(x=[46, 277], edge_index=[2, 1], y=0.6887437185929649)\n"
     ]
    },
    {
     "name": "stderr",
     "output_type": "stream",
     "text": [
      "/Users/haox/opt/anaconda3/lib/python3.8/site-packages/torch_geometric/deprecation.py:13: UserWarning: 'data.DataLoader' is deprecated, use 'loader.DataLoader' instead\n",
      "  warnings.warn(out)\n"
     ]
    },
    {
     "name": "stdout",
     "output_type": "stream",
     "text": [
      "Epoch: 009, Train MAE: 0.1265, Train MSE: 0.0259\n",
      "Epoch: 009, Test MAE: 0.0897, Test MSE: 0.0121\n",
      "Time: 42.717872858047485\n",
      "---------------------------------------- 0.25\n",
      "graphs_train shape: 10770 graphs_train[0] shape: Data(x=[46, 277], edge_index=[2, 1], y=0.932)\n",
      "graphs_test shape: 312 graphs_test[0] shape: Data(x=[46, 277], edge_index=[2, 1], y=0.6887437185929649)\n"
     ]
    },
    {
     "name": "stderr",
     "output_type": "stream",
     "text": [
      "/Users/haox/opt/anaconda3/lib/python3.8/site-packages/torch_geometric/deprecation.py:13: UserWarning: 'data.DataLoader' is deprecated, use 'loader.DataLoader' instead\n",
      "  warnings.warn(out)\n"
     ]
    },
    {
     "name": "stdout",
     "output_type": "stream",
     "text": [
      "Epoch: 009, Train MAE: 0.1481, Train MSE: 0.0380\n",
      "Epoch: 009, Test MAE: 0.1748, Test MSE: 0.0346\n",
      "Time: 58.56152009963989\n",
      "---------------------------------------- 0.3\n",
      "graphs_train shape: 11132 graphs_train[0] shape: Data(x=[46, 277], edge_index=[2, 1], y=0.932)\n",
      "graphs_test shape: 312 graphs_test[0] shape: Data(x=[46, 277], edge_index=[2, 1], y=0.6887437185929649)\n"
     ]
    },
    {
     "name": "stderr",
     "output_type": "stream",
     "text": [
      "/Users/haox/opt/anaconda3/lib/python3.8/site-packages/torch_geometric/deprecation.py:13: UserWarning: 'data.DataLoader' is deprecated, use 'loader.DataLoader' instead\n",
      "  warnings.warn(out)\n"
     ]
    },
    {
     "name": "stdout",
     "output_type": "stream",
     "text": [
      "Epoch: 009, Train MAE: 0.1449, Train MSE: 0.0355\n",
      "Epoch: 009, Test MAE: 0.1646, Test MSE: 0.0311\n",
      "Time: 59.891782999038696\n",
      "---------------------------------------- 0.35000000000000003\n",
      "++++++++++++++++++++++++++++++\n",
      "credit-g_MF+GIN_0.3 credit-g_MF+GIN_0.35\n",
      "36 36\n",
      "---------------------------------------- 0.4\n",
      "graphs_train shape: 11251 graphs_train[0] shape: Data(x=[46, 277], edge_index=[2, 1], y=0.932)\n",
      "graphs_test shape: 312 graphs_test[0] shape: Data(x=[46, 277], edge_index=[2, 1], y=0.6887437185929649)\n"
     ]
    },
    {
     "name": "stderr",
     "output_type": "stream",
     "text": [
      "/Users/haox/opt/anaconda3/lib/python3.8/site-packages/torch_geometric/deprecation.py:13: UserWarning: 'data.DataLoader' is deprecated, use 'loader.DataLoader' instead\n",
      "  warnings.warn(out)\n"
     ]
    },
    {
     "name": "stdout",
     "output_type": "stream",
     "text": [
      "Epoch: 009, Train MAE: 0.3761, Train MSE: 0.4648\n",
      "Epoch: 009, Test MAE: 0.1189, Test MSE: 0.0181\n",
      "Time: 62.912452936172485\n",
      "---------------------------------------- 0.45\n",
      "++++++++++++++++++++++++++++++\n",
      "credit-g_MF+GIN_0.4 credit-g_MF+GIN_0.45\n",
      "37 37\n",
      "========================================\n",
      "14 dilbert\n",
      "---------------------------------------- 0.05\n",
      "graphs_train shape: 2564 graphs_train[0] shape: Data(x=[46, 277], edge_index=[2, 1], y=0.7858106644900136)\n",
      "graphs_test shape: 265 graphs_test[0] shape: Data(x=[46, 277], edge_index=[2, 1], y=0.5965)\n"
     ]
    },
    {
     "name": "stderr",
     "output_type": "stream",
     "text": [
      "/Users/haox/opt/anaconda3/lib/python3.8/site-packages/torch_geometric/deprecation.py:13: UserWarning: 'data.DataLoader' is deprecated, use 'loader.DataLoader' instead\n",
      "  warnings.warn(out)\n"
     ]
    },
    {
     "name": "stdout",
     "output_type": "stream",
     "text": [
      "Epoch: 009, Train MAE: 0.0681, Train MSE: 0.0069\n",
      "Epoch: 009, Test MAE: 0.0553, Test MSE: 0.0096\n",
      "Time: 13.547311305999756\n",
      "---------------------------------------- 0.1\n",
      "graphs_train shape: 6099 graphs_train[0] shape: Data(x=[46, 277], edge_index=[2, 1], y=0.932)\n",
      "graphs_test shape: 265 graphs_test[0] shape: Data(x=[46, 277], edge_index=[2, 1], y=0.5965)\n"
     ]
    },
    {
     "name": "stderr",
     "output_type": "stream",
     "text": [
      "/Users/haox/opt/anaconda3/lib/python3.8/site-packages/torch_geometric/deprecation.py:13: UserWarning: 'data.DataLoader' is deprecated, use 'loader.DataLoader' instead\n",
      "  warnings.warn(out)\n"
     ]
    },
    {
     "name": "stdout",
     "output_type": "stream",
     "text": [
      "Epoch: 009, Train MAE: 0.1037, Train MSE: 0.0158\n",
      "Epoch: 009, Test MAE: 0.1060, Test MSE: 0.0132\n",
      "Time: 33.377037048339844\n",
      "---------------------------------------- 0.15000000000000002\n",
      "graphs_train shape: 6425 graphs_train[0] shape: Data(x=[46, 277], edge_index=[2, 1], y=0.932)\n",
      "graphs_test shape: 265 graphs_test[0] shape: Data(x=[46, 277], edge_index=[2, 1], y=0.5965)\n"
     ]
    },
    {
     "name": "stderr",
     "output_type": "stream",
     "text": [
      "/Users/haox/opt/anaconda3/lib/python3.8/site-packages/torch_geometric/deprecation.py:13: UserWarning: 'data.DataLoader' is deprecated, use 'loader.DataLoader' instead\n",
      "  warnings.warn(out)\n"
     ]
    },
    {
     "name": "stdout",
     "output_type": "stream",
     "text": [
      "Epoch: 009, Train MAE: 0.0740, Train MSE: 0.0109\n",
      "Epoch: 009, Test MAE: 0.0717, Test MSE: 0.0086\n",
      "Time: 32.99802803993225\n",
      "---------------------------------------- 0.2\n",
      "graphs_train shape: 7408 graphs_train[0] shape: Data(x=[46, 277], edge_index=[2, 1], y=0.932)\n",
      "graphs_test shape: 265 graphs_test[0] shape: Data(x=[46, 277], edge_index=[2, 1], y=0.5965)\n"
     ]
    },
    {
     "name": "stderr",
     "output_type": "stream",
     "text": [
      "/Users/haox/opt/anaconda3/lib/python3.8/site-packages/torch_geometric/deprecation.py:13: UserWarning: 'data.DataLoader' is deprecated, use 'loader.DataLoader' instead\n",
      "  warnings.warn(out)\n"
     ]
    },
    {
     "name": "stdout",
     "output_type": "stream",
     "text": [
      "Epoch: 009, Train MAE: 0.1418, Train MSE: 0.0396\n",
      "Epoch: 009, Test MAE: 0.1321, Test MSE: 0.0256\n",
      "Time: 36.8237669467926\n",
      "---------------------------------------- 0.25\n",
      "graphs_train shape: 8820 graphs_train[0] shape: Data(x=[46, 277], edge_index=[2, 1], y=0.932)\n",
      "graphs_test shape: 265 graphs_test[0] shape: Data(x=[46, 277], edge_index=[2, 1], y=0.5965)\n"
     ]
    },
    {
     "name": "stderr",
     "output_type": "stream",
     "text": [
      "/Users/haox/opt/anaconda3/lib/python3.8/site-packages/torch_geometric/deprecation.py:13: UserWarning: 'data.DataLoader' is deprecated, use 'loader.DataLoader' instead\n",
      "  warnings.warn(out)\n"
     ]
    },
    {
     "name": "stdout",
     "output_type": "stream",
     "text": [
      "Epoch: 009, Train MAE: 0.1081, Train MSE: 0.0216\n",
      "Epoch: 009, Test MAE: 0.0843, Test MSE: 0.0096\n",
      "Time: 44.8342080116272\n",
      "---------------------------------------- 0.3\n",
      "graphs_train shape: 9051 graphs_train[0] shape: Data(x=[46, 277], edge_index=[2, 1], y=0.932)\n",
      "graphs_test shape: 265 graphs_test[0] shape: Data(x=[46, 277], edge_index=[2, 1], y=0.5965)\n"
     ]
    },
    {
     "name": "stderr",
     "output_type": "stream",
     "text": [
      "/Users/haox/opt/anaconda3/lib/python3.8/site-packages/torch_geometric/deprecation.py:13: UserWarning: 'data.DataLoader' is deprecated, use 'loader.DataLoader' instead\n",
      "  warnings.warn(out)\n"
     ]
    },
    {
     "name": "stdout",
     "output_type": "stream",
     "text": [
      "Epoch: 009, Train MAE: 0.1357, Train MSE: 0.0396\n",
      "Epoch: 009, Test MAE: 0.0557, Test MSE: 0.0092\n",
      "Time: 45.61674880981445\n",
      "---------------------------------------- 0.35000000000000003\n",
      "graphs_train shape: 10234 graphs_train[0] shape: Data(x=[46, 277], edge_index=[2, 1], y=0.932)\n",
      "graphs_test shape: 265 graphs_test[0] shape: Data(x=[46, 277], edge_index=[2, 1], y=0.5965)\n"
     ]
    },
    {
     "name": "stderr",
     "output_type": "stream",
     "text": [
      "/Users/haox/opt/anaconda3/lib/python3.8/site-packages/torch_geometric/deprecation.py:13: UserWarning: 'data.DataLoader' is deprecated, use 'loader.DataLoader' instead\n",
      "  warnings.warn(out)\n"
     ]
    },
    {
     "name": "stdout",
     "output_type": "stream",
     "text": [
      "Epoch: 009, Train MAE: 0.1326, Train MSE: 0.0310\n",
      "Epoch: 009, Test MAE: 0.0823, Test MSE: 0.0094\n",
      "Time: 52.29067897796631\n",
      "---------------------------------------- 0.4\n",
      "graphs_train shape: 10836 graphs_train[0] shape: Data(x=[46, 277], edge_index=[2, 1], y=0.932)\n",
      "graphs_test shape: 265 graphs_test[0] shape: Data(x=[46, 277], edge_index=[2, 1], y=0.5965)\n"
     ]
    },
    {
     "name": "stderr",
     "output_type": "stream",
     "text": [
      "/Users/haox/opt/anaconda3/lib/python3.8/site-packages/torch_geometric/deprecation.py:13: UserWarning: 'data.DataLoader' is deprecated, use 'loader.DataLoader' instead\n",
      "  warnings.warn(out)\n"
     ]
    },
    {
     "name": "stdout",
     "output_type": "stream",
     "text": [
      "Epoch: 009, Train MAE: 0.1412, Train MSE: 0.0339\n",
      "Epoch: 009, Test MAE: 0.0825, Test MSE: 0.0094\n",
      "Time: 54.22575402259827\n",
      "---------------------------------------- 0.45\n",
      "graphs_train shape: 11179 graphs_train[0] shape: Data(x=[46, 277], edge_index=[2, 1], y=0.932)\n",
      "graphs_test shape: 265 graphs_test[0] shape: Data(x=[46, 277], edge_index=[2, 1], y=0.5965)\n"
     ]
    },
    {
     "name": "stderr",
     "output_type": "stream",
     "text": [
      "/Users/haox/opt/anaconda3/lib/python3.8/site-packages/torch_geometric/deprecation.py:13: UserWarning: 'data.DataLoader' is deprecated, use 'loader.DataLoader' instead\n",
      "  warnings.warn(out)\n"
     ]
    },
    {
     "name": "stdout",
     "output_type": "stream",
     "text": [
      "Epoch: 009, Train MAE: 0.1480, Train MSE: 0.0369\n",
      "Epoch: 009, Test MAE: 0.0820, Test MSE: 0.0094\n",
      "Time: 58.07439708709717\n",
      "========================================\n",
      "15 dionis\n",
      "---------------------------------------- 0.05\n",
      "graphs_train shape: 1898 graphs_train[0] shape: Data(x=[46, 277], edge_index=[2, 1], y=0.45183333333333336)\n",
      "graphs_test shape: 162 graphs_test[0] shape: Data(x=[46, 277], edge_index=[2, 1], y=0.48083333333333333)\n"
     ]
    },
    {
     "name": "stderr",
     "output_type": "stream",
     "text": [
      "/Users/haox/opt/anaconda3/lib/python3.8/site-packages/torch_geometric/deprecation.py:13: UserWarning: 'data.DataLoader' is deprecated, use 'loader.DataLoader' instead\n",
      "  warnings.warn(out)\n"
     ]
    },
    {
     "name": "stdout",
     "output_type": "stream",
     "text": [
      "Epoch: 009, Train MAE: 0.0577, Train MSE: 0.0091\n",
      "Epoch: 009, Test MAE: 0.2928, Test MSE: 0.1291\n",
      "Time: 10.31968879699707\n",
      "---------------------------------------- 0.1\n",
      "graphs_train shape: 3647 graphs_train[0] shape: Data(x=[46, 277], edge_index=[2, 1], y=0.45183333333333336)\n",
      "graphs_test shape: 162 graphs_test[0] shape: Data(x=[46, 277], edge_index=[2, 1], y=0.48083333333333333)\n"
     ]
    },
    {
     "name": "stderr",
     "output_type": "stream",
     "text": [
      "/Users/haox/opt/anaconda3/lib/python3.8/site-packages/torch_geometric/deprecation.py:13: UserWarning: 'data.DataLoader' is deprecated, use 'loader.DataLoader' instead\n",
      "  warnings.warn(out)\n"
     ]
    },
    {
     "name": "stdout",
     "output_type": "stream",
     "text": [
      "Epoch: 009, Train MAE: 0.1073, Train MSE: 0.0163\n",
      "Epoch: 009, Test MAE: 0.2105, Test MSE: 0.0715\n",
      "Time: 18.040688037872314\n",
      "---------------------------------------- 0.15000000000000002\n",
      "graphs_train shape: 5376 graphs_train[0] shape: Data(x=[46, 277], edge_index=[2, 1], y=0.45183333333333336)\n",
      "graphs_test shape: 162 graphs_test[0] shape: Data(x=[46, 277], edge_index=[2, 1], y=0.48083333333333333)\n"
     ]
    },
    {
     "name": "stderr",
     "output_type": "stream",
     "text": [
      "/Users/haox/opt/anaconda3/lib/python3.8/site-packages/torch_geometric/deprecation.py:13: UserWarning: 'data.DataLoader' is deprecated, use 'loader.DataLoader' instead\n",
      "  warnings.warn(out)\n"
     ]
    },
    {
     "name": "stdout",
     "output_type": "stream",
     "text": [
      "Epoch: 009, Train MAE: 0.0781, Train MSE: 0.0102\n",
      "Epoch: 009, Test MAE: 0.2310, Test MSE: 0.0872\n",
      "Time: 27.329410076141357\n",
      "---------------------------------------- 0.2\n",
      "graphs_train shape: 7311 graphs_train[0] shape: Data(x=[46, 277], edge_index=[2, 1], y=0.45183333333333336)\n",
      "graphs_test shape: 162 graphs_test[0] shape: Data(x=[46, 277], edge_index=[2, 1], y=0.48083333333333333)\n"
     ]
    },
    {
     "name": "stderr",
     "output_type": "stream",
     "text": [
      "/Users/haox/opt/anaconda3/lib/python3.8/site-packages/torch_geometric/deprecation.py:13: UserWarning: 'data.DataLoader' is deprecated, use 'loader.DataLoader' instead\n",
      "  warnings.warn(out)\n"
     ]
    },
    {
     "name": "stdout",
     "output_type": "stream",
     "text": [
      "Epoch: 009, Train MAE: 0.1518, Train MSE: 0.0370\n",
      "Epoch: 009, Test MAE: 0.4255, Test MSE: 0.2256\n",
      "Time: 36.957404136657715\n",
      "---------------------------------------- 0.25\n",
      "graphs_train shape: 8969 graphs_train[0] shape: Data(x=[46, 277], edge_index=[2, 1], y=0.45183333333333336)\n",
      "graphs_test shape: 162 graphs_test[0] shape: Data(x=[46, 277], edge_index=[2, 1], y=0.48083333333333333)\n"
     ]
    },
    {
     "name": "stderr",
     "output_type": "stream",
     "text": [
      "/Users/haox/opt/anaconda3/lib/python3.8/site-packages/torch_geometric/deprecation.py:13: UserWarning: 'data.DataLoader' is deprecated, use 'loader.DataLoader' instead\n",
      "  warnings.warn(out)\n"
     ]
    },
    {
     "name": "stdout",
     "output_type": "stream",
     "text": [
      "Epoch: 009, Train MAE: 0.1275, Train MSE: 0.0243\n",
      "Epoch: 009, Test MAE: 0.3656, Test MSE: 0.1782\n",
      "Time: 42.71198797225952\n",
      "---------------------------------------- 0.3\n",
      "graphs_train shape: 10920 graphs_train[0] shape: Data(x=[46, 277], edge_index=[2, 1], y=0.932)\n",
      "graphs_test shape: 162 graphs_test[0] shape: Data(x=[46, 277], edge_index=[2, 1], y=0.48083333333333333)\n"
     ]
    },
    {
     "name": "stderr",
     "output_type": "stream",
     "text": [
      "/Users/haox/opt/anaconda3/lib/python3.8/site-packages/torch_geometric/deprecation.py:13: UserWarning: 'data.DataLoader' is deprecated, use 'loader.DataLoader' instead\n",
      "  warnings.warn(out)\n"
     ]
    },
    {
     "name": "stdout",
     "output_type": "stream",
     "text": [
      "Epoch: 009, Train MAE: 0.1551, Train MSE: 0.0428\n",
      "Epoch: 009, Test MAE: 0.4493, Test MSE: 0.2464\n",
      "Time: 53.263386726379395\n",
      "---------------------------------------- 0.35000000000000003\n",
      "graphs_train shape: 11401 graphs_train[0] shape: Data(x=[46, 277], edge_index=[2, 1], y=0.932)\n",
      "graphs_test shape: 162 graphs_test[0] shape: Data(x=[46, 277], edge_index=[2, 1], y=0.48083333333333333)\n"
     ]
    },
    {
     "name": "stderr",
     "output_type": "stream",
     "text": [
      "/Users/haox/opt/anaconda3/lib/python3.8/site-packages/torch_geometric/deprecation.py:13: UserWarning: 'data.DataLoader' is deprecated, use 'loader.DataLoader' instead\n",
      "  warnings.warn(out)\n"
     ]
    },
    {
     "name": "stdout",
     "output_type": "stream",
     "text": [
      "Epoch: 009, Train MAE: 0.1463, Train MSE: 0.0360\n",
      "Epoch: 009, Test MAE: 0.4509, Test MSE: 0.2479\n",
      "Time: 55.047715187072754\n",
      "---------------------------------------- 0.4\n",
      "++++++++++++++++++++++++++++++\n",
      "dionis_MF+GIN_0.35 dionis_MF+GIN_0.4\n",
      "37 37\n",
      "---------------------------------------- 0.45\n",
      "graphs_train shape: 11635 graphs_train[0] shape: Data(x=[46, 277], edge_index=[2, 1], y=0.932)\n",
      "graphs_test shape: 162 graphs_test[0] shape: Data(x=[46, 277], edge_index=[2, 1], y=0.48083333333333333)\n"
     ]
    },
    {
     "name": "stderr",
     "output_type": "stream",
     "text": [
      "/Users/haox/opt/anaconda3/lib/python3.8/site-packages/torch_geometric/deprecation.py:13: UserWarning: 'data.DataLoader' is deprecated, use 'loader.DataLoader' instead\n",
      "  warnings.warn(out)\n"
     ]
    },
    {
     "name": "stdout",
     "output_type": "stream",
     "text": [
      "Epoch: 009, Train MAE: 0.1559, Train MSE: 0.0434\n",
      "Epoch: 009, Test MAE: 0.4482, Test MSE: 0.2454\n",
      "Time: 57.69426774978638\n",
      "========================================\n",
      "16 fabert\n",
      "---------------------------------------- 0.05\n",
      "graphs_train shape: 1175 graphs_train[0] shape: Data(x=[46, 277], edge_index=[2, 1], y=0.5485)\n",
      "graphs_test shape: 239 graphs_test[0] shape: Data(x=[46, 277], edge_index=[2, 1], y=0.4831666666666667)\n"
     ]
    },
    {
     "name": "stderr",
     "output_type": "stream",
     "text": [
      "/Users/haox/opt/anaconda3/lib/python3.8/site-packages/torch_geometric/deprecation.py:13: UserWarning: 'data.DataLoader' is deprecated, use 'loader.DataLoader' instead\n",
      "  warnings.warn(out)\n"
     ]
    },
    {
     "name": "stdout",
     "output_type": "stream",
     "text": [
      "Epoch: 009, Train MAE: 0.0640, Train MSE: 0.0063\n",
      "Epoch: 009, Test MAE: 0.0872, Test MSE: 0.0085\n",
      "Time: 6.366815805435181\n",
      "---------------------------------------- 0.1\n",
      "graphs_train shape: 3189 graphs_train[0] shape: Data(x=[46, 277], edge_index=[2, 1], y=0.45183333333333336)\n",
      "graphs_test shape: 239 graphs_test[0] shape: Data(x=[46, 277], edge_index=[2, 1], y=0.4831666666666667)\n"
     ]
    },
    {
     "name": "stderr",
     "output_type": "stream",
     "text": [
      "/Users/haox/opt/anaconda3/lib/python3.8/site-packages/torch_geometric/deprecation.py:13: UserWarning: 'data.DataLoader' is deprecated, use 'loader.DataLoader' instead\n",
      "  warnings.warn(out)\n"
     ]
    },
    {
     "name": "stdout",
     "output_type": "stream",
     "text": [
      "Epoch: 009, Train MAE: 0.1036, Train MSE: 0.0171\n",
      "Epoch: 009, Test MAE: 0.1062, Test MSE: 0.0124\n",
      "Time: 15.984421014785767\n",
      "---------------------------------------- 0.15000000000000002\n",
      "graphs_train shape: 4515 graphs_train[0] shape: Data(x=[46, 277], edge_index=[2, 1], y=0.45183333333333336)\n",
      "graphs_test shape: 239 graphs_test[0] shape: Data(x=[46, 277], edge_index=[2, 1], y=0.4831666666666667)\n"
     ]
    },
    {
     "name": "stderr",
     "output_type": "stream",
     "text": [
      "/Users/haox/opt/anaconda3/lib/python3.8/site-packages/torch_geometric/deprecation.py:13: UserWarning: 'data.DataLoader' is deprecated, use 'loader.DataLoader' instead\n",
      "  warnings.warn(out)\n"
     ]
    },
    {
     "name": "stdout",
     "output_type": "stream",
     "text": [
      "Epoch: 009, Train MAE: 0.1802, Train MSE: 0.0463\n",
      "Epoch: 009, Test MAE: 0.1747, Test MSE: 0.0348\n",
      "Time: 22.2466459274292\n",
      "---------------------------------------- 0.2\n",
      "++++++++++++++++++++++++++++++\n",
      "fabert_MF+GIN_0.15 fabert_MF+GIN_0.2\n",
      "15 15\n",
      "---------------------------------------- 0.25\n",
      "graphs_train shape: 7034 graphs_train[0] shape: Data(x=[46, 277], edge_index=[2, 1], y=0.45183333333333336)\n",
      "graphs_test shape: 239 graphs_test[0] shape: Data(x=[46, 277], edge_index=[2, 1], y=0.4831666666666667)\n"
     ]
    },
    {
     "name": "stderr",
     "output_type": "stream",
     "text": [
      "/Users/haox/opt/anaconda3/lib/python3.8/site-packages/torch_geometric/deprecation.py:13: UserWarning: 'data.DataLoader' is deprecated, use 'loader.DataLoader' instead\n",
      "  warnings.warn(out)\n"
     ]
    },
    {
     "name": "stdout",
     "output_type": "stream",
     "text": [
      "Epoch: 009, Train MAE: 0.1245, Train MSE: 0.0259\n",
      "Epoch: 009, Test MAE: 0.1083, Test MSE: 0.0172\n",
      "Time: 34.19499707221985\n",
      "---------------------------------------- 0.3\n",
      "graphs_train shape: 8009 graphs_train[0] shape: Data(x=[46, 277], edge_index=[2, 1], y=0.45183333333333336)\n",
      "graphs_test shape: 239 graphs_test[0] shape: Data(x=[46, 277], edge_index=[2, 1], y=0.4831666666666667)\n"
     ]
    },
    {
     "name": "stderr",
     "output_type": "stream",
     "text": [
      "/Users/haox/opt/anaconda3/lib/python3.8/site-packages/torch_geometric/deprecation.py:13: UserWarning: 'data.DataLoader' is deprecated, use 'loader.DataLoader' instead\n",
      "  warnings.warn(out)\n"
     ]
    },
    {
     "name": "stdout",
     "output_type": "stream",
     "text": [
      "Epoch: 009, Train MAE: 0.1828, Train MSE: 0.0687\n",
      "Epoch: 009, Test MAE: 0.1294, Test MSE: 0.0222\n",
      "Time: 40.47087001800537\n",
      "---------------------------------------- 0.35000000000000003\n",
      "graphs_train shape: 9778 graphs_train[0] shape: Data(x=[46, 277], edge_index=[2, 1], y=0.45183333333333336)\n",
      "graphs_test shape: 239 graphs_test[0] shape: Data(x=[46, 277], edge_index=[2, 1], y=0.4831666666666667)\n"
     ]
    },
    {
     "name": "stderr",
     "output_type": "stream",
     "text": [
      "/Users/haox/opt/anaconda3/lib/python3.8/site-packages/torch_geometric/deprecation.py:13: UserWarning: 'data.DataLoader' is deprecated, use 'loader.DataLoader' instead\n",
      "  warnings.warn(out)\n"
     ]
    },
    {
     "name": "stdout",
     "output_type": "stream",
     "text": [
      "Epoch: 009, Train MAE: 0.1552, Train MSE: 0.0416\n",
      "Epoch: 009, Test MAE: 0.1721, Test MSE: 0.0351\n",
      "Time: 46.968883991241455\n",
      "---------------------------------------- 0.4\n",
      "graphs_train shape: 11558 graphs_train[0] shape: Data(x=[46, 277], edge_index=[2, 1], y=0.932)\n",
      "graphs_test shape: 239 graphs_test[0] shape: Data(x=[46, 277], edge_index=[2, 1], y=0.4831666666666667)\n"
     ]
    },
    {
     "name": "stderr",
     "output_type": "stream",
     "text": [
      "/Users/haox/opt/anaconda3/lib/python3.8/site-packages/torch_geometric/deprecation.py:13: UserWarning: 'data.DataLoader' is deprecated, use 'loader.DataLoader' instead\n",
      "  warnings.warn(out)\n"
     ]
    },
    {
     "name": "stdout",
     "output_type": "stream",
     "text": [
      "Epoch: 009, Train MAE: 0.1681, Train MSE: 0.0538\n",
      "Epoch: 009, Test MAE: 0.2716, Test MSE: 0.0793\n",
      "Time: 57.39026093482971\n",
      "---------------------------------------- 0.45\n",
      "++++++++++++++++++++++++++++++\n",
      "fabert_MF+GIN_0.4 fabert_MF+GIN_0.45\n",
      "38 38\n",
      "========================================\n",
      "17 fashion_mnist\n",
      "---------------------------------------- 0.05\n",
      "graphs_train shape: 2167 graphs_train[0] shape: Data(x=[46, 277], edge_index=[2, 1], y=0.7552428795420986)\n",
      "graphs_test shape: 233 graphs_test[0] shape: Data(x=[46, 277], edge_index=[2, 1], y=0.5173333333333334)\n"
     ]
    },
    {
     "name": "stderr",
     "output_type": "stream",
     "text": [
      "/Users/haox/opt/anaconda3/lib/python3.8/site-packages/torch_geometric/deprecation.py:13: UserWarning: 'data.DataLoader' is deprecated, use 'loader.DataLoader' instead\n",
      "  warnings.warn(out)\n"
     ]
    },
    {
     "name": "stdout",
     "output_type": "stream",
     "text": [
      "Epoch: 009, Train MAE: 0.0502, Train MSE: 0.0082\n",
      "Epoch: 009, Test MAE: 0.0958, Test MSE: 0.0193\n",
      "Time: 11.134767293930054\n",
      "---------------------------------------- 0.1\n",
      "graphs_train shape: 4787 graphs_train[0] shape: Data(x=[46, 277], edge_index=[2, 1], y=0.7552428795420986)\n",
      "graphs_test shape: 233 graphs_test[0] shape: Data(x=[46, 277], edge_index=[2, 1], y=0.5173333333333334)\n"
     ]
    },
    {
     "name": "stderr",
     "output_type": "stream",
     "text": [
      "/Users/haox/opt/anaconda3/lib/python3.8/site-packages/torch_geometric/deprecation.py:13: UserWarning: 'data.DataLoader' is deprecated, use 'loader.DataLoader' instead\n",
      "  warnings.warn(out)\n"
     ]
    },
    {
     "name": "stdout",
     "output_type": "stream",
     "text": [
      "Epoch: 009, Train MAE: 0.0790, Train MSE: 0.0099\n",
      "Epoch: 009, Test MAE: 0.0873, Test MSE: 0.0177\n",
      "Time: 24.08353877067566\n",
      "---------------------------------------- 0.15000000000000002\n",
      "graphs_train shape: 7808 graphs_train[0] shape: Data(x=[46, 277], edge_index=[2, 1], y=0.932)\n",
      "graphs_test shape: 233 graphs_test[0] shape: Data(x=[46, 277], edge_index=[2, 1], y=0.5173333333333334)\n"
     ]
    },
    {
     "name": "stderr",
     "output_type": "stream",
     "text": [
      "/Users/haox/opt/anaconda3/lib/python3.8/site-packages/torch_geometric/deprecation.py:13: UserWarning: 'data.DataLoader' is deprecated, use 'loader.DataLoader' instead\n",
      "  warnings.warn(out)\n"
     ]
    },
    {
     "name": "stdout",
     "output_type": "stream",
     "text": [
      "Epoch: 009, Train MAE: 0.1038, Train MSE: 0.0208\n",
      "Epoch: 009, Test MAE: 0.0950, Test MSE: 0.0191\n",
      "Time: 41.009891986846924\n",
      "---------------------------------------- 0.2\n",
      "graphs_train shape: 8852 graphs_train[0] shape: Data(x=[46, 277], edge_index=[2, 1], y=0.932)\n",
      "graphs_test shape: 233 graphs_test[0] shape: Data(x=[46, 277], edge_index=[2, 1], y=0.5173333333333334)\n"
     ]
    },
    {
     "name": "stderr",
     "output_type": "stream",
     "text": [
      "/Users/haox/opt/anaconda3/lib/python3.8/site-packages/torch_geometric/deprecation.py:13: UserWarning: 'data.DataLoader' is deprecated, use 'loader.DataLoader' instead\n",
      "  warnings.warn(out)\n"
     ]
    },
    {
     "name": "stdout",
     "output_type": "stream",
     "text": [
      "Epoch: 009, Train MAE: 0.1364, Train MSE: 0.0485\n",
      "Epoch: 009, Test MAE: 0.1582, Test MSE: 0.0351\n",
      "Time: 45.2348370552063\n",
      "---------------------------------------- 0.25\n",
      "graphs_train shape: 10266 graphs_train[0] shape: Data(x=[46, 277], edge_index=[2, 1], y=0.932)\n",
      "graphs_test shape: 233 graphs_test[0] shape: Data(x=[46, 277], edge_index=[2, 1], y=0.5173333333333334)\n"
     ]
    },
    {
     "name": "stderr",
     "output_type": "stream",
     "text": [
      "/Users/haox/opt/anaconda3/lib/python3.8/site-packages/torch_geometric/deprecation.py:13: UserWarning: 'data.DataLoader' is deprecated, use 'loader.DataLoader' instead\n",
      "  warnings.warn(out)\n"
     ]
    },
    {
     "name": "stdout",
     "output_type": "stream",
     "text": [
      "Epoch: 009, Train MAE: 0.1310, Train MSE: 0.0295\n",
      "Epoch: 009, Test MAE: 0.0988, Test MSE: 0.0198\n",
      "Time: 51.26551079750061\n",
      "---------------------------------------- 0.3\n",
      "graphs_train shape: 10868 graphs_train[0] shape: Data(x=[46, 277], edge_index=[2, 1], y=0.932)\n",
      "graphs_test shape: 233 graphs_test[0] shape: Data(x=[46, 277], edge_index=[2, 1], y=0.5173333333333334)\n"
     ]
    },
    {
     "name": "stderr",
     "output_type": "stream",
     "text": [
      "/Users/haox/opt/anaconda3/lib/python3.8/site-packages/torch_geometric/deprecation.py:13: UserWarning: 'data.DataLoader' is deprecated, use 'loader.DataLoader' instead\n",
      "  warnings.warn(out)\n"
     ]
    },
    {
     "name": "stdout",
     "output_type": "stream",
     "text": [
      "Epoch: 009, Train MAE: 0.1401, Train MSE: 0.0332\n",
      "Epoch: 009, Test MAE: 0.1062, Test MSE: 0.0214\n",
      "Time: 54.41470813751221\n",
      "---------------------------------------- 0.35000000000000003\n",
      "graphs_train shape: 11211 graphs_train[0] shape: Data(x=[46, 277], edge_index=[2, 1], y=0.932)\n",
      "graphs_test shape: 233 graphs_test[0] shape: Data(x=[46, 277], edge_index=[2, 1], y=0.5173333333333334)\n"
     ]
    },
    {
     "name": "stderr",
     "output_type": "stream",
     "text": [
      "/Users/haox/opt/anaconda3/lib/python3.8/site-packages/torch_geometric/deprecation.py:13: UserWarning: 'data.DataLoader' is deprecated, use 'loader.DataLoader' instead\n",
      "  warnings.warn(out)\n"
     ]
    },
    {
     "name": "stdout",
     "output_type": "stream",
     "text": [
      "Epoch: 009, Train MAE: 0.1464, Train MSE: 0.0358\n",
      "Epoch: 009, Test MAE: 0.1046, Test MSE: 0.0210\n",
      "Time: 60.35896110534668\n",
      "---------------------------------------- 0.4\n",
      "++++++++++++++++++++++++++++++\n",
      "fashion_mnist_MF+GIN_0.35 fashion_mnist_MF+GIN_0.4\n",
      "36 36\n",
      "---------------------------------------- 0.45\n",
      "++++++++++++++++++++++++++++++\n",
      "fashion_mnist_MF+GIN_0.4 fashion_mnist_MF+GIN_0.45\n",
      "36 36\n",
      "========================================\n",
      "18 guillermo\n",
      "---------------------------------------- 0.05\n",
      "graphs_train shape: 1183 graphs_train[0] shape: Data(x=[46, 277], edge_index=[2, 1], y=0.48116666666666663)\n",
      "graphs_test shape: 231 graphs_test[0] shape: Data(x=[46, 277], edge_index=[2, 1], y=0.5485)\n"
     ]
    },
    {
     "name": "stderr",
     "output_type": "stream",
     "text": [
      "/Users/haox/opt/anaconda3/lib/python3.8/site-packages/torch_geometric/deprecation.py:13: UserWarning: 'data.DataLoader' is deprecated, use 'loader.DataLoader' instead\n",
      "  warnings.warn(out)\n"
     ]
    },
    {
     "name": "stdout",
     "output_type": "stream",
     "text": [
      "Epoch: 009, Train MAE: 0.0890, Train MSE: 0.0129\n",
      "Epoch: 009, Test MAE: 0.0511, Test MSE: 0.0046\n",
      "Time: 5.850677967071533\n",
      "---------------------------------------- 0.1\n",
      "graphs_train shape: 3197 graphs_train[0] shape: Data(x=[46, 277], edge_index=[2, 1], y=0.45183333333333336)\n",
      "graphs_test shape: 231 graphs_test[0] shape: Data(x=[46, 277], edge_index=[2, 1], y=0.5485)\n"
     ]
    },
    {
     "name": "stderr",
     "output_type": "stream",
     "text": [
      "/Users/haox/opt/anaconda3/lib/python3.8/site-packages/torch_geometric/deprecation.py:13: UserWarning: 'data.DataLoader' is deprecated, use 'loader.DataLoader' instead\n",
      "  warnings.warn(out)\n"
     ]
    },
    {
     "name": "stdout",
     "output_type": "stream",
     "text": [
      "Epoch: 009, Train MAE: 0.0857, Train MSE: 0.0133\n",
      "Epoch: 009, Test MAE: 0.0825, Test MSE: 0.0093\n",
      "Time: 14.895907163619995\n",
      "---------------------------------------- 0.15000000000000002\n",
      "graphs_train shape: 4523 graphs_train[0] shape: Data(x=[46, 277], edge_index=[2, 1], y=0.45183333333333336)\n",
      "graphs_test shape: 231 graphs_test[0] shape: Data(x=[46, 277], edge_index=[2, 1], y=0.5485)\n"
     ]
    },
    {
     "name": "stderr",
     "output_type": "stream",
     "text": [
      "/Users/haox/opt/anaconda3/lib/python3.8/site-packages/torch_geometric/deprecation.py:13: UserWarning: 'data.DataLoader' is deprecated, use 'loader.DataLoader' instead\n",
      "  warnings.warn(out)\n"
     ]
    },
    {
     "name": "stdout",
     "output_type": "stream",
     "text": [
      "Epoch: 009, Train MAE: 0.1063, Train MSE: 0.0201\n",
      "Epoch: 009, Test MAE: 0.0532, Test MSE: 0.0039\n",
      "Time: 22.076622009277344\n",
      "---------------------------------------- 0.2\n",
      "graphs_train shape: 5146 graphs_train[0] shape: Data(x=[46, 277], edge_index=[2, 1], y=0.45183333333333336)\n",
      "graphs_test shape: 231 graphs_test[0] shape: Data(x=[46, 277], edge_index=[2, 1], y=0.5485)\n"
     ]
    },
    {
     "name": "stderr",
     "output_type": "stream",
     "text": [
      "/Users/haox/opt/anaconda3/lib/python3.8/site-packages/torch_geometric/deprecation.py:13: UserWarning: 'data.DataLoader' is deprecated, use 'loader.DataLoader' instead\n",
      "  warnings.warn(out)\n"
     ]
    },
    {
     "name": "stdout",
     "output_type": "stream",
     "text": [
      "Epoch: 009, Train MAE: 0.1060, Train MSE: 0.0174\n",
      "Epoch: 009, Test MAE: 0.0899, Test MSE: 0.0111\n",
      "Time: 25.57810401916504\n",
      "---------------------------------------- 0.25\n",
      "graphs_train shape: 7042 graphs_train[0] shape: Data(x=[46, 277], edge_index=[2, 1], y=0.45183333333333336)\n",
      "graphs_test shape: 231 graphs_test[0] shape: Data(x=[46, 277], edge_index=[2, 1], y=0.5485)\n"
     ]
    },
    {
     "name": "stderr",
     "output_type": "stream",
     "text": [
      "/Users/haox/opt/anaconda3/lib/python3.8/site-packages/torch_geometric/deprecation.py:13: UserWarning: 'data.DataLoader' is deprecated, use 'loader.DataLoader' instead\n",
      "  warnings.warn(out)\n"
     ]
    },
    {
     "name": "stdout",
     "output_type": "stream",
     "text": [
      "Epoch: 009, Train MAE: 0.1609, Train MSE: 0.0533\n",
      "Epoch: 009, Test MAE: 0.0656, Test MSE: 0.0070\n",
      "Time: 34.29965329170227\n",
      "---------------------------------------- 0.3\n",
      "graphs_train shape: 8282 graphs_train[0] shape: Data(x=[46, 277], edge_index=[2, 1], y=0.45183333333333336)\n",
      "graphs_test shape: 231 graphs_test[0] shape: Data(x=[46, 277], edge_index=[2, 1], y=0.5485)\n"
     ]
    },
    {
     "name": "stderr",
     "output_type": "stream",
     "text": [
      "/Users/haox/opt/anaconda3/lib/python3.8/site-packages/torch_geometric/deprecation.py:13: UserWarning: 'data.DataLoader' is deprecated, use 'loader.DataLoader' instead\n",
      "  warnings.warn(out)\n"
     ]
    },
    {
     "name": "stdout",
     "output_type": "stream",
     "text": [
      "Epoch: 009, Train MAE: 0.1311, Train MSE: 0.0261\n",
      "Epoch: 009, Test MAE: 0.0918, Test MSE: 0.0117\n",
      "Time: 39.641340255737305\n",
      "---------------------------------------- 0.35000000000000003\n",
      "graphs_train shape: 9871 graphs_train[0] shape: Data(x=[46, 277], edge_index=[2, 1], y=0.45183333333333336)\n",
      "graphs_test shape: 231 graphs_test[0] shape: Data(x=[46, 277], edge_index=[2, 1], y=0.5485)\n"
     ]
    },
    {
     "name": "stderr",
     "output_type": "stream",
     "text": [
      "/Users/haox/opt/anaconda3/lib/python3.8/site-packages/torch_geometric/deprecation.py:13: UserWarning: 'data.DataLoader' is deprecated, use 'loader.DataLoader' instead\n",
      "  warnings.warn(out)\n"
     ]
    },
    {
     "name": "stdout",
     "output_type": "stream",
     "text": [
      "Epoch: 009, Train MAE: 0.1419, Train MSE: 0.0333\n",
      "Epoch: 009, Test MAE: 0.1909, Test MSE: 0.0401\n",
      "Time: 47.604851961135864\n",
      "---------------------------------------- 0.4\n",
      "graphs_train shape: 11566 graphs_train[0] shape: Data(x=[46, 277], edge_index=[2, 1], y=0.932)\n",
      "graphs_test shape: 231 graphs_test[0] shape: Data(x=[46, 277], edge_index=[2, 1], y=0.5485)\n"
     ]
    },
    {
     "name": "stderr",
     "output_type": "stream",
     "text": [
      "/Users/haox/opt/anaconda3/lib/python3.8/site-packages/torch_geometric/deprecation.py:13: UserWarning: 'data.DataLoader' is deprecated, use 'loader.DataLoader' instead\n",
      "  warnings.warn(out)\n"
     ]
    },
    {
     "name": "stdout",
     "output_type": "stream",
     "text": [
      "Epoch: 009, Train MAE: 0.3133, Train MSE: 0.2756\n",
      "Epoch: 009, Test MAE: 0.3378, Test MSE: 0.1177\n",
      "Time: 56.99878978729248\n",
      "---------------------------------------- 0.45\n",
      "++++++++++++++++++++++++++++++\n",
      "guillermo_MF+GIN_0.4 guillermo_MF+GIN_0.45\n",
      "38 38\n",
      "========================================\n",
      "19 helena\n",
      "---------------------------------------- 0.05\n",
      "---------------------------------------- 0.1\n",
      "---------------------------------------- 0.15000000000000002\n",
      "graphs_train shape: 119 graphs_train[0] shape: Data(x=[46, 277], edge_index=[2, 1], y=0.36366666666666664)\n",
      "graphs_test shape: 234 graphs_test[0] shape: Data(x=[46, 277], edge_index=[2, 1], y=0.19849999999999998)\n"
     ]
    },
    {
     "name": "stderr",
     "output_type": "stream",
     "text": [
      "/Users/haox/opt/anaconda3/lib/python3.8/site-packages/torch_geometric/deprecation.py:13: UserWarning: 'data.DataLoader' is deprecated, use 'loader.DataLoader' instead\n",
      "  warnings.warn(out)\n"
     ]
    },
    {
     "name": "stdout",
     "output_type": "stream",
     "text": [
      "Epoch: 009, Train MAE: 0.0599, Train MSE: 0.0064\n",
      "Epoch: 009, Test MAE: 0.1380, Test MSE: 0.0239\n",
      "Time: 1.1801271438598633\n",
      "---------------------------------------- 0.2\n",
      "++++++++++++++++++++++++++++++\n",
      "helena_MF+GIN_0.15 helena_MF+GIN_0.2\n",
      "1 1\n",
      "---------------------------------------- 0.25\n",
      "graphs_train shape: 462 graphs_train[0] shape: Data(x=[46, 277], edge_index=[2, 1], y=0.518)\n",
      "graphs_test shape: 234 graphs_test[0] shape: Data(x=[46, 277], edge_index=[2, 1], y=0.19849999999999998)\n"
     ]
    },
    {
     "name": "stderr",
     "output_type": "stream",
     "text": [
      "/Users/haox/opt/anaconda3/lib/python3.8/site-packages/torch_geometric/deprecation.py:13: UserWarning: 'data.DataLoader' is deprecated, use 'loader.DataLoader' instead\n",
      "  warnings.warn(out)\n"
     ]
    },
    {
     "name": "stdout",
     "output_type": "stream",
     "text": [
      "Epoch: 009, Train MAE: 0.0729, Train MSE: 0.0061\n",
      "Epoch: 009, Test MAE: 0.3345, Test MSE: 0.1166\n",
      "Time: 3.1046457290649414\n",
      "---------------------------------------- 0.3\n",
      "graphs_train shape: 1064 graphs_train[0] shape: Data(x=[46, 277], edge_index=[2, 1], y=0.589)\n",
      "graphs_test shape: 234 graphs_test[0] shape: Data(x=[46, 277], edge_index=[2, 1], y=0.19849999999999998)\n"
     ]
    },
    {
     "name": "stderr",
     "output_type": "stream",
     "text": [
      "/Users/haox/opt/anaconda3/lib/python3.8/site-packages/torch_geometric/deprecation.py:13: UserWarning: 'data.DataLoader' is deprecated, use 'loader.DataLoader' instead\n",
      "  warnings.warn(out)\n"
     ]
    },
    {
     "name": "stdout",
     "output_type": "stream",
     "text": [
      "Epoch: 009, Train MAE: 0.0833, Train MSE: 0.0134\n",
      "Epoch: 009, Test MAE: 0.2898, Test MSE: 0.0888\n",
      "Time: 5.755130052566528\n",
      "---------------------------------------- 0.35000000000000003\n",
      "graphs_train shape: 2247 graphs_train[0] shape: Data(x=[46, 277], edge_index=[2, 1], y=0.589)\n",
      "graphs_test shape: 234 graphs_test[0] shape: Data(x=[46, 277], edge_index=[2, 1], y=0.19849999999999998)\n"
     ]
    },
    {
     "name": "stderr",
     "output_type": "stream",
     "text": [
      "/Users/haox/opt/anaconda3/lib/python3.8/site-packages/torch_geometric/deprecation.py:13: UserWarning: 'data.DataLoader' is deprecated, use 'loader.DataLoader' instead\n",
      "  warnings.warn(out)\n"
     ]
    },
    {
     "name": "stdout",
     "output_type": "stream",
     "text": [
      "Epoch: 009, Train MAE: 0.0726, Train MSE: 0.0103\n",
      "Epoch: 009, Test MAE: 0.3827, Test MSE: 0.1513\n",
      "Time: 11.968715190887451\n",
      "---------------------------------------- 0.4\n",
      "graphs_train shape: 2478 graphs_train[0] shape: Data(x=[46, 277], edge_index=[2, 1], y=0.5485)\n",
      "graphs_test shape: 234 graphs_test[0] shape: Data(x=[46, 277], edge_index=[2, 1], y=0.19849999999999998)\n"
     ]
    },
    {
     "name": "stderr",
     "output_type": "stream",
     "text": [
      "/Users/haox/opt/anaconda3/lib/python3.8/site-packages/torch_geometric/deprecation.py:13: UserWarning: 'data.DataLoader' is deprecated, use 'loader.DataLoader' instead\n",
      "  warnings.warn(out)\n"
     ]
    },
    {
     "name": "stdout",
     "output_type": "stream",
     "text": [
      "Epoch: 009, Train MAE: 0.1038, Train MSE: 0.0147\n",
      "Epoch: 009, Test MAE: 0.2517, Test MSE: 0.0682\n",
      "Time: 12.364703893661499\n",
      "---------------------------------------- 0.45\n",
      "graphs_train shape: 3890 graphs_train[0] shape: Data(x=[46, 277], edge_index=[2, 1], y=0.45183333333333336)\n",
      "graphs_test shape: 234 graphs_test[0] shape: Data(x=[46, 277], edge_index=[2, 1], y=0.19849999999999998)\n"
     ]
    },
    {
     "name": "stderr",
     "output_type": "stream",
     "text": [
      "/Users/haox/opt/anaconda3/lib/python3.8/site-packages/torch_geometric/deprecation.py:13: UserWarning: 'data.DataLoader' is deprecated, use 'loader.DataLoader' instead\n",
      "  warnings.warn(out)\n"
     ]
    },
    {
     "name": "stdout",
     "output_type": "stream",
     "text": [
      "Epoch: 009, Train MAE: 0.1116, Train MSE: 0.0192\n",
      "Epoch: 009, Test MAE: 0.3030, Test MSE: 0.0966\n",
      "Time: 19.730144023895264\n",
      "========================================\n",
      "20 higgs\n",
      "---------------------------------------- 0.05\n",
      "graphs_train shape: 1410 graphs_train[0] shape: Data(x=[46, 277], edge_index=[2, 1], y=0.5485)\n",
      "graphs_test shape: 285 graphs_test[0] shape: Data(x=[46, 277], edge_index=[2, 1], y=0.552)\n"
     ]
    },
    {
     "name": "stderr",
     "output_type": "stream",
     "text": [
      "/Users/haox/opt/anaconda3/lib/python3.8/site-packages/torch_geometric/deprecation.py:13: UserWarning: 'data.DataLoader' is deprecated, use 'loader.DataLoader' instead\n",
      "  warnings.warn(out)\n"
     ]
    },
    {
     "name": "stdout",
     "output_type": "stream",
     "text": [
      "Epoch: 009, Train MAE: 0.0809, Train MSE: 0.0090\n",
      "Epoch: 009, Test MAE: 0.0278, Test MSE: 0.0013\n",
      "Time: 8.418372869491577\n",
      "---------------------------------------- 0.1\n",
      "graphs_train shape: 2867 graphs_train[0] shape: Data(x=[46, 277], edge_index=[2, 1], y=0.4556213017751479)\n",
      "graphs_test shape: 285 graphs_test[0] shape: Data(x=[46, 277], edge_index=[2, 1], y=0.552)\n"
     ]
    },
    {
     "name": "stderr",
     "output_type": "stream",
     "text": [
      "/Users/haox/opt/anaconda3/lib/python3.8/site-packages/torch_geometric/deprecation.py:13: UserWarning: 'data.DataLoader' is deprecated, use 'loader.DataLoader' instead\n",
      "  warnings.warn(out)\n"
     ]
    },
    {
     "name": "stdout",
     "output_type": "stream",
     "text": [
      "Epoch: 009, Train MAE: 0.0897, Train MSE: 0.0137\n",
      "Epoch: 009, Test MAE: 0.0303, Test MSE: 0.0015\n",
      "Time: 15.278642177581787\n",
      "---------------------------------------- 0.15000000000000002\n",
      "graphs_train shape: 4469 graphs_train[0] shape: Data(x=[46, 277], edge_index=[2, 1], y=0.45183333333333336)\n",
      "graphs_test shape: 285 graphs_test[0] shape: Data(x=[46, 277], edge_index=[2, 1], y=0.552)\n"
     ]
    },
    {
     "name": "stderr",
     "output_type": "stream",
     "text": [
      "/Users/haox/opt/anaconda3/lib/python3.8/site-packages/torch_geometric/deprecation.py:13: UserWarning: 'data.DataLoader' is deprecated, use 'loader.DataLoader' instead\n",
      "  warnings.warn(out)\n"
     ]
    },
    {
     "name": "stdout",
     "output_type": "stream",
     "text": [
      "Epoch: 009, Train MAE: 0.1151, Train MSE: 0.0233\n",
      "Epoch: 009, Test MAE: 0.1597, Test MSE: 0.0268\n",
      "Time: 17.873820781707764\n",
      "---------------------------------------- 0.2\n",
      "++++++++++++++++++++++++++++++\n",
      "higgs_MF+GIN_0.15 higgs_MF+GIN_0.2\n",
      "15 15\n",
      "---------------------------------------- 0.25\n",
      "graphs_train shape: 6988 graphs_train[0] shape: Data(x=[46, 277], edge_index=[2, 1], y=0.45183333333333336)\n",
      "graphs_test shape: 285 graphs_test[0] shape: Data(x=[46, 277], edge_index=[2, 1], y=0.552)\n"
     ]
    },
    {
     "name": "stderr",
     "output_type": "stream",
     "text": [
      "/Users/haox/opt/anaconda3/lib/python3.8/site-packages/torch_geometric/deprecation.py:13: UserWarning: 'data.DataLoader' is deprecated, use 'loader.DataLoader' instead\n",
      "  warnings.warn(out)\n"
     ]
    },
    {
     "name": "stdout",
     "output_type": "stream",
     "text": [
      "Epoch: 009, Train MAE: 0.1251, Train MSE: 0.0273\n",
      "Epoch: 009, Test MAE: 0.1924, Test MSE: 0.0383\n",
      "Time: 25.334316730499268\n",
      "---------------------------------------- 0.3\n",
      "graphs_train shape: 7675 graphs_train[0] shape: Data(x=[46, 277], edge_index=[2, 1], y=0.45183333333333336)\n",
      "graphs_test shape: 285 graphs_test[0] shape: Data(x=[46, 277], edge_index=[2, 1], y=0.552)\n"
     ]
    },
    {
     "name": "stderr",
     "output_type": "stream",
     "text": [
      "/Users/haox/opt/anaconda3/lib/python3.8/site-packages/torch_geometric/deprecation.py:13: UserWarning: 'data.DataLoader' is deprecated, use 'loader.DataLoader' instead\n",
      "  warnings.warn(out)\n"
     ]
    },
    {
     "name": "stdout",
     "output_type": "stream",
     "text": [
      "Epoch: 009, Train MAE: 0.1318, Train MSE: 0.0319\n",
      "Epoch: 009, Test MAE: 0.1933, Test MSE: 0.0387\n",
      "Time: 22.90585494041443\n",
      "---------------------------------------- 0.35000000000000003\n",
      "graphs_train shape: 9515 graphs_train[0] shape: Data(x=[46, 277], edge_index=[2, 1], y=0.45183333333333336)\n",
      "graphs_test shape: 285 graphs_test[0] shape: Data(x=[46, 277], edge_index=[2, 1], y=0.552)\n"
     ]
    },
    {
     "name": "stderr",
     "output_type": "stream",
     "text": [
      "/Users/haox/opt/anaconda3/lib/python3.8/site-packages/torch_geometric/deprecation.py:13: UserWarning: 'data.DataLoader' is deprecated, use 'loader.DataLoader' instead\n",
      "  warnings.warn(out)\n"
     ]
    },
    {
     "name": "stdout",
     "output_type": "stream",
     "text": [
      "Epoch: 009, Train MAE: 0.1442, Train MSE: 0.0353\n",
      "Epoch: 009, Test MAE: 0.2101, Test MSE: 0.0454\n",
      "Time: 29.37256693840027\n",
      "---------------------------------------- 0.4\n",
      "graphs_train shape: 11512 graphs_train[0] shape: Data(x=[46, 277], edge_index=[2, 1], y=0.932)\n",
      "graphs_test shape: 285 graphs_test[0] shape: Data(x=[46, 277], edge_index=[2, 1], y=0.552)\n"
     ]
    },
    {
     "name": "stderr",
     "output_type": "stream",
     "text": [
      "/Users/haox/opt/anaconda3/lib/python3.8/site-packages/torch_geometric/deprecation.py:13: UserWarning: 'data.DataLoader' is deprecated, use 'loader.DataLoader' instead\n",
      "  warnings.warn(out)\n"
     ]
    },
    {
     "name": "stdout",
     "output_type": "stream",
     "text": [
      "Epoch: 009, Train MAE: 0.1746, Train MSE: 0.0554\n",
      "Epoch: 009, Test MAE: 0.3018, Test MSE: 0.0924\n",
      "Time: 35.72558283805847\n",
      "---------------------------------------- 0.45\n",
      "++++++++++++++++++++++++++++++\n",
      "higgs_MF+GIN_0.4 higgs_MF+GIN_0.45\n",
      "38 38\n",
      "========================================\n",
      "21 jannis\n",
      "---------------------------------------- 0.05\n",
      "graphs_train shape: 1112 graphs_train[0] shape: Data(x=[46, 277], edge_index=[2, 1], y=0.5485)\n",
      "graphs_test shape: 302 graphs_test[0] shape: Data(x=[46, 277], edge_index=[2, 1], y=0.48116666666666663)\n"
     ]
    },
    {
     "name": "stderr",
     "output_type": "stream",
     "text": [
      "/Users/haox/opt/anaconda3/lib/python3.8/site-packages/torch_geometric/deprecation.py:13: UserWarning: 'data.DataLoader' is deprecated, use 'loader.DataLoader' instead\n",
      "  warnings.warn(out)\n"
     ]
    },
    {
     "name": "stdout",
     "output_type": "stream",
     "text": [
      "Epoch: 009, Train MAE: 0.0689, Train MSE: 0.0070\n",
      "Epoch: 009, Test MAE: 0.0970, Test MSE: 0.0126\n",
      "Time: 3.8964240550994873\n",
      "---------------------------------------- 0.1\n",
      "graphs_train shape: 2850 graphs_train[0] shape: Data(x=[46, 277], edge_index=[2, 1], y=0.4556213017751479)\n",
      "graphs_test shape: 302 graphs_test[0] shape: Data(x=[46, 277], edge_index=[2, 1], y=0.48116666666666663)\n"
     ]
    },
    {
     "name": "stderr",
     "output_type": "stream",
     "text": [
      "/Users/haox/opt/anaconda3/lib/python3.8/site-packages/torch_geometric/deprecation.py:13: UserWarning: 'data.DataLoader' is deprecated, use 'loader.DataLoader' instead\n",
      "  warnings.warn(out)\n"
     ]
    },
    {
     "name": "stdout",
     "output_type": "stream",
     "text": [
      "Epoch: 009, Train MAE: 0.0834, Train MSE: 0.0123\n",
      "Epoch: 009, Test MAE: 0.0696, Test MSE: 0.0066\n",
      "Time: 9.44445514678955\n",
      "---------------------------------------- 0.15000000000000002\n",
      "graphs_train shape: 4452 graphs_train[0] shape: Data(x=[46, 277], edge_index=[2, 1], y=0.45183333333333336)\n",
      "graphs_test shape: 302 graphs_test[0] shape: Data(x=[46, 277], edge_index=[2, 1], y=0.48116666666666663)\n"
     ]
    },
    {
     "name": "stderr",
     "output_type": "stream",
     "text": [
      "/Users/haox/opt/anaconda3/lib/python3.8/site-packages/torch_geometric/deprecation.py:13: UserWarning: 'data.DataLoader' is deprecated, use 'loader.DataLoader' instead\n",
      "  warnings.warn(out)\n"
     ]
    },
    {
     "name": "stdout",
     "output_type": "stream",
     "text": [
      "Epoch: 009, Train MAE: 0.0968, Train MSE: 0.0158\n",
      "Epoch: 009, Test MAE: 0.0698, Test MSE: 0.0091\n",
      "Time: 14.39574408531189\n",
      "---------------------------------------- 0.2\n",
      "++++++++++++++++++++++++++++++\n",
      "jannis_MF+GIN_0.15 jannis_MF+GIN_0.2\n",
      "15 15\n",
      "---------------------------------------- 0.25\n",
      "graphs_train shape: 6971 graphs_train[0] shape: Data(x=[46, 277], edge_index=[2, 1], y=0.45183333333333336)\n",
      "graphs_test shape: 302 graphs_test[0] shape: Data(x=[46, 277], edge_index=[2, 1], y=0.48116666666666663)\n"
     ]
    },
    {
     "name": "stderr",
     "output_type": "stream",
     "text": [
      "/Users/haox/opt/anaconda3/lib/python3.8/site-packages/torch_geometric/deprecation.py:13: UserWarning: 'data.DataLoader' is deprecated, use 'loader.DataLoader' instead\n",
      "  warnings.warn(out)\n"
     ]
    },
    {
     "name": "stdout",
     "output_type": "stream",
     "text": [
      "Epoch: 009, Train MAE: 0.1284, Train MSE: 0.0288\n",
      "Epoch: 009, Test MAE: 0.1695, Test MSE: 0.0333\n",
      "Time: 25.46908688545227\n",
      "---------------------------------------- 0.3\n",
      "graphs_train shape: 7946 graphs_train[0] shape: Data(x=[46, 277], edge_index=[2, 1], y=0.45183333333333336)\n",
      "graphs_test shape: 302 graphs_test[0] shape: Data(x=[46, 277], edge_index=[2, 1], y=0.48116666666666663)\n"
     ]
    },
    {
     "name": "stderr",
     "output_type": "stream",
     "text": [
      "/Users/haox/opt/anaconda3/lib/python3.8/site-packages/torch_geometric/deprecation.py:13: UserWarning: 'data.DataLoader' is deprecated, use 'loader.DataLoader' instead\n",
      "  warnings.warn(out)\n"
     ]
    },
    {
     "name": "stdout",
     "output_type": "stream",
     "text": [
      "Epoch: 009, Train MAE: 0.1162, Train MSE: 0.0241\n",
      "Epoch: 009, Test MAE: 0.1561, Test MSE: 0.0289\n",
      "Time: 34.87545871734619\n",
      "---------------------------------------- 0.35000000000000003\n",
      "graphs_train shape: 9715 graphs_train[0] shape: Data(x=[46, 277], edge_index=[2, 1], y=0.45183333333333336)\n",
      "graphs_test shape: 302 graphs_test[0] shape: Data(x=[46, 277], edge_index=[2, 1], y=0.48116666666666663)\n"
     ]
    },
    {
     "name": "stderr",
     "output_type": "stream",
     "text": [
      "/Users/haox/opt/anaconda3/lib/python3.8/site-packages/torch_geometric/deprecation.py:13: UserWarning: 'data.DataLoader' is deprecated, use 'loader.DataLoader' instead\n",
      "  warnings.warn(out)\n"
     ]
    },
    {
     "name": "stdout",
     "output_type": "stream",
     "text": [
      "Epoch: 009, Train MAE: 0.1521, Train MSE: 0.0419\n",
      "Epoch: 009, Test MAE: 0.2321, Test MSE: 0.0584\n",
      "Time: 45.52620792388916\n",
      "---------------------------------------- 0.4\n",
      "graphs_train shape: 11495 graphs_train[0] shape: Data(x=[46, 277], edge_index=[2, 1], y=0.932)\n",
      "graphs_test shape: 302 graphs_test[0] shape: Data(x=[46, 277], edge_index=[2, 1], y=0.48116666666666663)\n"
     ]
    },
    {
     "name": "stderr",
     "output_type": "stream",
     "text": [
      "/Users/haox/opt/anaconda3/lib/python3.8/site-packages/torch_geometric/deprecation.py:13: UserWarning: 'data.DataLoader' is deprecated, use 'loader.DataLoader' instead\n",
      "  warnings.warn(out)\n"
     ]
    },
    {
     "name": "stdout",
     "output_type": "stream",
     "text": [
      "Epoch: 009, Train MAE: 0.1576, Train MSE: 0.0459\n",
      "Epoch: 009, Test MAE: 0.2728, Test MSE: 0.0790\n",
      "Time: 51.0322642326355\n",
      "---------------------------------------- 0.45\n",
      "++++++++++++++++++++++++++++++\n",
      "jannis_MF+GIN_0.4 jannis_MF+GIN_0.45\n",
      "38 38\n",
      "========================================\n",
      "22 jasmine\n",
      "---------------------------------------- 0.05\n",
      "graphs_train shape: 1625 graphs_train[0] shape: Data(x=[46, 277], edge_index=[2, 1], y=0.45183333333333336)\n",
      "graphs_test shape: 335 graphs_test[0] shape: Data(x=[46, 277], edge_index=[2, 1], y=0.7077870325982742)\n"
     ]
    },
    {
     "name": "stderr",
     "output_type": "stream",
     "text": [
      "/Users/haox/opt/anaconda3/lib/python3.8/site-packages/torch_geometric/deprecation.py:13: UserWarning: 'data.DataLoader' is deprecated, use 'loader.DataLoader' instead\n",
      "  warnings.warn(out)\n"
     ]
    },
    {
     "name": "stdout",
     "output_type": "stream",
     "text": [
      "Epoch: 009, Train MAE: 0.0809, Train MSE: 0.0151\n",
      "Epoch: 009, Test MAE: 0.0276, Test MSE: 0.0013\n",
      "Time: 7.158792018890381\n",
      "---------------------------------------- 0.1\n",
      "graphs_train shape: 3835 graphs_train[0] shape: Data(x=[46, 277], edge_index=[2, 1], y=0.45183333333333336)\n",
      "graphs_test shape: 335 graphs_test[0] shape: Data(x=[46, 277], edge_index=[2, 1], y=0.7077870325982742)\n"
     ]
    },
    {
     "name": "stderr",
     "output_type": "stream",
     "text": [
      "/Users/haox/opt/anaconda3/lib/python3.8/site-packages/torch_geometric/deprecation.py:13: UserWarning: 'data.DataLoader' is deprecated, use 'loader.DataLoader' instead\n",
      "  warnings.warn(out)\n"
     ]
    },
    {
     "name": "stdout",
     "output_type": "stream",
     "text": [
      "Epoch: 009, Train MAE: 0.1448, Train MSE: 0.0484\n",
      "Epoch: 009, Test MAE: 0.3069, Test MSE: 0.0953\n",
      "Time: 19.53584313392639\n",
      "---------------------------------------- 0.15000000000000002\n",
      "graphs_train shape: 6193 graphs_train[0] shape: Data(x=[46, 277], edge_index=[2, 1], y=0.45183333333333336)\n",
      "graphs_test shape: 335 graphs_test[0] shape: Data(x=[46, 277], edge_index=[2, 1], y=0.7077870325982742)\n"
     ]
    },
    {
     "name": "stderr",
     "output_type": "stream",
     "text": [
      "/Users/haox/opt/anaconda3/lib/python3.8/site-packages/torch_geometric/deprecation.py:13: UserWarning: 'data.DataLoader' is deprecated, use 'loader.DataLoader' instead\n",
      "  warnings.warn(out)\n"
     ]
    },
    {
     "name": "stdout",
     "output_type": "stream",
     "text": [
      "Epoch: 009, Train MAE: 0.1230, Train MSE: 0.0270\n",
      "Epoch: 009, Test MAE: 0.0257, Test MSE: 0.0011\n",
      "Time: 24.27662205696106\n",
      "---------------------------------------- 0.2\n",
      "graphs_train shape: 8769 graphs_train[0] shape: Data(x=[46, 277], edge_index=[2, 1], y=0.45183333333333336)\n",
      "graphs_test shape: 335 graphs_test[0] shape: Data(x=[46, 277], edge_index=[2, 1], y=0.7077870325982742)\n"
     ]
    },
    {
     "name": "stderr",
     "output_type": "stream",
     "text": [
      "/Users/haox/opt/anaconda3/lib/python3.8/site-packages/torch_geometric/deprecation.py:13: UserWarning: 'data.DataLoader' is deprecated, use 'loader.DataLoader' instead\n",
      "  warnings.warn(out)\n"
     ]
    },
    {
     "name": "stdout",
     "output_type": "stream",
     "text": [
      "Epoch: 009, Train MAE: 0.1346, Train MSE: 0.0298\n",
      "Epoch: 009, Test MAE: 0.0513, Test MSE: 0.0034\n",
      "Time: 58.76287293434143\n",
      "---------------------------------------- 0.25\n",
      "graphs_train shape: 10766 graphs_train[0] shape: Data(x=[46, 277], edge_index=[2, 1], y=0.932)\n",
      "graphs_test shape: 335 graphs_test[0] shape: Data(x=[46, 277], edge_index=[2, 1], y=0.7077870325982742)\n"
     ]
    },
    {
     "name": "stderr",
     "output_type": "stream",
     "text": [
      "/Users/haox/opt/anaconda3/lib/python3.8/site-packages/torch_geometric/deprecation.py:13: UserWarning: 'data.DataLoader' is deprecated, use 'loader.DataLoader' instead\n",
      "  warnings.warn(out)\n"
     ]
    },
    {
     "name": "stdout",
     "output_type": "stream",
     "text": [
      "Epoch: 009, Train MAE: 0.1401, Train MSE: 0.0346\n",
      "Epoch: 009, Test MAE: 0.1046, Test MSE: 0.0117\n",
      "Time: 47.45197582244873\n",
      "---------------------------------------- 0.3\n",
      "graphs_train shape: 11109 graphs_train[0] shape: Data(x=[46, 277], edge_index=[2, 1], y=0.932)\n",
      "graphs_test shape: 335 graphs_test[0] shape: Data(x=[46, 277], edge_index=[2, 1], y=0.7077870325982742)\n"
     ]
    },
    {
     "name": "stderr",
     "output_type": "stream",
     "text": [
      "/Users/haox/opt/anaconda3/lib/python3.8/site-packages/torch_geometric/deprecation.py:13: UserWarning: 'data.DataLoader' is deprecated, use 'loader.DataLoader' instead\n",
      "  warnings.warn(out)\n"
     ]
    },
    {
     "name": "stdout",
     "output_type": "stream",
     "text": [
      "Epoch: 009, Train MAE: 0.1505, Train MSE: 0.0380\n",
      "Epoch: 009, Test MAE: 0.0822, Test MSE: 0.0076\n",
      "Time: 52.55216884613037\n",
      "---------------------------------------- 0.35000000000000003\n",
      "++++++++++++++++++++++++++++++\n",
      "jasmine_MF+GIN_0.3 jasmine_MF+GIN_0.35\n",
      "36 36\n",
      "---------------------------------------- 0.4\n",
      "graphs_train shape: 11228 graphs_train[0] shape: Data(x=[46, 277], edge_index=[2, 1], y=0.932)\n",
      "graphs_test shape: 335 graphs_test[0] shape: Data(x=[46, 277], edge_index=[2, 1], y=0.7077870325982742)\n"
     ]
    },
    {
     "name": "stderr",
     "output_type": "stream",
     "text": [
      "/Users/haox/opt/anaconda3/lib/python3.8/site-packages/torch_geometric/deprecation.py:13: UserWarning: 'data.DataLoader' is deprecated, use 'loader.DataLoader' instead\n",
      "  warnings.warn(out)\n"
     ]
    },
    {
     "name": "stdout",
     "output_type": "stream",
     "text": [
      "Epoch: 009, Train MAE: 0.1519, Train MSE: 0.0395\n",
      "Epoch: 009, Test MAE: 0.0936, Test MSE: 0.0095\n",
      "Time: 50.57207012176514\n",
      "---------------------------------------- 0.45\n",
      "++++++++++++++++++++++++++++++\n",
      "jasmine_MF+GIN_0.4 jasmine_MF+GIN_0.45\n",
      "37 37\n",
      "========================================\n",
      "23 jungle_chess_2pcs_raw_endgame_complete\n",
      "---------------------------------------- 0.05\n",
      "graphs_train shape: 1786 graphs_train[0] shape: Data(x=[46, 277], edge_index=[2, 1], y=0.45183333333333336)\n",
      "graphs_test shape: 336 graphs_test[0] shape: Data(x=[46, 277], edge_index=[2, 1], y=0.6908333333333333)\n"
     ]
    },
    {
     "name": "stderr",
     "output_type": "stream",
     "text": [
      "/Users/haox/opt/anaconda3/lib/python3.8/site-packages/torch_geometric/deprecation.py:13: UserWarning: 'data.DataLoader' is deprecated, use 'loader.DataLoader' instead\n",
      "  warnings.warn(out)\n"
     ]
    },
    {
     "name": "stdout",
     "output_type": "stream",
     "text": [
      "Epoch: 009, Train MAE: 0.0891, Train MSE: 0.0161\n",
      "Epoch: 009, Test MAE: 0.1343, Test MSE: 0.0208\n",
      "Time: 6.995161056518555\n",
      "---------------------------------------- 0.1\n",
      "graphs_train shape: 3186 graphs_train[0] shape: Data(x=[46, 277], edge_index=[2, 1], y=0.45183333333333336)\n",
      "graphs_test shape: 336 graphs_test[0] shape: Data(x=[46, 277], edge_index=[2, 1], y=0.6908333333333333)\n"
     ]
    },
    {
     "name": "stderr",
     "output_type": "stream",
     "text": [
      "/Users/haox/opt/anaconda3/lib/python3.8/site-packages/torch_geometric/deprecation.py:13: UserWarning: 'data.DataLoader' is deprecated, use 'loader.DataLoader' instead\n",
      "  warnings.warn(out)\n"
     ]
    },
    {
     "name": "stdout",
     "output_type": "stream",
     "text": [
      "Epoch: 009, Train MAE: 0.1781, Train MSE: 0.0846\n",
      "Epoch: 009, Test MAE: 0.1259, Test MSE: 0.0202\n",
      "Time: 14.383717775344849\n",
      "---------------------------------------- 0.15000000000000002\n",
      "graphs_train shape: 5873 graphs_train[0] shape: Data(x=[46, 277], edge_index=[2, 1], y=0.45183333333333336)\n",
      "graphs_test shape: 336 graphs_test[0] shape: Data(x=[46, 277], edge_index=[2, 1], y=0.6908333333333333)\n"
     ]
    },
    {
     "name": "stderr",
     "output_type": "stream",
     "text": [
      "/Users/haox/opt/anaconda3/lib/python3.8/site-packages/torch_geometric/deprecation.py:13: UserWarning: 'data.DataLoader' is deprecated, use 'loader.DataLoader' instead\n",
      "  warnings.warn(out)\n"
     ]
    },
    {
     "name": "stdout",
     "output_type": "stream",
     "text": [
      "Epoch: 009, Train MAE: 0.1268, Train MSE: 0.0301\n",
      "Epoch: 009, Test MAE: 0.0796, Test MSE: 0.0069\n",
      "Time: 25.615511894226074\n",
      "---------------------------------------- 0.2\n",
      "graphs_train shape: 8112 graphs_train[0] shape: Data(x=[46, 277], edge_index=[2, 1], y=0.45183333333333336)\n",
      "graphs_test shape: 336 graphs_test[0] shape: Data(x=[46, 277], edge_index=[2, 1], y=0.6908333333333333)\n"
     ]
    },
    {
     "name": "stderr",
     "output_type": "stream",
     "text": [
      "/Users/haox/opt/anaconda3/lib/python3.8/site-packages/torch_geometric/deprecation.py:13: UserWarning: 'data.DataLoader' is deprecated, use 'loader.DataLoader' instead\n",
      "  warnings.warn(out)\n"
     ]
    },
    {
     "name": "stdout",
     "output_type": "stream",
     "text": [
      "Epoch: 009, Train MAE: 0.1281, Train MSE: 0.0260\n",
      "Epoch: 009, Test MAE: 0.0478, Test MSE: 0.0044\n",
      "Time: 32.71800994873047\n",
      "---------------------------------------- 0.25\n",
      "graphs_train shape: 10746 graphs_train[0] shape: Data(x=[46, 277], edge_index=[2, 1], y=0.932)\n",
      "graphs_test shape: 336 graphs_test[0] shape: Data(x=[46, 277], edge_index=[2, 1], y=0.6908333333333333)\n"
     ]
    },
    {
     "name": "stderr",
     "output_type": "stream",
     "text": [
      "/Users/haox/opt/anaconda3/lib/python3.8/site-packages/torch_geometric/deprecation.py:13: UserWarning: 'data.DataLoader' is deprecated, use 'loader.DataLoader' instead\n",
      "  warnings.warn(out)\n"
     ]
    },
    {
     "name": "stdout",
     "output_type": "stream",
     "text": [
      "Epoch: 009, Train MAE: 0.1502, Train MSE: 0.0384\n",
      "Epoch: 009, Test MAE: 0.0930, Test MSE: 0.0130\n",
      "Time: 49.26853394508362\n",
      "---------------------------------------- 0.3\n",
      "graphs_train shape: 11108 graphs_train[0] shape: Data(x=[46, 277], edge_index=[2, 1], y=0.932)\n",
      "graphs_test shape: 336 graphs_test[0] shape: Data(x=[46, 277], edge_index=[2, 1], y=0.6908333333333333)\n"
     ]
    },
    {
     "name": "stderr",
     "output_type": "stream",
     "text": [
      "/Users/haox/opt/anaconda3/lib/python3.8/site-packages/torch_geometric/deprecation.py:13: UserWarning: 'data.DataLoader' is deprecated, use 'loader.DataLoader' instead\n",
      "  warnings.warn(out)\n"
     ]
    },
    {
     "name": "stdout",
     "output_type": "stream",
     "text": [
      "Epoch: 009, Train MAE: 0.1481, Train MSE: 0.0369\n",
      "Epoch: 009, Test MAE: 0.0887, Test MSE: 0.0122\n",
      "Time: 50.296156883239746\n",
      "---------------------------------------- 0.35000000000000003\n",
      "++++++++++++++++++++++++++++++\n",
      "jungle_chess_2pcs_raw_endgame_complete_MF+GIN_0.3 jungle_chess_2pcs_raw_endgame_complete_MF+GIN_0.35\n",
      "36 36\n",
      "---------------------------------------- 0.4\n",
      "graphs_train shape: 11227 graphs_train[0] shape: Data(x=[46, 277], edge_index=[2, 1], y=0.932)\n",
      "graphs_test shape: 336 graphs_test[0] shape: Data(x=[46, 277], edge_index=[2, 1], y=0.6908333333333333)\n"
     ]
    },
    {
     "name": "stderr",
     "output_type": "stream",
     "text": [
      "/Users/haox/opt/anaconda3/lib/python3.8/site-packages/torch_geometric/deprecation.py:13: UserWarning: 'data.DataLoader' is deprecated, use 'loader.DataLoader' instead\n",
      "  warnings.warn(out)\n"
     ]
    },
    {
     "name": "stdout",
     "output_type": "stream",
     "text": [
      "Epoch: 009, Train MAE: 0.1515, Train MSE: 0.0389\n",
      "Epoch: 009, Test MAE: 0.0843, Test MSE: 0.0114\n",
      "Time: 51.68289303779602\n",
      "---------------------------------------- 0.45\n",
      "++++++++++++++++++++++++++++++\n",
      "jungle_chess_2pcs_raw_endgame_complete_MF+GIN_0.4 jungle_chess_2pcs_raw_endgame_complete_MF+GIN_0.45\n",
      "37 37\n",
      "========================================\n",
      "24 kc1\n",
      "---------------------------------------- 0.05\n",
      "graphs_train shape: 2406 graphs_train[0] shape: Data(x=[46, 277], edge_index=[2, 1], y=0.7552428795420986)\n",
      "graphs_test shape: 313 graphs_test[0] shape: Data(x=[46, 277], edge_index=[2, 1], y=0.8260591782134729)\n"
     ]
    },
    {
     "name": "stderr",
     "output_type": "stream",
     "text": [
      "/Users/haox/opt/anaconda3/lib/python3.8/site-packages/torch_geometric/deprecation.py:13: UserWarning: 'data.DataLoader' is deprecated, use 'loader.DataLoader' instead\n",
      "  warnings.warn(out)\n"
     ]
    },
    {
     "name": "stdout",
     "output_type": "stream",
     "text": [
      "Epoch: 009, Train MAE: 0.0752, Train MSE: 0.0128\n",
      "Epoch: 009, Test MAE: 0.0672, Test MSE: 0.0050\n",
      "Time: 10.367115020751953\n",
      "---------------------------------------- 0.1\n",
      "graphs_train shape: 4715 graphs_train[0] shape: Data(x=[46, 277], edge_index=[2, 1], y=0.7552428795420986)\n",
      "graphs_test shape: 313 graphs_test[0] shape: Data(x=[46, 277], edge_index=[2, 1], y=0.8260591782134729)\n"
     ]
    },
    {
     "name": "stderr",
     "output_type": "stream",
     "text": [
      "/Users/haox/opt/anaconda3/lib/python3.8/site-packages/torch_geometric/deprecation.py:13: UserWarning: 'data.DataLoader' is deprecated, use 'loader.DataLoader' instead\n",
      "  warnings.warn(out)\n"
     ]
    },
    {
     "name": "stdout",
     "output_type": "stream",
     "text": [
      "Epoch: 009, Train MAE: 0.1021, Train MSE: 0.0146\n",
      "Epoch: 009, Test MAE: 0.0826, Test MSE: 0.0073\n",
      "Time: 19.72546911239624\n",
      "---------------------------------------- 0.15000000000000002\n",
      "graphs_train shape: 8337 graphs_train[0] shape: Data(x=[46, 277], edge_index=[2, 1], y=0.932)\n",
      "graphs_test shape: 313 graphs_test[0] shape: Data(x=[46, 277], edge_index=[2, 1], y=0.8260591782134729)\n"
     ]
    },
    {
     "name": "stderr",
     "output_type": "stream",
     "text": [
      "/Users/haox/opt/anaconda3/lib/python3.8/site-packages/torch_geometric/deprecation.py:13: UserWarning: 'data.DataLoader' is deprecated, use 'loader.DataLoader' instead\n",
      "  warnings.warn(out)\n"
     ]
    },
    {
     "name": "stdout",
     "output_type": "stream",
     "text": [
      "Epoch: 009, Train MAE: 0.0864, Train MSE: 0.0161\n",
      "Epoch: 009, Test MAE: 0.0179, Test MSE: 0.0005\n",
      "Time: 35.47769093513489\n",
      "---------------------------------------- 0.2\n",
      "graphs_train shape: 8772 graphs_train[0] shape: Data(x=[46, 277], edge_index=[2, 1], y=0.932)\n",
      "graphs_test shape: 313 graphs_test[0] shape: Data(x=[46, 277], edge_index=[2, 1], y=0.8260591782134729)\n"
     ]
    },
    {
     "name": "stderr",
     "output_type": "stream",
     "text": [
      "/Users/haox/opt/anaconda3/lib/python3.8/site-packages/torch_geometric/deprecation.py:13: UserWarning: 'data.DataLoader' is deprecated, use 'loader.DataLoader' instead\n",
      "  warnings.warn(out)\n"
     ]
    },
    {
     "name": "stdout",
     "output_type": "stream",
     "text": [
      "Epoch: 009, Train MAE: 0.1100, Train MSE: 0.0220\n",
      "Epoch: 009, Test MAE: 0.0288, Test MSE: 0.0013\n",
      "Time: 42.55463790893555\n",
      "---------------------------------------- 0.25\n",
      "graphs_train shape: 10186 graphs_train[0] shape: Data(x=[46, 277], edge_index=[2, 1], y=0.932)\n",
      "graphs_test shape: 313 graphs_test[0] shape: Data(x=[46, 277], edge_index=[2, 1], y=0.8260591782134729)\n"
     ]
    },
    {
     "name": "stderr",
     "output_type": "stream",
     "text": [
      "/Users/haox/opt/anaconda3/lib/python3.8/site-packages/torch_geometric/deprecation.py:13: UserWarning: 'data.DataLoader' is deprecated, use 'loader.DataLoader' instead\n",
      "  warnings.warn(out)\n"
     ]
    },
    {
     "name": "stdout",
     "output_type": "stream",
     "text": [
      "Epoch: 009, Train MAE: 0.1309, Train MSE: 0.0265\n",
      "Epoch: 009, Test MAE: 0.0302, Test MSE: 0.0011\n",
      "Time: 44.388619899749756\n",
      "---------------------------------------- 0.3\n",
      "graphs_train shape: 10788 graphs_train[0] shape: Data(x=[46, 277], edge_index=[2, 1], y=0.932)\n",
      "graphs_test shape: 313 graphs_test[0] shape: Data(x=[46, 277], edge_index=[2, 1], y=0.8260591782134729)\n"
     ]
    },
    {
     "name": "stderr",
     "output_type": "stream",
     "text": [
      "/Users/haox/opt/anaconda3/lib/python3.8/site-packages/torch_geometric/deprecation.py:13: UserWarning: 'data.DataLoader' is deprecated, use 'loader.DataLoader' instead\n",
      "  warnings.warn(out)\n"
     ]
    },
    {
     "name": "stdout",
     "output_type": "stream",
     "text": [
      "Epoch: 009, Train MAE: 0.1432, Train MSE: 0.0344\n",
      "Epoch: 009, Test MAE: 0.0316, Test MSE: 0.0015\n",
      "Time: 51.93922996520996\n",
      "---------------------------------------- 0.35000000000000003\n",
      "graphs_train shape: 11131 graphs_train[0] shape: Data(x=[46, 277], edge_index=[2, 1], y=0.932)\n",
      "graphs_test shape: 313 graphs_test[0] shape: Data(x=[46, 277], edge_index=[2, 1], y=0.8260591782134729)\n"
     ]
    },
    {
     "name": "stderr",
     "output_type": "stream",
     "text": [
      "/Users/haox/opt/anaconda3/lib/python3.8/site-packages/torch_geometric/deprecation.py:13: UserWarning: 'data.DataLoader' is deprecated, use 'loader.DataLoader' instead\n",
      "  warnings.warn(out)\n"
     ]
    },
    {
     "name": "stdout",
     "output_type": "stream",
     "text": [
      "Epoch: 009, Train MAE: 0.1414, Train MSE: 0.0352\n",
      "Epoch: 009, Test MAE: 0.0332, Test MSE: 0.0014\n",
      "Time: 51.54762816429138\n",
      "---------------------------------------- 0.4\n",
      "++++++++++++++++++++++++++++++\n",
      "kc1_MF+GIN_0.35 kc1_MF+GIN_0.4\n",
      "36 36\n",
      "---------------------------------------- 0.45\n",
      "++++++++++++++++++++++++++++++\n",
      "kc1_MF+GIN_0.4 kc1_MF+GIN_0.45\n",
      "36 36\n",
      "========================================\n",
      "25 KDDCup09_appetency\n",
      "---------------------------------------- 0.05\n",
      "graphs_train shape: 2242 graphs_train[0] shape: Data(x=[46, 277], edge_index=[2, 1], y=0.932)\n",
      "graphs_test shape: 411 graphs_test[0] shape: Data(x=[46, 277], edge_index=[2, 1], y=0.4093333333333334)\n"
     ]
    },
    {
     "name": "stderr",
     "output_type": "stream",
     "text": [
      "/Users/haox/opt/anaconda3/lib/python3.8/site-packages/torch_geometric/deprecation.py:13: UserWarning: 'data.DataLoader' is deprecated, use 'loader.DataLoader' instead\n",
      "  warnings.warn(out)\n"
     ]
    },
    {
     "name": "stdout",
     "output_type": "stream",
     "text": [
      "Epoch: 009, Train MAE: 0.0333, Train MSE: 0.0036\n",
      "Epoch: 009, Test MAE: 0.0729, Test MSE: 0.0389\n",
      "Time: 9.889664888381958\n",
      "---------------------------------------- 0.1\n",
      "graphs_train shape: 3879 graphs_train[0] shape: Data(x=[46, 277], edge_index=[2, 1], y=0.932)\n",
      "graphs_test shape: 411 graphs_test[0] shape: Data(x=[46, 277], edge_index=[2, 1], y=0.4093333333333334)\n"
     ]
    },
    {
     "name": "stderr",
     "output_type": "stream",
     "text": [
      "/Users/haox/opt/anaconda3/lib/python3.8/site-packages/torch_geometric/deprecation.py:13: UserWarning: 'data.DataLoader' is deprecated, use 'loader.DataLoader' instead\n",
      "  warnings.warn(out)\n"
     ]
    },
    {
     "name": "stdout",
     "output_type": "stream",
     "text": [
      "Epoch: 009, Train MAE: 0.0865, Train MSE: 0.0133\n",
      "Epoch: 009, Test MAE: 0.1111, Test MSE: 0.0373\n",
      "Time: 22.673928022384644\n",
      "---------------------------------------- 0.15000000000000002\n",
      "graphs_train shape: 5385 graphs_train[0] shape: Data(x=[46, 277], edge_index=[2, 1], y=0.932)\n",
      "graphs_test shape: 411 graphs_test[0] shape: Data(x=[46, 277], edge_index=[2, 1], y=0.4093333333333334)\n"
     ]
    },
    {
     "name": "stderr",
     "output_type": "stream",
     "text": [
      "/Users/haox/opt/anaconda3/lib/python3.8/site-packages/torch_geometric/deprecation.py:13: UserWarning: 'data.DataLoader' is deprecated, use 'loader.DataLoader' instead\n",
      "  warnings.warn(out)\n"
     ]
    },
    {
     "name": "stdout",
     "output_type": "stream",
     "text": [
      "Epoch: 009, Train MAE: 0.0906, Train MSE: 0.0122\n",
      "Epoch: 009, Test MAE: 0.1713, Test MSE: 0.0435\n",
      "Time: 22.223453044891357\n",
      "---------------------------------------- 0.2\n",
      "graphs_train shape: 6279 graphs_train[0] shape: Data(x=[46, 277], edge_index=[2, 1], y=0.932)\n",
      "graphs_test shape: 411 graphs_test[0] shape: Data(x=[46, 277], edge_index=[2, 1], y=0.4093333333333334)\n"
     ]
    },
    {
     "name": "stderr",
     "output_type": "stream",
     "text": [
      "/Users/haox/opt/anaconda3/lib/python3.8/site-packages/torch_geometric/deprecation.py:13: UserWarning: 'data.DataLoader' is deprecated, use 'loader.DataLoader' instead\n",
      "  warnings.warn(out)\n"
     ]
    },
    {
     "name": "stdout",
     "output_type": "stream",
     "text": [
      "Epoch: 009, Train MAE: 0.0710, Train MSE: 0.0100\n",
      "Epoch: 009, Test MAE: 0.1121, Test MSE: 0.0373\n",
      "Time: 26.656978845596313\n",
      "---------------------------------------- 0.25\n",
      "graphs_train shape: 7262 graphs_train[0] shape: Data(x=[46, 277], edge_index=[2, 1], y=0.932)\n",
      "graphs_test shape: 411 graphs_test[0] shape: Data(x=[46, 277], edge_index=[2, 1], y=0.4093333333333334)\n"
     ]
    },
    {
     "name": "stderr",
     "output_type": "stream",
     "text": [
      "/Users/haox/opt/anaconda3/lib/python3.8/site-packages/torch_geometric/deprecation.py:13: UserWarning: 'data.DataLoader' is deprecated, use 'loader.DataLoader' instead\n",
      "  warnings.warn(out)\n"
     ]
    },
    {
     "name": "stdout",
     "output_type": "stream",
     "text": [
      "Epoch: 009, Train MAE: 0.1348, Train MSE: 0.0366\n",
      "Epoch: 009, Test MAE: 0.1198, Test MSE: 0.0375\n",
      "Time: 31.54129719734192\n",
      "---------------------------------------- 0.3\n",
      "graphs_train shape: 8674 graphs_train[0] shape: Data(x=[46, 277], edge_index=[2, 1], y=0.932)\n",
      "graphs_test shape: 411 graphs_test[0] shape: Data(x=[46, 277], edge_index=[2, 1], y=0.4093333333333334)\n"
     ]
    },
    {
     "name": "stderr",
     "output_type": "stream",
     "text": [
      "/Users/haox/opt/anaconda3/lib/python3.8/site-packages/torch_geometric/deprecation.py:13: UserWarning: 'data.DataLoader' is deprecated, use 'loader.DataLoader' instead\n",
      "  warnings.warn(out)\n"
     ]
    },
    {
     "name": "stdout",
     "output_type": "stream",
     "text": [
      "Epoch: 009, Train MAE: 0.1073, Train MSE: 0.0221\n",
      "Epoch: 009, Test MAE: 0.1330, Test MSE: 0.0383\n",
      "Time: 37.151183128356934\n",
      "---------------------------------------- 0.35000000000000003\n",
      "++++++++++++++++++++++++++++++\n",
      "KDDCup09_appetency_MF+GIN_0.3 KDDCup09_appetency_MF+GIN_0.35\n",
      "28 28\n",
      "---------------------------------------- 0.4\n",
      "graphs_train shape: 10088 graphs_train[0] shape: Data(x=[46, 277], edge_index=[2, 1], y=0.932)\n",
      "graphs_test shape: 411 graphs_test[0] shape: Data(x=[46, 277], edge_index=[2, 1], y=0.4093333333333334)\n"
     ]
    },
    {
     "name": "stderr",
     "output_type": "stream",
     "text": [
      "/Users/haox/opt/anaconda3/lib/python3.8/site-packages/torch_geometric/deprecation.py:13: UserWarning: 'data.DataLoader' is deprecated, use 'loader.DataLoader' instead\n",
      "  warnings.warn(out)\n"
     ]
    },
    {
     "name": "stdout",
     "output_type": "stream",
     "text": [
      "Epoch: 009, Train MAE: 0.1318, Train MSE: 0.0308\n",
      "Epoch: 009, Test MAE: 0.1440, Test MSE: 0.0394\n",
      "Time: 41.230002880096436\n",
      "---------------------------------------- 0.45\n",
      "graphs_train shape: 10690 graphs_train[0] shape: Data(x=[46, 277], edge_index=[2, 1], y=0.932)\n",
      "graphs_test shape: 411 graphs_test[0] shape: Data(x=[46, 277], edge_index=[2, 1], y=0.4093333333333334)\n"
     ]
    },
    {
     "name": "stderr",
     "output_type": "stream",
     "text": [
      "/Users/haox/opt/anaconda3/lib/python3.8/site-packages/torch_geometric/deprecation.py:13: UserWarning: 'data.DataLoader' is deprecated, use 'loader.DataLoader' instead\n",
      "  warnings.warn(out)\n"
     ]
    },
    {
     "name": "stdout",
     "output_type": "stream",
     "text": [
      "Epoch: 009, Train MAE: 0.1359, Train MSE: 0.0301\n",
      "Epoch: 009, Test MAE: 0.1664, Test MSE: 0.0426\n",
      "Time: 53.760990858078\n",
      "========================================\n",
      "26 kr-vs-kp\n",
      "---------------------------------------- 0.05\n",
      "graphs_train shape: 1635 graphs_train[0] shape: Data(x=[46, 277], edge_index=[2, 1], y=0.932)\n",
      "graphs_test shape: 362 graphs_test[0] shape: Data(x=[46, 277], edge_index=[2, 1], y=0.5969954766875435)\n"
     ]
    },
    {
     "name": "stderr",
     "output_type": "stream",
     "text": [
      "/Users/haox/opt/anaconda3/lib/python3.8/site-packages/torch_geometric/deprecation.py:13: UserWarning: 'data.DataLoader' is deprecated, use 'loader.DataLoader' instead\n",
      "  warnings.warn(out)\n"
     ]
    },
    {
     "name": "stdout",
     "output_type": "stream",
     "text": [
      "Epoch: 009, Train MAE: 0.0626, Train MSE: 0.0163\n",
      "Epoch: 009, Test MAE: 0.0295, Test MSE: 0.0053\n",
      "Time: 7.735738277435303\n",
      "---------------------------------------- 0.1\n",
      "graphs_train shape: 3609 graphs_train[0] shape: Data(x=[46, 277], edge_index=[2, 1], y=0.932)\n",
      "graphs_test shape: 362 graphs_test[0] shape: Data(x=[46, 277], edge_index=[2, 1], y=0.5969954766875435)\n"
     ]
    },
    {
     "name": "stderr",
     "output_type": "stream",
     "text": [
      "/Users/haox/opt/anaconda3/lib/python3.8/site-packages/torch_geometric/deprecation.py:13: UserWarning: 'data.DataLoader' is deprecated, use 'loader.DataLoader' instead\n",
      "  warnings.warn(out)\n"
     ]
    },
    {
     "name": "stdout",
     "output_type": "stream",
     "text": [
      "Epoch: 009, Train MAE: 0.1927, Train MSE: 0.2337\n",
      "Epoch: 009, Test MAE: 0.0628, Test MSE: 0.0091\n",
      "Time: 14.852867841720581\n",
      "---------------------------------------- 0.15000000000000002\n",
      "graphs_train shape: 5201 graphs_train[0] shape: Data(x=[46, 277], edge_index=[2, 1], y=0.932)\n",
      "graphs_test shape: 362 graphs_test[0] shape: Data(x=[46, 277], edge_index=[2, 1], y=0.5969954766875435)\n"
     ]
    },
    {
     "name": "stderr",
     "output_type": "stream",
     "text": [
      "/Users/haox/opt/anaconda3/lib/python3.8/site-packages/torch_geometric/deprecation.py:13: UserWarning: 'data.DataLoader' is deprecated, use 'loader.DataLoader' instead\n",
      "  warnings.warn(out)\n"
     ]
    },
    {
     "name": "stdout",
     "output_type": "stream",
     "text": [
      "Epoch: 009, Train MAE: 0.0637, Train MSE: 0.0098\n",
      "Epoch: 009, Test MAE: 0.1429, Test MSE: 0.0255\n",
      "Time: 28.58041763305664\n",
      "---------------------------------------- 0.2\n",
      "graphs_train shape: 6328 graphs_train[0] shape: Data(x=[46, 277], edge_index=[2, 1], y=0.932)\n",
      "graphs_test shape: 362 graphs_test[0] shape: Data(x=[46, 277], edge_index=[2, 1], y=0.5969954766875435)\n"
     ]
    },
    {
     "name": "stderr",
     "output_type": "stream",
     "text": [
      "/Users/haox/opt/anaconda3/lib/python3.8/site-packages/torch_geometric/deprecation.py:13: UserWarning: 'data.DataLoader' is deprecated, use 'loader.DataLoader' instead\n",
      "  warnings.warn(out)\n"
     ]
    },
    {
     "name": "stdout",
     "output_type": "stream",
     "text": [
      "Epoch: 009, Train MAE: 0.0678, Train MSE: 0.0112\n",
      "Epoch: 009, Test MAE: 0.0828, Test MSE: 0.0089\n",
      "Time: 27.972666025161743\n",
      "---------------------------------------- 0.25\n",
      "graphs_train shape: 6663 graphs_train[0] shape: Data(x=[46, 277], edge_index=[2, 1], y=0.932)\n",
      "graphs_test shape: 362 graphs_test[0] shape: Data(x=[46, 277], edge_index=[2, 1], y=0.5969954766875435)\n"
     ]
    },
    {
     "name": "stderr",
     "output_type": "stream",
     "text": [
      "/Users/haox/opt/anaconda3/lib/python3.8/site-packages/torch_geometric/deprecation.py:13: UserWarning: 'data.DataLoader' is deprecated, use 'loader.DataLoader' instead\n",
      "  warnings.warn(out)\n"
     ]
    },
    {
     "name": "stdout",
     "output_type": "stream",
     "text": [
      "Epoch: 009, Train MAE: 0.0927, Train MSE: 0.0136\n",
      "Epoch: 009, Test MAE: 0.1328, Test MSE: 0.0185\n",
      "Time: 32.62108325958252\n",
      "---------------------------------------- 0.3\n",
      "graphs_train shape: 8288 graphs_train[0] shape: Data(x=[46, 277], edge_index=[2, 1], y=0.932)\n",
      "graphs_test shape: 362 graphs_test[0] shape: Data(x=[46, 277], edge_index=[2, 1], y=0.5969954766875435)\n"
     ]
    },
    {
     "name": "stderr",
     "output_type": "stream",
     "text": [
      "/Users/haox/opt/anaconda3/lib/python3.8/site-packages/torch_geometric/deprecation.py:13: UserWarning: 'data.DataLoader' is deprecated, use 'loader.DataLoader' instead\n",
      "  warnings.warn(out)\n"
     ]
    },
    {
     "name": "stdout",
     "output_type": "stream",
     "text": [
      "Epoch: 009, Train MAE: 0.0978, Train MSE: 0.0170\n",
      "Epoch: 009, Test MAE: 0.1141, Test MSE: 0.0142\n",
      "Time: 40.52153706550598\n",
      "---------------------------------------- 0.35000000000000003\n",
      "graphs_train shape: 8723 graphs_train[0] shape: Data(x=[46, 277], edge_index=[2, 1], y=0.932)\n",
      "graphs_test shape: 362 graphs_test[0] shape: Data(x=[46, 277], edge_index=[2, 1], y=0.5969954766875435)\n"
     ]
    },
    {
     "name": "stderr",
     "output_type": "stream",
     "text": [
      "/Users/haox/opt/anaconda3/lib/python3.8/site-packages/torch_geometric/deprecation.py:13: UserWarning: 'data.DataLoader' is deprecated, use 'loader.DataLoader' instead\n",
      "  warnings.warn(out)\n"
     ]
    },
    {
     "name": "stdout",
     "output_type": "stream",
     "text": [
      "Epoch: 009, Train MAE: 0.1074, Train MSE: 0.0221\n",
      "Epoch: 009, Test MAE: 0.1111, Test MSE: 0.0136\n",
      "Time: 42.36470603942871\n",
      "---------------------------------------- 0.4\n",
      "graphs_train shape: 10137 graphs_train[0] shape: Data(x=[46, 277], edge_index=[2, 1], y=0.932)\n",
      "graphs_test shape: 362 graphs_test[0] shape: Data(x=[46, 277], edge_index=[2, 1], y=0.5969954766875435)\n"
     ]
    },
    {
     "name": "stderr",
     "output_type": "stream",
     "text": [
      "/Users/haox/opt/anaconda3/lib/python3.8/site-packages/torch_geometric/deprecation.py:13: UserWarning: 'data.DataLoader' is deprecated, use 'loader.DataLoader' instead\n",
      "  warnings.warn(out)\n"
     ]
    },
    {
     "name": "stdout",
     "output_type": "stream",
     "text": [
      "Epoch: 009, Train MAE: 0.1336, Train MSE: 0.0322\n",
      "Epoch: 009, Test MAE: 0.1094, Test MSE: 0.0132\n",
      "Time: 43.92636704444885\n",
      "---------------------------------------- 0.45\n",
      "graphs_train shape: 10739 graphs_train[0] shape: Data(x=[46, 277], edge_index=[2, 1], y=0.932)\n",
      "graphs_test shape: 362 graphs_test[0] shape: Data(x=[46, 277], edge_index=[2, 1], y=0.5969954766875435)\n"
     ]
    },
    {
     "name": "stderr",
     "output_type": "stream",
     "text": [
      "/Users/haox/opt/anaconda3/lib/python3.8/site-packages/torch_geometric/deprecation.py:13: UserWarning: 'data.DataLoader' is deprecated, use 'loader.DataLoader' instead\n",
      "  warnings.warn(out)\n"
     ]
    },
    {
     "name": "stdout",
     "output_type": "stream",
     "text": [
      "Epoch: 009, Train MAE: 0.2541, Train MSE: 0.2072\n",
      "Epoch: 009, Test MAE: 0.0991, Test MSE: 0.0113\n",
      "Time: 48.00134897232056\n",
      "========================================\n",
      "27 mfeat-factors\n",
      "---------------------------------------- 0.05\n",
      "graphs_train shape: 2771 graphs_train[0] shape: Data(x=[46, 277], edge_index=[2, 1], y=0.7858106644900136)\n",
      "graphs_test shape: 279 graphs_test[0] shape: Data(x=[46, 277], edge_index=[2, 1], y=0.932)\n"
     ]
    },
    {
     "name": "stderr",
     "output_type": "stream",
     "text": [
      "/Users/haox/opt/anaconda3/lib/python3.8/site-packages/torch_geometric/deprecation.py:13: UserWarning: 'data.DataLoader' is deprecated, use 'loader.DataLoader' instead\n",
      "  warnings.warn(out)\n"
     ]
    },
    {
     "name": "stdout",
     "output_type": "stream",
     "text": [
      "Epoch: 009, Train MAE: 0.0519, Train MSE: 0.0112\n",
      "Epoch: 009, Test MAE: 0.0447, Test MSE: 0.0047\n",
      "Time: 13.827497959136963\n",
      "---------------------------------------- 0.1\n",
      "graphs_train shape: 4011 graphs_train[0] shape: Data(x=[46, 277], edge_index=[2, 1], y=0.7858106644900136)\n",
      "graphs_test shape: 279 graphs_test[0] shape: Data(x=[46, 277], edge_index=[2, 1], y=0.932)\n"
     ]
    },
    {
     "name": "stderr",
     "output_type": "stream",
     "text": [
      "/Users/haox/opt/anaconda3/lib/python3.8/site-packages/torch_geometric/deprecation.py:13: UserWarning: 'data.DataLoader' is deprecated, use 'loader.DataLoader' instead\n",
      "  warnings.warn(out)\n"
     ]
    },
    {
     "name": "stdout",
     "output_type": "stream",
     "text": [
      "Epoch: 009, Train MAE: 0.0605, Train MSE: 0.0088\n",
      "Epoch: 009, Test MAE: 0.0549, Test MSE: 0.0043\n",
      "Time: 18.942861080169678\n",
      "---------------------------------------- 0.15000000000000002\n",
      "graphs_train shape: 5788 graphs_train[0] shape: Data(x=[46, 277], edge_index=[2, 1], y=0.6303610622434448)\n",
      "graphs_test shape: 279 graphs_test[0] shape: Data(x=[46, 277], edge_index=[2, 1], y=0.932)\n"
     ]
    },
    {
     "name": "stderr",
     "output_type": "stream",
     "text": [
      "/Users/haox/opt/anaconda3/lib/python3.8/site-packages/torch_geometric/deprecation.py:13: UserWarning: 'data.DataLoader' is deprecated, use 'loader.DataLoader' instead\n",
      "  warnings.warn(out)\n"
     ]
    },
    {
     "name": "stdout",
     "output_type": "stream",
     "text": [
      "Epoch: 009, Train MAE: 0.0860, Train MSE: 0.0126\n",
      "Epoch: 009, Test MAE: 0.1175, Test MSE: 0.0151\n",
      "Time: 26.43289613723755\n",
      "---------------------------------------- 0.2\n",
      "graphs_train shape: 6411 graphs_train[0] shape: Data(x=[46, 277], edge_index=[2, 1], y=0.7552428795420986)\n",
      "graphs_test shape: 279 graphs_test[0] shape: Data(x=[46, 277], edge_index=[2, 1], y=0.932)\n"
     ]
    },
    {
     "name": "stderr",
     "output_type": "stream",
     "text": [
      "/Users/haox/opt/anaconda3/lib/python3.8/site-packages/torch_geometric/deprecation.py:13: UserWarning: 'data.DataLoader' is deprecated, use 'loader.DataLoader' instead\n",
      "  warnings.warn(out)\n"
     ]
    },
    {
     "name": "stdout",
     "output_type": "stream",
     "text": [
      "Epoch: 009, Train MAE: 0.0717, Train MSE: 0.0108\n",
      "Epoch: 009, Test MAE: 0.0803, Test MSE: 0.0078\n",
      "Time: 29.76418900489807\n",
      "---------------------------------------- 0.25\n",
      "graphs_train shape: 7394 graphs_train[0] shape: Data(x=[46, 277], edge_index=[2, 1], y=0.7552428795420986)\n",
      "graphs_test shape: 279 graphs_test[0] shape: Data(x=[46, 277], edge_index=[2, 1], y=0.932)\n"
     ]
    },
    {
     "name": "stderr",
     "output_type": "stream",
     "text": [
      "/Users/haox/opt/anaconda3/lib/python3.8/site-packages/torch_geometric/deprecation.py:13: UserWarning: 'data.DataLoader' is deprecated, use 'loader.DataLoader' instead\n",
      "  warnings.warn(out)\n"
     ]
    },
    {
     "name": "stdout",
     "output_type": "stream",
     "text": [
      "Epoch: 009, Train MAE: 0.1026, Train MSE: 0.0218\n",
      "Epoch: 009, Test MAE: 0.1031, Test MSE: 0.0120\n",
      "Time: 36.9723436832428\n",
      "---------------------------------------- 0.3\n",
      "graphs_train shape: 8806 graphs_train[0] shape: Data(x=[46, 277], edge_index=[2, 1], y=0.45183333333333336)\n",
      "graphs_test shape: 279 graphs_test[0] shape: Data(x=[46, 277], edge_index=[2, 1], y=0.932)\n"
     ]
    },
    {
     "name": "stderr",
     "output_type": "stream",
     "text": [
      "/Users/haox/opt/anaconda3/lib/python3.8/site-packages/torch_geometric/deprecation.py:13: UserWarning: 'data.DataLoader' is deprecated, use 'loader.DataLoader' instead\n",
      "  warnings.warn(out)\n"
     ]
    },
    {
     "name": "stdout",
     "output_type": "stream",
     "text": [
      "Epoch: 009, Train MAE: 0.1088, Train MSE: 0.0226\n",
      "Epoch: 009, Test MAE: 0.0742, Test MSE: 0.0069\n",
      "Time: 42.48917818069458\n",
      "---------------------------------------- 0.35000000000000003\n",
      "++++++++++++++++++++++++++++++\n",
      "mfeat-factors_MF+GIN_0.3 mfeat-factors_MF+GIN_0.35\n",
      "28 28\n",
      "---------------------------------------- 0.4\n",
      "graphs_train shape: 10220 graphs_train[0] shape: Data(x=[46, 277], edge_index=[2, 1], y=0.45183333333333336)\n",
      "graphs_test shape: 279 graphs_test[0] shape: Data(x=[46, 277], edge_index=[2, 1], y=0.932)\n"
     ]
    },
    {
     "name": "stderr",
     "output_type": "stream",
     "text": [
      "/Users/haox/opt/anaconda3/lib/python3.8/site-packages/torch_geometric/deprecation.py:13: UserWarning: 'data.DataLoader' is deprecated, use 'loader.DataLoader' instead\n",
      "  warnings.warn(out)\n"
     ]
    },
    {
     "name": "stdout",
     "output_type": "stream",
     "text": [
      "Epoch: 009, Train MAE: 0.1327, Train MSE: 0.0310\n",
      "Epoch: 009, Test MAE: 0.0834, Test MSE: 0.0083\n",
      "Time: 50.9231481552124\n",
      "---------------------------------------- 0.45\n",
      "graphs_train shape: 10822 graphs_train[0] shape: Data(x=[46, 277], edge_index=[2, 1], y=0.45183333333333336)\n",
      "graphs_test shape: 279 graphs_test[0] shape: Data(x=[46, 277], edge_index=[2, 1], y=0.932)\n"
     ]
    },
    {
     "name": "stderr",
     "output_type": "stream",
     "text": [
      "/Users/haox/opt/anaconda3/lib/python3.8/site-packages/torch_geometric/deprecation.py:13: UserWarning: 'data.DataLoader' is deprecated, use 'loader.DataLoader' instead\n",
      "  warnings.warn(out)\n"
     ]
    },
    {
     "name": "stdout",
     "output_type": "stream",
     "text": [
      "Epoch: 009, Train MAE: 0.1410, Train MSE: 0.0338\n",
      "Epoch: 009, Test MAE: 0.0843, Test MSE: 0.0084\n",
      "Time: 53.84183692932129\n",
      "========================================\n",
      "28 MiniBooNE\n",
      "---------------------------------------- 0.05\n",
      "graphs_train shape: 2408 graphs_train[0] shape: Data(x=[46, 277], edge_index=[2, 1], y=0.7552428795420986)\n",
      "graphs_test shape: 311 graphs_test[0] shape: Data(x=[46, 277], edge_index=[2, 1], y=0.2798333333333334)\n"
     ]
    },
    {
     "name": "stderr",
     "output_type": "stream",
     "text": [
      "/Users/haox/opt/anaconda3/lib/python3.8/site-packages/torch_geometric/deprecation.py:13: UserWarning: 'data.DataLoader' is deprecated, use 'loader.DataLoader' instead\n",
      "  warnings.warn(out)\n"
     ]
    },
    {
     "name": "stdout",
     "output_type": "stream",
     "text": [
      "Epoch: 009, Train MAE: 0.0645, Train MSE: 0.0074\n",
      "Epoch: 009, Test MAE: 0.0763, Test MSE: 0.0336\n",
      "Time: 14.811175346374512\n",
      "---------------------------------------- 0.1\n",
      "graphs_train shape: 4382 graphs_train[0] shape: Data(x=[46, 277], edge_index=[2, 1], y=0.7552428795420986)\n",
      "graphs_test shape: 311 graphs_test[0] shape: Data(x=[46, 277], edge_index=[2, 1], y=0.2798333333333334)\n"
     ]
    },
    {
     "name": "stderr",
     "output_type": "stream",
     "text": [
      "/Users/haox/opt/anaconda3/lib/python3.8/site-packages/torch_geometric/deprecation.py:13: UserWarning: 'data.DataLoader' is deprecated, use 'loader.DataLoader' instead\n",
      "  warnings.warn(out)\n"
     ]
    },
    {
     "name": "stdout",
     "output_type": "stream",
     "text": [
      "Epoch: 009, Train MAE: 0.0821, Train MSE: 0.0114\n",
      "Epoch: 009, Test MAE: 0.1037, Test MSE: 0.0307\n",
      "Time: 20.62240481376648\n",
      "---------------------------------------- 0.15000000000000002\n",
      "graphs_train shape: 8339 graphs_train[0] shape: Data(x=[46, 277], edge_index=[2, 1], y=0.932)\n",
      "graphs_test shape: 311 graphs_test[0] shape: Data(x=[46, 277], edge_index=[2, 1], y=0.2798333333333334)\n"
     ]
    },
    {
     "name": "stderr",
     "output_type": "stream",
     "text": [
      "/Users/haox/opt/anaconda3/lib/python3.8/site-packages/torch_geometric/deprecation.py:13: UserWarning: 'data.DataLoader' is deprecated, use 'loader.DataLoader' instead\n",
      "  warnings.warn(out)\n"
     ]
    },
    {
     "name": "stdout",
     "output_type": "stream",
     "text": [
      "Epoch: 009, Train MAE: 0.0997, Train MSE: 0.0160\n",
      "Epoch: 009, Test MAE: 0.0859, Test MSE: 0.0310\n",
      "Time: 39.64863681793213\n",
      "---------------------------------------- 0.2\n",
      "graphs_train shape: 8774 graphs_train[0] shape: Data(x=[46, 277], edge_index=[2, 1], y=0.932)\n",
      "graphs_test shape: 311 graphs_test[0] shape: Data(x=[46, 277], edge_index=[2, 1], y=0.2798333333333334)\n"
     ]
    },
    {
     "name": "stderr",
     "output_type": "stream",
     "text": [
      "/Users/haox/opt/anaconda3/lib/python3.8/site-packages/torch_geometric/deprecation.py:13: UserWarning: 'data.DataLoader' is deprecated, use 'loader.DataLoader' instead\n",
      "  warnings.warn(out)\n"
     ]
    },
    {
     "name": "stdout",
     "output_type": "stream",
     "text": [
      "Epoch: 009, Train MAE: 0.1104, Train MSE: 0.0232\n",
      "Epoch: 009, Test MAE: 0.0759, Test MSE: 0.0324\n",
      "Time: 44.50412702560425\n",
      "---------------------------------------- 0.25\n",
      "graphs_train shape: 10188 graphs_train[0] shape: Data(x=[46, 277], edge_index=[2, 1], y=0.932)\n",
      "graphs_test shape: 311 graphs_test[0] shape: Data(x=[46, 277], edge_index=[2, 1], y=0.2798333333333334)\n"
     ]
    },
    {
     "name": "stderr",
     "output_type": "stream",
     "text": [
      "/Users/haox/opt/anaconda3/lib/python3.8/site-packages/torch_geometric/deprecation.py:13: UserWarning: 'data.DataLoader' is deprecated, use 'loader.DataLoader' instead\n",
      "  warnings.warn(out)\n"
     ]
    },
    {
     "name": "stdout",
     "output_type": "stream",
     "text": [
      "Epoch: 009, Train MAE: 0.1346, Train MSE: 0.0316\n",
      "Epoch: 009, Test MAE: 0.0766, Test MSE: 0.0321\n",
      "Time: 42.198866844177246\n",
      "---------------------------------------- 0.3\n",
      "graphs_train shape: 10790 graphs_train[0] shape: Data(x=[46, 277], edge_index=[2, 1], y=0.932)\n",
      "graphs_test shape: 311 graphs_test[0] shape: Data(x=[46, 277], edge_index=[2, 1], y=0.2798333333333334)\n"
     ]
    },
    {
     "name": "stderr",
     "output_type": "stream",
     "text": [
      "/Users/haox/opt/anaconda3/lib/python3.8/site-packages/torch_geometric/deprecation.py:13: UserWarning: 'data.DataLoader' is deprecated, use 'loader.DataLoader' instead\n",
      "  warnings.warn(out)\n"
     ]
    },
    {
     "name": "stdout",
     "output_type": "stream",
     "text": [
      "Epoch: 009, Train MAE: 0.1428, Train MSE: 0.0343\n",
      "Epoch: 009, Test MAE: 0.0775, Test MSE: 0.0319\n",
      "Time: 51.969407081604004\n",
      "---------------------------------------- 0.35000000000000003\n",
      "++++++++++++++++++++++++++++++\n",
      "MiniBooNE_MF+GIN_0.3 MiniBooNE_MF+GIN_0.35\n",
      "35 35\n",
      "---------------------------------------- 0.4\n",
      "graphs_train shape: 11133 graphs_train[0] shape: Data(x=[46, 277], edge_index=[2, 1], y=0.932)\n",
      "graphs_test shape: 311 graphs_test[0] shape: Data(x=[46, 277], edge_index=[2, 1], y=0.2798333333333334)\n"
     ]
    },
    {
     "name": "stderr",
     "output_type": "stream",
     "text": [
      "/Users/haox/opt/anaconda3/lib/python3.8/site-packages/torch_geometric/deprecation.py:13: UserWarning: 'data.DataLoader' is deprecated, use 'loader.DataLoader' instead\n",
      "  warnings.warn(out)\n"
     ]
    },
    {
     "name": "stdout",
     "output_type": "stream",
     "text": [
      "Epoch: 009, Train MAE: 0.1512, Train MSE: 0.0377\n",
      "Epoch: 009, Test MAE: 0.0771, Test MSE: 0.0319\n",
      "Time: 47.72980093955994\n",
      "---------------------------------------- 0.45\n",
      "++++++++++++++++++++++++++++++\n",
      "MiniBooNE_MF+GIN_0.4 MiniBooNE_MF+GIN_0.45\n",
      "36 36\n",
      "========================================\n",
      "29 nomao\n",
      "---------------------------------------- 0.05\n",
      "graphs_train shape: 3293 graphs_train[0] shape: Data(x=[46, 277], edge_index=[2, 1], y=0.932)\n",
      "graphs_test shape: 316 graphs_test[0] shape: Data(x=[46, 277], edge_index=[2, 1], y=0.7986666666666666)\n"
     ]
    },
    {
     "name": "stderr",
     "output_type": "stream",
     "text": [
      "/Users/haox/opt/anaconda3/lib/python3.8/site-packages/torch_geometric/deprecation.py:13: UserWarning: 'data.DataLoader' is deprecated, use 'loader.DataLoader' instead\n",
      "  warnings.warn(out)\n"
     ]
    },
    {
     "name": "stdout",
     "output_type": "stream",
     "text": [
      "Epoch: 009, Train MAE: 0.1102, Train MSE: 0.0253\n",
      "Epoch: 009, Test MAE: 0.0280, Test MSE: 0.0017\n",
      "Time: 16.629383087158203\n",
      "---------------------------------------- 0.1\n",
      "graphs_train shape: 5247 graphs_train[0] shape: Data(x=[46, 277], edge_index=[2, 1], y=0.932)\n",
      "graphs_test shape: 316 graphs_test[0] shape: Data(x=[46, 277], edge_index=[2, 1], y=0.7986666666666666)\n"
     ]
    },
    {
     "name": "stderr",
     "output_type": "stream",
     "text": [
      "/Users/haox/opt/anaconda3/lib/python3.8/site-packages/torch_geometric/deprecation.py:13: UserWarning: 'data.DataLoader' is deprecated, use 'loader.DataLoader' instead\n",
      "  warnings.warn(out)\n"
     ]
    },
    {
     "name": "stdout",
     "output_type": "stream",
     "text": [
      "Epoch: 009, Train MAE: 0.0638, Train MSE: 0.0108\n",
      "Epoch: 009, Test MAE: 0.0544, Test MSE: 0.0033\n",
      "Time: 26.769232034683228\n",
      "---------------------------------------- 0.15000000000000002\n",
      "graphs_train shape: 6374 graphs_train[0] shape: Data(x=[46, 277], edge_index=[2, 1], y=0.932)\n",
      "graphs_test shape: 316 graphs_test[0] shape: Data(x=[46, 277], edge_index=[2, 1], y=0.7986666666666666)\n"
     ]
    },
    {
     "name": "stderr",
     "output_type": "stream",
     "text": [
      "/Users/haox/opt/anaconda3/lib/python3.8/site-packages/torch_geometric/deprecation.py:13: UserWarning: 'data.DataLoader' is deprecated, use 'loader.DataLoader' instead\n",
      "  warnings.warn(out)\n"
     ]
    },
    {
     "name": "stdout",
     "output_type": "stream",
     "text": [
      "Epoch: 009, Train MAE: 0.0911, Train MSE: 0.0134\n",
      "Epoch: 009, Test MAE: 0.0977, Test MSE: 0.0101\n",
      "Time: 25.911648988723755\n",
      "---------------------------------------- 0.2\n",
      "graphs_train shape: 6709 graphs_train[0] shape: Data(x=[46, 277], edge_index=[2, 1], y=0.932)\n",
      "graphs_test shape: 316 graphs_test[0] shape: Data(x=[46, 277], edge_index=[2, 1], y=0.7986666666666666)\n"
     ]
    },
    {
     "name": "stderr",
     "output_type": "stream",
     "text": [
      "/Users/haox/opt/anaconda3/lib/python3.8/site-packages/torch_geometric/deprecation.py:13: UserWarning: 'data.DataLoader' is deprecated, use 'loader.DataLoader' instead\n",
      "  warnings.warn(out)\n"
     ]
    },
    {
     "name": "stdout",
     "output_type": "stream",
     "text": [
      "Epoch: 009, Train MAE: 0.0935, Train MSE: 0.0137\n",
      "Epoch: 009, Test MAE: 0.1017, Test MSE: 0.0109\n",
      "Time: 31.639832973480225\n",
      "---------------------------------------- 0.25\n",
      "graphs_train shape: 8334 graphs_train[0] shape: Data(x=[46, 277], edge_index=[2, 1], y=0.932)\n",
      "graphs_test shape: 316 graphs_test[0] shape: Data(x=[46, 277], edge_index=[2, 1], y=0.7986666666666666)\n"
     ]
    },
    {
     "name": "stderr",
     "output_type": "stream",
     "text": [
      "/Users/haox/opt/anaconda3/lib/python3.8/site-packages/torch_geometric/deprecation.py:13: UserWarning: 'data.DataLoader' is deprecated, use 'loader.DataLoader' instead\n",
      "  warnings.warn(out)\n"
     ]
    },
    {
     "name": "stdout",
     "output_type": "stream",
     "text": [
      "Epoch: 009, Train MAE: 0.0848, Train MSE: 0.0167\n",
      "Epoch: 009, Test MAE: 0.0943, Test MSE: 0.0094\n",
      "Time: 38.51098680496216\n",
      "---------------------------------------- 0.3\n",
      "graphs_train shape: 8769 graphs_train[0] shape: Data(x=[46, 277], edge_index=[2, 1], y=0.932)\n",
      "graphs_test shape: 316 graphs_test[0] shape: Data(x=[46, 277], edge_index=[2, 1], y=0.7986666666666666)\n"
     ]
    },
    {
     "name": "stderr",
     "output_type": "stream",
     "text": [
      "/Users/haox/opt/anaconda3/lib/python3.8/site-packages/torch_geometric/deprecation.py:13: UserWarning: 'data.DataLoader' is deprecated, use 'loader.DataLoader' instead\n",
      "  warnings.warn(out)\n"
     ]
    },
    {
     "name": "stdout",
     "output_type": "stream",
     "text": [
      "Epoch: 009, Train MAE: 0.1117, Train MSE: 0.0249\n",
      "Epoch: 009, Test MAE: 0.0486, Test MSE: 0.0027\n",
      "Time: 36.47060799598694\n",
      "---------------------------------------- 0.35000000000000003\n",
      "graphs_train shape: 10183 graphs_train[0] shape: Data(x=[46, 277], edge_index=[2, 1], y=0.932)\n",
      "graphs_test shape: 316 graphs_test[0] shape: Data(x=[46, 277], edge_index=[2, 1], y=0.7986666666666666)\n"
     ]
    },
    {
     "name": "stderr",
     "output_type": "stream",
     "text": [
      "/Users/haox/opt/anaconda3/lib/python3.8/site-packages/torch_geometric/deprecation.py:13: UserWarning: 'data.DataLoader' is deprecated, use 'loader.DataLoader' instead\n",
      "  warnings.warn(out)\n"
     ]
    },
    {
     "name": "stdout",
     "output_type": "stream",
     "text": [
      "Epoch: 009, Train MAE: 0.1334, Train MSE: 0.0314\n",
      "Epoch: 009, Test MAE: 0.0754, Test MSE: 0.0060\n",
      "Time: 40.948243141174316\n",
      "---------------------------------------- 0.4\n",
      "graphs_train shape: 10785 graphs_train[0] shape: Data(x=[46, 277], edge_index=[2, 1], y=0.932)\n",
      "graphs_test shape: 316 graphs_test[0] shape: Data(x=[46, 277], edge_index=[2, 1], y=0.7986666666666666)\n"
     ]
    },
    {
     "name": "stderr",
     "output_type": "stream",
     "text": [
      "/Users/haox/opt/anaconda3/lib/python3.8/site-packages/torch_geometric/deprecation.py:13: UserWarning: 'data.DataLoader' is deprecated, use 'loader.DataLoader' instead\n",
      "  warnings.warn(out)\n"
     ]
    },
    {
     "name": "stdout",
     "output_type": "stream",
     "text": [
      "Epoch: 009, Train MAE: 0.1418, Train MSE: 0.0342\n",
      "Epoch: 009, Test MAE: 0.0764, Test MSE: 0.0062\n",
      "Time: 45.12917900085449\n",
      "---------------------------------------- 0.45\n",
      "graphs_train shape: 11128 graphs_train[0] shape: Data(x=[46, 277], edge_index=[2, 1], y=0.932)\n",
      "graphs_test shape: 316 graphs_test[0] shape: Data(x=[46, 277], edge_index=[2, 1], y=0.7986666666666666)\n"
     ]
    },
    {
     "name": "stderr",
     "output_type": "stream",
     "text": [
      "/Users/haox/opt/anaconda3/lib/python3.8/site-packages/torch_geometric/deprecation.py:13: UserWarning: 'data.DataLoader' is deprecated, use 'loader.DataLoader' instead\n",
      "  warnings.warn(out)\n"
     ]
    },
    {
     "name": "stdout",
     "output_type": "stream",
     "text": [
      "Epoch: 009, Train MAE: 0.2495, Train MSE: 0.1536\n",
      "Epoch: 009, Test MAE: 0.0791, Test MSE: 0.0066\n",
      "Time: 52.959277868270874\n",
      "========================================\n",
      "30 numerai28.6\n",
      "---------------------------------------- 0.05\n",
      "---------------------------------------- 0.1\n",
      "graphs_train shape: 602 graphs_train[0] shape: Data(x=[46, 277], edge_index=[2, 1], y=0.589)\n",
      "graphs_test shape: 343 graphs_test[0] shape: Data(x=[46, 277], edge_index=[2, 1], y=0.518)\n"
     ]
    },
    {
     "name": "stderr",
     "output_type": "stream",
     "text": [
      "/Users/haox/opt/anaconda3/lib/python3.8/site-packages/torch_geometric/deprecation.py:13: UserWarning: 'data.DataLoader' is deprecated, use 'loader.DataLoader' instead\n",
      "  warnings.warn(out)\n"
     ]
    },
    {
     "name": "stdout",
     "output_type": "stream",
     "text": [
      "Epoch: 009, Train MAE: 0.0343, Train MSE: 0.0016\n",
      "Epoch: 009, Test MAE: 0.0758, Test MSE: 0.0058\n",
      "Time: 3.268115758895874\n",
      "---------------------------------------- 0.15000000000000002\n",
      "graphs_train shape: 2135 graphs_train[0] shape: Data(x=[46, 277], edge_index=[2, 1], y=0.5485)\n",
      "graphs_test shape: 343 graphs_test[0] shape: Data(x=[46, 277], edge_index=[2, 1], y=0.518)\n"
     ]
    },
    {
     "name": "stderr",
     "output_type": "stream",
     "text": [
      "/Users/haox/opt/anaconda3/lib/python3.8/site-packages/torch_geometric/deprecation.py:13: UserWarning: 'data.DataLoader' is deprecated, use 'loader.DataLoader' instead\n",
      "  warnings.warn(out)\n"
     ]
    },
    {
     "name": "stdout",
     "output_type": "stream",
     "text": [
      "Epoch: 009, Train MAE: 0.1337, Train MSE: 0.0216\n",
      "Epoch: 009, Test MAE: 0.0739, Test MSE: 0.0055\n",
      "Time: 9.691762208938599\n",
      "---------------------------------------- 0.2\n",
      "graphs_train shape: 2570 graphs_train[0] shape: Data(x=[46, 277], edge_index=[2, 1], y=0.6736413817340144)\n",
      "graphs_test shape: 343 graphs_test[0] shape: Data(x=[46, 277], edge_index=[2, 1], y=0.518)\n"
     ]
    },
    {
     "name": "stderr",
     "output_type": "stream",
     "text": [
      "/Users/haox/opt/anaconda3/lib/python3.8/site-packages/torch_geometric/deprecation.py:13: UserWarning: 'data.DataLoader' is deprecated, use 'loader.DataLoader' instead\n",
      "  warnings.warn(out)\n"
     ]
    },
    {
     "name": "stdout",
     "output_type": "stream",
     "text": [
      "Epoch: 009, Train MAE: 0.0870, Train MSE: 0.0125\n",
      "Epoch: 009, Test MAE: 0.0196, Test MSE: 0.0004\n",
      "Time: 15.642413854598999\n",
      "---------------------------------------- 0.25\n",
      "graphs_train shape: 4429 graphs_train[0] shape: Data(x=[46, 277], edge_index=[2, 1], y=0.45183333333333336)\n",
      "graphs_test shape: 343 graphs_test[0] shape: Data(x=[46, 277], edge_index=[2, 1], y=0.518)\n"
     ]
    },
    {
     "name": "stderr",
     "output_type": "stream",
     "text": [
      "/Users/haox/opt/anaconda3/lib/python3.8/site-packages/torch_geometric/deprecation.py:13: UserWarning: 'data.DataLoader' is deprecated, use 'loader.DataLoader' instead\n",
      "  warnings.warn(out)\n"
     ]
    },
    {
     "name": "stdout",
     "output_type": "stream",
     "text": [
      "Epoch: 009, Train MAE: 0.1877, Train MSE: 0.1225\n",
      "Epoch: 009, Test MAE: 0.0386, Test MSE: 0.0017\n",
      "Time: 18.074523210525513\n",
      "---------------------------------------- 0.3\n",
      "graphs_train shape: 4764 graphs_train[0] shape: Data(x=[46, 277], edge_index=[2, 1], y=0.45183333333333336)\n",
      "graphs_test shape: 343 graphs_test[0] shape: Data(x=[46, 277], edge_index=[2, 1], y=0.518)\n"
     ]
    },
    {
     "name": "stderr",
     "output_type": "stream",
     "text": [
      "/Users/haox/opt/anaconda3/lib/python3.8/site-packages/torch_geometric/deprecation.py:13: UserWarning: 'data.DataLoader' is deprecated, use 'loader.DataLoader' instead\n",
      "  warnings.warn(out)\n"
     ]
    },
    {
     "name": "stdout",
     "output_type": "stream",
     "text": [
      "Epoch: 009, Train MAE: 0.1160, Train MSE: 0.0242\n",
      "Epoch: 009, Test MAE: 0.0976, Test MSE: 0.0096\n",
      "Time: 24.71604895591736\n",
      "---------------------------------------- 0.35000000000000003\n",
      "graphs_train shape: 6539 graphs_train[0] shape: Data(x=[46, 277], edge_index=[2, 1], y=0.45183333333333336)\n",
      "graphs_test shape: 343 graphs_test[0] shape: Data(x=[46, 277], edge_index=[2, 1], y=0.518)\n"
     ]
    },
    {
     "name": "stderr",
     "output_type": "stream",
     "text": [
      "/Users/haox/opt/anaconda3/lib/python3.8/site-packages/torch_geometric/deprecation.py:13: UserWarning: 'data.DataLoader' is deprecated, use 'loader.DataLoader' instead\n",
      "  warnings.warn(out)\n"
     ]
    },
    {
     "name": "stdout",
     "output_type": "stream",
     "text": [
      "Epoch: 009, Train MAE: 0.1394, Train MSE: 0.0310\n",
      "Epoch: 009, Test MAE: 0.1075, Test MSE: 0.0116\n",
      "Time: 25.950154066085815\n",
      "---------------------------------------- 0.4\n",
      "graphs_train shape: 7483 graphs_train[0] shape: Data(x=[46, 277], edge_index=[2, 1], y=0.45183333333333336)\n",
      "graphs_test shape: 343 graphs_test[0] shape: Data(x=[46, 277], edge_index=[2, 1], y=0.518)\n"
     ]
    },
    {
     "name": "stderr",
     "output_type": "stream",
     "text": [
      "/Users/haox/opt/anaconda3/lib/python3.8/site-packages/torch_geometric/deprecation.py:13: UserWarning: 'data.DataLoader' is deprecated, use 'loader.DataLoader' instead\n",
      "  warnings.warn(out)\n"
     ]
    },
    {
     "name": "stdout",
     "output_type": "stream",
     "text": [
      "Epoch: 009, Train MAE: 0.1257, Train MSE: 0.0286\n",
      "Epoch: 009, Test MAE: 0.2868, Test MSE: 0.0823\n",
      "Time: 39.46044301986694\n",
      "---------------------------------------- 0.45\n",
      "graphs_train shape: 9457 graphs_train[0] shape: Data(x=[46, 277], edge_index=[2, 1], y=0.45183333333333336)\n",
      "graphs_test shape: 343 graphs_test[0] shape: Data(x=[46, 277], edge_index=[2, 1], y=0.518)\n"
     ]
    },
    {
     "name": "stderr",
     "output_type": "stream",
     "text": [
      "/Users/haox/opt/anaconda3/lib/python3.8/site-packages/torch_geometric/deprecation.py:13: UserWarning: 'data.DataLoader' is deprecated, use 'loader.DataLoader' instead\n",
      "  warnings.warn(out)\n"
     ]
    },
    {
     "name": "stdout",
     "output_type": "stream",
     "text": [
      "Epoch: 009, Train MAE: 0.1416, Train MSE: 0.0338\n",
      "Epoch: 009, Test MAE: 0.2548, Test MSE: 0.0650\n",
      "Time: 44.76586604118347\n",
      "========================================\n",
      "31 phoneme\n",
      "---------------------------------------- 0.05\n",
      "graphs_train shape: 2074 graphs_train[0] shape: Data(x=[46, 277], edge_index=[2, 1], y=0.6303610622434448)\n",
      "graphs_test shape: 326 graphs_test[0] shape: Data(x=[46, 277], edge_index=[2, 1], y=0.7552428795420986)\n"
     ]
    },
    {
     "name": "stderr",
     "output_type": "stream",
     "text": [
      "/Users/haox/opt/anaconda3/lib/python3.8/site-packages/torch_geometric/deprecation.py:13: UserWarning: 'data.DataLoader' is deprecated, use 'loader.DataLoader' instead\n",
      "  warnings.warn(out)\n"
     ]
    },
    {
     "name": "stdout",
     "output_type": "stream",
     "text": [
      "Epoch: 009, Train MAE: 0.1177, Train MSE: 0.0310\n",
      "Epoch: 009, Test MAE: 0.1371, Test MSE: 0.0220\n",
      "Time: 8.106987953186035\n",
      "---------------------------------------- 0.1\n",
      "graphs_train shape: 4032 graphs_train[0] shape: Data(x=[46, 277], edge_index=[2, 1], y=0.6303610622434448)\n",
      "graphs_test shape: 326 graphs_test[0] shape: Data(x=[46, 277], edge_index=[2, 1], y=0.7552428795420986)\n"
     ]
    },
    {
     "name": "stderr",
     "output_type": "stream",
     "text": [
      "/Users/haox/opt/anaconda3/lib/python3.8/site-packages/torch_geometric/deprecation.py:13: UserWarning: 'data.DataLoader' is deprecated, use 'loader.DataLoader' instead\n",
      "  warnings.warn(out)\n"
     ]
    },
    {
     "name": "stdout",
     "output_type": "stream",
     "text": [
      "Epoch: 009, Train MAE: 0.0727, Train MSE: 0.0099\n",
      "Epoch: 009, Test MAE: 0.0507, Test MSE: 0.0033\n",
      "Time: 22.413891077041626\n",
      "---------------------------------------- 0.15000000000000002\n",
      "graphs_train shape: 7298 graphs_train[0] shape: Data(x=[46, 277], edge_index=[2, 1], y=0.45183333333333336)\n",
      "graphs_test shape: 326 graphs_test[0] shape: Data(x=[46, 277], edge_index=[2, 1], y=0.7552428795420986)\n"
     ]
    },
    {
     "name": "stderr",
     "output_type": "stream",
     "text": [
      "/Users/haox/opt/anaconda3/lib/python3.8/site-packages/torch_geometric/deprecation.py:13: UserWarning: 'data.DataLoader' is deprecated, use 'loader.DataLoader' instead\n",
      "  warnings.warn(out)\n"
     ]
    },
    {
     "name": "stdout",
     "output_type": "stream",
     "text": [
      "Epoch: 009, Train MAE: 0.1081, Train MSE: 0.0226\n",
      "Epoch: 009, Test MAE: 0.0435, Test MSE: 0.0040\n",
      "Time: 34.64929413795471\n",
      "---------------------------------------- 0.2\n",
      "graphs_train shape: 8990 graphs_train[0] shape: Data(x=[46, 277], edge_index=[2, 1], y=0.932)\n",
      "graphs_test shape: 326 graphs_test[0] shape: Data(x=[46, 277], edge_index=[2, 1], y=0.7552428795420986)\n"
     ]
    },
    {
     "name": "stderr",
     "output_type": "stream",
     "text": [
      "/Users/haox/opt/anaconda3/lib/python3.8/site-packages/torch_geometric/deprecation.py:13: UserWarning: 'data.DataLoader' is deprecated, use 'loader.DataLoader' instead\n",
      "  warnings.warn(out)\n"
     ]
    },
    {
     "name": "stdout",
     "output_type": "stream",
     "text": [
      "Epoch: 009, Train MAE: 0.1135, Train MSE: 0.0252\n",
      "Epoch: 009, Test MAE: 0.0528, Test MSE: 0.0056\n",
      "Time: 42.57185482978821\n",
      "---------------------------------------- 0.25\n",
      "graphs_train shape: 10173 graphs_train[0] shape: Data(x=[46, 277], edge_index=[2, 1], y=0.932)\n",
      "graphs_test shape: 326 graphs_test[0] shape: Data(x=[46, 277], edge_index=[2, 1], y=0.7552428795420986)\n"
     ]
    },
    {
     "name": "stderr",
     "output_type": "stream",
     "text": [
      "/Users/haox/opt/anaconda3/lib/python3.8/site-packages/torch_geometric/deprecation.py:13: UserWarning: 'data.DataLoader' is deprecated, use 'loader.DataLoader' instead\n",
      "  warnings.warn(out)\n"
     ]
    },
    {
     "name": "stdout",
     "output_type": "stream",
     "text": [
      "Epoch: 009, Train MAE: 0.1337, Train MSE: 0.0308\n",
      "Epoch: 009, Test MAE: 0.0418, Test MSE: 0.0037\n",
      "Time: 43.073569774627686\n",
      "---------------------------------------- 0.3\n",
      "graphs_train shape: 10775 graphs_train[0] shape: Data(x=[46, 277], edge_index=[2, 1], y=0.932)\n",
      "graphs_test shape: 326 graphs_test[0] shape: Data(x=[46, 277], edge_index=[2, 1], y=0.7552428795420986)\n"
     ]
    },
    {
     "name": "stderr",
     "output_type": "stream",
     "text": [
      "/Users/haox/opt/anaconda3/lib/python3.8/site-packages/torch_geometric/deprecation.py:13: UserWarning: 'data.DataLoader' is deprecated, use 'loader.DataLoader' instead\n",
      "  warnings.warn(out)\n"
     ]
    },
    {
     "name": "stdout",
     "output_type": "stream",
     "text": [
      "Epoch: 009, Train MAE: 0.1422, Train MSE: 0.0339\n",
      "Epoch: 009, Test MAE: 0.0423, Test MSE: 0.0038\n",
      "Time: 48.37695288658142\n",
      "---------------------------------------- 0.35000000000000003\n",
      "graphs_train shape: 11118 graphs_train[0] shape: Data(x=[46, 277], edge_index=[2, 1], y=0.932)\n",
      "graphs_test shape: 326 graphs_test[0] shape: Data(x=[46, 277], edge_index=[2, 1], y=0.7552428795420986)\n"
     ]
    },
    {
     "name": "stderr",
     "output_type": "stream",
     "text": [
      "/Users/haox/opt/anaconda3/lib/python3.8/site-packages/torch_geometric/deprecation.py:13: UserWarning: 'data.DataLoader' is deprecated, use 'loader.DataLoader' instead\n",
      "  warnings.warn(out)\n"
     ]
    },
    {
     "name": "stdout",
     "output_type": "stream",
     "text": [
      "Epoch: 009, Train MAE: 0.1491, Train MSE: 0.0369\n",
      "Epoch: 009, Test MAE: 0.0424, Test MSE: 0.0038\n",
      "Time: 48.08870887756348\n",
      "---------------------------------------- 0.4\n",
      "++++++++++++++++++++++++++++++\n",
      "phoneme_MF+GIN_0.35 phoneme_MF+GIN_0.4\n",
      "36 36\n",
      "---------------------------------------- 0.45\n",
      "graphs_train shape: 11237 graphs_train[0] shape: Data(x=[46, 277], edge_index=[2, 1], y=0.932)\n",
      "graphs_test shape: 326 graphs_test[0] shape: Data(x=[46, 277], edge_index=[2, 1], y=0.7552428795420986)\n"
     ]
    },
    {
     "name": "stderr",
     "output_type": "stream",
     "text": [
      "/Users/haox/opt/anaconda3/lib/python3.8/site-packages/torch_geometric/deprecation.py:13: UserWarning: 'data.DataLoader' is deprecated, use 'loader.DataLoader' instead\n",
      "  warnings.warn(out)\n"
     ]
    },
    {
     "name": "stdout",
     "output_type": "stream",
     "text": [
      "Epoch: 009, Train MAE: 0.1496, Train MSE: 0.0362\n",
      "Epoch: 009, Test MAE: 0.0455, Test MSE: 0.0032\n",
      "Time: 48.56890392303467\n",
      "========================================\n",
      "32 riccardo\n",
      "---------------------------------------- 0.05\n",
      "graphs_train shape: 3386 graphs_train[0] shape: Data(x=[46, 277], edge_index=[2, 1], y=0.932)\n",
      "graphs_test shape: 217 graphs_test[0] shape: Data(x=[46, 277], edge_index=[2, 1], y=0.7208333333333333)\n"
     ]
    },
    {
     "name": "stderr",
     "output_type": "stream",
     "text": [
      "/Users/haox/opt/anaconda3/lib/python3.8/site-packages/torch_geometric/deprecation.py:13: UserWarning: 'data.DataLoader' is deprecated, use 'loader.DataLoader' instead\n",
      "  warnings.warn(out)\n"
     ]
    },
    {
     "name": "stdout",
     "output_type": "stream",
     "text": [
      "Epoch: 009, Train MAE: 0.0387, Train MSE: 0.0084\n",
      "Epoch: 009, Test MAE: 0.0557, Test MSE: 0.0071\n",
      "Time: 18.738389015197754\n",
      "---------------------------------------- 0.1\n",
      "graphs_train shape: 4073 graphs_train[0] shape: Data(x=[46, 277], edge_index=[2, 1], y=0.932)\n",
      "graphs_test shape: 217 graphs_test[0] shape: Data(x=[46, 277], edge_index=[2, 1], y=0.7208333333333333)\n"
     ]
    },
    {
     "name": "stderr",
     "output_type": "stream",
     "text": [
      "/Users/haox/opt/anaconda3/lib/python3.8/site-packages/torch_geometric/deprecation.py:13: UserWarning: 'data.DataLoader' is deprecated, use 'loader.DataLoader' instead\n",
      "  warnings.warn(out)\n"
     ]
    },
    {
     "name": "stdout",
     "output_type": "stream",
     "text": [
      "Epoch: 009, Train MAE: 0.0544, Train MSE: 0.0081\n",
      "Epoch: 009, Test MAE: 0.0539, Test MSE: 0.0052\n",
      "Time: 15.646055936813354\n",
      "---------------------------------------- 0.15000000000000002\n",
      "graphs_train shape: 6473 graphs_train[0] shape: Data(x=[46, 277], edge_index=[2, 1], y=0.932)\n",
      "graphs_test shape: 217 graphs_test[0] shape: Data(x=[46, 277], edge_index=[2, 1], y=0.7208333333333333)\n"
     ]
    },
    {
     "name": "stderr",
     "output_type": "stream",
     "text": [
      "/Users/haox/opt/anaconda3/lib/python3.8/site-packages/torch_geometric/deprecation.py:13: UserWarning: 'data.DataLoader' is deprecated, use 'loader.DataLoader' instead\n",
      "  warnings.warn(out)\n"
     ]
    },
    {
     "name": "stdout",
     "output_type": "stream",
     "text": [
      "Epoch: 009, Train MAE: 0.1051, Train MSE: 0.0183\n",
      "Epoch: 009, Test MAE: 0.0866, Test MSE: 0.0092\n",
      "Time: 29.890669107437134\n",
      "---------------------------------------- 0.2\n",
      "++++++++++++++++++++++++++++++\n",
      "riccardo_MF+GIN_0.15 riccardo_MF+GIN_0.2\n",
      "20 20\n",
      "---------------------------------------- 0.25\n",
      "graphs_train shape: 7732 graphs_train[0] shape: Data(x=[46, 277], edge_index=[2, 1], y=0.932)\n",
      "graphs_test shape: 217 graphs_test[0] shape: Data(x=[46, 277], edge_index=[2, 1], y=0.7208333333333333)\n"
     ]
    },
    {
     "name": "stderr",
     "output_type": "stream",
     "text": [
      "/Users/haox/opt/anaconda3/lib/python3.8/site-packages/torch_geometric/deprecation.py:13: UserWarning: 'data.DataLoader' is deprecated, use 'loader.DataLoader' instead\n",
      "  warnings.warn(out)\n"
     ]
    },
    {
     "name": "stdout",
     "output_type": "stream",
     "text": [
      "Epoch: 009, Train MAE: 0.0904, Train MSE: 0.0146\n",
      "Epoch: 009, Test MAE: 0.0666, Test MSE: 0.0061\n",
      "Time: 29.433255910873413\n",
      "---------------------------------------- 0.3\n",
      "graphs_train shape: 8868 graphs_train[0] shape: Data(x=[46, 277], edge_index=[2, 1], y=0.932)\n",
      "graphs_test shape: 217 graphs_test[0] shape: Data(x=[46, 277], edge_index=[2, 1], y=0.7208333333333333)\n"
     ]
    },
    {
     "name": "stderr",
     "output_type": "stream",
     "text": [
      "/Users/haox/opt/anaconda3/lib/python3.8/site-packages/torch_geometric/deprecation.py:13: UserWarning: 'data.DataLoader' is deprecated, use 'loader.DataLoader' instead\n",
      "  warnings.warn(out)\n"
     ]
    },
    {
     "name": "stdout",
     "output_type": "stream",
     "text": [
      "Epoch: 009, Train MAE: 0.1063, Train MSE: 0.0225\n",
      "Epoch: 009, Test MAE: 0.0543, Test MSE: 0.0051\n",
      "Time: 41.72736310958862\n",
      "---------------------------------------- 0.35000000000000003\n",
      "graphs_train shape: 9997 graphs_train[0] shape: Data(x=[46, 277], edge_index=[2, 1], y=0.932)\n",
      "graphs_test shape: 217 graphs_test[0] shape: Data(x=[46, 277], edge_index=[2, 1], y=0.7208333333333333)\n"
     ]
    },
    {
     "name": "stderr",
     "output_type": "stream",
     "text": [
      "/Users/haox/opt/anaconda3/lib/python3.8/site-packages/torch_geometric/deprecation.py:13: UserWarning: 'data.DataLoader' is deprecated, use 'loader.DataLoader' instead\n",
      "  warnings.warn(out)\n"
     ]
    },
    {
     "name": "stdout",
     "output_type": "stream",
     "text": [
      "Epoch: 009, Train MAE: 0.1285, Train MSE: 0.0297\n",
      "Epoch: 009, Test MAE: 0.0698, Test MSE: 0.0065\n",
      "Time: 47.32244515419006\n",
      "---------------------------------------- 0.4\n",
      "graphs_train shape: 10563 graphs_train[0] shape: Data(x=[46, 277], edge_index=[2, 1], y=0.932)\n",
      "graphs_test shape: 217 graphs_test[0] shape: Data(x=[46, 277], edge_index=[2, 1], y=0.7208333333333333)\n"
     ]
    },
    {
     "name": "stderr",
     "output_type": "stream",
     "text": [
      "/Users/haox/opt/anaconda3/lib/python3.8/site-packages/torch_geometric/deprecation.py:13: UserWarning: 'data.DataLoader' is deprecated, use 'loader.DataLoader' instead\n",
      "  warnings.warn(out)\n"
     ]
    },
    {
     "name": "stdout",
     "output_type": "stream",
     "text": [
      "Epoch: 009, Train MAE: 0.1366, Train MSE: 0.0322\n",
      "Epoch: 009, Test MAE: 0.0733, Test MSE: 0.0069\n",
      "Time: 52.49105381965637\n",
      "---------------------------------------- 0.45\n",
      "graphs_train shape: 10884 graphs_train[0] shape: Data(x=[46, 277], edge_index=[2, 1], y=0.932)\n",
      "graphs_test shape: 217 graphs_test[0] shape: Data(x=[46, 277], edge_index=[2, 1], y=0.7208333333333333)\n"
     ]
    },
    {
     "name": "stderr",
     "output_type": "stream",
     "text": [
      "/Users/haox/opt/anaconda3/lib/python3.8/site-packages/torch_geometric/deprecation.py:13: UserWarning: 'data.DataLoader' is deprecated, use 'loader.DataLoader' instead\n",
      "  warnings.warn(out)\n"
     ]
    },
    {
     "name": "stdout",
     "output_type": "stream",
     "text": [
      "Epoch: 009, Train MAE: 0.1408, Train MSE: 0.0335\n",
      "Epoch: 009, Test MAE: 0.0740, Test MSE: 0.0070\n",
      "Time: 54.23156809806824\n",
      "========================================\n",
      "33 robert\n",
      "---------------------------------------- 0.05\n",
      "---------------------------------------- 0.1\n",
      "---------------------------------------- 0.15000000000000002\n",
      "graphs_train shape: 577 graphs_train[0] shape: Data(x=[46, 277], edge_index=[2, 1], y=0.19849999999999998)\n",
      "graphs_test shape: 119 graphs_test[0] shape: Data(x=[46, 277], edge_index=[2, 1], y=0.36366666666666664)\n"
     ]
    },
    {
     "name": "stderr",
     "output_type": "stream",
     "text": [
      "/Users/haox/opt/anaconda3/lib/python3.8/site-packages/torch_geometric/deprecation.py:13: UserWarning: 'data.DataLoader' is deprecated, use 'loader.DataLoader' instead\n",
      "  warnings.warn(out)\n"
     ]
    },
    {
     "name": "stdout",
     "output_type": "stream",
     "text": [
      "Epoch: 009, Train MAE: 0.0325, Train MSE: 0.0022\n",
      "Epoch: 009, Test MAE: 0.0858, Test MSE: 0.0104\n",
      "Time: 3.189527750015259\n",
      "---------------------------------------- 0.2\n",
      "graphs_train shape: 1179 graphs_train[0] shape: Data(x=[46, 277], edge_index=[2, 1], y=0.589)\n",
      "graphs_test shape: 119 graphs_test[0] shape: Data(x=[46, 277], edge_index=[2, 1], y=0.36366666666666664)\n"
     ]
    },
    {
     "name": "stderr",
     "output_type": "stream",
     "text": [
      "/Users/haox/opt/anaconda3/lib/python3.8/site-packages/torch_geometric/deprecation.py:13: UserWarning: 'data.DataLoader' is deprecated, use 'loader.DataLoader' instead\n",
      "  warnings.warn(out)\n"
     ]
    },
    {
     "name": "stdout",
     "output_type": "stream",
     "text": [
      "Epoch: 009, Train MAE: 0.2941, Train MSE: 0.1045\n",
      "Epoch: 009, Test MAE: 0.1020, Test MSE: 0.0143\n",
      "Time: 5.061744213104248\n",
      "---------------------------------------- 0.25\n",
      "graphs_train shape: 2593 graphs_train[0] shape: Data(x=[46, 277], edge_index=[2, 1], y=0.5485)\n",
      "graphs_test shape: 119 graphs_test[0] shape: Data(x=[46, 277], edge_index=[2, 1], y=0.36366666666666664)\n"
     ]
    },
    {
     "name": "stderr",
     "output_type": "stream",
     "text": [
      "/Users/haox/opt/anaconda3/lib/python3.8/site-packages/torch_geometric/deprecation.py:13: UserWarning: 'data.DataLoader' is deprecated, use 'loader.DataLoader' instead\n",
      "  warnings.warn(out)\n"
     ]
    },
    {
     "name": "stdout",
     "output_type": "stream",
     "text": [
      "Epoch: 009, Train MAE: 0.1028, Train MSE: 0.0231\n",
      "Epoch: 009, Test MAE: 0.3026, Test MSE: 0.0972\n",
      "Time: 10.40812087059021\n",
      "---------------------------------------- 0.3\n",
      "++++++++++++++++++++++++++++++\n",
      "robert_MF+GIN_0.25 robert_MF+GIN_0.3\n",
      "9 9\n",
      "---------------------------------------- 0.35000000000000003\n",
      "graphs_train shape: 4005 graphs_train[0] shape: Data(x=[46, 277], edge_index=[2, 1], y=0.45183333333333336)\n",
      "graphs_test shape: 119 graphs_test[0] shape: Data(x=[46, 277], edge_index=[2, 1], y=0.36366666666666664)\n"
     ]
    },
    {
     "name": "stderr",
     "output_type": "stream",
     "text": [
      "/Users/haox/opt/anaconda3/lib/python3.8/site-packages/torch_geometric/deprecation.py:13: UserWarning: 'data.DataLoader' is deprecated, use 'loader.DataLoader' instead\n",
      "  warnings.warn(out)\n"
     ]
    },
    {
     "name": "stdout",
     "output_type": "stream",
     "text": [
      "Epoch: 009, Train MAE: 0.0981, Train MSE: 0.0203\n",
      "Epoch: 009, Test MAE: 0.2811, Test MSE: 0.0847\n",
      "Time: 18.7989981174469\n",
      "---------------------------------------- 0.4\n",
      "graphs_train shape: 4988 graphs_train[0] shape: Data(x=[46, 277], edge_index=[2, 1], y=0.45183333333333336)\n",
      "graphs_test shape: 119 graphs_test[0] shape: Data(x=[46, 277], edge_index=[2, 1], y=0.36366666666666664)\n"
     ]
    },
    {
     "name": "stderr",
     "output_type": "stream",
     "text": [
      "/Users/haox/opt/anaconda3/lib/python3.8/site-packages/torch_geometric/deprecation.py:13: UserWarning: 'data.DataLoader' is deprecated, use 'loader.DataLoader' instead\n",
      "  warnings.warn(out)\n"
     ]
    },
    {
     "name": "stdout",
     "output_type": "stream",
     "text": [
      "Epoch: 009, Train MAE: 0.2174, Train MSE: 0.2242\n",
      "Epoch: 009, Test MAE: 0.3275, Test MSE: 0.1130\n",
      "Time: 21.8075430393219\n",
      "---------------------------------------- 0.45\n",
      "graphs_train shape: 5611 graphs_train[0] shape: Data(x=[46, 277], edge_index=[2, 1], y=0.45183333333333336)\n",
      "graphs_test shape: 119 graphs_test[0] shape: Data(x=[46, 277], edge_index=[2, 1], y=0.36366666666666664)\n"
     ]
    },
    {
     "name": "stderr",
     "output_type": "stream",
     "text": [
      "/Users/haox/opt/anaconda3/lib/python3.8/site-packages/torch_geometric/deprecation.py:13: UserWarning: 'data.DataLoader' is deprecated, use 'loader.DataLoader' instead\n",
      "  warnings.warn(out)\n"
     ]
    },
    {
     "name": "stdout",
     "output_type": "stream",
     "text": [
      "Epoch: 009, Train MAE: 0.1141, Train MSE: 0.0233\n",
      "Epoch: 009, Test MAE: 0.3155, Test MSE: 0.1053\n",
      "Time: 27.805145978927612\n",
      "========================================\n",
      "34 segment\n",
      "---------------------------------------- 0.05\n",
      "graphs_train shape: 3269 graphs_train[0] shape: Data(x=[46, 277], edge_index=[2, 1], y=0.932)\n",
      "graphs_test shape: 340 graphs_test[0] shape: Data(x=[46, 277], edge_index=[2, 1], y=0.7858106644900136)\n"
     ]
    },
    {
     "name": "stderr",
     "output_type": "stream",
     "text": [
      "/Users/haox/opt/anaconda3/lib/python3.8/site-packages/torch_geometric/deprecation.py:13: UserWarning: 'data.DataLoader' is deprecated, use 'loader.DataLoader' instead\n",
      "  warnings.warn(out)\n"
     ]
    },
    {
     "name": "stdout",
     "output_type": "stream",
     "text": [
      "Epoch: 009, Train MAE: 0.0841, Train MSE: 0.0157\n",
      "Epoch: 009, Test MAE: 0.1020, Test MSE: 0.0126\n",
      "Time: 19.22672700881958\n",
      "---------------------------------------- 0.1\n",
      "graphs_train shape: 5223 graphs_train[0] shape: Data(x=[46, 277], edge_index=[2, 1], y=0.932)\n",
      "graphs_test shape: 340 graphs_test[0] shape: Data(x=[46, 277], edge_index=[2, 1], y=0.7858106644900136)\n"
     ]
    },
    {
     "name": "stderr",
     "output_type": "stream",
     "text": [
      "/Users/haox/opt/anaconda3/lib/python3.8/site-packages/torch_geometric/deprecation.py:13: UserWarning: 'data.DataLoader' is deprecated, use 'loader.DataLoader' instead\n",
      "  warnings.warn(out)\n"
     ]
    },
    {
     "name": "stdout",
     "output_type": "stream",
     "text": [
      "Epoch: 009, Train MAE: 0.0589, Train MSE: 0.0097\n",
      "Epoch: 009, Test MAE: 0.0525, Test MSE: 0.0062\n",
      "Time: 22.37274479866028\n",
      "---------------------------------------- 0.15000000000000002\n",
      "graphs_train shape: 6350 graphs_train[0] shape: Data(x=[46, 277], edge_index=[2, 1], y=0.932)\n",
      "graphs_test shape: 340 graphs_test[0] shape: Data(x=[46, 277], edge_index=[2, 1], y=0.7858106644900136)\n"
     ]
    },
    {
     "name": "stderr",
     "output_type": "stream",
     "text": [
      "/Users/haox/opt/anaconda3/lib/python3.8/site-packages/torch_geometric/deprecation.py:13: UserWarning: 'data.DataLoader' is deprecated, use 'loader.DataLoader' instead\n",
      "  warnings.warn(out)\n"
     ]
    },
    {
     "name": "stdout",
     "output_type": "stream",
     "text": [
      "Epoch: 009, Train MAE: 0.0888, Train MSE: 0.0130\n",
      "Epoch: 009, Test MAE: 0.1060, Test MSE: 0.0134\n",
      "Time: 30.370707988739014\n",
      "---------------------------------------- 0.2\n",
      "graphs_train shape: 6685 graphs_train[0] shape: Data(x=[46, 277], edge_index=[2, 1], y=0.932)\n",
      "graphs_test shape: 340 graphs_test[0] shape: Data(x=[46, 277], edge_index=[2, 1], y=0.7858106644900136)\n"
     ]
    },
    {
     "name": "stderr",
     "output_type": "stream",
     "text": [
      "/Users/haox/opt/anaconda3/lib/python3.8/site-packages/torch_geometric/deprecation.py:13: UserWarning: 'data.DataLoader' is deprecated, use 'loader.DataLoader' instead\n",
      "  warnings.warn(out)\n"
     ]
    },
    {
     "name": "stdout",
     "output_type": "stream",
     "text": [
      "Epoch: 009, Train MAE: 0.0959, Train MSE: 0.0189\n",
      "Epoch: 009, Test MAE: 0.1030, Test MSE: 0.0128\n",
      "Time: 34.64058494567871\n",
      "---------------------------------------- 0.25\n",
      "graphs_train shape: 8472 graphs_train[0] shape: Data(x=[46, 277], edge_index=[2, 1], y=0.932)\n",
      "graphs_test shape: 340 graphs_test[0] shape: Data(x=[46, 277], edge_index=[2, 1], y=0.7858106644900136)\n"
     ]
    },
    {
     "name": "stderr",
     "output_type": "stream",
     "text": [
      "/Users/haox/opt/anaconda3/lib/python3.8/site-packages/torch_geometric/deprecation.py:13: UserWarning: 'data.DataLoader' is deprecated, use 'loader.DataLoader' instead\n",
      "  warnings.warn(out)\n"
     ]
    },
    {
     "name": "stdout",
     "output_type": "stream",
     "text": [
      "Epoch: 009, Train MAE: 0.1056, Train MSE: 0.0212\n",
      "Epoch: 009, Test MAE: 0.0938, Test MSE: 0.0110\n",
      "Time: 38.9895601272583\n",
      "---------------------------------------- 0.3\n",
      "graphs_train shape: 8745 graphs_train[0] shape: Data(x=[46, 277], edge_index=[2, 1], y=0.932)\n",
      "graphs_test shape: 340 graphs_test[0] shape: Data(x=[46, 277], edge_index=[2, 1], y=0.7858106644900136)\n"
     ]
    },
    {
     "name": "stderr",
     "output_type": "stream",
     "text": [
      "/Users/haox/opt/anaconda3/lib/python3.8/site-packages/torch_geometric/deprecation.py:13: UserWarning: 'data.DataLoader' is deprecated, use 'loader.DataLoader' instead\n",
      "  warnings.warn(out)\n"
     ]
    },
    {
     "name": "stdout",
     "output_type": "stream",
     "text": [
      "Epoch: 009, Train MAE: 0.1085, Train MSE: 0.0224\n",
      "Epoch: 009, Test MAE: 0.0852, Test MSE: 0.0095\n",
      "Time: 46.74219012260437\n",
      "---------------------------------------- 0.35000000000000003\n",
      "graphs_train shape: 10159 graphs_train[0] shape: Data(x=[46, 277], edge_index=[2, 1], y=0.932)\n",
      "graphs_test shape: 340 graphs_test[0] shape: Data(x=[46, 277], edge_index=[2, 1], y=0.7858106644900136)\n"
     ]
    },
    {
     "name": "stderr",
     "output_type": "stream",
     "text": [
      "/Users/haox/opt/anaconda3/lib/python3.8/site-packages/torch_geometric/deprecation.py:13: UserWarning: 'data.DataLoader' is deprecated, use 'loader.DataLoader' instead\n",
      "  warnings.warn(out)\n"
     ]
    },
    {
     "name": "stdout",
     "output_type": "stream",
     "text": [
      "Epoch: 009, Train MAE: 0.1328, Train MSE: 0.0311\n",
      "Epoch: 009, Test MAE: 0.0911, Test MSE: 0.0105\n",
      "Time: 41.987061977386475\n",
      "---------------------------------------- 0.4\n",
      "graphs_train shape: 10761 graphs_train[0] shape: Data(x=[46, 277], edge_index=[2, 1], y=0.932)\n",
      "graphs_test shape: 340 graphs_test[0] shape: Data(x=[46, 277], edge_index=[2, 1], y=0.7858106644900136)\n"
     ]
    },
    {
     "name": "stderr",
     "output_type": "stream",
     "text": [
      "/Users/haox/opt/anaconda3/lib/python3.8/site-packages/torch_geometric/deprecation.py:13: UserWarning: 'data.DataLoader' is deprecated, use 'loader.DataLoader' instead\n",
      "  warnings.warn(out)\n"
     ]
    },
    {
     "name": "stdout",
     "output_type": "stream",
     "text": [
      "Epoch: 009, Train MAE: 0.1421, Train MSE: 0.0345\n",
      "Epoch: 009, Test MAE: 0.0887, Test MSE: 0.0101\n",
      "Time: 50.560890913009644\n",
      "---------------------------------------- 0.45\n",
      "graphs_train shape: 11104 graphs_train[0] shape: Data(x=[46, 277], edge_index=[2, 1], y=0.932)\n",
      "graphs_test shape: 340 graphs_test[0] shape: Data(x=[46, 277], edge_index=[2, 1], y=0.7858106644900136)\n"
     ]
    },
    {
     "name": "stderr",
     "output_type": "stream",
     "text": [
      "/Users/haox/opt/anaconda3/lib/python3.8/site-packages/torch_geometric/deprecation.py:13: UserWarning: 'data.DataLoader' is deprecated, use 'loader.DataLoader' instead\n",
      "  warnings.warn(out)\n"
     ]
    },
    {
     "name": "stdout",
     "output_type": "stream",
     "text": [
      "Epoch: 009, Train MAE: 0.1490, Train MSE: 0.0351\n",
      "Epoch: 009, Test MAE: 0.0756, Test MSE: 0.0081\n",
      "Time: 52.117871046066284\n",
      "========================================\n",
      "35 shuttle\n",
      "---------------------------------------- 0.05\n",
      "graphs_train shape: 2244 graphs_train[0] shape: Data(x=[46, 277], edge_index=[2, 1], y=0.932)\n",
      "graphs_test shape: 409 graphs_test[0] shape: Data(x=[46, 277], edge_index=[2, 1], y=0.9188333333333334)\n"
     ]
    },
    {
     "name": "stderr",
     "output_type": "stream",
     "text": [
      "/Users/haox/opt/anaconda3/lib/python3.8/site-packages/torch_geometric/deprecation.py:13: UserWarning: 'data.DataLoader' is deprecated, use 'loader.DataLoader' instead\n",
      "  warnings.warn(out)\n"
     ]
    },
    {
     "name": "stdout",
     "output_type": "stream",
     "text": [
      "Epoch: 009, Train MAE: 0.0422, Train MSE: 0.0102\n",
      "Epoch: 009, Test MAE: 0.0435, Test MSE: 0.0029\n",
      "Time: 9.901793003082275\n",
      "---------------------------------------- 0.1\n",
      "graphs_train shape: 3881 graphs_train[0] shape: Data(x=[46, 277], edge_index=[2, 1], y=0.932)\n",
      "graphs_test shape: 409 graphs_test[0] shape: Data(x=[46, 277], edge_index=[2, 1], y=0.9188333333333334)\n"
     ]
    },
    {
     "name": "stderr",
     "output_type": "stream",
     "text": [
      "/Users/haox/opt/anaconda3/lib/python3.8/site-packages/torch_geometric/deprecation.py:13: UserWarning: 'data.DataLoader' is deprecated, use 'loader.DataLoader' instead\n",
      "  warnings.warn(out)\n"
     ]
    },
    {
     "name": "stdout",
     "output_type": "stream",
     "text": [
      "Epoch: 009, Train MAE: 0.0552, Train MSE: 0.0083\n",
      "Epoch: 009, Test MAE: 0.0929, Test MSE: 0.0097\n",
      "Time: 16.418365001678467\n",
      "---------------------------------------- 0.15000000000000002\n",
      "graphs_train shape: 5154 graphs_train[0] shape: Data(x=[46, 277], edge_index=[2, 1], y=0.932)\n",
      "graphs_test shape: 409 graphs_test[0] shape: Data(x=[46, 277], edge_index=[2, 1], y=0.9188333333333334)\n"
     ]
    },
    {
     "name": "stderr",
     "output_type": "stream",
     "text": [
      "/Users/haox/opt/anaconda3/lib/python3.8/site-packages/torch_geometric/deprecation.py:13: UserWarning: 'data.DataLoader' is deprecated, use 'loader.DataLoader' instead\n",
      "  warnings.warn(out)\n"
     ]
    },
    {
     "name": "stdout",
     "output_type": "stream",
     "text": [
      "Epoch: 009, Train MAE: 0.0787, Train MSE: 0.0116\n",
      "Epoch: 009, Test MAE: 0.1174, Test MSE: 0.0148\n",
      "Time: 22.318727016448975\n",
      "---------------------------------------- 0.2\n",
      "graphs_train shape: 6281 graphs_train[0] shape: Data(x=[46, 277], edge_index=[2, 1], y=0.932)\n",
      "graphs_test shape: 409 graphs_test[0] shape: Data(x=[46, 277], edge_index=[2, 1], y=0.9188333333333334)\n"
     ]
    },
    {
     "name": "stderr",
     "output_type": "stream",
     "text": [
      "/Users/haox/opt/anaconda3/lib/python3.8/site-packages/torch_geometric/deprecation.py:13: UserWarning: 'data.DataLoader' is deprecated, use 'loader.DataLoader' instead\n",
      "  warnings.warn(out)\n"
     ]
    },
    {
     "name": "stdout",
     "output_type": "stream",
     "text": [
      "Epoch: 009, Train MAE: 0.0855, Train MSE: 0.0124\n",
      "Epoch: 009, Test MAE: 0.1317, Test MSE: 0.0184\n",
      "Time: 27.150273084640503\n",
      "---------------------------------------- 0.25\n",
      "graphs_train shape: 7264 graphs_train[0] shape: Data(x=[46, 277], edge_index=[2, 1], y=0.932)\n",
      "graphs_test shape: 409 graphs_test[0] shape: Data(x=[46, 277], edge_index=[2, 1], y=0.9188333333333334)\n"
     ]
    },
    {
     "name": "stderr",
     "output_type": "stream",
     "text": [
      "/Users/haox/opt/anaconda3/lib/python3.8/site-packages/torch_geometric/deprecation.py:13: UserWarning: 'data.DataLoader' is deprecated, use 'loader.DataLoader' instead\n",
      "  warnings.warn(out)\n"
     ]
    },
    {
     "name": "stdout",
     "output_type": "stream",
     "text": [
      "Epoch: 009, Train MAE: 0.1029, Train MSE: 0.0156\n",
      "Epoch: 009, Test MAE: 0.1735, Test MSE: 0.0310\n",
      "Time: 32.130900144577026\n",
      "---------------------------------------- 0.3\n",
      "graphs_train shape: 8403 graphs_train[0] shape: Data(x=[46, 277], edge_index=[2, 1], y=0.932)\n",
      "graphs_test shape: 409 graphs_test[0] shape: Data(x=[46, 277], edge_index=[2, 1], y=0.9188333333333334)\n"
     ]
    },
    {
     "name": "stderr",
     "output_type": "stream",
     "text": [
      "/Users/haox/opt/anaconda3/lib/python3.8/site-packages/torch_geometric/deprecation.py:13: UserWarning: 'data.DataLoader' is deprecated, use 'loader.DataLoader' instead\n",
      "  warnings.warn(out)\n"
     ]
    },
    {
     "name": "stdout",
     "output_type": "stream",
     "text": [
      "Epoch: 009, Train MAE: 0.1059, Train MSE: 0.0229\n",
      "Epoch: 009, Test MAE: 0.1001, Test MSE: 0.0111\n",
      "Time: 39.54571604728699\n",
      "---------------------------------------- 0.35000000000000003\n",
      "graphs_train shape: 8676 graphs_train[0] shape: Data(x=[46, 277], edge_index=[2, 1], y=0.932)\n",
      "graphs_test shape: 409 graphs_test[0] shape: Data(x=[46, 277], edge_index=[2, 1], y=0.9188333333333334)\n"
     ]
    },
    {
     "name": "stderr",
     "output_type": "stream",
     "text": [
      "/Users/haox/opt/anaconda3/lib/python3.8/site-packages/torch_geometric/deprecation.py:13: UserWarning: 'data.DataLoader' is deprecated, use 'loader.DataLoader' instead\n",
      "  warnings.warn(out)\n"
     ]
    },
    {
     "name": "stdout",
     "output_type": "stream",
     "text": [
      "Epoch: 009, Train MAE: 0.1086, Train MSE: 0.0205\n",
      "Epoch: 009, Test MAE: 0.1517, Test MSE: 0.0240\n",
      "Time: 33.44788694381714\n",
      "---------------------------------------- 0.4\n",
      "graphs_train shape: 10090 graphs_train[0] shape: Data(x=[46, 277], edge_index=[2, 1], y=0.932)\n",
      "graphs_test shape: 409 graphs_test[0] shape: Data(x=[46, 277], edge_index=[2, 1], y=0.9188333333333334)\n"
     ]
    },
    {
     "name": "stderr",
     "output_type": "stream",
     "text": [
      "/Users/haox/opt/anaconda3/lib/python3.8/site-packages/torch_geometric/deprecation.py:13: UserWarning: 'data.DataLoader' is deprecated, use 'loader.DataLoader' instead\n",
      "  warnings.warn(out)\n"
     ]
    },
    {
     "name": "stdout",
     "output_type": "stream",
     "text": [
      "Epoch: 009, Train MAE: 0.1288, Train MSE: 0.0268\n",
      "Epoch: 009, Test MAE: 0.1635, Test MSE: 0.0277\n",
      "Time: 49.13206195831299\n",
      "---------------------------------------- 0.45\n",
      "graphs_train shape: 10692 graphs_train[0] shape: Data(x=[46, 277], edge_index=[2, 1], y=0.932)\n",
      "graphs_test shape: 409 graphs_test[0] shape: Data(x=[46, 277], edge_index=[2, 1], y=0.9188333333333334)\n"
     ]
    },
    {
     "name": "stderr",
     "output_type": "stream",
     "text": [
      "/Users/haox/opt/anaconda3/lib/python3.8/site-packages/torch_geometric/deprecation.py:13: UserWarning: 'data.DataLoader' is deprecated, use 'loader.DataLoader' instead\n",
      "  warnings.warn(out)\n"
     ]
    },
    {
     "name": "stdout",
     "output_type": "stream",
     "text": [
      "Epoch: 009, Train MAE: 0.1360, Train MSE: 0.0298\n",
      "Epoch: 009, Test MAE: 0.1499, Test MSE: 0.0234\n",
      "Time: 44.800474882125854\n",
      "========================================\n",
      "36 sylvine\n",
      "---------------------------------------- 0.05\n",
      "graphs_train shape: 1925 graphs_train[0] shape: Data(x=[46, 277], edge_index=[2, 1], y=0.7858106644900136)\n",
      "graphs_test shape: 368 graphs_test[0] shape: Data(x=[46, 277], edge_index=[2, 1], y=0.8907147404638058)\n"
     ]
    },
    {
     "name": "stderr",
     "output_type": "stream",
     "text": [
      "/Users/haox/opt/anaconda3/lib/python3.8/site-packages/torch_geometric/deprecation.py:13: UserWarning: 'data.DataLoader' is deprecated, use 'loader.DataLoader' instead\n",
      "  warnings.warn(out)\n"
     ]
    },
    {
     "name": "stdout",
     "output_type": "stream",
     "text": [
      "Epoch: 009, Train MAE: 0.0542, Train MSE: 0.0050\n",
      "Epoch: 009, Test MAE: 0.0550, Test MSE: 0.0059\n",
      "Time: 8.355326890945435\n",
      "---------------------------------------- 0.1\n",
      "graphs_train shape: 6322 graphs_train[0] shape: Data(x=[46, 277], edge_index=[2, 1], y=0.932)\n",
      "graphs_test shape: 368 graphs_test[0] shape: Data(x=[46, 277], edge_index=[2, 1], y=0.8907147404638058)\n"
     ]
    },
    {
     "name": "stderr",
     "output_type": "stream",
     "text": [
      "/Users/haox/opt/anaconda3/lib/python3.8/site-packages/torch_geometric/deprecation.py:13: UserWarning: 'data.DataLoader' is deprecated, use 'loader.DataLoader' instead\n",
      "  warnings.warn(out)\n"
     ]
    },
    {
     "name": "stdout",
     "output_type": "stream",
     "text": [
      "Epoch: 009, Train MAE: 0.0810, Train MSE: 0.0118\n",
      "Epoch: 009, Test MAE: 0.0566, Test MSE: 0.0059\n",
      "Time: 35.183281898498535\n",
      "---------------------------------------- 0.15000000000000002\n",
      "++++++++++++++++++++++++++++++\n",
      "sylvine_MF+GIN_0.1 sylvine_MF+GIN_0.15\n",
      "20 20\n",
      "---------------------------------------- 0.2\n",
      "graphs_train shape: 7903 graphs_train[0] shape: Data(x=[46, 277], edge_index=[2, 1], y=0.932)\n",
      "graphs_test shape: 368 graphs_test[0] shape: Data(x=[46, 277], edge_index=[2, 1], y=0.8907147404638058)\n"
     ]
    },
    {
     "name": "stderr",
     "output_type": "stream",
     "text": [
      "/Users/haox/opt/anaconda3/lib/python3.8/site-packages/torch_geometric/deprecation.py:13: UserWarning: 'data.DataLoader' is deprecated, use 'loader.DataLoader' instead\n",
      "  warnings.warn(out)\n"
     ]
    },
    {
     "name": "stdout",
     "output_type": "stream",
     "text": [
      "Epoch: 009, Train MAE: 0.1060, Train MSE: 0.0214\n",
      "Epoch: 009, Test MAE: 0.0475, Test MSE: 0.0067\n",
      "Time: 37.23116993904114\n",
      "---------------------------------------- 0.25\n",
      "graphs_train shape: 8717 graphs_train[0] shape: Data(x=[46, 277], edge_index=[2, 1], y=0.932)\n",
      "graphs_test shape: 368 graphs_test[0] shape: Data(x=[46, 277], edge_index=[2, 1], y=0.8907147404638058)\n"
     ]
    },
    {
     "name": "stderr",
     "output_type": "stream",
     "text": [
      "/Users/haox/opt/anaconda3/lib/python3.8/site-packages/torch_geometric/deprecation.py:13: UserWarning: 'data.DataLoader' is deprecated, use 'loader.DataLoader' instead\n",
      "  warnings.warn(out)\n"
     ]
    },
    {
     "name": "stdout",
     "output_type": "stream",
     "text": [
      "Epoch: 009, Train MAE: 0.1173, Train MSE: 0.0273\n",
      "Epoch: 009, Test MAE: 0.0550, Test MSE: 0.0059\n",
      "Time: 37.7995810508728\n",
      "---------------------------------------- 0.3\n",
      "graphs_train shape: 10131 graphs_train[0] shape: Data(x=[46, 277], edge_index=[2, 1], y=0.932)\n",
      "graphs_test shape: 368 graphs_test[0] shape: Data(x=[46, 277], edge_index=[2, 1], y=0.8907147404638058)\n"
     ]
    },
    {
     "name": "stderr",
     "output_type": "stream",
     "text": [
      "/Users/haox/opt/anaconda3/lib/python3.8/site-packages/torch_geometric/deprecation.py:13: UserWarning: 'data.DataLoader' is deprecated, use 'loader.DataLoader' instead\n",
      "  warnings.warn(out)\n"
     ]
    },
    {
     "name": "stdout",
     "output_type": "stream",
     "text": [
      "Epoch: 009, Train MAE: 0.1342, Train MSE: 0.0314\n",
      "Epoch: 009, Test MAE: 0.0610, Test MSE: 0.0061\n",
      "Time: 42.00831389427185\n",
      "---------------------------------------- 0.35000000000000003\n",
      "graphs_train shape: 10412 graphs_train[0] shape: Data(x=[46, 277], edge_index=[2, 1], y=0.932)\n",
      "graphs_test shape: 368 graphs_test[0] shape: Data(x=[46, 277], edge_index=[2, 1], y=0.8907147404638058)\n"
     ]
    },
    {
     "name": "stderr",
     "output_type": "stream",
     "text": [
      "/Users/haox/opt/anaconda3/lib/python3.8/site-packages/torch_geometric/deprecation.py:13: UserWarning: 'data.DataLoader' is deprecated, use 'loader.DataLoader' instead\n",
      "  warnings.warn(out)\n"
     ]
    },
    {
     "name": "stdout",
     "output_type": "stream",
     "text": [
      "Epoch: 009, Train MAE: 0.1383, Train MSE: 0.0328\n",
      "Epoch: 009, Test MAE: 0.0612, Test MSE: 0.0061\n",
      "Time: 46.11307692527771\n",
      "---------------------------------------- 0.4\n",
      "graphs_train shape: 10733 graphs_train[0] shape: Data(x=[46, 277], edge_index=[2, 1], y=0.932)\n",
      "graphs_test shape: 368 graphs_test[0] shape: Data(x=[46, 277], edge_index=[2, 1], y=0.8907147404638058)\n"
     ]
    },
    {
     "name": "stderr",
     "output_type": "stream",
     "text": [
      "/Users/haox/opt/anaconda3/lib/python3.8/site-packages/torch_geometric/deprecation.py:13: UserWarning: 'data.DataLoader' is deprecated, use 'loader.DataLoader' instead\n",
      "  warnings.warn(out)\n"
     ]
    },
    {
     "name": "stdout",
     "output_type": "stream",
     "text": [
      "Epoch: 009, Train MAE: 0.1458, Train MSE: 0.0372\n",
      "Epoch: 009, Test MAE: 0.0521, Test MSE: 0.0060\n",
      "Time: 47.36717891693115\n",
      "---------------------------------------- 0.45\n",
      "graphs_train shape: 11076 graphs_train[0] shape: Data(x=[46, 277], edge_index=[2, 1], y=0.932)\n",
      "graphs_test shape: 368 graphs_test[0] shape: Data(x=[46, 277], edge_index=[2, 1], y=0.8907147404638058)\n"
     ]
    },
    {
     "name": "stderr",
     "output_type": "stream",
     "text": [
      "/Users/haox/opt/anaconda3/lib/python3.8/site-packages/torch_geometric/deprecation.py:13: UserWarning: 'data.DataLoader' is deprecated, use 'loader.DataLoader' instead\n",
      "  warnings.warn(out)\n"
     ]
    },
    {
     "name": "stdout",
     "output_type": "stream",
     "text": [
      "Epoch: 009, Train MAE: 0.1492, Train MSE: 0.0372\n",
      "Epoch: 009, Test MAE: 0.0614, Test MSE: 0.0061\n",
      "Time: 48.51735496520996\n",
      "========================================\n",
      "37 vehicle\n",
      "---------------------------------------- 0.05\n",
      "graphs_train shape: 2016 graphs_train[0] shape: Data(x=[46, 277], edge_index=[2, 1], y=0.45183333333333336)\n",
      "graphs_test shape: 379 graphs_test[0] shape: Data(x=[46, 277], edge_index=[2, 1], y=0.4556213017751479)\n"
     ]
    },
    {
     "name": "stderr",
     "output_type": "stream",
     "text": [
      "/Users/haox/opt/anaconda3/lib/python3.8/site-packages/torch_geometric/deprecation.py:13: UserWarning: 'data.DataLoader' is deprecated, use 'loader.DataLoader' instead\n",
      "  warnings.warn(out)\n"
     ]
    },
    {
     "name": "stdout",
     "output_type": "stream",
     "text": [
      "Epoch: 009, Train MAE: 0.1002, Train MSE: 0.0238\n",
      "Epoch: 009, Test MAE: 0.0587, Test MSE: 0.0075\n",
      "Time: 11.001450061798096\n",
      "---------------------------------------- 0.1\n",
      "graphs_train shape: 3430 graphs_train[0] shape: Data(x=[46, 277], edge_index=[2, 1], y=0.45183333333333336)\n",
      "graphs_test shape: 379 graphs_test[0] shape: Data(x=[46, 277], edge_index=[2, 1], y=0.4556213017751479)\n"
     ]
    },
    {
     "name": "stderr",
     "output_type": "stream",
     "text": [
      "/Users/haox/opt/anaconda3/lib/python3.8/site-packages/torch_geometric/deprecation.py:13: UserWarning: 'data.DataLoader' is deprecated, use 'loader.DataLoader' instead\n",
      "  warnings.warn(out)\n"
     ]
    },
    {
     "name": "stdout",
     "output_type": "stream",
     "text": [
      "Epoch: 009, Train MAE: 0.0969, Train MSE: 0.0167\n",
      "Epoch: 009, Test MAE: 0.0814, Test MSE: 0.0096\n",
      "Time: 17.906164169311523\n",
      "---------------------------------------- 0.15000000000000002\n",
      "graphs_train shape: 6111 graphs_train[0] shape: Data(x=[46, 277], edge_index=[2, 1], y=0.45183333333333336)\n",
      "graphs_test shape: 379 graphs_test[0] shape: Data(x=[46, 277], edge_index=[2, 1], y=0.4556213017751479)\n"
     ]
    },
    {
     "name": "stderr",
     "output_type": "stream",
     "text": [
      "/Users/haox/opt/anaconda3/lib/python3.8/site-packages/torch_geometric/deprecation.py:13: UserWarning: 'data.DataLoader' is deprecated, use 'loader.DataLoader' instead\n",
      "  warnings.warn(out)\n"
     ]
    },
    {
     "name": "stdout",
     "output_type": "stream",
     "text": [
      "Epoch: 009, Train MAE: 0.1086, Train MSE: 0.0203\n",
      "Epoch: 009, Test MAE: 0.0576, Test MSE: 0.0077\n",
      "Time: 30.005170822143555\n",
      "---------------------------------------- 0.2\n",
      "graphs_train shape: 6751 graphs_train[0] shape: Data(x=[46, 277], edge_index=[2, 1], y=0.45183333333333336)\n",
      "graphs_test shape: 379 graphs_test[0] shape: Data(x=[46, 277], edge_index=[2, 1], y=0.4556213017751479)\n"
     ]
    },
    {
     "name": "stderr",
     "output_type": "stream",
     "text": [
      "/Users/haox/opt/anaconda3/lib/python3.8/site-packages/torch_geometric/deprecation.py:13: UserWarning: 'data.DataLoader' is deprecated, use 'loader.DataLoader' instead\n",
      "  warnings.warn(out)\n"
     ]
    },
    {
     "name": "stdout",
     "output_type": "stream",
     "text": [
      "Epoch: 009, Train MAE: 0.2944, Train MSE: 0.1236\n",
      "Epoch: 009, Test MAE: 0.2025, Test MSE: 0.0483\n",
      "Time: 25.862147092819214\n",
      "---------------------------------------- 0.25\n",
      "graphs_train shape: 9068 graphs_train[0] shape: Data(x=[46, 277], edge_index=[2, 1], y=0.45183333333333336)\n",
      "graphs_test shape: 379 graphs_test[0] shape: Data(x=[46, 277], edge_index=[2, 1], y=0.4556213017751479)\n"
     ]
    },
    {
     "name": "stderr",
     "output_type": "stream",
     "text": [
      "/Users/haox/opt/anaconda3/lib/python3.8/site-packages/torch_geometric/deprecation.py:13: UserWarning: 'data.DataLoader' is deprecated, use 'loader.DataLoader' instead\n",
      "  warnings.warn(out)\n"
     ]
    },
    {
     "name": "stdout",
     "output_type": "stream",
     "text": [
      "Epoch: 009, Train MAE: 0.1347, Train MSE: 0.0279\n",
      "Epoch: 009, Test MAE: 0.0940, Test MSE: 0.0159\n",
      "Time: 43.93563222885132\n",
      "---------------------------------------- 0.3\n",
      "graphs_train shape: 11065 graphs_train[0] shape: Data(x=[46, 277], edge_index=[2, 1], y=0.932)\n",
      "graphs_test shape: 379 graphs_test[0] shape: Data(x=[46, 277], edge_index=[2, 1], y=0.4556213017751479)\n"
     ]
    },
    {
     "name": "stderr",
     "output_type": "stream",
     "text": [
      "/Users/haox/opt/anaconda3/lib/python3.8/site-packages/torch_geometric/deprecation.py:13: UserWarning: 'data.DataLoader' is deprecated, use 'loader.DataLoader' instead\n",
      "  warnings.warn(out)\n"
     ]
    },
    {
     "name": "stdout",
     "output_type": "stream",
     "text": [
      "Epoch: 009, Train MAE: 0.1454, Train MSE: 0.0361\n",
      "Epoch: 009, Test MAE: 0.1715, Test MSE: 0.0367\n",
      "Time: 47.903424978256226\n",
      "---------------------------------------- 0.35000000000000003\n",
      "graphs_train shape: 11184 graphs_train[0] shape: Data(x=[46, 277], edge_index=[2, 1], y=0.932)\n",
      "graphs_test shape: 379 graphs_test[0] shape: Data(x=[46, 277], edge_index=[2, 1], y=0.4556213017751479)\n"
     ]
    },
    {
     "name": "stderr",
     "output_type": "stream",
     "text": [
      "/Users/haox/opt/anaconda3/lib/python3.8/site-packages/torch_geometric/deprecation.py:13: UserWarning: 'data.DataLoader' is deprecated, use 'loader.DataLoader' instead\n",
      "  warnings.warn(out)\n"
     ]
    },
    {
     "name": "stdout",
     "output_type": "stream",
     "text": [
      "Epoch: 009, Train MAE: 0.1493, Train MSE: 0.0385\n",
      "Epoch: 009, Test MAE: 0.1693, Test MSE: 0.0360\n",
      "Time: 49.86049485206604\n",
      "---------------------------------------- 0.4\n",
      "++++++++++++++++++++++++++++++\n",
      "vehicle_MF+GIN_0.35 vehicle_MF+GIN_0.4\n",
      "37 37\n",
      "---------------------------------------- 0.45\n",
      "graphs_train shape: 11418 graphs_train[0] shape: Data(x=[46, 277], edge_index=[2, 1], y=0.932)\n",
      "graphs_test shape: 379 graphs_test[0] shape: Data(x=[46, 277], edge_index=[2, 1], y=0.4556213017751479)\n"
     ]
    },
    {
     "name": "stderr",
     "output_type": "stream",
     "text": [
      "/Users/haox/opt/anaconda3/lib/python3.8/site-packages/torch_geometric/deprecation.py:13: UserWarning: 'data.DataLoader' is deprecated, use 'loader.DataLoader' instead\n",
      "  warnings.warn(out)\n"
     ]
    },
    {
     "name": "stdout",
     "output_type": "stream",
     "text": [
      "Epoch: 009, Train MAE: 0.1579, Train MSE: 0.0460\n",
      "Epoch: 009, Test MAE: 0.1681, Test MSE: 0.0356\n",
      "Time: 51.81777501106262\n",
      "========================================\n",
      "38 volkert\n",
      "---------------------------------------- 0.05\n",
      "graphs_train shape: 1057 graphs_train[0] shape: Data(x=[46, 277], edge_index=[2, 1], y=0.5485)\n",
      "graphs_test shape: 357 graphs_test[0] shape: Data(x=[46, 277], edge_index=[2, 1], y=0.30466666666666664)\n"
     ]
    },
    {
     "name": "stderr",
     "output_type": "stream",
     "text": [
      "/Users/haox/opt/anaconda3/lib/python3.8/site-packages/torch_geometric/deprecation.py:13: UserWarning: 'data.DataLoader' is deprecated, use 'loader.DataLoader' instead\n",
      "  warnings.warn(out)\n"
     ]
    },
    {
     "name": "stdout",
     "output_type": "stream",
     "text": [
      "Epoch: 009, Train MAE: 0.0641, Train MSE: 0.0058\n",
      "Epoch: 009, Test MAE: 0.0697, Test MSE: 0.0093\n",
      "Time: 5.186501979827881\n",
      "---------------------------------------- 0.1\n",
      "graphs_train shape: 2795 graphs_train[0] shape: Data(x=[46, 277], edge_index=[2, 1], y=0.4556213017751479)\n",
      "graphs_test shape: 357 graphs_test[0] shape: Data(x=[46, 277], edge_index=[2, 1], y=0.30466666666666664)\n"
     ]
    },
    {
     "name": "stderr",
     "output_type": "stream",
     "text": [
      "/Users/haox/opt/anaconda3/lib/python3.8/site-packages/torch_geometric/deprecation.py:13: UserWarning: 'data.DataLoader' is deprecated, use 'loader.DataLoader' instead\n",
      "  warnings.warn(out)\n"
     ]
    },
    {
     "name": "stdout",
     "output_type": "stream",
     "text": [
      "Epoch: 009, Train MAE: 0.2335, Train MSE: 0.1800\n",
      "Epoch: 009, Test MAE: 0.4218, Test MSE: 0.1847\n",
      "Time: 11.435283899307251\n",
      "---------------------------------------- 0.15000000000000002\n",
      "graphs_train shape: 4397 graphs_train[0] shape: Data(x=[46, 277], edge_index=[2, 1], y=0.45183333333333336)\n",
      "graphs_test shape: 357 graphs_test[0] shape: Data(x=[46, 277], edge_index=[2, 1], y=0.30466666666666664)\n"
     ]
    },
    {
     "name": "stderr",
     "output_type": "stream",
     "text": [
      "/Users/haox/opt/anaconda3/lib/python3.8/site-packages/torch_geometric/deprecation.py:13: UserWarning: 'data.DataLoader' is deprecated, use 'loader.DataLoader' instead\n",
      "  warnings.warn(out)\n"
     ]
    },
    {
     "name": "stdout",
     "output_type": "stream",
     "text": [
      "Epoch: 009, Train MAE: 0.0998, Train MSE: 0.0163\n",
      "Epoch: 009, Test MAE: 0.0680, Test MSE: 0.0079\n",
      "Time: 19.393018007278442\n",
      "---------------------------------------- 0.2\n",
      "++++++++++++++++++++++++++++++\n",
      "volkert_MF+GIN_0.15 volkert_MF+GIN_0.2\n",
      "15 15\n",
      "---------------------------------------- 0.25\n",
      "graphs_train shape: 6916 graphs_train[0] shape: Data(x=[46, 277], edge_index=[2, 1], y=0.45183333333333336)\n",
      "graphs_test shape: 357 graphs_test[0] shape: Data(x=[46, 277], edge_index=[2, 1], y=0.30466666666666664)\n"
     ]
    },
    {
     "name": "stderr",
     "output_type": "stream",
     "text": [
      "/Users/haox/opt/anaconda3/lib/python3.8/site-packages/torch_geometric/deprecation.py:13: UserWarning: 'data.DataLoader' is deprecated, use 'loader.DataLoader' instead\n",
      "  warnings.warn(out)\n"
     ]
    },
    {
     "name": "stdout",
     "output_type": "stream",
     "text": [
      "Epoch: 009, Train MAE: 0.1179, Train MSE: 0.0228\n",
      "Epoch: 009, Test MAE: 0.1971, Test MSE: 0.0458\n",
      "Time: 29.307363986968994\n",
      "---------------------------------------- 0.3\n",
      "graphs_train shape: 7891 graphs_train[0] shape: Data(x=[46, 277], edge_index=[2, 1], y=0.45183333333333336)\n",
      "graphs_test shape: 357 graphs_test[0] shape: Data(x=[46, 277], edge_index=[2, 1], y=0.30466666666666664)\n"
     ]
    },
    {
     "name": "stderr",
     "output_type": "stream",
     "text": [
      "/Users/haox/opt/anaconda3/lib/python3.8/site-packages/torch_geometric/deprecation.py:13: UserWarning: 'data.DataLoader' is deprecated, use 'loader.DataLoader' instead\n",
      "  warnings.warn(out)\n"
     ]
    },
    {
     "name": "stdout",
     "output_type": "stream",
     "text": [
      "Epoch: 009, Train MAE: 0.1240, Train MSE: 0.0252\n",
      "Epoch: 009, Test MAE: 0.2366, Test MSE: 0.0629\n",
      "Time: 34.12738037109375\n",
      "---------------------------------------- 0.35000000000000003\n",
      "graphs_train shape: 9660 graphs_train[0] shape: Data(x=[46, 277], edge_index=[2, 1], y=0.45183333333333336)\n",
      "graphs_test shape: 357 graphs_test[0] shape: Data(x=[46, 277], edge_index=[2, 1], y=0.30466666666666664)\n"
     ]
    },
    {
     "name": "stderr",
     "output_type": "stream",
     "text": [
      "/Users/haox/opt/anaconda3/lib/python3.8/site-packages/torch_geometric/deprecation.py:13: UserWarning: 'data.DataLoader' is deprecated, use 'loader.DataLoader' instead\n",
      "  warnings.warn(out)\n"
     ]
    },
    {
     "name": "stdout",
     "output_type": "stream",
     "text": [
      "Epoch: 009, Train MAE: 0.1315, Train MSE: 0.0257\n",
      "Epoch: 009, Test MAE: 0.2631, Test MSE: 0.0762\n",
      "Time: 43.091737270355225\n",
      "---------------------------------------- 0.4\n",
      "graphs_train shape: 11440 graphs_train[0] shape: Data(x=[46, 277], edge_index=[2, 1], y=0.932)\n",
      "graphs_test shape: 357 graphs_test[0] shape: Data(x=[46, 277], edge_index=[2, 1], y=0.30466666666666664)\n"
     ]
    },
    {
     "name": "stderr",
     "output_type": "stream",
     "text": [
      "/Users/haox/opt/anaconda3/lib/python3.8/site-packages/torch_geometric/deprecation.py:13: UserWarning: 'data.DataLoader' is deprecated, use 'loader.DataLoader' instead\n",
      "  warnings.warn(out)\n"
     ]
    },
    {
     "name": "stdout",
     "output_type": "stream",
     "text": [
      "Epoch: 009, Train MAE: 0.1716, Train MSE: 0.0565\n",
      "Epoch: 009, Test MAE: 0.2914, Test MSE: 0.0919\n",
      "Time: 52.55566883087158\n",
      "---------------------------------------- 0.45\n",
      "++++++++++++++++++++++++++++++\n",
      "volkert_MF+GIN_0.4 volkert_MF+GIN_0.45\n",
      "38 38\n"
     ]
    }
   ],
   "source": [
    "from torch_geometric.data import DataLoader\n",
    "\n",
    "target_test_pred_time = {}\n",
    "data_names = list(MF_np.keys())\n",
    "data_embed = MF_np\n",
    "batch_size = 64\n",
    "\n",
    "for data_index, data_name in enumerate(data_names):\n",
    "    print(\"=\"*40)\n",
    "    print(data_index, data_name)\n",
    "    \n",
    "    task_test = [data_name]\n",
    "    candidate_score = DDN[data_name]\n",
    "    prev_key = None\n",
    "    dict_key = None\n",
    "    len_task_train = 0\n",
    "    prev_len_task_train = 0\n",
    "    for threshold in np.arange(0.05, 0.5, 0.05):\n",
    "        print(\"-\"*40, threshold)\n",
    "        prev_key = dict_key\n",
    "        dict_key = '_'.join([data_name, combination_name, str(round(threshold,2))])\n",
    "        \n",
    "        start = time.time()\n",
    "        task_train = [i for i in data_names if i!=data_name and abs(DDN[i]-candidate_score)<threshold]\n",
    "        prev_len_task_train = len_task_train\n",
    "        len_task_train = len(task_train)\n",
    "        if len_task_train == 0:\n",
    "            target_test_pred_time[dict_key] = 'N.A.'\n",
    "            pickle.dump(target_test_pred_time, open(log_target_test_pred_time, \"wb\"))\n",
    "            continue\n",
    "            \n",
    "        if len_task_train == prev_len_task_train:\n",
    "            print(\"+\"*30)\n",
    "            print(prev_key, dict_key)\n",
    "            print(prev_len_task_train, len_task_train)\n",
    "            target_test_pred_time[dict_key] =  target_test_pred_time[prev_key]\n",
    "            continue\n",
    "\n",
    "        graphs_train = []\n",
    "        graphs_test = []\n",
    "        for key in graphs:\n",
    "            if key in task_train:\n",
    "                graphs_train += graphs[key]\n",
    "            elif key in task_test:\n",
    "                graphs_test += graphs[key]\n",
    "        train_loader = DataLoader(graphs_train, batch_size=batch_size, shuffle=False)\n",
    "        test_loader = DataLoader(graphs_test, batch_size=batch_size, shuffle=False)\n",
    "        print(\"graphs_train shape:\", len(graphs_train), \"graphs_train[0] shape:\", graphs_train[0])\n",
    "        print(\"graphs_test shape:\", len(graphs_test), \"graphs_test[0] shape:\", graphs_test[0])\n",
    "\n",
    "        model = GIN(in_channels=graphs_train[0].num_node_features, hidden_channels=64).to(device)\n",
    "        optimizer = torch.optim.Adam(model.parameters(), lr=0.01)\n",
    "        criterion = torch.nn.MSELoss() \n",
    "        def train():\n",
    "            model.train()\n",
    "            for data in train_loader:  # Iterate in batches over the training dataset.\n",
    "                out = model(data.x, data.edge_index, data.batch)  # Perform a single forward pass.\n",
    "                loss = criterion(out, data.y.float().reshape(data.y.shape[0],1).to(device))  # Compute the loss.\n",
    "#                 print(data.y.float())\n",
    "                # loss = criterion(out, data.y.to(device))  # Compute the loss.\n",
    "                loss.backward()  # Derive gradients.\n",
    "                optimizer.step()  # Update parameters based on gradients.\n",
    "                optimizer.zero_grad()  # Clear gradients.\n",
    "\n",
    "        def test(loader):\n",
    "            model.eval()\n",
    "            test = []\n",
    "            pred = []\n",
    "            for data in loader:  # Iterate in batches over the training/test dataset.\n",
    "                out = model(data.x, data.edge_index, data.batch)  \n",
    "        #         print(out, data.y)\n",
    "                if len(test) == 0:\n",
    "                    test = data.y\n",
    "                    pred = out.detach()\n",
    "                else:\n",
    "                    test = torch.cat((test, data.y))\n",
    "                    pred = torch.cat((pred, out.detach()))\n",
    "            return test, pred, mean_absolute_error(test.cpu(), pred.cpu()), mean_squared_error(test.cpu(), pred.cpu())  # Derive ratio of correct predictions.\n",
    "\n",
    "\n",
    "        start = time.time()\n",
    "        for epoch in range(10):\n",
    "            train()\n",
    "            _, _, train_mae, train_mse = test(train_loader)\n",
    "            test_y, pred_y, test_mae, test_mse = test(test_loader)\n",
    "        #     test_acc = test(test_loader)\n",
    "        end  = time.time()\n",
    "        duration = end-start\n",
    "        print(f'Epoch: {epoch:03d}, Train MAE: {train_mae:.4f}, Train MSE: {train_mse:.4f}')\n",
    "        print(f'Epoch: {epoch:03d}, Test MAE: {test_mae:.4f}, Test MSE: {test_mse:.4f}')\n",
    "        print(\"Time:\", duration)\n",
    "        \n",
    "        target_test_pred_time[dict_key] = (test_y, pred_y, duration, test_mae, test_mse)\n",
    "        pickle.dump(target_test_pred_time, open(log_target_test_pred_time, 'wb'))\n",
    "    \n"
   ]
  },
  {
   "cell_type": "code",
   "execution_count": 11,
   "id": "dab781fe",
   "metadata": {},
   "outputs": [
    {
     "ename": "NameError",
     "evalue": "name 'loss' is not defined",
     "output_type": "error",
     "traceback": [
      "\u001b[0;31m---------------------------------------------------------------------------\u001b[0m",
      "\u001b[0;31mNameError\u001b[0m                                 Traceback (most recent call last)",
      "\u001b[0;32m<ipython-input-11-de191f53719d>\u001b[0m in \u001b[0;36m<module>\u001b[0;34m\u001b[0m\n\u001b[0;32m----> 1\u001b[0;31m \u001b[0mloss\u001b[0m\u001b[0;34m\u001b[0m\u001b[0;34m\u001b[0m\u001b[0m\n\u001b[0m",
      "\u001b[0;31mNameError\u001b[0m: name 'loss' is not defined"
     ]
    }
   ],
   "source": [
    "loss"
   ]
  },
  {
   "cell_type": "code",
   "execution_count": null,
   "id": "245c2ff9",
   "metadata": {},
   "outputs": [],
   "source": []
  }
 ],
 "metadata": {
  "kernelspec": {
   "display_name": "Python 3",
   "language": "python",
   "name": "python3"
  },
  "language_info": {
   "codemirror_mode": {
    "name": "ipython",
    "version": 3
   },
   "file_extension": ".py",
   "mimetype": "text/x-python",
   "name": "python",
   "nbconvert_exporter": "python",
   "pygments_lexer": "ipython3",
   "version": "3.8.8"
  }
 },
 "nbformat": 4,
 "nbformat_minor": 5
}
