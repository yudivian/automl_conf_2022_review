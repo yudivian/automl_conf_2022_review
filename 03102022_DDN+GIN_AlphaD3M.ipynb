{
 "cells": [
  {
   "cell_type": "code",
   "execution_count": 3,
   "id": "17534b9f",
   "metadata": {},
   "outputs": [],
   "source": [
    "import pickle\n",
    "import math\n",
    "import numpy as np\n",
    "import time\n",
    "import networkx as nx\n",
    "\n",
    "import torch\n",
    "from torch.nn import Linear\n",
    "import torch.nn.functional as F\n",
    "from torch_geometric.nn import GCNConv\n",
    "\n",
    "from sklearn.metrics import mean_absolute_error, mean_squared_error, r2_score\n"
   ]
  },
  {
   "cell_type": "code",
   "execution_count": 4,
   "id": "ebf5af67",
   "metadata": {},
   "outputs": [],
   "source": [
    "AutoML_path = \"\"\n",
    "log_folder = \"alphad3m_log\"\n",
    "\n",
    "log_DDN = AutoML_path+log_folder+'/DDN_single_time'\n",
    "log_pipeline_steps = AutoML_path+log_folder+'/pipeline_steps_class_02272022'\n",
    "\n",
    "combination_name = 'DDN+GIN'\n",
    "today = '03102022'\n",
    "log_target_test_pred_time = AutoML_path+log_folder+'/'+combination_name+'_target_test_pred_time_'+today"
   ]
  },
  {
   "cell_type": "code",
   "execution_count": 5,
   "id": "62870f07",
   "metadata": {},
   "outputs": [
    {
     "name": "stdout",
     "output_type": "stream",
     "text": [
      "39\n",
      "7811\n"
     ]
    }
   ],
   "source": [
    "DDN = pickle.load(open(log_DDN, \"rb\"))\n",
    "print(len(DDN))\n",
    "\n",
    "pipeline_steps_class = pickle.load(open(log_pipeline_steps, 'rb'))\n",
    "print(len(pipeline_steps_class))\n",
    "\n"
   ]
  },
  {
   "cell_type": "code",
   "execution_count": 6,
   "id": "3ad017fe",
   "metadata": {},
   "outputs": [
    {
     "name": "stderr",
     "output_type": "stream",
     "text": [
      "<ipython-input-6-30d66257d9b8>:14: UserWarning: Creating a tensor from a list of numpy.ndarrays is extremely slow. Please consider converting the list to a single numpy.ndarray with numpy.array() before converting to a tensor. (Triggered internally at  ../torch/csrc/utils/tensor_new.cpp:201.)\n",
      "  node_x = torch.tensor(node_attribute_list, dtype=torch.float)\n"
     ]
    }
   ],
   "source": [
    "from torch_geometric.data import Data\n",
    "from collections import defaultdict\n",
    "device = torch.device('cpu')\n",
    "graphs = defaultdict(list)\n",
    "\n",
    "for pipeline in pipeline_steps_class:\n",
    "    data_name = pipeline[0]\n",
    "    if data_name in DDN:\n",
    "        g = pipeline[2]\n",
    "        score = pipeline[3]\n",
    "        node_attribute_dict = nx.get_node_attributes(g, name='feature')\n",
    "        node_attribute_list = [np.hstack((node_attribute_dict[i],DDN[data_name])) for i in node_attribute_dict]\n",
    "#         node_attribute_list = [np.hstack((node_attribute_dict[i],X_meta[data_name])) for i in node_attribute_dict]\n",
    "        node_x = torch.tensor(node_attribute_list, dtype=torch.float)\n",
    "\n",
    "        edge_list = list(g.edges())\n",
    "        edge_index = torch.tensor(edge_list,dtype=torch.long).t()\n",
    "\n",
    "        graph_data = Data(edge_index=edge_index, x=node_x, y=score)\n",
    "        graphs[data_name].append(graph_data.to(device))\n",
    "        "
   ]
  },
  {
   "cell_type": "code",
   "execution_count": 7,
   "id": "856a5b3f",
   "metadata": {},
   "outputs": [
    {
     "name": "stdout",
     "output_type": "stream",
     "text": [
      "39\n"
     ]
    },
    {
     "data": {
      "text/plain": [
       "Data(x=[36, 37], edge_index=[2, 15], y=0.2895)"
      ]
     },
     "execution_count": 7,
     "metadata": {},
     "output_type": "execute_result"
    }
   ],
   "source": [
    "print(len(graphs))\n",
    "graphs['adult'][0]"
   ]
  },
  {
   "cell_type": "code",
   "execution_count": 8,
   "id": "29fe55b5",
   "metadata": {},
   "outputs": [],
   "source": [
    "from torch.nn import Linear\n",
    "import torch.nn.functional as F\n",
    "from torch_geometric.nn import GCNConv, GATConv, GINConv\n",
    "from torch_geometric.nn import global_mean_pool\n",
    "\n",
    "class GIN(torch.nn.Module):\n",
    "    def __init__(self, in_channels, hidden_channels):\n",
    "        super(GIN, self).__init__()\n",
    "        torch.manual_seed(12345)\n",
    "        self.conv1 = GINConv(torch.nn.Sequential(\n",
    "           Linear(in_channels, hidden_channels)\n",
    "        ))\n",
    "        self.conv2 = GINConv(torch.nn.Sequential(\n",
    "           Linear(hidden_channels, hidden_channels)\n",
    "        ))\n",
    "        self.conv3 = GINConv(torch.nn.Sequential(\n",
    "           Linear(hidden_channels, hidden_channels)\n",
    "        ))\n",
    "        self.lin1 = Linear(hidden_channels, hidden_channels)\n",
    "        self.lin2 = Linear(hidden_channels, hidden_channels)\n",
    "        self.lin3 = Linear(hidden_channels, 1)\n",
    "\n",
    "    def forward(self, x, edge_index, batch):\n",
    "        dataset_embedding = x[:, 40:104]\n",
    "#         print(x.shape, dataset_embedding.shape)\n",
    "        # 1. Obtain node embeddings \n",
    "        x = self.conv1(x, edge_index)\n",
    "        x = x.relu()\n",
    "        x = F.dropout(x, p=0.2, training=self.training)\n",
    "        x = self.conv2(x, edge_index)\n",
    "        x = x.relu()\n",
    "        x = F.dropout(x, p=0.2, training=self.training)\n",
    "        x = self.conv3(x, edge_index)\n",
    "        x = x.relu()\n",
    "\n",
    "        # 2. Readout layer\n",
    "#         x = torch.cat((x, dataset_embedding), dim=1)\n",
    "        x = global_mean_pool(x, batch)  # [batch_size, hidden_channels]\n",
    "\n",
    "        # 3. Apply a final classifier\n",
    "#         x = F.dropout(x, p=0.2, training=self.training)\n",
    "#         print(x.shape, dataset_embedding.shape)\n",
    "        x = self.lin1(x)\n",
    "        x = x.relu()\n",
    "        x = self.lin2(x)\n",
    "        x = x.relu()\n",
    "        x = self.lin3(x)\n",
    "        \n",
    "        return x"
   ]
  },
  {
   "cell_type": "code",
   "execution_count": 10,
   "id": "65dba102",
   "metadata": {
    "scrolled": true
   },
   "outputs": [
    {
     "name": "stdout",
     "output_type": "stream",
     "text": [
      "========================================\n",
      "0 adult\n",
      "---------------------------------------- 0.05\n",
      "graphs_train shape: 1526 graphs_train[0] shape: Data(x=[36, 37], edge_index=[2, 14], y=0.7580213903743316)\n",
      "graphs_test shape: 452 graphs_test[0] shape: Data(x=[36, 37], edge_index=[2, 15], y=0.2895)\n"
     ]
    },
    {
     "name": "stderr",
     "output_type": "stream",
     "text": [
      "/Users/haox/opt/anaconda3/lib/python3.8/site-packages/torch_geometric/deprecation.py:13: UserWarning: 'data.DataLoader' is deprecated, use 'loader.DataLoader' instead\n",
      "  warnings.warn(out)\n"
     ]
    },
    {
     "name": "stdout",
     "output_type": "stream",
     "text": [
      "Epoch: 009, Train MAE: 0.1414, Train MSE: 0.0281\n",
      "Epoch: 009, Test MAE: 0.1150, Test MSE: 0.0201\n",
      "Time: 3.1106350421905518\n",
      "---------------------------------------- 0.1\n",
      "graphs_train shape: 3405 graphs_train[0] shape: Data(x=[36, 37], edge_index=[2, 14], y=0.7580213903743316)\n",
      "graphs_test shape: 452 graphs_test[0] shape: Data(x=[36, 37], edge_index=[2, 15], y=0.2895)\n"
     ]
    },
    {
     "name": "stderr",
     "output_type": "stream",
     "text": [
      "/Users/haox/opt/anaconda3/lib/python3.8/site-packages/torch_geometric/deprecation.py:13: UserWarning: 'data.DataLoader' is deprecated, use 'loader.DataLoader' instead\n",
      "  warnings.warn(out)\n"
     ]
    },
    {
     "name": "stdout",
     "output_type": "stream",
     "text": [
      "Epoch: 009, Train MAE: 0.1264, Train MSE: 0.0238\n",
      "Epoch: 009, Test MAE: 0.1073, Test MSE: 0.0193\n",
      "Time: 6.3311591148376465\n",
      "---------------------------------------- 0.15000000000000002\n",
      "graphs_train shape: 5415 graphs_train[0] shape: Data(x=[36, 37], edge_index=[2, 14], y=0.7580213903743316)\n",
      "graphs_test shape: 452 graphs_test[0] shape: Data(x=[36, 37], edge_index=[2, 15], y=0.2895)\n"
     ]
    },
    {
     "name": "stderr",
     "output_type": "stream",
     "text": [
      "/Users/haox/opt/anaconda3/lib/python3.8/site-packages/torch_geometric/deprecation.py:13: UserWarning: 'data.DataLoader' is deprecated, use 'loader.DataLoader' instead\n",
      "  warnings.warn(out)\n"
     ]
    },
    {
     "name": "stdout",
     "output_type": "stream",
     "text": [
      "Epoch: 009, Train MAE: 0.1335, Train MSE: 0.0386\n",
      "Epoch: 009, Test MAE: 0.0789, Test MSE: 0.0223\n",
      "Time: 10.900779008865356\n",
      "---------------------------------------- 0.2\n",
      "graphs_train shape: 5892 graphs_train[0] shape: Data(x=[36, 37], edge_index=[2, 14], y=0.7580213903743316)\n",
      "graphs_test shape: 452 graphs_test[0] shape: Data(x=[36, 37], edge_index=[2, 15], y=0.2895)\n"
     ]
    },
    {
     "name": "stderr",
     "output_type": "stream",
     "text": [
      "/Users/haox/opt/anaconda3/lib/python3.8/site-packages/torch_geometric/deprecation.py:13: UserWarning: 'data.DataLoader' is deprecated, use 'loader.DataLoader' instead\n",
      "  warnings.warn(out)\n"
     ]
    },
    {
     "name": "stdout",
     "output_type": "stream",
     "text": [
      "Epoch: 009, Train MAE: 0.1381, Train MSE: 0.0408\n",
      "Epoch: 009, Test MAE: 0.0948, Test MSE: 0.0263\n",
      "Time: 11.37471318244934\n",
      "---------------------------------------- 0.25\n",
      "graphs_train shape: 6745 graphs_train[0] shape: Data(x=[36, 37], edge_index=[2, 14], y=0.7580213903743316)\n",
      "graphs_test shape: 452 graphs_test[0] shape: Data(x=[36, 37], edge_index=[2, 15], y=0.2895)\n"
     ]
    },
    {
     "name": "stderr",
     "output_type": "stream",
     "text": [
      "/Users/haox/opt/anaconda3/lib/python3.8/site-packages/torch_geometric/deprecation.py:13: UserWarning: 'data.DataLoader' is deprecated, use 'loader.DataLoader' instead\n",
      "  warnings.warn(out)\n"
     ]
    },
    {
     "name": "stdout",
     "output_type": "stream",
     "text": [
      "Epoch: 009, Train MAE: 0.1611, Train MSE: 0.0504\n",
      "Epoch: 009, Test MAE: 0.0996, Test MSE: 0.0276\n",
      "Time: 13.495463848114014\n",
      "---------------------------------------- 0.3\n",
      "graphs_train shape: 6931 graphs_train[0] shape: Data(x=[36, 37], edge_index=[2, 14], y=0.7580213903743316)\n",
      "graphs_test shape: 452 graphs_test[0] shape: Data(x=[36, 37], edge_index=[2, 15], y=0.2895)\n"
     ]
    },
    {
     "name": "stderr",
     "output_type": "stream",
     "text": [
      "/Users/haox/opt/anaconda3/lib/python3.8/site-packages/torch_geometric/deprecation.py:13: UserWarning: 'data.DataLoader' is deprecated, use 'loader.DataLoader' instead\n",
      "  warnings.warn(out)\n"
     ]
    },
    {
     "name": "stdout",
     "output_type": "stream",
     "text": [
      "Epoch: 009, Train MAE: 0.1616, Train MSE: 0.0489\n",
      "Epoch: 009, Test MAE: 0.0925, Test MSE: 0.0257\n",
      "Time: 13.905570983886719\n",
      "---------------------------------------- 0.35000000000000003\n",
      "graphs_train shape: 7147 graphs_train[0] shape: Data(x=[36, 37], edge_index=[2, 14], y=0.7580213903743316)\n",
      "graphs_test shape: 452 graphs_test[0] shape: Data(x=[36, 37], edge_index=[2, 15], y=0.2895)\n"
     ]
    },
    {
     "name": "stderr",
     "output_type": "stream",
     "text": [
      "/Users/haox/opt/anaconda3/lib/python3.8/site-packages/torch_geometric/deprecation.py:13: UserWarning: 'data.DataLoader' is deprecated, use 'loader.DataLoader' instead\n",
      "  warnings.warn(out)\n"
     ]
    },
    {
     "name": "stdout",
     "output_type": "stream",
     "text": [
      "Epoch: 009, Train MAE: 0.1657, Train MSE: 0.0501\n",
      "Epoch: 009, Test MAE: 0.0925, Test MSE: 0.0257\n",
      "Time: 14.190010786056519\n",
      "---------------------------------------- 0.4\n",
      "++++++++++++++++++++++++++++++\n",
      "adult_DDN+GIN_0.35 adult_DDN+GIN_0.4\n",
      "36 36\n",
      "---------------------------------------- 0.45\n",
      "++++++++++++++++++++++++++++++\n",
      "adult_DDN+GIN_0.4 adult_DDN+GIN_0.45\n",
      "36 36\n",
      "========================================\n",
      "1 airlines\n",
      "---------------------------------------- 0.05\n",
      "graphs_train shape: 5 graphs_train[0] shape: Data(x=[36, 37], edge_index=[2, 14], y=0.5525)\n",
      "graphs_test shape: 181 graphs_test[0] shape: Data(x=[36, 37], edge_index=[2, 13], y=0.5)\n",
      "Epoch: 009, Train MAE: 0.0588, Train MSE: 0.0044\n",
      "Epoch: 009, Test MAE: 0.0415, Test MSE: 0.0019\n",
      "Time: 0.19110774993896484\n",
      "---------------------------------------- 0.1\n",
      "graphs_train shape: 1074 graphs_train[0] shape: Data(x=[36, 37], edge_index=[2, 11], y=0.4525)\n",
      "graphs_test shape: 181 graphs_test[0] shape: Data(x=[36, 37], edge_index=[2, 13], y=0.5)\n"
     ]
    },
    {
     "name": "stderr",
     "output_type": "stream",
     "text": [
      "/Users/haox/opt/anaconda3/lib/python3.8/site-packages/torch_geometric/deprecation.py:13: UserWarning: 'data.DataLoader' is deprecated, use 'loader.DataLoader' instead\n",
      "  warnings.warn(out)\n",
      "/Users/haox/opt/anaconda3/lib/python3.8/site-packages/torch_geometric/deprecation.py:13: UserWarning: 'data.DataLoader' is deprecated, use 'loader.DataLoader' instead\n",
      "  warnings.warn(out)\n"
     ]
    },
    {
     "name": "stdout",
     "output_type": "stream",
     "text": [
      "Epoch: 009, Train MAE: 0.0700, Train MSE: 0.0101\n",
      "Epoch: 009, Test MAE: 0.0258, Test MSE: 0.0009\n",
      "Time: 2.163170099258423\n",
      "---------------------------------------- 0.15000000000000002\n",
      "graphs_train shape: 1494 graphs_train[0] shape: Data(x=[36, 37], edge_index=[2, 14], y=0.23099999999999998)\n",
      "graphs_test shape: 181 graphs_test[0] shape: Data(x=[36, 37], edge_index=[2, 13], y=0.5)\n"
     ]
    },
    {
     "name": "stderr",
     "output_type": "stream",
     "text": [
      "/Users/haox/opt/anaconda3/lib/python3.8/site-packages/torch_geometric/deprecation.py:13: UserWarning: 'data.DataLoader' is deprecated, use 'loader.DataLoader' instead\n",
      "  warnings.warn(out)\n"
     ]
    },
    {
     "name": "stdout",
     "output_type": "stream",
     "text": [
      "Epoch: 009, Train MAE: 0.1229, Train MSE: 0.0330\n",
      "Epoch: 009, Test MAE: 0.0222, Test MSE: 0.0008\n",
      "Time: 3.0317862033843994\n",
      "---------------------------------------- 0.2\n",
      "graphs_train shape: 2992 graphs_train[0] shape: Data(x=[36, 37], edge_index=[2, 14], y=0.23099999999999998)\n",
      "graphs_test shape: 181 graphs_test[0] shape: Data(x=[36, 37], edge_index=[2, 13], y=0.5)\n"
     ]
    },
    {
     "name": "stderr",
     "output_type": "stream",
     "text": [
      "/Users/haox/opt/anaconda3/lib/python3.8/site-packages/torch_geometric/deprecation.py:13: UserWarning: 'data.DataLoader' is deprecated, use 'loader.DataLoader' instead\n",
      "  warnings.warn(out)\n"
     ]
    },
    {
     "name": "stdout",
     "output_type": "stream",
     "text": [
      "Epoch: 009, Train MAE: 0.1311, Train MSE: 0.0347\n",
      "Epoch: 009, Test MAE: 0.0827, Test MSE: 0.0076\n",
      "Time: 5.8126678466796875\n",
      "---------------------------------------- 0.25\n",
      "++++++++++++++++++++++++++++++\n",
      "airlines_DDN+GIN_0.2 airlines_DDN+GIN_0.25\n",
      "16 16\n",
      "---------------------------------------- 0.3\n",
      "graphs_train shape: 5174 graphs_train[0] shape: Data(x=[36, 37], edge_index=[2, 14], y=0.7580213903743316)\n",
      "graphs_test shape: 181 graphs_test[0] shape: Data(x=[36, 37], edge_index=[2, 13], y=0.5)\n"
     ]
    },
    {
     "name": "stderr",
     "output_type": "stream",
     "text": [
      "/Users/haox/opt/anaconda3/lib/python3.8/site-packages/torch_geometric/deprecation.py:13: UserWarning: 'data.DataLoader' is deprecated, use 'loader.DataLoader' instead\n",
      "  warnings.warn(out)\n"
     ]
    },
    {
     "name": "stdout",
     "output_type": "stream",
     "text": [
      "Epoch: 009, Train MAE: 0.1551, Train MSE: 0.0490\n",
      "Epoch: 009, Test MAE: 0.1528, Test MSE: 0.0241\n",
      "Time: 9.94948124885559\n",
      "---------------------------------------- 0.35000000000000003\n",
      "graphs_train shape: 5583 graphs_train[0] shape: Data(x=[36, 37], edge_index=[2, 14], y=0.7580213903743316)\n",
      "graphs_test shape: 181 graphs_test[0] shape: Data(x=[36, 37], edge_index=[2, 13], y=0.5)\n"
     ]
    },
    {
     "name": "stderr",
     "output_type": "stream",
     "text": [
      "/Users/haox/opt/anaconda3/lib/python3.8/site-packages/torch_geometric/deprecation.py:13: UserWarning: 'data.DataLoader' is deprecated, use 'loader.DataLoader' instead\n",
      "  warnings.warn(out)\n"
     ]
    },
    {
     "name": "stdout",
     "output_type": "stream",
     "text": [
      "Epoch: 009, Train MAE: 0.1609, Train MSE: 0.0533\n",
      "Epoch: 009, Test MAE: 0.1873, Test MSE: 0.0359\n",
      "Time: 10.760273933410645\n",
      "---------------------------------------- 0.4\n",
      "graphs_train shape: 6859 graphs_train[0] shape: Data(x=[36, 37], edge_index=[2, 14], y=0.7580213903743316)\n",
      "graphs_test shape: 181 graphs_test[0] shape: Data(x=[36, 37], edge_index=[2, 13], y=0.5)\n"
     ]
    },
    {
     "name": "stderr",
     "output_type": "stream",
     "text": [
      "/Users/haox/opt/anaconda3/lib/python3.8/site-packages/torch_geometric/deprecation.py:13: UserWarning: 'data.DataLoader' is deprecated, use 'loader.DataLoader' instead\n",
      "  warnings.warn(out)\n"
     ]
    },
    {
     "name": "stdout",
     "output_type": "stream",
     "text": [
      "Epoch: 009, Train MAE: 0.1685, Train MSE: 0.0569\n",
      "Epoch: 009, Test MAE: 0.2339, Test MSE: 0.0555\n",
      "Time: 13.224236249923706\n",
      "---------------------------------------- 0.45\n",
      "graphs_train shape: 7630 graphs_train[0] shape: Data(x=[36, 37], edge_index=[2, 14], y=0.7580213903743316)\n",
      "graphs_test shape: 181 graphs_test[0] shape: Data(x=[36, 37], edge_index=[2, 13], y=0.5)\n"
     ]
    },
    {
     "name": "stderr",
     "output_type": "stream",
     "text": [
      "/Users/haox/opt/anaconda3/lib/python3.8/site-packages/torch_geometric/deprecation.py:13: UserWarning: 'data.DataLoader' is deprecated, use 'loader.DataLoader' instead\n",
      "  warnings.warn(out)\n"
     ]
    },
    {
     "name": "stdout",
     "output_type": "stream",
     "text": [
      "Epoch: 009, Train MAE: 0.1715, Train MSE: 0.0577\n",
      "Epoch: 009, Test MAE: 0.2514, Test MSE: 0.0640\n",
      "Time: 17.24724793434143\n",
      "========================================\n",
      "2 albert\n",
      "---------------------------------------- 0.05\n",
      "graphs_train shape: 397 graphs_train[0] shape: Data(x=[36, 37], edge_index=[2, 14], y=0.5994999999999999)\n",
      "graphs_test shape: 5 graphs_test[0] shape: Data(x=[36, 37], edge_index=[2, 14], y=0.5525)\n"
     ]
    },
    {
     "name": "stderr",
     "output_type": "stream",
     "text": [
      "/Users/haox/opt/anaconda3/lib/python3.8/site-packages/torch_geometric/deprecation.py:13: UserWarning: 'data.DataLoader' is deprecated, use 'loader.DataLoader' instead\n",
      "  warnings.warn(out)\n"
     ]
    },
    {
     "name": "stdout",
     "output_type": "stream",
     "text": [
      "Epoch: 009, Train MAE: 0.0273, Train MSE: 0.0015\n",
      "Epoch: 009, Test MAE: 0.0338, Test MSE: 0.0012\n",
      "Time: 1.2116239070892334\n",
      "---------------------------------------- 0.1\n",
      "graphs_train shape: 1250 graphs_train[0] shape: Data(x=[36, 37], edge_index=[2, 11], y=0.4525)\n",
      "graphs_test shape: 5 graphs_test[0] shape: Data(x=[36, 37], edge_index=[2, 14], y=0.5525)\n"
     ]
    },
    {
     "name": "stderr",
     "output_type": "stream",
     "text": [
      "/Users/haox/opt/anaconda3/lib/python3.8/site-packages/torch_geometric/deprecation.py:13: UserWarning: 'data.DataLoader' is deprecated, use 'loader.DataLoader' instead\n",
      "  warnings.warn(out)\n"
     ]
    },
    {
     "name": "stdout",
     "output_type": "stream",
     "text": [
      "Epoch: 009, Train MAE: 0.0766, Train MSE: 0.0122\n",
      "Epoch: 009, Test MAE: 0.0318, Test MSE: 0.0010\n",
      "Time: 3.4003379344940186\n",
      "---------------------------------------- 0.15000000000000002\n",
      "graphs_train shape: 2102 graphs_train[0] shape: Data(x=[36, 37], edge_index=[2, 14], y=0.23099999999999998)\n",
      "graphs_test shape: 5 graphs_test[0] shape: Data(x=[36, 37], edge_index=[2, 14], y=0.5525)\n"
     ]
    },
    {
     "name": "stderr",
     "output_type": "stream",
     "text": [
      "/Users/haox/opt/anaconda3/lib/python3.8/site-packages/torch_geometric/deprecation.py:13: UserWarning: 'data.DataLoader' is deprecated, use 'loader.DataLoader' instead\n",
      "  warnings.warn(out)\n"
     ]
    },
    {
     "name": "stdout",
     "output_type": "stream",
     "text": [
      "Epoch: 009, Train MAE: 0.1261, Train MSE: 0.0335\n",
      "Epoch: 009, Test MAE: 0.0298, Test MSE: 0.0010\n",
      "Time: 5.657275915145874\n",
      "---------------------------------------- 0.2\n",
      "graphs_train shape: 3168 graphs_train[0] shape: Data(x=[36, 37], edge_index=[2, 14], y=0.23099999999999998)\n",
      "graphs_test shape: 5 graphs_test[0] shape: Data(x=[36, 37], edge_index=[2, 14], y=0.5525)\n"
     ]
    },
    {
     "name": "stderr",
     "output_type": "stream",
     "text": [
      "/Users/haox/opt/anaconda3/lib/python3.8/site-packages/torch_geometric/deprecation.py:13: UserWarning: 'data.DataLoader' is deprecated, use 'loader.DataLoader' instead\n",
      "  warnings.warn(out)\n"
     ]
    },
    {
     "name": "stdout",
     "output_type": "stream",
     "text": [
      "Epoch: 009, Train MAE: 0.1369, Train MSE: 0.0387\n",
      "Epoch: 009, Test MAE: 0.0861, Test MSE: 0.0084\n",
      "Time: 7.826465129852295\n",
      "---------------------------------------- 0.25\n",
      "++++++++++++++++++++++++++++++\n",
      "albert_DDN+GIN_0.2 albert_DDN+GIN_0.25\n",
      "16 16\n",
      "---------------------------------------- 0.3\n",
      "graphs_train shape: 5350 graphs_train[0] shape: Data(x=[36, 37], edge_index=[2, 14], y=0.7580213903743316)\n",
      "graphs_test shape: 5 graphs_test[0] shape: Data(x=[36, 37], edge_index=[2, 14], y=0.5525)\n"
     ]
    },
    {
     "name": "stderr",
     "output_type": "stream",
     "text": [
      "/Users/haox/opt/anaconda3/lib/python3.8/site-packages/torch_geometric/deprecation.py:13: UserWarning: 'data.DataLoader' is deprecated, use 'loader.DataLoader' instead\n",
      "  warnings.warn(out)\n"
     ]
    },
    {
     "name": "stdout",
     "output_type": "stream",
     "text": [
      "Epoch: 009, Train MAE: 0.1536, Train MSE: 0.0465\n",
      "Epoch: 009, Test MAE: 0.1137, Test MSE: 0.0139\n",
      "Time: 10.436865091323853\n",
      "---------------------------------------- 0.35000000000000003\n",
      "graphs_train shape: 6171 graphs_train[0] shape: Data(x=[36, 37], edge_index=[2, 14], y=0.7580213903743316)\n",
      "graphs_test shape: 5 graphs_test[0] shape: Data(x=[36, 37], edge_index=[2, 14], y=0.5525)\n"
     ]
    },
    {
     "name": "stderr",
     "output_type": "stream",
     "text": [
      "/Users/haox/opt/anaconda3/lib/python3.8/site-packages/torch_geometric/deprecation.py:13: UserWarning: 'data.DataLoader' is deprecated, use 'loader.DataLoader' instead\n",
      "  warnings.warn(out)\n"
     ]
    },
    {
     "name": "stdout",
     "output_type": "stream",
     "text": [
      "Epoch: 009, Train MAE: 0.1622, Train MSE: 0.0528\n",
      "Epoch: 009, Test MAE: 0.1673, Test MSE: 0.0290\n",
      "Time: 11.821120023727417\n",
      "---------------------------------------- 0.4\n",
      "graphs_train shape: 7095 graphs_train[0] shape: Data(x=[36, 37], edge_index=[2, 14], y=0.7580213903743316)\n",
      "graphs_test shape: 5 graphs_test[0] shape: Data(x=[36, 37], edge_index=[2, 14], y=0.5525)\n"
     ]
    },
    {
     "name": "stderr",
     "output_type": "stream",
     "text": [
      "/Users/haox/opt/anaconda3/lib/python3.8/site-packages/torch_geometric/deprecation.py:13: UserWarning: 'data.DataLoader' is deprecated, use 'loader.DataLoader' instead\n",
      "  warnings.warn(out)\n"
     ]
    },
    {
     "name": "stdout",
     "output_type": "stream",
     "text": [
      "Epoch: 009, Train MAE: 0.1659, Train MSE: 0.0543\n",
      "Epoch: 009, Test MAE: 0.1956, Test MSE: 0.0393\n",
      "Time: 13.597401142120361\n",
      "---------------------------------------- 0.45\n",
      "graphs_train shape: 7806 graphs_train[0] shape: Data(x=[36, 37], edge_index=[2, 14], y=0.7580213903743316)\n",
      "graphs_test shape: 5 graphs_test[0] shape: Data(x=[36, 37], edge_index=[2, 14], y=0.5525)\n"
     ]
    },
    {
     "name": "stderr",
     "output_type": "stream",
     "text": [
      "/Users/haox/opt/anaconda3/lib/python3.8/site-packages/torch_geometric/deprecation.py:13: UserWarning: 'data.DataLoader' is deprecated, use 'loader.DataLoader' instead\n",
      "  warnings.warn(out)\n"
     ]
    },
    {
     "name": "stdout",
     "output_type": "stream",
     "text": [
      "Epoch: 009, Train MAE: 0.1710, Train MSE: 0.0560\n",
      "Epoch: 009, Test MAE: 0.2145, Test MSE: 0.0470\n",
      "Time: 14.22199296951294\n",
      "========================================\n",
      "3 Amazon_employee_access\n",
      "---------------------------------------- 0.05\n",
      "graphs_train shape: 1763 graphs_train[0] shape: Data(x=[36, 37], edge_index=[2, 14], y=0.17222222222222222)\n",
      "graphs_test shape: 216 graphs_test[0] shape: Data(x=[36, 37], edge_index=[2, 12], y=0.8965000000000001)\n"
     ]
    },
    {
     "name": "stderr",
     "output_type": "stream",
     "text": [
      "/Users/haox/opt/anaconda3/lib/python3.8/site-packages/torch_geometric/deprecation.py:13: UserWarning: 'data.DataLoader' is deprecated, use 'loader.DataLoader' instead\n",
      "  warnings.warn(out)\n"
     ]
    },
    {
     "name": "stdout",
     "output_type": "stream",
     "text": [
      "Epoch: 009, Train MAE: 0.0944, Train MSE: 0.0179\n",
      "Epoch: 009, Test MAE: 0.1213, Test MSE: 0.0163\n",
      "Time: 3.3147919178009033\n",
      "---------------------------------------- 0.1\n",
      "graphs_train shape: 3370 graphs_train[0] shape: Data(x=[36, 37], edge_index=[2, 14], y=0.17222222222222222)\n",
      "graphs_test shape: 216 graphs_test[0] shape: Data(x=[36, 37], edge_index=[2, 12], y=0.8965000000000001)\n"
     ]
    },
    {
     "name": "stderr",
     "output_type": "stream",
     "text": [
      "/Users/haox/opt/anaconda3/lib/python3.8/site-packages/torch_geometric/deprecation.py:13: UserWarning: 'data.DataLoader' is deprecated, use 'loader.DataLoader' instead\n",
      "  warnings.warn(out)\n"
     ]
    },
    {
     "name": "stdout",
     "output_type": "stream",
     "text": [
      "Epoch: 009, Train MAE: 0.1003, Train MSE: 0.0225\n",
      "Epoch: 009, Test MAE: 0.1176, Test MSE: 0.0156\n",
      "Time: 6.380151033401489\n",
      "---------------------------------------- 0.15000000000000002\n",
      "graphs_train shape: 4218 graphs_train[0] shape: Data(x=[36, 37], edge_index=[2, 14], y=0.7580213903743316)\n",
      "graphs_test shape: 216 graphs_test[0] shape: Data(x=[36, 37], edge_index=[2, 12], y=0.8965000000000001)\n"
     ]
    },
    {
     "name": "stderr",
     "output_type": "stream",
     "text": [
      "/Users/haox/opt/anaconda3/lib/python3.8/site-packages/torch_geometric/deprecation.py:13: UserWarning: 'data.DataLoader' is deprecated, use 'loader.DataLoader' instead\n",
      "  warnings.warn(out)\n"
     ]
    },
    {
     "name": "stdout",
     "output_type": "stream",
     "text": [
      "Epoch: 009, Train MAE: 0.0987, Train MSE: 0.0220\n",
      "Epoch: 009, Test MAE: 0.1179, Test MSE: 0.0157\n",
      "Time: 8.071696043014526\n",
      "---------------------------------------- 0.2\n",
      "graphs_train shape: 5060 graphs_train[0] shape: Data(x=[36, 37], edge_index=[2, 14], y=0.7580213903743316)\n",
      "graphs_test shape: 216 graphs_test[0] shape: Data(x=[36, 37], edge_index=[2, 12], y=0.8965000000000001)\n"
     ]
    },
    {
     "name": "stderr",
     "output_type": "stream",
     "text": [
      "/Users/haox/opt/anaconda3/lib/python3.8/site-packages/torch_geometric/deprecation.py:13: UserWarning: 'data.DataLoader' is deprecated, use 'loader.DataLoader' instead\n",
      "  warnings.warn(out)\n"
     ]
    },
    {
     "name": "stdout",
     "output_type": "stream",
     "text": [
      "Epoch: 009, Train MAE: 0.1041, Train MSE: 0.0223\n",
      "Epoch: 009, Test MAE: 0.1130, Test MSE: 0.0148\n",
      "Time: 9.659367084503174\n",
      "---------------------------------------- 0.25\n",
      "graphs_train shape: 6128 graphs_train[0] shape: Data(x=[36, 37], edge_index=[2, 14], y=0.7580213903743316)\n",
      "graphs_test shape: 216 graphs_test[0] shape: Data(x=[36, 37], edge_index=[2, 12], y=0.8965000000000001)\n"
     ]
    },
    {
     "name": "stderr",
     "output_type": "stream",
     "text": [
      "/Users/haox/opt/anaconda3/lib/python3.8/site-packages/torch_geometric/deprecation.py:13: UserWarning: 'data.DataLoader' is deprecated, use 'loader.DataLoader' instead\n",
      "  warnings.warn(out)\n"
     ]
    },
    {
     "name": "stdout",
     "output_type": "stream",
     "text": [
      "Epoch: 009, Train MAE: 0.1375, Train MSE: 0.0424\n",
      "Epoch: 009, Test MAE: 0.1187, Test MSE: 0.0158\n",
      "Time: 11.467278957366943\n",
      "---------------------------------------- 0.3\n",
      "++++++++++++++++++++++++++++++\n",
      "Amazon_employee_access_DDN+GIN_0.25 Amazon_employee_access_DDN+GIN_0.3\n",
      "28 28\n",
      "---------------------------------------- 0.35000000000000003\n",
      "graphs_train shape: 6981 graphs_train[0] shape: Data(x=[36, 37], edge_index=[2, 14], y=0.7580213903743316)\n",
      "graphs_test shape: 216 graphs_test[0] shape: Data(x=[36, 37], edge_index=[2, 12], y=0.8965000000000001)\n"
     ]
    },
    {
     "name": "stderr",
     "output_type": "stream",
     "text": [
      "/Users/haox/opt/anaconda3/lib/python3.8/site-packages/torch_geometric/deprecation.py:13: UserWarning: 'data.DataLoader' is deprecated, use 'loader.DataLoader' instead\n",
      "  warnings.warn(out)\n"
     ]
    },
    {
     "name": "stdout",
     "output_type": "stream",
     "text": [
      "Epoch: 009, Train MAE: 0.1560, Train MSE: 0.0482\n",
      "Epoch: 009, Test MAE: 0.1304, Test MSE: 0.0183\n",
      "Time: 13.214518785476685\n",
      "---------------------------------------- 0.4\n",
      "graphs_train shape: 7167 graphs_train[0] shape: Data(x=[36, 37], edge_index=[2, 14], y=0.7580213903743316)\n",
      "graphs_test shape: 216 graphs_test[0] shape: Data(x=[36, 37], edge_index=[2, 12], y=0.8965000000000001)\n"
     ]
    },
    {
     "name": "stderr",
     "output_type": "stream",
     "text": [
      "/Users/haox/opt/anaconda3/lib/python3.8/site-packages/torch_geometric/deprecation.py:13: UserWarning: 'data.DataLoader' is deprecated, use 'loader.DataLoader' instead\n",
      "  warnings.warn(out)\n"
     ]
    },
    {
     "name": "stdout",
     "output_type": "stream",
     "text": [
      "Epoch: 009, Train MAE: 0.1572, Train MSE: 0.0477\n",
      "Epoch: 009, Test MAE: 0.1348, Test MSE: 0.0193\n",
      "Time: 13.495115995407104\n",
      "---------------------------------------- 0.45\n",
      "graphs_train shape: 7383 graphs_train[0] shape: Data(x=[36, 37], edge_index=[2, 14], y=0.7580213903743316)\n",
      "graphs_test shape: 216 graphs_test[0] shape: Data(x=[36, 37], edge_index=[2, 12], y=0.8965000000000001)\n"
     ]
    },
    {
     "name": "stderr",
     "output_type": "stream",
     "text": [
      "/Users/haox/opt/anaconda3/lib/python3.8/site-packages/torch_geometric/deprecation.py:13: UserWarning: 'data.DataLoader' is deprecated, use 'loader.DataLoader' instead\n",
      "  warnings.warn(out)\n"
     ]
    },
    {
     "name": "stdout",
     "output_type": "stream",
     "text": [
      "Epoch: 009, Train MAE: 0.1600, Train MSE: 0.0480\n",
      "Epoch: 009, Test MAE: 0.1380, Test MSE: 0.0201\n",
      "Time: 13.907764196395874\n",
      "========================================\n",
      "4 APSFailure\n",
      "---------------------------------------- 0.05\n",
      "graphs_train shape: 1617 graphs_train[0] shape: Data(x=[36, 37], edge_index=[2, 13], y=0.836)\n",
      "graphs_test shape: 18 graphs_test[0] shape: Data(x=[36, 37], edge_index=[2, 15], y=0.9864999999999999)\n"
     ]
    },
    {
     "name": "stderr",
     "output_type": "stream",
     "text": [
      "/Users/haox/opt/anaconda3/lib/python3.8/site-packages/torch_geometric/deprecation.py:13: UserWarning: 'data.DataLoader' is deprecated, use 'loader.DataLoader' instead\n",
      "  warnings.warn(out)\n"
     ]
    },
    {
     "name": "stdout",
     "output_type": "stream",
     "text": [
      "Epoch: 009, Train MAE: 0.0887, Train MSE: 0.0239\n",
      "Epoch: 009, Test MAE: 0.0380, Test MSE: 0.0017\n",
      "Time: 3.1667001247406006\n",
      "---------------------------------------- 0.1\n",
      "graphs_train shape: 2438 graphs_train[0] shape: Data(x=[36, 37], edge_index=[2, 14], y=0.17222222222222222)\n",
      "graphs_test shape: 18 graphs_test[0] shape: Data(x=[36, 37], edge_index=[2, 15], y=0.9864999999999999)\n"
     ]
    },
    {
     "name": "stderr",
     "output_type": "stream",
     "text": [
      "/Users/haox/opt/anaconda3/lib/python3.8/site-packages/torch_geometric/deprecation.py:13: UserWarning: 'data.DataLoader' is deprecated, use 'loader.DataLoader' instead\n",
      "  warnings.warn(out)\n"
     ]
    },
    {
     "name": "stdout",
     "output_type": "stream",
     "text": [
      "Epoch: 009, Train MAE: 0.0831, Train MSE: 0.0210\n",
      "Epoch: 009, Test MAE: 0.0851, Test MSE: 0.0073\n",
      "Time: 4.625686168670654\n",
      "---------------------------------------- 0.15000000000000002\n",
      "graphs_train shape: 4416 graphs_train[0] shape: Data(x=[36, 37], edge_index=[2, 14], y=0.7580213903743316)\n",
      "graphs_test shape: 18 graphs_test[0] shape: Data(x=[36, 37], edge_index=[2, 15], y=0.9864999999999999)\n"
     ]
    },
    {
     "name": "stderr",
     "output_type": "stream",
     "text": [
      "/Users/haox/opt/anaconda3/lib/python3.8/site-packages/torch_geometric/deprecation.py:13: UserWarning: 'data.DataLoader' is deprecated, use 'loader.DataLoader' instead\n",
      "  warnings.warn(out)\n"
     ]
    },
    {
     "name": "stdout",
     "output_type": "stream",
     "text": [
      "Epoch: 009, Train MAE: 0.0996, Train MSE: 0.0217\n",
      "Epoch: 009, Test MAE: 0.1546, Test MSE: 0.0240\n",
      "Time: 8.420789003372192\n",
      "---------------------------------------- 0.2\n",
      "++++++++++++++++++++++++++++++\n",
      "APSFailure_DDN+GIN_0.15 APSFailure_DDN+GIN_0.2\n",
      "20 20\n",
      "---------------------------------------- 0.25\n",
      "graphs_train shape: 5258 graphs_train[0] shape: Data(x=[36, 37], edge_index=[2, 14], y=0.7580213903743316)\n",
      "graphs_test shape: 18 graphs_test[0] shape: Data(x=[36, 37], edge_index=[2, 15], y=0.9864999999999999)\n"
     ]
    },
    {
     "name": "stderr",
     "output_type": "stream",
     "text": [
      "/Users/haox/opt/anaconda3/lib/python3.8/site-packages/torch_geometric/deprecation.py:13: UserWarning: 'data.DataLoader' is deprecated, use 'loader.DataLoader' instead\n",
      "  warnings.warn(out)\n"
     ]
    },
    {
     "name": "stdout",
     "output_type": "stream",
     "text": [
      "Epoch: 009, Train MAE: 0.1045, Train MSE: 0.0222\n",
      "Epoch: 009, Test MAE: 0.1459, Test MSE: 0.0213\n",
      "Time: 10.139772176742554\n",
      "---------------------------------------- 0.3\n",
      "graphs_train shape: 6326 graphs_train[0] shape: Data(x=[36, 37], edge_index=[2, 14], y=0.7580213903743316)\n",
      "graphs_test shape: 18 graphs_test[0] shape: Data(x=[36, 37], edge_index=[2, 15], y=0.9864999999999999)\n"
     ]
    },
    {
     "name": "stderr",
     "output_type": "stream",
     "text": [
      "/Users/haox/opt/anaconda3/lib/python3.8/site-packages/torch_geometric/deprecation.py:13: UserWarning: 'data.DataLoader' is deprecated, use 'loader.DataLoader' instead\n",
      "  warnings.warn(out)\n"
     ]
    },
    {
     "name": "stdout",
     "output_type": "stream",
     "text": [
      "Epoch: 009, Train MAE: 0.1351, Train MSE: 0.0400\n",
      "Epoch: 009, Test MAE: 0.1648, Test MSE: 0.0272\n",
      "Time: 11.74914813041687\n",
      "---------------------------------------- 0.35000000000000003\n",
      "graphs_train shape: 6343 graphs_train[0] shape: Data(x=[36, 37], edge_index=[2, 14], y=0.7580213903743316)\n",
      "graphs_test shape: 18 graphs_test[0] shape: Data(x=[36, 37], edge_index=[2, 15], y=0.9864999999999999)\n"
     ]
    },
    {
     "name": "stderr",
     "output_type": "stream",
     "text": [
      "/Users/haox/opt/anaconda3/lib/python3.8/site-packages/torch_geometric/deprecation.py:13: UserWarning: 'data.DataLoader' is deprecated, use 'loader.DataLoader' instead\n",
      "  warnings.warn(out)\n"
     ]
    },
    {
     "name": "stdout",
     "output_type": "stream",
     "text": [
      "Epoch: 009, Train MAE: 0.1348, Train MSE: 0.0395\n",
      "Epoch: 009, Test MAE: 0.1693, Test MSE: 0.0287\n",
      "Time: 12.115270137786865\n",
      "---------------------------------------- 0.4\n",
      "graphs_train shape: 7179 graphs_train[0] shape: Data(x=[36, 37], edge_index=[2, 14], y=0.7580213903743316)\n",
      "graphs_test shape: 18 graphs_test[0] shape: Data(x=[36, 37], edge_index=[2, 15], y=0.9864999999999999)\n"
     ]
    },
    {
     "name": "stderr",
     "output_type": "stream",
     "text": [
      "/Users/haox/opt/anaconda3/lib/python3.8/site-packages/torch_geometric/deprecation.py:13: UserWarning: 'data.DataLoader' is deprecated, use 'loader.DataLoader' instead\n",
      "  warnings.warn(out)\n"
     ]
    },
    {
     "name": "stdout",
     "output_type": "stream",
     "text": [
      "Epoch: 009, Train MAE: 0.1549, Train MSE: 0.0472\n",
      "Epoch: 009, Test MAE: 0.1697, Test MSE: 0.0288\n",
      "Time: 13.42734408378601\n",
      "---------------------------------------- 0.45\n",
      "graphs_train shape: 7365 graphs_train[0] shape: Data(x=[36, 37], edge_index=[2, 14], y=0.7580213903743316)\n",
      "graphs_test shape: 18 graphs_test[0] shape: Data(x=[36, 37], edge_index=[2, 15], y=0.9864999999999999)\n"
     ]
    },
    {
     "name": "stderr",
     "output_type": "stream",
     "text": [
      "/Users/haox/opt/anaconda3/lib/python3.8/site-packages/torch_geometric/deprecation.py:13: UserWarning: 'data.DataLoader' is deprecated, use 'loader.DataLoader' instead\n",
      "  warnings.warn(out)\n"
     ]
    },
    {
     "name": "stdout",
     "output_type": "stream",
     "text": [
      "Epoch: 009, Train MAE: 0.1569, Train MSE: 0.0472\n",
      "Epoch: 009, Test MAE: 0.1719, Test MSE: 0.0296\n",
      "Time: 14.12294602394104\n",
      "========================================\n",
      "5 Australian\n",
      "---------------------------------------- 0.05\n",
      "graphs_train shape: 2171 graphs_train[0] shape: Data(x=[36, 37], edge_index=[2, 14], y=0.7580213903743316)\n",
      "graphs_test shape: 216 graphs_test[0] shape: Data(x=[36, 37], edge_index=[2, 14], y=0.8492753623188405)\n"
     ]
    },
    {
     "name": "stderr",
     "output_type": "stream",
     "text": [
      "/Users/haox/opt/anaconda3/lib/python3.8/site-packages/torch_geometric/deprecation.py:13: UserWarning: 'data.DataLoader' is deprecated, use 'loader.DataLoader' instead\n",
      "  warnings.warn(out)\n"
     ]
    },
    {
     "name": "stdout",
     "output_type": "stream",
     "text": [
      "Epoch: 009, Train MAE: 0.1280, Train MSE: 0.0252\n",
      "Epoch: 009, Test MAE: 0.1501, Test MSE: 0.0231\n",
      "Time: 4.374602794647217\n",
      "---------------------------------------- 0.1\n",
      "graphs_train shape: 3447 graphs_train[0] shape: Data(x=[36, 37], edge_index=[2, 14], y=0.7580213903743316)\n",
      "graphs_test shape: 216 graphs_test[0] shape: Data(x=[36, 37], edge_index=[2, 14], y=0.8492753623188405)\n"
     ]
    },
    {
     "name": "stderr",
     "output_type": "stream",
     "text": [
      "/Users/haox/opt/anaconda3/lib/python3.8/site-packages/torch_geometric/deprecation.py:13: UserWarning: 'data.DataLoader' is deprecated, use 'loader.DataLoader' instead\n",
      "  warnings.warn(out)\n"
     ]
    },
    {
     "name": "stdout",
     "output_type": "stream",
     "text": [
      "Epoch: 009, Train MAE: 0.0972, Train MSE: 0.0211\n",
      "Epoch: 009, Test MAE: 0.0543, Test MSE: 0.0063\n",
      "Time: 6.81731104850769\n",
      "---------------------------------------- 0.15000000000000002\n",
      "graphs_train shape: 5708 graphs_train[0] shape: Data(x=[36, 37], edge_index=[2, 14], y=0.7580213903743316)\n",
      "graphs_test shape: 216 graphs_test[0] shape: Data(x=[36, 37], edge_index=[2, 14], y=0.8492753623188405)\n"
     ]
    },
    {
     "name": "stderr",
     "output_type": "stream",
     "text": [
      "/Users/haox/opt/anaconda3/lib/python3.8/site-packages/torch_geometric/deprecation.py:13: UserWarning: 'data.DataLoader' is deprecated, use 'loader.DataLoader' instead\n",
      "  warnings.warn(out)\n"
     ]
    },
    {
     "name": "stdout",
     "output_type": "stream",
     "text": [
      "Epoch: 009, Train MAE: 0.1209, Train MSE: 0.0285\n",
      "Epoch: 009, Test MAE: 0.0406, Test MSE: 0.0059\n",
      "Time: 12.427696943283081\n",
      "---------------------------------------- 0.2\n",
      "graphs_train shape: 6128 graphs_train[0] shape: Data(x=[36, 37], edge_index=[2, 14], y=0.7580213903743316)\n",
      "graphs_test shape: 216 graphs_test[0] shape: Data(x=[36, 37], edge_index=[2, 14], y=0.8492753623188405)\n"
     ]
    },
    {
     "name": "stderr",
     "output_type": "stream",
     "text": [
      "/Users/haox/opt/anaconda3/lib/python3.8/site-packages/torch_geometric/deprecation.py:13: UserWarning: 'data.DataLoader' is deprecated, use 'loader.DataLoader' instead\n",
      "  warnings.warn(out)\n"
     ]
    },
    {
     "name": "stdout",
     "output_type": "stream",
     "text": [
      "Epoch: 009, Train MAE: 0.1378, Train MSE: 0.0408\n",
      "Epoch: 009, Test MAE: 0.0524, Test MSE: 0.0062\n",
      "Time: 13.96648907661438\n",
      "---------------------------------------- 0.25\n",
      "graphs_train shape: 6981 graphs_train[0] shape: Data(x=[36, 37], edge_index=[2, 14], y=0.7580213903743316)\n",
      "graphs_test shape: 216 graphs_test[0] shape: Data(x=[36, 37], edge_index=[2, 14], y=0.8492753623188405)\n"
     ]
    },
    {
     "name": "stderr",
     "output_type": "stream",
     "text": [
      "/Users/haox/opt/anaconda3/lib/python3.8/site-packages/torch_geometric/deprecation.py:13: UserWarning: 'data.DataLoader' is deprecated, use 'loader.DataLoader' instead\n",
      "  warnings.warn(out)\n"
     ]
    },
    {
     "name": "stdout",
     "output_type": "stream",
     "text": [
      "Epoch: 009, Train MAE: 0.1578, Train MSE: 0.0482\n",
      "Epoch: 009, Test MAE: 0.0550, Test MSE: 0.0063\n",
      "Time: 13.573553800582886\n",
      "---------------------------------------- 0.3\n",
      "graphs_train shape: 7167 graphs_train[0] shape: Data(x=[36, 37], edge_index=[2, 14], y=0.7580213903743316)\n",
      "graphs_test shape: 216 graphs_test[0] shape: Data(x=[36, 37], edge_index=[2, 14], y=0.8492753623188405)\n"
     ]
    },
    {
     "name": "stderr",
     "output_type": "stream",
     "text": [
      "/Users/haox/opt/anaconda3/lib/python3.8/site-packages/torch_geometric/deprecation.py:13: UserWarning: 'data.DataLoader' is deprecated, use 'loader.DataLoader' instead\n",
      "  warnings.warn(out)\n"
     ]
    },
    {
     "name": "stdout",
     "output_type": "stream",
     "text": [
      "Epoch: 009, Train MAE: 0.1593, Train MSE: 0.0479\n",
      "Epoch: 009, Test MAE: 0.0583, Test MSE: 0.0065\n",
      "Time: 14.340572834014893\n",
      "---------------------------------------- 0.35000000000000003\n",
      "++++++++++++++++++++++++++++++\n",
      "Australian_DDN+GIN_0.3 Australian_DDN+GIN_0.35\n",
      "35 35\n",
      "---------------------------------------- 0.4\n",
      "graphs_train shape: 7383 graphs_train[0] shape: Data(x=[36, 37], edge_index=[2, 14], y=0.7580213903743316)\n",
      "graphs_test shape: 216 graphs_test[0] shape: Data(x=[36, 37], edge_index=[2, 14], y=0.8492753623188405)\n"
     ]
    },
    {
     "name": "stderr",
     "output_type": "stream",
     "text": [
      "/Users/haox/opt/anaconda3/lib/python3.8/site-packages/torch_geometric/deprecation.py:13: UserWarning: 'data.DataLoader' is deprecated, use 'loader.DataLoader' instead\n",
      "  warnings.warn(out)\n"
     ]
    },
    {
     "name": "stdout",
     "output_type": "stream",
     "text": [
      "Epoch: 009, Train MAE: 0.1623, Train MSE: 0.0484\n",
      "Epoch: 009, Test MAE: 0.0610, Test MSE: 0.0066\n",
      "Time: 17.098212957382202\n",
      "---------------------------------------- 0.45\n",
      "++++++++++++++++++++++++++++++\n",
      "Australian_DDN+GIN_0.4 Australian_DDN+GIN_0.45\n",
      "36 36\n",
      "========================================\n",
      "6 bank-marketing\n",
      "---------------------------------------- 0.05\n",
      "graphs_train shape: 1758 graphs_train[0] shape: Data(x=[36, 37], edge_index=[2, 14], y=0.17222222222222222)\n",
      "graphs_test shape: 409 graphs_test[0] shape: Data(x=[36, 37], edge_index=[2, 12], y=0.8865000000000001)\n"
     ]
    },
    {
     "name": "stderr",
     "output_type": "stream",
     "text": [
      "/Users/haox/opt/anaconda3/lib/python3.8/site-packages/torch_geometric/deprecation.py:13: UserWarning: 'data.DataLoader' is deprecated, use 'loader.DataLoader' instead\n",
      "  warnings.warn(out)\n"
     ]
    },
    {
     "name": "stdout",
     "output_type": "stream",
     "text": [
      "Epoch: 009, Train MAE: 0.0868, Train MSE: 0.0179\n",
      "Epoch: 009, Test MAE: 0.0693, Test MSE: 0.0087\n",
      "Time: 4.345207691192627\n",
      "---------------------------------------- 0.1\n",
      "graphs_train shape: 3759 graphs_train[0] shape: Data(x=[36, 37], edge_index=[2, 14], y=0.7580213903743316)\n",
      "graphs_test shape: 409 graphs_test[0] shape: Data(x=[36, 37], edge_index=[2, 12], y=0.8865000000000001)\n"
     ]
    },
    {
     "name": "stderr",
     "output_type": "stream",
     "text": [
      "/Users/haox/opt/anaconda3/lib/python3.8/site-packages/torch_geometric/deprecation.py:13: UserWarning: 'data.DataLoader' is deprecated, use 'loader.DataLoader' instead\n",
      "  warnings.warn(out)\n"
     ]
    },
    {
     "name": "stdout",
     "output_type": "stream",
     "text": [
      "Epoch: 009, Train MAE: 0.1040, Train MSE: 0.0259\n",
      "Epoch: 009, Test MAE: 0.0285, Test MSE: 0.0068\n",
      "Time: 8.80406904220581\n",
      "---------------------------------------- 0.15000000000000002\n",
      "graphs_train shape: 4241 graphs_train[0] shape: Data(x=[36, 37], edge_index=[2, 14], y=0.7580213903743316)\n",
      "graphs_test shape: 409 graphs_test[0] shape: Data(x=[36, 37], edge_index=[2, 12], y=0.8865000000000001)\n"
     ]
    },
    {
     "name": "stderr",
     "output_type": "stream",
     "text": [
      "/Users/haox/opt/anaconda3/lib/python3.8/site-packages/torch_geometric/deprecation.py:13: UserWarning: 'data.DataLoader' is deprecated, use 'loader.DataLoader' instead\n",
      "  warnings.warn(out)\n"
     ]
    },
    {
     "name": "stdout",
     "output_type": "stream",
     "text": [
      "Epoch: 009, Train MAE: 0.1050, Train MSE: 0.0246\n",
      "Epoch: 009, Test MAE: 0.0407, Test MSE: 0.0068\n",
      "Time: 9.047924041748047\n",
      "---------------------------------------- 0.2\n",
      "graphs_train shape: 5719 graphs_train[0] shape: Data(x=[36, 37], edge_index=[2, 14], y=0.7580213903743316)\n",
      "graphs_test shape: 409 graphs_test[0] shape: Data(x=[36, 37], edge_index=[2, 12], y=0.8865000000000001)\n"
     ]
    },
    {
     "name": "stderr",
     "output_type": "stream",
     "text": [
      "/Users/haox/opt/anaconda3/lib/python3.8/site-packages/torch_geometric/deprecation.py:13: UserWarning: 'data.DataLoader' is deprecated, use 'loader.DataLoader' instead\n",
      "  warnings.warn(out)\n"
     ]
    },
    {
     "name": "stdout",
     "output_type": "stream",
     "text": [
      "Epoch: 009, Train MAE: 0.1391, Train MSE: 0.0425\n",
      "Epoch: 009, Test MAE: 0.0719, Test MSE: 0.0090\n",
      "Time: 11.283035039901733\n",
      "---------------------------------------- 0.25\n",
      "graphs_train shape: 5935 graphs_train[0] shape: Data(x=[36, 37], edge_index=[2, 14], y=0.7580213903743316)\n",
      "graphs_test shape: 409 graphs_test[0] shape: Data(x=[36, 37], edge_index=[2, 12], y=0.8865000000000001)\n"
     ]
    },
    {
     "name": "stderr",
     "output_type": "stream",
     "text": [
      "/Users/haox/opt/anaconda3/lib/python3.8/site-packages/torch_geometric/deprecation.py:13: UserWarning: 'data.DataLoader' is deprecated, use 'loader.DataLoader' instead\n",
      "  warnings.warn(out)\n"
     ]
    },
    {
     "name": "stdout",
     "output_type": "stream",
     "text": [
      "Epoch: 009, Train MAE: 0.1399, Train MSE: 0.0423\n",
      "Epoch: 009, Test MAE: 0.0696, Test MSE: 0.0087\n",
      "Time: 11.617931127548218\n",
      "---------------------------------------- 0.3\n",
      "graphs_train shape: 6788 graphs_train[0] shape: Data(x=[36, 37], edge_index=[2, 14], y=0.7580213903743316)\n",
      "graphs_test shape: 409 graphs_test[0] shape: Data(x=[36, 37], edge_index=[2, 12], y=0.8865000000000001)\n"
     ]
    },
    {
     "name": "stderr",
     "output_type": "stream",
     "text": [
      "/Users/haox/opt/anaconda3/lib/python3.8/site-packages/torch_geometric/deprecation.py:13: UserWarning: 'data.DataLoader' is deprecated, use 'loader.DataLoader' instead\n",
      "  warnings.warn(out)\n"
     ]
    },
    {
     "name": "stdout",
     "output_type": "stream",
     "text": [
      "Epoch: 009, Train MAE: 0.1573, Train MSE: 0.0477\n",
      "Epoch: 009, Test MAE: 0.0826, Test MSE: 0.0102\n",
      "Time: 13.426153898239136\n",
      "---------------------------------------- 0.35000000000000003\n",
      "graphs_train shape: 6974 graphs_train[0] shape: Data(x=[36, 37], edge_index=[2, 14], y=0.7580213903743316)\n",
      "graphs_test shape: 409 graphs_test[0] shape: Data(x=[36, 37], edge_index=[2, 12], y=0.8865000000000001)\n"
     ]
    },
    {
     "name": "stderr",
     "output_type": "stream",
     "text": [
      "/Users/haox/opt/anaconda3/lib/python3.8/site-packages/torch_geometric/deprecation.py:13: UserWarning: 'data.DataLoader' is deprecated, use 'loader.DataLoader' instead\n",
      "  warnings.warn(out)\n"
     ]
    },
    {
     "name": "stdout",
     "output_type": "stream",
     "text": [
      "Epoch: 009, Train MAE: 0.1557, Train MSE: 0.0455\n",
      "Epoch: 009, Test MAE: 0.0960, Test MSE: 0.0122\n",
      "Time: 14.120484113693237\n",
      "---------------------------------------- 0.4\n",
      "graphs_train shape: 7190 graphs_train[0] shape: Data(x=[36, 37], edge_index=[2, 14], y=0.7580213903743316)\n",
      "graphs_test shape: 409 graphs_test[0] shape: Data(x=[36, 37], edge_index=[2, 12], y=0.8865000000000001)\n"
     ]
    },
    {
     "name": "stderr",
     "output_type": "stream",
     "text": [
      "/Users/haox/opt/anaconda3/lib/python3.8/site-packages/torch_geometric/deprecation.py:13: UserWarning: 'data.DataLoader' is deprecated, use 'loader.DataLoader' instead\n",
      "  warnings.warn(out)\n"
     ]
    },
    {
     "name": "stdout",
     "output_type": "stream",
     "text": [
      "Epoch: 009, Train MAE: 0.1582, Train MSE: 0.0457\n",
      "Epoch: 009, Test MAE: 0.0994, Test MSE: 0.0127\n",
      "Time: 14.33749508857727\n",
      "---------------------------------------- 0.45\n",
      "++++++++++++++++++++++++++++++\n",
      "bank-marketing_DDN+GIN_0.4 bank-marketing_DDN+GIN_0.45\n",
      "36 36\n",
      "========================================\n",
      "7 blood-transfusion-service-center\n",
      "---------------------------------------- 0.05\n",
      "graphs_train shape: 1798 graphs_train[0] shape: Data(x=[36, 37], edge_index=[2, 14], y=0.8975)\n",
      "graphs_test shape: 180 graphs_test[0] shape: Data(x=[36, 37], edge_index=[2, 14], y=0.7580213903743316)\n"
     ]
    },
    {
     "name": "stderr",
     "output_type": "stream",
     "text": [
      "/Users/haox/opt/anaconda3/lib/python3.8/site-packages/torch_geometric/deprecation.py:13: UserWarning: 'data.DataLoader' is deprecated, use 'loader.DataLoader' instead\n",
      "  warnings.warn(out)\n"
     ]
    },
    {
     "name": "stdout",
     "output_type": "stream",
     "text": [
      "Epoch: 009, Train MAE: 0.1366, Train MSE: 0.0271\n",
      "Epoch: 009, Test MAE: 0.0789, Test MSE: 0.0082\n",
      "Time: 3.6929519176483154\n",
      "---------------------------------------- 0.1\n",
      "graphs_train shape: 3677 graphs_train[0] shape: Data(x=[36, 37], edge_index=[2, 14], y=0.17222222222222222)\n",
      "graphs_test shape: 180 graphs_test[0] shape: Data(x=[36, 37], edge_index=[2, 14], y=0.7580213903743316)\n"
     ]
    },
    {
     "name": "stderr",
     "output_type": "stream",
     "text": [
      "/Users/haox/opt/anaconda3/lib/python3.8/site-packages/torch_geometric/deprecation.py:13: UserWarning: 'data.DataLoader' is deprecated, use 'loader.DataLoader' instead\n",
      "  warnings.warn(out)\n"
     ]
    },
    {
     "name": "stdout",
     "output_type": "stream",
     "text": [
      "Epoch: 009, Train MAE: 0.1218, Train MSE: 0.0229\n",
      "Epoch: 009, Test MAE: 0.0674, Test MSE: 0.0069\n",
      "Time: 7.417265892028809\n",
      "---------------------------------------- 0.15000000000000002\n",
      "graphs_train shape: 5471 graphs_train[0] shape: Data(x=[36, 37], edge_index=[2, 14], y=0.17222222222222222)\n",
      "graphs_test shape: 180 graphs_test[0] shape: Data(x=[36, 37], edge_index=[2, 14], y=0.7580213903743316)\n"
     ]
    },
    {
     "name": "stderr",
     "output_type": "stream",
     "text": [
      "/Users/haox/opt/anaconda3/lib/python3.8/site-packages/torch_geometric/deprecation.py:13: UserWarning: 'data.DataLoader' is deprecated, use 'loader.DataLoader' instead\n",
      "  warnings.warn(out)\n"
     ]
    },
    {
     "name": "stdout",
     "output_type": "stream",
     "text": [
      "Epoch: 009, Train MAE: 0.1295, Train MSE: 0.0370\n",
      "Epoch: 009, Test MAE: 0.0347, Test MSE: 0.0064\n",
      "Time: 11.480633974075317\n",
      "---------------------------------------- 0.2\n",
      "graphs_train shape: 6181 graphs_train[0] shape: Data(x=[36, 37], edge_index=[2, 14], y=0.17222222222222222)\n",
      "graphs_test shape: 180 graphs_test[0] shape: Data(x=[36, 37], edge_index=[2, 14], y=0.7580213903743316)\n"
     ]
    },
    {
     "name": "stderr",
     "output_type": "stream",
     "text": [
      "/Users/haox/opt/anaconda3/lib/python3.8/site-packages/torch_geometric/deprecation.py:13: UserWarning: 'data.DataLoader' is deprecated, use 'loader.DataLoader' instead\n",
      "  warnings.warn(out)\n"
     ]
    },
    {
     "name": "stdout",
     "output_type": "stream",
     "text": [
      "Epoch: 009, Train MAE: 0.1369, Train MSE: 0.0407\n",
      "Epoch: 009, Test MAE: 0.0766, Test MSE: 0.0111\n",
      "Time: 14.390186071395874\n",
      "---------------------------------------- 0.25\n",
      "graphs_train shape: 7017 graphs_train[0] shape: Data(x=[36, 37], edge_index=[2, 14], y=0.17222222222222222)\n",
      "graphs_test shape: 180 graphs_test[0] shape: Data(x=[36, 37], edge_index=[2, 14], y=0.7580213903743316)\n"
     ]
    },
    {
     "name": "stderr",
     "output_type": "stream",
     "text": [
      "/Users/haox/opt/anaconda3/lib/python3.8/site-packages/torch_geometric/deprecation.py:13: UserWarning: 'data.DataLoader' is deprecated, use 'loader.DataLoader' instead\n",
      "  warnings.warn(out)\n"
     ]
    },
    {
     "name": "stdout",
     "output_type": "stream",
     "text": [
      "Epoch: 009, Train MAE: 0.1574, Train MSE: 0.0483\n",
      "Epoch: 009, Test MAE: 0.0748, Test MSE: 0.0108\n",
      "Time: 14.27641487121582\n",
      "---------------------------------------- 0.3\n",
      "graphs_train shape: 7203 graphs_train[0] shape: Data(x=[36, 37], edge_index=[2, 14], y=0.17222222222222222)\n",
      "graphs_test shape: 180 graphs_test[0] shape: Data(x=[36, 37], edge_index=[2, 14], y=0.7580213903743316)\n"
     ]
    },
    {
     "name": "stderr",
     "output_type": "stream",
     "text": [
      "/Users/haox/opt/anaconda3/lib/python3.8/site-packages/torch_geometric/deprecation.py:13: UserWarning: 'data.DataLoader' is deprecated, use 'loader.DataLoader' instead\n",
      "  warnings.warn(out)\n"
     ]
    },
    {
     "name": "stdout",
     "output_type": "stream",
     "text": [
      "Epoch: 009, Train MAE: 0.1587, Train MSE: 0.0477\n",
      "Epoch: 009, Test MAE: 0.0691, Test MSE: 0.0100\n",
      "Time: 13.969213008880615\n",
      "---------------------------------------- 0.35000000000000003\n",
      "graphs_train shape: 7419 graphs_train[0] shape: Data(x=[36, 37], edge_index=[2, 14], y=0.17222222222222222)\n",
      "graphs_test shape: 180 graphs_test[0] shape: Data(x=[36, 37], edge_index=[2, 14], y=0.7580213903743316)\n"
     ]
    },
    {
     "name": "stderr",
     "output_type": "stream",
     "text": [
      "/Users/haox/opt/anaconda3/lib/python3.8/site-packages/torch_geometric/deprecation.py:13: UserWarning: 'data.DataLoader' is deprecated, use 'loader.DataLoader' instead\n",
      "  warnings.warn(out)\n"
     ]
    },
    {
     "name": "stdout",
     "output_type": "stream",
     "text": [
      "Epoch: 009, Train MAE: 0.1628, Train MSE: 0.0491\n",
      "Epoch: 009, Test MAE: 0.0701, Test MSE: 0.0101\n",
      "Time: 14.289479970932007\n",
      "---------------------------------------- 0.4\n",
      "++++++++++++++++++++++++++++++\n",
      "blood-transfusion-service-center_DDN+GIN_0.35 blood-transfusion-service-center_DDN+GIN_0.4\n",
      "36 36\n",
      "---------------------------------------- 0.45\n",
      "graphs_train shape: 7427 graphs_train[0] shape: Data(x=[36, 37], edge_index=[2, 14], y=0.17222222222222222)\n",
      "graphs_test shape: 180 graphs_test[0] shape: Data(x=[36, 37], edge_index=[2, 14], y=0.7580213903743316)\n"
     ]
    },
    {
     "name": "stderr",
     "output_type": "stream",
     "text": [
      "/Users/haox/opt/anaconda3/lib/python3.8/site-packages/torch_geometric/deprecation.py:13: UserWarning: 'data.DataLoader' is deprecated, use 'loader.DataLoader' instead\n",
      "  warnings.warn(out)\n"
     ]
    },
    {
     "name": "stdout",
     "output_type": "stream",
     "text": [
      "Epoch: 009, Train MAE: 0.1628, Train MSE: 0.0490\n",
      "Epoch: 009, Test MAE: 0.0683, Test MSE: 0.0099\n",
      "Time: 14.451421022415161\n",
      "========================================\n",
      "8 car\n",
      "---------------------------------------- 0.05\n",
      "graphs_train shape: 2121 graphs_train[0] shape: Data(x=[36, 37], edge_index=[2, 14], y=0.7580213903743316)\n",
      "graphs_test shape: 266 graphs_test[0] shape: Data(x=[36, 37], edge_index=[2, 15], y=0.880787037037037)\n"
     ]
    },
    {
     "name": "stderr",
     "output_type": "stream",
     "text": [
      "/Users/haox/opt/anaconda3/lib/python3.8/site-packages/torch_geometric/deprecation.py:13: UserWarning: 'data.DataLoader' is deprecated, use 'loader.DataLoader' instead\n",
      "  warnings.warn(out)\n"
     ]
    },
    {
     "name": "stdout",
     "output_type": "stream",
     "text": [
      "Epoch: 009, Train MAE: 0.1130, Train MSE: 0.0204\n",
      "Epoch: 009, Test MAE: 0.1421, Test MSE: 0.0364\n",
      "Time: 4.6550281047821045\n",
      "---------------------------------------- 0.1\n",
      "graphs_train shape: 3613 graphs_train[0] shape: Data(x=[36, 37], edge_index=[2, 14], y=0.7580213903743316)\n",
      "graphs_test shape: 266 graphs_test[0] shape: Data(x=[36, 37], edge_index=[2, 15], y=0.880787037037037)\n"
     ]
    },
    {
     "name": "stderr",
     "output_type": "stream",
     "text": [
      "/Users/haox/opt/anaconda3/lib/python3.8/site-packages/torch_geometric/deprecation.py:13: UserWarning: 'data.DataLoader' is deprecated, use 'loader.DataLoader' instead\n",
      "  warnings.warn(out)\n"
     ]
    },
    {
     "name": "stdout",
     "output_type": "stream",
     "text": [
      "Epoch: 009, Train MAE: 0.1004, Train MSE: 0.0192\n",
      "Epoch: 009, Test MAE: 0.1221, Test MSE: 0.0323\n",
      "Time: 7.8681440353393555\n",
      "---------------------------------------- 0.15000000000000002\n",
      "graphs_train shape: 5658 graphs_train[0] shape: Data(x=[36, 37], edge_index=[2, 14], y=0.7580213903743316)\n",
      "graphs_test shape: 266 graphs_test[0] shape: Data(x=[36, 37], edge_index=[2, 15], y=0.880787037037037)\n"
     ]
    },
    {
     "name": "stderr",
     "output_type": "stream",
     "text": [
      "/Users/haox/opt/anaconda3/lib/python3.8/site-packages/torch_geometric/deprecation.py:13: UserWarning: 'data.DataLoader' is deprecated, use 'loader.DataLoader' instead\n",
      "  warnings.warn(out)\n"
     ]
    },
    {
     "name": "stdout",
     "output_type": "stream",
     "text": [
      "Epoch: 009, Train MAE: 0.1174, Train MSE: 0.0272\n",
      "Epoch: 009, Test MAE: 0.1242, Test MSE: 0.0339\n",
      "Time: 12.162240028381348\n",
      "---------------------------------------- 0.2\n",
      "graphs_train shape: 6078 graphs_train[0] shape: Data(x=[36, 37], edge_index=[2, 14], y=0.7580213903743316)\n",
      "graphs_test shape: 266 graphs_test[0] shape: Data(x=[36, 37], edge_index=[2, 15], y=0.880787037037037)\n"
     ]
    },
    {
     "name": "stderr",
     "output_type": "stream",
     "text": [
      "/Users/haox/opt/anaconda3/lib/python3.8/site-packages/torch_geometric/deprecation.py:13: UserWarning: 'data.DataLoader' is deprecated, use 'loader.DataLoader' instead\n",
      "  warnings.warn(out)\n"
     ]
    },
    {
     "name": "stdout",
     "output_type": "stream",
     "text": [
      "Epoch: 009, Train MAE: 0.1376, Train MSE: 0.0420\n",
      "Epoch: 009, Test MAE: 0.1244, Test MSE: 0.0340\n",
      "Time: 12.240164279937744\n",
      "---------------------------------------- 0.25\n",
      "graphs_train shape: 6931 graphs_train[0] shape: Data(x=[36, 37], edge_index=[2, 14], y=0.7580213903743316)\n",
      "graphs_test shape: 266 graphs_test[0] shape: Data(x=[36, 37], edge_index=[2, 15], y=0.880787037037037)\n"
     ]
    },
    {
     "name": "stderr",
     "output_type": "stream",
     "text": [
      "/Users/haox/opt/anaconda3/lib/python3.8/site-packages/torch_geometric/deprecation.py:13: UserWarning: 'data.DataLoader' is deprecated, use 'loader.DataLoader' instead\n",
      "  warnings.warn(out)\n"
     ]
    },
    {
     "name": "stdout",
     "output_type": "stream",
     "text": [
      "Epoch: 009, Train MAE: 0.1573, Train MSE: 0.0486\n",
      "Epoch: 009, Test MAE: 0.1227, Test MSE: 0.0331\n",
      "Time: 13.693383932113647\n",
      "---------------------------------------- 0.3\n",
      "graphs_train shape: 7117 graphs_train[0] shape: Data(x=[36, 37], edge_index=[2, 14], y=0.7580213903743316)\n",
      "graphs_test shape: 266 graphs_test[0] shape: Data(x=[36, 37], edge_index=[2, 15], y=0.880787037037037)\n"
     ]
    },
    {
     "name": "stderr",
     "output_type": "stream",
     "text": [
      "/Users/haox/opt/anaconda3/lib/python3.8/site-packages/torch_geometric/deprecation.py:13: UserWarning: 'data.DataLoader' is deprecated, use 'loader.DataLoader' instead\n",
      "  warnings.warn(out)\n"
     ]
    },
    {
     "name": "stdout",
     "output_type": "stream",
     "text": [
      "Epoch: 009, Train MAE: 0.1576, Train MSE: 0.0472\n",
      "Epoch: 009, Test MAE: 0.1213, Test MSE: 0.0326\n",
      "Time: 13.79954719543457\n",
      "---------------------------------------- 0.35000000000000003\n",
      "graphs_train shape: 7333 graphs_train[0] shape: Data(x=[36, 37], edge_index=[2, 14], y=0.7580213903743316)\n",
      "graphs_test shape: 266 graphs_test[0] shape: Data(x=[36, 37], edge_index=[2, 15], y=0.880787037037037)\n"
     ]
    },
    {
     "name": "stderr",
     "output_type": "stream",
     "text": [
      "/Users/haox/opt/anaconda3/lib/python3.8/site-packages/torch_geometric/deprecation.py:13: UserWarning: 'data.DataLoader' is deprecated, use 'loader.DataLoader' instead\n",
      "  warnings.warn(out)\n"
     ]
    },
    {
     "name": "stdout",
     "output_type": "stream",
     "text": [
      "Epoch: 009, Train MAE: 0.1604, Train MSE: 0.0474\n",
      "Epoch: 009, Test MAE: 0.1209, Test MSE: 0.0325\n",
      "Time: 14.210353136062622\n",
      "---------------------------------------- 0.4\n",
      "++++++++++++++++++++++++++++++\n",
      "car_DDN+GIN_0.35 car_DDN+GIN_0.4\n",
      "36 36\n",
      "---------------------------------------- 0.45\n",
      "++++++++++++++++++++++++++++++\n",
      "car_DDN+GIN_0.4 car_DDN+GIN_0.45\n",
      "36 36\n",
      "========================================\n",
      "9 christine\n",
      "---------------------------------------- 0.05\n",
      "graphs_train shape: 852 graphs_train[0] shape: Data(x=[36, 37], edge_index=[2, 14], y=0.23099999999999998)\n",
      "graphs_test shape: 216 graphs_test[0] shape: Data(x=[36, 37], edge_index=[2, 12], y=0.7275)\n"
     ]
    },
    {
     "name": "stderr",
     "output_type": "stream",
     "text": [
      "/Users/haox/opt/anaconda3/lib/python3.8/site-packages/torch_geometric/deprecation.py:13: UserWarning: 'data.DataLoader' is deprecated, use 'loader.DataLoader' instead\n",
      "  warnings.warn(out)\n"
     ]
    },
    {
     "name": "stdout",
     "output_type": "stream",
     "text": [
      "Epoch: 009, Train MAE: 0.1989, Train MSE: 0.0596\n",
      "Epoch: 009, Test MAE: 0.1353, Test MSE: 0.0206\n",
      "Time: 1.8694329261779785\n",
      "---------------------------------------- 0.1\n",
      "graphs_train shape: 2547 graphs_train[0] shape: Data(x=[36, 37], edge_index=[2, 14], y=0.23099999999999998)\n",
      "graphs_test shape: 216 graphs_test[0] shape: Data(x=[36, 37], edge_index=[2, 12], y=0.7275)\n"
     ]
    },
    {
     "name": "stderr",
     "output_type": "stream",
     "text": [
      "/Users/haox/opt/anaconda3/lib/python3.8/site-packages/torch_geometric/deprecation.py:13: UserWarning: 'data.DataLoader' is deprecated, use 'loader.DataLoader' instead\n",
      "  warnings.warn(out)\n"
     ]
    },
    {
     "name": "stdout",
     "output_type": "stream",
     "text": [
      "Epoch: 009, Train MAE: 0.1365, Train MSE: 0.0377\n",
      "Epoch: 009, Test MAE: 0.0609, Test MSE: 0.0047\n",
      "Time: 5.057024002075195\n",
      "---------------------------------------- 0.15000000000000002\n",
      "graphs_train shape: 3581 graphs_train[0] shape: Data(x=[36, 37], edge_index=[2, 14], y=0.7580213903743316)\n",
      "graphs_test shape: 216 graphs_test[0] shape: Data(x=[36, 37], edge_index=[2, 12], y=0.7275)\n"
     ]
    },
    {
     "name": "stderr",
     "output_type": "stream",
     "text": [
      "/Users/haox/opt/anaconda3/lib/python3.8/site-packages/torch_geometric/deprecation.py:13: UserWarning: 'data.DataLoader' is deprecated, use 'loader.DataLoader' instead\n",
      "  warnings.warn(out)\n"
     ]
    },
    {
     "name": "stdout",
     "output_type": "stream",
     "text": [
      "Epoch: 009, Train MAE: 0.1403, Train MSE: 0.0423\n",
      "Epoch: 009, Test MAE: 0.0457, Test MSE: 0.0047\n",
      "Time: 7.020625114440918\n",
      "---------------------------------------- 0.2\n",
      "graphs_train shape: 4927 graphs_train[0] shape: Data(x=[36, 37], edge_index=[2, 14], y=0.7580213903743316)\n",
      "graphs_test shape: 216 graphs_test[0] shape: Data(x=[36, 37], edge_index=[2, 12], y=0.7275)\n"
     ]
    },
    {
     "name": "stderr",
     "output_type": "stream",
     "text": [
      "/Users/haox/opt/anaconda3/lib/python3.8/site-packages/torch_geometric/deprecation.py:13: UserWarning: 'data.DataLoader' is deprecated, use 'loader.DataLoader' instead\n",
      "  warnings.warn(out)\n"
     ]
    },
    {
     "name": "stdout",
     "output_type": "stream",
     "text": [
      "Epoch: 009, Train MAE: 0.1421, Train MSE: 0.0380\n",
      "Epoch: 009, Test MAE: 0.0428, Test MSE: 0.0041\n",
      "Time: 9.545534133911133\n",
      "---------------------------------------- 0.25\n",
      "graphs_train shape: 6180 graphs_train[0] shape: Data(x=[36, 37], edge_index=[2, 14], y=0.7580213903743316)\n",
      "graphs_test shape: 216 graphs_test[0] shape: Data(x=[36, 37], edge_index=[2, 12], y=0.7275)\n"
     ]
    },
    {
     "name": "stderr",
     "output_type": "stream",
     "text": [
      "/Users/haox/opt/anaconda3/lib/python3.8/site-packages/torch_geometric/deprecation.py:13: UserWarning: 'data.DataLoader' is deprecated, use 'loader.DataLoader' instead\n",
      "  warnings.warn(out)\n"
     ]
    },
    {
     "name": "stdout",
     "output_type": "stream",
     "text": [
      "Epoch: 009, Train MAE: 0.1530, Train MSE: 0.0454\n",
      "Epoch: 009, Test MAE: 0.1001, Test MSE: 0.0133\n",
      "Time: 12.102691888809204\n",
      "---------------------------------------- 0.3\n",
      "graphs_train shape: 6913 graphs_train[0] shape: Data(x=[36, 37], edge_index=[2, 14], y=0.7580213903743316)\n",
      "graphs_test shape: 216 graphs_test[0] shape: Data(x=[36, 37], edge_index=[2, 12], y=0.7275)\n"
     ]
    },
    {
     "name": "stderr",
     "output_type": "stream",
     "text": [
      "/Users/haox/opt/anaconda3/lib/python3.8/site-packages/torch_geometric/deprecation.py:13: UserWarning: 'data.DataLoader' is deprecated, use 'loader.DataLoader' instead\n",
      "  warnings.warn(out)\n"
     ]
    },
    {
     "name": "stdout",
     "output_type": "stream",
     "text": [
      "Epoch: 009, Train MAE: 0.1541, Train MSE: 0.0450\n",
      "Epoch: 009, Test MAE: 0.1113, Test MSE: 0.0156\n",
      "Time: 14.367718935012817\n",
      "---------------------------------------- 0.35000000000000003\n",
      "graphs_train shape: 7391 graphs_train[0] shape: Data(x=[36, 37], edge_index=[2, 14], y=0.7580213903743316)\n",
      "graphs_test shape: 216 graphs_test[0] shape: Data(x=[36, 37], edge_index=[2, 12], y=0.7275)\n"
     ]
    },
    {
     "name": "stderr",
     "output_type": "stream",
     "text": [
      "/Users/haox/opt/anaconda3/lib/python3.8/site-packages/torch_geometric/deprecation.py:13: UserWarning: 'data.DataLoader' is deprecated, use 'loader.DataLoader' instead\n",
      "  warnings.warn(out)\n"
     ]
    },
    {
     "name": "stdout",
     "output_type": "stream",
     "text": [
      "Epoch: 009, Train MAE: 0.1603, Train MSE: 0.0480\n",
      "Epoch: 009, Test MAE: 0.1325, Test MSE: 0.0208\n",
      "Time: 14.547522783279419\n",
      "---------------------------------------- 0.4\n",
      "++++++++++++++++++++++++++++++\n",
      "christine_DDN+GIN_0.35 christine_DDN+GIN_0.4\n",
      "37 37\n",
      "---------------------------------------- 0.45\n",
      "graphs_train shape: 7595 graphs_train[0] shape: Data(x=[36, 37], edge_index=[2, 14], y=0.7580213903743316)\n",
      "graphs_test shape: 216 graphs_test[0] shape: Data(x=[36, 37], edge_index=[2, 12], y=0.7275)\n"
     ]
    },
    {
     "name": "stderr",
     "output_type": "stream",
     "text": [
      "/Users/haox/opt/anaconda3/lib/python3.8/site-packages/torch_geometric/deprecation.py:13: UserWarning: 'data.DataLoader' is deprecated, use 'loader.DataLoader' instead\n",
      "  warnings.warn(out)\n"
     ]
    },
    {
     "name": "stdout",
     "output_type": "stream",
     "text": [
      "Epoch: 009, Train MAE: 0.1720, Train MSE: 0.0568\n",
      "Epoch: 009, Test MAE: 0.1277, Test MSE: 0.0196\n",
      "Time: 14.929988145828247\n",
      "========================================\n",
      "10 cnae-9\n",
      "---------------------------------------- 0.05\n",
      "graphs_train shape: 1549 graphs_train[0] shape: Data(x=[36, 37], edge_index=[2, 13], y=0.836)\n",
      "graphs_test shape: 196 graphs_test[0] shape: Data(x=[36, 37], edge_index=[2, 14], y=0.17222222222222222)\n"
     ]
    },
    {
     "name": "stderr",
     "output_type": "stream",
     "text": [
      "/Users/haox/opt/anaconda3/lib/python3.8/site-packages/torch_geometric/deprecation.py:13: UserWarning: 'data.DataLoader' is deprecated, use 'loader.DataLoader' instead\n",
      "  warnings.warn(out)\n"
     ]
    },
    {
     "name": "stdout",
     "output_type": "stream",
     "text": [
      "Epoch: 009, Train MAE: 0.0881, Train MSE: 0.0142\n",
      "Epoch: 009, Test MAE: 0.0963, Test MSE: 0.0348\n",
      "Time: 3.231678009033203\n",
      "---------------------------------------- 0.1\n",
      "graphs_train shape: 4238 graphs_train[0] shape: Data(x=[36, 37], edge_index=[2, 14], y=0.7580213903743316)\n",
      "graphs_test shape: 196 graphs_test[0] shape: Data(x=[36, 37], edge_index=[2, 14], y=0.17222222222222222)\n"
     ]
    },
    {
     "name": "stderr",
     "output_type": "stream",
     "text": [
      "/Users/haox/opt/anaconda3/lib/python3.8/site-packages/torch_geometric/deprecation.py:13: UserWarning: 'data.DataLoader' is deprecated, use 'loader.DataLoader' instead\n",
      "  warnings.warn(out)\n"
     ]
    },
    {
     "name": "stdout",
     "output_type": "stream",
     "text": [
      "Epoch: 009, Train MAE: 0.1069, Train MSE: 0.0211\n",
      "Epoch: 009, Test MAE: 0.1081, Test MSE: 0.0331\n",
      "Time: 8.207109928131104\n",
      "---------------------------------------- 0.15000000000000002\n",
      "++++++++++++++++++++++++++++++\n",
      "cnae-9_DDN+GIN_0.1 cnae-9_DDN+GIN_0.15\n",
      "20 20\n",
      "---------------------------------------- 0.2\n",
      "graphs_train shape: 5296 graphs_train[0] shape: Data(x=[36, 37], edge_index=[2, 14], y=0.7580213903743316)\n",
      "graphs_test shape: 196 graphs_test[0] shape: Data(x=[36, 37], edge_index=[2, 14], y=0.17222222222222222)\n"
     ]
    },
    {
     "name": "stderr",
     "output_type": "stream",
     "text": [
      "/Users/haox/opt/anaconda3/lib/python3.8/site-packages/torch_geometric/deprecation.py:13: UserWarning: 'data.DataLoader' is deprecated, use 'loader.DataLoader' instead\n",
      "  warnings.warn(out)\n"
     ]
    },
    {
     "name": "stdout",
     "output_type": "stream",
     "text": [
      "Epoch: 009, Train MAE: 0.1159, Train MSE: 0.0275\n",
      "Epoch: 009, Test MAE: 0.0948, Test MSE: 0.0378\n",
      "Time: 10.119998216629028\n",
      "---------------------------------------- 0.25\n",
      "graphs_train shape: 6148 graphs_train[0] shape: Data(x=[36, 37], edge_index=[2, 14], y=0.7580213903743316)\n",
      "graphs_test shape: 196 graphs_test[0] shape: Data(x=[36, 37], edge_index=[2, 14], y=0.17222222222222222)\n"
     ]
    },
    {
     "name": "stderr",
     "output_type": "stream",
     "text": [
      "/Users/haox/opt/anaconda3/lib/python3.8/site-packages/torch_geometric/deprecation.py:13: UserWarning: 'data.DataLoader' is deprecated, use 'loader.DataLoader' instead\n",
      "  warnings.warn(out)\n"
     ]
    },
    {
     "name": "stdout",
     "output_type": "stream",
     "text": [
      "Epoch: 009, Train MAE: 0.1358, Train MSE: 0.0397\n",
      "Epoch: 009, Test MAE: 0.1020, Test MSE: 0.0335\n",
      "Time: 12.080284118652344\n",
      "---------------------------------------- 0.3\n",
      "graphs_train shape: 6785 graphs_train[0] shape: Data(x=[36, 37], edge_index=[2, 14], y=0.7580213903743316)\n",
      "graphs_test shape: 196 graphs_test[0] shape: Data(x=[36, 37], edge_index=[2, 14], y=0.17222222222222222)\n"
     ]
    },
    {
     "name": "stderr",
     "output_type": "stream",
     "text": [
      "/Users/haox/opt/anaconda3/lib/python3.8/site-packages/torch_geometric/deprecation.py:13: UserWarning: 'data.DataLoader' is deprecated, use 'loader.DataLoader' instead\n",
      "  warnings.warn(out)\n"
     ]
    },
    {
     "name": "stdout",
     "output_type": "stream",
     "text": [
      "Epoch: 009, Train MAE: 0.1541, Train MSE: 0.0472\n",
      "Epoch: 009, Test MAE: 0.1029, Test MSE: 0.0334\n",
      "Time: 13.065162897109985\n",
      "---------------------------------------- 0.35000000000000003\n",
      "graphs_train shape: 7006 graphs_train[0] shape: Data(x=[36, 37], edge_index=[2, 14], y=0.7580213903743316)\n",
      "graphs_test shape: 196 graphs_test[0] shape: Data(x=[36, 37], edge_index=[2, 14], y=0.17222222222222222)\n"
     ]
    },
    {
     "name": "stderr",
     "output_type": "stream",
     "text": [
      "/Users/haox/opt/anaconda3/lib/python3.8/site-packages/torch_geometric/deprecation.py:13: UserWarning: 'data.DataLoader' is deprecated, use 'loader.DataLoader' instead\n",
      "  warnings.warn(out)\n"
     ]
    },
    {
     "name": "stdout",
     "output_type": "stream",
     "text": [
      "Epoch: 009, Train MAE: 0.1565, Train MSE: 0.0476\n",
      "Epoch: 009, Test MAE: 0.1023, Test MSE: 0.0335\n",
      "Time: 13.696656703948975\n",
      "---------------------------------------- 0.4\n",
      "graphs_train shape: 7187 graphs_train[0] shape: Data(x=[36, 37], edge_index=[2, 14], y=0.7580213903743316)\n",
      "graphs_test shape: 196 graphs_test[0] shape: Data(x=[36, 37], edge_index=[2, 14], y=0.17222222222222222)\n"
     ]
    },
    {
     "name": "stderr",
     "output_type": "stream",
     "text": [
      "/Users/haox/opt/anaconda3/lib/python3.8/site-packages/torch_geometric/deprecation.py:13: UserWarning: 'data.DataLoader' is deprecated, use 'loader.DataLoader' instead\n",
      "  warnings.warn(out)\n"
     ]
    },
    {
     "name": "stdout",
     "output_type": "stream",
     "text": [
      "Epoch: 009, Train MAE: 0.1558, Train MSE: 0.0456\n",
      "Epoch: 009, Test MAE: 0.1078, Test MSE: 0.0331\n",
      "Time: 15.384474039077759\n",
      "---------------------------------------- 0.45\n",
      "graphs_train shape: 7403 graphs_train[0] shape: Data(x=[36, 37], edge_index=[2, 14], y=0.7580213903743316)\n",
      "graphs_test shape: 196 graphs_test[0] shape: Data(x=[36, 37], edge_index=[2, 14], y=0.17222222222222222)\n"
     ]
    },
    {
     "name": "stderr",
     "output_type": "stream",
     "text": [
      "/Users/haox/opt/anaconda3/lib/python3.8/site-packages/torch_geometric/deprecation.py:13: UserWarning: 'data.DataLoader' is deprecated, use 'loader.DataLoader' instead\n",
      "  warnings.warn(out)\n"
     ]
    },
    {
     "name": "stdout",
     "output_type": "stream",
     "text": [
      "Epoch: 009, Train MAE: 0.1593, Train MSE: 0.0465\n",
      "Epoch: 009, Test MAE: 0.1081, Test MSE: 0.0331\n",
      "Time: 17.73445701599121\n",
      "========================================\n",
      "11 connect-4\n",
      "---------------------------------------- 0.05\n",
      "graphs_train shape: 1694 graphs_train[0] shape: Data(x=[36, 37], edge_index=[2, 14], y=0.23099999999999998)\n",
      "graphs_test shape: 216 graphs_test[0] shape: Data(x=[36, 37], edge_index=[2, 14], y=0.6665)\n"
     ]
    },
    {
     "name": "stderr",
     "output_type": "stream",
     "text": [
      "/Users/haox/opt/anaconda3/lib/python3.8/site-packages/torch_geometric/deprecation.py:13: UserWarning: 'data.DataLoader' is deprecated, use 'loader.DataLoader' instead\n",
      "  warnings.warn(out)\n"
     ]
    },
    {
     "name": "stdout",
     "output_type": "stream",
     "text": [
      "Epoch: 009, Train MAE: 0.1283, Train MSE: 0.0480\n",
      "Epoch: 009, Test MAE: 0.1050, Test MSE: 0.0373\n",
      "Time: 3.764660120010376\n",
      "---------------------------------------- 0.1\n",
      "graphs_train shape: 2547 graphs_train[0] shape: Data(x=[36, 37], edge_index=[2, 14], y=0.23099999999999998)\n",
      "graphs_test shape: 216 graphs_test[0] shape: Data(x=[36, 37], edge_index=[2, 14], y=0.6665)\n"
     ]
    },
    {
     "name": "stderr",
     "output_type": "stream",
     "text": [
      "/Users/haox/opt/anaconda3/lib/python3.8/site-packages/torch_geometric/deprecation.py:13: UserWarning: 'data.DataLoader' is deprecated, use 'loader.DataLoader' instead\n",
      "  warnings.warn(out)\n"
     ]
    },
    {
     "name": "stdout",
     "output_type": "stream",
     "text": [
      "Epoch: 009, Train MAE: 0.1341, Train MSE: 0.0362\n",
      "Epoch: 009, Test MAE: 0.0922, Test MSE: 0.0292\n",
      "Time: 4.981825113296509\n",
      "---------------------------------------- 0.15000000000000002\n",
      "graphs_train shape: 4530 graphs_train[0] shape: Data(x=[36, 37], edge_index=[2, 14], y=0.7580213903743316)\n",
      "graphs_test shape: 216 graphs_test[0] shape: Data(x=[36, 37], edge_index=[2, 14], y=0.6665)\n"
     ]
    },
    {
     "name": "stderr",
     "output_type": "stream",
     "text": [
      "/Users/haox/opt/anaconda3/lib/python3.8/site-packages/torch_geometric/deprecation.py:13: UserWarning: 'data.DataLoader' is deprecated, use 'loader.DataLoader' instead\n",
      "  warnings.warn(out)\n"
     ]
    },
    {
     "name": "stdout",
     "output_type": "stream",
     "text": [
      "Epoch: 009, Train MAE: 0.1381, Train MSE: 0.0400\n",
      "Epoch: 009, Test MAE: 0.1221, Test MSE: 0.0425\n",
      "Time: 8.767385959625244\n",
      "---------------------------------------- 0.2\n",
      "graphs_train shape: 5336 graphs_train[0] shape: Data(x=[36, 37], edge_index=[2, 14], y=0.7580213903743316)\n",
      "graphs_test shape: 216 graphs_test[0] shape: Data(x=[36, 37], edge_index=[2, 14], y=0.6665)\n"
     ]
    },
    {
     "name": "stderr",
     "output_type": "stream",
     "text": [
      "/Users/haox/opt/anaconda3/lib/python3.8/site-packages/torch_geometric/deprecation.py:13: UserWarning: 'data.DataLoader' is deprecated, use 'loader.DataLoader' instead\n",
      "  warnings.warn(out)\n"
     ]
    },
    {
     "name": "stdout",
     "output_type": "stream",
     "text": [
      "Epoch: 009, Train MAE: 0.1443, Train MSE: 0.0421\n",
      "Epoch: 009, Test MAE: 0.1523, Test MSE: 0.0513\n",
      "Time: 10.325366973876953\n",
      "---------------------------------------- 0.25\n",
      "graphs_train shape: 6612 graphs_train[0] shape: Data(x=[36, 37], edge_index=[2, 14], y=0.7580213903743316)\n",
      "graphs_test shape: 216 graphs_test[0] shape: Data(x=[36, 37], edge_index=[2, 14], y=0.6665)\n"
     ]
    },
    {
     "name": "stderr",
     "output_type": "stream",
     "text": [
      "/Users/haox/opt/anaconda3/lib/python3.8/site-packages/torch_geometric/deprecation.py:13: UserWarning: 'data.DataLoader' is deprecated, use 'loader.DataLoader' instead\n",
      "  warnings.warn(out)\n"
     ]
    },
    {
     "name": "stdout",
     "output_type": "stream",
     "text": [
      "Epoch: 009, Train MAE: 0.1522, Train MSE: 0.0440\n",
      "Epoch: 009, Test MAE: 0.1772, Test MSE: 0.0595\n",
      "Time: 12.79092001914978\n",
      "---------------------------------------- 0.3\n",
      "graphs_train shape: 7383 graphs_train[0] shape: Data(x=[36, 37], edge_index=[2, 14], y=0.7580213903743316)\n",
      "graphs_test shape: 216 graphs_test[0] shape: Data(x=[36, 37], edge_index=[2, 14], y=0.6665)\n"
     ]
    },
    {
     "name": "stderr",
     "output_type": "stream",
     "text": [
      "/Users/haox/opt/anaconda3/lib/python3.8/site-packages/torch_geometric/deprecation.py:13: UserWarning: 'data.DataLoader' is deprecated, use 'loader.DataLoader' instead\n",
      "  warnings.warn(out)\n"
     ]
    },
    {
     "name": "stdout",
     "output_type": "stream",
     "text": [
      "Epoch: 009, Train MAE: 0.1576, Train MSE: 0.0461\n",
      "Epoch: 009, Test MAE: 0.1992, Test MSE: 0.0678\n",
      "Time: 14.158942937850952\n",
      "---------------------------------------- 0.35000000000000003\n",
      "graphs_train shape: 7391 graphs_train[0] shape: Data(x=[36, 37], edge_index=[2, 14], y=0.7580213903743316)\n",
      "graphs_test shape: 216 graphs_test[0] shape: Data(x=[36, 37], edge_index=[2, 14], y=0.6665)\n"
     ]
    },
    {
     "name": "stderr",
     "output_type": "stream",
     "text": [
      "/Users/haox/opt/anaconda3/lib/python3.8/site-packages/torch_geometric/deprecation.py:13: UserWarning: 'data.DataLoader' is deprecated, use 'loader.DataLoader' instead\n",
      "  warnings.warn(out)\n"
     ]
    },
    {
     "name": "stdout",
     "output_type": "stream",
     "text": [
      "Epoch: 009, Train MAE: 0.1582, Train MSE: 0.0466\n",
      "Epoch: 009, Test MAE: 0.1999, Test MSE: 0.0680\n",
      "Time: 14.11579179763794\n",
      "---------------------------------------- 0.4\n",
      "++++++++++++++++++++++++++++++\n",
      "connect-4_DDN+GIN_0.35 connect-4_DDN+GIN_0.4\n",
      "37 37\n",
      "---------------------------------------- 0.45\n",
      "graphs_train shape: 7595 graphs_train[0] shape: Data(x=[36, 37], edge_index=[2, 14], y=0.7580213903743316)\n",
      "graphs_test shape: 216 graphs_test[0] shape: Data(x=[36, 37], edge_index=[2, 14], y=0.6665)\n"
     ]
    },
    {
     "name": "stderr",
     "output_type": "stream",
     "text": [
      "/Users/haox/opt/anaconda3/lib/python3.8/site-packages/torch_geometric/deprecation.py:13: UserWarning: 'data.DataLoader' is deprecated, use 'loader.DataLoader' instead\n",
      "  warnings.warn(out)\n"
     ]
    },
    {
     "name": "stdout",
     "output_type": "stream",
     "text": [
      "Epoch: 009, Train MAE: 0.1701, Train MSE: 0.0555\n",
      "Epoch: 009, Test MAE: 0.1954, Test MSE: 0.0663\n",
      "Time: 14.336644172668457\n",
      "========================================\n",
      "12 covertype\n",
      "---------------------------------------- 0.05\n",
      "graphs_train shape: 1694 graphs_train[0] shape: Data(x=[36, 37], edge_index=[2, 14], y=0.23099999999999998)\n",
      "graphs_test shape: 216 graphs_test[0] shape: Data(x=[36, 37], edge_index=[2, 14], y=0.678)\n"
     ]
    },
    {
     "name": "stderr",
     "output_type": "stream",
     "text": [
      "/Users/haox/opt/anaconda3/lib/python3.8/site-packages/torch_geometric/deprecation.py:13: UserWarning: 'data.DataLoader' is deprecated, use 'loader.DataLoader' instead\n",
      "  warnings.warn(out)\n"
     ]
    },
    {
     "name": "stdout",
     "output_type": "stream",
     "text": [
      "Epoch: 009, Train MAE: 0.1273, Train MSE: 0.0490\n",
      "Epoch: 009, Test MAE: 0.1268, Test MSE: 0.0397\n",
      "Time: 3.278582811355591\n",
      "---------------------------------------- 0.1\n",
      "graphs_train shape: 1899 graphs_train[0] shape: Data(x=[36, 37], edge_index=[2, 14], y=0.23099999999999998)\n",
      "graphs_test shape: 216 graphs_test[0] shape: Data(x=[36, 37], edge_index=[2, 14], y=0.678)\n"
     ]
    },
    {
     "name": "stderr",
     "output_type": "stream",
     "text": [
      "/Users/haox/opt/anaconda3/lib/python3.8/site-packages/torch_geometric/deprecation.py:13: UserWarning: 'data.DataLoader' is deprecated, use 'loader.DataLoader' instead\n",
      "  warnings.warn(out)\n"
     ]
    },
    {
     "name": "stdout",
     "output_type": "stream",
     "text": [
      "Epoch: 009, Train MAE: 0.1388, Train MSE: 0.0479\n",
      "Epoch: 009, Test MAE: 0.1112, Test MSE: 0.0337\n",
      "Time: 3.754348039627075\n",
      "---------------------------------------- 0.15000000000000002\n",
      "graphs_train shape: 4525 graphs_train[0] shape: Data(x=[36, 37], edge_index=[2, 14], y=0.7580213903743316)\n",
      "graphs_test shape: 216 graphs_test[0] shape: Data(x=[36, 37], edge_index=[2, 14], y=0.678)\n"
     ]
    },
    {
     "name": "stderr",
     "output_type": "stream",
     "text": [
      "/Users/haox/opt/anaconda3/lib/python3.8/site-packages/torch_geometric/deprecation.py:13: UserWarning: 'data.DataLoader' is deprecated, use 'loader.DataLoader' instead\n",
      "  warnings.warn(out)\n"
     ]
    },
    {
     "name": "stdout",
     "output_type": "stream",
     "text": [
      "Epoch: 009, Train MAE: 0.1374, Train MSE: 0.0402\n",
      "Epoch: 009, Test MAE: 0.1420, Test MSE: 0.0450\n",
      "Time: 8.437119960784912\n",
      "---------------------------------------- 0.2\n",
      "graphs_train shape: 5532 graphs_train[0] shape: Data(x=[36, 37], edge_index=[2, 14], y=0.7580213903743316)\n",
      "graphs_test shape: 216 graphs_test[0] shape: Data(x=[36, 37], edge_index=[2, 14], y=0.678)\n"
     ]
    },
    {
     "name": "stderr",
     "output_type": "stream",
     "text": [
      "/Users/haox/opt/anaconda3/lib/python3.8/site-packages/torch_geometric/deprecation.py:13: UserWarning: 'data.DataLoader' is deprecated, use 'loader.DataLoader' instead\n",
      "  warnings.warn(out)\n"
     ]
    },
    {
     "name": "stdout",
     "output_type": "stream",
     "text": [
      "Epoch: 009, Train MAE: 0.1465, Train MSE: 0.0441\n",
      "Epoch: 009, Test MAE: 0.1867, Test MSE: 0.0597\n",
      "Time: 10.744656085968018\n",
      "---------------------------------------- 0.25\n",
      "graphs_train shape: 6672 graphs_train[0] shape: Data(x=[36, 37], edge_index=[2, 14], y=0.7580213903743316)\n",
      "graphs_test shape: 216 graphs_test[0] shape: Data(x=[36, 37], edge_index=[2, 14], y=0.678)\n"
     ]
    },
    {
     "name": "stderr",
     "output_type": "stream",
     "text": [
      "/Users/haox/opt/anaconda3/lib/python3.8/site-packages/torch_geometric/deprecation.py:13: UserWarning: 'data.DataLoader' is deprecated, use 'loader.DataLoader' instead\n",
      "  warnings.warn(out)\n"
     ]
    },
    {
     "name": "stdout",
     "output_type": "stream",
     "text": [
      "Epoch: 009, Train MAE: 0.1503, Train MSE: 0.0434\n",
      "Epoch: 009, Test MAE: 0.1964, Test MSE: 0.0634\n",
      "Time: 12.835323333740234\n",
      "---------------------------------------- 0.3\n",
      "graphs_train shape: 7383 graphs_train[0] shape: Data(x=[36, 37], edge_index=[2, 14], y=0.7580213903743316)\n",
      "graphs_test shape: 216 graphs_test[0] shape: Data(x=[36, 37], edge_index=[2, 14], y=0.678)\n"
     ]
    },
    {
     "name": "stderr",
     "output_type": "stream",
     "text": [
      "/Users/haox/opt/anaconda3/lib/python3.8/site-packages/torch_geometric/deprecation.py:13: UserWarning: 'data.DataLoader' is deprecated, use 'loader.DataLoader' instead\n",
      "  warnings.warn(out)\n"
     ]
    },
    {
     "name": "stdout",
     "output_type": "stream",
     "text": [
      "Epoch: 009, Train MAE: 0.1571, Train MSE: 0.0461\n",
      "Epoch: 009, Test MAE: 0.2195, Test MSE: 0.0730\n",
      "Time: 13.990830898284912\n",
      "---------------------------------------- 0.35000000000000003\n",
      "graphs_train shape: 7391 graphs_train[0] shape: Data(x=[36, 37], edge_index=[2, 14], y=0.7580213903743316)\n",
      "graphs_test shape: 216 graphs_test[0] shape: Data(x=[36, 37], edge_index=[2, 14], y=0.678)\n"
     ]
    },
    {
     "name": "stderr",
     "output_type": "stream",
     "text": [
      "/Users/haox/opt/anaconda3/lib/python3.8/site-packages/torch_geometric/deprecation.py:13: UserWarning: 'data.DataLoader' is deprecated, use 'loader.DataLoader' instead\n",
      "  warnings.warn(out)\n"
     ]
    },
    {
     "name": "stdout",
     "output_type": "stream",
     "text": [
      "Epoch: 009, Train MAE: 0.1576, Train MSE: 0.0463\n",
      "Epoch: 009, Test MAE: 0.2194, Test MSE: 0.0729\n",
      "Time: 14.09597396850586\n",
      "---------------------------------------- 0.4\n",
      "++++++++++++++++++++++++++++++\n",
      "covertype_DDN+GIN_0.35 covertype_DDN+GIN_0.4\n",
      "37 37\n",
      "---------------------------------------- 0.45\n",
      "graphs_train shape: 7595 graphs_train[0] shape: Data(x=[36, 37], edge_index=[2, 14], y=0.7580213903743316)\n",
      "graphs_test shape: 216 graphs_test[0] shape: Data(x=[36, 37], edge_index=[2, 14], y=0.678)\n"
     ]
    },
    {
     "name": "stderr",
     "output_type": "stream",
     "text": [
      "/Users/haox/opt/anaconda3/lib/python3.8/site-packages/torch_geometric/deprecation.py:13: UserWarning: 'data.DataLoader' is deprecated, use 'loader.DataLoader' instead\n",
      "  warnings.warn(out)\n"
     ]
    },
    {
     "name": "stdout",
     "output_type": "stream",
     "text": [
      "Epoch: 009, Train MAE: 0.1695, Train MSE: 0.0553\n",
      "Epoch: 009, Test MAE: 0.2151, Test MSE: 0.0711\n",
      "Time: 14.31054401397705\n",
      "========================================\n",
      "13 credit-g\n",
      "---------------------------------------- 0.05\n",
      "graphs_train shape: 1284 graphs_train[0] shape: Data(x=[36, 37], edge_index=[2, 14], y=0.23099999999999998)\n",
      "graphs_test shape: 410 graphs_test[0] shape: Data(x=[36, 37], edge_index=[2, 15], y=0.687)\n"
     ]
    },
    {
     "name": "stderr",
     "output_type": "stream",
     "text": [
      "/Users/haox/opt/anaconda3/lib/python3.8/site-packages/torch_geometric/deprecation.py:13: UserWarning: 'data.DataLoader' is deprecated, use 'loader.DataLoader' instead\n",
      "  warnings.warn(out)\n"
     ]
    },
    {
     "name": "stdout",
     "output_type": "stream",
     "text": [
      "Epoch: 009, Train MAE: 0.1612, Train MSE: 0.0553\n",
      "Epoch: 009, Test MAE: 0.0687, Test MSE: 0.0060\n",
      "Time: 2.72263503074646\n",
      "---------------------------------------- 0.1\n",
      "graphs_train shape: 2564 graphs_train[0] shape: Data(x=[36, 37], edge_index=[2, 14], y=0.7580213903743316)\n",
      "graphs_test shape: 410 graphs_test[0] shape: Data(x=[36, 37], edge_index=[2, 15], y=0.687)\n"
     ]
    },
    {
     "name": "stderr",
     "output_type": "stream",
     "text": [
      "/Users/haox/opt/anaconda3/lib/python3.8/site-packages/torch_geometric/deprecation.py:13: UserWarning: 'data.DataLoader' is deprecated, use 'loader.DataLoader' instead\n",
      "  warnings.warn(out)\n"
     ]
    },
    {
     "name": "stdout",
     "output_type": "stream",
     "text": [
      "Epoch: 009, Train MAE: 0.1339, Train MSE: 0.0512\n",
      "Epoch: 009, Test MAE: 0.0551, Test MSE: 0.0055\n",
      "Time: 5.14432692527771\n",
      "---------------------------------------- 0.15000000000000002\n",
      "graphs_train shape: 4331 graphs_train[0] shape: Data(x=[36, 37], edge_index=[2, 14], y=0.7580213903743316)\n",
      "graphs_test shape: 410 graphs_test[0] shape: Data(x=[36, 37], edge_index=[2, 15], y=0.687)\n"
     ]
    },
    {
     "name": "stderr",
     "output_type": "stream",
     "text": [
      "/Users/haox/opt/anaconda3/lib/python3.8/site-packages/torch_geometric/deprecation.py:13: UserWarning: 'data.DataLoader' is deprecated, use 'loader.DataLoader' instead\n",
      "  warnings.warn(out)\n"
     ]
    },
    {
     "name": "stdout",
     "output_type": "stream",
     "text": [
      "Epoch: 009, Train MAE: 0.1468, Train MSE: 0.0439\n",
      "Epoch: 009, Test MAE: 0.0408, Test MSE: 0.0037\n",
      "Time: 8.27916693687439\n",
      "---------------------------------------- 0.2\n",
      "graphs_train shape: 5770 graphs_train[0] shape: Data(x=[36, 37], edge_index=[2, 14], y=0.7580213903743316)\n",
      "graphs_test shape: 410 graphs_test[0] shape: Data(x=[36, 37], edge_index=[2, 15], y=0.687)\n"
     ]
    },
    {
     "name": "stderr",
     "output_type": "stream",
     "text": [
      "/Users/haox/opt/anaconda3/lib/python3.8/site-packages/torch_geometric/deprecation.py:13: UserWarning: 'data.DataLoader' is deprecated, use 'loader.DataLoader' instead\n",
      "  warnings.warn(out)\n"
     ]
    },
    {
     "name": "stdout",
     "output_type": "stream",
     "text": [
      "Epoch: 009, Train MAE: 0.1528, Train MSE: 0.0462\n",
      "Epoch: 009, Test MAE: 0.0768, Test MSE: 0.0087\n",
      "Time: 11.1406888961792\n",
      "---------------------------------------- 0.25\n",
      "graphs_train shape: 6923 graphs_train[0] shape: Data(x=[36, 37], edge_index=[2, 14], y=0.7580213903743316)\n",
      "graphs_test shape: 410 graphs_test[0] shape: Data(x=[36, 37], edge_index=[2, 15], y=0.687)\n"
     ]
    },
    {
     "name": "stderr",
     "output_type": "stream",
     "text": [
      "/Users/haox/opt/anaconda3/lib/python3.8/site-packages/torch_geometric/deprecation.py:13: UserWarning: 'data.DataLoader' is deprecated, use 'loader.DataLoader' instead\n",
      "  warnings.warn(out)\n"
     ]
    },
    {
     "name": "stdout",
     "output_type": "stream",
     "text": [
      "Epoch: 009, Train MAE: 0.1615, Train MSE: 0.0495\n",
      "Epoch: 009, Test MAE: 0.1101, Test MSE: 0.0149\n",
      "Time: 13.168873071670532\n",
      "---------------------------------------- 0.3\n",
      "graphs_train shape: 7189 graphs_train[0] shape: Data(x=[36, 37], edge_index=[2, 14], y=0.7580213903743316)\n",
      "graphs_test shape: 410 graphs_test[0] shape: Data(x=[36, 37], edge_index=[2, 15], y=0.687)\n"
     ]
    },
    {
     "name": "stderr",
     "output_type": "stream",
     "text": [
      "/Users/haox/opt/anaconda3/lib/python3.8/site-packages/torch_geometric/deprecation.py:13: UserWarning: 'data.DataLoader' is deprecated, use 'loader.DataLoader' instead\n",
      "  warnings.warn(out)\n"
     ]
    },
    {
     "name": "stdout",
     "output_type": "stream",
     "text": [
      "Epoch: 009, Train MAE: 0.1621, Train MSE: 0.0489\n",
      "Epoch: 009, Test MAE: 0.1093, Test MSE: 0.0147\n",
      "Time: 13.852747678756714\n",
      "---------------------------------------- 0.35000000000000003\n",
      "++++++++++++++++++++++++++++++\n",
      "credit-g_DDN+GIN_0.3 credit-g_DDN+GIN_0.35\n",
      "36 36\n",
      "---------------------------------------- 0.4\n",
      "graphs_train shape: 7197 graphs_train[0] shape: Data(x=[36, 37], edge_index=[2, 14], y=0.7580213903743316)\n",
      "graphs_test shape: 410 graphs_test[0] shape: Data(x=[36, 37], edge_index=[2, 15], y=0.687)\n"
     ]
    },
    {
     "name": "stderr",
     "output_type": "stream",
     "text": [
      "/Users/haox/opt/anaconda3/lib/python3.8/site-packages/torch_geometric/deprecation.py:13: UserWarning: 'data.DataLoader' is deprecated, use 'loader.DataLoader' instead\n",
      "  warnings.warn(out)\n"
     ]
    },
    {
     "name": "stdout",
     "output_type": "stream",
     "text": [
      "Epoch: 009, Train MAE: 0.1625, Train MSE: 0.0492\n",
      "Epoch: 009, Test MAE: 0.1091, Test MSE: 0.0147\n",
      "Time: 14.426599025726318\n",
      "---------------------------------------- 0.45\n",
      "++++++++++++++++++++++++++++++\n",
      "credit-g_DDN+GIN_0.4 credit-g_DDN+GIN_0.45\n",
      "37 37\n",
      "========================================\n",
      "14 dilbert\n",
      "---------------------------------------- 0.05\n",
      "graphs_train shape: 1547 graphs_train[0] shape: Data(x=[36, 37], edge_index=[2, 14], y=0.17222222222222222)\n",
      "graphs_test shape: 216 graphs_test[0] shape: Data(x=[36, 37], edge_index=[2, 13], y=0.836)\n"
     ]
    },
    {
     "name": "stderr",
     "output_type": "stream",
     "text": [
      "/Users/haox/opt/anaconda3/lib/python3.8/site-packages/torch_geometric/deprecation.py:13: UserWarning: 'data.DataLoader' is deprecated, use 'loader.DataLoader' instead\n",
      "  warnings.warn(out)\n"
     ]
    },
    {
     "name": "stdout",
     "output_type": "stream",
     "text": [
      "Epoch: 009, Train MAE: 0.0894, Train MSE: 0.0145\n",
      "Epoch: 009, Test MAE: 0.1181, Test MSE: 0.0327\n",
      "Time: 3.4381282329559326\n",
      "---------------------------------------- 0.1\n",
      "graphs_train shape: 4002 graphs_train[0] shape: Data(x=[36, 37], edge_index=[2, 14], y=0.7580213903743316)\n",
      "graphs_test shape: 216 graphs_test[0] shape: Data(x=[36, 37], edge_index=[2, 13], y=0.836)\n"
     ]
    },
    {
     "name": "stderr",
     "output_type": "stream",
     "text": [
      "/Users/haox/opt/anaconda3/lib/python3.8/site-packages/torch_geometric/deprecation.py:13: UserWarning: 'data.DataLoader' is deprecated, use 'loader.DataLoader' instead\n",
      "  warnings.warn(out)\n"
     ]
    },
    {
     "name": "stdout",
     "output_type": "stream",
     "text": [
      "Epoch: 009, Train MAE: 0.0990, Train MSE: 0.0221\n",
      "Epoch: 009, Test MAE: 0.1212, Test MSE: 0.0343\n",
      "Time: 9.111254930496216\n",
      "---------------------------------------- 0.15000000000000002\n",
      "graphs_train shape: 4218 graphs_train[0] shape: Data(x=[36, 37], edge_index=[2, 14], y=0.7580213903743316)\n",
      "graphs_test shape: 216 graphs_test[0] shape: Data(x=[36, 37], edge_index=[2, 13], y=0.836)\n"
     ]
    },
    {
     "name": "stderr",
     "output_type": "stream",
     "text": [
      "/Users/haox/opt/anaconda3/lib/python3.8/site-packages/torch_geometric/deprecation.py:13: UserWarning: 'data.DataLoader' is deprecated, use 'loader.DataLoader' instead\n",
      "  warnings.warn(out)\n"
     ]
    },
    {
     "name": "stdout",
     "output_type": "stream",
     "text": [
      "Epoch: 009, Train MAE: 0.0999, Train MSE: 0.0210\n",
      "Epoch: 009, Test MAE: 0.1166, Test MSE: 0.0319\n",
      "Time: 9.753612041473389\n",
      "---------------------------------------- 0.2\n",
      "graphs_train shape: 5060 graphs_train[0] shape: Data(x=[36, 37], edge_index=[2, 14], y=0.7580213903743316)\n",
      "graphs_test shape: 216 graphs_test[0] shape: Data(x=[36, 37], edge_index=[2, 13], y=0.836)\n"
     ]
    },
    {
     "name": "stderr",
     "output_type": "stream",
     "text": [
      "/Users/haox/opt/anaconda3/lib/python3.8/site-packages/torch_geometric/deprecation.py:13: UserWarning: 'data.DataLoader' is deprecated, use 'loader.DataLoader' instead\n",
      "  warnings.warn(out)\n"
     ]
    },
    {
     "name": "stdout",
     "output_type": "stream",
     "text": [
      "Epoch: 009, Train MAE: 0.1038, Train MSE: 0.0214\n",
      "Epoch: 009, Test MAE: 0.1208, Test MSE: 0.0341\n",
      "Time: 11.075424194335938\n",
      "---------------------------------------- 0.25\n",
      "graphs_train shape: 6128 graphs_train[0] shape: Data(x=[36, 37], edge_index=[2, 14], y=0.7580213903743316)\n",
      "graphs_test shape: 216 graphs_test[0] shape: Data(x=[36, 37], edge_index=[2, 13], y=0.836)\n"
     ]
    },
    {
     "name": "stderr",
     "output_type": "stream",
     "text": [
      "/Users/haox/opt/anaconda3/lib/python3.8/site-packages/torch_geometric/deprecation.py:13: UserWarning: 'data.DataLoader' is deprecated, use 'loader.DataLoader' instead\n",
      "  warnings.warn(out)\n"
     ]
    },
    {
     "name": "stdout",
     "output_type": "stream",
     "text": [
      "Epoch: 009, Train MAE: 0.1359, Train MSE: 0.0403\n",
      "Epoch: 009, Test MAE: 0.1147, Test MSE: 0.0308\n",
      "Time: 12.255011796951294\n",
      "---------------------------------------- 0.3\n",
      "graphs_train shape: 6145 graphs_train[0] shape: Data(x=[36, 37], edge_index=[2, 14], y=0.7580213903743316)\n",
      "graphs_test shape: 216 graphs_test[0] shape: Data(x=[36, 37], edge_index=[2, 13], y=0.836)\n"
     ]
    },
    {
     "name": "stderr",
     "output_type": "stream",
     "text": [
      "/Users/haox/opt/anaconda3/lib/python3.8/site-packages/torch_geometric/deprecation.py:13: UserWarning: 'data.DataLoader' is deprecated, use 'loader.DataLoader' instead\n",
      "  warnings.warn(out)\n"
     ]
    },
    {
     "name": "stdout",
     "output_type": "stream",
     "text": [
      "Epoch: 009, Train MAE: 0.1357, Train MSE: 0.0398\n",
      "Epoch: 009, Test MAE: 0.1139, Test MSE: 0.0303\n",
      "Time: 11.60773515701294\n",
      "---------------------------------------- 0.35000000000000003\n",
      "graphs_train shape: 6981 graphs_train[0] shape: Data(x=[36, 37], edge_index=[2, 14], y=0.7580213903743316)\n",
      "graphs_test shape: 216 graphs_test[0] shape: Data(x=[36, 37], edge_index=[2, 13], y=0.836)\n"
     ]
    },
    {
     "name": "stderr",
     "output_type": "stream",
     "text": [
      "/Users/haox/opt/anaconda3/lib/python3.8/site-packages/torch_geometric/deprecation.py:13: UserWarning: 'data.DataLoader' is deprecated, use 'loader.DataLoader' instead\n",
      "  warnings.warn(out)\n"
     ]
    },
    {
     "name": "stdout",
     "output_type": "stream",
     "text": [
      "Epoch: 009, Train MAE: 0.1561, Train MSE: 0.0475\n",
      "Epoch: 009, Test MAE: 0.1135, Test MSE: 0.0300\n",
      "Time: 12.654536962509155\n",
      "---------------------------------------- 0.4\n",
      "graphs_train shape: 7167 graphs_train[0] shape: Data(x=[36, 37], edge_index=[2, 14], y=0.7580213903743316)\n",
      "graphs_test shape: 216 graphs_test[0] shape: Data(x=[36, 37], edge_index=[2, 13], y=0.836)\n"
     ]
    },
    {
     "name": "stderr",
     "output_type": "stream",
     "text": [
      "/Users/haox/opt/anaconda3/lib/python3.8/site-packages/torch_geometric/deprecation.py:13: UserWarning: 'data.DataLoader' is deprecated, use 'loader.DataLoader' instead\n",
      "  warnings.warn(out)\n"
     ]
    },
    {
     "name": "stdout",
     "output_type": "stream",
     "text": [
      "Epoch: 009, Train MAE: 0.1571, Train MSE: 0.0468\n",
      "Epoch: 009, Test MAE: 0.1122, Test MSE: 0.0290\n",
      "Time: 13.207530975341797\n",
      "---------------------------------------- 0.45\n",
      "graphs_train shape: 7383 graphs_train[0] shape: Data(x=[36, 37], edge_index=[2, 14], y=0.7580213903743316)\n",
      "graphs_test shape: 216 graphs_test[0] shape: Data(x=[36, 37], edge_index=[2, 13], y=0.836)\n"
     ]
    },
    {
     "name": "stderr",
     "output_type": "stream",
     "text": [
      "/Users/haox/opt/anaconda3/lib/python3.8/site-packages/torch_geometric/deprecation.py:13: UserWarning: 'data.DataLoader' is deprecated, use 'loader.DataLoader' instead\n",
      "  warnings.warn(out)\n"
     ]
    },
    {
     "name": "stdout",
     "output_type": "stream",
     "text": [
      "Epoch: 009, Train MAE: 0.1611, Train MSE: 0.0479\n",
      "Epoch: 009, Test MAE: 0.1123, Test MSE: 0.0291\n",
      "Time: 13.966969728469849\n",
      "========================================\n",
      "15 dionis\n",
      "---------------------------------------- 0.05\n",
      "graphs_train shape: 1490 graphs_train[0] shape: Data(x=[36, 37], edge_index=[2, 14], y=0.5508274231678487)\n",
      "graphs_test shape: 204 graphs_test[0] shape: Data(x=[36, 37], edge_index=[2, 14], y=0.23099999999999998)\n"
     ]
    },
    {
     "name": "stderr",
     "output_type": "stream",
     "text": [
      "/Users/haox/opt/anaconda3/lib/python3.8/site-packages/torch_geometric/deprecation.py:13: UserWarning: 'data.DataLoader' is deprecated, use 'loader.DataLoader' instead\n",
      "  warnings.warn(out)\n"
     ]
    },
    {
     "name": "stdout",
     "output_type": "stream",
     "text": [
      "Epoch: 009, Train MAE: 0.0921, Train MSE: 0.0153\n",
      "Epoch: 009, Test MAE: 0.4622, Test MSE: 0.2287\n",
      "Time: 3.027545213699341\n",
      "---------------------------------------- 0.1\n",
      "graphs_train shape: 2559 graphs_train[0] shape: Data(x=[36, 37], edge_index=[2, 11], y=0.4525)\n",
      "graphs_test shape: 204 graphs_test[0] shape: Data(x=[36, 37], edge_index=[2, 14], y=0.23099999999999998)\n"
     ]
    },
    {
     "name": "stderr",
     "output_type": "stream",
     "text": [
      "/Users/haox/opt/anaconda3/lib/python3.8/site-packages/torch_geometric/deprecation.py:13: UserWarning: 'data.DataLoader' is deprecated, use 'loader.DataLoader' instead\n",
      "  warnings.warn(out)\n"
     ]
    },
    {
     "name": "stdout",
     "output_type": "stream",
     "text": [
      "Epoch: 009, Train MAE: 0.1316, Train MSE: 0.0239\n",
      "Epoch: 009, Test MAE: 0.3719, Test MSE: 0.1534\n",
      "Time: 4.985619068145752\n",
      "---------------------------------------- 0.15000000000000002\n",
      "graphs_train shape: 3809 graphs_train[0] shape: Data(x=[36, 37], edge_index=[2, 14], y=0.7580213903743316)\n",
      "graphs_test shape: 204 graphs_test[0] shape: Data(x=[36, 37], edge_index=[2, 14], y=0.23099999999999998)\n"
     ]
    },
    {
     "name": "stderr",
     "output_type": "stream",
     "text": [
      "/Users/haox/opt/anaconda3/lib/python3.8/site-packages/torch_geometric/deprecation.py:13: UserWarning: 'data.DataLoader' is deprecated, use 'loader.DataLoader' instead\n",
      "  warnings.warn(out)\n"
     ]
    },
    {
     "name": "stdout",
     "output_type": "stream",
     "text": [
      "Epoch: 009, Train MAE: 0.1091, Train MSE: 0.0218\n",
      "Epoch: 009, Test MAE: 0.5117, Test MSE: 0.2770\n",
      "Time: 7.175124168395996\n",
      "---------------------------------------- 0.2\n",
      "graphs_train shape: 5348 graphs_train[0] shape: Data(x=[36, 37], edge_index=[2, 14], y=0.7580213903743316)\n",
      "graphs_test shape: 204 graphs_test[0] shape: Data(x=[36, 37], edge_index=[2, 14], y=0.23099999999999998)\n"
     ]
    },
    {
     "name": "stderr",
     "output_type": "stream",
     "text": [
      "/Users/haox/opt/anaconda3/lib/python3.8/site-packages/torch_geometric/deprecation.py:13: UserWarning: 'data.DataLoader' is deprecated, use 'loader.DataLoader' instead\n",
      "  warnings.warn(out)\n"
     ]
    },
    {
     "name": "stdout",
     "output_type": "stream",
     "text": [
      "Epoch: 009, Train MAE: 0.1298, Train MSE: 0.0304\n",
      "Epoch: 009, Test MAE: 0.5873, Test MSE: 0.3600\n",
      "Time: 10.238564014434814\n",
      "---------------------------------------- 0.25\n",
      "graphs_train shape: 6408 graphs_train[0] shape: Data(x=[36, 37], edge_index=[2, 14], y=0.7580213903743316)\n",
      "graphs_test shape: 204 graphs_test[0] shape: Data(x=[36, 37], edge_index=[2, 14], y=0.23099999999999998)\n"
     ]
    },
    {
     "name": "stderr",
     "output_type": "stream",
     "text": [
      "/Users/haox/opt/anaconda3/lib/python3.8/site-packages/torch_geometric/deprecation.py:13: UserWarning: 'data.DataLoader' is deprecated, use 'loader.DataLoader' instead\n",
      "  warnings.warn(out)\n"
     ]
    },
    {
     "name": "stdout",
     "output_type": "stream",
     "text": [
      "Epoch: 009, Train MAE: 0.1421, Train MSE: 0.0358\n",
      "Epoch: 009, Test MAE: 0.6310, Test MSE: 0.4133\n",
      "Time: 12.180286884307861\n",
      "---------------------------------------- 0.3\n",
      "graphs_train shape: 7129 graphs_train[0] shape: Data(x=[36, 37], edge_index=[2, 14], y=0.7580213903743316)\n",
      "graphs_test shape: 204 graphs_test[0] shape: Data(x=[36, 37], edge_index=[2, 14], y=0.23099999999999998)\n"
     ]
    },
    {
     "name": "stderr",
     "output_type": "stream",
     "text": [
      "/Users/haox/opt/anaconda3/lib/python3.8/site-packages/torch_geometric/deprecation.py:13: UserWarning: 'data.DataLoader' is deprecated, use 'loader.DataLoader' instead\n",
      "  warnings.warn(out)\n"
     ]
    },
    {
     "name": "stdout",
     "output_type": "stream",
     "text": [
      "Epoch: 009, Train MAE: 0.1497, Train MSE: 0.0399\n",
      "Epoch: 009, Test MAE: 0.6629, Test MSE: 0.4545\n",
      "Time: 13.337560176849365\n",
      "---------------------------------------- 0.35000000000000003\n",
      "graphs_train shape: 7403 graphs_train[0] shape: Data(x=[36, 37], edge_index=[2, 14], y=0.7580213903743316)\n",
      "graphs_test shape: 204 graphs_test[0] shape: Data(x=[36, 37], edge_index=[2, 14], y=0.23099999999999998)\n"
     ]
    },
    {
     "name": "stderr",
     "output_type": "stream",
     "text": [
      "/Users/haox/opt/anaconda3/lib/python3.8/site-packages/torch_geometric/deprecation.py:13: UserWarning: 'data.DataLoader' is deprecated, use 'loader.DataLoader' instead\n",
      "  warnings.warn(out)\n"
     ]
    },
    {
     "name": "stdout",
     "output_type": "stream",
     "text": [
      "Epoch: 009, Train MAE: 0.1519, Train MSE: 0.0407\n",
      "Epoch: 009, Test MAE: 0.6657, Test MSE: 0.4582\n",
      "Time: 13.758147239685059\n",
      "---------------------------------------- 0.4\n",
      "++++++++++++++++++++++++++++++\n",
      "dionis_DDN+GIN_0.35 dionis_DDN+GIN_0.4\n",
      "37 37\n",
      "---------------------------------------- 0.45\n",
      "graphs_train shape: 7607 graphs_train[0] shape: Data(x=[36, 37], edge_index=[2, 14], y=0.7580213903743316)\n",
      "graphs_test shape: 204 graphs_test[0] shape: Data(x=[36, 37], edge_index=[2, 14], y=0.23099999999999998)\n"
     ]
    },
    {
     "name": "stderr",
     "output_type": "stream",
     "text": [
      "/Users/haox/opt/anaconda3/lib/python3.8/site-packages/torch_geometric/deprecation.py:13: UserWarning: 'data.DataLoader' is deprecated, use 'loader.DataLoader' instead\n",
      "  warnings.warn(out)\n"
     ]
    },
    {
     "name": "stdout",
     "output_type": "stream",
     "text": [
      "Epoch: 009, Train MAE: 0.1598, Train MSE: 0.0471\n",
      "Epoch: 009, Test MAE: 0.6447, Test MSE: 0.4308\n",
      "Time: 14.1439950466156\n",
      "========================================\n",
      "16 fabert\n",
      "---------------------------------------- 0.05\n",
      "graphs_train shape: 665 graphs_train[0] shape: Data(x=[36, 37], edge_index=[2, 12], y=0.4497787212787213)\n",
      "graphs_test shape: 188 graphs_test[0] shape: Data(x=[36, 37], edge_index=[2, 11], y=0.4525)\n"
     ]
    },
    {
     "name": "stderr",
     "output_type": "stream",
     "text": [
      "/Users/haox/opt/anaconda3/lib/python3.8/site-packages/torch_geometric/deprecation.py:13: UserWarning: 'data.DataLoader' is deprecated, use 'loader.DataLoader' instead\n",
      "  warnings.warn(out)\n"
     ]
    },
    {
     "name": "stdout",
     "output_type": "stream",
     "text": [
      "Epoch: 009, Train MAE: 0.0631, Train MSE: 0.0088\n",
      "Epoch: 009, Test MAE: 0.1639, Test MSE: 0.0352\n",
      "Time: 1.436532974243164\n",
      "---------------------------------------- 0.1\n",
      "graphs_train shape: 1919 graphs_train[0] shape: Data(x=[36, 37], edge_index=[2, 14], y=0.23099999999999998)\n",
      "graphs_test shape: 188 graphs_test[0] shape: Data(x=[36, 37], edge_index=[2, 11], y=0.4525)\n"
     ]
    },
    {
     "name": "stderr",
     "output_type": "stream",
     "text": [
      "/Users/haox/opt/anaconda3/lib/python3.8/site-packages/torch_geometric/deprecation.py:13: UserWarning: 'data.DataLoader' is deprecated, use 'loader.DataLoader' instead\n",
      "  warnings.warn(out)\n"
     ]
    },
    {
     "name": "stdout",
     "output_type": "stream",
     "text": [
      "Epoch: 009, Train MAE: 0.1294, Train MSE: 0.0378\n",
      "Epoch: 009, Test MAE: 0.2110, Test MSE: 0.0529\n",
      "Time: 3.7336020469665527\n",
      "---------------------------------------- 0.15000000000000002\n",
      "graphs_train shape: 2977 graphs_train[0] shape: Data(x=[36, 37], edge_index=[2, 14], y=0.23099999999999998)\n",
      "graphs_test shape: 188 graphs_test[0] shape: Data(x=[36, 37], edge_index=[2, 11], y=0.4525)\n"
     ]
    },
    {
     "name": "stderr",
     "output_type": "stream",
     "text": [
      "/Users/haox/opt/anaconda3/lib/python3.8/site-packages/torch_geometric/deprecation.py:13: UserWarning: 'data.DataLoader' is deprecated, use 'loader.DataLoader' instead\n",
      "  warnings.warn(out)\n"
     ]
    },
    {
     "name": "stdout",
     "output_type": "stream",
     "text": [
      "Epoch: 009, Train MAE: 0.1392, Train MSE: 0.0308\n",
      "Epoch: 009, Test MAE: 0.1185, Test MSE: 0.0224\n",
      "Time: 5.767806053161621\n",
      "---------------------------------------- 0.2\n",
      "++++++++++++++++++++++++++++++\n",
      "fabert_DDN+GIN_0.15 fabert_DDN+GIN_0.2\n",
      "15 15\n",
      "---------------------------------------- 0.25\n",
      "graphs_train shape: 4963 graphs_train[0] shape: Data(x=[36, 37], edge_index=[2, 14], y=0.7580213903743316)\n",
      "graphs_test shape: 188 graphs_test[0] shape: Data(x=[36, 37], edge_index=[2, 11], y=0.4525)\n"
     ]
    },
    {
     "name": "stderr",
     "output_type": "stream",
     "text": [
      "/Users/haox/opt/anaconda3/lib/python3.8/site-packages/torch_geometric/deprecation.py:13: UserWarning: 'data.DataLoader' is deprecated, use 'loader.DataLoader' instead\n",
      "  warnings.warn(out)\n"
     ]
    },
    {
     "name": "stdout",
     "output_type": "stream",
     "text": [
      "Epoch: 009, Train MAE: 0.1325, Train MSE: 0.0346\n",
      "Epoch: 009, Test MAE: 0.2961, Test MSE: 0.0960\n",
      "Time: 9.397066116333008\n",
      "---------------------------------------- 0.3\n",
      "graphs_train shape: 5784 graphs_train[0] shape: Data(x=[36, 37], edge_index=[2, 14], y=0.7580213903743316)\n",
      "graphs_test shape: 188 graphs_test[0] shape: Data(x=[36, 37], edge_index=[2, 11], y=0.4525)\n"
     ]
    },
    {
     "name": "stderr",
     "output_type": "stream",
     "text": [
      "/Users/haox/opt/anaconda3/lib/python3.8/site-packages/torch_geometric/deprecation.py:13: UserWarning: 'data.DataLoader' is deprecated, use 'loader.DataLoader' instead\n",
      "  warnings.warn(out)\n"
     ]
    },
    {
     "name": "stdout",
     "output_type": "stream",
     "text": [
      "Epoch: 009, Train MAE: 0.1445, Train MSE: 0.0421\n",
      "Epoch: 009, Test MAE: 0.3644, Test MSE: 0.1411\n",
      "Time: 10.837479829788208\n",
      "---------------------------------------- 0.35000000000000003\n",
      "graphs_train shape: 6912 graphs_train[0] shape: Data(x=[36, 37], edge_index=[2, 14], y=0.7580213903743316)\n",
      "graphs_test shape: 188 graphs_test[0] shape: Data(x=[36, 37], edge_index=[2, 11], y=0.4525)\n"
     ]
    },
    {
     "name": "stderr",
     "output_type": "stream",
     "text": [
      "/Users/haox/opt/anaconda3/lib/python3.8/site-packages/torch_geometric/deprecation.py:13: UserWarning: 'data.DataLoader' is deprecated, use 'loader.DataLoader' instead\n",
      "  warnings.warn(out)\n"
     ]
    },
    {
     "name": "stdout",
     "output_type": "stream",
     "text": [
      "Epoch: 009, Train MAE: 0.1601, Train MSE: 0.0516\n",
      "Epoch: 009, Test MAE: 0.3776, Test MSE: 0.1509\n",
      "Time: 17.07811164855957\n",
      "---------------------------------------- 0.4\n",
      "graphs_train shape: 7623 graphs_train[0] shape: Data(x=[36, 37], edge_index=[2, 14], y=0.7580213903743316)\n",
      "graphs_test shape: 188 graphs_test[0] shape: Data(x=[36, 37], edge_index=[2, 11], y=0.4525)\n"
     ]
    },
    {
     "name": "stderr",
     "output_type": "stream",
     "text": [
      "/Users/haox/opt/anaconda3/lib/python3.8/site-packages/torch_geometric/deprecation.py:13: UserWarning: 'data.DataLoader' is deprecated, use 'loader.DataLoader' instead\n",
      "  warnings.warn(out)\n"
     ]
    },
    {
     "name": "stdout",
     "output_type": "stream",
     "text": [
      "Epoch: 009, Train MAE: 0.1652, Train MSE: 0.0530\n",
      "Epoch: 009, Test MAE: 0.3954, Test MSE: 0.1647\n",
      "Time: 17.920723915100098\n",
      "---------------------------------------- 0.45\n",
      "++++++++++++++++++++++++++++++\n",
      "fabert_DDN+GIN_0.4 fabert_DDN+GIN_0.45\n",
      "38 38\n",
      "========================================\n",
      "17 fashion_mnist\n",
      "---------------------------------------- 0.05\n",
      "graphs_train shape: 1762 graphs_train[0] shape: Data(x=[36, 37], edge_index=[2, 14], y=0.7580213903743316)\n",
      "graphs_test shape: 216 graphs_test[0] shape: Data(x=[36, 37], edge_index=[2, 14], y=0.35050000000000003)\n"
     ]
    },
    {
     "name": "stderr",
     "output_type": "stream",
     "text": [
      "/Users/haox/opt/anaconda3/lib/python3.8/site-packages/torch_geometric/deprecation.py:13: UserWarning: 'data.DataLoader' is deprecated, use 'loader.DataLoader' instead\n",
      "  warnings.warn(out)\n"
     ]
    },
    {
     "name": "stdout",
     "output_type": "stream",
     "text": [
      "Epoch: 009, Train MAE: 0.0751, Train MSE: 0.0142\n",
      "Epoch: 009, Test MAE: 0.1728, Test MSE: 0.0662\n",
      "Time: 3.8820369243621826\n",
      "---------------------------------------- 0.1\n",
      "graphs_train shape: 3857 graphs_train[0] shape: Data(x=[36, 37], edge_index=[2, 14], y=0.7580213903743316)\n",
      "graphs_test shape: 216 graphs_test[0] shape: Data(x=[36, 37], edge_index=[2, 14], y=0.35050000000000003)\n"
     ]
    },
    {
     "name": "stderr",
     "output_type": "stream",
     "text": [
      "/Users/haox/opt/anaconda3/lib/python3.8/site-packages/torch_geometric/deprecation.py:13: UserWarning: 'data.DataLoader' is deprecated, use 'loader.DataLoader' instead\n",
      "  warnings.warn(out)\n"
     ]
    },
    {
     "name": "stdout",
     "output_type": "stream",
     "text": [
      "Epoch: 009, Train MAE: 0.0944, Train MSE: 0.0163\n",
      "Epoch: 009, Test MAE: 0.1634, Test MSE: 0.0599\n",
      "Time: 8.680367946624756\n",
      "---------------------------------------- 0.15000000000000002\n",
      "graphs_train shape: 5442 graphs_train[0] shape: Data(x=[36, 37], edge_index=[2, 14], y=0.7580213903743316)\n",
      "graphs_test shape: 216 graphs_test[0] shape: Data(x=[36, 37], edge_index=[2, 14], y=0.35050000000000003)\n"
     ]
    },
    {
     "name": "stderr",
     "output_type": "stream",
     "text": [
      "/Users/haox/opt/anaconda3/lib/python3.8/site-packages/torch_geometric/deprecation.py:13: UserWarning: 'data.DataLoader' is deprecated, use 'loader.DataLoader' instead\n",
      "  warnings.warn(out)\n"
     ]
    },
    {
     "name": "stdout",
     "output_type": "stream",
     "text": [
      "Epoch: 009, Train MAE: 0.1283, Train MSE: 0.0375\n",
      "Epoch: 009, Test MAE: 0.1857, Test MSE: 0.0732\n",
      "Time: 13.942032814025879\n",
      "---------------------------------------- 0.2\n",
      "graphs_train shape: 6128 graphs_train[0] shape: Data(x=[36, 37], edge_index=[2, 14], y=0.7580213903743316)\n",
      "graphs_test shape: 216 graphs_test[0] shape: Data(x=[36, 37], edge_index=[2, 14], y=0.35050000000000003)\n"
     ]
    },
    {
     "name": "stderr",
     "output_type": "stream",
     "text": [
      "/Users/haox/opt/anaconda3/lib/python3.8/site-packages/torch_geometric/deprecation.py:13: UserWarning: 'data.DataLoader' is deprecated, use 'loader.DataLoader' instead\n",
      "  warnings.warn(out)\n"
     ]
    },
    {
     "name": "stdout",
     "output_type": "stream",
     "text": [
      "Epoch: 009, Train MAE: 0.1334, Train MSE: 0.0391\n",
      "Epoch: 009, Test MAE: 0.2042, Test MSE: 0.0825\n",
      "Time: 13.084893941879272\n",
      "---------------------------------------- 0.25\n",
      "graphs_train shape: 6981 graphs_train[0] shape: Data(x=[36, 37], edge_index=[2, 14], y=0.7580213903743316)\n",
      "graphs_test shape: 216 graphs_test[0] shape: Data(x=[36, 37], edge_index=[2, 14], y=0.35050000000000003)\n"
     ]
    },
    {
     "name": "stderr",
     "output_type": "stream",
     "text": [
      "/Users/haox/opt/anaconda3/lib/python3.8/site-packages/torch_geometric/deprecation.py:13: UserWarning: 'data.DataLoader' is deprecated, use 'loader.DataLoader' instead\n",
      "  warnings.warn(out)\n"
     ]
    },
    {
     "name": "stdout",
     "output_type": "stream",
     "text": [
      "Epoch: 009, Train MAE: 0.1549, Train MSE: 0.0471\n",
      "Epoch: 009, Test MAE: 0.2009, Test MSE: 0.0810\n",
      "Time: 14.084465026855469\n",
      "---------------------------------------- 0.3\n",
      "graphs_train shape: 7167 graphs_train[0] shape: Data(x=[36, 37], edge_index=[2, 14], y=0.7580213903743316)\n",
      "graphs_test shape: 216 graphs_test[0] shape: Data(x=[36, 37], edge_index=[2, 14], y=0.35050000000000003)\n"
     ]
    },
    {
     "name": "stderr",
     "output_type": "stream",
     "text": [
      "/Users/haox/opt/anaconda3/lib/python3.8/site-packages/torch_geometric/deprecation.py:13: UserWarning: 'data.DataLoader' is deprecated, use 'loader.DataLoader' instead\n",
      "  warnings.warn(out)\n"
     ]
    },
    {
     "name": "stdout",
     "output_type": "stream",
     "text": [
      "Epoch: 009, Train MAE: 0.1544, Train MSE: 0.0451\n",
      "Epoch: 009, Test MAE: 0.1899, Test MSE: 0.0756\n",
      "Time: 14.126941204071045\n",
      "---------------------------------------- 0.35000000000000003\n",
      "graphs_train shape: 7383 graphs_train[0] shape: Data(x=[36, 37], edge_index=[2, 14], y=0.7580213903743316)\n",
      "graphs_test shape: 216 graphs_test[0] shape: Data(x=[36, 37], edge_index=[2, 14], y=0.35050000000000003)\n"
     ]
    },
    {
     "name": "stderr",
     "output_type": "stream",
     "text": [
      "/Users/haox/opt/anaconda3/lib/python3.8/site-packages/torch_geometric/deprecation.py:13: UserWarning: 'data.DataLoader' is deprecated, use 'loader.DataLoader' instead\n",
      "  warnings.warn(out)\n"
     ]
    },
    {
     "name": "stdout",
     "output_type": "stream",
     "text": [
      "Epoch: 009, Train MAE: 0.1579, Train MSE: 0.0459\n",
      "Epoch: 009, Test MAE: 0.1885, Test MSE: 0.0747\n",
      "Time: 15.328072309494019\n",
      "---------------------------------------- 0.4\n",
      "++++++++++++++++++++++++++++++\n",
      "fashion_mnist_DDN+GIN_0.35 fashion_mnist_DDN+GIN_0.4\n",
      "36 36\n",
      "---------------------------------------- 0.45\n",
      "++++++++++++++++++++++++++++++\n",
      "fashion_mnist_DDN+GIN_0.4 fashion_mnist_DDN+GIN_0.45\n",
      "36 36\n",
      "========================================\n",
      "18 guillermo\n",
      "---------------------------------------- 0.05\n",
      "graphs_train shape: 836 graphs_train[0] shape: Data(x=[36, 37], edge_index=[2, 11], y=0.4525)\n",
      "graphs_test shape: 17 graphs_test[0] shape: Data(x=[36, 37], edge_index=[2, 11], y=0.696)\n"
     ]
    },
    {
     "name": "stderr",
     "output_type": "stream",
     "text": [
      "/Users/haox/opt/anaconda3/lib/python3.8/site-packages/torch_geometric/deprecation.py:13: UserWarning: 'data.DataLoader' is deprecated, use 'loader.DataLoader' instead\n",
      "  warnings.warn(out)\n"
     ]
    },
    {
     "name": "stdout",
     "output_type": "stream",
     "text": [
      "Epoch: 009, Train MAE: 0.0803, Train MSE: 0.0117\n",
      "Epoch: 009, Test MAE: 0.0828, Test MSE: 0.0096\n",
      "Time: 1.8226637840270996\n",
      "---------------------------------------- 0.1\n",
      "graphs_train shape: 2090 graphs_train[0] shape: Data(x=[36, 37], edge_index=[2, 14], y=0.23099999999999998)\n",
      "graphs_test shape: 17 graphs_test[0] shape: Data(x=[36, 37], edge_index=[2, 11], y=0.696)\n"
     ]
    },
    {
     "name": "stderr",
     "output_type": "stream",
     "text": [
      "/Users/haox/opt/anaconda3/lib/python3.8/site-packages/torch_geometric/deprecation.py:13: UserWarning: 'data.DataLoader' is deprecated, use 'loader.DataLoader' instead\n",
      "  warnings.warn(out)\n"
     ]
    },
    {
     "name": "stdout",
     "output_type": "stream",
     "text": [
      "Epoch: 009, Train MAE: 0.1312, Train MSE: 0.0360\n",
      "Epoch: 009, Test MAE: 0.0451, Test MSE: 0.0032\n",
      "Time: 4.803408861160278\n",
      "---------------------------------------- 0.15000000000000002\n",
      "graphs_train shape: 3148 graphs_train[0] shape: Data(x=[36, 37], edge_index=[2, 14], y=0.23099999999999998)\n",
      "graphs_test shape: 17 graphs_test[0] shape: Data(x=[36, 37], edge_index=[2, 11], y=0.696)\n"
     ]
    },
    {
     "name": "stderr",
     "output_type": "stream",
     "text": [
      "/Users/haox/opt/anaconda3/lib/python3.8/site-packages/torch_geometric/deprecation.py:13: UserWarning: 'data.DataLoader' is deprecated, use 'loader.DataLoader' instead\n",
      "  warnings.warn(out)\n"
     ]
    },
    {
     "name": "stdout",
     "output_type": "stream",
     "text": [
      "Epoch: 009, Train MAE: 0.1361, Train MSE: 0.0383\n",
      "Epoch: 009, Test MAE: 0.0646, Test MSE: 0.0058\n",
      "Time: 7.115525245666504\n",
      "---------------------------------------- 0.2\n",
      "graphs_train shape: 3544 graphs_train[0] shape: Data(x=[36, 37], edge_index=[2, 14], y=0.7580213903743316)\n",
      "graphs_test shape: 17 graphs_test[0] shape: Data(x=[36, 37], edge_index=[2, 11], y=0.696)\n"
     ]
    },
    {
     "name": "stderr",
     "output_type": "stream",
     "text": [
      "/Users/haox/opt/anaconda3/lib/python3.8/site-packages/torch_geometric/deprecation.py:13: UserWarning: 'data.DataLoader' is deprecated, use 'loader.DataLoader' instead\n",
      "  warnings.warn(out)\n"
     ]
    },
    {
     "name": "stdout",
     "output_type": "stream",
     "text": [
      "Epoch: 009, Train MAE: 0.1309, Train MSE: 0.0349\n",
      "Epoch: 009, Test MAE: 0.0634, Test MSE: 0.0056\n",
      "Time: 7.523302793502808\n",
      "---------------------------------------- 0.25\n",
      "graphs_train shape: 5134 graphs_train[0] shape: Data(x=[36, 37], edge_index=[2, 14], y=0.7580213903743316)\n",
      "graphs_test shape: 17 graphs_test[0] shape: Data(x=[36, 37], edge_index=[2, 11], y=0.696)\n"
     ]
    },
    {
     "name": "stderr",
     "output_type": "stream",
     "text": [
      "/Users/haox/opt/anaconda3/lib/python3.8/site-packages/torch_geometric/deprecation.py:13: UserWarning: 'data.DataLoader' is deprecated, use 'loader.DataLoader' instead\n",
      "  warnings.warn(out)\n"
     ]
    },
    {
     "name": "stdout",
     "output_type": "stream",
     "text": [
      "Epoch: 009, Train MAE: 0.1384, Train MSE: 0.0362\n",
      "Epoch: 009, Test MAE: 0.0788, Test MSE: 0.0087\n",
      "Time: 10.863150835037231\n",
      "---------------------------------------- 0.3\n",
      "graphs_train shape: 6171 graphs_train[0] shape: Data(x=[36, 37], edge_index=[2, 14], y=0.7580213903743316)\n",
      "graphs_test shape: 17 graphs_test[0] shape: Data(x=[36, 37], edge_index=[2, 11], y=0.696)\n"
     ]
    },
    {
     "name": "stderr",
     "output_type": "stream",
     "text": [
      "/Users/haox/opt/anaconda3/lib/python3.8/site-packages/torch_geometric/deprecation.py:13: UserWarning: 'data.DataLoader' is deprecated, use 'loader.DataLoader' instead\n",
      "  warnings.warn(out)\n"
     ]
    },
    {
     "name": "stdout",
     "output_type": "stream",
     "text": [
      "Epoch: 009, Train MAE: 0.1492, Train MSE: 0.0441\n",
      "Epoch: 009, Test MAE: 0.1498, Test MSE: 0.0251\n",
      "Time: 12.862383127212524\n",
      "---------------------------------------- 0.35000000000000003\n",
      "graphs_train shape: 6897 graphs_train[0] shape: Data(x=[36, 37], edge_index=[2, 14], y=0.7580213903743316)\n",
      "graphs_test shape: 17 graphs_test[0] shape: Data(x=[36, 37], edge_index=[2, 11], y=0.696)\n"
     ]
    },
    {
     "name": "stderr",
     "output_type": "stream",
     "text": [
      "/Users/haox/opt/anaconda3/lib/python3.8/site-packages/torch_geometric/deprecation.py:13: UserWarning: 'data.DataLoader' is deprecated, use 'loader.DataLoader' instead\n",
      "  warnings.warn(out)\n"
     ]
    },
    {
     "name": "stdout",
     "output_type": "stream",
     "text": [
      "Epoch: 009, Train MAE: 0.1545, Train MSE: 0.0456\n",
      "Epoch: 009, Test MAE: 0.1721, Test MSE: 0.0323\n",
      "Time: 14.264797925949097\n",
      "---------------------------------------- 0.4\n",
      "graphs_train shape: 7794 graphs_train[0] shape: Data(x=[36, 37], edge_index=[2, 14], y=0.7580213903743316)\n",
      "graphs_test shape: 17 graphs_test[0] shape: Data(x=[36, 37], edge_index=[2, 11], y=0.696)\n"
     ]
    },
    {
     "name": "stderr",
     "output_type": "stream",
     "text": [
      "/Users/haox/opt/anaconda3/lib/python3.8/site-packages/torch_geometric/deprecation.py:13: UserWarning: 'data.DataLoader' is deprecated, use 'loader.DataLoader' instead\n",
      "  warnings.warn(out)\n"
     ]
    },
    {
     "name": "stdout",
     "output_type": "stream",
     "text": [
      "Epoch: 009, Train MAE: 0.1707, Train MSE: 0.0558\n",
      "Epoch: 009, Test MAE: 0.1836, Test MSE: 0.0364\n",
      "Time: 16.395858764648438\n",
      "---------------------------------------- 0.45\n",
      "++++++++++++++++++++++++++++++\n",
      "guillermo_DDN+GIN_0.4 guillermo_DDN+GIN_0.45\n",
      "38 38\n",
      "========================================\n",
      "19 helena\n",
      "---------------------------------------- 0.05\n",
      "---------------------------------------- 0.1\n",
      "---------------------------------------- 0.15000000000000002\n",
      "graphs_train shape: 8 graphs_train[0] shape: Data(x=[36, 37], edge_index=[2, 11], y=0.269)\n",
      "graphs_test shape: 204 graphs_test[0] shape: Data(x=[36, 37], edge_index=[2, 11], y=0.224)\n"
     ]
    },
    {
     "name": "stderr",
     "output_type": "stream",
     "text": [
      "/Users/haox/opt/anaconda3/lib/python3.8/site-packages/torch_geometric/deprecation.py:13: UserWarning: 'data.DataLoader' is deprecated, use 'loader.DataLoader' instead\n",
      "  warnings.warn(out)\n"
     ]
    },
    {
     "name": "stdout",
     "output_type": "stream",
     "text": [
      "Epoch: 009, Train MAE: 0.0826, Train MSE: 0.0077\n",
      "Epoch: 009, Test MAE: 0.0531, Test MSE: 0.0038\n",
      "Time: 0.24417376518249512\n",
      "---------------------------------------- 0.2\n",
      "++++++++++++++++++++++++++++++\n",
      "helena_DDN+GIN_0.15 helena_DDN+GIN_0.2\n",
      "1 1\n",
      "---------------------------------------- 0.25\n",
      "graphs_train shape: 224 graphs_train[0] shape: Data(x=[36, 37], edge_index=[2, 14], y=0.5025)\n",
      "graphs_test shape: 204 graphs_test[0] shape: Data(x=[36, 37], edge_index=[2, 11], y=0.224)\n"
     ]
    },
    {
     "name": "stderr",
     "output_type": "stream",
     "text": [
      "/Users/haox/opt/anaconda3/lib/python3.8/site-packages/torch_geometric/deprecation.py:13: UserWarning: 'data.DataLoader' is deprecated, use 'loader.DataLoader' instead\n",
      "  warnings.warn(out)\n"
     ]
    },
    {
     "name": "stdout",
     "output_type": "stream",
     "text": [
      "Epoch: 009, Train MAE: 0.0242, Train MSE: 0.0032\n",
      "Epoch: 009, Test MAE: 0.3430, Test MSE: 0.1214\n",
      "Time: 0.7270100116729736\n",
      "---------------------------------------- 0.3\n",
      "graphs_train shape: 410 graphs_train[0] shape: Data(x=[36, 37], edge_index=[2, 14], y=0.5025)\n",
      "graphs_test shape: 204 graphs_test[0] shape: Data(x=[36, 37], edge_index=[2, 11], y=0.224)\n"
     ]
    },
    {
     "name": "stderr",
     "output_type": "stream",
     "text": [
      "/Users/haox/opt/anaconda3/lib/python3.8/site-packages/torch_geometric/deprecation.py:13: UserWarning: 'data.DataLoader' is deprecated, use 'loader.DataLoader' instead\n",
      "  warnings.warn(out)\n"
     ]
    },
    {
     "name": "stdout",
     "output_type": "stream",
     "text": [
      "Epoch: 009, Train MAE: 0.0260, Train MSE: 0.0024\n",
      "Epoch: 009, Test MAE: 0.3553, Test MSE: 0.1300\n",
      "Time: 1.1050050258636475\n",
      "---------------------------------------- 0.35000000000000003\n",
      "graphs_train shape: 1246 graphs_train[0] shape: Data(x=[36, 37], edge_index=[2, 11], y=0.4525)\n",
      "graphs_test shape: 204 graphs_test[0] shape: Data(x=[36, 37], edge_index=[2, 11], y=0.224)\n"
     ]
    },
    {
     "name": "stderr",
     "output_type": "stream",
     "text": [
      "/Users/haox/opt/anaconda3/lib/python3.8/site-packages/torch_geometric/deprecation.py:13: UserWarning: 'data.DataLoader' is deprecated, use 'loader.DataLoader' instead\n",
      "  warnings.warn(out)\n"
     ]
    },
    {
     "name": "stdout",
     "output_type": "stream",
     "text": [
      "Epoch: 009, Train MAE: 0.0736, Train MSE: 0.0119\n",
      "Epoch: 009, Test MAE: 0.4072, Test MSE: 0.1696\n",
      "Time: 2.8160581588745117\n",
      "---------------------------------------- 0.4\n",
      "graphs_train shape: 1263 graphs_train[0] shape: Data(x=[36, 37], edge_index=[2, 11], y=0.4525)\n",
      "graphs_test shape: 204 graphs_test[0] shape: Data(x=[36, 37], edge_index=[2, 11], y=0.224)\n"
     ]
    },
    {
     "name": "stderr",
     "output_type": "stream",
     "text": [
      "/Users/haox/opt/anaconda3/lib/python3.8/site-packages/torch_geometric/deprecation.py:13: UserWarning: 'data.DataLoader' is deprecated, use 'loader.DataLoader' instead\n",
      "  warnings.warn(out)\n"
     ]
    },
    {
     "name": "stdout",
     "output_type": "stream",
     "text": [
      "Epoch: 009, Train MAE: 0.0724, Train MSE: 0.0116\n",
      "Epoch: 009, Test MAE: 0.4052, Test MSE: 0.1680\n",
      "Time: 2.7908718585968018\n",
      "---------------------------------------- 0.45\n",
      "graphs_train shape: 2331 graphs_train[0] shape: Data(x=[36, 37], edge_index=[2, 14], y=0.23099999999999998)\n",
      "graphs_test shape: 204 graphs_test[0] shape: Data(x=[36, 37], edge_index=[2, 11], y=0.224)\n"
     ]
    },
    {
     "name": "stderr",
     "output_type": "stream",
     "text": [
      "/Users/haox/opt/anaconda3/lib/python3.8/site-packages/torch_geometric/deprecation.py:13: UserWarning: 'data.DataLoader' is deprecated, use 'loader.DataLoader' instead\n",
      "  warnings.warn(out)\n"
     ]
    },
    {
     "name": "stdout",
     "output_type": "stream",
     "text": [
      "Epoch: 009, Train MAE: 0.1237, Train MSE: 0.0321\n",
      "Epoch: 009, Test MAE: 0.4187, Test MSE: 0.1791\n",
      "Time: 5.000539302825928\n",
      "========================================\n",
      "20 higgs\n",
      "---------------------------------------- 0.05\n",
      "graphs_train shape: 642 graphs_train[0] shape: Data(x=[36, 37], edge_index=[2, 11], y=0.4525)\n",
      "graphs_test shape: 216 graphs_test[0] shape: Data(x=[36, 37], edge_index=[2, 14], y=0.5994999999999999)\n"
     ]
    },
    {
     "name": "stderr",
     "output_type": "stream",
     "text": [
      "/Users/haox/opt/anaconda3/lib/python3.8/site-packages/torch_geometric/deprecation.py:13: UserWarning: 'data.DataLoader' is deprecated, use 'loader.DataLoader' instead\n",
      "  warnings.warn(out)\n"
     ]
    },
    {
     "name": "stdout",
     "output_type": "stream",
     "text": [
      "Epoch: 009, Train MAE: 0.0810, Train MSE: 0.0113\n",
      "Epoch: 009, Test MAE: 0.0953, Test MSE: 0.0106\n",
      "Time: 1.5161468982696533\n",
      "---------------------------------------- 0.1\n",
      "graphs_train shape: 1675 graphs_train[0] shape: Data(x=[36, 37], edge_index=[2, 14], y=0.23099999999999998)\n",
      "graphs_test shape: 216 graphs_test[0] shape: Data(x=[36, 37], edge_index=[2, 14], y=0.5994999999999999)\n"
     ]
    },
    {
     "name": "stderr",
     "output_type": "stream",
     "text": [
      "/Users/haox/opt/anaconda3/lib/python3.8/site-packages/torch_geometric/deprecation.py:13: UserWarning: 'data.DataLoader' is deprecated, use 'loader.DataLoader' instead\n",
      "  warnings.warn(out)\n"
     ]
    },
    {
     "name": "stdout",
     "output_type": "stream",
     "text": [
      "Epoch: 009, Train MAE: 0.1414, Train MSE: 0.0393\n",
      "Epoch: 009, Test MAE: 0.0323, Test MSE: 0.0017\n",
      "Time: 3.5631327629089355\n",
      "---------------------------------------- 0.15000000000000002\n",
      "graphs_train shape: 2949 graphs_train[0] shape: Data(x=[36, 37], edge_index=[2, 14], y=0.23099999999999998)\n",
      "graphs_test shape: 216 graphs_test[0] shape: Data(x=[36, 37], edge_index=[2, 14], y=0.5994999999999999)\n"
     ]
    },
    {
     "name": "stderr",
     "output_type": "stream",
     "text": [
      "/Users/haox/opt/anaconda3/lib/python3.8/site-packages/torch_geometric/deprecation.py:13: UserWarning: 'data.DataLoader' is deprecated, use 'loader.DataLoader' instead\n",
      "  warnings.warn(out)\n"
     ]
    },
    {
     "name": "stdout",
     "output_type": "stream",
     "text": [
      "Epoch: 009, Train MAE: 0.1325, Train MSE: 0.0345\n",
      "Epoch: 009, Test MAE: 0.0520, Test MSE: 0.0036\n",
      "Time: 5.919797897338867\n",
      "---------------------------------------- 0.2\n",
      "++++++++++++++++++++++++++++++\n",
      "higgs_DDN+GIN_0.15 higgs_DDN+GIN_0.2\n",
      "15 15\n",
      "---------------------------------------- 0.25\n",
      "graphs_train shape: 4935 graphs_train[0] shape: Data(x=[36, 37], edge_index=[2, 14], y=0.7580213903743316)\n",
      "graphs_test shape: 216 graphs_test[0] shape: Data(x=[36, 37], edge_index=[2, 14], y=0.5994999999999999)\n"
     ]
    },
    {
     "name": "stderr",
     "output_type": "stream",
     "text": [
      "/Users/haox/opt/anaconda3/lib/python3.8/site-packages/torch_geometric/deprecation.py:13: UserWarning: 'data.DataLoader' is deprecated, use 'loader.DataLoader' instead\n",
      "  warnings.warn(out)\n"
     ]
    },
    {
     "name": "stdout",
     "output_type": "stream",
     "text": [
      "Epoch: 009, Train MAE: 0.1398, Train MSE: 0.0379\n",
      "Epoch: 009, Test MAE: 0.1078, Test MSE: 0.0132\n",
      "Time: 9.769285917282104\n",
      "---------------------------------------- 0.3\n",
      "graphs_train shape: 5560 graphs_train[0] shape: Data(x=[36, 37], edge_index=[2, 14], y=0.7580213903743316)\n",
      "graphs_test shape: 216 graphs_test[0] shape: Data(x=[36, 37], edge_index=[2, 14], y=0.5994999999999999)\n"
     ]
    },
    {
     "name": "stderr",
     "output_type": "stream",
     "text": [
      "/Users/haox/opt/anaconda3/lib/python3.8/site-packages/torch_geometric/deprecation.py:13: UserWarning: 'data.DataLoader' is deprecated, use 'loader.DataLoader' instead\n",
      "  warnings.warn(out)\n"
     ]
    },
    {
     "name": "stdout",
     "output_type": "stream",
     "text": [
      "Epoch: 009, Train MAE: 0.1471, Train MSE: 0.0431\n",
      "Epoch: 009, Test MAE: 0.1584, Test MSE: 0.0267\n",
      "Time: 10.783488035202026\n",
      "---------------------------------------- 0.35000000000000003\n",
      "graphs_train shape: 6824 graphs_train[0] shape: Data(x=[36, 37], edge_index=[2, 14], y=0.7580213903743316)\n",
      "graphs_test shape: 216 graphs_test[0] shape: Data(x=[36, 37], edge_index=[2, 14], y=0.5994999999999999)\n"
     ]
    },
    {
     "name": "stderr",
     "output_type": "stream",
     "text": [
      "/Users/haox/opt/anaconda3/lib/python3.8/site-packages/torch_geometric/deprecation.py:13: UserWarning: 'data.DataLoader' is deprecated, use 'loader.DataLoader' instead\n",
      "  warnings.warn(out)\n"
     ]
    },
    {
     "name": "stdout",
     "output_type": "stream",
     "text": [
      "Epoch: 009, Train MAE: 0.1665, Train MSE: 0.0554\n",
      "Epoch: 009, Test MAE: 0.1898, Test MSE: 0.0376\n",
      "Time: 13.898870944976807\n",
      "---------------------------------------- 0.4\n",
      "graphs_train shape: 7595 graphs_train[0] shape: Data(x=[36, 37], edge_index=[2, 14], y=0.7580213903743316)\n",
      "graphs_test shape: 216 graphs_test[0] shape: Data(x=[36, 37], edge_index=[2, 14], y=0.5994999999999999)\n"
     ]
    },
    {
     "name": "stderr",
     "output_type": "stream",
     "text": [
      "/Users/haox/opt/anaconda3/lib/python3.8/site-packages/torch_geometric/deprecation.py:13: UserWarning: 'data.DataLoader' is deprecated, use 'loader.DataLoader' instead\n",
      "  warnings.warn(out)\n"
     ]
    },
    {
     "name": "stdout",
     "output_type": "stream",
     "text": [
      "Epoch: 009, Train MAE: 0.1696, Train MSE: 0.0559\n",
      "Epoch: 009, Test MAE: 0.2061, Test MSE: 0.0441\n",
      "Time: 16.64453911781311\n",
      "---------------------------------------- 0.45\n",
      "++++++++++++++++++++++++++++++\n",
      "higgs_DDN+GIN_0.4 higgs_DDN+GIN_0.45\n",
      "38 38\n",
      "========================================\n",
      "21 jannis\n",
      "---------------------------------------- 0.05\n",
      "graphs_train shape: 637 graphs_train[0] shape: Data(x=[36, 37], edge_index=[2, 11], y=0.4525)\n",
      "graphs_test shape: 216 graphs_test[0] shape: Data(x=[36, 37], edge_index=[2, 12], y=0.611)\n"
     ]
    },
    {
     "name": "stderr",
     "output_type": "stream",
     "text": [
      "/Users/haox/opt/anaconda3/lib/python3.8/site-packages/torch_geometric/deprecation.py:13: UserWarning: 'data.DataLoader' is deprecated, use 'loader.DataLoader' instead\n",
      "  warnings.warn(out)\n"
     ]
    },
    {
     "name": "stdout",
     "output_type": "stream",
     "text": [
      "Epoch: 009, Train MAE: 0.0884, Train MSE: 0.0128\n",
      "Epoch: 009, Test MAE: 0.0736, Test MSE: 0.0064\n",
      "Time: 1.5403597354888916\n",
      "---------------------------------------- 0.1\n",
      "graphs_train shape: 1675 graphs_train[0] shape: Data(x=[36, 37], edge_index=[2, 14], y=0.23099999999999998)\n",
      "graphs_test shape: 216 graphs_test[0] shape: Data(x=[36, 37], edge_index=[2, 12], y=0.611)\n"
     ]
    },
    {
     "name": "stderr",
     "output_type": "stream",
     "text": [
      "/Users/haox/opt/anaconda3/lib/python3.8/site-packages/torch_geometric/deprecation.py:13: UserWarning: 'data.DataLoader' is deprecated, use 'loader.DataLoader' instead\n",
      "  warnings.warn(out)\n"
     ]
    },
    {
     "name": "stdout",
     "output_type": "stream",
     "text": [
      "Epoch: 009, Train MAE: 0.1423, Train MSE: 0.0398\n",
      "Epoch: 009, Test MAE: 0.0313, Test MSE: 0.0017\n",
      "Time: 3.7985141277313232\n",
      "---------------------------------------- 0.15000000000000002\n",
      "graphs_train shape: 2949 graphs_train[0] shape: Data(x=[36, 37], edge_index=[2, 14], y=0.23099999999999998)\n",
      "graphs_test shape: 216 graphs_test[0] shape: Data(x=[36, 37], edge_index=[2, 12], y=0.611)\n"
     ]
    },
    {
     "name": "stderr",
     "output_type": "stream",
     "text": [
      "/Users/haox/opt/anaconda3/lib/python3.8/site-packages/torch_geometric/deprecation.py:13: UserWarning: 'data.DataLoader' is deprecated, use 'loader.DataLoader' instead\n",
      "  warnings.warn(out)\n"
     ]
    },
    {
     "name": "stdout",
     "output_type": "stream",
     "text": [
      "Epoch: 009, Train MAE: 0.1436, Train MSE: 0.0321\n",
      "Epoch: 009, Test MAE: 0.0510, Test MSE: 0.0034\n",
      "Time: 6.302976131439209\n",
      "---------------------------------------- 0.2\n",
      "++++++++++++++++++++++++++++++\n",
      "jannis_DDN+GIN_0.15 jannis_DDN+GIN_0.2\n",
      "15 15\n",
      "---------------------------------------- 0.25\n",
      "graphs_train shape: 4935 graphs_train[0] shape: Data(x=[36, 37], edge_index=[2, 14], y=0.7580213903743316)\n",
      "graphs_test shape: 216 graphs_test[0] shape: Data(x=[36, 37], edge_index=[2, 12], y=0.611)\n"
     ]
    },
    {
     "name": "stderr",
     "output_type": "stream",
     "text": [
      "/Users/haox/opt/anaconda3/lib/python3.8/site-packages/torch_geometric/deprecation.py:13: UserWarning: 'data.DataLoader' is deprecated, use 'loader.DataLoader' instead\n",
      "  warnings.warn(out)\n"
     ]
    },
    {
     "name": "stdout",
     "output_type": "stream",
     "text": [
      "Epoch: 009, Train MAE: 0.1387, Train MSE: 0.0376\n",
      "Epoch: 009, Test MAE: 0.1334, Test MSE: 0.0193\n",
      "Time: 10.001909017562866\n",
      "---------------------------------------- 0.3\n",
      "graphs_train shape: 5756 graphs_train[0] shape: Data(x=[36, 37], edge_index=[2, 14], y=0.7580213903743316)\n",
      "graphs_test shape: 216 graphs_test[0] shape: Data(x=[36, 37], edge_index=[2, 12], y=0.611)\n"
     ]
    },
    {
     "name": "stderr",
     "output_type": "stream",
     "text": [
      "/Users/haox/opt/anaconda3/lib/python3.8/site-packages/torch_geometric/deprecation.py:13: UserWarning: 'data.DataLoader' is deprecated, use 'loader.DataLoader' instead\n",
      "  warnings.warn(out)\n"
     ]
    },
    {
     "name": "stdout",
     "output_type": "stream",
     "text": [
      "Epoch: 009, Train MAE: 0.1492, Train MSE: 0.0451\n",
      "Epoch: 009, Test MAE: 0.1996, Test MSE: 0.0414\n",
      "Time: 12.07452392578125\n",
      "---------------------------------------- 0.35000000000000003\n",
      "graphs_train shape: 6884 graphs_train[0] shape: Data(x=[36, 37], edge_index=[2, 14], y=0.7580213903743316)\n",
      "graphs_test shape: 216 graphs_test[0] shape: Data(x=[36, 37], edge_index=[2, 12], y=0.611)\n"
     ]
    },
    {
     "name": "stderr",
     "output_type": "stream",
     "text": [
      "/Users/haox/opt/anaconda3/lib/python3.8/site-packages/torch_geometric/deprecation.py:13: UserWarning: 'data.DataLoader' is deprecated, use 'loader.DataLoader' instead\n",
      "  warnings.warn(out)\n"
     ]
    },
    {
     "name": "stdout",
     "output_type": "stream",
     "text": [
      "Epoch: 009, Train MAE: 0.1641, Train MSE: 0.0543\n",
      "Epoch: 009, Test MAE: 0.2136, Test MSE: 0.0471\n",
      "Time: 15.419891834259033\n",
      "---------------------------------------- 0.4\n",
      "graphs_train shape: 7595 graphs_train[0] shape: Data(x=[36, 37], edge_index=[2, 14], y=0.7580213903743316)\n",
      "graphs_test shape: 216 graphs_test[0] shape: Data(x=[36, 37], edge_index=[2, 12], y=0.611)\n"
     ]
    },
    {
     "name": "stderr",
     "output_type": "stream",
     "text": [
      "/Users/haox/opt/anaconda3/lib/python3.8/site-packages/torch_geometric/deprecation.py:13: UserWarning: 'data.DataLoader' is deprecated, use 'loader.DataLoader' instead\n",
      "  warnings.warn(out)\n"
     ]
    },
    {
     "name": "stdout",
     "output_type": "stream",
     "text": [
      "Epoch: 009, Train MAE: 0.1687, Train MSE: 0.0555\n",
      "Epoch: 009, Test MAE: 0.2310, Test MSE: 0.0548\n",
      "Time: 16.043543815612793\n",
      "---------------------------------------- 0.45\n",
      "++++++++++++++++++++++++++++++\n",
      "jannis_DDN+GIN_0.4 jannis_DDN+GIN_0.45\n",
      "38 38\n",
      "========================================\n",
      "22 jasmine\n",
      "---------------------------------------- 0.05\n",
      "graphs_train shape: 1274 graphs_train[0] shape: Data(x=[36, 37], edge_index=[2, 14], y=0.5508274231678487)\n",
      "graphs_test shape: 216 graphs_test[0] shape: Data(x=[36, 37], edge_index=[2, 12], y=0.7585)\n"
     ]
    },
    {
     "name": "stderr",
     "output_type": "stream",
     "text": [
      "/Users/haox/opt/anaconda3/lib/python3.8/site-packages/torch_geometric/deprecation.py:13: UserWarning: 'data.DataLoader' is deprecated, use 'loader.DataLoader' instead\n",
      "  warnings.warn(out)\n"
     ]
    },
    {
     "name": "stdout",
     "output_type": "stream",
     "text": [
      "Epoch: 009, Train MAE: 0.1537, Train MSE: 0.0293\n",
      "Epoch: 009, Test MAE: 0.2005, Test MSE: 0.0444\n",
      "Time: 2.761162042617798\n",
      "---------------------------------------- 0.1\n",
      "graphs_train shape: 3240 graphs_train[0] shape: Data(x=[36, 37], edge_index=[2, 14], y=0.7580213903743316)\n",
      "graphs_test shape: 216 graphs_test[0] shape: Data(x=[36, 37], edge_index=[2, 12], y=0.7585)\n"
     ]
    },
    {
     "name": "stderr",
     "output_type": "stream",
     "text": [
      "/Users/haox/opt/anaconda3/lib/python3.8/site-packages/torch_geometric/deprecation.py:13: UserWarning: 'data.DataLoader' is deprecated, use 'loader.DataLoader' instead\n",
      "  warnings.warn(out)\n"
     ]
    },
    {
     "name": "stdout",
     "output_type": "stream",
     "text": [
      "Epoch: 009, Train MAE: 0.1241, Train MSE: 0.0414\n",
      "Epoch: 009, Test MAE: 0.0520, Test MSE: 0.0050\n",
      "Time: 6.6843180656433105\n",
      "---------------------------------------- 0.15000000000000002\n",
      "graphs_train shape: 4934 graphs_train[0] shape: Data(x=[36, 37], edge_index=[2, 14], y=0.7580213903743316)\n",
      "graphs_test shape: 216 graphs_test[0] shape: Data(x=[36, 37], edge_index=[2, 12], y=0.7585)\n"
     ]
    },
    {
     "name": "stderr",
     "output_type": "stream",
     "text": [
      "/Users/haox/opt/anaconda3/lib/python3.8/site-packages/torch_geometric/deprecation.py:13: UserWarning: 'data.DataLoader' is deprecated, use 'loader.DataLoader' instead\n",
      "  warnings.warn(out)\n"
     ]
    },
    {
     "name": "stdout",
     "output_type": "stream",
     "text": [
      "Epoch: 009, Train MAE: 0.1456, Train MSE: 0.0437\n",
      "Epoch: 009, Test MAE: 0.0443, Test MSE: 0.0053\n",
      "Time: 9.703563928604126\n",
      "---------------------------------------- 0.2\n",
      "graphs_train shape: 6396 graphs_train[0] shape: Data(x=[36, 37], edge_index=[2, 14], y=0.7580213903743316)\n",
      "graphs_test shape: 216 graphs_test[0] shape: Data(x=[36, 37], edge_index=[2, 12], y=0.7585)\n"
     ]
    },
    {
     "name": "stderr",
     "output_type": "stream",
     "text": [
      "/Users/haox/opt/anaconda3/lib/python3.8/site-packages/torch_geometric/deprecation.py:13: UserWarning: 'data.DataLoader' is deprecated, use 'loader.DataLoader' instead\n",
      "  warnings.warn(out)\n"
     ]
    },
    {
     "name": "stdout",
     "output_type": "stream",
     "text": [
      "Epoch: 009, Train MAE: 0.1538, Train MSE: 0.0457\n",
      "Epoch: 009, Test MAE: 0.0558, Test MSE: 0.0081\n",
      "Time: 12.226610898971558\n",
      "---------------------------------------- 0.25\n",
      "graphs_train shape: 7167 graphs_train[0] shape: Data(x=[36, 37], edge_index=[2, 14], y=0.7580213903743316)\n",
      "graphs_test shape: 216 graphs_test[0] shape: Data(x=[36, 37], edge_index=[2, 12], y=0.7585)\n"
     ]
    },
    {
     "name": "stderr",
     "output_type": "stream",
     "text": [
      "/Users/haox/opt/anaconda3/lib/python3.8/site-packages/torch_geometric/deprecation.py:13: UserWarning: 'data.DataLoader' is deprecated, use 'loader.DataLoader' instead\n",
      "  warnings.warn(out)\n"
     ]
    },
    {
     "name": "stdout",
     "output_type": "stream",
     "text": [
      "Epoch: 009, Train MAE: 0.1585, Train MSE: 0.0476\n",
      "Epoch: 009, Test MAE: 0.0778, Test MSE: 0.0111\n",
      "Time: 13.812250852584839\n",
      "---------------------------------------- 0.3\n",
      "graphs_train shape: 7383 graphs_train[0] shape: Data(x=[36, 37], edge_index=[2, 14], y=0.7580213903743316)\n",
      "graphs_test shape: 216 graphs_test[0] shape: Data(x=[36, 37], edge_index=[2, 12], y=0.7585)\n"
     ]
    },
    {
     "name": "stderr",
     "output_type": "stream",
     "text": [
      "/Users/haox/opt/anaconda3/lib/python3.8/site-packages/torch_geometric/deprecation.py:13: UserWarning: 'data.DataLoader' is deprecated, use 'loader.DataLoader' instead\n",
      "  warnings.warn(out)\n"
     ]
    },
    {
     "name": "stdout",
     "output_type": "stream",
     "text": [
      "Epoch: 009, Train MAE: 0.1626, Train MSE: 0.0489\n",
      "Epoch: 009, Test MAE: 0.0791, Test MSE: 0.0113\n",
      "Time: 14.65302562713623\n",
      "---------------------------------------- 0.35000000000000003\n",
      "++++++++++++++++++++++++++++++\n",
      "jasmine_DDN+GIN_0.3 jasmine_DDN+GIN_0.35\n",
      "36 36\n",
      "---------------------------------------- 0.4\n",
      "graphs_train shape: 7391 graphs_train[0] shape: Data(x=[36, 37], edge_index=[2, 14], y=0.7580213903743316)\n",
      "graphs_test shape: 216 graphs_test[0] shape: Data(x=[36, 37], edge_index=[2, 12], y=0.7585)\n"
     ]
    },
    {
     "name": "stderr",
     "output_type": "stream",
     "text": [
      "/Users/haox/opt/anaconda3/lib/python3.8/site-packages/torch_geometric/deprecation.py:13: UserWarning: 'data.DataLoader' is deprecated, use 'loader.DataLoader' instead\n",
      "  warnings.warn(out)\n"
     ]
    },
    {
     "name": "stdout",
     "output_type": "stream",
     "text": [
      "Epoch: 009, Train MAE: 0.1632, Train MSE: 0.0493\n",
      "Epoch: 009, Test MAE: 0.0795, Test MSE: 0.0113\n",
      "Time: 15.242984056472778\n",
      "---------------------------------------- 0.45\n",
      "++++++++++++++++++++++++++++++\n",
      "jasmine_DDN+GIN_0.4 jasmine_DDN+GIN_0.45\n",
      "37 37\n",
      "========================================\n",
      "23 jungle_chess_2pcs_raw_endgame_complete\n",
      "---------------------------------------- 0.05\n",
      "graphs_train shape: 1478 graphs_train[0] shape: Data(x=[36, 37], edge_index=[2, 14], y=0.23099999999999998)\n",
      "graphs_test shape: 216 graphs_test[0] shape: Data(x=[36, 37], edge_index=[2, 14], y=0.5705)\n"
     ]
    },
    {
     "name": "stderr",
     "output_type": "stream",
     "text": [
      "/Users/haox/opt/anaconda3/lib/python3.8/site-packages/torch_geometric/deprecation.py:13: UserWarning: 'data.DataLoader' is deprecated, use 'loader.DataLoader' instead\n",
      "  warnings.warn(out)\n"
     ]
    },
    {
     "name": "stdout",
     "output_type": "stream",
     "text": [
      "Epoch: 009, Train MAE: 0.1433, Train MSE: 0.0528\n",
      "Epoch: 009, Test MAE: 0.0665, Test MSE: 0.0058\n",
      "Time: 3.3477728366851807\n",
      "---------------------------------------- 0.1\n",
      "graphs_train shape: 2758 graphs_train[0] shape: Data(x=[36, 37], edge_index=[2, 14], y=0.7580213903743316)\n",
      "graphs_test shape: 216 graphs_test[0] shape: Data(x=[36, 37], edge_index=[2, 14], y=0.5705)\n"
     ]
    },
    {
     "name": "stderr",
     "output_type": "stream",
     "text": [
      "/Users/haox/opt/anaconda3/lib/python3.8/site-packages/torch_geometric/deprecation.py:13: UserWarning: 'data.DataLoader' is deprecated, use 'loader.DataLoader' instead\n",
      "  warnings.warn(out)\n"
     ]
    },
    {
     "name": "stdout",
     "output_type": "stream",
     "text": [
      "Epoch: 009, Train MAE: 0.1210, Train MSE: 0.0436\n",
      "Epoch: 009, Test MAE: 0.0749, Test MSE: 0.0077\n",
      "Time: 6.019134998321533\n",
      "---------------------------------------- 0.15000000000000002\n",
      "graphs_train shape: 4525 graphs_train[0] shape: Data(x=[36, 37], edge_index=[2, 14], y=0.7580213903743316)\n",
      "graphs_test shape: 216 graphs_test[0] shape: Data(x=[36, 37], edge_index=[2, 14], y=0.5705)\n"
     ]
    },
    {
     "name": "stderr",
     "output_type": "stream",
     "text": [
      "/Users/haox/opt/anaconda3/lib/python3.8/site-packages/torch_geometric/deprecation.py:13: UserWarning: 'data.DataLoader' is deprecated, use 'loader.DataLoader' instead\n",
      "  warnings.warn(out)\n"
     ]
    },
    {
     "name": "stdout",
     "output_type": "stream",
     "text": [
      "Epoch: 009, Train MAE: 0.1395, Train MSE: 0.0405\n",
      "Epoch: 009, Test MAE: 0.0714, Test MSE: 0.0068\n",
      "Time: 9.399127006530762\n",
      "---------------------------------------- 0.2\n",
      "graphs_train shape: 5964 graphs_train[0] shape: Data(x=[36, 37], edge_index=[2, 14], y=0.7580213903743316)\n",
      "graphs_test shape: 216 graphs_test[0] shape: Data(x=[36, 37], edge_index=[2, 14], y=0.5705)\n"
     ]
    },
    {
     "name": "stderr",
     "output_type": "stream",
     "text": [
      "/Users/haox/opt/anaconda3/lib/python3.8/site-packages/torch_geometric/deprecation.py:13: UserWarning: 'data.DataLoader' is deprecated, use 'loader.DataLoader' instead\n",
      "  warnings.warn(out)\n"
     ]
    },
    {
     "name": "stdout",
     "output_type": "stream",
     "text": [
      "Epoch: 009, Train MAE: 0.1530, Train MSE: 0.0468\n",
      "Epoch: 009, Test MAE: 0.1031, Test MSE: 0.0160\n",
      "Time: 11.609025955200195\n",
      "---------------------------------------- 0.25\n",
      "graphs_train shape: 7117 graphs_train[0] shape: Data(x=[36, 37], edge_index=[2, 14], y=0.7580213903743316)\n",
      "graphs_test shape: 216 graphs_test[0] shape: Data(x=[36, 37], edge_index=[2, 14], y=0.5705)\n"
     ]
    },
    {
     "name": "stderr",
     "output_type": "stream",
     "text": [
      "/Users/haox/opt/anaconda3/lib/python3.8/site-packages/torch_geometric/deprecation.py:13: UserWarning: 'data.DataLoader' is deprecated, use 'loader.DataLoader' instead\n",
      "  warnings.warn(out)\n"
     ]
    },
    {
     "name": "stdout",
     "output_type": "stream",
     "text": [
      "Epoch: 009, Train MAE: 0.1631, Train MSE: 0.0510\n",
      "Epoch: 009, Test MAE: 0.1364, Test MSE: 0.0243\n",
      "Time: 14.424017906188965\n",
      "---------------------------------------- 0.3\n",
      "graphs_train shape: 7383 graphs_train[0] shape: Data(x=[36, 37], edge_index=[2, 14], y=0.7580213903743316)\n",
      "graphs_test shape: 216 graphs_test[0] shape: Data(x=[36, 37], edge_index=[2, 14], y=0.5705)\n"
     ]
    },
    {
     "name": "stderr",
     "output_type": "stream",
     "text": [
      "/Users/haox/opt/anaconda3/lib/python3.8/site-packages/torch_geometric/deprecation.py:13: UserWarning: 'data.DataLoader' is deprecated, use 'loader.DataLoader' instead\n",
      "  warnings.warn(out)\n"
     ]
    },
    {
     "name": "stdout",
     "output_type": "stream",
     "text": [
      "Epoch: 009, Train MAE: 0.1637, Train MSE: 0.0506\n",
      "Epoch: 009, Test MAE: 0.1368, Test MSE: 0.0244\n",
      "Time: 14.130450963973999\n",
      "---------------------------------------- 0.35000000000000003\n",
      "++++++++++++++++++++++++++++++\n",
      "jungle_chess_2pcs_raw_endgame_complete_DDN+GIN_0.3 jungle_chess_2pcs_raw_endgame_complete_DDN+GIN_0.35\n",
      "36 36\n",
      "---------------------------------------- 0.4\n",
      "graphs_train shape: 7391 graphs_train[0] shape: Data(x=[36, 37], edge_index=[2, 14], y=0.7580213903743316)\n",
      "graphs_test shape: 216 graphs_test[0] shape: Data(x=[36, 37], edge_index=[2, 14], y=0.5705)\n"
     ]
    },
    {
     "name": "stderr",
     "output_type": "stream",
     "text": [
      "/Users/haox/opt/anaconda3/lib/python3.8/site-packages/torch_geometric/deprecation.py:13: UserWarning: 'data.DataLoader' is deprecated, use 'loader.DataLoader' instead\n",
      "  warnings.warn(out)\n"
     ]
    },
    {
     "name": "stdout",
     "output_type": "stream",
     "text": [
      "Epoch: 009, Train MAE: 0.1639, Train MSE: 0.0508\n",
      "Epoch: 009, Test MAE: 0.1360, Test MSE: 0.0241\n",
      "Time: 14.06111192703247\n",
      "---------------------------------------- 0.45\n",
      "++++++++++++++++++++++++++++++\n",
      "jungle_chess_2pcs_raw_endgame_complete_DDN+GIN_0.4 jungle_chess_2pcs_raw_endgame_complete_DDN+GIN_0.45\n",
      "37 37\n",
      "========================================\n",
      "24 kc1\n",
      "---------------------------------------- 0.05\n",
      "graphs_train shape: 2171 graphs_train[0] shape: Data(x=[36, 37], edge_index=[2, 14], y=0.7580213903743316)\n",
      "graphs_test shape: 216 graphs_test[0] shape: Data(x=[36, 37], edge_index=[2, 11], y=0.845)\n"
     ]
    },
    {
     "name": "stderr",
     "output_type": "stream",
     "text": [
      "/Users/haox/opt/anaconda3/lib/python3.8/site-packages/torch_geometric/deprecation.py:13: UserWarning: 'data.DataLoader' is deprecated, use 'loader.DataLoader' instead\n",
      "  warnings.warn(out)\n"
     ]
    },
    {
     "name": "stdout",
     "output_type": "stream",
     "text": [
      "Epoch: 009, Train MAE: 0.1230, Train MSE: 0.0242\n",
      "Epoch: 009, Test MAE: 0.1343, Test MSE: 0.0185\n",
      "Time: 4.2011613845825195\n",
      "---------------------------------------- 0.1\n",
      "graphs_train shape: 3663 graphs_train[0] shape: Data(x=[36, 37], edge_index=[2, 14], y=0.7580213903743316)\n",
      "graphs_test shape: 216 graphs_test[0] shape: Data(x=[36, 37], edge_index=[2, 11], y=0.845)\n"
     ]
    },
    {
     "name": "stderr",
     "output_type": "stream",
     "text": [
      "/Users/haox/opt/anaconda3/lib/python3.8/site-packages/torch_geometric/deprecation.py:13: UserWarning: 'data.DataLoader' is deprecated, use 'loader.DataLoader' instead\n",
      "  warnings.warn(out)\n"
     ]
    },
    {
     "name": "stdout",
     "output_type": "stream",
     "text": [
      "Epoch: 009, Train MAE: 0.1116, Train MSE: 0.0222\n",
      "Epoch: 009, Test MAE: 0.0965, Test MSE: 0.0102\n",
      "Time: 7.0675389766693115\n",
      "---------------------------------------- 0.15000000000000002\n",
      "graphs_train shape: 5708 graphs_train[0] shape: Data(x=[36, 37], edge_index=[2, 14], y=0.7580213903743316)\n",
      "graphs_test shape: 216 graphs_test[0] shape: Data(x=[36, 37], edge_index=[2, 11], y=0.845)\n"
     ]
    },
    {
     "name": "stderr",
     "output_type": "stream",
     "text": [
      "/Users/haox/opt/anaconda3/lib/python3.8/site-packages/torch_geometric/deprecation.py:13: UserWarning: 'data.DataLoader' is deprecated, use 'loader.DataLoader' instead\n",
      "  warnings.warn(out)\n"
     ]
    },
    {
     "name": "stdout",
     "output_type": "stream",
     "text": [
      "Epoch: 009, Train MAE: 0.1226, Train MSE: 0.0295\n",
      "Epoch: 009, Test MAE: 0.0258, Test MSE: 0.0043\n",
      "Time: 11.140117168426514\n",
      "---------------------------------------- 0.2\n",
      "graphs_train shape: 6128 graphs_train[0] shape: Data(x=[36, 37], edge_index=[2, 14], y=0.7580213903743316)\n",
      "graphs_test shape: 216 graphs_test[0] shape: Data(x=[36, 37], edge_index=[2, 11], y=0.845)\n"
     ]
    },
    {
     "name": "stderr",
     "output_type": "stream",
     "text": [
      "/Users/haox/opt/anaconda3/lib/python3.8/site-packages/torch_geometric/deprecation.py:13: UserWarning: 'data.DataLoader' is deprecated, use 'loader.DataLoader' instead\n",
      "  warnings.warn(out)\n"
     ]
    },
    {
     "name": "stdout",
     "output_type": "stream",
     "text": [
      "Epoch: 009, Train MAE: 0.1383, Train MSE: 0.0409\n",
      "Epoch: 009, Test MAE: 0.0391, Test MSE: 0.0044\n",
      "Time: 12.351318120956421\n",
      "---------------------------------------- 0.25\n",
      "graphs_train shape: 6981 graphs_train[0] shape: Data(x=[36, 37], edge_index=[2, 14], y=0.7580213903743316)\n",
      "graphs_test shape: 216 graphs_test[0] shape: Data(x=[36, 37], edge_index=[2, 11], y=0.845)\n"
     ]
    },
    {
     "name": "stderr",
     "output_type": "stream",
     "text": [
      "/Users/haox/opt/anaconda3/lib/python3.8/site-packages/torch_geometric/deprecation.py:13: UserWarning: 'data.DataLoader' is deprecated, use 'loader.DataLoader' instead\n",
      "  warnings.warn(out)\n"
     ]
    },
    {
     "name": "stdout",
     "output_type": "stream",
     "text": [
      "Epoch: 009, Train MAE: 0.1584, Train MSE: 0.0484\n",
      "Epoch: 009, Test MAE: 0.0415, Test MSE: 0.0045\n",
      "Time: 13.81123399734497\n",
      "---------------------------------------- 0.3\n",
      "graphs_train shape: 7167 graphs_train[0] shape: Data(x=[36, 37], edge_index=[2, 14], y=0.7580213903743316)\n",
      "graphs_test shape: 216 graphs_test[0] shape: Data(x=[36, 37], edge_index=[2, 11], y=0.845)\n"
     ]
    },
    {
     "name": "stderr",
     "output_type": "stream",
     "text": [
      "/Users/haox/opt/anaconda3/lib/python3.8/site-packages/torch_geometric/deprecation.py:13: UserWarning: 'data.DataLoader' is deprecated, use 'loader.DataLoader' instead\n",
      "  warnings.warn(out)\n"
     ]
    },
    {
     "name": "stdout",
     "output_type": "stream",
     "text": [
      "Epoch: 009, Train MAE: 0.1597, Train MSE: 0.0480\n",
      "Epoch: 009, Test MAE: 0.0452, Test MSE: 0.0046\n",
      "Time: 14.250508069992065\n",
      "---------------------------------------- 0.35000000000000003\n",
      "graphs_train shape: 7383 graphs_train[0] shape: Data(x=[36, 37], edge_index=[2, 14], y=0.7580213903743316)\n",
      "graphs_test shape: 216 graphs_test[0] shape: Data(x=[36, 37], edge_index=[2, 11], y=0.845)\n"
     ]
    },
    {
     "name": "stderr",
     "output_type": "stream",
     "text": [
      "/Users/haox/opt/anaconda3/lib/python3.8/site-packages/torch_geometric/deprecation.py:13: UserWarning: 'data.DataLoader' is deprecated, use 'loader.DataLoader' instead\n",
      "  warnings.warn(out)\n"
     ]
    },
    {
     "name": "stdout",
     "output_type": "stream",
     "text": [
      "Epoch: 009, Train MAE: 0.1629, Train MSE: 0.0486\n",
      "Epoch: 009, Test MAE: 0.0476, Test MSE: 0.0048\n",
      "Time: 15.084944725036621\n",
      "---------------------------------------- 0.4\n",
      "++++++++++++++++++++++++++++++\n",
      "kc1_DDN+GIN_0.35 kc1_DDN+GIN_0.4\n",
      "36 36\n",
      "---------------------------------------- 0.45\n",
      "++++++++++++++++++++++++++++++\n",
      "kc1_DDN+GIN_0.4 kc1_DDN+GIN_0.45\n",
      "36 36\n",
      "========================================\n",
      "25 KDDCup09_appetency\n",
      "---------------------------------------- 0.05\n",
      "graphs_train shape: 1196 graphs_train[0] shape: Data(x=[36, 37], edge_index=[2, 14], y=0.81)\n",
      "graphs_test shape: 7 graphs_test[0] shape: Data(x=[36, 37], edge_index=[2, 15], y=0.977)\n"
     ]
    },
    {
     "name": "stderr",
     "output_type": "stream",
     "text": [
      "/Users/haox/opt/anaconda3/lib/python3.8/site-packages/torch_geometric/deprecation.py:13: UserWarning: 'data.DataLoader' is deprecated, use 'loader.DataLoader' instead\n",
      "  warnings.warn(out)\n"
     ]
    },
    {
     "name": "stdout",
     "output_type": "stream",
     "text": [
      "Epoch: 009, Train MAE: 0.1008, Train MSE: 0.0200\n",
      "Epoch: 009, Test MAE: 0.1013, Test MSE: 0.0103\n",
      "Time: 3.0876762866973877\n",
      "---------------------------------------- 0.1\n",
      "graphs_train shape: 2449 graphs_train[0] shape: Data(x=[36, 37], edge_index=[2, 14], y=0.17222222222222222)\n",
      "graphs_test shape: 7 graphs_test[0] shape: Data(x=[36, 37], edge_index=[2, 15], y=0.977)\n"
     ]
    },
    {
     "name": "stderr",
     "output_type": "stream",
     "text": [
      "/Users/haox/opt/anaconda3/lib/python3.8/site-packages/torch_geometric/deprecation.py:13: UserWarning: 'data.DataLoader' is deprecated, use 'loader.DataLoader' instead\n",
      "  warnings.warn(out)\n"
     ]
    },
    {
     "name": "stdout",
     "output_type": "stream",
     "text": [
      "Epoch: 009, Train MAE: 0.0826, Train MSE: 0.0204\n",
      "Epoch: 009, Test MAE: 0.0848, Test MSE: 0.0072\n",
      "Time: 8.614195108413696\n",
      "---------------------------------------- 0.15000000000000002\n",
      "graphs_train shape: 3579 graphs_train[0] shape: Data(x=[36, 37], edge_index=[2, 14], y=0.17222222222222222)\n",
      "graphs_test shape: 7 graphs_test[0] shape: Data(x=[36, 37], edge_index=[2, 15], y=0.977)\n"
     ]
    },
    {
     "name": "stderr",
     "output_type": "stream",
     "text": [
      "/Users/haox/opt/anaconda3/lib/python3.8/site-packages/torch_geometric/deprecation.py:13: UserWarning: 'data.DataLoader' is deprecated, use 'loader.DataLoader' instead\n",
      "  warnings.warn(out)\n"
     ]
    },
    {
     "name": "stdout",
     "output_type": "stream",
     "text": [
      "Epoch: 009, Train MAE: 0.1031, Train MSE: 0.0221\n",
      "Epoch: 009, Test MAE: 0.1504, Test MSE: 0.0226\n",
      "Time: 12.812825918197632\n",
      "---------------------------------------- 0.2\n",
      "graphs_train shape: 4427 graphs_train[0] shape: Data(x=[36, 37], edge_index=[2, 14], y=0.7580213903743316)\n",
      "graphs_test shape: 7 graphs_test[0] shape: Data(x=[36, 37], edge_index=[2, 15], y=0.977)\n"
     ]
    },
    {
     "name": "stderr",
     "output_type": "stream",
     "text": [
      "/Users/haox/opt/anaconda3/lib/python3.8/site-packages/torch_geometric/deprecation.py:13: UserWarning: 'data.DataLoader' is deprecated, use 'loader.DataLoader' instead\n",
      "  warnings.warn(out)\n"
     ]
    },
    {
     "name": "stdout",
     "output_type": "stream",
     "text": [
      "Epoch: 009, Train MAE: 0.1079, Train MSE: 0.0217\n",
      "Epoch: 009, Test MAE: 0.1792, Test MSE: 0.0321\n",
      "Time: 16.027704000473022\n",
      "---------------------------------------- 0.25\n",
      "graphs_train shape: 5269 graphs_train[0] shape: Data(x=[36, 37], edge_index=[2, 14], y=0.7580213903743316)\n",
      "graphs_test shape: 7 graphs_test[0] shape: Data(x=[36, 37], edge_index=[2, 15], y=0.977)\n"
     ]
    },
    {
     "name": "stderr",
     "output_type": "stream",
     "text": [
      "/Users/haox/opt/anaconda3/lib/python3.8/site-packages/torch_geometric/deprecation.py:13: UserWarning: 'data.DataLoader' is deprecated, use 'loader.DataLoader' instead\n",
      "  warnings.warn(out)\n"
     ]
    },
    {
     "name": "stdout",
     "output_type": "stream",
     "text": [
      "Epoch: 009, Train MAE: 0.1051, Train MSE: 0.0227\n",
      "Epoch: 009, Test MAE: 0.1326, Test MSE: 0.0176\n",
      "Time: 19.32514214515686\n",
      "---------------------------------------- 0.3\n",
      "graphs_train shape: 6337 graphs_train[0] shape: Data(x=[36, 37], edge_index=[2, 14], y=0.7580213903743316)\n",
      "graphs_test shape: 7 graphs_test[0] shape: Data(x=[36, 37], edge_index=[2, 15], y=0.977)\n"
     ]
    },
    {
     "name": "stderr",
     "output_type": "stream",
     "text": [
      "/Users/haox/opt/anaconda3/lib/python3.8/site-packages/torch_geometric/deprecation.py:13: UserWarning: 'data.DataLoader' is deprecated, use 'loader.DataLoader' instead\n",
      "  warnings.warn(out)\n"
     ]
    },
    {
     "name": "stdout",
     "output_type": "stream",
     "text": [
      "Epoch: 009, Train MAE: 0.1347, Train MSE: 0.0395\n",
      "Epoch: 009, Test MAE: 0.1611, Test MSE: 0.0260\n",
      "Time: 22.624892950057983\n",
      "---------------------------------------- 0.35000000000000003\n",
      "++++++++++++++++++++++++++++++\n",
      "KDDCup09_appetency_DDN+GIN_0.3 KDDCup09_appetency_DDN+GIN_0.35\n",
      "28 28\n",
      "---------------------------------------- 0.4\n",
      "graphs_train shape: 7190 graphs_train[0] shape: Data(x=[36, 37], edge_index=[2, 14], y=0.7580213903743316)\n",
      "graphs_test shape: 7 graphs_test[0] shape: Data(x=[36, 37], edge_index=[2, 15], y=0.977)\n"
     ]
    },
    {
     "name": "stderr",
     "output_type": "stream",
     "text": [
      "/Users/haox/opt/anaconda3/lib/python3.8/site-packages/torch_geometric/deprecation.py:13: UserWarning: 'data.DataLoader' is deprecated, use 'loader.DataLoader' instead\n",
      "  warnings.warn(out)\n"
     ]
    },
    {
     "name": "stdout",
     "output_type": "stream",
     "text": [
      "Epoch: 009, Train MAE: 0.1551, Train MSE: 0.0473\n",
      "Epoch: 009, Test MAE: 0.1617, Test MSE: 0.0261\n",
      "Time: 24.258748054504395\n",
      "---------------------------------------- 0.45\n",
      "graphs_train shape: 7376 graphs_train[0] shape: Data(x=[36, 37], edge_index=[2, 14], y=0.7580213903743316)\n",
      "graphs_test shape: 7 graphs_test[0] shape: Data(x=[36, 37], edge_index=[2, 15], y=0.977)\n"
     ]
    },
    {
     "name": "stderr",
     "output_type": "stream",
     "text": [
      "/Users/haox/opt/anaconda3/lib/python3.8/site-packages/torch_geometric/deprecation.py:13: UserWarning: 'data.DataLoader' is deprecated, use 'loader.DataLoader' instead\n",
      "  warnings.warn(out)\n"
     ]
    },
    {
     "name": "stdout",
     "output_type": "stream",
     "text": [
      "Epoch: 009, Train MAE: 0.1570, Train MSE: 0.0472\n",
      "Epoch: 009, Test MAE: 0.1643, Test MSE: 0.0270\n",
      "Time: 25.592582941055298\n",
      "========================================\n",
      "26 kr-vs-kp\n",
      "---------------------------------------- 0.05\n",
      "graphs_train shape: 505 graphs_train[0] shape: Data(x=[36, 37], edge_index=[2, 14], y=0.81)\n",
      "graphs_test shape: 266 graphs_test[0] shape: Data(x=[36, 37], edge_index=[2, 13], y=0.9584999999999999)\n"
     ]
    },
    {
     "name": "stderr",
     "output_type": "stream",
     "text": [
      "/Users/haox/opt/anaconda3/lib/python3.8/site-packages/torch_geometric/deprecation.py:13: UserWarning: 'data.DataLoader' is deprecated, use 'loader.DataLoader' instead\n",
      "  warnings.warn(out)\n"
     ]
    },
    {
     "name": "stdout",
     "output_type": "stream",
     "text": [
      "Epoch: 009, Train MAE: 0.0737, Train MSE: 0.0139\n",
      "Epoch: 009, Test MAE: 0.1462, Test MSE: 0.0463\n",
      "Time: 2.1189749240875244\n",
      "---------------------------------------- 0.1\n",
      "graphs_train shape: 1781 graphs_train[0] shape: Data(x=[36, 37], edge_index=[2, 14], y=0.17222222222222222)\n",
      "graphs_test shape: 266 graphs_test[0] shape: Data(x=[36, 37], edge_index=[2, 13], y=0.9584999999999999)\n"
     ]
    },
    {
     "name": "stderr",
     "output_type": "stream",
     "text": [
      "/Users/haox/opt/anaconda3/lib/python3.8/site-packages/torch_geometric/deprecation.py:13: UserWarning: 'data.DataLoader' is deprecated, use 'loader.DataLoader' instead\n",
      "  warnings.warn(out)\n"
     ]
    },
    {
     "name": "stdout",
     "output_type": "stream",
     "text": [
      "Epoch: 009, Train MAE: 0.0922, Train MSE: 0.0253\n",
      "Epoch: 009, Test MAE: 0.1445, Test MSE: 0.0520\n",
      "Time: 6.475632905960083\n",
      "---------------------------------------- 0.15000000000000002\n",
      "graphs_train shape: 3104 graphs_train[0] shape: Data(x=[36, 37], edge_index=[2, 14], y=0.17222222222222222)\n",
      "graphs_test shape: 266 graphs_test[0] shape: Data(x=[36, 37], edge_index=[2, 13], y=0.9584999999999999)\n"
     ]
    },
    {
     "name": "stderr",
     "output_type": "stream",
     "text": [
      "/Users/haox/opt/anaconda3/lib/python3.8/site-packages/torch_geometric/deprecation.py:13: UserWarning: 'data.DataLoader' is deprecated, use 'loader.DataLoader' instead\n",
      "  warnings.warn(out)\n"
     ]
    },
    {
     "name": "stdout",
     "output_type": "stream",
     "text": [
      "Epoch: 009, Train MAE: 0.0882, Train MSE: 0.0213\n",
      "Epoch: 009, Test MAE: 0.1441, Test MSE: 0.0477\n",
      "Time: 10.645395040512085\n",
      "---------------------------------------- 0.2\n",
      "graphs_train shape: 4168 graphs_train[0] shape: Data(x=[36, 37], edge_index=[2, 14], y=0.7580213903743316)\n",
      "graphs_test shape: 266 graphs_test[0] shape: Data(x=[36, 37], edge_index=[2, 13], y=0.9584999999999999)\n"
     ]
    },
    {
     "name": "stderr",
     "output_type": "stream",
     "text": [
      "/Users/haox/opt/anaconda3/lib/python3.8/site-packages/torch_geometric/deprecation.py:13: UserWarning: 'data.DataLoader' is deprecated, use 'loader.DataLoader' instead\n",
      "  warnings.warn(out)\n"
     ]
    },
    {
     "name": "stdout",
     "output_type": "stream",
     "text": [
      "Epoch: 009, Train MAE: 0.0986, Train MSE: 0.0204\n",
      "Epoch: 009, Test MAE: 0.1787, Test MSE: 0.0375\n",
      "Time: 14.254987001419067\n",
      "---------------------------------------- 0.25\n",
      "graphs_train shape: 4384 graphs_train[0] shape: Data(x=[36, 37], edge_index=[2, 14], y=0.7580213903743316)\n",
      "graphs_test shape: 266 graphs_test[0] shape: Data(x=[36, 37], edge_index=[2, 13], y=0.9584999999999999)\n"
     ]
    },
    {
     "name": "stderr",
     "output_type": "stream",
     "text": [
      "/Users/haox/opt/anaconda3/lib/python3.8/site-packages/torch_geometric/deprecation.py:13: UserWarning: 'data.DataLoader' is deprecated, use 'loader.DataLoader' instead\n",
      "  warnings.warn(out)\n"
     ]
    },
    {
     "name": "stdout",
     "output_type": "stream",
     "text": [
      "Epoch: 009, Train MAE: 0.0971, Train MSE: 0.0200\n",
      "Epoch: 009, Test MAE: 0.1776, Test MSE: 0.0375\n",
      "Time: 15.311775922775269\n",
      "---------------------------------------- 0.3\n",
      "graphs_train shape: 5658 graphs_train[0] shape: Data(x=[36, 37], edge_index=[2, 14], y=0.7580213903743316)\n",
      "graphs_test shape: 266 graphs_test[0] shape: Data(x=[36, 37], edge_index=[2, 13], y=0.9584999999999999)\n"
     ]
    },
    {
     "name": "stderr",
     "output_type": "stream",
     "text": [
      "/Users/haox/opt/anaconda3/lib/python3.8/site-packages/torch_geometric/deprecation.py:13: UserWarning: 'data.DataLoader' is deprecated, use 'loader.DataLoader' instead\n",
      "  warnings.warn(out)\n"
     ]
    },
    {
     "name": "stdout",
     "output_type": "stream",
     "text": [
      "Epoch: 009, Train MAE: 0.1152, Train MSE: 0.0271\n",
      "Epoch: 009, Test MAE: 0.1734, Test MSE: 0.0376\n",
      "Time: 19.007508993148804\n",
      "---------------------------------------- 0.35000000000000003\n",
      "graphs_train shape: 6078 graphs_train[0] shape: Data(x=[36, 37], edge_index=[2, 14], y=0.7580213903743316)\n",
      "graphs_test shape: 266 graphs_test[0] shape: Data(x=[36, 37], edge_index=[2, 13], y=0.9584999999999999)\n"
     ]
    },
    {
     "name": "stderr",
     "output_type": "stream",
     "text": [
      "/Users/haox/opt/anaconda3/lib/python3.8/site-packages/torch_geometric/deprecation.py:13: UserWarning: 'data.DataLoader' is deprecated, use 'loader.DataLoader' instead\n",
      "  warnings.warn(out)\n"
     ]
    },
    {
     "name": "stdout",
     "output_type": "stream",
     "text": [
      "Epoch: 009, Train MAE: 0.1348, Train MSE: 0.0413\n",
      "Epoch: 009, Test MAE: 0.1741, Test MSE: 0.0375\n",
      "Time: 20.586102962493896\n",
      "---------------------------------------- 0.4\n",
      "graphs_train shape: 6931 graphs_train[0] shape: Data(x=[36, 37], edge_index=[2, 14], y=0.7580213903743316)\n",
      "graphs_test shape: 266 graphs_test[0] shape: Data(x=[36, 37], edge_index=[2, 13], y=0.9584999999999999)\n"
     ]
    },
    {
     "name": "stderr",
     "output_type": "stream",
     "text": [
      "/Users/haox/opt/anaconda3/lib/python3.8/site-packages/torch_geometric/deprecation.py:13: UserWarning: 'data.DataLoader' is deprecated, use 'loader.DataLoader' instead\n",
      "  warnings.warn(out)\n"
     ]
    },
    {
     "name": "stdout",
     "output_type": "stream",
     "text": [
      "Epoch: 009, Train MAE: 0.1547, Train MSE: 0.0480\n",
      "Epoch: 009, Test MAE: 0.1774, Test MSE: 0.0375\n",
      "Time: 23.67216396331787\n",
      "---------------------------------------- 0.45\n",
      "graphs_train shape: 7117 graphs_train[0] shape: Data(x=[36, 37], edge_index=[2, 14], y=0.7580213903743316)\n",
      "graphs_test shape: 266 graphs_test[0] shape: Data(x=[36, 37], edge_index=[2, 13], y=0.9584999999999999)\n"
     ]
    },
    {
     "name": "stderr",
     "output_type": "stream",
     "text": [
      "/Users/haox/opt/anaconda3/lib/python3.8/site-packages/torch_geometric/deprecation.py:13: UserWarning: 'data.DataLoader' is deprecated, use 'loader.DataLoader' instead\n",
      "  warnings.warn(out)\n"
     ]
    },
    {
     "name": "stdout",
     "output_type": "stream",
     "text": [
      "Epoch: 009, Train MAE: 0.1551, Train MSE: 0.0468\n",
      "Epoch: 009, Test MAE: 0.1804, Test MSE: 0.0376\n",
      "Time: 25.706177949905396\n",
      "========================================\n",
      "27 mfeat-factors\n",
      "---------------------------------------- 0.05\n",
      "graphs_train shape: 1203 graphs_train[0] shape: Data(x=[36, 37], edge_index=[2, 14], y=0.81)\n",
      "graphs_test shape: 216 graphs_test[0] shape: Data(x=[36, 37], edge_index=[2, 14], y=0.957)\n"
     ]
    },
    {
     "name": "stderr",
     "output_type": "stream",
     "text": [
      "/Users/haox/opt/anaconda3/lib/python3.8/site-packages/torch_geometric/deprecation.py:13: UserWarning: 'data.DataLoader' is deprecated, use 'loader.DataLoader' instead\n",
      "  warnings.warn(out)\n"
     ]
    },
    {
     "name": "stdout",
     "output_type": "stream",
     "text": [
      "Epoch: 009, Train MAE: 0.0824, Train MSE: 0.0198\n",
      "Epoch: 009, Test MAE: 0.0777, Test MSE: 0.0243\n",
      "Time: 4.429119110107422\n",
      "---------------------------------------- 0.1\n",
      "graphs_train shape: 2240 graphs_train[0] shape: Data(x=[36, 37], edge_index=[2, 14], y=0.17222222222222222)\n",
      "graphs_test shape: 216 graphs_test[0] shape: Data(x=[36, 37], edge_index=[2, 14], y=0.957)\n"
     ]
    },
    {
     "name": "stderr",
     "output_type": "stream",
     "text": [
      "/Users/haox/opt/anaconda3/lib/python3.8/site-packages/torch_geometric/deprecation.py:13: UserWarning: 'data.DataLoader' is deprecated, use 'loader.DataLoader' instead\n",
      "  warnings.warn(out)\n"
     ]
    },
    {
     "name": "stdout",
     "output_type": "stream",
     "text": [
      "Epoch: 009, Train MAE: 0.0886, Train MSE: 0.0188\n",
      "Epoch: 009, Test MAE: 0.0994, Test MSE: 0.0226\n",
      "Time: 7.89564323425293\n",
      "---------------------------------------- 0.15000000000000002\n",
      "graphs_train shape: 3822 graphs_train[0] shape: Data(x=[36, 37], edge_index=[2, 14], y=0.17222222222222222)\n",
      "graphs_test shape: 216 graphs_test[0] shape: Data(x=[36, 37], edge_index=[2, 14], y=0.957)\n"
     ]
    },
    {
     "name": "stderr",
     "output_type": "stream",
     "text": [
      "/Users/haox/opt/anaconda3/lib/python3.8/site-packages/torch_geometric/deprecation.py:13: UserWarning: 'data.DataLoader' is deprecated, use 'loader.DataLoader' instead\n",
      "  warnings.warn(out)\n"
     ]
    },
    {
     "name": "stdout",
     "output_type": "stream",
     "text": [
      "Epoch: 009, Train MAE: 0.0976, Train MSE: 0.0247\n",
      "Epoch: 009, Test MAE: 0.1006, Test MSE: 0.0226\n",
      "Time: 12.999925136566162\n",
      "---------------------------------------- 0.2\n",
      "graphs_train shape: 4218 graphs_train[0] shape: Data(x=[36, 37], edge_index=[2, 14], y=0.7580213903743316)\n",
      "graphs_test shape: 216 graphs_test[0] shape: Data(x=[36, 37], edge_index=[2, 14], y=0.957)\n"
     ]
    },
    {
     "name": "stderr",
     "output_type": "stream",
     "text": [
      "/Users/haox/opt/anaconda3/lib/python3.8/site-packages/torch_geometric/deprecation.py:13: UserWarning: 'data.DataLoader' is deprecated, use 'loader.DataLoader' instead\n",
      "  warnings.warn(out)\n"
     ]
    },
    {
     "name": "stdout",
     "output_type": "stream",
     "text": [
      "Epoch: 009, Train MAE: 0.0983, Train MSE: 0.0216\n",
      "Epoch: 009, Test MAE: 0.1199, Test MSE: 0.0244\n",
      "Time: 14.306387901306152\n",
      "---------------------------------------- 0.25\n",
      "graphs_train shape: 5060 graphs_train[0] shape: Data(x=[36, 37], edge_index=[2, 14], y=0.7580213903743316)\n",
      "graphs_test shape: 216 graphs_test[0] shape: Data(x=[36, 37], edge_index=[2, 14], y=0.957)\n"
     ]
    },
    {
     "name": "stderr",
     "output_type": "stream",
     "text": [
      "/Users/haox/opt/anaconda3/lib/python3.8/site-packages/torch_geometric/deprecation.py:13: UserWarning: 'data.DataLoader' is deprecated, use 'loader.DataLoader' instead\n",
      "  warnings.warn(out)\n"
     ]
    },
    {
     "name": "stdout",
     "output_type": "stream",
     "text": [
      "Epoch: 009, Train MAE: 0.1046, Train MSE: 0.0225\n",
      "Epoch: 009, Test MAE: 0.1135, Test MSE: 0.0237\n",
      "Time: 18.069597959518433\n",
      "---------------------------------------- 0.3\n",
      "graphs_train shape: 6128 graphs_train[0] shape: Data(x=[36, 37], edge_index=[2, 14], y=0.7580213903743316)\n",
      "graphs_test shape: 216 graphs_test[0] shape: Data(x=[36, 37], edge_index=[2, 14], y=0.957)\n"
     ]
    },
    {
     "name": "stderr",
     "output_type": "stream",
     "text": [
      "/Users/haox/opt/anaconda3/lib/python3.8/site-packages/torch_geometric/deprecation.py:13: UserWarning: 'data.DataLoader' is deprecated, use 'loader.DataLoader' instead\n",
      "  warnings.warn(out)\n"
     ]
    },
    {
     "name": "stdout",
     "output_type": "stream",
     "text": [
      "Epoch: 009, Train MAE: 0.1350, Train MSE: 0.0401\n",
      "Epoch: 009, Test MAE: 0.1312, Test MSE: 0.0262\n",
      "Time: 21.15895700454712\n",
      "---------------------------------------- 0.35000000000000003\n",
      "++++++++++++++++++++++++++++++\n",
      "mfeat-factors_DDN+GIN_0.3 mfeat-factors_DDN+GIN_0.35\n",
      "28 28\n",
      "---------------------------------------- 0.4\n",
      "graphs_train shape: 6981 graphs_train[0] shape: Data(x=[36, 37], edge_index=[2, 14], y=0.7580213903743316)\n",
      "graphs_test shape: 216 graphs_test[0] shape: Data(x=[36, 37], edge_index=[2, 14], y=0.957)\n"
     ]
    },
    {
     "name": "stderr",
     "output_type": "stream",
     "text": [
      "/Users/haox/opt/anaconda3/lib/python3.8/site-packages/torch_geometric/deprecation.py:13: UserWarning: 'data.DataLoader' is deprecated, use 'loader.DataLoader' instead\n",
      "  warnings.warn(out)\n"
     ]
    },
    {
     "name": "stdout",
     "output_type": "stream",
     "text": [
      "Epoch: 009, Train MAE: 0.1556, Train MSE: 0.0478\n",
      "Epoch: 009, Test MAE: 0.1326, Test MSE: 0.0264\n",
      "Time: 24.565856218338013\n",
      "---------------------------------------- 0.45\n",
      "graphs_train shape: 7167 graphs_train[0] shape: Data(x=[36, 37], edge_index=[2, 14], y=0.7580213903743316)\n",
      "graphs_test shape: 216 graphs_test[0] shape: Data(x=[36, 37], edge_index=[2, 14], y=0.957)\n"
     ]
    },
    {
     "name": "stderr",
     "output_type": "stream",
     "text": [
      "/Users/haox/opt/anaconda3/lib/python3.8/site-packages/torch_geometric/deprecation.py:13: UserWarning: 'data.DataLoader' is deprecated, use 'loader.DataLoader' instead\n",
      "  warnings.warn(out)\n"
     ]
    },
    {
     "name": "stdout",
     "output_type": "stream",
     "text": [
      "Epoch: 009, Train MAE: 0.1570, Train MSE: 0.0474\n",
      "Epoch: 009, Test MAE: 0.1359, Test MSE: 0.0270\n",
      "Time: 23.9466769695282\n",
      "========================================\n",
      "28 MiniBooNE\n",
      "---------------------------------------- 0.05\n",
      "graphs_train shape: 2171 graphs_train[0] shape: Data(x=[36, 37], edge_index=[2, 14], y=0.7580213903743316)\n",
      "graphs_test shape: 216 graphs_test[0] shape: Data(x=[36, 37], edge_index=[2, 14], y=0.8975)\n"
     ]
    },
    {
     "name": "stderr",
     "output_type": "stream",
     "text": [
      "/Users/haox/opt/anaconda3/lib/python3.8/site-packages/torch_geometric/deprecation.py:13: UserWarning: 'data.DataLoader' is deprecated, use 'loader.DataLoader' instead\n",
      "  warnings.warn(out)\n"
     ]
    },
    {
     "name": "stdout",
     "output_type": "stream",
     "text": [
      "Epoch: 009, Train MAE: 0.1707, Train MSE: 0.0360\n",
      "Epoch: 009, Test MAE: 0.1909, Test MSE: 0.0385\n",
      "Time: 7.730971097946167\n",
      "---------------------------------------- 0.1\n",
      "graphs_train shape: 3447 graphs_train[0] shape: Data(x=[36, 37], edge_index=[2, 14], y=0.7580213903743316)\n",
      "graphs_test shape: 216 graphs_test[0] shape: Data(x=[36, 37], edge_index=[2, 14], y=0.8975)\n"
     ]
    },
    {
     "name": "stderr",
     "output_type": "stream",
     "text": [
      "/Users/haox/opt/anaconda3/lib/python3.8/site-packages/torch_geometric/deprecation.py:13: UserWarning: 'data.DataLoader' is deprecated, use 'loader.DataLoader' instead\n",
      "  warnings.warn(out)\n"
     ]
    },
    {
     "name": "stdout",
     "output_type": "stream",
     "text": [
      "Epoch: 009, Train MAE: 0.1002, Train MSE: 0.0209\n",
      "Epoch: 009, Test MAE: 0.0628, Test MSE: 0.0068\n",
      "Time: 11.915137767791748\n",
      "---------------------------------------- 0.15000000000000002\n",
      "graphs_train shape: 5708 graphs_train[0] shape: Data(x=[36, 37], edge_index=[2, 14], y=0.7580213903743316)\n",
      "graphs_test shape: 216 graphs_test[0] shape: Data(x=[36, 37], edge_index=[2, 14], y=0.8975)\n"
     ]
    },
    {
     "name": "stderr",
     "output_type": "stream",
     "text": [
      "/Users/haox/opt/anaconda3/lib/python3.8/site-packages/torch_geometric/deprecation.py:13: UserWarning: 'data.DataLoader' is deprecated, use 'loader.DataLoader' instead\n",
      "  warnings.warn(out)\n"
     ]
    },
    {
     "name": "stdout",
     "output_type": "stream",
     "text": [
      "Epoch: 009, Train MAE: 0.1206, Train MSE: 0.0285\n",
      "Epoch: 009, Test MAE: 0.0477, Test MSE: 0.0059\n",
      "Time: 19.496633291244507\n",
      "---------------------------------------- 0.2\n",
      "graphs_train shape: 6128 graphs_train[0] shape: Data(x=[36, 37], edge_index=[2, 14], y=0.7580213903743316)\n",
      "graphs_test shape: 216 graphs_test[0] shape: Data(x=[36, 37], edge_index=[2, 14], y=0.8975)\n"
     ]
    },
    {
     "name": "stderr",
     "output_type": "stream",
     "text": [
      "/Users/haox/opt/anaconda3/lib/python3.8/site-packages/torch_geometric/deprecation.py:13: UserWarning: 'data.DataLoader' is deprecated, use 'loader.DataLoader' instead\n",
      "  warnings.warn(out)\n"
     ]
    },
    {
     "name": "stdout",
     "output_type": "stream",
     "text": [
      "Epoch: 009, Train MAE: 0.1378, Train MSE: 0.0408\n",
      "Epoch: 009, Test MAE: 0.0532, Test MSE: 0.0061\n",
      "Time: 20.721966981887817\n",
      "---------------------------------------- 0.25\n",
      "graphs_train shape: 6981 graphs_train[0] shape: Data(x=[36, 37], edge_index=[2, 14], y=0.7580213903743316)\n",
      "graphs_test shape: 216 graphs_test[0] shape: Data(x=[36, 37], edge_index=[2, 14], y=0.8975)\n"
     ]
    },
    {
     "name": "stderr",
     "output_type": "stream",
     "text": [
      "/Users/haox/opt/anaconda3/lib/python3.8/site-packages/torch_geometric/deprecation.py:13: UserWarning: 'data.DataLoader' is deprecated, use 'loader.DataLoader' instead\n",
      "  warnings.warn(out)\n"
     ]
    },
    {
     "name": "stdout",
     "output_type": "stream",
     "text": [
      "Epoch: 009, Train MAE: 0.1579, Train MSE: 0.0482\n",
      "Epoch: 009, Test MAE: 0.0548, Test MSE: 0.0061\n",
      "Time: 24.581734895706177\n",
      "---------------------------------------- 0.3\n",
      "graphs_train shape: 7167 graphs_train[0] shape: Data(x=[36, 37], edge_index=[2, 14], y=0.7580213903743316)\n",
      "graphs_test shape: 216 graphs_test[0] shape: Data(x=[36, 37], edge_index=[2, 14], y=0.8975)\n"
     ]
    },
    {
     "name": "stderr",
     "output_type": "stream",
     "text": [
      "/Users/haox/opt/anaconda3/lib/python3.8/site-packages/torch_geometric/deprecation.py:13: UserWarning: 'data.DataLoader' is deprecated, use 'loader.DataLoader' instead\n",
      "  warnings.warn(out)\n"
     ]
    },
    {
     "name": "stdout",
     "output_type": "stream",
     "text": [
      "Epoch: 009, Train MAE: 0.1594, Train MSE: 0.0479\n",
      "Epoch: 009, Test MAE: 0.0568, Test MSE: 0.0063\n",
      "Time: 24.296928882598877\n",
      "---------------------------------------- 0.35000000000000003\n",
      "++++++++++++++++++++++++++++++\n",
      "MiniBooNE_DDN+GIN_0.3 MiniBooNE_DDN+GIN_0.35\n",
      "35 35\n",
      "---------------------------------------- 0.4\n",
      "graphs_train shape: 7383 graphs_train[0] shape: Data(x=[36, 37], edge_index=[2, 14], y=0.7580213903743316)\n",
      "graphs_test shape: 216 graphs_test[0] shape: Data(x=[36, 37], edge_index=[2, 14], y=0.8975)\n"
     ]
    },
    {
     "name": "stderr",
     "output_type": "stream",
     "text": [
      "/Users/haox/opt/anaconda3/lib/python3.8/site-packages/torch_geometric/deprecation.py:13: UserWarning: 'data.DataLoader' is deprecated, use 'loader.DataLoader' instead\n",
      "  warnings.warn(out)\n"
     ]
    },
    {
     "name": "stdout",
     "output_type": "stream",
     "text": [
      "Epoch: 009, Train MAE: 0.1624, Train MSE: 0.0484\n",
      "Epoch: 009, Test MAE: 0.0585, Test MSE: 0.0064\n",
      "Time: 25.910370111465454\n",
      "---------------------------------------- 0.45\n",
      "++++++++++++++++++++++++++++++\n",
      "MiniBooNE_DDN+GIN_0.4 MiniBooNE_DDN+GIN_0.45\n",
      "36 36\n",
      "========================================\n",
      "29 nomao\n",
      "---------------------------------------- 0.05\n",
      "graphs_train shape: 1565 graphs_train[0] shape: Data(x=[36, 37], edge_index=[2, 14], y=0.17222222222222222)\n",
      "graphs_test shape: 216 graphs_test[0] shape: Data(x=[36, 37], edge_index=[2, 14], y=0.926)\n"
     ]
    },
    {
     "name": "stderr",
     "output_type": "stream",
     "text": [
      "/Users/haox/opt/anaconda3/lib/python3.8/site-packages/torch_geometric/deprecation.py:13: UserWarning: 'data.DataLoader' is deprecated, use 'loader.DataLoader' instead\n",
      "  warnings.warn(out)\n"
     ]
    },
    {
     "name": "stdout",
     "output_type": "stream",
     "text": [
      "Epoch: 009, Train MAE: 0.1207, Train MSE: 0.0337\n",
      "Epoch: 009, Test MAE: 0.0890, Test MSE: 0.0191\n",
      "Time: 6.0115132331848145\n",
      "---------------------------------------- 0.1\n",
      "graphs_train shape: 3154 graphs_train[0] shape: Data(x=[36, 37], edge_index=[2, 14], y=0.17222222222222222)\n",
      "graphs_test shape: 216 graphs_test[0] shape: Data(x=[36, 37], edge_index=[2, 14], y=0.926)\n"
     ]
    },
    {
     "name": "stderr",
     "output_type": "stream",
     "text": [
      "/Users/haox/opt/anaconda3/lib/python3.8/site-packages/torch_geometric/deprecation.py:13: UserWarning: 'data.DataLoader' is deprecated, use 'loader.DataLoader' instead\n",
      "  warnings.warn(out)\n"
     ]
    },
    {
     "name": "stdout",
     "output_type": "stream",
     "text": [
      "Epoch: 009, Train MAE: 0.1007, Train MSE: 0.0258\n",
      "Epoch: 009, Test MAE: 0.0514, Test MSE: 0.0132\n",
      "Time: 12.025453090667725\n",
      "---------------------------------------- 0.15000000000000002\n",
      "graphs_train shape: 4218 graphs_train[0] shape: Data(x=[36, 37], edge_index=[2, 14], y=0.7580213903743316)\n",
      "graphs_test shape: 216 graphs_test[0] shape: Data(x=[36, 37], edge_index=[2, 14], y=0.926)\n"
     ]
    },
    {
     "name": "stderr",
     "output_type": "stream",
     "text": [
      "/Users/haox/opt/anaconda3/lib/python3.8/site-packages/torch_geometric/deprecation.py:13: UserWarning: 'data.DataLoader' is deprecated, use 'loader.DataLoader' instead\n",
      "  warnings.warn(out)\n"
     ]
    },
    {
     "name": "stdout",
     "output_type": "stream",
     "text": [
      "Epoch: 009, Train MAE: 0.1003, Train MSE: 0.0219\n",
      "Epoch: 009, Test MAE: 0.1025, Test MSE: 0.0145\n",
      "Time: 15.018622159957886\n",
      "---------------------------------------- 0.2\n",
      "graphs_train shape: 4434 graphs_train[0] shape: Data(x=[36, 37], edge_index=[2, 14], y=0.7580213903743316)\n",
      "graphs_test shape: 216 graphs_test[0] shape: Data(x=[36, 37], edge_index=[2, 14], y=0.926)\n"
     ]
    },
    {
     "name": "stderr",
     "output_type": "stream",
     "text": [
      "/Users/haox/opt/anaconda3/lib/python3.8/site-packages/torch_geometric/deprecation.py:13: UserWarning: 'data.DataLoader' is deprecated, use 'loader.DataLoader' instead\n",
      "  warnings.warn(out)\n"
     ]
    },
    {
     "name": "stdout",
     "output_type": "stream",
     "text": [
      "Epoch: 009, Train MAE: 0.1030, Train MSE: 0.0212\n",
      "Epoch: 009, Test MAE: 0.1171, Test MSE: 0.0170\n",
      "Time: 15.28124475479126\n",
      "---------------------------------------- 0.25\n",
      "graphs_train shape: 5708 graphs_train[0] shape: Data(x=[36, 37], edge_index=[2, 14], y=0.7580213903743316)\n",
      "graphs_test shape: 216 graphs_test[0] shape: Data(x=[36, 37], edge_index=[2, 14], y=0.926)\n"
     ]
    },
    {
     "name": "stderr",
     "output_type": "stream",
     "text": [
      "/Users/haox/opt/anaconda3/lib/python3.8/site-packages/torch_geometric/deprecation.py:13: UserWarning: 'data.DataLoader' is deprecated, use 'loader.DataLoader' instead\n",
      "  warnings.warn(out)\n"
     ]
    },
    {
     "name": "stdout",
     "output_type": "stream",
     "text": [
      "Epoch: 009, Train MAE: 0.1177, Train MSE: 0.0275\n",
      "Epoch: 009, Test MAE: 0.1035, Test MSE: 0.0147\n",
      "Time: 19.36897301673889\n",
      "---------------------------------------- 0.3\n",
      "graphs_train shape: 6128 graphs_train[0] shape: Data(x=[36, 37], edge_index=[2, 14], y=0.7580213903743316)\n",
      "graphs_test shape: 216 graphs_test[0] shape: Data(x=[36, 37], edge_index=[2, 14], y=0.926)\n"
     ]
    },
    {
     "name": "stderr",
     "output_type": "stream",
     "text": [
      "/Users/haox/opt/anaconda3/lib/python3.8/site-packages/torch_geometric/deprecation.py:13: UserWarning: 'data.DataLoader' is deprecated, use 'loader.DataLoader' instead\n",
      "  warnings.warn(out)\n"
     ]
    },
    {
     "name": "stdout",
     "output_type": "stream",
     "text": [
      "Epoch: 009, Train MAE: 0.1378, Train MSE: 0.0422\n",
      "Epoch: 009, Test MAE: 0.1012, Test MSE: 0.0143\n",
      "Time: 21.253847122192383\n",
      "---------------------------------------- 0.35000000000000003\n",
      "graphs_train shape: 6981 graphs_train[0] shape: Data(x=[36, 37], edge_index=[2, 14], y=0.7580213903743316)\n",
      "graphs_test shape: 216 graphs_test[0] shape: Data(x=[36, 37], edge_index=[2, 14], y=0.926)\n"
     ]
    },
    {
     "name": "stderr",
     "output_type": "stream",
     "text": [
      "/Users/haox/opt/anaconda3/lib/python3.8/site-packages/torch_geometric/deprecation.py:13: UserWarning: 'data.DataLoader' is deprecated, use 'loader.DataLoader' instead\n",
      "  warnings.warn(out)\n"
     ]
    },
    {
     "name": "stdout",
     "output_type": "stream",
     "text": [
      "Epoch: 009, Train MAE: 0.1564, Train MSE: 0.0481\n",
      "Epoch: 009, Test MAE: 0.1115, Test MSE: 0.0160\n",
      "Time: 24.290807008743286\n",
      "---------------------------------------- 0.4\n",
      "graphs_train shape: 7167 graphs_train[0] shape: Data(x=[36, 37], edge_index=[2, 14], y=0.7580213903743316)\n",
      "graphs_test shape: 216 graphs_test[0] shape: Data(x=[36, 37], edge_index=[2, 14], y=0.926)\n"
     ]
    },
    {
     "name": "stderr",
     "output_type": "stream",
     "text": [
      "/Users/haox/opt/anaconda3/lib/python3.8/site-packages/torch_geometric/deprecation.py:13: UserWarning: 'data.DataLoader' is deprecated, use 'loader.DataLoader' instead\n",
      "  warnings.warn(out)\n"
     ]
    },
    {
     "name": "stdout",
     "output_type": "stream",
     "text": [
      "Epoch: 009, Train MAE: 0.1575, Train MSE: 0.0476\n",
      "Epoch: 009, Test MAE: 0.1156, Test MSE: 0.0168\n",
      "Time: 24.96972417831421\n",
      "---------------------------------------- 0.45\n",
      "graphs_train shape: 7383 graphs_train[0] shape: Data(x=[36, 37], edge_index=[2, 14], y=0.7580213903743316)\n",
      "graphs_test shape: 216 graphs_test[0] shape: Data(x=[36, 37], edge_index=[2, 14], y=0.926)\n"
     ]
    },
    {
     "name": "stderr",
     "output_type": "stream",
     "text": [
      "/Users/haox/opt/anaconda3/lib/python3.8/site-packages/torch_geometric/deprecation.py:13: UserWarning: 'data.DataLoader' is deprecated, use 'loader.DataLoader' instead\n",
      "  warnings.warn(out)\n"
     ]
    },
    {
     "name": "stdout",
     "output_type": "stream",
     "text": [
      "Epoch: 009, Train MAE: 0.1622, Train MSE: 0.0492\n",
      "Epoch: 009, Test MAE: 0.1136, Test MSE: 0.0164\n",
      "Time: 25.38488793373108\n",
      "========================================\n",
      "30 numerai28.6\n",
      "---------------------------------------- 0.05\n",
      "---------------------------------------- 0.1\n",
      "graphs_train shape: 186 graphs_train[0] shape: Data(x=[36, 37], edge_index=[2, 14], y=0.5525)\n",
      "graphs_test shape: 216 graphs_test[0] shape: Data(x=[36, 37], edge_index=[2, 14], y=0.5025)\n"
     ]
    },
    {
     "name": "stderr",
     "output_type": "stream",
     "text": [
      "/Users/haox/opt/anaconda3/lib/python3.8/site-packages/torch_geometric/deprecation.py:13: UserWarning: 'data.DataLoader' is deprecated, use 'loader.DataLoader' instead\n",
      "  warnings.warn(out)\n"
     ]
    },
    {
     "name": "stdout",
     "output_type": "stream",
     "text": [
      "Epoch: 009, Train MAE: 0.0177, Train MSE: 0.0009\n",
      "Epoch: 009, Test MAE: 0.0507, Test MSE: 0.0029\n",
      "Time: 0.9316830635070801\n",
      "---------------------------------------- 0.15000000000000002\n",
      "graphs_train shape: 1047 graphs_train[0] shape: Data(x=[36, 37], edge_index=[2, 11], y=0.4525)\n",
      "graphs_test shape: 216 graphs_test[0] shape: Data(x=[36, 37], edge_index=[2, 14], y=0.5025)\n"
     ]
    },
    {
     "name": "stderr",
     "output_type": "stream",
     "text": [
      "/Users/haox/opt/anaconda3/lib/python3.8/site-packages/torch_geometric/deprecation.py:13: UserWarning: 'data.DataLoader' is deprecated, use 'loader.DataLoader' instead\n",
      "  warnings.warn(out)\n"
     ]
    },
    {
     "name": "stdout",
     "output_type": "stream",
     "text": [
      "Epoch: 009, Train MAE: 0.0744, Train MSE: 0.0127\n",
      "Epoch: 009, Test MAE: 0.0482, Test MSE: 0.0026\n",
      "Time: 3.9406282901763916\n",
      "---------------------------------------- 0.2\n",
      "graphs_train shape: 1467 graphs_train[0] shape: Data(x=[36, 37], edge_index=[2, 14], y=0.23099999999999998)\n",
      "graphs_test shape: 216 graphs_test[0] shape: Data(x=[36, 37], edge_index=[2, 14], y=0.5025)\n"
     ]
    },
    {
     "name": "stderr",
     "output_type": "stream",
     "text": [
      "/Users/haox/opt/anaconda3/lib/python3.8/site-packages/torch_geometric/deprecation.py:13: UserWarning: 'data.DataLoader' is deprecated, use 'loader.DataLoader' instead\n",
      "  warnings.warn(out)\n"
     ]
    },
    {
     "name": "stdout",
     "output_type": "stream",
     "text": [
      "Epoch: 009, Train MAE: 0.1245, Train MSE: 0.0337\n",
      "Epoch: 009, Test MAE: 0.0312, Test MSE: 0.0013\n",
      "Time: 5.404850244522095\n",
      "---------------------------------------- 0.25\n",
      "graphs_train shape: 2945 graphs_train[0] shape: Data(x=[36, 37], edge_index=[2, 14], y=0.23099999999999998)\n",
      "graphs_test shape: 216 graphs_test[0] shape: Data(x=[36, 37], edge_index=[2, 14], y=0.5025)\n"
     ]
    },
    {
     "name": "stderr",
     "output_type": "stream",
     "text": [
      "/Users/haox/opt/anaconda3/lib/python3.8/site-packages/torch_geometric/deprecation.py:13: UserWarning: 'data.DataLoader' is deprecated, use 'loader.DataLoader' instead\n",
      "  warnings.warn(out)\n"
     ]
    },
    {
     "name": "stdout",
     "output_type": "stream",
     "text": [
      "Epoch: 009, Train MAE: 0.1458, Train MSE: 0.0413\n",
      "Epoch: 009, Test MAE: 0.0729, Test MSE: 0.0056\n",
      "Time: 10.508095979690552\n",
      "---------------------------------------- 0.3\n",
      "graphs_train shape: 3161 graphs_train[0] shape: Data(x=[36, 37], edge_index=[2, 14], y=0.23099999999999998)\n",
      "graphs_test shape: 216 graphs_test[0] shape: Data(x=[36, 37], edge_index=[2, 14], y=0.5025)\n"
     ]
    },
    {
     "name": "stderr",
     "output_type": "stream",
     "text": [
      "/Users/haox/opt/anaconda3/lib/python3.8/site-packages/torch_geometric/deprecation.py:13: UserWarning: 'data.DataLoader' is deprecated, use 'loader.DataLoader' instead\n",
      "  warnings.warn(out)\n"
     ]
    },
    {
     "name": "stdout",
     "output_type": "stream",
     "text": [
      "Epoch: 009, Train MAE: 0.1463, Train MSE: 0.0419\n",
      "Epoch: 009, Test MAE: 0.0900, Test MSE: 0.0084\n",
      "Time: 11.367023944854736\n",
      "---------------------------------------- 0.35000000000000003\n",
      "graphs_train shape: 4707 graphs_train[0] shape: Data(x=[36, 37], edge_index=[2, 14], y=0.7580213903743316)\n",
      "graphs_test shape: 216 graphs_test[0] shape: Data(x=[36, 37], edge_index=[2, 14], y=0.5025)\n"
     ]
    },
    {
     "name": "stderr",
     "output_type": "stream",
     "text": [
      "/Users/haox/opt/anaconda3/lib/python3.8/site-packages/torch_geometric/deprecation.py:13: UserWarning: 'data.DataLoader' is deprecated, use 'loader.DataLoader' instead\n",
      "  warnings.warn(out)\n"
     ]
    },
    {
     "name": "stdout",
     "output_type": "stream",
     "text": [
      "Epoch: 009, Train MAE: 0.1516, Train MSE: 0.0474\n",
      "Epoch: 009, Test MAE: 0.1725, Test MSE: 0.0300\n",
      "Time: 16.840493202209473\n",
      "---------------------------------------- 0.4\n",
      "graphs_train shape: 5548 graphs_train[0] shape: Data(x=[36, 37], edge_index=[2, 14], y=0.7580213903743316)\n",
      "graphs_test shape: 216 graphs_test[0] shape: Data(x=[36, 37], edge_index=[2, 14], y=0.5025)\n"
     ]
    },
    {
     "name": "stderr",
     "output_type": "stream",
     "text": [
      "/Users/haox/opt/anaconda3/lib/python3.8/site-packages/torch_geometric/deprecation.py:13: UserWarning: 'data.DataLoader' is deprecated, use 'loader.DataLoader' instead\n",
      "  warnings.warn(out)\n"
     ]
    },
    {
     "name": "stdout",
     "output_type": "stream",
     "text": [
      "Epoch: 009, Train MAE: 0.1571, Train MSE: 0.0507\n",
      "Epoch: 009, Test MAE: 0.2168, Test MSE: 0.0473\n",
      "Time: 18.88469123840332\n",
      "---------------------------------------- 0.45\n",
      "graphs_train shape: 6824 graphs_train[0] shape: Data(x=[36, 37], edge_index=[2, 14], y=0.7580213903743316)\n",
      "graphs_test shape: 216 graphs_test[0] shape: Data(x=[36, 37], edge_index=[2, 14], y=0.5025)\n"
     ]
    },
    {
     "name": "stderr",
     "output_type": "stream",
     "text": [
      "/Users/haox/opt/anaconda3/lib/python3.8/site-packages/torch_geometric/deprecation.py:13: UserWarning: 'data.DataLoader' is deprecated, use 'loader.DataLoader' instead\n",
      "  warnings.warn(out)\n"
     ]
    },
    {
     "name": "stdout",
     "output_type": "stream",
     "text": [
      "Epoch: 009, Train MAE: 0.1634, Train MSE: 0.0539\n",
      "Epoch: 009, Test MAE: 0.2635, Test MSE: 0.0697\n",
      "Time: 23.01595711708069\n",
      "========================================\n",
      "31 phoneme\n",
      "---------------------------------------- 0.05\n",
      "graphs_train shape: 1762 graphs_train[0] shape: Data(x=[36, 37], edge_index=[2, 14], y=0.7580213903743316)\n",
      "graphs_test shape: 216 graphs_test[0] shape: Data(x=[36, 37], edge_index=[2, 12], y=0.757)\n"
     ]
    },
    {
     "name": "stderr",
     "output_type": "stream",
     "text": [
      "/Users/haox/opt/anaconda3/lib/python3.8/site-packages/torch_geometric/deprecation.py:13: UserWarning: 'data.DataLoader' is deprecated, use 'loader.DataLoader' instead\n",
      "  warnings.warn(out)\n"
     ]
    },
    {
     "name": "stdout",
     "output_type": "stream",
     "text": [
      "Epoch: 009, Train MAE: 0.1617, Train MSE: 0.0334\n",
      "Epoch: 009, Test MAE: 0.1116, Test MSE: 0.0150\n",
      "Time: 6.113418817520142\n",
      "---------------------------------------- 0.1\n",
      "graphs_train shape: 3425 graphs_train[0] shape: Data(x=[36, 37], edge_index=[2, 14], y=0.7580213903743316)\n",
      "graphs_test shape: 216 graphs_test[0] shape: Data(x=[36, 37], edge_index=[2, 12], y=0.757)\n"
     ]
    },
    {
     "name": "stderr",
     "output_type": "stream",
     "text": [
      "/Users/haox/opt/anaconda3/lib/python3.8/site-packages/torch_geometric/deprecation.py:13: UserWarning: 'data.DataLoader' is deprecated, use 'loader.DataLoader' instead\n",
      "  warnings.warn(out)\n"
     ]
    },
    {
     "name": "stdout",
     "output_type": "stream",
     "text": [
      "Epoch: 009, Train MAE: 0.1257, Train MSE: 0.0239\n",
      "Epoch: 009, Test MAE: 0.0722, Test MSE: 0.0077\n",
      "Time: 11.867285013198853\n",
      "---------------------------------------- 0.15000000000000002\n",
      "graphs_train shape: 5435 graphs_train[0] shape: Data(x=[36, 37], edge_index=[2, 14], y=0.7580213903743316)\n",
      "graphs_test shape: 216 graphs_test[0] shape: Data(x=[36, 37], edge_index=[2, 12], y=0.757)\n"
     ]
    },
    {
     "name": "stderr",
     "output_type": "stream",
     "text": [
      "/Users/haox/opt/anaconda3/lib/python3.8/site-packages/torch_geometric/deprecation.py:13: UserWarning: 'data.DataLoader' is deprecated, use 'loader.DataLoader' instead\n",
      "  warnings.warn(out)\n"
     ]
    },
    {
     "name": "stdout",
     "output_type": "stream",
     "text": [
      "Epoch: 009, Train MAE: 0.1309, Train MSE: 0.0385\n",
      "Epoch: 009, Test MAE: 0.0485, Test MSE: 0.0030\n",
      "Time: 18.20842409133911\n",
      "---------------------------------------- 0.2\n",
      "graphs_train shape: 6145 graphs_train[0] shape: Data(x=[36, 37], edge_index=[2, 14], y=0.7580213903743316)\n",
      "graphs_test shape: 216 graphs_test[0] shape: Data(x=[36, 37], edge_index=[2, 12], y=0.757)\n"
     ]
    },
    {
     "name": "stderr",
     "output_type": "stream",
     "text": [
      "/Users/haox/opt/anaconda3/lib/python3.8/site-packages/torch_geometric/deprecation.py:13: UserWarning: 'data.DataLoader' is deprecated, use 'loader.DataLoader' instead\n",
      "  warnings.warn(out)\n"
     ]
    },
    {
     "name": "stdout",
     "output_type": "stream",
     "text": [
      "Epoch: 009, Train MAE: 0.1384, Train MSE: 0.0415\n",
      "Epoch: 009, Test MAE: 0.0611, Test MSE: 0.0057\n",
      "Time: 21.32275891304016\n",
      "---------------------------------------- 0.25\n",
      "graphs_train shape: 6981 graphs_train[0] shape: Data(x=[36, 37], edge_index=[2, 14], y=0.7580213903743316)\n",
      "graphs_test shape: 216 graphs_test[0] shape: Data(x=[36, 37], edge_index=[2, 12], y=0.757)\n"
     ]
    },
    {
     "name": "stderr",
     "output_type": "stream",
     "text": [
      "/Users/haox/opt/anaconda3/lib/python3.8/site-packages/torch_geometric/deprecation.py:13: UserWarning: 'data.DataLoader' is deprecated, use 'loader.DataLoader' instead\n",
      "  warnings.warn(out)\n"
     ]
    },
    {
     "name": "stdout",
     "output_type": "stream",
     "text": [
      "Epoch: 009, Train MAE: 0.1591, Train MSE: 0.0494\n",
      "Epoch: 009, Test MAE: 0.0602, Test MSE: 0.0055\n",
      "Time: 25.316786289215088\n",
      "---------------------------------------- 0.3\n",
      "graphs_train shape: 7167 graphs_train[0] shape: Data(x=[36, 37], edge_index=[2, 14], y=0.7580213903743316)\n",
      "graphs_test shape: 216 graphs_test[0] shape: Data(x=[36, 37], edge_index=[2, 12], y=0.757)\n"
     ]
    },
    {
     "name": "stderr",
     "output_type": "stream",
     "text": [
      "/Users/haox/opt/anaconda3/lib/python3.8/site-packages/torch_geometric/deprecation.py:13: UserWarning: 'data.DataLoader' is deprecated, use 'loader.DataLoader' instead\n",
      "  warnings.warn(out)\n"
     ]
    },
    {
     "name": "stdout",
     "output_type": "stream",
     "text": [
      "Epoch: 009, Train MAE: 0.1602, Train MSE: 0.0486\n",
      "Epoch: 009, Test MAE: 0.0575, Test MSE: 0.0048\n",
      "Time: 24.892987966537476\n",
      "---------------------------------------- 0.35000000000000003\n",
      "graphs_train shape: 7383 graphs_train[0] shape: Data(x=[36, 37], edge_index=[2, 14], y=0.7580213903743316)\n",
      "graphs_test shape: 216 graphs_test[0] shape: Data(x=[36, 37], edge_index=[2, 12], y=0.757)\n"
     ]
    },
    {
     "name": "stderr",
     "output_type": "stream",
     "text": [
      "/Users/haox/opt/anaconda3/lib/python3.8/site-packages/torch_geometric/deprecation.py:13: UserWarning: 'data.DataLoader' is deprecated, use 'loader.DataLoader' instead\n",
      "  warnings.warn(out)\n"
     ]
    },
    {
     "name": "stdout",
     "output_type": "stream",
     "text": [
      "Epoch: 009, Train MAE: 0.1633, Train MSE: 0.0491\n",
      "Epoch: 009, Test MAE: 0.0563, Test MSE: 0.0045\n",
      "Time: 24.666433095932007\n",
      "---------------------------------------- 0.4\n",
      "++++++++++++++++++++++++++++++\n",
      "phoneme_DDN+GIN_0.35 phoneme_DDN+GIN_0.4\n",
      "36 36\n",
      "---------------------------------------- 0.45\n",
      "graphs_train shape: 7391 graphs_train[0] shape: Data(x=[36, 37], edge_index=[2, 14], y=0.7580213903743316)\n",
      "graphs_test shape: 216 graphs_test[0] shape: Data(x=[36, 37], edge_index=[2, 12], y=0.757)\n"
     ]
    },
    {
     "name": "stderr",
     "output_type": "stream",
     "text": [
      "/Users/haox/opt/anaconda3/lib/python3.8/site-packages/torch_geometric/deprecation.py:13: UserWarning: 'data.DataLoader' is deprecated, use 'loader.DataLoader' instead\n",
      "  warnings.warn(out)\n"
     ]
    },
    {
     "name": "stdout",
     "output_type": "stream",
     "text": [
      "Epoch: 009, Train MAE: 0.1631, Train MSE: 0.0489\n",
      "Epoch: 009, Test MAE: 0.0553, Test MSE: 0.0043\n",
      "Time: 25.289144039154053\n",
      "========================================\n",
      "32 riccardo\n",
      "---------------------------------------- 0.05\n",
      "graphs_train shape: 1771 graphs_train[0] shape: Data(x=[36, 37], edge_index=[2, 14], y=0.17222222222222222)\n",
      "graphs_test shape: 60 graphs_test[0] shape: Data(x=[36, 37], edge_index=[2, 14], y=0.81)\n"
     ]
    },
    {
     "name": "stderr",
     "output_type": "stream",
     "text": [
      "/Users/haox/opt/anaconda3/lib/python3.8/site-packages/torch_geometric/deprecation.py:13: UserWarning: 'data.DataLoader' is deprecated, use 'loader.DataLoader' instead\n",
      "  warnings.warn(out)\n"
     ]
    },
    {
     "name": "stdout",
     "output_type": "stream",
     "text": [
      "Epoch: 009, Train MAE: 0.0985, Train MSE: 0.0285\n",
      "Epoch: 009, Test MAE: 0.1192, Test MSE: 0.0171\n",
      "Time: 6.0507659912109375\n",
      "---------------------------------------- 0.1\n",
      "graphs_train shape: 2396 graphs_train[0] shape: Data(x=[36, 37], edge_index=[2, 14], y=0.17222222222222222)\n",
      "graphs_test shape: 60 graphs_test[0] shape: Data(x=[36, 37], edge_index=[2, 14], y=0.81)\n"
     ]
    },
    {
     "name": "stderr",
     "output_type": "stream",
     "text": [
      "/Users/haox/opt/anaconda3/lib/python3.8/site-packages/torch_geometric/deprecation.py:13: UserWarning: 'data.DataLoader' is deprecated, use 'loader.DataLoader' instead\n",
      "  warnings.warn(out)\n"
     ]
    },
    {
     "name": "stdout",
     "output_type": "stream",
     "text": [
      "Epoch: 009, Train MAE: 0.0831, Train MSE: 0.0201\n",
      "Epoch: 009, Test MAE: 0.0855, Test MSE: 0.0096\n",
      "Time: 8.284670114517212\n",
      "---------------------------------------- 0.15000000000000002\n",
      "graphs_train shape: 4374 graphs_train[0] shape: Data(x=[36, 37], edge_index=[2, 14], y=0.7580213903743316)\n",
      "graphs_test shape: 60 graphs_test[0] shape: Data(x=[36, 37], edge_index=[2, 14], y=0.81)\n"
     ]
    },
    {
     "name": "stderr",
     "output_type": "stream",
     "text": [
      "/Users/haox/opt/anaconda3/lib/python3.8/site-packages/torch_geometric/deprecation.py:13: UserWarning: 'data.DataLoader' is deprecated, use 'loader.DataLoader' instead\n",
      "  warnings.warn(out)\n"
     ]
    },
    {
     "name": "stdout",
     "output_type": "stream",
     "text": [
      "Epoch: 009, Train MAE: 0.1060, Train MSE: 0.0217\n",
      "Epoch: 009, Test MAE: 0.0433, Test MSE: 0.0030\n",
      "Time: 15.333733081817627\n",
      "---------------------------------------- 0.2\n",
      "++++++++++++++++++++++++++++++\n",
      "riccardo_DDN+GIN_0.15 riccardo_DDN+GIN_0.2\n",
      "20 20\n",
      "---------------------------------------- 0.25\n",
      "graphs_train shape: 5432 graphs_train[0] shape: Data(x=[36, 37], edge_index=[2, 14], y=0.7580213903743316)\n",
      "graphs_test shape: 60 graphs_test[0] shape: Data(x=[36, 37], edge_index=[2, 14], y=0.81)\n"
     ]
    },
    {
     "name": "stderr",
     "output_type": "stream",
     "text": [
      "/Users/haox/opt/anaconda3/lib/python3.8/site-packages/torch_geometric/deprecation.py:13: UserWarning: 'data.DataLoader' is deprecated, use 'loader.DataLoader' instead\n",
      "  warnings.warn(out)\n"
     ]
    },
    {
     "name": "stdout",
     "output_type": "stream",
     "text": [
      "Epoch: 009, Train MAE: 0.1160, Train MSE: 0.0282\n",
      "Epoch: 009, Test MAE: 0.0712, Test MSE: 0.0068\n",
      "Time: 19.325720071792603\n",
      "---------------------------------------- 0.3\n",
      "graphs_train shape: 6284 graphs_train[0] shape: Data(x=[36, 37], edge_index=[2, 14], y=0.7580213903743316)\n",
      "graphs_test shape: 60 graphs_test[0] shape: Data(x=[36, 37], edge_index=[2, 14], y=0.81)\n"
     ]
    },
    {
     "name": "stderr",
     "output_type": "stream",
     "text": [
      "/Users/haox/opt/anaconda3/lib/python3.8/site-packages/torch_geometric/deprecation.py:13: UserWarning: 'data.DataLoader' is deprecated, use 'loader.DataLoader' instead\n",
      "  warnings.warn(out)\n"
     ]
    },
    {
     "name": "stdout",
     "output_type": "stream",
     "text": [
      "Epoch: 009, Train MAE: 0.1356, Train MSE: 0.0398\n",
      "Epoch: 009, Test MAE: 0.0454, Test MSE: 0.0031\n",
      "Time: 22.137471914291382\n",
      "---------------------------------------- 0.35000000000000003\n",
      "graphs_train shape: 6921 graphs_train[0] shape: Data(x=[36, 37], edge_index=[2, 14], y=0.7580213903743316)\n",
      "graphs_test shape: 60 graphs_test[0] shape: Data(x=[36, 37], edge_index=[2, 14], y=0.81)\n"
     ]
    },
    {
     "name": "stderr",
     "output_type": "stream",
     "text": [
      "/Users/haox/opt/anaconda3/lib/python3.8/site-packages/torch_geometric/deprecation.py:13: UserWarning: 'data.DataLoader' is deprecated, use 'loader.DataLoader' instead\n",
      "  warnings.warn(out)\n"
     ]
    },
    {
     "name": "stdout",
     "output_type": "stream",
     "text": [
      "Epoch: 009, Train MAE: 0.1538, Train MSE: 0.0473\n",
      "Epoch: 009, Test MAE: 0.0450, Test MSE: 0.0031\n",
      "Time: 23.302950143814087\n",
      "---------------------------------------- 0.4\n",
      "graphs_train shape: 7142 graphs_train[0] shape: Data(x=[36, 37], edge_index=[2, 14], y=0.7580213903743316)\n",
      "graphs_test shape: 60 graphs_test[0] shape: Data(x=[36, 37], edge_index=[2, 14], y=0.81)\n"
     ]
    },
    {
     "name": "stderr",
     "output_type": "stream",
     "text": [
      "/Users/haox/opt/anaconda3/lib/python3.8/site-packages/torch_geometric/deprecation.py:13: UserWarning: 'data.DataLoader' is deprecated, use 'loader.DataLoader' instead\n",
      "  warnings.warn(out)\n"
     ]
    },
    {
     "name": "stdout",
     "output_type": "stream",
     "text": [
      "Epoch: 009, Train MAE: 0.1561, Train MSE: 0.0476\n",
      "Epoch: 009, Test MAE: 0.0454, Test MSE: 0.0031\n",
      "Time: 24.51485323905945\n",
      "---------------------------------------- 0.45\n",
      "graphs_train shape: 7323 graphs_train[0] shape: Data(x=[36, 37], edge_index=[2, 14], y=0.7580213903743316)\n",
      "graphs_test shape: 60 graphs_test[0] shape: Data(x=[36, 37], edge_index=[2, 14], y=0.81)\n"
     ]
    },
    {
     "name": "stderr",
     "output_type": "stream",
     "text": [
      "/Users/haox/opt/anaconda3/lib/python3.8/site-packages/torch_geometric/deprecation.py:13: UserWarning: 'data.DataLoader' is deprecated, use 'loader.DataLoader' instead\n",
      "  warnings.warn(out)\n"
     ]
    },
    {
     "name": "stdout",
     "output_type": "stream",
     "text": [
      "Epoch: 009, Train MAE: 0.1575, Train MSE: 0.0473\n",
      "Epoch: 009, Test MAE: 0.0441, Test MSE: 0.0030\n",
      "Time: 24.889101028442383\n",
      "========================================\n",
      "33 robert\n",
      "---------------------------------------- 0.05\n",
      "---------------------------------------- 0.1\n",
      "---------------------------------------- 0.15000000000000002\n",
      "graphs_train shape: 420 graphs_train[0] shape: Data(x=[36, 37], edge_index=[2, 11], y=0.224)\n",
      "graphs_test shape: 8 graphs_test[0] shape: Data(x=[36, 37], edge_index=[2, 11], y=0.269)\n"
     ]
    },
    {
     "name": "stderr",
     "output_type": "stream",
     "text": [
      "/Users/haox/opt/anaconda3/lib/python3.8/site-packages/torch_geometric/deprecation.py:13: UserWarning: 'data.DataLoader' is deprecated, use 'loader.DataLoader' instead\n",
      "  warnings.warn(out)\n"
     ]
    },
    {
     "name": "stdout",
     "output_type": "stream",
     "text": [
      "Epoch: 009, Train MAE: 0.1747, Train MSE: 0.0329\n",
      "Epoch: 009, Test MAE: 0.1305, Test MSE: 0.0199\n",
      "Time: 1.5291368961334229\n",
      "---------------------------------------- 0.2\n",
      "graphs_train shape: 606 graphs_train[0] shape: Data(x=[36, 37], edge_index=[2, 11], y=0.224)\n",
      "graphs_test shape: 8 graphs_test[0] shape: Data(x=[36, 37], edge_index=[2, 11], y=0.269)\n"
     ]
    },
    {
     "name": "stderr",
     "output_type": "stream",
     "text": [
      "/Users/haox/opt/anaconda3/lib/python3.8/site-packages/torch_geometric/deprecation.py:13: UserWarning: 'data.DataLoader' is deprecated, use 'loader.DataLoader' instead\n",
      "  warnings.warn(out)\n"
     ]
    },
    {
     "name": "stdout",
     "output_type": "stream",
     "text": [
      "Epoch: 009, Train MAE: 0.1574, Train MSE: 0.0332\n",
      "Epoch: 009, Test MAE: 0.2050, Test MSE: 0.0449\n",
      "Time: 2.181087017059326\n",
      "---------------------------------------- 0.25\n",
      "graphs_train shape: 1459 graphs_train[0] shape: Data(x=[36, 37], edge_index=[2, 11], y=0.4525)\n",
      "graphs_test shape: 8 graphs_test[0] shape: Data(x=[36, 37], edge_index=[2, 11], y=0.269)\n"
     ]
    },
    {
     "name": "stderr",
     "output_type": "stream",
     "text": [
      "/Users/haox/opt/anaconda3/lib/python3.8/site-packages/torch_geometric/deprecation.py:13: UserWarning: 'data.DataLoader' is deprecated, use 'loader.DataLoader' instead\n",
      "  warnings.warn(out)\n"
     ]
    },
    {
     "name": "stdout",
     "output_type": "stream",
     "text": [
      "Epoch: 009, Train MAE: 0.1052, Train MSE: 0.0241\n",
      "Epoch: 009, Test MAE: 0.2786, Test MSE: 0.0805\n",
      "Time: 5.041516065597534\n",
      "---------------------------------------- 0.3\n",
      "++++++++++++++++++++++++++++++\n",
      "robert_DDN+GIN_0.25 robert_DDN+GIN_0.3\n",
      "9 9\n",
      "---------------------------------------- 0.35000000000000003\n",
      "graphs_train shape: 2527 graphs_train[0] shape: Data(x=[36, 37], edge_index=[2, 14], y=0.23099999999999998)\n",
      "graphs_test shape: 8 graphs_test[0] shape: Data(x=[36, 37], edge_index=[2, 11], y=0.269)\n"
     ]
    },
    {
     "name": "stderr",
     "output_type": "stream",
     "text": [
      "/Users/haox/opt/anaconda3/lib/python3.8/site-packages/torch_geometric/deprecation.py:13: UserWarning: 'data.DataLoader' is deprecated, use 'loader.DataLoader' instead\n",
      "  warnings.warn(out)\n"
     ]
    },
    {
     "name": "stdout",
     "output_type": "stream",
     "text": [
      "Epoch: 009, Train MAE: 0.1404, Train MSE: 0.0376\n",
      "Epoch: 009, Test MAE: 0.3076, Test MSE: 0.0975\n",
      "Time: 8.672075033187866\n",
      "---------------------------------------- 0.4\n",
      "graphs_train shape: 3369 graphs_train[0] shape: Data(x=[36, 37], edge_index=[2, 14], y=0.23099999999999998)\n",
      "graphs_test shape: 8 graphs_test[0] shape: Data(x=[36, 37], edge_index=[2, 11], y=0.269)\n"
     ]
    },
    {
     "name": "stderr",
     "output_type": "stream",
     "text": [
      "/Users/haox/opt/anaconda3/lib/python3.8/site-packages/torch_geometric/deprecation.py:13: UserWarning: 'data.DataLoader' is deprecated, use 'loader.DataLoader' instead\n",
      "  warnings.warn(out)\n"
     ]
    },
    {
     "name": "stdout",
     "output_type": "stream",
     "text": [
      "Epoch: 009, Train MAE: 0.1431, Train MSE: 0.0404\n",
      "Epoch: 009, Test MAE: 0.3818, Test MSE: 0.1487\n",
      "Time: 11.19522500038147\n",
      "---------------------------------------- 0.45\n",
      "graphs_train shape: 3765 graphs_train[0] shape: Data(x=[36, 37], edge_index=[2, 14], y=0.7580213903743316)\n",
      "graphs_test shape: 8 graphs_test[0] shape: Data(x=[36, 37], edge_index=[2, 11], y=0.269)\n"
     ]
    },
    {
     "name": "stderr",
     "output_type": "stream",
     "text": [
      "/Users/haox/opt/anaconda3/lib/python3.8/site-packages/torch_geometric/deprecation.py:13: UserWarning: 'data.DataLoader' is deprecated, use 'loader.DataLoader' instead\n",
      "  warnings.warn(out)\n"
     ]
    },
    {
     "name": "stdout",
     "output_type": "stream",
     "text": [
      "Epoch: 009, Train MAE: 0.1446, Train MSE: 0.0402\n",
      "Epoch: 009, Test MAE: 0.3969, Test MSE: 0.1604\n",
      "Time: 13.270822048187256\n",
      "========================================\n",
      "34 segment\n",
      "---------------------------------------- 0.05\n",
      "graphs_train shape: 1565 graphs_train[0] shape: Data(x=[36, 37], edge_index=[2, 14], y=0.17222222222222222)\n",
      "graphs_test shape: 216 graphs_test[0] shape: Data(x=[36, 37], edge_index=[2, 13], y=0.795)\n"
     ]
    },
    {
     "name": "stderr",
     "output_type": "stream",
     "text": [
      "/Users/haox/opt/anaconda3/lib/python3.8/site-packages/torch_geometric/deprecation.py:13: UserWarning: 'data.DataLoader' is deprecated, use 'loader.DataLoader' instead\n",
      "  warnings.warn(out)\n"
     ]
    },
    {
     "name": "stdout",
     "output_type": "stream",
     "text": [
      "Epoch: 009, Train MAE: 0.1176, Train MSE: 0.0325\n",
      "Epoch: 009, Test MAE: 0.1230, Test MSE: 0.0306\n",
      "Time: 5.653995037078857\n",
      "---------------------------------------- 0.1\n",
      "graphs_train shape: 3154 graphs_train[0] shape: Data(x=[36, 37], edge_index=[2, 14], y=0.17222222222222222)\n",
      "graphs_test shape: 216 graphs_test[0] shape: Data(x=[36, 37], edge_index=[2, 13], y=0.795)\n"
     ]
    },
    {
     "name": "stderr",
     "output_type": "stream",
     "text": [
      "/Users/haox/opt/anaconda3/lib/python3.8/site-packages/torch_geometric/deprecation.py:13: UserWarning: 'data.DataLoader' is deprecated, use 'loader.DataLoader' instead\n",
      "  warnings.warn(out)\n"
     ]
    },
    {
     "name": "stdout",
     "output_type": "stream",
     "text": [
      "Epoch: 009, Train MAE: 0.0816, Train MSE: 0.0199\n",
      "Epoch: 009, Test MAE: 0.0933, Test MSE: 0.0170\n",
      "Time: 11.115002155303955\n",
      "---------------------------------------- 0.15000000000000002\n",
      "graphs_train shape: 4218 graphs_train[0] shape: Data(x=[36, 37], edge_index=[2, 14], y=0.7580213903743316)\n",
      "graphs_test shape: 216 graphs_test[0] shape: Data(x=[36, 37], edge_index=[2, 13], y=0.795)\n"
     ]
    },
    {
     "name": "stderr",
     "output_type": "stream",
     "text": [
      "/Users/haox/opt/anaconda3/lib/python3.8/site-packages/torch_geometric/deprecation.py:13: UserWarning: 'data.DataLoader' is deprecated, use 'loader.DataLoader' instead\n",
      "  warnings.warn(out)\n"
     ]
    },
    {
     "name": "stdout",
     "output_type": "stream",
     "text": [
      "Epoch: 009, Train MAE: 0.1032, Train MSE: 0.0216\n",
      "Epoch: 009, Test MAE: 0.1148, Test MSE: 0.0173\n",
      "Time: 14.683182001113892\n",
      "---------------------------------------- 0.2\n",
      "graphs_train shape: 4434 graphs_train[0] shape: Data(x=[36, 37], edge_index=[2, 14], y=0.7580213903743316)\n",
      "graphs_test shape: 216 graphs_test[0] shape: Data(x=[36, 37], edge_index=[2, 13], y=0.795)\n"
     ]
    },
    {
     "name": "stderr",
     "output_type": "stream",
     "text": [
      "/Users/haox/opt/anaconda3/lib/python3.8/site-packages/torch_geometric/deprecation.py:13: UserWarning: 'data.DataLoader' is deprecated, use 'loader.DataLoader' instead\n",
      "  warnings.warn(out)\n"
     ]
    },
    {
     "name": "stdout",
     "output_type": "stream",
     "text": [
      "Epoch: 009, Train MAE: 0.1035, Train MSE: 0.0212\n",
      "Epoch: 009, Test MAE: 0.1175, Test MSE: 0.0179\n",
      "Time: 15.479768991470337\n",
      "---------------------------------------- 0.25\n",
      "graphs_train shape: 5912 graphs_train[0] shape: Data(x=[36, 37], edge_index=[2, 14], y=0.7580213903743316)\n",
      "graphs_test shape: 216 graphs_test[0] shape: Data(x=[36, 37], edge_index=[2, 13], y=0.795)\n"
     ]
    },
    {
     "name": "stderr",
     "output_type": "stream",
     "text": [
      "/Users/haox/opt/anaconda3/lib/python3.8/site-packages/torch_geometric/deprecation.py:13: UserWarning: 'data.DataLoader' is deprecated, use 'loader.DataLoader' instead\n",
      "  warnings.warn(out)\n"
     ]
    },
    {
     "name": "stdout",
     "output_type": "stream",
     "text": [
      "Epoch: 009, Train MAE: 0.1332, Train MSE: 0.0381\n",
      "Epoch: 009, Test MAE: 0.1261, Test MSE: 0.0199\n",
      "Time: 20.156187772750854\n",
      "---------------------------------------- 0.3\n",
      "graphs_train shape: 6128 graphs_train[0] shape: Data(x=[36, 37], edge_index=[2, 14], y=0.7580213903743316)\n",
      "graphs_test shape: 216 graphs_test[0] shape: Data(x=[36, 37], edge_index=[2, 13], y=0.795)\n"
     ]
    },
    {
     "name": "stderr",
     "output_type": "stream",
     "text": [
      "/Users/haox/opt/anaconda3/lib/python3.8/site-packages/torch_geometric/deprecation.py:13: UserWarning: 'data.DataLoader' is deprecated, use 'loader.DataLoader' instead\n",
      "  warnings.warn(out)\n"
     ]
    },
    {
     "name": "stdout",
     "output_type": "stream",
     "text": [
      "Epoch: 009, Train MAE: 0.1340, Train MSE: 0.0388\n",
      "Epoch: 009, Test MAE: 0.1182, Test MSE: 0.0180\n",
      "Time: 20.787497997283936\n",
      "---------------------------------------- 0.35000000000000003\n",
      "graphs_train shape: 6981 graphs_train[0] shape: Data(x=[36, 37], edge_index=[2, 14], y=0.7580213903743316)\n",
      "graphs_test shape: 216 graphs_test[0] shape: Data(x=[36, 37], edge_index=[2, 13], y=0.795)\n"
     ]
    },
    {
     "name": "stderr",
     "output_type": "stream",
     "text": [
      "/Users/haox/opt/anaconda3/lib/python3.8/site-packages/torch_geometric/deprecation.py:13: UserWarning: 'data.DataLoader' is deprecated, use 'loader.DataLoader' instead\n",
      "  warnings.warn(out)\n"
     ]
    },
    {
     "name": "stdout",
     "output_type": "stream",
     "text": [
      "Epoch: 009, Train MAE: 0.1538, Train MSE: 0.0461\n",
      "Epoch: 009, Test MAE: 0.1181, Test MSE: 0.0180\n",
      "Time: 24.34140682220459\n",
      "---------------------------------------- 0.4\n",
      "graphs_train shape: 7167 graphs_train[0] shape: Data(x=[36, 37], edge_index=[2, 14], y=0.7580213903743316)\n",
      "graphs_test shape: 216 graphs_test[0] shape: Data(x=[36, 37], edge_index=[2, 13], y=0.795)\n"
     ]
    },
    {
     "name": "stderr",
     "output_type": "stream",
     "text": [
      "/Users/haox/opt/anaconda3/lib/python3.8/site-packages/torch_geometric/deprecation.py:13: UserWarning: 'data.DataLoader' is deprecated, use 'loader.DataLoader' instead\n",
      "  warnings.warn(out)\n"
     ]
    },
    {
     "name": "stdout",
     "output_type": "stream",
     "text": [
      "Epoch: 009, Train MAE: 0.1548, Train MSE: 0.0455\n",
      "Epoch: 009, Test MAE: 0.1207, Test MSE: 0.0186\n",
      "Time: 25.178786039352417\n",
      "---------------------------------------- 0.45\n",
      "graphs_train shape: 7383 graphs_train[0] shape: Data(x=[36, 37], edge_index=[2, 14], y=0.7580213903743316)\n",
      "graphs_test shape: 216 graphs_test[0] shape: Data(x=[36, 37], edge_index=[2, 13], y=0.795)\n"
     ]
    },
    {
     "name": "stderr",
     "output_type": "stream",
     "text": [
      "/Users/haox/opt/anaconda3/lib/python3.8/site-packages/torch_geometric/deprecation.py:13: UserWarning: 'data.DataLoader' is deprecated, use 'loader.DataLoader' instead\n",
      "  warnings.warn(out)\n"
     ]
    },
    {
     "name": "stdout",
     "output_type": "stream",
     "text": [
      "Epoch: 009, Train MAE: 0.1576, Train MSE: 0.0459\n",
      "Epoch: 009, Test MAE: 0.1223, Test MSE: 0.0190\n",
      "Time: 25.39951992034912\n",
      "========================================\n",
      "35 shuttle\n",
      "---------------------------------------- 0.05\n",
      "graphs_train shape: 999 graphs_train[0] shape: Data(x=[36, 37], edge_index=[2, 14], y=0.81)\n",
      "graphs_test shape: 204 graphs_test[0] shape: Data(x=[36, 37], edge_index=[2, 13], y=0.8420000000000001)\n"
     ]
    },
    {
     "name": "stderr",
     "output_type": "stream",
     "text": [
      "/Users/haox/opt/anaconda3/lib/python3.8/site-packages/torch_geometric/deprecation.py:13: UserWarning: 'data.DataLoader' is deprecated, use 'loader.DataLoader' instead\n",
      "  warnings.warn(out)\n"
     ]
    },
    {
     "name": "stdout",
     "output_type": "stream",
     "text": [
      "Epoch: 009, Train MAE: 0.1124, Train MSE: 0.0219\n",
      "Epoch: 009, Test MAE: 0.0982, Test MSE: 0.0115\n",
      "Time: 3.5775890350341797\n",
      "---------------------------------------- 0.1\n",
      "graphs_train shape: 2252 graphs_train[0] shape: Data(x=[36, 37], edge_index=[2, 14], y=0.17222222222222222)\n",
      "graphs_test shape: 204 graphs_test[0] shape: Data(x=[36, 37], edge_index=[2, 13], y=0.8420000000000001)\n"
     ]
    },
    {
     "name": "stderr",
     "output_type": "stream",
     "text": [
      "/Users/haox/opt/anaconda3/lib/python3.8/site-packages/torch_geometric/deprecation.py:13: UserWarning: 'data.DataLoader' is deprecated, use 'loader.DataLoader' instead\n",
      "  warnings.warn(out)\n"
     ]
    },
    {
     "name": "stdout",
     "output_type": "stream",
     "text": [
      "Epoch: 009, Train MAE: 0.0883, Train MSE: 0.0201\n",
      "Epoch: 009, Test MAE: 0.0886, Test MSE: 0.0095\n",
      "Time: 6.312251806259155\n",
      "---------------------------------------- 0.15000000000000002\n",
      "graphs_train shape: 3166 graphs_train[0] shape: Data(x=[36, 37], edge_index=[2, 14], y=0.17222222222222222)\n",
      "graphs_test shape: 204 graphs_test[0] shape: Data(x=[36, 37], edge_index=[2, 13], y=0.8420000000000001)\n"
     ]
    },
    {
     "name": "stderr",
     "output_type": "stream",
     "text": [
      "/Users/haox/opt/anaconda3/lib/python3.8/site-packages/torch_geometric/deprecation.py:13: UserWarning: 'data.DataLoader' is deprecated, use 'loader.DataLoader' instead\n",
      "  warnings.warn(out)\n"
     ]
    },
    {
     "name": "stdout",
     "output_type": "stream",
     "text": [
      "Epoch: 009, Train MAE: 0.0936, Train MSE: 0.0182\n",
      "Epoch: 009, Test MAE: 0.1207, Test MSE: 0.0171\n",
      "Time: 6.441011905670166\n",
      "---------------------------------------- 0.2\n",
      "graphs_train shape: 4230 graphs_train[0] shape: Data(x=[36, 37], edge_index=[2, 14], y=0.7580213903743316)\n",
      "graphs_test shape: 204 graphs_test[0] shape: Data(x=[36, 37], edge_index=[2, 13], y=0.8420000000000001)\n"
     ]
    },
    {
     "name": "stderr",
     "output_type": "stream",
     "text": [
      "/Users/haox/opt/anaconda3/lib/python3.8/site-packages/torch_geometric/deprecation.py:13: UserWarning: 'data.DataLoader' is deprecated, use 'loader.DataLoader' instead\n",
      "  warnings.warn(out)\n"
     ]
    },
    {
     "name": "stdout",
     "output_type": "stream",
     "text": [
      "Epoch: 009, Train MAE: 0.1401, Train MSE: 0.0282\n",
      "Epoch: 009, Test MAE: 0.2215, Test MSE: 0.0522\n",
      "Time: 8.0919349193573\n",
      "---------------------------------------- 0.25\n",
      "graphs_train shape: 5072 graphs_train[0] shape: Data(x=[36, 37], edge_index=[2, 14], y=0.7580213903743316)\n",
      "graphs_test shape: 204 graphs_test[0] shape: Data(x=[36, 37], edge_index=[2, 13], y=0.8420000000000001)\n"
     ]
    },
    {
     "name": "stderr",
     "output_type": "stream",
     "text": [
      "/Users/haox/opt/anaconda3/lib/python3.8/site-packages/torch_geometric/deprecation.py:13: UserWarning: 'data.DataLoader' is deprecated, use 'loader.DataLoader' instead\n",
      "  warnings.warn(out)\n"
     ]
    },
    {
     "name": "stdout",
     "output_type": "stream",
     "text": [
      "Epoch: 009, Train MAE: 0.1059, Train MSE: 0.0202\n",
      "Epoch: 009, Test MAE: 0.1682, Test MSE: 0.0312\n",
      "Time: 9.733320951461792\n",
      "---------------------------------------- 0.3\n",
      "graphs_train shape: 5924 graphs_train[0] shape: Data(x=[36, 37], edge_index=[2, 14], y=0.7580213903743316)\n",
      "graphs_test shape: 204 graphs_test[0] shape: Data(x=[36, 37], edge_index=[2, 13], y=0.8420000000000001)\n"
     ]
    },
    {
     "name": "stderr",
     "output_type": "stream",
     "text": [
      "/Users/haox/opt/anaconda3/lib/python3.8/site-packages/torch_geometric/deprecation.py:13: UserWarning: 'data.DataLoader' is deprecated, use 'loader.DataLoader' instead\n",
      "  warnings.warn(out)\n"
     ]
    },
    {
     "name": "stdout",
     "output_type": "stream",
     "text": [
      "Epoch: 009, Train MAE: 0.1316, Train MSE: 0.0369\n",
      "Epoch: 009, Test MAE: 0.1725, Test MSE: 0.0327\n",
      "Time: 11.178782939910889\n",
      "---------------------------------------- 0.35000000000000003\n",
      "graphs_train shape: 6140 graphs_train[0] shape: Data(x=[36, 37], edge_index=[2, 14], y=0.7580213903743316)\n",
      "graphs_test shape: 204 graphs_test[0] shape: Data(x=[36, 37], edge_index=[2, 13], y=0.8420000000000001)\n"
     ]
    },
    {
     "name": "stderr",
     "output_type": "stream",
     "text": [
      "/Users/haox/opt/anaconda3/lib/python3.8/site-packages/torch_geometric/deprecation.py:13: UserWarning: 'data.DataLoader' is deprecated, use 'loader.DataLoader' instead\n",
      "  warnings.warn(out)\n"
     ]
    },
    {
     "name": "stdout",
     "output_type": "stream",
     "text": [
      "Epoch: 009, Train MAE: 0.1310, Train MSE: 0.0366\n",
      "Epoch: 009, Test MAE: 0.1652, Test MSE: 0.0302\n",
      "Time: 11.540143251419067\n",
      "---------------------------------------- 0.4\n",
      "graphs_train shape: 6993 graphs_train[0] shape: Data(x=[36, 37], edge_index=[2, 14], y=0.7580213903743316)\n",
      "graphs_test shape: 204 graphs_test[0] shape: Data(x=[36, 37], edge_index=[2, 13], y=0.8420000000000001)\n"
     ]
    },
    {
     "name": "stderr",
     "output_type": "stream",
     "text": [
      "/Users/haox/opt/anaconda3/lib/python3.8/site-packages/torch_geometric/deprecation.py:13: UserWarning: 'data.DataLoader' is deprecated, use 'loader.DataLoader' instead\n",
      "  warnings.warn(out)\n"
     ]
    },
    {
     "name": "stdout",
     "output_type": "stream",
     "text": [
      "Epoch: 009, Train MAE: 0.1503, Train MSE: 0.0439\n",
      "Epoch: 009, Test MAE: 0.1567, Test MSE: 0.0274\n",
      "Time: 13.258452892303467\n",
      "---------------------------------------- 0.45\n",
      "graphs_train shape: 7179 graphs_train[0] shape: Data(x=[36, 37], edge_index=[2, 14], y=0.7580213903743316)\n",
      "graphs_test shape: 204 graphs_test[0] shape: Data(x=[36, 37], edge_index=[2, 13], y=0.8420000000000001)\n"
     ]
    },
    {
     "name": "stderr",
     "output_type": "stream",
     "text": [
      "/Users/haox/opt/anaconda3/lib/python3.8/site-packages/torch_geometric/deprecation.py:13: UserWarning: 'data.DataLoader' is deprecated, use 'loader.DataLoader' instead\n",
      "  warnings.warn(out)\n"
     ]
    },
    {
     "name": "stdout",
     "output_type": "stream",
     "text": [
      "Epoch: 009, Train MAE: 0.1501, Train MSE: 0.0427\n",
      "Epoch: 009, Test MAE: 0.1668, Test MSE: 0.0307\n",
      "Time: 13.43412709236145\n",
      "========================================\n",
      "36 sylvine\n",
      "---------------------------------------- 0.05\n",
      "graphs_train shape: 1469 graphs_train[0] shape: Data(x=[36, 37], edge_index=[2, 14], y=0.17222222222222222)\n",
      "graphs_test shape: 216 graphs_test[0] shape: Data(x=[36, 37], edge_index=[2, 14], y=0.8865000000000001)\n"
     ]
    },
    {
     "name": "stderr",
     "output_type": "stream",
     "text": [
      "/Users/haox/opt/anaconda3/lib/python3.8/site-packages/torch_geometric/deprecation.py:13: UserWarning: 'data.DataLoader' is deprecated, use 'loader.DataLoader' instead\n",
      "  warnings.warn(out)\n"
     ]
    },
    {
     "name": "stdout",
     "output_type": "stream",
     "text": [
      "Epoch: 009, Train MAE: 0.0939, Train MSE: 0.0258\n",
      "Epoch: 009, Test MAE: 0.0559, Test MSE: 0.0095\n",
      "Time: 2.9807190895080566\n",
      "---------------------------------------- 0.1\n",
      "graphs_train shape: 4218 graphs_train[0] shape: Data(x=[36, 37], edge_index=[2, 14], y=0.7580213903743316)\n",
      "graphs_test shape: 216 graphs_test[0] shape: Data(x=[36, 37], edge_index=[2, 14], y=0.8865000000000001)\n"
     ]
    },
    {
     "name": "stderr",
     "output_type": "stream",
     "text": [
      "/Users/haox/opt/anaconda3/lib/python3.8/site-packages/torch_geometric/deprecation.py:13: UserWarning: 'data.DataLoader' is deprecated, use 'loader.DataLoader' instead\n",
      "  warnings.warn(out)\n"
     ]
    },
    {
     "name": "stdout",
     "output_type": "stream",
     "text": [
      "Epoch: 009, Train MAE: 0.1010, Train MSE: 0.0223\n",
      "Epoch: 009, Test MAE: 0.0793, Test MSE: 0.0085\n",
      "Time: 7.958686828613281\n",
      "---------------------------------------- 0.15000000000000002\n",
      "++++++++++++++++++++++++++++++\n",
      "sylvine_DDN+GIN_0.1 sylvine_DDN+GIN_0.15\n",
      "20 20\n",
      "---------------------------------------- 0.2\n",
      "graphs_train shape: 5492 graphs_train[0] shape: Data(x=[36, 37], edge_index=[2, 14], y=0.7580213903743316)\n",
      "graphs_test shape: 216 graphs_test[0] shape: Data(x=[36, 37], edge_index=[2, 14], y=0.8865000000000001)\n"
     ]
    },
    {
     "name": "stderr",
     "output_type": "stream",
     "text": [
      "/Users/haox/opt/anaconda3/lib/python3.8/site-packages/torch_geometric/deprecation.py:13: UserWarning: 'data.DataLoader' is deprecated, use 'loader.DataLoader' instead\n",
      "  warnings.warn(out)\n"
     ]
    },
    {
     "name": "stdout",
     "output_type": "stream",
     "text": [
      "Epoch: 009, Train MAE: 0.1139, Train MSE: 0.0252\n",
      "Epoch: 009, Test MAE: 0.0923, Test MSE: 0.0102\n",
      "Time: 10.279207944869995\n",
      "---------------------------------------- 0.25\n",
      "graphs_train shape: 6128 graphs_train[0] shape: Data(x=[36, 37], edge_index=[2, 14], y=0.7580213903743316)\n",
      "graphs_test shape: 216 graphs_test[0] shape: Data(x=[36, 37], edge_index=[2, 14], y=0.8865000000000001)\n"
     ]
    },
    {
     "name": "stderr",
     "output_type": "stream",
     "text": [
      "/Users/haox/opt/anaconda3/lib/python3.8/site-packages/torch_geometric/deprecation.py:13: UserWarning: 'data.DataLoader' is deprecated, use 'loader.DataLoader' instead\n",
      "  warnings.warn(out)\n"
     ]
    },
    {
     "name": "stdout",
     "output_type": "stream",
     "text": [
      "Epoch: 009, Train MAE: 0.1337, Train MSE: 0.0382\n",
      "Epoch: 009, Test MAE: 0.1065, Test MSE: 0.0127\n",
      "Time: 11.491955995559692\n",
      "---------------------------------------- 0.3\n",
      "graphs_train shape: 6981 graphs_train[0] shape: Data(x=[36, 37], edge_index=[2, 14], y=0.7580213903743316)\n",
      "graphs_test shape: 216 graphs_test[0] shape: Data(x=[36, 37], edge_index=[2, 14], y=0.8865000000000001)\n"
     ]
    },
    {
     "name": "stderr",
     "output_type": "stream",
     "text": [
      "/Users/haox/opt/anaconda3/lib/python3.8/site-packages/torch_geometric/deprecation.py:13: UserWarning: 'data.DataLoader' is deprecated, use 'loader.DataLoader' instead\n",
      "  warnings.warn(out)\n"
     ]
    },
    {
     "name": "stdout",
     "output_type": "stream",
     "text": [
      "Epoch: 009, Train MAE: 0.1532, Train MSE: 0.0455\n",
      "Epoch: 009, Test MAE: 0.1036, Test MSE: 0.0122\n",
      "Time: 13.444252014160156\n",
      "---------------------------------------- 0.35000000000000003\n",
      "graphs_train shape: 6986 graphs_train[0] shape: Data(x=[36, 37], edge_index=[2, 14], y=0.7580213903743316)\n",
      "graphs_test shape: 216 graphs_test[0] shape: Data(x=[36, 37], edge_index=[2, 14], y=0.8865000000000001)\n"
     ]
    },
    {
     "name": "stderr",
     "output_type": "stream",
     "text": [
      "/Users/haox/opt/anaconda3/lib/python3.8/site-packages/torch_geometric/deprecation.py:13: UserWarning: 'data.DataLoader' is deprecated, use 'loader.DataLoader' instead\n",
      "  warnings.warn(out)\n"
     ]
    },
    {
     "name": "stdout",
     "output_type": "stream",
     "text": [
      "Epoch: 009, Train MAE: 0.1534, Train MSE: 0.0456\n",
      "Epoch: 009, Test MAE: 0.1031, Test MSE: 0.0121\n",
      "Time: 13.119048118591309\n",
      "---------------------------------------- 0.4\n",
      "graphs_train shape: 7167 graphs_train[0] shape: Data(x=[36, 37], edge_index=[2, 14], y=0.7580213903743316)\n",
      "graphs_test shape: 216 graphs_test[0] shape: Data(x=[36, 37], edge_index=[2, 14], y=0.8865000000000001)\n"
     ]
    },
    {
     "name": "stderr",
     "output_type": "stream",
     "text": [
      "/Users/haox/opt/anaconda3/lib/python3.8/site-packages/torch_geometric/deprecation.py:13: UserWarning: 'data.DataLoader' is deprecated, use 'loader.DataLoader' instead\n",
      "  warnings.warn(out)\n"
     ]
    },
    {
     "name": "stdout",
     "output_type": "stream",
     "text": [
      "Epoch: 009, Train MAE: 0.1536, Train MSE: 0.0445\n",
      "Epoch: 009, Test MAE: 0.1101, Test MSE: 0.0135\n",
      "Time: 13.588068962097168\n",
      "---------------------------------------- 0.45\n",
      "graphs_train shape: 7383 graphs_train[0] shape: Data(x=[36, 37], edge_index=[2, 14], y=0.7580213903743316)\n",
      "graphs_test shape: 216 graphs_test[0] shape: Data(x=[36, 37], edge_index=[2, 14], y=0.8865000000000001)\n"
     ]
    },
    {
     "name": "stderr",
     "output_type": "stream",
     "text": [
      "/Users/haox/opt/anaconda3/lib/python3.8/site-packages/torch_geometric/deprecation.py:13: UserWarning: 'data.DataLoader' is deprecated, use 'loader.DataLoader' instead\n",
      "  warnings.warn(out)\n"
     ]
    },
    {
     "name": "stdout",
     "output_type": "stream",
     "text": [
      "Epoch: 009, Train MAE: 0.1569, Train MSE: 0.0453\n",
      "Epoch: 009, Test MAE: 0.1106, Test MSE: 0.0136\n",
      "Time: 14.079009056091309\n",
      "========================================\n",
      "37 vehicle\n",
      "---------------------------------------- 0.05\n",
      "graphs_train shape: 1694 graphs_train[0] shape: Data(x=[36, 37], edge_index=[2, 14], y=0.23099999999999998)\n",
      "graphs_test shape: 216 graphs_test[0] shape: Data(x=[36, 37], edge_index=[2, 14], y=0.5508274231678487)\n"
     ]
    },
    {
     "name": "stderr",
     "output_type": "stream",
     "text": [
      "/Users/haox/opt/anaconda3/lib/python3.8/site-packages/torch_geometric/deprecation.py:13: UserWarning: 'data.DataLoader' is deprecated, use 'loader.DataLoader' instead\n",
      "  warnings.warn(out)\n"
     ]
    },
    {
     "name": "stdout",
     "output_type": "stream",
     "text": [
      "Epoch: 009, Train MAE: 0.1224, Train MSE: 0.0458\n",
      "Epoch: 009, Test MAE: 0.1280, Test MSE: 0.0252\n",
      "Time: 3.2976179122924805\n",
      "---------------------------------------- 0.1\n",
      "graphs_train shape: 2547 graphs_train[0] shape: Data(x=[36, 37], edge_index=[2, 14], y=0.23099999999999998)\n",
      "graphs_test shape: 216 graphs_test[0] shape: Data(x=[36, 37], edge_index=[2, 14], y=0.5508274231678487)\n"
     ]
    },
    {
     "name": "stderr",
     "output_type": "stream",
     "text": [
      "/Users/haox/opt/anaconda3/lib/python3.8/site-packages/torch_geometric/deprecation.py:13: UserWarning: 'data.DataLoader' is deprecated, use 'loader.DataLoader' instead\n",
      "  warnings.warn(out)\n"
     ]
    },
    {
     "name": "stdout",
     "output_type": "stream",
     "text": [
      "Epoch: 009, Train MAE: 0.1311, Train MSE: 0.0370\n",
      "Epoch: 009, Test MAE: 0.1280, Test MSE: 0.0214\n",
      "Time: 4.878812313079834\n",
      "---------------------------------------- 0.15000000000000002\n",
      "graphs_train shape: 4530 graphs_train[0] shape: Data(x=[36, 37], edge_index=[2, 14], y=0.7580213903743316)\n",
      "graphs_test shape: 216 graphs_test[0] shape: Data(x=[36, 37], edge_index=[2, 14], y=0.5508274231678487)\n"
     ]
    },
    {
     "name": "stderr",
     "output_type": "stream",
     "text": [
      "/Users/haox/opt/anaconda3/lib/python3.8/site-packages/torch_geometric/deprecation.py:13: UserWarning: 'data.DataLoader' is deprecated, use 'loader.DataLoader' instead\n",
      "  warnings.warn(out)\n"
     ]
    },
    {
     "name": "stdout",
     "output_type": "stream",
     "text": [
      "Epoch: 009, Train MAE: 0.1366, Train MSE: 0.0394\n",
      "Epoch: 009, Test MAE: 0.1336, Test MSE: 0.0312\n",
      "Time: 8.703508853912354\n",
      "---------------------------------------- 0.2\n",
      "graphs_train shape: 5120 graphs_train[0] shape: Data(x=[36, 37], edge_index=[2, 14], y=0.7580213903743316)\n",
      "graphs_test shape: 216 graphs_test[0] shape: Data(x=[36, 37], edge_index=[2, 14], y=0.5508274231678487)\n"
     ]
    },
    {
     "name": "stderr",
     "output_type": "stream",
     "text": [
      "/Users/haox/opt/anaconda3/lib/python3.8/site-packages/torch_geometric/deprecation.py:13: UserWarning: 'data.DataLoader' is deprecated, use 'loader.DataLoader' instead\n",
      "  warnings.warn(out)\n"
     ]
    },
    {
     "name": "stdout",
     "output_type": "stream",
     "text": [
      "Epoch: 009, Train MAE: 0.1413, Train MSE: 0.0405\n",
      "Epoch: 009, Test MAE: 0.1420, Test MSE: 0.0359\n",
      "Time: 9.544545888900757\n",
      "---------------------------------------- 0.25\n",
      "graphs_train shape: 6612 graphs_train[0] shape: Data(x=[36, 37], edge_index=[2, 14], y=0.7580213903743316)\n",
      "graphs_test shape: 216 graphs_test[0] shape: Data(x=[36, 37], edge_index=[2, 14], y=0.5508274231678487)\n"
     ]
    },
    {
     "name": "stderr",
     "output_type": "stream",
     "text": [
      "/Users/haox/opt/anaconda3/lib/python3.8/site-packages/torch_geometric/deprecation.py:13: UserWarning: 'data.DataLoader' is deprecated, use 'loader.DataLoader' instead\n",
      "  warnings.warn(out)\n"
     ]
    },
    {
     "name": "stdout",
     "output_type": "stream",
     "text": [
      "Epoch: 009, Train MAE: 0.1532, Train MSE: 0.0450\n",
      "Epoch: 009, Test MAE: 0.1752, Test MSE: 0.0499\n",
      "Time: 12.470201969146729\n",
      "---------------------------------------- 0.3\n",
      "graphs_train shape: 7383 graphs_train[0] shape: Data(x=[36, 37], edge_index=[2, 14], y=0.7580213903743316)\n",
      "graphs_test shape: 216 graphs_test[0] shape: Data(x=[36, 37], edge_index=[2, 14], y=0.5508274231678487)\n"
     ]
    },
    {
     "name": "stderr",
     "output_type": "stream",
     "text": [
      "/Users/haox/opt/anaconda3/lib/python3.8/site-packages/torch_geometric/deprecation.py:13: UserWarning: 'data.DataLoader' is deprecated, use 'loader.DataLoader' instead\n",
      "  warnings.warn(out)\n"
     ]
    },
    {
     "name": "stdout",
     "output_type": "stream",
     "text": [
      "Epoch: 009, Train MAE: 0.1584, Train MSE: 0.0469\n",
      "Epoch: 009, Test MAE: 0.1948, Test MSE: 0.0576\n",
      "Time: 13.981714248657227\n",
      "---------------------------------------- 0.35000000000000003\n",
      "graphs_train shape: 7391 graphs_train[0] shape: Data(x=[36, 37], edge_index=[2, 14], y=0.7580213903743316)\n",
      "graphs_test shape: 216 graphs_test[0] shape: Data(x=[36, 37], edge_index=[2, 14], y=0.5508274231678487)\n"
     ]
    },
    {
     "name": "stderr",
     "output_type": "stream",
     "text": [
      "/Users/haox/opt/anaconda3/lib/python3.8/site-packages/torch_geometric/deprecation.py:13: UserWarning: 'data.DataLoader' is deprecated, use 'loader.DataLoader' instead\n",
      "  warnings.warn(out)\n"
     ]
    },
    {
     "name": "stdout",
     "output_type": "stream",
     "text": [
      "Epoch: 009, Train MAE: 0.1587, Train MSE: 0.0471\n",
      "Epoch: 009, Test MAE: 0.1943, Test MSE: 0.0574\n",
      "Time: 13.957878112792969\n",
      "---------------------------------------- 0.4\n",
      "++++++++++++++++++++++++++++++\n",
      "vehicle_DDN+GIN_0.35 vehicle_DDN+GIN_0.4\n",
      "37 37\n",
      "---------------------------------------- 0.45\n",
      "graphs_train shape: 7595 graphs_train[0] shape: Data(x=[36, 37], edge_index=[2, 14], y=0.7580213903743316)\n",
      "graphs_test shape: 216 graphs_test[0] shape: Data(x=[36, 37], edge_index=[2, 14], y=0.5508274231678487)\n"
     ]
    },
    {
     "name": "stderr",
     "output_type": "stream",
     "text": [
      "/Users/haox/opt/anaconda3/lib/python3.8/site-packages/torch_geometric/deprecation.py:13: UserWarning: 'data.DataLoader' is deprecated, use 'loader.DataLoader' instead\n",
      "  warnings.warn(out)\n"
     ]
    },
    {
     "name": "stdout",
     "output_type": "stream",
     "text": [
      "Epoch: 009, Train MAE: 0.1699, Train MSE: 0.0555\n",
      "Epoch: 009, Test MAE: 0.1877, Test MSE: 0.0547\n",
      "Time: 14.544719696044922\n",
      "========================================\n",
      "38 volkert\n",
      "---------------------------------------- 0.05\n",
      "graphs_train shape: 637 graphs_train[0] shape: Data(x=[36, 37], edge_index=[2, 11], y=0.4525)\n",
      "graphs_test shape: 216 graphs_test[0] shape: Data(x=[36, 37], edge_index=[2, 12], y=0.4497787212787213)\n"
     ]
    },
    {
     "name": "stderr",
     "output_type": "stream",
     "text": [
      "/Users/haox/opt/anaconda3/lib/python3.8/site-packages/torch_geometric/deprecation.py:13: UserWarning: 'data.DataLoader' is deprecated, use 'loader.DataLoader' instead\n",
      "  warnings.warn(out)\n"
     ]
    },
    {
     "name": "stdout",
     "output_type": "stream",
     "text": [
      "Epoch: 009, Train MAE: 0.0726, Train MSE: 0.0109\n",
      "Epoch: 009, Test MAE: 0.1082, Test MSE: 0.0198\n",
      "Time: 1.3789968490600586\n",
      "---------------------------------------- 0.1\n",
      "graphs_train shape: 1675 graphs_train[0] shape: Data(x=[36, 37], edge_index=[2, 14], y=0.23099999999999998)\n",
      "graphs_test shape: 216 graphs_test[0] shape: Data(x=[36, 37], edge_index=[2, 12], y=0.4497787212787213)\n"
     ]
    },
    {
     "name": "stderr",
     "output_type": "stream",
     "text": [
      "/Users/haox/opt/anaconda3/lib/python3.8/site-packages/torch_geometric/deprecation.py:13: UserWarning: 'data.DataLoader' is deprecated, use 'loader.DataLoader' instead\n",
      "  warnings.warn(out)\n"
     ]
    },
    {
     "name": "stdout",
     "output_type": "stream",
     "text": [
      "Epoch: 009, Train MAE: 0.1342, Train MSE: 0.0401\n",
      "Epoch: 009, Test MAE: 0.1637, Test MSE: 0.0348\n",
      "Time: 3.302578926086426\n",
      "---------------------------------------- 0.15000000000000002\n",
      "graphs_train shape: 2949 graphs_train[0] shape: Data(x=[36, 37], edge_index=[2, 14], y=0.23099999999999998)\n",
      "graphs_test shape: 216 graphs_test[0] shape: Data(x=[36, 37], edge_index=[2, 12], y=0.4497787212787213)\n"
     ]
    },
    {
     "name": "stderr",
     "output_type": "stream",
     "text": [
      "/Users/haox/opt/anaconda3/lib/python3.8/site-packages/torch_geometric/deprecation.py:13: UserWarning: 'data.DataLoader' is deprecated, use 'loader.DataLoader' instead\n",
      "  warnings.warn(out)\n"
     ]
    },
    {
     "name": "stdout",
     "output_type": "stream",
     "text": [
      "Epoch: 009, Train MAE: 0.1283, Train MSE: 0.0361\n",
      "Epoch: 009, Test MAE: 0.2239, Test MSE: 0.0582\n",
      "Time: 5.653112173080444\n",
      "---------------------------------------- 0.2\n",
      "++++++++++++++++++++++++++++++\n",
      "volkert_DDN+GIN_0.15 volkert_DDN+GIN_0.2\n",
      "15 15\n",
      "---------------------------------------- 0.25\n",
      "graphs_train shape: 4935 graphs_train[0] shape: Data(x=[36, 37], edge_index=[2, 14], y=0.7580213903743316)\n",
      "graphs_test shape: 216 graphs_test[0] shape: Data(x=[36, 37], edge_index=[2, 12], y=0.4497787212787213)\n"
     ]
    },
    {
     "name": "stderr",
     "output_type": "stream",
     "text": [
      "/Users/haox/opt/anaconda3/lib/python3.8/site-packages/torch_geometric/deprecation.py:13: UserWarning: 'data.DataLoader' is deprecated, use 'loader.DataLoader' instead\n",
      "  warnings.warn(out)\n"
     ]
    },
    {
     "name": "stdout",
     "output_type": "stream",
     "text": [
      "Epoch: 009, Train MAE: 0.1334, Train MSE: 0.0352\n",
      "Epoch: 009, Test MAE: 0.2551, Test MSE: 0.0731\n",
      "Time: 9.453347206115723\n",
      "---------------------------------------- 0.3\n",
      "graphs_train shape: 5756 graphs_train[0] shape: Data(x=[36, 37], edge_index=[2, 14], y=0.7580213903743316)\n",
      "graphs_test shape: 216 graphs_test[0] shape: Data(x=[36, 37], edge_index=[2, 12], y=0.4497787212787213)\n"
     ]
    },
    {
     "name": "stderr",
     "output_type": "stream",
     "text": [
      "/Users/haox/opt/anaconda3/lib/python3.8/site-packages/torch_geometric/deprecation.py:13: UserWarning: 'data.DataLoader' is deprecated, use 'loader.DataLoader' instead\n",
      "  warnings.warn(out)\n"
     ]
    },
    {
     "name": "stdout",
     "output_type": "stream",
     "text": [
      "Epoch: 009, Train MAE: 0.1453, Train MSE: 0.0429\n",
      "Epoch: 009, Test MAE: 0.3244, Test MSE: 0.1133\n",
      "Time: 10.745970010757446\n",
      "---------------------------------------- 0.35000000000000003\n",
      "graphs_train shape: 6884 graphs_train[0] shape: Data(x=[36, 37], edge_index=[2, 14], y=0.7580213903743316)\n",
      "graphs_test shape: 216 graphs_test[0] shape: Data(x=[36, 37], edge_index=[2, 12], y=0.4497787212787213)\n"
     ]
    },
    {
     "name": "stderr",
     "output_type": "stream",
     "text": [
      "/Users/haox/opt/anaconda3/lib/python3.8/site-packages/torch_geometric/deprecation.py:13: UserWarning: 'data.DataLoader' is deprecated, use 'loader.DataLoader' instead\n",
      "  warnings.warn(out)\n"
     ]
    },
    {
     "name": "stdout",
     "output_type": "stream",
     "text": [
      "Epoch: 009, Train MAE: 0.1605, Train MSE: 0.0521\n",
      "Epoch: 009, Test MAE: 0.3367, Test MSE: 0.1214\n",
      "Time: 13.124389171600342\n",
      "---------------------------------------- 0.4\n",
      "graphs_train shape: 7595 graphs_train[0] shape: Data(x=[36, 37], edge_index=[2, 14], y=0.7580213903743316)\n",
      "graphs_test shape: 216 graphs_test[0] shape: Data(x=[36, 37], edge_index=[2, 12], y=0.4497787212787213)\n"
     ]
    },
    {
     "name": "stderr",
     "output_type": "stream",
     "text": [
      "/Users/haox/opt/anaconda3/lib/python3.8/site-packages/torch_geometric/deprecation.py:13: UserWarning: 'data.DataLoader' is deprecated, use 'loader.DataLoader' instead\n",
      "  warnings.warn(out)\n"
     ]
    },
    {
     "name": "stdout",
     "output_type": "stream",
     "text": [
      "Epoch: 009, Train MAE: 0.1654, Train MSE: 0.0534\n",
      "Epoch: 009, Test MAE: 0.3541, Test MSE: 0.1334\n",
      "Time: 14.381028175354004\n",
      "---------------------------------------- 0.45\n",
      "++++++++++++++++++++++++++++++\n",
      "volkert_DDN+GIN_0.4 volkert_DDN+GIN_0.45\n",
      "38 38\n"
     ]
    }
   ],
   "source": [
    "from torch_geometric.data import DataLoader\n",
    "\n",
    "target_test_pred_time = {}\n",
    "data_names = list(DDN.keys())\n",
    "data_embed = DDN\n",
    "batch_size = 64\n",
    "\n",
    "for data_index, data_name in enumerate(data_names):\n",
    "    print(\"=\"*40)\n",
    "    print(data_index, data_name)\n",
    "    \n",
    "    task_test = [data_name]\n",
    "    candidate_score = DDN[data_name]\n",
    "    prev_key = None\n",
    "    dict_key = None\n",
    "    len_task_train = 0\n",
    "    prev_len_task_train = 0\n",
    "    for threshold in np.arange(0.05, 0.5, 0.05):\n",
    "        print(\"-\"*40, threshold)\n",
    "        prev_key = dict_key\n",
    "        dict_key = '_'.join([data_name, combination_name, str(round(threshold,2))])\n",
    "        \n",
    "        start = time.time()\n",
    "        task_train = [i for i in data_names if i!=data_name and abs(DDN[i]-candidate_score)<threshold]\n",
    "        prev_len_task_train = len_task_train\n",
    "        len_task_train = len(task_train)\n",
    "        if len_task_train == 0:\n",
    "            target_test_pred_time[dict_key] = 'N.A.'\n",
    "            pickle.dump(target_test_pred_time, open(log_target_test_pred_time, \"wb\"))\n",
    "            continue\n",
    "            \n",
    "        if len_task_train == prev_len_task_train:\n",
    "            print(\"+\"*30)\n",
    "            print(prev_key, dict_key)\n",
    "            print(prev_len_task_train, len_task_train)\n",
    "            target_test_pred_time[dict_key] =  target_test_pred_time[prev_key]\n",
    "            continue\n",
    "\n",
    "        graphs_train = []\n",
    "        graphs_test = []\n",
    "        for key in graphs:\n",
    "            if key in task_train:\n",
    "                graphs_train += graphs[key]\n",
    "            elif key in task_test:\n",
    "                graphs_test += graphs[key]\n",
    "        train_loader = DataLoader(graphs_train, batch_size=batch_size, shuffle=False)\n",
    "        test_loader = DataLoader(graphs_test, batch_size=batch_size, shuffle=False)\n",
    "        print(\"graphs_train shape:\", len(graphs_train), \"graphs_train[0] shape:\", graphs_train[0])\n",
    "        print(\"graphs_test shape:\", len(graphs_test), \"graphs_test[0] shape:\", graphs_test[0])\n",
    "\n",
    "        model = GIN(in_channels=graphs_train[0].num_node_features, hidden_channels=64).to(device)\n",
    "        optimizer = torch.optim.Adam(model.parameters(), lr=0.01)\n",
    "        criterion = torch.nn.MSELoss() \n",
    "        def train():\n",
    "            model.train()\n",
    "            for data in train_loader:  # Iterate in batches over the training dataset.\n",
    "                out = model(data.x, data.edge_index, data.batch)  # Perform a single forward pass.\n",
    "                loss = criterion(out, data.y.reshape(data.y.shape[0],1).to(device))  # Compute the loss.\n",
    "                # loss = criterion(out, data.y.to(device))  # Compute the loss.\n",
    "                loss.backward()  # Derive gradients.\n",
    "                optimizer.step()  # Update parameters based on gradients.\n",
    "                optimizer.zero_grad()  # Clear gradients.\n",
    "\n",
    "        def test(loader):\n",
    "            model.eval()\n",
    "            test = []\n",
    "            pred = []\n",
    "            for data in loader:  # Iterate in batches over the training/test dataset.\n",
    "                out = model(data.x, data.edge_index, data.batch)  \n",
    "        #         print(out, data.y)\n",
    "                if len(test) == 0:\n",
    "                    test = data.y\n",
    "                    pred = out.detach()\n",
    "                else:\n",
    "                    test = torch.cat((test, data.y))\n",
    "                    pred = torch.cat((pred, out.detach()))\n",
    "            return test, pred, mean_absolute_error(test.cpu(), pred.cpu()), mean_squared_error(test.cpu(), pred.cpu())  # Derive ratio of correct predictions.\n",
    "\n",
    "\n",
    "        start = time.time()\n",
    "        for epoch in range(10):\n",
    "            train()\n",
    "            _, _, train_mae, train_mse = test(train_loader)\n",
    "            test_y, pred_y, test_mae, test_mse = test(test_loader)\n",
    "        #     test_acc = test(test_loader)\n",
    "        end  = time.time()\n",
    "        duration = end-start\n",
    "        print(f'Epoch: {epoch:03d}, Train MAE: {train_mae:.4f}, Train MSE: {train_mse:.4f}')\n",
    "        print(f'Epoch: {epoch:03d}, Test MAE: {test_mae:.4f}, Test MSE: {test_mse:.4f}')\n",
    "        print(\"Time:\", duration)\n",
    "        \n",
    "        target_test_pred_time[dict_key] = (test_y, pred_y, duration, test_mae, test_mse)\n",
    "        pickle.dump(target_test_pred_time, open(log_target_test_pred_time, 'wb'))\n",
    "    \n"
   ]
  },
  {
   "cell_type": "code",
   "execution_count": null,
   "id": "dab781fe",
   "metadata": {},
   "outputs": [],
   "source": []
  },
  {
   "cell_type": "code",
   "execution_count": null,
   "id": "245c2ff9",
   "metadata": {},
   "outputs": [],
   "source": []
  }
 ],
 "metadata": {
  "kernelspec": {
   "display_name": "Python 3",
   "language": "python",
   "name": "python3"
  },
  "language_info": {
   "codemirror_mode": {
    "name": "ipython",
    "version": 3
   },
   "file_extension": ".py",
   "mimetype": "text/x-python",
   "name": "python",
   "nbconvert_exporter": "python",
   "pygments_lexer": "ipython3",
   "version": "3.8.8"
  }
 },
 "nbformat": 4,
 "nbformat_minor": 5
}
