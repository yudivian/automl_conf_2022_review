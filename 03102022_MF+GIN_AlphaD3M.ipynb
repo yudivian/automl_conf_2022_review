{
 "cells": [
  {
   "cell_type": "code",
   "execution_count": 1,
   "id": "17534b9f",
   "metadata": {},
   "outputs": [],
   "source": [
    "import pickle\n",
    "import math\n",
    "import numpy as np\n",
    "import time\n",
    "import networkx as nx\n",
    "\n",
    "import torch\n",
    "from torch.nn import Linear\n",
    "import torch.nn.functional as F\n",
    "from torch_geometric.nn import GCNConv\n",
    "\n",
    "from sklearn.metrics import mean_absolute_error, mean_squared_error, r2_score\n"
   ]
  },
  {
   "cell_type": "code",
   "execution_count": 2,
   "id": "a2c8c0df",
   "metadata": {},
   "outputs": [],
   "source": [
    "AutoML_path = \"\"\n",
    "log_folder = \"alphad3m_log\"\n",
    "\n",
    "log_DDN = AutoML_path+log_folder+'/DDN_single_time'\n",
    "log_MF = AutoML_path+log_folder+'/meta_features_02272022'\n",
    "log_pipeline_steps = AutoML_path+log_folder+'/pipeline_steps_class_02272022'\n",
    "\n",
    "combination_name = 'MF+GIN'\n",
    "today = '03102022'\n",
    "log_target_test_pred_time = AutoML_path+log_folder+'/'+combination_name+'_target_test_pred_time_'+today\n"
   ]
  },
  {
   "cell_type": "code",
   "execution_count": 3,
   "id": "62870f07",
   "metadata": {},
   "outputs": [
    {
     "name": "stdout",
     "output_type": "stream",
     "text": [
      "39\n",
      "39\n",
      "7811\n"
     ]
    }
   ],
   "source": [
    "DDN = pickle.load(open(log_DDN, \"rb\"))\n",
    "print(len(DDN))\n",
    "\n",
    "MF = pickle.load(open(log_MF, \"rb\"))\n",
    "MF_keys = list(MF[list(MF.keys())[0]][0].keys())\n",
    "MF_np = {}\n",
    "for task in MF:\n",
    "    feature = [MF[task][0][key]['value'] for key in MF_keys]\n",
    "    feature = [0 if type(i) != float or math.isnan(i) else i for i in feature]\n",
    "    MF_np[task] = np.array(feature)\n",
    "print(len(MF_np))\n",
    "\n",
    "pipeline_steps_class = pickle.load(open(log_pipeline_steps, 'rb'))\n",
    "print(len(pipeline_steps_class))\n",
    "\n"
   ]
  },
  {
   "cell_type": "code",
   "execution_count": 4,
   "id": "3ad017fe",
   "metadata": {},
   "outputs": [
    {
     "name": "stderr",
     "output_type": "stream",
     "text": [
      "<ipython-input-4-8d9bf76e7917>:14: UserWarning: Creating a tensor from a list of numpy.ndarrays is extremely slow. Please consider converting the list to a single numpy.ndarray with numpy.array() before converting to a tensor. (Triggered internally at  ../torch/csrc/utils/tensor_new.cpp:201.)\n",
      "  node_x = torch.tensor(node_attribute_list, dtype=torch.float)\n"
     ]
    }
   ],
   "source": [
    "from torch_geometric.data import Data\n",
    "from collections import defaultdict\n",
    "device = torch.device('cpu')\n",
    "graphs = defaultdict(list)\n",
    "\n",
    "for pipeline in pipeline_steps_class:\n",
    "    data_name = pipeline[0]\n",
    "    if data_name in MF_np:\n",
    "        g = pipeline[2]\n",
    "        score = pipeline[3]\n",
    "        node_attribute_dict = nx.get_node_attributes(g, name='feature')\n",
    "        node_attribute_list = [np.hstack((node_attribute_dict[i],MF_np[data_name])) for i in node_attribute_dict]\n",
    "#         node_attribute_list = [np.hstack((node_attribute_dict[i],X_meta[data_name])) for i in node_attribute_dict]\n",
    "        node_x = torch.tensor(node_attribute_list, dtype=torch.float)\n",
    "\n",
    "        edge_list = list(g.edges())\n",
    "        edge_index = torch.tensor(edge_list,dtype=torch.long).t()\n",
    "\n",
    "        graph_data = Data(edge_index=edge_index, x=node_x, y=score)\n",
    "        graphs[data_name].append(graph_data.to(device))\n",
    "        "
   ]
  },
  {
   "cell_type": "code",
   "execution_count": 5,
   "id": "856a5b3f",
   "metadata": {},
   "outputs": [
    {
     "name": "stdout",
     "output_type": "stream",
     "text": [
      "39\n"
     ]
    },
    {
     "data": {
      "text/plain": [
       "Data(x=[36, 267], edge_index=[2, 15], y=0.2895)"
      ]
     },
     "execution_count": 5,
     "metadata": {},
     "output_type": "execute_result"
    }
   ],
   "source": [
    "print(len(graphs))\n",
    "graphs['adult'][0]"
   ]
  },
  {
   "cell_type": "code",
   "execution_count": 6,
   "id": "29fe55b5",
   "metadata": {},
   "outputs": [],
   "source": [
    "from torch.nn import Linear\n",
    "import torch.nn.functional as F\n",
    "from torch_geometric.nn import GCNConv, GATConv, GINConv\n",
    "from torch_geometric.nn import global_mean_pool\n",
    "\n",
    "class GIN(torch.nn.Module):\n",
    "    def __init__(self, in_channels, hidden_channels):\n",
    "        super(GIN, self).__init__()\n",
    "        torch.manual_seed(12345)\n",
    "        self.conv1 = GINConv(torch.nn.Sequential(\n",
    "           Linear(in_channels, hidden_channels)\n",
    "        ))\n",
    "        self.conv2 = GINConv(torch.nn.Sequential(\n",
    "           Linear(hidden_channels, hidden_channels)\n",
    "        ))\n",
    "        self.conv3 = GINConv(torch.nn.Sequential(\n",
    "           Linear(hidden_channels, hidden_channels)\n",
    "        ))\n",
    "        self.lin1 = Linear(hidden_channels, hidden_channels)\n",
    "        self.lin2 = Linear(hidden_channels, hidden_channels)\n",
    "        self.lin3 = Linear(hidden_channels, 1)\n",
    "\n",
    "    def forward(self, x, edge_index, batch):\n",
    "        dataset_embedding = x[:, 40:104]\n",
    "#         print(x.shape, dataset_embedding.shape)\n",
    "        # 1. Obtain node embeddings \n",
    "        x = self.conv1(x, edge_index)\n",
    "        x = x.relu()\n",
    "        x = F.dropout(x, p=0.2, training=self.training)\n",
    "        x = self.conv2(x, edge_index)\n",
    "        x = x.relu()\n",
    "        x = F.dropout(x, p=0.2, training=self.training)\n",
    "        x = self.conv3(x, edge_index)\n",
    "        x = x.relu()\n",
    "\n",
    "        # 2. Readout layer\n",
    "#         x = torch.cat((x, dataset_embedding), dim=1)\n",
    "        x = global_mean_pool(x, batch)  # [batch_size, hidden_channels]\n",
    "\n",
    "        # 3. Apply a final classifier\n",
    "#         x = F.dropout(x, p=0.2, training=self.training)\n",
    "#         print(x.shape, dataset_embedding.shape)\n",
    "        x = self.lin1(x)\n",
    "        x = x.relu()\n",
    "        x = self.lin2(x)\n",
    "        x = x.relu()\n",
    "        x = self.lin3(x)\n",
    "        \n",
    "        return x"
   ]
  },
  {
   "cell_type": "code",
   "execution_count": 7,
   "id": "65dba102",
   "metadata": {
    "scrolled": true
   },
   "outputs": [
    {
     "name": "stdout",
     "output_type": "stream",
     "text": [
      "========================================\n",
      "0 adult\n",
      "---------------------------------------- 0.05\n",
      "graphs_train shape: 1526 graphs_train[0] shape: Data(x=[36, 267], edge_index=[2, 14], y=0.7580213903743316)\n",
      "graphs_test shape: 452 graphs_test[0] shape: Data(x=[36, 267], edge_index=[2, 15], y=0.2895)\n"
     ]
    },
    {
     "name": "stderr",
     "output_type": "stream",
     "text": [
      "/Users/haox/opt/anaconda3/lib/python3.8/site-packages/torch_geometric/deprecation.py:13: UserWarning: 'data.DataLoader' is deprecated, use 'loader.DataLoader' instead\n",
      "  warnings.warn(out)\n"
     ]
    },
    {
     "name": "stdout",
     "output_type": "stream",
     "text": [
      "Epoch: 009, Train MAE: 0.1182, Train MSE: 0.0269\n",
      "Epoch: 009, Test MAE: 0.2258, Test MSE: 0.0548\n",
      "Time: 4.884424924850464\n",
      "---------------------------------------- 0.1\n",
      "graphs_train shape: 3405 graphs_train[0] shape: Data(x=[36, 267], edge_index=[2, 14], y=0.7580213903743316)\n",
      "graphs_test shape: 452 graphs_test[0] shape: Data(x=[36, 267], edge_index=[2, 15], y=0.2895)\n"
     ]
    },
    {
     "name": "stderr",
     "output_type": "stream",
     "text": [
      "/Users/haox/opt/anaconda3/lib/python3.8/site-packages/torch_geometric/deprecation.py:13: UserWarning: 'data.DataLoader' is deprecated, use 'loader.DataLoader' instead\n",
      "  warnings.warn(out)\n"
     ]
    },
    {
     "name": "stdout",
     "output_type": "stream",
     "text": [
      "Epoch: 009, Train MAE: 0.0785, Train MSE: 0.0165\n",
      "Epoch: 009, Test MAE: 0.1671, Test MSE: 0.0460\n",
      "Time: 10.080881118774414\n",
      "---------------------------------------- 0.15000000000000002\n",
      "graphs_train shape: 5415 graphs_train[0] shape: Data(x=[36, 267], edge_index=[2, 14], y=0.7580213903743316)\n",
      "graphs_test shape: 452 graphs_test[0] shape: Data(x=[36, 267], edge_index=[2, 15], y=0.2895)\n"
     ]
    },
    {
     "name": "stderr",
     "output_type": "stream",
     "text": [
      "/Users/haox/opt/anaconda3/lib/python3.8/site-packages/torch_geometric/deprecation.py:13: UserWarning: 'data.DataLoader' is deprecated, use 'loader.DataLoader' instead\n",
      "  warnings.warn(out)\n"
     ]
    },
    {
     "name": "stdout",
     "output_type": "stream",
     "text": [
      "Epoch: 009, Train MAE: 0.2259, Train MSE: 0.1220\n",
      "Epoch: 009, Test MAE: 0.4038, Test MSE: 0.1814\n",
      "Time: 15.238107204437256\n",
      "---------------------------------------- 0.2\n",
      "graphs_train shape: 5892 graphs_train[0] shape: Data(x=[36, 267], edge_index=[2, 14], y=0.7580213903743316)\n",
      "graphs_test shape: 452 graphs_test[0] shape: Data(x=[36, 267], edge_index=[2, 15], y=0.2895)\n"
     ]
    },
    {
     "name": "stderr",
     "output_type": "stream",
     "text": [
      "/Users/haox/opt/anaconda3/lib/python3.8/site-packages/torch_geometric/deprecation.py:13: UserWarning: 'data.DataLoader' is deprecated, use 'loader.DataLoader' instead\n",
      "  warnings.warn(out)\n"
     ]
    },
    {
     "name": "stdout",
     "output_type": "stream",
     "text": [
      "Epoch: 009, Train MAE: 0.1365, Train MSE: 0.0412\n",
      "Epoch: 009, Test MAE: 0.0949, Test MSE: 0.0264\n",
      "Time: 16.660290718078613\n",
      "---------------------------------------- 0.25\n",
      "graphs_train shape: 6745 graphs_train[0] shape: Data(x=[36, 267], edge_index=[2, 14], y=0.7580213903743316)\n",
      "graphs_test shape: 452 graphs_test[0] shape: Data(x=[36, 267], edge_index=[2, 15], y=0.2895)\n"
     ]
    },
    {
     "name": "stderr",
     "output_type": "stream",
     "text": [
      "/Users/haox/opt/anaconda3/lib/python3.8/site-packages/torch_geometric/deprecation.py:13: UserWarning: 'data.DataLoader' is deprecated, use 'loader.DataLoader' instead\n",
      "  warnings.warn(out)\n"
     ]
    },
    {
     "name": "stdout",
     "output_type": "stream",
     "text": [
      "Epoch: 009, Train MAE: 0.1616, Train MSE: 0.0505\n",
      "Epoch: 009, Test MAE: 0.0992, Test MSE: 0.0275\n",
      "Time: 18.98618221282959\n",
      "---------------------------------------- 0.3\n",
      "graphs_train shape: 6931 graphs_train[0] shape: Data(x=[36, 267], edge_index=[2, 14], y=0.7580213903743316)\n",
      "graphs_test shape: 452 graphs_test[0] shape: Data(x=[36, 267], edge_index=[2, 15], y=0.2895)\n"
     ]
    },
    {
     "name": "stderr",
     "output_type": "stream",
     "text": [
      "/Users/haox/opt/anaconda3/lib/python3.8/site-packages/torch_geometric/deprecation.py:13: UserWarning: 'data.DataLoader' is deprecated, use 'loader.DataLoader' instead\n",
      "  warnings.warn(out)\n"
     ]
    },
    {
     "name": "stdout",
     "output_type": "stream",
     "text": [
      "Epoch: 009, Train MAE: 0.1595, Train MSE: 0.0484\n",
      "Epoch: 009, Test MAE: 0.0924, Test MSE: 0.0257\n",
      "Time: 19.747807025909424\n",
      "---------------------------------------- 0.35000000000000003\n",
      "graphs_train shape: 7147 graphs_train[0] shape: Data(x=[36, 267], edge_index=[2, 14], y=0.7580213903743316)\n",
      "graphs_test shape: 452 graphs_test[0] shape: Data(x=[36, 267], edge_index=[2, 15], y=0.2895)\n"
     ]
    },
    {
     "name": "stderr",
     "output_type": "stream",
     "text": [
      "/Users/haox/opt/anaconda3/lib/python3.8/site-packages/torch_geometric/deprecation.py:13: UserWarning: 'data.DataLoader' is deprecated, use 'loader.DataLoader' instead\n",
      "  warnings.warn(out)\n"
     ]
    },
    {
     "name": "stdout",
     "output_type": "stream",
     "text": [
      "Epoch: 009, Train MAE: 0.1621, Train MSE: 0.0471\n",
      "Epoch: 009, Test MAE: 0.0825, Test MSE: 0.0232\n",
      "Time: 20.388512134552002\n",
      "---------------------------------------- 0.4\n",
      "++++++++++++++++++++++++++++++\n",
      "adult_MF+GIN_0.35 adult_MF+GIN_0.4\n",
      "36 36\n",
      "---------------------------------------- 0.45\n",
      "++++++++++++++++++++++++++++++\n",
      "adult_MF+GIN_0.4 adult_MF+GIN_0.45\n",
      "36 36\n",
      "========================================\n",
      "1 airlines\n",
      "---------------------------------------- 0.05\n",
      "graphs_train shape: 5 graphs_train[0] shape: Data(x=[36, 267], edge_index=[2, 14], y=0.5525)\n",
      "graphs_test shape: 181 graphs_test[0] shape: Data(x=[36, 267], edge_index=[2, 13], y=0.5)\n"
     ]
    },
    {
     "name": "stderr",
     "output_type": "stream",
     "text": [
      "/Users/haox/opt/anaconda3/lib/python3.8/site-packages/torch_geometric/deprecation.py:13: UserWarning: 'data.DataLoader' is deprecated, use 'loader.DataLoader' instead\n",
      "  warnings.warn(out)\n"
     ]
    },
    {
     "name": "stdout",
     "output_type": "stream",
     "text": [
      "Epoch: 009, Train MAE: 0.3425, Train MSE: 0.1183\n",
      "Epoch: 009, Test MAE: 1.6901, Test MSE: 2.8840\n",
      "Time: 0.2901308536529541\n",
      "---------------------------------------- 0.1\n",
      "graphs_train shape: 1074 graphs_train[0] shape: Data(x=[36, 267], edge_index=[2, 11], y=0.4525)\n",
      "graphs_test shape: 181 graphs_test[0] shape: Data(x=[36, 267], edge_index=[2, 13], y=0.5)\n"
     ]
    },
    {
     "name": "stderr",
     "output_type": "stream",
     "text": [
      "/Users/haox/opt/anaconda3/lib/python3.8/site-packages/torch_geometric/deprecation.py:13: UserWarning: 'data.DataLoader' is deprecated, use 'loader.DataLoader' instead\n",
      "  warnings.warn(out)\n"
     ]
    },
    {
     "name": "stdout",
     "output_type": "stream",
     "text": [
      "Epoch: 009, Train MAE: 0.1458, Train MSE: 0.0341\n",
      "Epoch: 009, Test MAE: 0.0711, Test MSE: 0.0061\n",
      "Time: 3.1329991817474365\n",
      "---------------------------------------- 0.15000000000000002\n",
      "graphs_train shape: 1494 graphs_train[0] shape: Data(x=[36, 267], edge_index=[2, 14], y=0.23099999999999998)\n",
      "graphs_test shape: 181 graphs_test[0] shape: Data(x=[36, 267], edge_index=[2, 13], y=0.5)\n"
     ]
    },
    {
     "name": "stderr",
     "output_type": "stream",
     "text": [
      "/Users/haox/opt/anaconda3/lib/python3.8/site-packages/torch_geometric/deprecation.py:13: UserWarning: 'data.DataLoader' is deprecated, use 'loader.DataLoader' instead\n",
      "  warnings.warn(out)\n"
     ]
    },
    {
     "name": "stdout",
     "output_type": "stream",
     "text": [
      "Epoch: 009, Train MAE: 0.1312, Train MSE: 0.0287\n",
      "Epoch: 009, Test MAE: 0.0892, Test MSE: 0.0087\n",
      "Time: 4.480185031890869\n",
      "---------------------------------------- 0.2\n",
      "graphs_train shape: 2992 graphs_train[0] shape: Data(x=[36, 267], edge_index=[2, 14], y=0.23099999999999998)\n",
      "graphs_test shape: 181 graphs_test[0] shape: Data(x=[36, 267], edge_index=[2, 13], y=0.5)\n"
     ]
    },
    {
     "name": "stderr",
     "output_type": "stream",
     "text": [
      "/Users/haox/opt/anaconda3/lib/python3.8/site-packages/torch_geometric/deprecation.py:13: UserWarning: 'data.DataLoader' is deprecated, use 'loader.DataLoader' instead\n",
      "  warnings.warn(out)\n"
     ]
    },
    {
     "name": "stdout",
     "output_type": "stream",
     "text": [
      "Epoch: 009, Train MAE: 0.1253, Train MSE: 0.0336\n",
      "Epoch: 009, Test MAE: 0.1033, Test MSE: 0.0114\n",
      "Time: 9.09463119506836\n",
      "---------------------------------------- 0.25\n",
      "++++++++++++++++++++++++++++++\n",
      "airlines_MF+GIN_0.2 airlines_MF+GIN_0.25\n",
      "16 16\n",
      "---------------------------------------- 0.3\n",
      "graphs_train shape: 5174 graphs_train[0] shape: Data(x=[36, 267], edge_index=[2, 14], y=0.7580213903743316)\n",
      "graphs_test shape: 181 graphs_test[0] shape: Data(x=[36, 267], edge_index=[2, 13], y=0.5)\n"
     ]
    },
    {
     "name": "stderr",
     "output_type": "stream",
     "text": [
      "/Users/haox/opt/anaconda3/lib/python3.8/site-packages/torch_geometric/deprecation.py:13: UserWarning: 'data.DataLoader' is deprecated, use 'loader.DataLoader' instead\n",
      "  warnings.warn(out)\n"
     ]
    },
    {
     "name": "stdout",
     "output_type": "stream",
     "text": [
      "Epoch: 009, Train MAE: 0.1557, Train MSE: 0.0497\n",
      "Epoch: 009, Test MAE: 0.1573, Test MSE: 0.0255\n",
      "Time: 15.082194805145264\n",
      "---------------------------------------- 0.35000000000000003\n",
      "graphs_train shape: 5583 graphs_train[0] shape: Data(x=[36, 267], edge_index=[2, 14], y=0.7580213903743316)\n",
      "graphs_test shape: 181 graphs_test[0] shape: Data(x=[36, 267], edge_index=[2, 13], y=0.5)\n"
     ]
    },
    {
     "name": "stderr",
     "output_type": "stream",
     "text": [
      "/Users/haox/opt/anaconda3/lib/python3.8/site-packages/torch_geometric/deprecation.py:13: UserWarning: 'data.DataLoader' is deprecated, use 'loader.DataLoader' instead\n",
      "  warnings.warn(out)\n"
     ]
    },
    {
     "name": "stdout",
     "output_type": "stream",
     "text": [
      "Epoch: 009, Train MAE: 0.1620, Train MSE: 0.0544\n",
      "Epoch: 009, Test MAE: 0.1934, Test MSE: 0.0382\n",
      "Time: 17.56980800628662\n",
      "---------------------------------------- 0.4\n",
      "graphs_train shape: 6859 graphs_train[0] shape: Data(x=[36, 267], edge_index=[2, 14], y=0.7580213903743316)\n",
      "graphs_test shape: 181 graphs_test[0] shape: Data(x=[36, 267], edge_index=[2, 13], y=0.5)\n"
     ]
    },
    {
     "name": "stderr",
     "output_type": "stream",
     "text": [
      "/Users/haox/opt/anaconda3/lib/python3.8/site-packages/torch_geometric/deprecation.py:13: UserWarning: 'data.DataLoader' is deprecated, use 'loader.DataLoader' instead\n",
      "  warnings.warn(out)\n"
     ]
    },
    {
     "name": "stdout",
     "output_type": "stream",
     "text": [
      "Epoch: 009, Train MAE: 0.1616, Train MSE: 0.0508\n",
      "Epoch: 009, Test MAE: 0.1973, Test MSE: 0.0397\n",
      "Time: 19.99192976951599\n",
      "---------------------------------------- 0.45\n",
      "graphs_train shape: 7630 graphs_train[0] shape: Data(x=[36, 267], edge_index=[2, 14], y=0.7580213903743316)\n",
      "graphs_test shape: 181 graphs_test[0] shape: Data(x=[36, 267], edge_index=[2, 13], y=0.5)\n"
     ]
    },
    {
     "name": "stderr",
     "output_type": "stream",
     "text": [
      "/Users/haox/opt/anaconda3/lib/python3.8/site-packages/torch_geometric/deprecation.py:13: UserWarning: 'data.DataLoader' is deprecated, use 'loader.DataLoader' instead\n",
      "  warnings.warn(out)\n"
     ]
    },
    {
     "name": "stdout",
     "output_type": "stream",
     "text": [
      "Epoch: 009, Train MAE: 0.1852, Train MSE: 0.0656\n",
      "Epoch: 009, Test MAE: 0.2565, Test MSE: 0.0666\n",
      "Time: 21.91675615310669\n",
      "========================================\n",
      "2 albert\n",
      "---------------------------------------- 0.05\n",
      "graphs_train shape: 397 graphs_train[0] shape: Data(x=[36, 267], edge_index=[2, 14], y=0.5994999999999999)\n",
      "graphs_test shape: 5 graphs_test[0] shape: Data(x=[36, 267], edge_index=[2, 14], y=0.5525)\n"
     ]
    },
    {
     "name": "stderr",
     "output_type": "stream",
     "text": [
      "/Users/haox/opt/anaconda3/lib/python3.8/site-packages/torch_geometric/deprecation.py:13: UserWarning: 'data.DataLoader' is deprecated, use 'loader.DataLoader' instead\n",
      "  warnings.warn(out)\n"
     ]
    },
    {
     "name": "stdout",
     "output_type": "stream",
     "text": [
      "Epoch: 009, Train MAE: 0.0534, Train MSE: 0.0041\n",
      "Epoch: 009, Test MAE: 1.0243, Test MSE: 1.0566\n",
      "Time: 1.2180168628692627\n",
      "---------------------------------------- 0.1\n",
      "graphs_train shape: 1250 graphs_train[0] shape: Data(x=[36, 267], edge_index=[2, 11], y=0.4525)\n",
      "graphs_test shape: 5 graphs_test[0] shape: Data(x=[36, 267], edge_index=[2, 14], y=0.5525)\n"
     ]
    },
    {
     "name": "stderr",
     "output_type": "stream",
     "text": [
      "/Users/haox/opt/anaconda3/lib/python3.8/site-packages/torch_geometric/deprecation.py:13: UserWarning: 'data.DataLoader' is deprecated, use 'loader.DataLoader' instead\n",
      "  warnings.warn(out)\n"
     ]
    },
    {
     "name": "stdout",
     "output_type": "stream",
     "text": [
      "Epoch: 009, Train MAE: 0.0606, Train MSE: 0.0081\n",
      "Epoch: 009, Test MAE: 0.0541, Test MSE: 0.0039\n",
      "Time: 3.4396209716796875\n",
      "---------------------------------------- 0.15000000000000002\n",
      "graphs_train shape: 2102 graphs_train[0] shape: Data(x=[36, 267], edge_index=[2, 14], y=0.23099999999999998)\n",
      "graphs_test shape: 5 graphs_test[0] shape: Data(x=[36, 267], edge_index=[2, 14], y=0.5525)\n"
     ]
    },
    {
     "name": "stderr",
     "output_type": "stream",
     "text": [
      "/Users/haox/opt/anaconda3/lib/python3.8/site-packages/torch_geometric/deprecation.py:13: UserWarning: 'data.DataLoader' is deprecated, use 'loader.DataLoader' instead\n",
      "  warnings.warn(out)\n"
     ]
    },
    {
     "name": "stdout",
     "output_type": "stream",
     "text": [
      "Epoch: 009, Train MAE: 0.0959, Train MSE: 0.0165\n",
      "Epoch: 009, Test MAE: 0.0272, Test MSE: 0.0013\n",
      "Time: 5.641607761383057\n",
      "---------------------------------------- 0.2\n",
      "graphs_train shape: 3168 graphs_train[0] shape: Data(x=[36, 267], edge_index=[2, 14], y=0.23099999999999998)\n",
      "graphs_test shape: 5 graphs_test[0] shape: Data(x=[36, 267], edge_index=[2, 14], y=0.5525)\n"
     ]
    },
    {
     "name": "stderr",
     "output_type": "stream",
     "text": [
      "/Users/haox/opt/anaconda3/lib/python3.8/site-packages/torch_geometric/deprecation.py:13: UserWarning: 'data.DataLoader' is deprecated, use 'loader.DataLoader' instead\n",
      "  warnings.warn(out)\n"
     ]
    },
    {
     "name": "stdout",
     "output_type": "stream",
     "text": [
      "Epoch: 009, Train MAE: 0.1053, Train MSE: 0.0183\n",
      "Epoch: 009, Test MAE: 0.0374, Test MSE: 0.0024\n",
      "Time: 8.544619083404541\n",
      "---------------------------------------- 0.25\n",
      "++++++++++++++++++++++++++++++\n",
      "albert_MF+GIN_0.2 albert_MF+GIN_0.25\n",
      "16 16\n",
      "---------------------------------------- 0.3\n",
      "graphs_train shape: 5350 graphs_train[0] shape: Data(x=[36, 267], edge_index=[2, 14], y=0.7580213903743316)\n",
      "graphs_test shape: 5 graphs_test[0] shape: Data(x=[36, 267], edge_index=[2, 14], y=0.5525)\n"
     ]
    },
    {
     "name": "stderr",
     "output_type": "stream",
     "text": [
      "/Users/haox/opt/anaconda3/lib/python3.8/site-packages/torch_geometric/deprecation.py:13: UserWarning: 'data.DataLoader' is deprecated, use 'loader.DataLoader' instead\n",
      "  warnings.warn(out)\n"
     ]
    },
    {
     "name": "stdout",
     "output_type": "stream",
     "text": [
      "Epoch: 009, Train MAE: 0.1536, Train MSE: 0.0465\n",
      "Epoch: 009, Test MAE: 0.1137, Test MSE: 0.0140\n",
      "Time: 14.960689783096313\n",
      "---------------------------------------- 0.35000000000000003\n",
      "graphs_train shape: 6171 graphs_train[0] shape: Data(x=[36, 267], edge_index=[2, 14], y=0.7580213903743316)\n",
      "graphs_test shape: 5 graphs_test[0] shape: Data(x=[36, 267], edge_index=[2, 14], y=0.5525)\n"
     ]
    },
    {
     "name": "stderr",
     "output_type": "stream",
     "text": [
      "/Users/haox/opt/anaconda3/lib/python3.8/site-packages/torch_geometric/deprecation.py:13: UserWarning: 'data.DataLoader' is deprecated, use 'loader.DataLoader' instead\n",
      "  warnings.warn(out)\n"
     ]
    },
    {
     "name": "stdout",
     "output_type": "stream",
     "text": [
      "Epoch: 009, Train MAE: 0.1617, Train MSE: 0.0520\n",
      "Epoch: 009, Test MAE: 0.1627, Test MSE: 0.0275\n",
      "Time: 16.78675413131714\n",
      "---------------------------------------- 0.4\n",
      "graphs_train shape: 7095 graphs_train[0] shape: Data(x=[36, 267], edge_index=[2, 14], y=0.7580213903743316)\n",
      "graphs_test shape: 5 graphs_test[0] shape: Data(x=[36, 267], edge_index=[2, 14], y=0.5525)\n"
     ]
    },
    {
     "name": "stderr",
     "output_type": "stream",
     "text": [
      "/Users/haox/opt/anaconda3/lib/python3.8/site-packages/torch_geometric/deprecation.py:13: UserWarning: 'data.DataLoader' is deprecated, use 'loader.DataLoader' instead\n",
      "  warnings.warn(out)\n"
     ]
    },
    {
     "name": "stdout",
     "output_type": "stream",
     "text": [
      "Epoch: 009, Train MAE: 0.2087, Train MSE: 0.0961\n",
      "Epoch: 009, Test MAE: 0.2474, Test MSE: 0.0622\n",
      "Time: 19.757150888442993\n",
      "---------------------------------------- 0.45\n",
      "graphs_train shape: 7806 graphs_train[0] shape: Data(x=[36, 267], edge_index=[2, 14], y=0.7580213903743316)\n",
      "graphs_test shape: 5 graphs_test[0] shape: Data(x=[36, 267], edge_index=[2, 14], y=0.5525)\n"
     ]
    },
    {
     "name": "stderr",
     "output_type": "stream",
     "text": [
      "/Users/haox/opt/anaconda3/lib/python3.8/site-packages/torch_geometric/deprecation.py:13: UserWarning: 'data.DataLoader' is deprecated, use 'loader.DataLoader' instead\n",
      "  warnings.warn(out)\n"
     ]
    },
    {
     "name": "stdout",
     "output_type": "stream",
     "text": [
      "Epoch: 009, Train MAE: 0.1679, Train MSE: 0.0535\n",
      "Epoch: 009, Test MAE: 0.2015, Test MSE: 0.0416\n",
      "Time: 22.781102180480957\n",
      "========================================\n",
      "3 Amazon_employee_access\n",
      "---------------------------------------- 0.05\n",
      "graphs_train shape: 1763 graphs_train[0] shape: Data(x=[36, 267], edge_index=[2, 14], y=0.17222222222222222)\n",
      "graphs_test shape: 216 graphs_test[0] shape: Data(x=[36, 267], edge_index=[2, 12], y=0.8965000000000001)\n"
     ]
    },
    {
     "name": "stderr",
     "output_type": "stream",
     "text": [
      "/Users/haox/opt/anaconda3/lib/python3.8/site-packages/torch_geometric/deprecation.py:13: UserWarning: 'data.DataLoader' is deprecated, use 'loader.DataLoader' instead\n",
      "  warnings.warn(out)\n"
     ]
    },
    {
     "name": "stdout",
     "output_type": "stream",
     "text": [
      "Epoch: 009, Train MAE: 0.0750, Train MSE: 0.0171\n",
      "Epoch: 009, Test MAE: 0.1025, Test MSE: 0.0131\n",
      "Time: 5.3449602127075195\n",
      "---------------------------------------- 0.1\n",
      "graphs_train shape: 3370 graphs_train[0] shape: Data(x=[36, 267], edge_index=[2, 14], y=0.17222222222222222)\n",
      "graphs_test shape: 216 graphs_test[0] shape: Data(x=[36, 267], edge_index=[2, 12], y=0.8965000000000001)\n"
     ]
    },
    {
     "name": "stderr",
     "output_type": "stream",
     "text": [
      "/Users/haox/opt/anaconda3/lib/python3.8/site-packages/torch_geometric/deprecation.py:13: UserWarning: 'data.DataLoader' is deprecated, use 'loader.DataLoader' instead\n",
      "  warnings.warn(out)\n"
     ]
    },
    {
     "name": "stdout",
     "output_type": "stream",
     "text": [
      "Epoch: 009, Train MAE: 0.0974, Train MSE: 0.0222\n",
      "Epoch: 009, Test MAE: 0.1125, Test MSE: 0.0147\n",
      "Time: 9.912873983383179\n",
      "---------------------------------------- 0.15000000000000002\n",
      "graphs_train shape: 4218 graphs_train[0] shape: Data(x=[36, 267], edge_index=[2, 14], y=0.7580213903743316)\n",
      "graphs_test shape: 216 graphs_test[0] shape: Data(x=[36, 267], edge_index=[2, 12], y=0.8965000000000001)\n"
     ]
    },
    {
     "name": "stderr",
     "output_type": "stream",
     "text": [
      "/Users/haox/opt/anaconda3/lib/python3.8/site-packages/torch_geometric/deprecation.py:13: UserWarning: 'data.DataLoader' is deprecated, use 'loader.DataLoader' instead\n",
      "  warnings.warn(out)\n"
     ]
    },
    {
     "name": "stdout",
     "output_type": "stream",
     "text": [
      "Epoch: 009, Train MAE: 0.0914, Train MSE: 0.0210\n",
      "Epoch: 009, Test MAE: 0.1053, Test MSE: 0.0135\n",
      "Time: 11.946887731552124\n",
      "---------------------------------------- 0.2\n",
      "graphs_train shape: 5060 graphs_train[0] shape: Data(x=[36, 267], edge_index=[2, 14], y=0.7580213903743316)\n",
      "graphs_test shape: 216 graphs_test[0] shape: Data(x=[36, 267], edge_index=[2, 12], y=0.8965000000000001)\n"
     ]
    },
    {
     "name": "stderr",
     "output_type": "stream",
     "text": [
      "/Users/haox/opt/anaconda3/lib/python3.8/site-packages/torch_geometric/deprecation.py:13: UserWarning: 'data.DataLoader' is deprecated, use 'loader.DataLoader' instead\n",
      "  warnings.warn(out)\n"
     ]
    },
    {
     "name": "stdout",
     "output_type": "stream",
     "text": [
      "Epoch: 009, Train MAE: 0.1148, Train MSE: 0.0272\n",
      "Epoch: 009, Test MAE: 0.1240, Test MSE: 0.0169\n",
      "Time: 16.35166907310486\n",
      "---------------------------------------- 0.25\n",
      "graphs_train shape: 6128 graphs_train[0] shape: Data(x=[36, 267], edge_index=[2, 14], y=0.7580213903743316)\n",
      "graphs_test shape: 216 graphs_test[0] shape: Data(x=[36, 267], edge_index=[2, 12], y=0.8965000000000001)\n"
     ]
    },
    {
     "name": "stderr",
     "output_type": "stream",
     "text": [
      "/Users/haox/opt/anaconda3/lib/python3.8/site-packages/torch_geometric/deprecation.py:13: UserWarning: 'data.DataLoader' is deprecated, use 'loader.DataLoader' instead\n",
      "  warnings.warn(out)\n"
     ]
    },
    {
     "name": "stdout",
     "output_type": "stream",
     "text": [
      "Epoch: 009, Train MAE: 0.1340, Train MSE: 0.0394\n",
      "Epoch: 009, Test MAE: 0.1361, Test MSE: 0.0196\n",
      "Time: 20.42138385772705\n",
      "---------------------------------------- 0.3\n",
      "++++++++++++++++++++++++++++++\n",
      "Amazon_employee_access_MF+GIN_0.25 Amazon_employee_access_MF+GIN_0.3\n",
      "28 28\n",
      "---------------------------------------- 0.35000000000000003\n",
      "graphs_train shape: 6981 graphs_train[0] shape: Data(x=[36, 267], edge_index=[2, 14], y=0.7580213903743316)\n",
      "graphs_test shape: 216 graphs_test[0] shape: Data(x=[36, 267], edge_index=[2, 12], y=0.8965000000000001)\n"
     ]
    },
    {
     "name": "stderr",
     "output_type": "stream",
     "text": [
      "/Users/haox/opt/anaconda3/lib/python3.8/site-packages/torch_geometric/deprecation.py:13: UserWarning: 'data.DataLoader' is deprecated, use 'loader.DataLoader' instead\n",
      "  warnings.warn(out)\n"
     ]
    },
    {
     "name": "stdout",
     "output_type": "stream",
     "text": [
      "Epoch: 009, Train MAE: 0.1583, Train MSE: 0.0500\n",
      "Epoch: 009, Test MAE: 0.1232, Test MSE: 0.0167\n",
      "Time: 19.539474964141846\n",
      "---------------------------------------- 0.4\n",
      "graphs_train shape: 7167 graphs_train[0] shape: Data(x=[36, 267], edge_index=[2, 14], y=0.7580213903743316)\n",
      "graphs_test shape: 216 graphs_test[0] shape: Data(x=[36, 267], edge_index=[2, 12], y=0.8965000000000001)\n"
     ]
    },
    {
     "name": "stderr",
     "output_type": "stream",
     "text": [
      "/Users/haox/opt/anaconda3/lib/python3.8/site-packages/torch_geometric/deprecation.py:13: UserWarning: 'data.DataLoader' is deprecated, use 'loader.DataLoader' instead\n",
      "  warnings.warn(out)\n"
     ]
    },
    {
     "name": "stdout",
     "output_type": "stream",
     "text": [
      "Epoch: 009, Train MAE: 0.1570, Train MSE: 0.0484\n",
      "Epoch: 009, Test MAE: 0.1298, Test MSE: 0.0181\n",
      "Time: 19.430021286010742\n",
      "---------------------------------------- 0.45\n",
      "graphs_train shape: 7383 graphs_train[0] shape: Data(x=[36, 267], edge_index=[2, 14], y=0.7580213903743316)\n",
      "graphs_test shape: 216 graphs_test[0] shape: Data(x=[36, 267], edge_index=[2, 12], y=0.8965000000000001)\n"
     ]
    },
    {
     "name": "stderr",
     "output_type": "stream",
     "text": [
      "/Users/haox/opt/anaconda3/lib/python3.8/site-packages/torch_geometric/deprecation.py:13: UserWarning: 'data.DataLoader' is deprecated, use 'loader.DataLoader' instead\n",
      "  warnings.warn(out)\n"
     ]
    },
    {
     "name": "stdout",
     "output_type": "stream",
     "text": [
      "Epoch: 009, Train MAE: 0.1672, Train MSE: 0.0531\n",
      "Epoch: 009, Test MAE: 0.1187, Test MSE: 0.0158\n",
      "Time: 20.04940700531006\n",
      "========================================\n",
      "4 APSFailure\n",
      "---------------------------------------- 0.05\n",
      "graphs_train shape: 1617 graphs_train[0] shape: Data(x=[36, 267], edge_index=[2, 13], y=0.836)\n",
      "graphs_test shape: 18 graphs_test[0] shape: Data(x=[36, 267], edge_index=[2, 15], y=0.9864999999999999)\n"
     ]
    },
    {
     "name": "stderr",
     "output_type": "stream",
     "text": [
      "/Users/haox/opt/anaconda3/lib/python3.8/site-packages/torch_geometric/deprecation.py:13: UserWarning: 'data.DataLoader' is deprecated, use 'loader.DataLoader' instead\n",
      "  warnings.warn(out)\n"
     ]
    },
    {
     "name": "stdout",
     "output_type": "stream",
     "text": [
      "Epoch: 009, Train MAE: 0.0932, Train MSE: 0.0245\n",
      "Epoch: 009, Test MAE: 0.2622, Test MSE: 0.0688\n",
      "Time: 4.422244310379028\n",
      "---------------------------------------- 0.1\n",
      "graphs_train shape: 2438 graphs_train[0] shape: Data(x=[36, 267], edge_index=[2, 14], y=0.17222222222222222)\n",
      "graphs_test shape: 18 graphs_test[0] shape: Data(x=[36, 267], edge_index=[2, 15], y=0.9864999999999999)\n"
     ]
    },
    {
     "name": "stderr",
     "output_type": "stream",
     "text": [
      "/Users/haox/opt/anaconda3/lib/python3.8/site-packages/torch_geometric/deprecation.py:13: UserWarning: 'data.DataLoader' is deprecated, use 'loader.DataLoader' instead\n",
      "  warnings.warn(out)\n"
     ]
    },
    {
     "name": "stdout",
     "output_type": "stream",
     "text": [
      "Epoch: 009, Train MAE: 0.1600, Train MSE: 0.0496\n",
      "Epoch: 009, Test MAE: 0.1376, Test MSE: 0.0190\n",
      "Time: 6.751977920532227\n",
      "---------------------------------------- 0.15000000000000002\n",
      "graphs_train shape: 4416 graphs_train[0] shape: Data(x=[36, 267], edge_index=[2, 14], y=0.7580213903743316)\n",
      "graphs_test shape: 18 graphs_test[0] shape: Data(x=[36, 267], edge_index=[2, 15], y=0.9864999999999999)\n"
     ]
    },
    {
     "name": "stderr",
     "output_type": "stream",
     "text": [
      "/Users/haox/opt/anaconda3/lib/python3.8/site-packages/torch_geometric/deprecation.py:13: UserWarning: 'data.DataLoader' is deprecated, use 'loader.DataLoader' instead\n",
      "  warnings.warn(out)\n"
     ]
    },
    {
     "name": "stdout",
     "output_type": "stream",
     "text": [
      "Epoch: 009, Train MAE: 0.0869, Train MSE: 0.0186\n",
      "Epoch: 009, Test MAE: 0.2516, Test MSE: 0.0634\n",
      "Time: 11.846645832061768\n",
      "---------------------------------------- 0.2\n",
      "++++++++++++++++++++++++++++++\n",
      "APSFailure_MF+GIN_0.15 APSFailure_MF+GIN_0.2\n",
      "20 20\n",
      "---------------------------------------- 0.25\n",
      "graphs_train shape: 5258 graphs_train[0] shape: Data(x=[36, 267], edge_index=[2, 14], y=0.7580213903743316)\n",
      "graphs_test shape: 18 graphs_test[0] shape: Data(x=[36, 267], edge_index=[2, 15], y=0.9864999999999999)\n"
     ]
    },
    {
     "name": "stderr",
     "output_type": "stream",
     "text": [
      "/Users/haox/opt/anaconda3/lib/python3.8/site-packages/torch_geometric/deprecation.py:13: UserWarning: 'data.DataLoader' is deprecated, use 'loader.DataLoader' instead\n",
      "  warnings.warn(out)\n"
     ]
    },
    {
     "name": "stdout",
     "output_type": "stream",
     "text": [
      "Epoch: 009, Train MAE: 0.1056, Train MSE: 0.0204\n",
      "Epoch: 009, Test MAE: 0.1857, Test MSE: 0.0345\n",
      "Time: 14.44131088256836\n",
      "---------------------------------------- 0.3\n",
      "graphs_train shape: 6326 graphs_train[0] shape: Data(x=[36, 267], edge_index=[2, 14], y=0.7580213903743316)\n",
      "graphs_test shape: 18 graphs_test[0] shape: Data(x=[36, 267], edge_index=[2, 15], y=0.9864999999999999)\n"
     ]
    },
    {
     "name": "stderr",
     "output_type": "stream",
     "text": [
      "/Users/haox/opt/anaconda3/lib/python3.8/site-packages/torch_geometric/deprecation.py:13: UserWarning: 'data.DataLoader' is deprecated, use 'loader.DataLoader' instead\n",
      "  warnings.warn(out)\n"
     ]
    },
    {
     "name": "stdout",
     "output_type": "stream",
     "text": [
      "Epoch: 009, Train MAE: 0.1479, Train MSE: 0.0483\n",
      "Epoch: 009, Test MAE: 0.1892, Test MSE: 0.0358\n",
      "Time: 17.816874980926514\n",
      "---------------------------------------- 0.35000000000000003\n",
      "graphs_train shape: 6343 graphs_train[0] shape: Data(x=[36, 267], edge_index=[2, 14], y=0.7580213903743316)\n",
      "graphs_test shape: 18 graphs_test[0] shape: Data(x=[36, 267], edge_index=[2, 15], y=0.9864999999999999)\n"
     ]
    },
    {
     "name": "stderr",
     "output_type": "stream",
     "text": [
      "/Users/haox/opt/anaconda3/lib/python3.8/site-packages/torch_geometric/deprecation.py:13: UserWarning: 'data.DataLoader' is deprecated, use 'loader.DataLoader' instead\n",
      "  warnings.warn(out)\n"
     ]
    },
    {
     "name": "stdout",
     "output_type": "stream",
     "text": [
      "Epoch: 009, Train MAE: 0.1316, Train MSE: 0.0368\n",
      "Epoch: 009, Test MAE: 0.2254, Test MSE: 0.0509\n",
      "Time: 17.367357969284058\n",
      "---------------------------------------- 0.4\n",
      "graphs_train shape: 7179 graphs_train[0] shape: Data(x=[36, 267], edge_index=[2, 14], y=0.7580213903743316)\n",
      "graphs_test shape: 18 graphs_test[0] shape: Data(x=[36, 267], edge_index=[2, 15], y=0.9864999999999999)\n"
     ]
    },
    {
     "name": "stderr",
     "output_type": "stream",
     "text": [
      "/Users/haox/opt/anaconda3/lib/python3.8/site-packages/torch_geometric/deprecation.py:13: UserWarning: 'data.DataLoader' is deprecated, use 'loader.DataLoader' instead\n",
      "  warnings.warn(out)\n"
     ]
    },
    {
     "name": "stdout",
     "output_type": "stream",
     "text": [
      "Epoch: 009, Train MAE: 0.1547, Train MSE: 0.0471\n",
      "Epoch: 009, Test MAE: 0.1700, Test MSE: 0.0290\n",
      "Time: 19.607698917388916\n",
      "---------------------------------------- 0.45\n",
      "graphs_train shape: 7365 graphs_train[0] shape: Data(x=[36, 267], edge_index=[2, 14], y=0.7580213903743316)\n",
      "graphs_test shape: 18 graphs_test[0] shape: Data(x=[36, 267], edge_index=[2, 15], y=0.9864999999999999)\n"
     ]
    },
    {
     "name": "stderr",
     "output_type": "stream",
     "text": [
      "/Users/haox/opt/anaconda3/lib/python3.8/site-packages/torch_geometric/deprecation.py:13: UserWarning: 'data.DataLoader' is deprecated, use 'loader.DataLoader' instead\n",
      "  warnings.warn(out)\n"
     ]
    },
    {
     "name": "stdout",
     "output_type": "stream",
     "text": [
      "Epoch: 009, Train MAE: 0.1691, Train MSE: 0.0575\n",
      "Epoch: 009, Test MAE: 0.1750, Test MSE: 0.0307\n",
      "Time: 21.142178058624268\n",
      "========================================\n",
      "5 Australian\n",
      "---------------------------------------- 0.05\n",
      "graphs_train shape: 2171 graphs_train[0] shape: Data(x=[36, 267], edge_index=[2, 14], y=0.7580213903743316)\n",
      "graphs_test shape: 216 graphs_test[0] shape: Data(x=[36, 267], edge_index=[2, 14], y=0.8492753623188405)\n"
     ]
    },
    {
     "name": "stderr",
     "output_type": "stream",
     "text": [
      "/Users/haox/opt/anaconda3/lib/python3.8/site-packages/torch_geometric/deprecation.py:13: UserWarning: 'data.DataLoader' is deprecated, use 'loader.DataLoader' instead\n",
      "  warnings.warn(out)\n"
     ]
    },
    {
     "name": "stdout",
     "output_type": "stream",
     "text": [
      "Epoch: 009, Train MAE: 0.0999, Train MSE: 0.0257\n",
      "Epoch: 009, Test MAE: 0.0709, Test MSE: 0.0109\n",
      "Time: 6.947754621505737\n",
      "---------------------------------------- 0.1\n",
      "graphs_train shape: 3447 graphs_train[0] shape: Data(x=[36, 267], edge_index=[2, 14], y=0.7580213903743316)\n",
      "graphs_test shape: 216 graphs_test[0] shape: Data(x=[36, 267], edge_index=[2, 14], y=0.8492753623188405)\n"
     ]
    },
    {
     "name": "stderr",
     "output_type": "stream",
     "text": [
      "/Users/haox/opt/anaconda3/lib/python3.8/site-packages/torch_geometric/deprecation.py:13: UserWarning: 'data.DataLoader' is deprecated, use 'loader.DataLoader' instead\n",
      "  warnings.warn(out)\n"
     ]
    },
    {
     "name": "stdout",
     "output_type": "stream",
     "text": [
      "Epoch: 009, Train MAE: 0.1120, Train MSE: 0.0259\n",
      "Epoch: 009, Test MAE: 0.0557, Test MSE: 0.0090\n",
      "Time: 10.581934928894043\n",
      "---------------------------------------- 0.15000000000000002\n",
      "graphs_train shape: 5708 graphs_train[0] shape: Data(x=[36, 267], edge_index=[2, 14], y=0.7580213903743316)\n",
      "graphs_test shape: 216 graphs_test[0] shape: Data(x=[36, 267], edge_index=[2, 14], y=0.8492753623188405)\n"
     ]
    },
    {
     "name": "stderr",
     "output_type": "stream",
     "text": [
      "/Users/haox/opt/anaconda3/lib/python3.8/site-packages/torch_geometric/deprecation.py:13: UserWarning: 'data.DataLoader' is deprecated, use 'loader.DataLoader' instead\n",
      "  warnings.warn(out)\n"
     ]
    },
    {
     "name": "stdout",
     "output_type": "stream",
     "text": [
      "Epoch: 009, Train MAE: 0.3893, Train MSE: 0.6358\n",
      "Epoch: 009, Test MAE: 0.0754, Test MSE: 0.0115\n",
      "Time: 17.578788995742798\n",
      "---------------------------------------- 0.2\n",
      "graphs_train shape: 6128 graphs_train[0] shape: Data(x=[36, 267], edge_index=[2, 14], y=0.7580213903743316)\n",
      "graphs_test shape: 216 graphs_test[0] shape: Data(x=[36, 267], edge_index=[2, 14], y=0.8492753623188405)\n"
     ]
    },
    {
     "name": "stderr",
     "output_type": "stream",
     "text": [
      "/Users/haox/opt/anaconda3/lib/python3.8/site-packages/torch_geometric/deprecation.py:13: UserWarning: 'data.DataLoader' is deprecated, use 'loader.DataLoader' instead\n",
      "  warnings.warn(out)\n"
     ]
    },
    {
     "name": "stdout",
     "output_type": "stream",
     "text": [
      "Epoch: 009, Train MAE: 0.1363, Train MSE: 0.0400\n",
      "Epoch: 009, Test MAE: 0.0522, Test MSE: 0.0062\n",
      "Time: 18.1033718585968\n",
      "---------------------------------------- 0.25\n",
      "graphs_train shape: 6981 graphs_train[0] shape: Data(x=[36, 267], edge_index=[2, 14], y=0.7580213903743316)\n",
      "graphs_test shape: 216 graphs_test[0] shape: Data(x=[36, 267], edge_index=[2, 14], y=0.8492753623188405)\n"
     ]
    },
    {
     "name": "stderr",
     "output_type": "stream",
     "text": [
      "/Users/haox/opt/anaconda3/lib/python3.8/site-packages/torch_geometric/deprecation.py:13: UserWarning: 'data.DataLoader' is deprecated, use 'loader.DataLoader' instead\n",
      "  warnings.warn(out)\n"
     ]
    },
    {
     "name": "stdout",
     "output_type": "stream",
     "text": [
      "Epoch: 009, Train MAE: 0.1570, Train MSE: 0.0476\n",
      "Epoch: 009, Test MAE: 0.0579, Test MSE: 0.0065\n",
      "Time: 19.75467586517334\n",
      "---------------------------------------- 0.3\n",
      "graphs_train shape: 7167 graphs_train[0] shape: Data(x=[36, 267], edge_index=[2, 14], y=0.7580213903743316)\n",
      "graphs_test shape: 216 graphs_test[0] shape: Data(x=[36, 267], edge_index=[2, 14], y=0.8492753623188405)\n"
     ]
    },
    {
     "name": "stderr",
     "output_type": "stream",
     "text": [
      "/Users/haox/opt/anaconda3/lib/python3.8/site-packages/torch_geometric/deprecation.py:13: UserWarning: 'data.DataLoader' is deprecated, use 'loader.DataLoader' instead\n",
      "  warnings.warn(out)\n"
     ]
    },
    {
     "name": "stdout",
     "output_type": "stream",
     "text": [
      "Epoch: 009, Train MAE: 0.1577, Train MSE: 0.0474\n",
      "Epoch: 009, Test MAE: 0.0595, Test MSE: 0.0066\n",
      "Time: 20.096564054489136\n",
      "---------------------------------------- 0.35000000000000003\n",
      "++++++++++++++++++++++++++++++\n",
      "Australian_MF+GIN_0.3 Australian_MF+GIN_0.35\n",
      "35 35\n",
      "---------------------------------------- 0.4\n",
      "graphs_train shape: 7383 graphs_train[0] shape: Data(x=[36, 267], edge_index=[2, 14], y=0.7580213903743316)\n",
      "graphs_test shape: 216 graphs_test[0] shape: Data(x=[36, 267], edge_index=[2, 14], y=0.8492753623188405)\n"
     ]
    },
    {
     "name": "stderr",
     "output_type": "stream",
     "text": [
      "/Users/haox/opt/anaconda3/lib/python3.8/site-packages/torch_geometric/deprecation.py:13: UserWarning: 'data.DataLoader' is deprecated, use 'loader.DataLoader' instead\n",
      "  warnings.warn(out)\n"
     ]
    },
    {
     "name": "stdout",
     "output_type": "stream",
     "text": [
      "Epoch: 009, Train MAE: 0.1596, Train MSE: 0.0466\n",
      "Epoch: 009, Test MAE: 0.0690, Test MSE: 0.0073\n",
      "Time: 21.36458992958069\n",
      "---------------------------------------- 0.45\n",
      "++++++++++++++++++++++++++++++\n",
      "Australian_MF+GIN_0.4 Australian_MF+GIN_0.45\n",
      "36 36\n",
      "========================================\n",
      "6 bank-marketing\n",
      "---------------------------------------- 0.05\n",
      "graphs_train shape: 1758 graphs_train[0] shape: Data(x=[36, 267], edge_index=[2, 14], y=0.17222222222222222)\n",
      "graphs_test shape: 409 graphs_test[0] shape: Data(x=[36, 267], edge_index=[2, 12], y=0.8865000000000001)\n"
     ]
    },
    {
     "name": "stderr",
     "output_type": "stream",
     "text": [
      "/Users/haox/opt/anaconda3/lib/python3.8/site-packages/torch_geometric/deprecation.py:13: UserWarning: 'data.DataLoader' is deprecated, use 'loader.DataLoader' instead\n",
      "  warnings.warn(out)\n"
     ]
    },
    {
     "name": "stdout",
     "output_type": "stream",
     "text": [
      "Epoch: 009, Train MAE: 0.6477, Train MSE: 1.2736\n",
      "Epoch: 009, Test MAE: 0.2373, Test MSE: 0.0631\n",
      "Time: 5.417137145996094\n",
      "---------------------------------------- 0.1\n",
      "graphs_train shape: 3759 graphs_train[0] shape: Data(x=[36, 267], edge_index=[2, 14], y=0.7580213903743316)\n",
      "graphs_test shape: 409 graphs_test[0] shape: Data(x=[36, 267], edge_index=[2, 12], y=0.8865000000000001)\n"
     ]
    },
    {
     "name": "stderr",
     "output_type": "stream",
     "text": [
      "/Users/haox/opt/anaconda3/lib/python3.8/site-packages/torch_geometric/deprecation.py:13: UserWarning: 'data.DataLoader' is deprecated, use 'loader.DataLoader' instead\n",
      "  warnings.warn(out)\n"
     ]
    },
    {
     "name": "stdout",
     "output_type": "stream",
     "text": [
      "Epoch: 009, Train MAE: 0.0824, Train MSE: 0.0183\n",
      "Epoch: 009, Test MAE: 0.0561, Test MSE: 0.0076\n",
      "Time: 11.15540623664856\n",
      "---------------------------------------- 0.15000000000000002\n",
      "graphs_train shape: 4241 graphs_train[0] shape: Data(x=[36, 267], edge_index=[2, 14], y=0.7580213903743316)\n",
      "graphs_test shape: 409 graphs_test[0] shape: Data(x=[36, 267], edge_index=[2, 12], y=0.8865000000000001)\n"
     ]
    },
    {
     "name": "stderr",
     "output_type": "stream",
     "text": [
      "/Users/haox/opt/anaconda3/lib/python3.8/site-packages/torch_geometric/deprecation.py:13: UserWarning: 'data.DataLoader' is deprecated, use 'loader.DataLoader' instead\n",
      "  warnings.warn(out)\n"
     ]
    },
    {
     "name": "stdout",
     "output_type": "stream",
     "text": [
      "Epoch: 009, Train MAE: 0.1051, Train MSE: 0.0221\n",
      "Epoch: 009, Test MAE: 0.0762, Test MSE: 0.0094\n",
      "Time: 13.470484972000122\n",
      "---------------------------------------- 0.2\n",
      "graphs_train shape: 5719 graphs_train[0] shape: Data(x=[36, 267], edge_index=[2, 14], y=0.7580213903743316)\n",
      "graphs_test shape: 409 graphs_test[0] shape: Data(x=[36, 267], edge_index=[2, 12], y=0.8865000000000001)\n"
     ]
    },
    {
     "name": "stderr",
     "output_type": "stream",
     "text": [
      "/Users/haox/opt/anaconda3/lib/python3.8/site-packages/torch_geometric/deprecation.py:13: UserWarning: 'data.DataLoader' is deprecated, use 'loader.DataLoader' instead\n",
      "  warnings.warn(out)\n"
     ]
    },
    {
     "name": "stdout",
     "output_type": "stream",
     "text": [
      "Epoch: 009, Train MAE: 0.1362, Train MSE: 0.0400\n",
      "Epoch: 009, Test MAE: 0.0910, Test MSE: 0.0114\n",
      "Time: 16.60596227645874\n",
      "---------------------------------------- 0.25\n",
      "graphs_train shape: 5935 graphs_train[0] shape: Data(x=[36, 267], edge_index=[2, 14], y=0.7580213903743316)\n",
      "graphs_test shape: 409 graphs_test[0] shape: Data(x=[36, 267], edge_index=[2, 12], y=0.8865000000000001)\n"
     ]
    },
    {
     "name": "stderr",
     "output_type": "stream",
     "text": [
      "/Users/haox/opt/anaconda3/lib/python3.8/site-packages/torch_geometric/deprecation.py:13: UserWarning: 'data.DataLoader' is deprecated, use 'loader.DataLoader' instead\n",
      "  warnings.warn(out)\n"
     ]
    },
    {
     "name": "stdout",
     "output_type": "stream",
     "text": [
      "Epoch: 009, Train MAE: 0.1364, Train MSE: 0.0396\n",
      "Epoch: 009, Test MAE: 0.0876, Test MSE: 0.0109\n",
      "Time: 16.717164039611816\n",
      "---------------------------------------- 0.3\n",
      "graphs_train shape: 6788 graphs_train[0] shape: Data(x=[36, 267], edge_index=[2, 14], y=0.7580213903743316)\n",
      "graphs_test shape: 409 graphs_test[0] shape: Data(x=[36, 267], edge_index=[2, 12], y=0.8865000000000001)\n"
     ]
    },
    {
     "name": "stderr",
     "output_type": "stream",
     "text": [
      "/Users/haox/opt/anaconda3/lib/python3.8/site-packages/torch_geometric/deprecation.py:13: UserWarning: 'data.DataLoader' is deprecated, use 'loader.DataLoader' instead\n",
      "  warnings.warn(out)\n"
     ]
    },
    {
     "name": "stdout",
     "output_type": "stream",
     "text": [
      "Epoch: 009, Train MAE: 0.1573, Train MSE: 0.0490\n",
      "Epoch: 009, Test MAE: 0.0712, Test MSE: 0.0089\n",
      "Time: 20.122116804122925\n",
      "---------------------------------------- 0.35000000000000003\n",
      "graphs_train shape: 6974 graphs_train[0] shape: Data(x=[36, 267], edge_index=[2, 14], y=0.7580213903743316)\n",
      "graphs_test shape: 409 graphs_test[0] shape: Data(x=[36, 267], edge_index=[2, 12], y=0.8865000000000001)\n"
     ]
    },
    {
     "name": "stderr",
     "output_type": "stream",
     "text": [
      "/Users/haox/opt/anaconda3/lib/python3.8/site-packages/torch_geometric/deprecation.py:13: UserWarning: 'data.DataLoader' is deprecated, use 'loader.DataLoader' instead\n",
      "  warnings.warn(out)\n"
     ]
    },
    {
     "name": "stdout",
     "output_type": "stream",
     "text": [
      "Epoch: 009, Train MAE: 0.1566, Train MSE: 0.0461\n",
      "Epoch: 009, Test MAE: 0.1041, Test MSE: 0.0136\n",
      "Time: 19.007596015930176\n",
      "---------------------------------------- 0.4\n",
      "graphs_train shape: 7190 graphs_train[0] shape: Data(x=[36, 267], edge_index=[2, 14], y=0.7580213903743316)\n",
      "graphs_test shape: 409 graphs_test[0] shape: Data(x=[36, 267], edge_index=[2, 12], y=0.8865000000000001)\n"
     ]
    },
    {
     "name": "stderr",
     "output_type": "stream",
     "text": [
      "/Users/haox/opt/anaconda3/lib/python3.8/site-packages/torch_geometric/deprecation.py:13: UserWarning: 'data.DataLoader' is deprecated, use 'loader.DataLoader' instead\n",
      "  warnings.warn(out)\n"
     ]
    },
    {
     "name": "stdout",
     "output_type": "stream",
     "text": [
      "Epoch: 009, Train MAE: 0.1570, Train MSE: 0.0451\n",
      "Epoch: 009, Test MAE: 0.1033, Test MSE: 0.0134\n",
      "Time: 19.848569631576538\n",
      "---------------------------------------- 0.45\n",
      "++++++++++++++++++++++++++++++\n",
      "bank-marketing_MF+GIN_0.4 bank-marketing_MF+GIN_0.45\n",
      "36 36\n",
      "========================================\n",
      "7 blood-transfusion-service-center\n",
      "---------------------------------------- 0.05\n",
      "graphs_train shape: 1798 graphs_train[0] shape: Data(x=[36, 267], edge_index=[2, 14], y=0.8975)\n",
      "graphs_test shape: 180 graphs_test[0] shape: Data(x=[36, 267], edge_index=[2, 14], y=0.7580213903743316)\n"
     ]
    },
    {
     "name": "stderr",
     "output_type": "stream",
     "text": [
      "/Users/haox/opt/anaconda3/lib/python3.8/site-packages/torch_geometric/deprecation.py:13: UserWarning: 'data.DataLoader' is deprecated, use 'loader.DataLoader' instead\n",
      "  warnings.warn(out)\n"
     ]
    },
    {
     "name": "stdout",
     "output_type": "stream",
     "text": [
      "Epoch: 009, Train MAE: 0.1472, Train MSE: 0.0543\n",
      "Epoch: 009, Test MAE: 0.0421, Test MSE: 0.0053\n",
      "Time: 5.146063804626465\n",
      "---------------------------------------- 0.1\n",
      "graphs_train shape: 3677 graphs_train[0] shape: Data(x=[36, 267], edge_index=[2, 14], y=0.17222222222222222)\n",
      "graphs_test shape: 180 graphs_test[0] shape: Data(x=[36, 267], edge_index=[2, 14], y=0.7580213903743316)\n"
     ]
    },
    {
     "name": "stderr",
     "output_type": "stream",
     "text": [
      "/Users/haox/opt/anaconda3/lib/python3.8/site-packages/torch_geometric/deprecation.py:13: UserWarning: 'data.DataLoader' is deprecated, use 'loader.DataLoader' instead\n",
      "  warnings.warn(out)\n"
     ]
    },
    {
     "name": "stdout",
     "output_type": "stream",
     "text": [
      "Epoch: 009, Train MAE: 0.0941, Train MSE: 0.0215\n",
      "Epoch: 009, Test MAE: 0.1131, Test MSE: 0.0180\n",
      "Time: 10.102864027023315\n",
      "---------------------------------------- 0.15000000000000002\n",
      "graphs_train shape: 5471 graphs_train[0] shape: Data(x=[36, 267], edge_index=[2, 14], y=0.17222222222222222)\n",
      "graphs_test shape: 180 graphs_test[0] shape: Data(x=[36, 267], edge_index=[2, 14], y=0.7580213903743316)\n"
     ]
    },
    {
     "name": "stderr",
     "output_type": "stream",
     "text": [
      "/Users/haox/opt/anaconda3/lib/python3.8/site-packages/torch_geometric/deprecation.py:13: UserWarning: 'data.DataLoader' is deprecated, use 'loader.DataLoader' instead\n",
      "  warnings.warn(out)\n"
     ]
    },
    {
     "name": "stdout",
     "output_type": "stream",
     "text": [
      "Epoch: 009, Train MAE: 0.1257, Train MSE: 0.0387\n",
      "Epoch: 009, Test MAE: 0.0924, Test MSE: 0.0138\n",
      "Time: 14.919173240661621\n",
      "---------------------------------------- 0.2\n",
      "graphs_train shape: 6181 graphs_train[0] shape: Data(x=[36, 267], edge_index=[2, 14], y=0.17222222222222222)\n",
      "graphs_test shape: 180 graphs_test[0] shape: Data(x=[36, 267], edge_index=[2, 14], y=0.7580213903743316)\n"
     ]
    },
    {
     "name": "stderr",
     "output_type": "stream",
     "text": [
      "/Users/haox/opt/anaconda3/lib/python3.8/site-packages/torch_geometric/deprecation.py:13: UserWarning: 'data.DataLoader' is deprecated, use 'loader.DataLoader' instead\n",
      "  warnings.warn(out)\n"
     ]
    },
    {
     "name": "stdout",
     "output_type": "stream",
     "text": [
      "Epoch: 009, Train MAE: 0.1338, Train MSE: 0.0392\n",
      "Epoch: 009, Test MAE: 0.0614, Test MSE: 0.0090\n",
      "Time: 16.824394941329956\n",
      "---------------------------------------- 0.25\n",
      "graphs_train shape: 7017 graphs_train[0] shape: Data(x=[36, 267], edge_index=[2, 14], y=0.17222222222222222)\n",
      "graphs_test shape: 180 graphs_test[0] shape: Data(x=[36, 267], edge_index=[2, 14], y=0.7580213903743316)\n"
     ]
    },
    {
     "name": "stderr",
     "output_type": "stream",
     "text": [
      "/Users/haox/opt/anaconda3/lib/python3.8/site-packages/torch_geometric/deprecation.py:13: UserWarning: 'data.DataLoader' is deprecated, use 'loader.DataLoader' instead\n",
      "  warnings.warn(out)\n"
     ]
    },
    {
     "name": "stdout",
     "output_type": "stream",
     "text": [
      "Epoch: 009, Train MAE: 0.1561, Train MSE: 0.0476\n",
      "Epoch: 009, Test MAE: 0.0743, Test MSE: 0.0107\n",
      "Time: 19.05123782157898\n",
      "---------------------------------------- 0.3\n",
      "graphs_train shape: 7203 graphs_train[0] shape: Data(x=[36, 267], edge_index=[2, 14], y=0.17222222222222222)\n",
      "graphs_test shape: 180 graphs_test[0] shape: Data(x=[36, 267], edge_index=[2, 14], y=0.7580213903743316)\n"
     ]
    },
    {
     "name": "stderr",
     "output_type": "stream",
     "text": [
      "/Users/haox/opt/anaconda3/lib/python3.8/site-packages/torch_geometric/deprecation.py:13: UserWarning: 'data.DataLoader' is deprecated, use 'loader.DataLoader' instead\n",
      "  warnings.warn(out)\n"
     ]
    },
    {
     "name": "stdout",
     "output_type": "stream",
     "text": [
      "Epoch: 009, Train MAE: 0.1839, Train MSE: 0.0797\n",
      "Epoch: 009, Test MAE: 0.0572, Test MSE: 0.0085\n",
      "Time: 19.617003679275513\n",
      "---------------------------------------- 0.35000000000000003\n",
      "graphs_train shape: 7419 graphs_train[0] shape: Data(x=[36, 267], edge_index=[2, 14], y=0.17222222222222222)\n",
      "graphs_test shape: 180 graphs_test[0] shape: Data(x=[36, 267], edge_index=[2, 14], y=0.7580213903743316)\n"
     ]
    },
    {
     "name": "stderr",
     "output_type": "stream",
     "text": [
      "/Users/haox/opt/anaconda3/lib/python3.8/site-packages/torch_geometric/deprecation.py:13: UserWarning: 'data.DataLoader' is deprecated, use 'loader.DataLoader' instead\n",
      "  warnings.warn(out)\n"
     ]
    },
    {
     "name": "stdout",
     "output_type": "stream",
     "text": [
      "Epoch: 009, Train MAE: 0.1593, Train MSE: 0.0466\n",
      "Epoch: 009, Test MAE: 0.0576, Test MSE: 0.0085\n",
      "Time: 20.086877822875977\n",
      "---------------------------------------- 0.4\n",
      "++++++++++++++++++++++++++++++\n",
      "blood-transfusion-service-center_MF+GIN_0.35 blood-transfusion-service-center_MF+GIN_0.4\n",
      "36 36\n",
      "---------------------------------------- 0.45\n",
      "graphs_train shape: 7427 graphs_train[0] shape: Data(x=[36, 267], edge_index=[2, 14], y=0.17222222222222222)\n",
      "graphs_test shape: 180 graphs_test[0] shape: Data(x=[36, 267], edge_index=[2, 14], y=0.7580213903743316)\n"
     ]
    },
    {
     "name": "stderr",
     "output_type": "stream",
     "text": [
      "/Users/haox/opt/anaconda3/lib/python3.8/site-packages/torch_geometric/deprecation.py:13: UserWarning: 'data.DataLoader' is deprecated, use 'loader.DataLoader' instead\n",
      "  warnings.warn(out)\n"
     ]
    },
    {
     "name": "stdout",
     "output_type": "stream",
     "text": [
      "Epoch: 009, Train MAE: 0.1603, Train MSE: 0.0469\n",
      "Epoch: 009, Test MAE: 0.0568, Test MSE: 0.0084\n",
      "Time: 20.15715193748474\n",
      "========================================\n",
      "8 car\n",
      "---------------------------------------- 0.05\n",
      "graphs_train shape: 2121 graphs_train[0] shape: Data(x=[36, 267], edge_index=[2, 14], y=0.7580213903743316)\n",
      "graphs_test shape: 266 graphs_test[0] shape: Data(x=[36, 267], edge_index=[2, 15], y=0.880787037037037)\n"
     ]
    },
    {
     "name": "stderr",
     "output_type": "stream",
     "text": [
      "/Users/haox/opt/anaconda3/lib/python3.8/site-packages/torch_geometric/deprecation.py:13: UserWarning: 'data.DataLoader' is deprecated, use 'loader.DataLoader' instead\n",
      "  warnings.warn(out)\n"
     ]
    },
    {
     "name": "stdout",
     "output_type": "stream",
     "text": [
      "Epoch: 009, Train MAE: 0.0829, Train MSE: 0.0172\n",
      "Epoch: 009, Test MAE: 0.1204, Test MSE: 0.0322\n",
      "Time: 6.115669012069702\n",
      "---------------------------------------- 0.1\n",
      "graphs_train shape: 3613 graphs_train[0] shape: Data(x=[36, 267], edge_index=[2, 14], y=0.7580213903743316)\n",
      "graphs_test shape: 266 graphs_test[0] shape: Data(x=[36, 267], edge_index=[2, 15], y=0.880787037037037)\n"
     ]
    },
    {
     "name": "stderr",
     "output_type": "stream",
     "text": [
      "/Users/haox/opt/anaconda3/lib/python3.8/site-packages/torch_geometric/deprecation.py:13: UserWarning: 'data.DataLoader' is deprecated, use 'loader.DataLoader' instead\n",
      "  warnings.warn(out)\n"
     ]
    },
    {
     "name": "stdout",
     "output_type": "stream",
     "text": [
      "Epoch: 009, Train MAE: 0.0836, Train MSE: 0.0174\n",
      "Epoch: 009, Test MAE: 0.1204, Test MSE: 0.0324\n",
      "Time: 10.32729196548462\n",
      "---------------------------------------- 0.15000000000000002\n",
      "graphs_train shape: 5658 graphs_train[0] shape: Data(x=[36, 267], edge_index=[2, 14], y=0.7580213903743316)\n",
      "graphs_test shape: 266 graphs_test[0] shape: Data(x=[36, 267], edge_index=[2, 15], y=0.880787037037037)\n"
     ]
    },
    {
     "name": "stderr",
     "output_type": "stream",
     "text": [
      "/Users/haox/opt/anaconda3/lib/python3.8/site-packages/torch_geometric/deprecation.py:13: UserWarning: 'data.DataLoader' is deprecated, use 'loader.DataLoader' instead\n",
      "  warnings.warn(out)\n"
     ]
    },
    {
     "name": "stdout",
     "output_type": "stream",
     "text": [
      "Epoch: 009, Train MAE: 0.1158, Train MSE: 0.0238\n",
      "Epoch: 009, Test MAE: 0.1227, Test MSE: 0.0324\n",
      "Time: 16.031434774398804\n",
      "---------------------------------------- 0.2\n",
      "graphs_train shape: 6078 graphs_train[0] shape: Data(x=[36, 267], edge_index=[2, 14], y=0.7580213903743316)\n",
      "graphs_test shape: 266 graphs_test[0] shape: Data(x=[36, 267], edge_index=[2, 15], y=0.880787037037037)\n"
     ]
    },
    {
     "name": "stderr",
     "output_type": "stream",
     "text": [
      "/Users/haox/opt/anaconda3/lib/python3.8/site-packages/torch_geometric/deprecation.py:13: UserWarning: 'data.DataLoader' is deprecated, use 'loader.DataLoader' instead\n",
      "  warnings.warn(out)\n"
     ]
    },
    {
     "name": "stdout",
     "output_type": "stream",
     "text": [
      "Epoch: 009, Train MAE: 0.1362, Train MSE: 0.0408\n",
      "Epoch: 009, Test MAE: 0.1232, Test MSE: 0.0334\n",
      "Time: 16.824923038482666\n",
      "---------------------------------------- 0.25\n",
      "graphs_train shape: 6931 graphs_train[0] shape: Data(x=[36, 267], edge_index=[2, 14], y=0.7580213903743316)\n",
      "graphs_test shape: 266 graphs_test[0] shape: Data(x=[36, 267], edge_index=[2, 15], y=0.880787037037037)\n"
     ]
    },
    {
     "name": "stderr",
     "output_type": "stream",
     "text": [
      "/Users/haox/opt/anaconda3/lib/python3.8/site-packages/torch_geometric/deprecation.py:13: UserWarning: 'data.DataLoader' is deprecated, use 'loader.DataLoader' instead\n",
      "  warnings.warn(out)\n"
     ]
    },
    {
     "name": "stdout",
     "output_type": "stream",
     "text": [
      "Epoch: 009, Train MAE: 0.1555, Train MSE: 0.0479\n",
      "Epoch: 009, Test MAE: 0.1226, Test MSE: 0.0331\n",
      "Time: 19.66549015045166\n",
      "---------------------------------------- 0.3\n",
      "graphs_train shape: 7117 graphs_train[0] shape: Data(x=[36, 267], edge_index=[2, 14], y=0.7580213903743316)\n",
      "graphs_test shape: 266 graphs_test[0] shape: Data(x=[36, 267], edge_index=[2, 15], y=0.880787037037037)\n"
     ]
    },
    {
     "name": "stderr",
     "output_type": "stream",
     "text": [
      "/Users/haox/opt/anaconda3/lib/python3.8/site-packages/torch_geometric/deprecation.py:13: UserWarning: 'data.DataLoader' is deprecated, use 'loader.DataLoader' instead\n",
      "  warnings.warn(out)\n"
     ]
    },
    {
     "name": "stdout",
     "output_type": "stream",
     "text": [
      "Epoch: 009, Train MAE: 0.1562, Train MSE: 0.0462\n",
      "Epoch: 009, Test MAE: 0.1209, Test MSE: 0.0324\n",
      "Time: 21.45595908164978\n",
      "---------------------------------------- 0.35000000000000003\n",
      "graphs_train shape: 7333 graphs_train[0] shape: Data(x=[36, 267], edge_index=[2, 14], y=0.7580213903743316)\n",
      "graphs_test shape: 266 graphs_test[0] shape: Data(x=[36, 267], edge_index=[2, 15], y=0.880787037037037)\n"
     ]
    },
    {
     "name": "stderr",
     "output_type": "stream",
     "text": [
      "/Users/haox/opt/anaconda3/lib/python3.8/site-packages/torch_geometric/deprecation.py:13: UserWarning: 'data.DataLoader' is deprecated, use 'loader.DataLoader' instead\n",
      "  warnings.warn(out)\n"
     ]
    },
    {
     "name": "stdout",
     "output_type": "stream",
     "text": [
      "Epoch: 009, Train MAE: 0.1553, Train MSE: 0.0440\n",
      "Epoch: 009, Test MAE: 0.1205, Test MSE: 0.0322\n",
      "Time: 21.057120084762573\n",
      "---------------------------------------- 0.4\n",
      "++++++++++++++++++++++++++++++\n",
      "car_MF+GIN_0.35 car_MF+GIN_0.4\n",
      "36 36\n",
      "---------------------------------------- 0.45\n",
      "++++++++++++++++++++++++++++++\n",
      "car_MF+GIN_0.4 car_MF+GIN_0.45\n",
      "36 36\n",
      "========================================\n",
      "9 christine\n",
      "---------------------------------------- 0.05\n",
      "graphs_train shape: 852 graphs_train[0] shape: Data(x=[36, 267], edge_index=[2, 14], y=0.23099999999999998)\n",
      "graphs_test shape: 216 graphs_test[0] shape: Data(x=[36, 267], edge_index=[2, 12], y=0.7275)\n"
     ]
    },
    {
     "name": "stderr",
     "output_type": "stream",
     "text": [
      "/Users/haox/opt/anaconda3/lib/python3.8/site-packages/torch_geometric/deprecation.py:13: UserWarning: 'data.DataLoader' is deprecated, use 'loader.DataLoader' instead\n",
      "  warnings.warn(out)\n"
     ]
    },
    {
     "name": "stdout",
     "output_type": "stream",
     "text": [
      "Epoch: 009, Train MAE: 0.1790, Train MSE: 0.0456\n",
      "Epoch: 009, Test MAE: 0.1983, Test MSE: 0.0426\n",
      "Time: 2.6885740756988525\n",
      "---------------------------------------- 0.1\n",
      "graphs_train shape: 2547 graphs_train[0] shape: Data(x=[36, 267], edge_index=[2, 14], y=0.23099999999999998)\n",
      "graphs_test shape: 216 graphs_test[0] shape: Data(x=[36, 267], edge_index=[2, 12], y=0.7275)\n"
     ]
    },
    {
     "name": "stderr",
     "output_type": "stream",
     "text": [
      "/Users/haox/opt/anaconda3/lib/python3.8/site-packages/torch_geometric/deprecation.py:13: UserWarning: 'data.DataLoader' is deprecated, use 'loader.DataLoader' instead\n",
      "  warnings.warn(out)\n"
     ]
    },
    {
     "name": "stdout",
     "output_type": "stream",
     "text": [
      "Epoch: 009, Train MAE: 0.1275, Train MSE: 0.0349\n",
      "Epoch: 009, Test MAE: 0.2027, Test MSE: 0.0446\n",
      "Time: 7.261944055557251\n",
      "---------------------------------------- 0.15000000000000002\n",
      "graphs_train shape: 3581 graphs_train[0] shape: Data(x=[36, 267], edge_index=[2, 14], y=0.7580213903743316)\n",
      "graphs_test shape: 216 graphs_test[0] shape: Data(x=[36, 267], edge_index=[2, 12], y=0.7275)\n"
     ]
    },
    {
     "name": "stderr",
     "output_type": "stream",
     "text": [
      "/Users/haox/opt/anaconda3/lib/python3.8/site-packages/torch_geometric/deprecation.py:13: UserWarning: 'data.DataLoader' is deprecated, use 'loader.DataLoader' instead\n",
      "  warnings.warn(out)\n"
     ]
    },
    {
     "name": "stdout",
     "output_type": "stream",
     "text": [
      "Epoch: 009, Train MAE: 0.1418, Train MSE: 0.0377\n",
      "Epoch: 009, Test MAE: 0.0457, Test MSE: 0.0033\n",
      "Time: 9.998497009277344\n",
      "---------------------------------------- 0.2\n",
      "graphs_train shape: 4927 graphs_train[0] shape: Data(x=[36, 267], edge_index=[2, 14], y=0.7580213903743316)\n",
      "graphs_test shape: 216 graphs_test[0] shape: Data(x=[36, 267], edge_index=[2, 12], y=0.7275)\n"
     ]
    },
    {
     "name": "stderr",
     "output_type": "stream",
     "text": [
      "/Users/haox/opt/anaconda3/lib/python3.8/site-packages/torch_geometric/deprecation.py:13: UserWarning: 'data.DataLoader' is deprecated, use 'loader.DataLoader' instead\n",
      "  warnings.warn(out)\n"
     ]
    },
    {
     "name": "stdout",
     "output_type": "stream",
     "text": [
      "Epoch: 009, Train MAE: 0.1500, Train MSE: 0.0441\n",
      "Epoch: 009, Test MAE: 0.0628, Test MSE: 0.0072\n",
      "Time: 13.630460977554321\n",
      "---------------------------------------- 0.25\n",
      "graphs_train shape: 6180 graphs_train[0] shape: Data(x=[36, 267], edge_index=[2, 14], y=0.7580213903743316)\n",
      "graphs_test shape: 216 graphs_test[0] shape: Data(x=[36, 267], edge_index=[2, 12], y=0.7275)\n"
     ]
    },
    {
     "name": "stderr",
     "output_type": "stream",
     "text": [
      "/Users/haox/opt/anaconda3/lib/python3.8/site-packages/torch_geometric/deprecation.py:13: UserWarning: 'data.DataLoader' is deprecated, use 'loader.DataLoader' instead\n",
      "  warnings.warn(out)\n"
     ]
    },
    {
     "name": "stdout",
     "output_type": "stream",
     "text": [
      "Epoch: 009, Train MAE: 0.1498, Train MSE: 0.0433\n",
      "Epoch: 009, Test MAE: 0.0800, Test MSE: 0.0097\n",
      "Time: 17.210427045822144\n",
      "---------------------------------------- 0.3\n",
      "graphs_train shape: 6913 graphs_train[0] shape: Data(x=[36, 267], edge_index=[2, 14], y=0.7580213903743316)\n",
      "graphs_test shape: 216 graphs_test[0] shape: Data(x=[36, 267], edge_index=[2, 12], y=0.7275)\n"
     ]
    },
    {
     "name": "stderr",
     "output_type": "stream",
     "text": [
      "/Users/haox/opt/anaconda3/lib/python3.8/site-packages/torch_geometric/deprecation.py:13: UserWarning: 'data.DataLoader' is deprecated, use 'loader.DataLoader' instead\n",
      "  warnings.warn(out)\n"
     ]
    },
    {
     "name": "stdout",
     "output_type": "stream",
     "text": [
      "Epoch: 009, Train MAE: 0.1529, Train MSE: 0.0442\n",
      "Epoch: 009, Test MAE: 0.1066, Test MSE: 0.0146\n",
      "Time: 19.614650011062622\n",
      "---------------------------------------- 0.35000000000000003\n",
      "graphs_train shape: 7391 graphs_train[0] shape: Data(x=[36, 267], edge_index=[2, 14], y=0.7580213903743316)\n",
      "graphs_test shape: 216 graphs_test[0] shape: Data(x=[36, 267], edge_index=[2, 12], y=0.7275)\n"
     ]
    },
    {
     "name": "stderr",
     "output_type": "stream",
     "text": [
      "/Users/haox/opt/anaconda3/lib/python3.8/site-packages/torch_geometric/deprecation.py:13: UserWarning: 'data.DataLoader' is deprecated, use 'loader.DataLoader' instead\n",
      "  warnings.warn(out)\n"
     ]
    },
    {
     "name": "stdout",
     "output_type": "stream",
     "text": [
      "Epoch: 009, Train MAE: 0.1597, Train MSE: 0.0476\n",
      "Epoch: 009, Test MAE: 0.1304, Test MSE: 0.0203\n",
      "Time: 21.758548974990845\n",
      "---------------------------------------- 0.4\n",
      "++++++++++++++++++++++++++++++\n",
      "christine_MF+GIN_0.35 christine_MF+GIN_0.4\n",
      "37 37\n",
      "---------------------------------------- 0.45\n",
      "graphs_train shape: 7595 graphs_train[0] shape: Data(x=[36, 267], edge_index=[2, 14], y=0.7580213903743316)\n",
      "graphs_test shape: 216 graphs_test[0] shape: Data(x=[36, 267], edge_index=[2, 12], y=0.7275)\n"
     ]
    },
    {
     "name": "stderr",
     "output_type": "stream",
     "text": [
      "/Users/haox/opt/anaconda3/lib/python3.8/site-packages/torch_geometric/deprecation.py:13: UserWarning: 'data.DataLoader' is deprecated, use 'loader.DataLoader' instead\n",
      "  warnings.warn(out)\n"
     ]
    },
    {
     "name": "stdout",
     "output_type": "stream",
     "text": [
      "Epoch: 009, Train MAE: 0.1855, Train MSE: 0.0709\n",
      "Epoch: 009, Test MAE: 0.1934, Test MSE: 0.0407\n",
      "Time: 21.849985122680664\n",
      "========================================\n",
      "10 cnae-9\n",
      "---------------------------------------- 0.05\n",
      "graphs_train shape: 1549 graphs_train[0] shape: Data(x=[36, 267], edge_index=[2, 13], y=0.836)\n",
      "graphs_test shape: 196 graphs_test[0] shape: Data(x=[36, 267], edge_index=[2, 14], y=0.17222222222222222)\n"
     ]
    },
    {
     "name": "stderr",
     "output_type": "stream",
     "text": [
      "/Users/haox/opt/anaconda3/lib/python3.8/site-packages/torch_geometric/deprecation.py:13: UserWarning: 'data.DataLoader' is deprecated, use 'loader.DataLoader' instead\n",
      "  warnings.warn(out)\n"
     ]
    },
    {
     "name": "stdout",
     "output_type": "stream",
     "text": [
      "Epoch: 009, Train MAE: 0.0873, Train MSE: 0.0128\n",
      "Epoch: 009, Test MAE: 0.4370, Test MSE: 0.2001\n",
      "Time: 4.5835559368133545\n",
      "---------------------------------------- 0.1\n",
      "graphs_train shape: 4238 graphs_train[0] shape: Data(x=[36, 267], edge_index=[2, 14], y=0.7580213903743316)\n",
      "graphs_test shape: 196 graphs_test[0] shape: Data(x=[36, 267], edge_index=[2, 14], y=0.17222222222222222)\n"
     ]
    },
    {
     "name": "stderr",
     "output_type": "stream",
     "text": [
      "/Users/haox/opt/anaconda3/lib/python3.8/site-packages/torch_geometric/deprecation.py:13: UserWarning: 'data.DataLoader' is deprecated, use 'loader.DataLoader' instead\n",
      "  warnings.warn(out)\n"
     ]
    },
    {
     "name": "stdout",
     "output_type": "stream",
     "text": [
      "Epoch: 009, Train MAE: 0.1017, Train MSE: 0.0232\n",
      "Epoch: 009, Test MAE: 0.0945, Test MSE: 0.0361\n",
      "Time: 12.472600936889648\n",
      "---------------------------------------- 0.15000000000000002\n",
      "++++++++++++++++++++++++++++++\n",
      "cnae-9_MF+GIN_0.1 cnae-9_MF+GIN_0.15\n",
      "20 20\n",
      "---------------------------------------- 0.2\n",
      "graphs_train shape: 5296 graphs_train[0] shape: Data(x=[36, 267], edge_index=[2, 14], y=0.7580213903743316)\n",
      "graphs_test shape: 196 graphs_test[0] shape: Data(x=[36, 267], edge_index=[2, 14], y=0.17222222222222222)\n"
     ]
    },
    {
     "name": "stderr",
     "output_type": "stream",
     "text": [
      "/Users/haox/opt/anaconda3/lib/python3.8/site-packages/torch_geometric/deprecation.py:13: UserWarning: 'data.DataLoader' is deprecated, use 'loader.DataLoader' instead\n",
      "  warnings.warn(out)\n"
     ]
    },
    {
     "name": "stdout",
     "output_type": "stream",
     "text": [
      "Epoch: 009, Train MAE: 0.1328, Train MSE: 0.0342\n",
      "Epoch: 009, Test MAE: 0.1243, Test MSE: 0.0480\n",
      "Time: 16.218233108520508\n",
      "---------------------------------------- 0.25\n",
      "graphs_train shape: 6148 graphs_train[0] shape: Data(x=[36, 267], edge_index=[2, 14], y=0.7580213903743316)\n",
      "graphs_test shape: 196 graphs_test[0] shape: Data(x=[36, 267], edge_index=[2, 14], y=0.17222222222222222)\n"
     ]
    },
    {
     "name": "stderr",
     "output_type": "stream",
     "text": [
      "/Users/haox/opt/anaconda3/lib/python3.8/site-packages/torch_geometric/deprecation.py:13: UserWarning: 'data.DataLoader' is deprecated, use 'loader.DataLoader' instead\n",
      "  warnings.warn(out)\n"
     ]
    },
    {
     "name": "stdout",
     "output_type": "stream",
     "text": [
      "Epoch: 009, Train MAE: 0.7985, Train MSE: 4.2162\n",
      "Epoch: 009, Test MAE: 1.6667, Test MSE: 2.8205\n",
      "Time: 17.98556399345398\n",
      "---------------------------------------- 0.3\n",
      "graphs_train shape: 6785 graphs_train[0] shape: Data(x=[36, 267], edge_index=[2, 14], y=0.7580213903743316)\n",
      "graphs_test shape: 196 graphs_test[0] shape: Data(x=[36, 267], edge_index=[2, 14], y=0.17222222222222222)\n"
     ]
    },
    {
     "name": "stderr",
     "output_type": "stream",
     "text": [
      "/Users/haox/opt/anaconda3/lib/python3.8/site-packages/torch_geometric/deprecation.py:13: UserWarning: 'data.DataLoader' is deprecated, use 'loader.DataLoader' instead\n",
      "  warnings.warn(out)\n"
     ]
    },
    {
     "name": "stdout",
     "output_type": "stream",
     "text": [
      "Epoch: 009, Train MAE: 0.1543, Train MSE: 0.0473\n",
      "Epoch: 009, Test MAE: 0.1012, Test MSE: 0.0336\n",
      "Time: 19.362571716308594\n",
      "---------------------------------------- 0.35000000000000003\n",
      "graphs_train shape: 7006 graphs_train[0] shape: Data(x=[36, 267], edge_index=[2, 14], y=0.7580213903743316)\n",
      "graphs_test shape: 196 graphs_test[0] shape: Data(x=[36, 267], edge_index=[2, 14], y=0.17222222222222222)\n"
     ]
    },
    {
     "name": "stderr",
     "output_type": "stream",
     "text": [
      "/Users/haox/opt/anaconda3/lib/python3.8/site-packages/torch_geometric/deprecation.py:13: UserWarning: 'data.DataLoader' is deprecated, use 'loader.DataLoader' instead\n",
      "  warnings.warn(out)\n"
     ]
    },
    {
     "name": "stdout",
     "output_type": "stream",
     "text": [
      "Epoch: 009, Train MAE: 0.1461, Train MSE: 0.0429\n",
      "Epoch: 009, Test MAE: 0.1021, Test MSE: 0.0335\n",
      "Time: 20.11001706123352\n",
      "---------------------------------------- 0.4\n",
      "graphs_train shape: 7187 graphs_train[0] shape: Data(x=[36, 267], edge_index=[2, 14], y=0.7580213903743316)\n",
      "graphs_test shape: 196 graphs_test[0] shape: Data(x=[36, 267], edge_index=[2, 14], y=0.17222222222222222)\n"
     ]
    },
    {
     "name": "stderr",
     "output_type": "stream",
     "text": [
      "/Users/haox/opt/anaconda3/lib/python3.8/site-packages/torch_geometric/deprecation.py:13: UserWarning: 'data.DataLoader' is deprecated, use 'loader.DataLoader' instead\n",
      "  warnings.warn(out)\n"
     ]
    },
    {
     "name": "stdout",
     "output_type": "stream",
     "text": [
      "Epoch: 009, Train MAE: 0.1556, Train MSE: 0.0438\n",
      "Epoch: 009, Test MAE: 0.1199, Test MSE: 0.0333\n",
      "Time: 20.59240698814392\n",
      "---------------------------------------- 0.45\n",
      "graphs_train shape: 7403 graphs_train[0] shape: Data(x=[36, 267], edge_index=[2, 14], y=0.7580213903743316)\n",
      "graphs_test shape: 196 graphs_test[0] shape: Data(x=[36, 267], edge_index=[2, 14], y=0.17222222222222222)\n"
     ]
    },
    {
     "name": "stderr",
     "output_type": "stream",
     "text": [
      "/Users/haox/opt/anaconda3/lib/python3.8/site-packages/torch_geometric/deprecation.py:13: UserWarning: 'data.DataLoader' is deprecated, use 'loader.DataLoader' instead\n",
      "  warnings.warn(out)\n"
     ]
    },
    {
     "name": "stdout",
     "output_type": "stream",
     "text": [
      "Epoch: 009, Train MAE: 0.1698, Train MSE: 0.0539\n",
      "Epoch: 009, Test MAE: 0.0965, Test MSE: 0.0347\n",
      "Time: 21.484792947769165\n",
      "========================================\n",
      "11 connect-4\n",
      "---------------------------------------- 0.05\n",
      "graphs_train shape: 1694 graphs_train[0] shape: Data(x=[36, 267], edge_index=[2, 14], y=0.23099999999999998)\n",
      "graphs_test shape: 216 graphs_test[0] shape: Data(x=[36, 267], edge_index=[2, 14], y=0.6665)\n"
     ]
    },
    {
     "name": "stderr",
     "output_type": "stream",
     "text": [
      "/Users/haox/opt/anaconda3/lib/python3.8/site-packages/torch_geometric/deprecation.py:13: UserWarning: 'data.DataLoader' is deprecated, use 'loader.DataLoader' instead\n",
      "  warnings.warn(out)\n"
     ]
    },
    {
     "name": "stdout",
     "output_type": "stream",
     "text": [
      "Epoch: 009, Train MAE: 0.0919, Train MSE: 0.0133\n",
      "Epoch: 009, Test MAE: 0.1064, Test MSE: 0.0280\n",
      "Time: 5.247838258743286\n",
      "---------------------------------------- 0.1\n",
      "graphs_train shape: 2547 graphs_train[0] shape: Data(x=[36, 267], edge_index=[2, 14], y=0.23099999999999998)\n",
      "graphs_test shape: 216 graphs_test[0] shape: Data(x=[36, 267], edge_index=[2, 14], y=0.6665)\n"
     ]
    },
    {
     "name": "stderr",
     "output_type": "stream",
     "text": [
      "/Users/haox/opt/anaconda3/lib/python3.8/site-packages/torch_geometric/deprecation.py:13: UserWarning: 'data.DataLoader' is deprecated, use 'loader.DataLoader' instead\n",
      "  warnings.warn(out)\n"
     ]
    },
    {
     "name": "stdout",
     "output_type": "stream",
     "text": [
      "Epoch: 009, Train MAE: 0.1373, Train MSE: 0.0389\n",
      "Epoch: 009, Test MAE: 0.0864, Test MSE: 0.0308\n",
      "Time: 10.963753938674927\n",
      "---------------------------------------- 0.15000000000000002\n",
      "graphs_train shape: 4530 graphs_train[0] shape: Data(x=[36, 267], edge_index=[2, 14], y=0.7580213903743316)\n",
      "graphs_test shape: 216 graphs_test[0] shape: Data(x=[36, 267], edge_index=[2, 14], y=0.6665)\n"
     ]
    },
    {
     "name": "stderr",
     "output_type": "stream",
     "text": [
      "/Users/haox/opt/anaconda3/lib/python3.8/site-packages/torch_geometric/deprecation.py:13: UserWarning: 'data.DataLoader' is deprecated, use 'loader.DataLoader' instead\n",
      "  warnings.warn(out)\n"
     ]
    },
    {
     "name": "stdout",
     "output_type": "stream",
     "text": [
      "Epoch: 009, Train MAE: 0.1337, Train MSE: 0.0368\n",
      "Epoch: 009, Test MAE: 0.1194, Test MSE: 0.0416\n",
      "Time: 19.58265995979309\n",
      "---------------------------------------- 0.2\n",
      "graphs_train shape: 5336 graphs_train[0] shape: Data(x=[36, 267], edge_index=[2, 14], y=0.7580213903743316)\n",
      "graphs_test shape: 216 graphs_test[0] shape: Data(x=[36, 267], edge_index=[2, 14], y=0.6665)\n"
     ]
    },
    {
     "name": "stderr",
     "output_type": "stream",
     "text": [
      "/Users/haox/opt/anaconda3/lib/python3.8/site-packages/torch_geometric/deprecation.py:13: UserWarning: 'data.DataLoader' is deprecated, use 'loader.DataLoader' instead\n",
      "  warnings.warn(out)\n"
     ]
    },
    {
     "name": "stdout",
     "output_type": "stream",
     "text": [
      "Epoch: 009, Train MAE: 0.1435, Train MSE: 0.0415\n",
      "Epoch: 009, Test MAE: 0.1485, Test MSE: 0.0501\n",
      "Time: 23.956371784210205\n",
      "---------------------------------------- 0.25\n",
      "graphs_train shape: 6612 graphs_train[0] shape: Data(x=[36, 267], edge_index=[2, 14], y=0.7580213903743316)\n",
      "graphs_test shape: 216 graphs_test[0] shape: Data(x=[36, 267], edge_index=[2, 14], y=0.6665)\n"
     ]
    },
    {
     "name": "stderr",
     "output_type": "stream",
     "text": [
      "/Users/haox/opt/anaconda3/lib/python3.8/site-packages/torch_geometric/deprecation.py:13: UserWarning: 'data.DataLoader' is deprecated, use 'loader.DataLoader' instead\n",
      "  warnings.warn(out)\n"
     ]
    },
    {
     "name": "stdout",
     "output_type": "stream",
     "text": [
      "Epoch: 009, Train MAE: 0.1523, Train MSE: 0.0443\n",
      "Epoch: 009, Test MAE: 0.1794, Test MSE: 0.0602\n",
      "Time: 22.261173009872437\n",
      "---------------------------------------- 0.3\n",
      "graphs_train shape: 7383 graphs_train[0] shape: Data(x=[36, 267], edge_index=[2, 14], y=0.7580213903743316)\n",
      "graphs_test shape: 216 graphs_test[0] shape: Data(x=[36, 267], edge_index=[2, 14], y=0.6665)\n"
     ]
    },
    {
     "name": "stderr",
     "output_type": "stream",
     "text": [
      "/Users/haox/opt/anaconda3/lib/python3.8/site-packages/torch_geometric/deprecation.py:13: UserWarning: 'data.DataLoader' is deprecated, use 'loader.DataLoader' instead\n",
      "  warnings.warn(out)\n"
     ]
    },
    {
     "name": "stdout",
     "output_type": "stream",
     "text": [
      "Epoch: 009, Train MAE: 0.1555, Train MSE: 0.0445\n",
      "Epoch: 009, Test MAE: 0.1892, Test MSE: 0.0639\n",
      "Time: 28.05787181854248\n",
      "---------------------------------------- 0.35000000000000003\n",
      "graphs_train shape: 7391 graphs_train[0] shape: Data(x=[36, 267], edge_index=[2, 14], y=0.7580213903743316)\n",
      "graphs_test shape: 216 graphs_test[0] shape: Data(x=[36, 267], edge_index=[2, 14], y=0.6665)\n"
     ]
    },
    {
     "name": "stderr",
     "output_type": "stream",
     "text": [
      "/Users/haox/opt/anaconda3/lib/python3.8/site-packages/torch_geometric/deprecation.py:13: UserWarning: 'data.DataLoader' is deprecated, use 'loader.DataLoader' instead\n",
      "  warnings.warn(out)\n"
     ]
    },
    {
     "name": "stdout",
     "output_type": "stream",
     "text": [
      "Epoch: 009, Train MAE: 0.1573, Train MSE: 0.0458\n",
      "Epoch: 009, Test MAE: 0.1956, Test MSE: 0.0663\n",
      "Time: 32.657869815826416\n",
      "---------------------------------------- 0.4\n",
      "++++++++++++++++++++++++++++++\n",
      "connect-4_MF+GIN_0.35 connect-4_MF+GIN_0.4\n",
      "37 37\n",
      "---------------------------------------- 0.45\n",
      "graphs_train shape: 7595 graphs_train[0] shape: Data(x=[36, 267], edge_index=[2, 14], y=0.7580213903743316)\n",
      "graphs_test shape: 216 graphs_test[0] shape: Data(x=[36, 267], edge_index=[2, 14], y=0.6665)\n"
     ]
    },
    {
     "name": "stderr",
     "output_type": "stream",
     "text": [
      "/Users/haox/opt/anaconda3/lib/python3.8/site-packages/torch_geometric/deprecation.py:13: UserWarning: 'data.DataLoader' is deprecated, use 'loader.DataLoader' instead\n",
      "  warnings.warn(out)\n"
     ]
    },
    {
     "name": "stdout",
     "output_type": "stream",
     "text": [
      "Epoch: 009, Train MAE: 0.1660, Train MSE: 0.0534\n",
      "Epoch: 009, Test MAE: 0.1848, Test MSE: 0.0622\n",
      "Time: 33.44915199279785\n",
      "========================================\n",
      "12 covertype\n",
      "---------------------------------------- 0.05\n",
      "graphs_train shape: 1694 graphs_train[0] shape: Data(x=[36, 267], edge_index=[2, 14], y=0.23099999999999998)\n",
      "graphs_test shape: 216 graphs_test[0] shape: Data(x=[36, 267], edge_index=[2, 14], y=0.678)\n"
     ]
    },
    {
     "name": "stderr",
     "output_type": "stream",
     "text": [
      "/Users/haox/opt/anaconda3/lib/python3.8/site-packages/torch_geometric/deprecation.py:13: UserWarning: 'data.DataLoader' is deprecated, use 'loader.DataLoader' instead\n",
      "  warnings.warn(out)\n"
     ]
    },
    {
     "name": "stdout",
     "output_type": "stream",
     "text": [
      "Epoch: 009, Train MAE: 0.1311, Train MSE: 0.0324\n",
      "Epoch: 009, Test MAE: 0.1153, Test MSE: 0.0249\n",
      "Time: 7.514688014984131\n",
      "---------------------------------------- 0.1\n",
      "graphs_train shape: 1899 graphs_train[0] shape: Data(x=[36, 267], edge_index=[2, 14], y=0.23099999999999998)\n",
      "graphs_test shape: 216 graphs_test[0] shape: Data(x=[36, 267], edge_index=[2, 14], y=0.678)\n"
     ]
    },
    {
     "name": "stderr",
     "output_type": "stream",
     "text": [
      "/Users/haox/opt/anaconda3/lib/python3.8/site-packages/torch_geometric/deprecation.py:13: UserWarning: 'data.DataLoader' is deprecated, use 'loader.DataLoader' instead\n",
      "  warnings.warn(out)\n"
     ]
    },
    {
     "name": "stdout",
     "output_type": "stream",
     "text": [
      "Epoch: 009, Train MAE: 0.1432, Train MSE: 0.0282\n",
      "Epoch: 009, Test MAE: 0.1194, Test MSE: 0.0249\n",
      "Time: 9.379729986190796\n",
      "---------------------------------------- 0.15000000000000002\n",
      "graphs_train shape: 4525 graphs_train[0] shape: Data(x=[36, 267], edge_index=[2, 14], y=0.7580213903743316)\n",
      "graphs_test shape: 216 graphs_test[0] shape: Data(x=[36, 267], edge_index=[2, 14], y=0.678)\n"
     ]
    },
    {
     "name": "stderr",
     "output_type": "stream",
     "text": [
      "/Users/haox/opt/anaconda3/lib/python3.8/site-packages/torch_geometric/deprecation.py:13: UserWarning: 'data.DataLoader' is deprecated, use 'loader.DataLoader' instead\n",
      "  warnings.warn(out)\n"
     ]
    },
    {
     "name": "stdout",
     "output_type": "stream",
     "text": [
      "Epoch: 009, Train MAE: 0.1461, Train MSE: 0.0471\n",
      "Epoch: 009, Test MAE: 0.1695, Test MSE: 0.0536\n",
      "Time: 21.139108896255493\n",
      "---------------------------------------- 0.2\n",
      "graphs_train shape: 5532 graphs_train[0] shape: Data(x=[36, 267], edge_index=[2, 14], y=0.7580213903743316)\n",
      "graphs_test shape: 216 graphs_test[0] shape: Data(x=[36, 267], edge_index=[2, 14], y=0.678)\n"
     ]
    },
    {
     "name": "stderr",
     "output_type": "stream",
     "text": [
      "/Users/haox/opt/anaconda3/lib/python3.8/site-packages/torch_geometric/deprecation.py:13: UserWarning: 'data.DataLoader' is deprecated, use 'loader.DataLoader' instead\n",
      "  warnings.warn(out)\n"
     ]
    },
    {
     "name": "stdout",
     "output_type": "stream",
     "text": [
      "Epoch: 009, Train MAE: 0.1455, Train MSE: 0.0436\n",
      "Epoch: 009, Test MAE: 0.1840, Test MSE: 0.0587\n",
      "Time: 24.725680112838745\n",
      "---------------------------------------- 0.25\n",
      "graphs_train shape: 6672 graphs_train[0] shape: Data(x=[36, 267], edge_index=[2, 14], y=0.7580213903743316)\n",
      "graphs_test shape: 216 graphs_test[0] shape: Data(x=[36, 267], edge_index=[2, 14], y=0.678)\n"
     ]
    },
    {
     "name": "stderr",
     "output_type": "stream",
     "text": [
      "/Users/haox/opt/anaconda3/lib/python3.8/site-packages/torch_geometric/deprecation.py:13: UserWarning: 'data.DataLoader' is deprecated, use 'loader.DataLoader' instead\n",
      "  warnings.warn(out)\n"
     ]
    },
    {
     "name": "stdout",
     "output_type": "stream",
     "text": [
      "Epoch: 009, Train MAE: 0.1492, Train MSE: 0.0428\n",
      "Epoch: 009, Test MAE: 0.1965, Test MSE: 0.0634\n",
      "Time: 29.675467014312744\n",
      "---------------------------------------- 0.3\n",
      "graphs_train shape: 7383 graphs_train[0] shape: Data(x=[36, 267], edge_index=[2, 14], y=0.7580213903743316)\n",
      "graphs_test shape: 216 graphs_test[0] shape: Data(x=[36, 267], edge_index=[2, 14], y=0.678)\n"
     ]
    },
    {
     "name": "stderr",
     "output_type": "stream",
     "text": [
      "/Users/haox/opt/anaconda3/lib/python3.8/site-packages/torch_geometric/deprecation.py:13: UserWarning: 'data.DataLoader' is deprecated, use 'loader.DataLoader' instead\n",
      "  warnings.warn(out)\n"
     ]
    },
    {
     "name": "stdout",
     "output_type": "stream",
     "text": [
      "Epoch: 009, Train MAE: 0.1551, Train MSE: 0.0450\n",
      "Epoch: 009, Test MAE: 0.2836, Test MSE: 0.1053\n",
      "Time: 30.884692907333374\n",
      "---------------------------------------- 0.35000000000000003\n",
      "graphs_train shape: 7391 graphs_train[0] shape: Data(x=[36, 267], edge_index=[2, 14], y=0.7580213903743316)\n",
      "graphs_test shape: 216 graphs_test[0] shape: Data(x=[36, 267], edge_index=[2, 14], y=0.678)\n"
     ]
    },
    {
     "name": "stderr",
     "output_type": "stream",
     "text": [
      "/Users/haox/opt/anaconda3/lib/python3.8/site-packages/torch_geometric/deprecation.py:13: UserWarning: 'data.DataLoader' is deprecated, use 'loader.DataLoader' instead\n",
      "  warnings.warn(out)\n"
     ]
    },
    {
     "name": "stdout",
     "output_type": "stream",
     "text": [
      "Epoch: 009, Train MAE: 0.1530, Train MSE: 0.0414\n",
      "Epoch: 009, Test MAE: 0.1814, Test MSE: 0.0577\n",
      "Time: 32.47807216644287\n",
      "---------------------------------------- 0.4\n",
      "++++++++++++++++++++++++++++++\n",
      "covertype_MF+GIN_0.35 covertype_MF+GIN_0.4\n",
      "37 37\n",
      "---------------------------------------- 0.45\n",
      "graphs_train shape: 7595 graphs_train[0] shape: Data(x=[36, 267], edge_index=[2, 14], y=0.7580213903743316)\n",
      "graphs_test shape: 216 graphs_test[0] shape: Data(x=[36, 267], edge_index=[2, 14], y=0.678)\n"
     ]
    },
    {
     "name": "stderr",
     "output_type": "stream",
     "text": [
      "/Users/haox/opt/anaconda3/lib/python3.8/site-packages/torch_geometric/deprecation.py:13: UserWarning: 'data.DataLoader' is deprecated, use 'loader.DataLoader' instead\n",
      "  warnings.warn(out)\n"
     ]
    },
    {
     "name": "stdout",
     "output_type": "stream",
     "text": [
      "Epoch: 009, Train MAE: 0.1684, Train MSE: 0.0544\n",
      "Epoch: 009, Test MAE: 0.2107, Test MSE: 0.0692\n",
      "Time: 33.984997034072876\n",
      "========================================\n",
      "13 credit-g\n",
      "---------------------------------------- 0.05\n",
      "graphs_train shape: 1284 graphs_train[0] shape: Data(x=[36, 267], edge_index=[2, 14], y=0.23099999999999998)\n",
      "graphs_test shape: 410 graphs_test[0] shape: Data(x=[36, 267], edge_index=[2, 15], y=0.687)\n"
     ]
    },
    {
     "name": "stderr",
     "output_type": "stream",
     "text": [
      "/Users/haox/opt/anaconda3/lib/python3.8/site-packages/torch_geometric/deprecation.py:13: UserWarning: 'data.DataLoader' is deprecated, use 'loader.DataLoader' instead\n",
      "  warnings.warn(out)\n"
     ]
    },
    {
     "name": "stdout",
     "output_type": "stream",
     "text": [
      "Epoch: 009, Train MAE: 0.1829, Train MSE: 0.0475\n",
      "Epoch: 009, Test MAE: 0.2254, Test MSE: 0.0532\n",
      "Time: 5.947027921676636\n",
      "---------------------------------------- 0.1\n",
      "graphs_train shape: 2564 graphs_train[0] shape: Data(x=[36, 267], edge_index=[2, 14], y=0.7580213903743316)\n",
      "graphs_test shape: 410 graphs_test[0] shape: Data(x=[36, 267], edge_index=[2, 15], y=0.687)\n"
     ]
    },
    {
     "name": "stderr",
     "output_type": "stream",
     "text": [
      "/Users/haox/opt/anaconda3/lib/python3.8/site-packages/torch_geometric/deprecation.py:13: UserWarning: 'data.DataLoader' is deprecated, use 'loader.DataLoader' instead\n",
      "  warnings.warn(out)\n"
     ]
    },
    {
     "name": "stdout",
     "output_type": "stream",
     "text": [
      "Epoch: 009, Train MAE: 0.1309, Train MSE: 0.0482\n",
      "Epoch: 009, Test MAE: 0.0448, Test MSE: 0.0042\n",
      "Time: 12.311368227005005\n",
      "---------------------------------------- 0.15000000000000002\n",
      "graphs_train shape: 4331 graphs_train[0] shape: Data(x=[36, 267], edge_index=[2, 14], y=0.7580213903743316)\n",
      "graphs_test shape: 410 graphs_test[0] shape: Data(x=[36, 267], edge_index=[2, 15], y=0.687)\n"
     ]
    },
    {
     "name": "stderr",
     "output_type": "stream",
     "text": [
      "/Users/haox/opt/anaconda3/lib/python3.8/site-packages/torch_geometric/deprecation.py:13: UserWarning: 'data.DataLoader' is deprecated, use 'loader.DataLoader' instead\n",
      "  warnings.warn(out)\n"
     ]
    },
    {
     "name": "stdout",
     "output_type": "stream",
     "text": [
      "Epoch: 009, Train MAE: 0.1391, Train MSE: 0.0395\n",
      "Epoch: 009, Test MAE: 0.0347, Test MSE: 0.0028\n",
      "Time: 19.038923978805542\n",
      "---------------------------------------- 0.2\n",
      "graphs_train shape: 5770 graphs_train[0] shape: Data(x=[36, 267], edge_index=[2, 14], y=0.7580213903743316)\n",
      "graphs_test shape: 410 graphs_test[0] shape: Data(x=[36, 267], edge_index=[2, 15], y=0.687)\n"
     ]
    },
    {
     "name": "stderr",
     "output_type": "stream",
     "text": [
      "/Users/haox/opt/anaconda3/lib/python3.8/site-packages/torch_geometric/deprecation.py:13: UserWarning: 'data.DataLoader' is deprecated, use 'loader.DataLoader' instead\n",
      "  warnings.warn(out)\n"
     ]
    },
    {
     "name": "stdout",
     "output_type": "stream",
     "text": [
      "Epoch: 009, Train MAE: 0.1497, Train MSE: 0.0423\n",
      "Epoch: 009, Test MAE: 0.0527, Test MSE: 0.0052\n",
      "Time: 26.924122095108032\n",
      "---------------------------------------- 0.25\n",
      "graphs_train shape: 6923 graphs_train[0] shape: Data(x=[36, 267], edge_index=[2, 14], y=0.7580213903743316)\n",
      "graphs_test shape: 410 graphs_test[0] shape: Data(x=[36, 267], edge_index=[2, 15], y=0.687)\n"
     ]
    },
    {
     "name": "stderr",
     "output_type": "stream",
     "text": [
      "/Users/haox/opt/anaconda3/lib/python3.8/site-packages/torch_geometric/deprecation.py:13: UserWarning: 'data.DataLoader' is deprecated, use 'loader.DataLoader' instead\n",
      "  warnings.warn(out)\n"
     ]
    },
    {
     "name": "stdout",
     "output_type": "stream",
     "text": [
      "Epoch: 009, Train MAE: 0.1684, Train MSE: 0.0525\n",
      "Epoch: 009, Test MAE: 0.0878, Test MSE: 0.0105\n",
      "Time: 32.11868906021118\n",
      "---------------------------------------- 0.3\n",
      "graphs_train shape: 7189 graphs_train[0] shape: Data(x=[36, 267], edge_index=[2, 14], y=0.7580213903743316)\n",
      "graphs_test shape: 410 graphs_test[0] shape: Data(x=[36, 267], edge_index=[2, 15], y=0.687)\n"
     ]
    },
    {
     "name": "stderr",
     "output_type": "stream",
     "text": [
      "/Users/haox/opt/anaconda3/lib/python3.8/site-packages/torch_geometric/deprecation.py:13: UserWarning: 'data.DataLoader' is deprecated, use 'loader.DataLoader' instead\n",
      "  warnings.warn(out)\n"
     ]
    },
    {
     "name": "stdout",
     "output_type": "stream",
     "text": [
      "Epoch: 009, Train MAE: 0.1599, Train MSE: 0.0452\n",
      "Epoch: 009, Test MAE: 0.0834, Test MSE: 0.0097\n",
      "Time: 36.438377141952515\n",
      "---------------------------------------- 0.35000000000000003\n",
      "++++++++++++++++++++++++++++++\n",
      "credit-g_MF+GIN_0.3 credit-g_MF+GIN_0.35\n",
      "36 36\n",
      "---------------------------------------- 0.4\n",
      "graphs_train shape: 7197 graphs_train[0] shape: Data(x=[36, 267], edge_index=[2, 14], y=0.7580213903743316)\n",
      "graphs_test shape: 410 graphs_test[0] shape: Data(x=[36, 267], edge_index=[2, 15], y=0.687)\n"
     ]
    },
    {
     "name": "stderr",
     "output_type": "stream",
     "text": [
      "/Users/haox/opt/anaconda3/lib/python3.8/site-packages/torch_geometric/deprecation.py:13: UserWarning: 'data.DataLoader' is deprecated, use 'loader.DataLoader' instead\n",
      "  warnings.warn(out)\n"
     ]
    },
    {
     "name": "stdout",
     "output_type": "stream",
     "text": [
      "Epoch: 009, Train MAE: 0.1632, Train MSE: 0.0499\n",
      "Epoch: 009, Test MAE: 0.1123, Test MSE: 0.0154\n",
      "Time: 30.03149104118347\n",
      "---------------------------------------- 0.45\n",
      "++++++++++++++++++++++++++++++\n",
      "credit-g_MF+GIN_0.4 credit-g_MF+GIN_0.45\n",
      "37 37\n",
      "========================================\n",
      "14 dilbert\n",
      "---------------------------------------- 0.05\n",
      "graphs_train shape: 1547 graphs_train[0] shape: Data(x=[36, 267], edge_index=[2, 14], y=0.17222222222222222)\n",
      "graphs_test shape: 216 graphs_test[0] shape: Data(x=[36, 267], edge_index=[2, 13], y=0.836)\n"
     ]
    },
    {
     "name": "stderr",
     "output_type": "stream",
     "text": [
      "/Users/haox/opt/anaconda3/lib/python3.8/site-packages/torch_geometric/deprecation.py:13: UserWarning: 'data.DataLoader' is deprecated, use 'loader.DataLoader' instead\n",
      "  warnings.warn(out)\n"
     ]
    },
    {
     "name": "stdout",
     "output_type": "stream",
     "text": [
      "Epoch: 009, Train MAE: 1.4416, Train MSE: 6.8932\n",
      "Epoch: 009, Test MAE: 0.1149, Test MSE: 0.0243\n",
      "Time: 6.69619607925415\n",
      "---------------------------------------- 0.1\n",
      "graphs_train shape: 4002 graphs_train[0] shape: Data(x=[36, 267], edge_index=[2, 14], y=0.7580213903743316)\n",
      "graphs_test shape: 216 graphs_test[0] shape: Data(x=[36, 267], edge_index=[2, 13], y=0.836)\n"
     ]
    },
    {
     "name": "stderr",
     "output_type": "stream",
     "text": [
      "/Users/haox/opt/anaconda3/lib/python3.8/site-packages/torch_geometric/deprecation.py:13: UserWarning: 'data.DataLoader' is deprecated, use 'loader.DataLoader' instead\n",
      "  warnings.warn(out)\n"
     ]
    },
    {
     "name": "stdout",
     "output_type": "stream",
     "text": [
      "Epoch: 009, Train MAE: 0.0999, Train MSE: 0.0227\n",
      "Epoch: 009, Test MAE: 0.1262, Test MSE: 0.0364\n",
      "Time: 17.972217082977295\n",
      "---------------------------------------- 0.15000000000000002\n",
      "graphs_train shape: 4218 graphs_train[0] shape: Data(x=[36, 267], edge_index=[2, 14], y=0.7580213903743316)\n",
      "graphs_test shape: 216 graphs_test[0] shape: Data(x=[36, 267], edge_index=[2, 13], y=0.836)\n"
     ]
    },
    {
     "name": "stderr",
     "output_type": "stream",
     "text": [
      "/Users/haox/opt/anaconda3/lib/python3.8/site-packages/torch_geometric/deprecation.py:13: UserWarning: 'data.DataLoader' is deprecated, use 'loader.DataLoader' instead\n",
      "  warnings.warn(out)\n"
     ]
    },
    {
     "name": "stdout",
     "output_type": "stream",
     "text": [
      "Epoch: 009, Train MAE: 0.1130, Train MSE: 0.0336\n",
      "Epoch: 009, Test MAE: 0.1203, Test MSE: 0.0338\n",
      "Time: 19.458724975585938\n",
      "---------------------------------------- 0.2\n",
      "graphs_train shape: 5060 graphs_train[0] shape: Data(x=[36, 267], edge_index=[2, 14], y=0.7580213903743316)\n",
      "graphs_test shape: 216 graphs_test[0] shape: Data(x=[36, 267], edge_index=[2, 13], y=0.836)\n"
     ]
    },
    {
     "name": "stderr",
     "output_type": "stream",
     "text": [
      "/Users/haox/opt/anaconda3/lib/python3.8/site-packages/torch_geometric/deprecation.py:13: UserWarning: 'data.DataLoader' is deprecated, use 'loader.DataLoader' instead\n",
      "  warnings.warn(out)\n"
     ]
    },
    {
     "name": "stdout",
     "output_type": "stream",
     "text": [
      "Epoch: 009, Train MAE: 0.1366, Train MSE: 0.0397\n",
      "Epoch: 009, Test MAE: 0.1093, Test MSE: 0.0249\n",
      "Time: 22.04320001602173\n",
      "---------------------------------------- 0.25\n",
      "graphs_train shape: 6128 graphs_train[0] shape: Data(x=[36, 267], edge_index=[2, 14], y=0.7580213903743316)\n",
      "graphs_test shape: 216 graphs_test[0] shape: Data(x=[36, 267], edge_index=[2, 13], y=0.836)\n"
     ]
    },
    {
     "name": "stderr",
     "output_type": "stream",
     "text": [
      "/Users/haox/opt/anaconda3/lib/python3.8/site-packages/torch_geometric/deprecation.py:13: UserWarning: 'data.DataLoader' is deprecated, use 'loader.DataLoader' instead\n",
      "  warnings.warn(out)\n"
     ]
    },
    {
     "name": "stdout",
     "output_type": "stream",
     "text": [
      "Epoch: 009, Train MAE: 0.1293, Train MSE: 0.0343\n",
      "Epoch: 009, Test MAE: 0.1113, Test MSE: 0.0282\n",
      "Time: 28.671222686767578\n",
      "---------------------------------------- 0.3\n",
      "graphs_train shape: 6145 graphs_train[0] shape: Data(x=[36, 267], edge_index=[2, 14], y=0.7580213903743316)\n",
      "graphs_test shape: 216 graphs_test[0] shape: Data(x=[36, 267], edge_index=[2, 13], y=0.836)\n"
     ]
    },
    {
     "name": "stderr",
     "output_type": "stream",
     "text": [
      "/Users/haox/opt/anaconda3/lib/python3.8/site-packages/torch_geometric/deprecation.py:13: UserWarning: 'data.DataLoader' is deprecated, use 'loader.DataLoader' instead\n",
      "  warnings.warn(out)\n"
     ]
    },
    {
     "name": "stdout",
     "output_type": "stream",
     "text": [
      "Epoch: 009, Train MAE: 0.1343, Train MSE: 0.0382\n",
      "Epoch: 009, Test MAE: 0.1113, Test MSE: 0.0282\n",
      "Time: 27.61957597732544\n",
      "---------------------------------------- 0.35000000000000003\n",
      "graphs_train shape: 6981 graphs_train[0] shape: Data(x=[36, 267], edge_index=[2, 14], y=0.7580213903743316)\n",
      "graphs_test shape: 216 graphs_test[0] shape: Data(x=[36, 267], edge_index=[2, 13], y=0.836)\n"
     ]
    },
    {
     "name": "stderr",
     "output_type": "stream",
     "text": [
      "/Users/haox/opt/anaconda3/lib/python3.8/site-packages/torch_geometric/deprecation.py:13: UserWarning: 'data.DataLoader' is deprecated, use 'loader.DataLoader' instead\n",
      "  warnings.warn(out)\n"
     ]
    },
    {
     "name": "stdout",
     "output_type": "stream",
     "text": [
      "Epoch: 009, Train MAE: 0.1549, Train MSE: 0.0465\n",
      "Epoch: 009, Test MAE: 0.1124, Test MSE: 0.0292\n",
      "Time: 29.97696805000305\n",
      "---------------------------------------- 0.4\n",
      "graphs_train shape: 7167 graphs_train[0] shape: Data(x=[36, 267], edge_index=[2, 14], y=0.7580213903743316)\n",
      "graphs_test shape: 216 graphs_test[0] shape: Data(x=[36, 267], edge_index=[2, 13], y=0.836)\n"
     ]
    },
    {
     "name": "stderr",
     "output_type": "stream",
     "text": [
      "/Users/haox/opt/anaconda3/lib/python3.8/site-packages/torch_geometric/deprecation.py:13: UserWarning: 'data.DataLoader' is deprecated, use 'loader.DataLoader' instead\n",
      "  warnings.warn(out)\n"
     ]
    },
    {
     "name": "stdout",
     "output_type": "stream",
     "text": [
      "Epoch: 009, Train MAE: 0.1550, Train MSE: 0.0452\n",
      "Epoch: 009, Test MAE: 0.1109, Test MSE: 0.0277\n",
      "Time: 30.614198207855225\n",
      "---------------------------------------- 0.45\n",
      "graphs_train shape: 7383 graphs_train[0] shape: Data(x=[36, 267], edge_index=[2, 14], y=0.7580213903743316)\n",
      "graphs_test shape: 216 graphs_test[0] shape: Data(x=[36, 267], edge_index=[2, 13], y=0.836)\n"
     ]
    },
    {
     "name": "stderr",
     "output_type": "stream",
     "text": [
      "/Users/haox/opt/anaconda3/lib/python3.8/site-packages/torch_geometric/deprecation.py:13: UserWarning: 'data.DataLoader' is deprecated, use 'loader.DataLoader' instead\n",
      "  warnings.warn(out)\n"
     ]
    },
    {
     "name": "stdout",
     "output_type": "stream",
     "text": [
      "Epoch: 009, Train MAE: 0.2245, Train MSE: 0.1397\n",
      "Epoch: 009, Test MAE: 0.1164, Test MSE: 0.0236\n",
      "Time: 34.484243869781494\n",
      "========================================\n",
      "15 dionis\n",
      "---------------------------------------- 0.05\n",
      "graphs_train shape: 1490 graphs_train[0] shape: Data(x=[36, 267], edge_index=[2, 14], y=0.5508274231678487)\n",
      "graphs_test shape: 204 graphs_test[0] shape: Data(x=[36, 267], edge_index=[2, 14], y=0.23099999999999998)\n"
     ]
    },
    {
     "name": "stderr",
     "output_type": "stream",
     "text": [
      "/Users/haox/opt/anaconda3/lib/python3.8/site-packages/torch_geometric/deprecation.py:13: UserWarning: 'data.DataLoader' is deprecated, use 'loader.DataLoader' instead\n",
      "  warnings.warn(out)\n"
     ]
    },
    {
     "name": "stdout",
     "output_type": "stream",
     "text": [
      "Epoch: 009, Train MAE: 0.1464, Train MSE: 0.0296\n",
      "Epoch: 009, Test MAE: 0.4117, Test MSE: 0.1846\n",
      "Time: 6.573073863983154\n",
      "---------------------------------------- 0.1\n",
      "graphs_train shape: 2559 graphs_train[0] shape: Data(x=[36, 267], edge_index=[2, 11], y=0.4525)\n",
      "graphs_test shape: 204 graphs_test[0] shape: Data(x=[36, 267], edge_index=[2, 14], y=0.23099999999999998)\n"
     ]
    },
    {
     "name": "stderr",
     "output_type": "stream",
     "text": [
      "/Users/haox/opt/anaconda3/lib/python3.8/site-packages/torch_geometric/deprecation.py:13: UserWarning: 'data.DataLoader' is deprecated, use 'loader.DataLoader' instead\n",
      "  warnings.warn(out)\n"
     ]
    },
    {
     "name": "stdout",
     "output_type": "stream",
     "text": [
      "Epoch: 009, Train MAE: 0.1046, Train MSE: 0.0212\n",
      "Epoch: 009, Test MAE: 0.5015, Test MSE: 0.2666\n",
      "Time: 11.840320110321045\n",
      "---------------------------------------- 0.15000000000000002\n",
      "graphs_train shape: 3809 graphs_train[0] shape: Data(x=[36, 267], edge_index=[2, 14], y=0.7580213903743316)\n",
      "graphs_test shape: 204 graphs_test[0] shape: Data(x=[36, 267], edge_index=[2, 14], y=0.23099999999999998)\n"
     ]
    },
    {
     "name": "stderr",
     "output_type": "stream",
     "text": [
      "/Users/haox/opt/anaconda3/lib/python3.8/site-packages/torch_geometric/deprecation.py:13: UserWarning: 'data.DataLoader' is deprecated, use 'loader.DataLoader' instead\n",
      "  warnings.warn(out)\n"
     ]
    },
    {
     "name": "stdout",
     "output_type": "stream",
     "text": [
      "Epoch: 009, Train MAE: 0.1356, Train MSE: 0.0314\n",
      "Epoch: 009, Test MAE: 0.5024, Test MSE: 0.2675\n",
      "Time: 18.755436182022095\n",
      "---------------------------------------- 0.2\n",
      "graphs_train shape: 5348 graphs_train[0] shape: Data(x=[36, 267], edge_index=[2, 14], y=0.7580213903743316)\n",
      "graphs_test shape: 204 graphs_test[0] shape: Data(x=[36, 267], edge_index=[2, 14], y=0.23099999999999998)\n"
     ]
    },
    {
     "name": "stderr",
     "output_type": "stream",
     "text": [
      "/Users/haox/opt/anaconda3/lib/python3.8/site-packages/torch_geometric/deprecation.py:13: UserWarning: 'data.DataLoader' is deprecated, use 'loader.DataLoader' instead\n",
      "  warnings.warn(out)\n"
     ]
    },
    {
     "name": "stdout",
     "output_type": "stream",
     "text": [
      "Epoch: 009, Train MAE: 0.1233, Train MSE: 0.0260\n",
      "Epoch: 009, Test MAE: 0.5522, Test MSE: 0.3200\n",
      "Time: 25.13107681274414\n",
      "---------------------------------------- 0.25\n",
      "graphs_train shape: 6408 graphs_train[0] shape: Data(x=[36, 267], edge_index=[2, 14], y=0.7580213903743316)\n",
      "graphs_test shape: 204 graphs_test[0] shape: Data(x=[36, 267], edge_index=[2, 14], y=0.23099999999999998)\n"
     ]
    },
    {
     "name": "stderr",
     "output_type": "stream",
     "text": [
      "/Users/haox/opt/anaconda3/lib/python3.8/site-packages/torch_geometric/deprecation.py:13: UserWarning: 'data.DataLoader' is deprecated, use 'loader.DataLoader' instead\n",
      "  warnings.warn(out)\n"
     ]
    },
    {
     "name": "stdout",
     "output_type": "stream",
     "text": [
      "Epoch: 009, Train MAE: 0.1386, Train MSE: 0.0340\n",
      "Epoch: 009, Test MAE: 0.6201, Test MSE: 0.3995\n",
      "Time: 27.29481601715088\n",
      "---------------------------------------- 0.3\n",
      "graphs_train shape: 7129 graphs_train[0] shape: Data(x=[36, 267], edge_index=[2, 14], y=0.7580213903743316)\n",
      "graphs_test shape: 204 graphs_test[0] shape: Data(x=[36, 267], edge_index=[2, 14], y=0.23099999999999998)\n"
     ]
    },
    {
     "name": "stderr",
     "output_type": "stream",
     "text": [
      "/Users/haox/opt/anaconda3/lib/python3.8/site-packages/torch_geometric/deprecation.py:13: UserWarning: 'data.DataLoader' is deprecated, use 'loader.DataLoader' instead\n",
      "  warnings.warn(out)\n"
     ]
    },
    {
     "name": "stdout",
     "output_type": "stream",
     "text": [
      "Epoch: 009, Train MAE: 0.1439, Train MSE: 0.0360\n",
      "Epoch: 009, Test MAE: 0.6402, Test MSE: 0.4249\n",
      "Time: 29.5367169380188\n",
      "---------------------------------------- 0.35000000000000003\n",
      "graphs_train shape: 7403 graphs_train[0] shape: Data(x=[36, 267], edge_index=[2, 14], y=0.7580213903743316)\n",
      "graphs_test shape: 204 graphs_test[0] shape: Data(x=[36, 267], edge_index=[2, 14], y=0.23099999999999998)\n"
     ]
    },
    {
     "name": "stderr",
     "output_type": "stream",
     "text": [
      "/Users/haox/opt/anaconda3/lib/python3.8/site-packages/torch_geometric/deprecation.py:13: UserWarning: 'data.DataLoader' is deprecated, use 'loader.DataLoader' instead\n",
      "  warnings.warn(out)\n"
     ]
    },
    {
     "name": "stdout",
     "output_type": "stream",
     "text": [
      "Epoch: 009, Train MAE: 0.1440, Train MSE: 0.0354\n",
      "Epoch: 009, Test MAE: 0.6342, Test MSE: 0.4173\n",
      "Time: 30.46926212310791\n",
      "---------------------------------------- 0.4\n",
      "++++++++++++++++++++++++++++++\n",
      "dionis_MF+GIN_0.35 dionis_MF+GIN_0.4\n",
      "37 37\n",
      "---------------------------------------- 0.45\n",
      "graphs_train shape: 7607 graphs_train[0] shape: Data(x=[36, 267], edge_index=[2, 14], y=0.7580213903743316)\n",
      "graphs_test shape: 204 graphs_test[0] shape: Data(x=[36, 267], edge_index=[2, 14], y=0.23099999999999998)\n"
     ]
    },
    {
     "name": "stderr",
     "output_type": "stream",
     "text": [
      "/Users/haox/opt/anaconda3/lib/python3.8/site-packages/torch_geometric/deprecation.py:13: UserWarning: 'data.DataLoader' is deprecated, use 'loader.DataLoader' instead\n",
      "  warnings.warn(out)\n"
     ]
    },
    {
     "name": "stdout",
     "output_type": "stream",
     "text": [
      "Epoch: 009, Train MAE: 0.1540, Train MSE: 0.0429\n",
      "Epoch: 009, Test MAE: 0.6183, Test MSE: 0.3974\n",
      "Time: 31.21931505203247\n",
      "========================================\n",
      "16 fabert\n",
      "---------------------------------------- 0.05\n",
      "graphs_train shape: 665 graphs_train[0] shape: Data(x=[36, 267], edge_index=[2, 12], y=0.4497787212787213)\n",
      "graphs_test shape: 188 graphs_test[0] shape: Data(x=[36, 267], edge_index=[2, 11], y=0.4525)\n"
     ]
    },
    {
     "name": "stderr",
     "output_type": "stream",
     "text": [
      "/Users/haox/opt/anaconda3/lib/python3.8/site-packages/torch_geometric/deprecation.py:13: UserWarning: 'data.DataLoader' is deprecated, use 'loader.DataLoader' instead\n",
      "  warnings.warn(out)\n"
     ]
    },
    {
     "name": "stdout",
     "output_type": "stream",
     "text": [
      "Epoch: 009, Train MAE: 0.0535, Train MSE: 0.0050\n",
      "Epoch: 009, Test MAE: 0.4242, Test MSE: 0.1892\n",
      "Time: 3.931563138961792\n",
      "---------------------------------------- 0.1\n",
      "graphs_train shape: 1919 graphs_train[0] shape: Data(x=[36, 267], edge_index=[2, 14], y=0.23099999999999998)\n",
      "graphs_test shape: 188 graphs_test[0] shape: Data(x=[36, 267], edge_index=[2, 11], y=0.4525)\n"
     ]
    },
    {
     "name": "stderr",
     "output_type": "stream",
     "text": [
      "/Users/haox/opt/anaconda3/lib/python3.8/site-packages/torch_geometric/deprecation.py:13: UserWarning: 'data.DataLoader' is deprecated, use 'loader.DataLoader' instead\n",
      "  warnings.warn(out)\n"
     ]
    },
    {
     "name": "stdout",
     "output_type": "stream",
     "text": [
      "Epoch: 009, Train MAE: 0.1230, Train MSE: 0.0330\n",
      "Epoch: 009, Test MAE: 0.1693, Test MSE: 0.0370\n",
      "Time: 8.1908860206604\n",
      "---------------------------------------- 0.15000000000000002\n",
      "graphs_train shape: 2977 graphs_train[0] shape: Data(x=[36, 267], edge_index=[2, 14], y=0.23099999999999998)\n",
      "graphs_test shape: 188 graphs_test[0] shape: Data(x=[36, 267], edge_index=[2, 11], y=0.4525)\n"
     ]
    },
    {
     "name": "stderr",
     "output_type": "stream",
     "text": [
      "/Users/haox/opt/anaconda3/lib/python3.8/site-packages/torch_geometric/deprecation.py:13: UserWarning: 'data.DataLoader' is deprecated, use 'loader.DataLoader' instead\n",
      "  warnings.warn(out)\n"
     ]
    },
    {
     "name": "stdout",
     "output_type": "stream",
     "text": [
      "Epoch: 009, Train MAE: 0.1209, Train MSE: 0.0297\n",
      "Epoch: 009, Test MAE: 0.2233, Test MSE: 0.0582\n",
      "Time: 12.695905923843384\n",
      "---------------------------------------- 0.2\n",
      "++++++++++++++++++++++++++++++\n",
      "fabert_MF+GIN_0.15 fabert_MF+GIN_0.2\n",
      "15 15\n",
      "---------------------------------------- 0.25\n",
      "graphs_train shape: 4963 graphs_train[0] shape: Data(x=[36, 267], edge_index=[2, 14], y=0.7580213903743316)\n",
      "graphs_test shape: 188 graphs_test[0] shape: Data(x=[36, 267], edge_index=[2, 11], y=0.4525)\n"
     ]
    },
    {
     "name": "stderr",
     "output_type": "stream",
     "text": [
      "/Users/haox/opt/anaconda3/lib/python3.8/site-packages/torch_geometric/deprecation.py:13: UserWarning: 'data.DataLoader' is deprecated, use 'loader.DataLoader' instead\n",
      "  warnings.warn(out)\n"
     ]
    },
    {
     "name": "stdout",
     "output_type": "stream",
     "text": [
      "Epoch: 009, Train MAE: 0.1326, Train MSE: 0.0346\n",
      "Epoch: 009, Test MAE: 0.2957, Test MSE: 0.0958\n",
      "Time: 21.628998279571533\n",
      "---------------------------------------- 0.3\n",
      "graphs_train shape: 5784 graphs_train[0] shape: Data(x=[36, 267], edge_index=[2, 14], y=0.7580213903743316)\n",
      "graphs_test shape: 188 graphs_test[0] shape: Data(x=[36, 267], edge_index=[2, 11], y=0.4525)\n"
     ]
    },
    {
     "name": "stderr",
     "output_type": "stream",
     "text": [
      "/Users/haox/opt/anaconda3/lib/python3.8/site-packages/torch_geometric/deprecation.py:13: UserWarning: 'data.DataLoader' is deprecated, use 'loader.DataLoader' instead\n",
      "  warnings.warn(out)\n"
     ]
    },
    {
     "name": "stdout",
     "output_type": "stream",
     "text": [
      "Epoch: 009, Train MAE: 0.1416, Train MSE: 0.0404\n",
      "Epoch: 009, Test MAE: 0.3478, Test MSE: 0.1293\n",
      "Time: 24.171422243118286\n",
      "---------------------------------------- 0.35000000000000003\n",
      "graphs_train shape: 6912 graphs_train[0] shape: Data(x=[36, 267], edge_index=[2, 14], y=0.7580213903743316)\n",
      "graphs_test shape: 188 graphs_test[0] shape: Data(x=[36, 267], edge_index=[2, 11], y=0.4525)\n"
     ]
    },
    {
     "name": "stderr",
     "output_type": "stream",
     "text": [
      "/Users/haox/opt/anaconda3/lib/python3.8/site-packages/torch_geometric/deprecation.py:13: UserWarning: 'data.DataLoader' is deprecated, use 'loader.DataLoader' instead\n",
      "  warnings.warn(out)\n"
     ]
    },
    {
     "name": "stdout",
     "output_type": "stream",
     "text": [
      "Epoch: 009, Train MAE: 0.1615, Train MSE: 0.0522\n",
      "Epoch: 009, Test MAE: 0.3805, Test MSE: 0.1532\n",
      "Time: 27.392256021499634\n",
      "---------------------------------------- 0.4\n",
      "graphs_train shape: 7623 graphs_train[0] shape: Data(x=[36, 267], edge_index=[2, 14], y=0.7580213903743316)\n",
      "graphs_test shape: 188 graphs_test[0] shape: Data(x=[36, 267], edge_index=[2, 11], y=0.4525)\n"
     ]
    },
    {
     "name": "stderr",
     "output_type": "stream",
     "text": [
      "/Users/haox/opt/anaconda3/lib/python3.8/site-packages/torch_geometric/deprecation.py:13: UserWarning: 'data.DataLoader' is deprecated, use 'loader.DataLoader' instead\n",
      "  warnings.warn(out)\n"
     ]
    },
    {
     "name": "stdout",
     "output_type": "stream",
     "text": [
      "Epoch: 009, Train MAE: 0.1637, Train MSE: 0.0518\n",
      "Epoch: 009, Test MAE: 0.3888, Test MSE: 0.1595\n",
      "Time: 33.186367988586426\n",
      "---------------------------------------- 0.45\n",
      "++++++++++++++++++++++++++++++\n",
      "fabert_MF+GIN_0.4 fabert_MF+GIN_0.45\n",
      "38 38\n",
      "========================================\n",
      "17 fashion_mnist\n",
      "---------------------------------------- 0.05\n",
      "graphs_train shape: 1762 graphs_train[0] shape: Data(x=[36, 267], edge_index=[2, 14], y=0.7580213903743316)\n",
      "graphs_test shape: 216 graphs_test[0] shape: Data(x=[36, 267], edge_index=[2, 14], y=0.35050000000000003)\n"
     ]
    },
    {
     "name": "stderr",
     "output_type": "stream",
     "text": [
      "/Users/haox/opt/anaconda3/lib/python3.8/site-packages/torch_geometric/deprecation.py:13: UserWarning: 'data.DataLoader' is deprecated, use 'loader.DataLoader' instead\n",
      "  warnings.warn(out)\n"
     ]
    },
    {
     "name": "stdout",
     "output_type": "stream",
     "text": [
      "Epoch: 009, Train MAE: 0.0755, Train MSE: 0.0136\n",
      "Epoch: 009, Test MAE: 0.1871, Test MSE: 0.0740\n",
      "Time: 7.5203118324279785\n",
      "---------------------------------------- 0.1\n",
      "graphs_train shape: 3857 graphs_train[0] shape: Data(x=[36, 267], edge_index=[2, 14], y=0.7580213903743316)\n",
      "graphs_test shape: 216 graphs_test[0] shape: Data(x=[36, 267], edge_index=[2, 14], y=0.35050000000000003)\n"
     ]
    },
    {
     "name": "stderr",
     "output_type": "stream",
     "text": [
      "/Users/haox/opt/anaconda3/lib/python3.8/site-packages/torch_geometric/deprecation.py:13: UserWarning: 'data.DataLoader' is deprecated, use 'loader.DataLoader' instead\n",
      "  warnings.warn(out)\n"
     ]
    },
    {
     "name": "stdout",
     "output_type": "stream",
     "text": [
      "Epoch: 009, Train MAE: 0.0919, Train MSE: 0.0159\n",
      "Epoch: 009, Test MAE: 0.1675, Test MSE: 0.0629\n",
      "Time: 15.89172625541687\n",
      "---------------------------------------- 0.15000000000000002\n",
      "graphs_train shape: 5442 graphs_train[0] shape: Data(x=[36, 267], edge_index=[2, 14], y=0.7580213903743316)\n",
      "graphs_test shape: 216 graphs_test[0] shape: Data(x=[36, 267], edge_index=[2, 14], y=0.35050000000000003)\n"
     ]
    },
    {
     "name": "stderr",
     "output_type": "stream",
     "text": [
      "/Users/haox/opt/anaconda3/lib/python3.8/site-packages/torch_geometric/deprecation.py:13: UserWarning: 'data.DataLoader' is deprecated, use 'loader.DataLoader' instead\n",
      "  warnings.warn(out)\n"
     ]
    },
    {
     "name": "stdout",
     "output_type": "stream",
     "text": [
      "Epoch: 009, Train MAE: 0.1242, Train MSE: 0.0371\n",
      "Epoch: 009, Test MAE: 0.1836, Test MSE: 0.0721\n",
      "Time: 25.2589590549469\n",
      "---------------------------------------- 0.2\n",
      "graphs_train shape: 6128 graphs_train[0] shape: Data(x=[36, 267], edge_index=[2, 14], y=0.7580213903743316)\n",
      "graphs_test shape: 216 graphs_test[0] shape: Data(x=[36, 267], edge_index=[2, 14], y=0.35050000000000003)\n"
     ]
    },
    {
     "name": "stderr",
     "output_type": "stream",
     "text": [
      "/Users/haox/opt/anaconda3/lib/python3.8/site-packages/torch_geometric/deprecation.py:13: UserWarning: 'data.DataLoader' is deprecated, use 'loader.DataLoader' instead\n",
      "  warnings.warn(out)\n"
     ]
    },
    {
     "name": "stdout",
     "output_type": "stream",
     "text": [
      "Epoch: 009, Train MAE: 0.1319, Train MSE: 0.0387\n",
      "Epoch: 009, Test MAE: 0.2025, Test MSE: 0.0817\n",
      "Time: 27.53488802909851\n",
      "---------------------------------------- 0.25\n",
      "graphs_train shape: 6981 graphs_train[0] shape: Data(x=[36, 267], edge_index=[2, 14], y=0.7580213903743316)\n",
      "graphs_test shape: 216 graphs_test[0] shape: Data(x=[36, 267], edge_index=[2, 14], y=0.35050000000000003)\n"
     ]
    },
    {
     "name": "stderr",
     "output_type": "stream",
     "text": [
      "/Users/haox/opt/anaconda3/lib/python3.8/site-packages/torch_geometric/deprecation.py:13: UserWarning: 'data.DataLoader' is deprecated, use 'loader.DataLoader' instead\n",
      "  warnings.warn(out)\n"
     ]
    },
    {
     "name": "stdout",
     "output_type": "stream",
     "text": [
      "Epoch: 009, Train MAE: 0.1682, Train MSE: 0.0550\n",
      "Epoch: 009, Test MAE: 0.2089, Test MSE: 0.0844\n",
      "Time: 32.90485668182373\n",
      "---------------------------------------- 0.3\n",
      "graphs_train shape: 7167 graphs_train[0] shape: Data(x=[36, 267], edge_index=[2, 14], y=0.7580213903743316)\n",
      "graphs_test shape: 216 graphs_test[0] shape: Data(x=[36, 267], edge_index=[2, 14], y=0.35050000000000003)\n"
     ]
    },
    {
     "name": "stderr",
     "output_type": "stream",
     "text": [
      "/Users/haox/opt/anaconda3/lib/python3.8/site-packages/torch_geometric/deprecation.py:13: UserWarning: 'data.DataLoader' is deprecated, use 'loader.DataLoader' instead\n",
      "  warnings.warn(out)\n"
     ]
    },
    {
     "name": "stdout",
     "output_type": "stream",
     "text": [
      "Epoch: 009, Train MAE: 0.1413, Train MSE: 0.0380\n",
      "Epoch: 009, Test MAE: 0.1553, Test MSE: 0.0527\n",
      "Time: 31.51107406616211\n",
      "---------------------------------------- 0.35000000000000003\n",
      "graphs_train shape: 7383 graphs_train[0] shape: Data(x=[36, 267], edge_index=[2, 14], y=0.7580213903743316)\n",
      "graphs_test shape: 216 graphs_test[0] shape: Data(x=[36, 267], edge_index=[2, 14], y=0.35050000000000003)\n"
     ]
    },
    {
     "name": "stderr",
     "output_type": "stream",
     "text": [
      "/Users/haox/opt/anaconda3/lib/python3.8/site-packages/torch_geometric/deprecation.py:13: UserWarning: 'data.DataLoader' is deprecated, use 'loader.DataLoader' instead\n",
      "  warnings.warn(out)\n"
     ]
    },
    {
     "name": "stdout",
     "output_type": "stream",
     "text": [
      "Epoch: 009, Train MAE: 0.1548, Train MSE: 0.0436\n",
      "Epoch: 009, Test MAE: 0.1794, Test MSE: 0.0697\n",
      "Time: 33.78207325935364\n",
      "---------------------------------------- 0.4\n",
      "++++++++++++++++++++++++++++++\n",
      "fashion_mnist_MF+GIN_0.35 fashion_mnist_MF+GIN_0.4\n",
      "36 36\n",
      "---------------------------------------- 0.45\n",
      "++++++++++++++++++++++++++++++\n",
      "fashion_mnist_MF+GIN_0.4 fashion_mnist_MF+GIN_0.45\n",
      "36 36\n",
      "========================================\n",
      "18 guillermo\n",
      "---------------------------------------- 0.05\n",
      "graphs_train shape: 836 graphs_train[0] shape: Data(x=[36, 267], edge_index=[2, 11], y=0.4525)\n",
      "graphs_test shape: 17 graphs_test[0] shape: Data(x=[36, 267], edge_index=[2, 11], y=0.696)\n"
     ]
    },
    {
     "name": "stderr",
     "output_type": "stream",
     "text": [
      "/Users/haox/opt/anaconda3/lib/python3.8/site-packages/torch_geometric/deprecation.py:13: UserWarning: 'data.DataLoader' is deprecated, use 'loader.DataLoader' instead\n",
      "  warnings.warn(out)\n"
     ]
    },
    {
     "name": "stdout",
     "output_type": "stream",
     "text": [
      "Epoch: 009, Train MAE: 0.1457, Train MSE: 0.0297\n",
      "Epoch: 009, Test MAE: 0.1351, Test MSE: 0.0210\n",
      "Time: 3.472614049911499\n",
      "---------------------------------------- 0.1\n",
      "graphs_train shape: 2090 graphs_train[0] shape: Data(x=[36, 267], edge_index=[2, 14], y=0.23099999999999998)\n",
      "graphs_test shape: 17 graphs_test[0] shape: Data(x=[36, 267], edge_index=[2, 11], y=0.696)\n"
     ]
    },
    {
     "name": "stderr",
     "output_type": "stream",
     "text": [
      "/Users/haox/opt/anaconda3/lib/python3.8/site-packages/torch_geometric/deprecation.py:13: UserWarning: 'data.DataLoader' is deprecated, use 'loader.DataLoader' instead\n",
      "  warnings.warn(out)\n"
     ]
    },
    {
     "name": "stdout",
     "output_type": "stream",
     "text": [
      "Epoch: 009, Train MAE: 0.1874, Train MSE: 0.0688\n",
      "Epoch: 009, Test MAE: 0.5523, Test MSE: 0.3091\n",
      "Time: 9.23589301109314\n",
      "---------------------------------------- 0.15000000000000002\n",
      "graphs_train shape: 3148 graphs_train[0] shape: Data(x=[36, 267], edge_index=[2, 14], y=0.23099999999999998)\n",
      "graphs_test shape: 17 graphs_test[0] shape: Data(x=[36, 267], edge_index=[2, 11], y=0.696)\n"
     ]
    },
    {
     "name": "stderr",
     "output_type": "stream",
     "text": [
      "/Users/haox/opt/anaconda3/lib/python3.8/site-packages/torch_geometric/deprecation.py:13: UserWarning: 'data.DataLoader' is deprecated, use 'loader.DataLoader' instead\n",
      "  warnings.warn(out)\n"
     ]
    },
    {
     "name": "stdout",
     "output_type": "stream",
     "text": [
      "Epoch: 009, Train MAE: 0.1287, Train MSE: 0.0334\n",
      "Epoch: 009, Test MAE: 0.0514, Test MSE: 0.0037\n",
      "Time: 11.916422843933105\n",
      "---------------------------------------- 0.2\n",
      "graphs_train shape: 3544 graphs_train[0] shape: Data(x=[36, 267], edge_index=[2, 14], y=0.7580213903743316)\n",
      "graphs_test shape: 17 graphs_test[0] shape: Data(x=[36, 267], edge_index=[2, 11], y=0.696)\n"
     ]
    },
    {
     "name": "stderr",
     "output_type": "stream",
     "text": [
      "/Users/haox/opt/anaconda3/lib/python3.8/site-packages/torch_geometric/deprecation.py:13: UserWarning: 'data.DataLoader' is deprecated, use 'loader.DataLoader' instead\n",
      "  warnings.warn(out)\n"
     ]
    },
    {
     "name": "stdout",
     "output_type": "stream",
     "text": [
      "Epoch: 009, Train MAE: 0.1266, Train MSE: 0.0302\n",
      "Epoch: 009, Test MAE: 0.0468, Test MSE: 0.0030\n",
      "Time: 16.5435152053833\n",
      "---------------------------------------- 0.25\n",
      "graphs_train shape: 5134 graphs_train[0] shape: Data(x=[36, 267], edge_index=[2, 14], y=0.7580213903743316)\n",
      "graphs_test shape: 17 graphs_test[0] shape: Data(x=[36, 267], edge_index=[2, 11], y=0.696)\n"
     ]
    },
    {
     "name": "stderr",
     "output_type": "stream",
     "text": [
      "/Users/haox/opt/anaconda3/lib/python3.8/site-packages/torch_geometric/deprecation.py:13: UserWarning: 'data.DataLoader' is deprecated, use 'loader.DataLoader' instead\n",
      "  warnings.warn(out)\n"
     ]
    },
    {
     "name": "stdout",
     "output_type": "stream",
     "text": [
      "Epoch: 009, Train MAE: 0.1387, Train MSE: 0.0368\n",
      "Epoch: 009, Test MAE: 0.0835, Test MSE: 0.0097\n",
      "Time: 23.039308071136475\n",
      "---------------------------------------- 0.3\n",
      "graphs_train shape: 6171 graphs_train[0] shape: Data(x=[36, 267], edge_index=[2, 14], y=0.7580213903743316)\n",
      "graphs_test shape: 17 graphs_test[0] shape: Data(x=[36, 267], edge_index=[2, 11], y=0.696)\n"
     ]
    },
    {
     "name": "stderr",
     "output_type": "stream",
     "text": [
      "/Users/haox/opt/anaconda3/lib/python3.8/site-packages/torch_geometric/deprecation.py:13: UserWarning: 'data.DataLoader' is deprecated, use 'loader.DataLoader' instead\n",
      "  warnings.warn(out)\n"
     ]
    },
    {
     "name": "stdout",
     "output_type": "stream",
     "text": [
      "Epoch: 009, Train MAE: 0.1453, Train MSE: 0.0412\n",
      "Epoch: 009, Test MAE: 0.1300, Test MSE: 0.0196\n",
      "Time: 28.32303786277771\n",
      "---------------------------------------- 0.35000000000000003\n",
      "graphs_train shape: 6897 graphs_train[0] shape: Data(x=[36, 267], edge_index=[2, 14], y=0.7580213903743316)\n",
      "graphs_test shape: 17 graphs_test[0] shape: Data(x=[36, 267], edge_index=[2, 11], y=0.696)\n"
     ]
    },
    {
     "name": "stderr",
     "output_type": "stream",
     "text": [
      "/Users/haox/opt/anaconda3/lib/python3.8/site-packages/torch_geometric/deprecation.py:13: UserWarning: 'data.DataLoader' is deprecated, use 'loader.DataLoader' instead\n",
      "  warnings.warn(out)\n"
     ]
    },
    {
     "name": "stdout",
     "output_type": "stream",
     "text": [
      "Epoch: 009, Train MAE: 0.1509, Train MSE: 0.0436\n",
      "Epoch: 009, Test MAE: 0.1617, Test MSE: 0.0289\n",
      "Time: 28.748533964157104\n",
      "---------------------------------------- 0.4\n",
      "graphs_train shape: 7794 graphs_train[0] shape: Data(x=[36, 267], edge_index=[2, 14], y=0.7580213903743316)\n",
      "graphs_test shape: 17 graphs_test[0] shape: Data(x=[36, 267], edge_index=[2, 11], y=0.696)\n"
     ]
    },
    {
     "name": "stderr",
     "output_type": "stream",
     "text": [
      "/Users/haox/opt/anaconda3/lib/python3.8/site-packages/torch_geometric/deprecation.py:13: UserWarning: 'data.DataLoader' is deprecated, use 'loader.DataLoader' instead\n",
      "  warnings.warn(out)\n"
     ]
    },
    {
     "name": "stdout",
     "output_type": "stream",
     "text": [
      "Epoch: 009, Train MAE: 0.1685, Train MSE: 0.0540\n",
      "Epoch: 009, Test MAE: 0.1744, Test MSE: 0.0331\n",
      "Time: 33.312788009643555\n",
      "---------------------------------------- 0.45\n",
      "++++++++++++++++++++++++++++++\n",
      "guillermo_MF+GIN_0.4 guillermo_MF+GIN_0.45\n",
      "38 38\n",
      "========================================\n",
      "19 helena\n",
      "---------------------------------------- 0.05\n",
      "---------------------------------------- 0.1\n",
      "---------------------------------------- 0.15000000000000002\n",
      "graphs_train shape: 8 graphs_train[0] shape: Data(x=[36, 267], edge_index=[2, 11], y=0.269)\n",
      "graphs_test shape: 204 graphs_test[0] shape: Data(x=[36, 267], edge_index=[2, 11], y=0.224)\n"
     ]
    },
    {
     "name": "stderr",
     "output_type": "stream",
     "text": [
      "/Users/haox/opt/anaconda3/lib/python3.8/site-packages/torch_geometric/deprecation.py:13: UserWarning: 'data.DataLoader' is deprecated, use 'loader.DataLoader' instead\n",
      "  warnings.warn(out)\n"
     ]
    },
    {
     "name": "stdout",
     "output_type": "stream",
     "text": [
      "Epoch: 009, Train MAE: 0.0473, Train MSE: 0.0031\n",
      "Epoch: 009, Test MAE: 0.0552, Test MSE: 0.0043\n",
      "Time: 0.40169596672058105\n",
      "---------------------------------------- 0.2\n",
      "++++++++++++++++++++++++++++++\n",
      "helena_MF+GIN_0.15 helena_MF+GIN_0.2\n",
      "1 1\n",
      "---------------------------------------- 0.25\n",
      "graphs_train shape: 224 graphs_train[0] shape: Data(x=[36, 267], edge_index=[2, 14], y=0.5025)\n",
      "graphs_test shape: 204 graphs_test[0] shape: Data(x=[36, 267], edge_index=[2, 11], y=0.224)\n"
     ]
    },
    {
     "name": "stderr",
     "output_type": "stream",
     "text": [
      "/Users/haox/opt/anaconda3/lib/python3.8/site-packages/torch_geometric/deprecation.py:13: UserWarning: 'data.DataLoader' is deprecated, use 'loader.DataLoader' instead\n",
      "  warnings.warn(out)\n"
     ]
    },
    {
     "name": "stdout",
     "output_type": "stream",
     "text": [
      "Epoch: 009, Train MAE: 0.0341, Train MSE: 0.0017\n",
      "Epoch: 009, Test MAE: 0.3497, Test MSE: 0.1266\n",
      "Time: 1.1615688800811768\n",
      "---------------------------------------- 0.3\n",
      "graphs_train shape: 410 graphs_train[0] shape: Data(x=[36, 267], edge_index=[2, 14], y=0.5025)\n",
      "graphs_test shape: 204 graphs_test[0] shape: Data(x=[36, 267], edge_index=[2, 11], y=0.224)\n"
     ]
    },
    {
     "name": "stderr",
     "output_type": "stream",
     "text": [
      "/Users/haox/opt/anaconda3/lib/python3.8/site-packages/torch_geometric/deprecation.py:13: UserWarning: 'data.DataLoader' is deprecated, use 'loader.DataLoader' instead\n",
      "  warnings.warn(out)\n"
     ]
    },
    {
     "name": "stdout",
     "output_type": "stream",
     "text": [
      "Epoch: 009, Train MAE: 0.0744, Train MSE: 0.0069\n",
      "Epoch: 009, Test MAE: 0.2977, Test MSE: 0.0924\n",
      "Time: 2.252964973449707\n",
      "---------------------------------------- 0.35000000000000003\n",
      "graphs_train shape: 1246 graphs_train[0] shape: Data(x=[36, 267], edge_index=[2, 11], y=0.4525)\n",
      "graphs_test shape: 204 graphs_test[0] shape: Data(x=[36, 267], edge_index=[2, 11], y=0.224)\n"
     ]
    },
    {
     "name": "stderr",
     "output_type": "stream",
     "text": [
      "/Users/haox/opt/anaconda3/lib/python3.8/site-packages/torch_geometric/deprecation.py:13: UserWarning: 'data.DataLoader' is deprecated, use 'loader.DataLoader' instead\n",
      "  warnings.warn(out)\n"
     ]
    },
    {
     "name": "stdout",
     "output_type": "stream",
     "text": [
      "Epoch: 009, Train MAE: 0.0566, Train MSE: 0.0066\n",
      "Epoch: 009, Test MAE: 0.4114, Test MSE: 0.1730\n",
      "Time: 7.681452035903931\n",
      "---------------------------------------- 0.4\n",
      "graphs_train shape: 1263 graphs_train[0] shape: Data(x=[36, 267], edge_index=[2, 11], y=0.4525)\n",
      "graphs_test shape: 204 graphs_test[0] shape: Data(x=[36, 267], edge_index=[2, 11], y=0.224)\n"
     ]
    },
    {
     "name": "stderr",
     "output_type": "stream",
     "text": [
      "/Users/haox/opt/anaconda3/lib/python3.8/site-packages/torch_geometric/deprecation.py:13: UserWarning: 'data.DataLoader' is deprecated, use 'loader.DataLoader' instead\n",
      "  warnings.warn(out)\n"
     ]
    },
    {
     "name": "stdout",
     "output_type": "stream",
     "text": [
      "Epoch: 009, Train MAE: 0.0584, Train MSE: 0.0060\n",
      "Epoch: 009, Test MAE: 0.3487, Test MSE: 0.1254\n",
      "Time: 6.106027603149414\n",
      "---------------------------------------- 0.45\n",
      "graphs_train shape: 2331 graphs_train[0] shape: Data(x=[36, 267], edge_index=[2, 14], y=0.23099999999999998)\n",
      "graphs_test shape: 204 graphs_test[0] shape: Data(x=[36, 267], edge_index=[2, 11], y=0.224)\n"
     ]
    },
    {
     "name": "stderr",
     "output_type": "stream",
     "text": [
      "/Users/haox/opt/anaconda3/lib/python3.8/site-packages/torch_geometric/deprecation.py:13: UserWarning: 'data.DataLoader' is deprecated, use 'loader.DataLoader' instead\n",
      "  warnings.warn(out)\n"
     ]
    },
    {
     "name": "stdout",
     "output_type": "stream",
     "text": [
      "Epoch: 009, Train MAE: 0.1188, Train MSE: 0.0285\n",
      "Epoch: 009, Test MAE: 0.3874, Test MSE: 0.1538\n",
      "Time: 13.132674932479858\n",
      "========================================\n",
      "20 higgs\n",
      "---------------------------------------- 0.05\n",
      "graphs_train shape: 642 graphs_train[0] shape: Data(x=[36, 267], edge_index=[2, 11], y=0.4525)\n",
      "graphs_test shape: 216 graphs_test[0] shape: Data(x=[36, 267], edge_index=[2, 14], y=0.5994999999999999)\n"
     ]
    },
    {
     "name": "stderr",
     "output_type": "stream",
     "text": [
      "/Users/haox/opt/anaconda3/lib/python3.8/site-packages/torch_geometric/deprecation.py:13: UserWarning: 'data.DataLoader' is deprecated, use 'loader.DataLoader' instead\n",
      "  warnings.warn(out)\n"
     ]
    },
    {
     "name": "stdout",
     "output_type": "stream",
     "text": [
      "Epoch: 009, Train MAE: 0.0610, Train MSE: 0.0076\n",
      "Epoch: 009, Test MAE: 0.0493, Test MSE: 0.0032\n",
      "Time: 3.6658029556274414\n",
      "---------------------------------------- 0.1\n",
      "graphs_train shape: 1675 graphs_train[0] shape: Data(x=[36, 267], edge_index=[2, 14], y=0.23099999999999998)\n",
      "graphs_test shape: 216 graphs_test[0] shape: Data(x=[36, 267], edge_index=[2, 14], y=0.5994999999999999)\n"
     ]
    },
    {
     "name": "stderr",
     "output_type": "stream",
     "text": [
      "/Users/haox/opt/anaconda3/lib/python3.8/site-packages/torch_geometric/deprecation.py:13: UserWarning: 'data.DataLoader' is deprecated, use 'loader.DataLoader' instead\n",
      "  warnings.warn(out)\n"
     ]
    },
    {
     "name": "stdout",
     "output_type": "stream",
     "text": [
      "Epoch: 009, Train MAE: 0.1402, Train MSE: 0.0344\n",
      "Epoch: 009, Test MAE: 0.0678, Test MSE: 0.0060\n",
      "Time: 8.393887996673584\n",
      "---------------------------------------- 0.15000000000000002\n",
      "graphs_train shape: 2949 graphs_train[0] shape: Data(x=[36, 267], edge_index=[2, 14], y=0.23099999999999998)\n",
      "graphs_test shape: 216 graphs_test[0] shape: Data(x=[36, 267], edge_index=[2, 14], y=0.5994999999999999)\n"
     ]
    },
    {
     "name": "stderr",
     "output_type": "stream",
     "text": [
      "/Users/haox/opt/anaconda3/lib/python3.8/site-packages/torch_geometric/deprecation.py:13: UserWarning: 'data.DataLoader' is deprecated, use 'loader.DataLoader' instead\n",
      "  warnings.warn(out)\n"
     ]
    },
    {
     "name": "stdout",
     "output_type": "stream",
     "text": [
      "Epoch: 009, Train MAE: 0.1293, Train MSE: 0.0302\n",
      "Epoch: 009, Test MAE: 0.0316, Test MSE: 0.0016\n",
      "Time: 14.235663890838623\n",
      "---------------------------------------- 0.2\n",
      "++++++++++++++++++++++++++++++\n",
      "higgs_MF+GIN_0.15 higgs_MF+GIN_0.2\n",
      "15 15\n",
      "---------------------------------------- 0.25\n",
      "graphs_train shape: 4935 graphs_train[0] shape: Data(x=[36, 267], edge_index=[2, 14], y=0.7580213903743316)\n",
      "graphs_test shape: 216 graphs_test[0] shape: Data(x=[36, 267], edge_index=[2, 14], y=0.5994999999999999)\n"
     ]
    },
    {
     "name": "stderr",
     "output_type": "stream",
     "text": [
      "/Users/haox/opt/anaconda3/lib/python3.8/site-packages/torch_geometric/deprecation.py:13: UserWarning: 'data.DataLoader' is deprecated, use 'loader.DataLoader' instead\n",
      "  warnings.warn(out)\n"
     ]
    },
    {
     "name": "stdout",
     "output_type": "stream",
     "text": [
      "Epoch: 009, Train MAE: 0.1398, Train MSE: 0.0375\n",
      "Epoch: 009, Test MAE: 0.1035, Test MSE: 0.0123\n",
      "Time: 23.07186508178711\n",
      "---------------------------------------- 0.3\n",
      "graphs_train shape: 5560 graphs_train[0] shape: Data(x=[36, 267], edge_index=[2, 14], y=0.7580213903743316)\n",
      "graphs_test shape: 216 graphs_test[0] shape: Data(x=[36, 267], edge_index=[2, 14], y=0.5994999999999999)\n"
     ]
    },
    {
     "name": "stderr",
     "output_type": "stream",
     "text": [
      "/Users/haox/opt/anaconda3/lib/python3.8/site-packages/torch_geometric/deprecation.py:13: UserWarning: 'data.DataLoader' is deprecated, use 'loader.DataLoader' instead\n",
      "  warnings.warn(out)\n"
     ]
    },
    {
     "name": "stdout",
     "output_type": "stream",
     "text": [
      "Epoch: 009, Train MAE: 0.1782, Train MSE: 0.1085\n",
      "Epoch: 009, Test MAE: 0.1493, Test MSE: 0.0238\n",
      "Time: 23.682701110839844\n",
      "---------------------------------------- 0.35000000000000003\n",
      "graphs_train shape: 6824 graphs_train[0] shape: Data(x=[36, 267], edge_index=[2, 14], y=0.7580213903743316)\n",
      "graphs_test shape: 216 graphs_test[0] shape: Data(x=[36, 267], edge_index=[2, 14], y=0.5994999999999999)\n"
     ]
    },
    {
     "name": "stderr",
     "output_type": "stream",
     "text": [
      "/Users/haox/opt/anaconda3/lib/python3.8/site-packages/torch_geometric/deprecation.py:13: UserWarning: 'data.DataLoader' is deprecated, use 'loader.DataLoader' instead\n",
      "  warnings.warn(out)\n"
     ]
    },
    {
     "name": "stdout",
     "output_type": "stream",
     "text": [
      "Epoch: 009, Train MAE: 0.1651, Train MSE: 0.0545\n",
      "Epoch: 009, Test MAE: 0.1850, Test MSE: 0.0358\n",
      "Time: 30.630348682403564\n",
      "---------------------------------------- 0.4\n",
      "graphs_train shape: 7595 graphs_train[0] shape: Data(x=[36, 267], edge_index=[2, 14], y=0.7580213903743316)\n",
      "graphs_test shape: 216 graphs_test[0] shape: Data(x=[36, 267], edge_index=[2, 14], y=0.5994999999999999)\n"
     ]
    },
    {
     "name": "stderr",
     "output_type": "stream",
     "text": [
      "/Users/haox/opt/anaconda3/lib/python3.8/site-packages/torch_geometric/deprecation.py:13: UserWarning: 'data.DataLoader' is deprecated, use 'loader.DataLoader' instead\n",
      "  warnings.warn(out)\n"
     ]
    },
    {
     "name": "stdout",
     "output_type": "stream",
     "text": [
      "Epoch: 009, Train MAE: 0.1682, Train MSE: 0.0539\n",
      "Epoch: 009, Test MAE: 0.1769, Test MSE: 0.0329\n",
      "Time: 35.67711687088013\n",
      "---------------------------------------- 0.45\n",
      "++++++++++++++++++++++++++++++\n",
      "higgs_MF+GIN_0.4 higgs_MF+GIN_0.45\n",
      "38 38\n",
      "========================================\n",
      "21 jannis\n",
      "---------------------------------------- 0.05\n",
      "graphs_train shape: 637 graphs_train[0] shape: Data(x=[36, 267], edge_index=[2, 11], y=0.4525)\n",
      "graphs_test shape: 216 graphs_test[0] shape: Data(x=[36, 267], edge_index=[2, 12], y=0.611)\n"
     ]
    },
    {
     "name": "stderr",
     "output_type": "stream",
     "text": [
      "/Users/haox/opt/anaconda3/lib/python3.8/site-packages/torch_geometric/deprecation.py:13: UserWarning: 'data.DataLoader' is deprecated, use 'loader.DataLoader' instead\n",
      "  warnings.warn(out)\n"
     ]
    },
    {
     "name": "stdout",
     "output_type": "stream",
     "text": [
      "Epoch: 009, Train MAE: 0.0566, Train MSE: 0.0062\n",
      "Epoch: 009, Test MAE: 0.0702, Test MSE: 0.0059\n",
      "Time: 2.868284225463867\n",
      "---------------------------------------- 0.1\n",
      "graphs_train shape: 1675 graphs_train[0] shape: Data(x=[36, 267], edge_index=[2, 14], y=0.23099999999999998)\n",
      "graphs_test shape: 216 graphs_test[0] shape: Data(x=[36, 267], edge_index=[2, 12], y=0.611)\n"
     ]
    },
    {
     "name": "stderr",
     "output_type": "stream",
     "text": [
      "/Users/haox/opt/anaconda3/lib/python3.8/site-packages/torch_geometric/deprecation.py:13: UserWarning: 'data.DataLoader' is deprecated, use 'loader.DataLoader' instead\n",
      "  warnings.warn(out)\n"
     ]
    },
    {
     "name": "stdout",
     "output_type": "stream",
     "text": [
      "Epoch: 009, Train MAE: 0.1623, Train MSE: 0.0412\n",
      "Epoch: 009, Test MAE: 0.0383, Test MSE: 0.0021\n",
      "Time: 8.134369611740112\n",
      "---------------------------------------- 0.15000000000000002\n",
      "graphs_train shape: 2949 graphs_train[0] shape: Data(x=[36, 267], edge_index=[2, 14], y=0.23099999999999998)\n",
      "graphs_test shape: 216 graphs_test[0] shape: Data(x=[36, 267], edge_index=[2, 12], y=0.611)\n"
     ]
    },
    {
     "name": "stderr",
     "output_type": "stream",
     "text": [
      "/Users/haox/opt/anaconda3/lib/python3.8/site-packages/torch_geometric/deprecation.py:13: UserWarning: 'data.DataLoader' is deprecated, use 'loader.DataLoader' instead\n",
      "  warnings.warn(out)\n"
     ]
    },
    {
     "name": "stdout",
     "output_type": "stream",
     "text": [
      "Epoch: 009, Train MAE: 0.1288, Train MSE: 0.0311\n",
      "Epoch: 009, Test MAE: 0.0413, Test MSE: 0.0030\n",
      "Time: 13.763592958450317\n",
      "---------------------------------------- 0.2\n",
      "++++++++++++++++++++++++++++++\n",
      "jannis_MF+GIN_0.15 jannis_MF+GIN_0.2\n",
      "15 15\n",
      "---------------------------------------- 0.25\n",
      "graphs_train shape: 4935 graphs_train[0] shape: Data(x=[36, 267], edge_index=[2, 14], y=0.7580213903743316)\n",
      "graphs_test shape: 216 graphs_test[0] shape: Data(x=[36, 267], edge_index=[2, 12], y=0.611)\n"
     ]
    },
    {
     "name": "stderr",
     "output_type": "stream",
     "text": [
      "/Users/haox/opt/anaconda3/lib/python3.8/site-packages/torch_geometric/deprecation.py:13: UserWarning: 'data.DataLoader' is deprecated, use 'loader.DataLoader' instead\n",
      "  warnings.warn(out)\n"
     ]
    },
    {
     "name": "stdout",
     "output_type": "stream",
     "text": [
      "Epoch: 009, Train MAE: 0.1387, Train MSE: 0.0376\n",
      "Epoch: 009, Test MAE: 0.1324, Test MSE: 0.0190\n",
      "Time: 20.52941584587097\n",
      "---------------------------------------- 0.3\n",
      "graphs_train shape: 5756 graphs_train[0] shape: Data(x=[36, 267], edge_index=[2, 14], y=0.7580213903743316)\n",
      "graphs_test shape: 216 graphs_test[0] shape: Data(x=[36, 267], edge_index=[2, 12], y=0.611)\n"
     ]
    },
    {
     "name": "stderr",
     "output_type": "stream",
     "text": [
      "/Users/haox/opt/anaconda3/lib/python3.8/site-packages/torch_geometric/deprecation.py:13: UserWarning: 'data.DataLoader' is deprecated, use 'loader.DataLoader' instead\n",
      "  warnings.warn(out)\n"
     ]
    },
    {
     "name": "stdout",
     "output_type": "stream",
     "text": [
      "Epoch: 009, Train MAE: 0.1457, Train MSE: 0.0424\n",
      "Epoch: 009, Test MAE: 0.1832, Test MSE: 0.0351\n",
      "Time: 24.10733914375305\n",
      "---------------------------------------- 0.35000000000000003\n",
      "graphs_train shape: 6884 graphs_train[0] shape: Data(x=[36, 267], edge_index=[2, 14], y=0.7580213903743316)\n",
      "graphs_test shape: 216 graphs_test[0] shape: Data(x=[36, 267], edge_index=[2, 12], y=0.611)\n"
     ]
    },
    {
     "name": "stderr",
     "output_type": "stream",
     "text": [
      "/Users/haox/opt/anaconda3/lib/python3.8/site-packages/torch_geometric/deprecation.py:13: UserWarning: 'data.DataLoader' is deprecated, use 'loader.DataLoader' instead\n",
      "  warnings.warn(out)\n"
     ]
    },
    {
     "name": "stdout",
     "output_type": "stream",
     "text": [
      "Epoch: 009, Train MAE: 0.1619, Train MSE: 0.0536\n",
      "Epoch: 009, Test MAE: 0.2138, Test MSE: 0.0472\n",
      "Time: 28.840595960617065\n",
      "---------------------------------------- 0.4\n",
      "graphs_train shape: 7595 graphs_train[0] shape: Data(x=[36, 267], edge_index=[2, 14], y=0.7580213903743316)\n",
      "graphs_test shape: 216 graphs_test[0] shape: Data(x=[36, 267], edge_index=[2, 12], y=0.611)\n"
     ]
    },
    {
     "name": "stderr",
     "output_type": "stream",
     "text": [
      "/Users/haox/opt/anaconda3/lib/python3.8/site-packages/torch_geometric/deprecation.py:13: UserWarning: 'data.DataLoader' is deprecated, use 'loader.DataLoader' instead\n",
      "  warnings.warn(out)\n"
     ]
    },
    {
     "name": "stdout",
     "output_type": "stream",
     "text": [
      "Epoch: 009, Train MAE: 0.1681, Train MSE: 0.0550\n",
      "Epoch: 009, Test MAE: 0.2283, Test MSE: 0.0536\n",
      "Time: 32.59063100814819\n",
      "---------------------------------------- 0.45\n",
      "++++++++++++++++++++++++++++++\n",
      "jannis_MF+GIN_0.4 jannis_MF+GIN_0.45\n",
      "38 38\n",
      "========================================\n",
      "22 jasmine\n",
      "---------------------------------------- 0.05\n",
      "graphs_train shape: 1274 graphs_train[0] shape: Data(x=[36, 267], edge_index=[2, 14], y=0.5508274231678487)\n",
      "graphs_test shape: 216 graphs_test[0] shape: Data(x=[36, 267], edge_index=[2, 12], y=0.7585)\n"
     ]
    },
    {
     "name": "stderr",
     "output_type": "stream",
     "text": [
      "/Users/haox/opt/anaconda3/lib/python3.8/site-packages/torch_geometric/deprecation.py:13: UserWarning: 'data.DataLoader' is deprecated, use 'loader.DataLoader' instead\n",
      "  warnings.warn(out)\n"
     ]
    },
    {
     "name": "stdout",
     "output_type": "stream",
     "text": [
      "Epoch: 009, Train MAE: 0.1019, Train MSE: 0.0172\n",
      "Epoch: 009, Test MAE: 0.1216, Test MSE: 0.0166\n",
      "Time: 5.41168475151062\n",
      "---------------------------------------- 0.1\n",
      "graphs_train shape: 3240 graphs_train[0] shape: Data(x=[36, 267], edge_index=[2, 14], y=0.7580213903743316)\n",
      "graphs_test shape: 216 graphs_test[0] shape: Data(x=[36, 267], edge_index=[2, 12], y=0.7585)\n"
     ]
    },
    {
     "name": "stderr",
     "output_type": "stream",
     "text": [
      "/Users/haox/opt/anaconda3/lib/python3.8/site-packages/torch_geometric/deprecation.py:13: UserWarning: 'data.DataLoader' is deprecated, use 'loader.DataLoader' instead\n",
      "  warnings.warn(out)\n"
     ]
    },
    {
     "name": "stdout",
     "output_type": "stream",
     "text": [
      "Epoch: 009, Train MAE: 0.1226, Train MSE: 0.0395\n",
      "Epoch: 009, Test MAE: 0.0926, Test MSE: 0.0096\n",
      "Time: 14.404895067214966\n",
      "---------------------------------------- 0.15000000000000002\n",
      "graphs_train shape: 4934 graphs_train[0] shape: Data(x=[36, 267], edge_index=[2, 14], y=0.7580213903743316)\n",
      "graphs_test shape: 216 graphs_test[0] shape: Data(x=[36, 267], edge_index=[2, 12], y=0.7585)\n"
     ]
    },
    {
     "name": "stderr",
     "output_type": "stream",
     "text": [
      "/Users/haox/opt/anaconda3/lib/python3.8/site-packages/torch_geometric/deprecation.py:13: UserWarning: 'data.DataLoader' is deprecated, use 'loader.DataLoader' instead\n",
      "  warnings.warn(out)\n"
     ]
    },
    {
     "name": "stdout",
     "output_type": "stream",
     "text": [
      "Epoch: 009, Train MAE: 0.1451, Train MSE: 0.0432\n",
      "Epoch: 009, Test MAE: 0.0498, Test MSE: 0.0053\n",
      "Time: 21.848814010620117\n",
      "---------------------------------------- 0.2\n",
      "graphs_train shape: 6396 graphs_train[0] shape: Data(x=[36, 267], edge_index=[2, 14], y=0.7580213903743316)\n",
      "graphs_test shape: 216 graphs_test[0] shape: Data(x=[36, 267], edge_index=[2, 12], y=0.7585)\n"
     ]
    },
    {
     "name": "stderr",
     "output_type": "stream",
     "text": [
      "/Users/haox/opt/anaconda3/lib/python3.8/site-packages/torch_geometric/deprecation.py:13: UserWarning: 'data.DataLoader' is deprecated, use 'loader.DataLoader' instead\n",
      "  warnings.warn(out)\n"
     ]
    },
    {
     "name": "stdout",
     "output_type": "stream",
     "text": [
      "Epoch: 009, Train MAE: 0.1557, Train MSE: 0.0467\n",
      "Epoch: 009, Test MAE: 0.1691, Test MSE: 0.0320\n",
      "Time: 26.911307096481323\n",
      "---------------------------------------- 0.25\n",
      "graphs_train shape: 7167 graphs_train[0] shape: Data(x=[36, 267], edge_index=[2, 14], y=0.7580213903743316)\n",
      "graphs_test shape: 216 graphs_test[0] shape: Data(x=[36, 267], edge_index=[2, 12], y=0.7585)\n"
     ]
    },
    {
     "name": "stderr",
     "output_type": "stream",
     "text": [
      "/Users/haox/opt/anaconda3/lib/python3.8/site-packages/torch_geometric/deprecation.py:13: UserWarning: 'data.DataLoader' is deprecated, use 'loader.DataLoader' instead\n",
      "  warnings.warn(out)\n"
     ]
    },
    {
     "name": "stdout",
     "output_type": "stream",
     "text": [
      "Epoch: 009, Train MAE: 0.1566, Train MSE: 0.0459\n",
      "Epoch: 009, Test MAE: 0.0681, Test MSE: 0.0097\n",
      "Time: 30.31681513786316\n",
      "---------------------------------------- 0.3\n",
      "graphs_train shape: 7383 graphs_train[0] shape: Data(x=[36, 267], edge_index=[2, 14], y=0.7580213903743316)\n",
      "graphs_test shape: 216 graphs_test[0] shape: Data(x=[36, 267], edge_index=[2, 12], y=0.7585)\n"
     ]
    },
    {
     "name": "stderr",
     "output_type": "stream",
     "text": [
      "/Users/haox/opt/anaconda3/lib/python3.8/site-packages/torch_geometric/deprecation.py:13: UserWarning: 'data.DataLoader' is deprecated, use 'loader.DataLoader' instead\n",
      "  warnings.warn(out)\n"
     ]
    },
    {
     "name": "stdout",
     "output_type": "stream",
     "text": [
      "Epoch: 009, Train MAE: 0.1628, Train MSE: 0.0487\n",
      "Epoch: 009, Test MAE: 0.0763, Test MSE: 0.0109\n",
      "Time: 31.797563791275024\n",
      "---------------------------------------- 0.35000000000000003\n",
      "++++++++++++++++++++++++++++++\n",
      "jasmine_MF+GIN_0.3 jasmine_MF+GIN_0.35\n",
      "36 36\n",
      "---------------------------------------- 0.4\n",
      "graphs_train shape: 7391 graphs_train[0] shape: Data(x=[36, 267], edge_index=[2, 14], y=0.7580213903743316)\n",
      "graphs_test shape: 216 graphs_test[0] shape: Data(x=[36, 267], edge_index=[2, 12], y=0.7585)\n"
     ]
    },
    {
     "name": "stderr",
     "output_type": "stream",
     "text": [
      "/Users/haox/opt/anaconda3/lib/python3.8/site-packages/torch_geometric/deprecation.py:13: UserWarning: 'data.DataLoader' is deprecated, use 'loader.DataLoader' instead\n",
      "  warnings.warn(out)\n"
     ]
    },
    {
     "name": "stdout",
     "output_type": "stream",
     "text": [
      "Epoch: 009, Train MAE: 0.1625, Train MSE: 0.0489\n",
      "Epoch: 009, Test MAE: 0.0776, Test MSE: 0.0111\n",
      "Time: 31.66200280189514\n",
      "---------------------------------------- 0.45\n",
      "++++++++++++++++++++++++++++++\n",
      "jasmine_MF+GIN_0.4 jasmine_MF+GIN_0.45\n",
      "37 37\n",
      "========================================\n",
      "23 jungle_chess_2pcs_raw_endgame_complete\n",
      "---------------------------------------- 0.05\n",
      "graphs_train shape: 1478 graphs_train[0] shape: Data(x=[36, 267], edge_index=[2, 14], y=0.23099999999999998)\n",
      "graphs_test shape: 216 graphs_test[0] shape: Data(x=[36, 267], edge_index=[2, 14], y=0.5705)\n"
     ]
    },
    {
     "name": "stderr",
     "output_type": "stream",
     "text": [
      "/Users/haox/opt/anaconda3/lib/python3.8/site-packages/torch_geometric/deprecation.py:13: UserWarning: 'data.DataLoader' is deprecated, use 'loader.DataLoader' instead\n",
      "  warnings.warn(out)\n"
     ]
    },
    {
     "name": "stdout",
     "output_type": "stream",
     "text": [
      "Epoch: 009, Train MAE: 0.2331, Train MSE: 0.0854\n",
      "Epoch: 009, Test MAE: 0.1339, Test MSE: 0.0234\n",
      "Time: 6.270279884338379\n",
      "---------------------------------------- 0.1\n",
      "graphs_train shape: 2758 graphs_train[0] shape: Data(x=[36, 267], edge_index=[2, 14], y=0.7580213903743316)\n",
      "graphs_test shape: 216 graphs_test[0] shape: Data(x=[36, 267], edge_index=[2, 14], y=0.5705)\n"
     ]
    },
    {
     "name": "stderr",
     "output_type": "stream",
     "text": [
      "/Users/haox/opt/anaconda3/lib/python3.8/site-packages/torch_geometric/deprecation.py:13: UserWarning: 'data.DataLoader' is deprecated, use 'loader.DataLoader' instead\n",
      "  warnings.warn(out)\n"
     ]
    },
    {
     "name": "stdout",
     "output_type": "stream",
     "text": [
      "Epoch: 009, Train MAE: 0.1236, Train MSE: 0.0374\n",
      "Epoch: 009, Test MAE: 0.0662, Test MSE: 0.0057\n",
      "Time: 12.600151062011719\n",
      "---------------------------------------- 0.15000000000000002\n",
      "graphs_train shape: 4525 graphs_train[0] shape: Data(x=[36, 267], edge_index=[2, 14], y=0.7580213903743316)\n",
      "graphs_test shape: 216 graphs_test[0] shape: Data(x=[36, 267], edge_index=[2, 14], y=0.5705)\n"
     ]
    },
    {
     "name": "stderr",
     "output_type": "stream",
     "text": [
      "/Users/haox/opt/anaconda3/lib/python3.8/site-packages/torch_geometric/deprecation.py:13: UserWarning: 'data.DataLoader' is deprecated, use 'loader.DataLoader' instead\n",
      "  warnings.warn(out)\n"
     ]
    },
    {
     "name": "stdout",
     "output_type": "stream",
     "text": [
      "Epoch: 009, Train MAE: 0.1391, Train MSE: 0.0398\n",
      "Epoch: 009, Test MAE: 0.0698, Test MSE: 0.0064\n",
      "Time: 19.64318609237671\n",
      "---------------------------------------- 0.2\n",
      "graphs_train shape: 5964 graphs_train[0] shape: Data(x=[36, 267], edge_index=[2, 14], y=0.7580213903743316)\n",
      "graphs_test shape: 216 graphs_test[0] shape: Data(x=[36, 267], edge_index=[2, 14], y=0.5705)\n"
     ]
    },
    {
     "name": "stderr",
     "output_type": "stream",
     "text": [
      "/Users/haox/opt/anaconda3/lib/python3.8/site-packages/torch_geometric/deprecation.py:13: UserWarning: 'data.DataLoader' is deprecated, use 'loader.DataLoader' instead\n",
      "  warnings.warn(out)\n"
     ]
    },
    {
     "name": "stdout",
     "output_type": "stream",
     "text": [
      "Epoch: 009, Train MAE: 0.1520, Train MSE: 0.0462\n",
      "Epoch: 009, Test MAE: 0.0747, Test MSE: 0.0076\n",
      "Time: 25.643077850341797\n",
      "---------------------------------------- 0.25\n",
      "graphs_train shape: 7117 graphs_train[0] shape: Data(x=[36, 267], edge_index=[2, 14], y=0.7580213903743316)\n",
      "graphs_test shape: 216 graphs_test[0] shape: Data(x=[36, 267], edge_index=[2, 14], y=0.5705)\n"
     ]
    },
    {
     "name": "stderr",
     "output_type": "stream",
     "text": [
      "/Users/haox/opt/anaconda3/lib/python3.8/site-packages/torch_geometric/deprecation.py:13: UserWarning: 'data.DataLoader' is deprecated, use 'loader.DataLoader' instead\n",
      "  warnings.warn(out)\n"
     ]
    },
    {
     "name": "stdout",
     "output_type": "stream",
     "text": [
      "Epoch: 009, Train MAE: 0.1537, Train MSE: 0.0440\n",
      "Epoch: 009, Test MAE: 0.1014, Test MSE: 0.0155\n",
      "Time: 31.105552911758423\n",
      "---------------------------------------- 0.3\n",
      "graphs_train shape: 7383 graphs_train[0] shape: Data(x=[36, 267], edge_index=[2, 14], y=0.7580213903743316)\n",
      "graphs_test shape: 216 graphs_test[0] shape: Data(x=[36, 267], edge_index=[2, 14], y=0.5705)\n"
     ]
    },
    {
     "name": "stderr",
     "output_type": "stream",
     "text": [
      "/Users/haox/opt/anaconda3/lib/python3.8/site-packages/torch_geometric/deprecation.py:13: UserWarning: 'data.DataLoader' is deprecated, use 'loader.DataLoader' instead\n",
      "  warnings.warn(out)\n"
     ]
    },
    {
     "name": "stdout",
     "output_type": "stream",
     "text": [
      "Epoch: 009, Train MAE: 0.1607, Train MSE: 0.0482\n",
      "Epoch: 009, Test MAE: 0.1252, Test MSE: 0.0213\n",
      "Time: 30.34253215789795\n",
      "---------------------------------------- 0.35000000000000003\n",
      "++++++++++++++++++++++++++++++\n",
      "jungle_chess_2pcs_raw_endgame_complete_MF+GIN_0.3 jungle_chess_2pcs_raw_endgame_complete_MF+GIN_0.35\n",
      "36 36\n",
      "---------------------------------------- 0.4\n",
      "graphs_train shape: 7391 graphs_train[0] shape: Data(x=[36, 267], edge_index=[2, 14], y=0.7580213903743316)\n",
      "graphs_test shape: 216 graphs_test[0] shape: Data(x=[36, 267], edge_index=[2, 14], y=0.5705)\n"
     ]
    },
    {
     "name": "stderr",
     "output_type": "stream",
     "text": [
      "/Users/haox/opt/anaconda3/lib/python3.8/site-packages/torch_geometric/deprecation.py:13: UserWarning: 'data.DataLoader' is deprecated, use 'loader.DataLoader' instead\n",
      "  warnings.warn(out)\n"
     ]
    },
    {
     "name": "stdout",
     "output_type": "stream",
     "text": [
      "Epoch: 009, Train MAE: 0.2193, Train MSE: 0.1035\n",
      "Epoch: 009, Test MAE: 0.1461, Test MSE: 0.0271\n",
      "Time: 31.535737991333008\n",
      "---------------------------------------- 0.45\n",
      "++++++++++++++++++++++++++++++\n",
      "jungle_chess_2pcs_raw_endgame_complete_MF+GIN_0.4 jungle_chess_2pcs_raw_endgame_complete_MF+GIN_0.45\n",
      "37 37\n",
      "========================================\n",
      "24 kc1\n",
      "---------------------------------------- 0.05\n",
      "graphs_train shape: 2171 graphs_train[0] shape: Data(x=[36, 267], edge_index=[2, 14], y=0.7580213903743316)\n",
      "graphs_test shape: 216 graphs_test[0] shape: Data(x=[36, 267], edge_index=[2, 11], y=0.845)\n"
     ]
    },
    {
     "name": "stderr",
     "output_type": "stream",
     "text": [
      "/Users/haox/opt/anaconda3/lib/python3.8/site-packages/torch_geometric/deprecation.py:13: UserWarning: 'data.DataLoader' is deprecated, use 'loader.DataLoader' instead\n",
      "  warnings.warn(out)\n"
     ]
    },
    {
     "name": "stdout",
     "output_type": "stream",
     "text": [
      "Epoch: 009, Train MAE: 0.1231, Train MSE: 0.0244\n",
      "Epoch: 009, Test MAE: 0.1034, Test MSE: 0.0115\n",
      "Time: 8.819374084472656\n",
      "---------------------------------------- 0.1\n",
      "graphs_train shape: 3663 graphs_train[0] shape: Data(x=[36, 267], edge_index=[2, 14], y=0.7580213903743316)\n",
      "graphs_test shape: 216 graphs_test[0] shape: Data(x=[36, 267], edge_index=[2, 11], y=0.845)\n"
     ]
    },
    {
     "name": "stderr",
     "output_type": "stream",
     "text": [
      "/Users/haox/opt/anaconda3/lib/python3.8/site-packages/torch_geometric/deprecation.py:13: UserWarning: 'data.DataLoader' is deprecated, use 'loader.DataLoader' instead\n",
      "  warnings.warn(out)\n"
     ]
    },
    {
     "name": "stdout",
     "output_type": "stream",
     "text": [
      "Epoch: 009, Train MAE: 0.0998, Train MSE: 0.0203\n",
      "Epoch: 009, Test MAE: 0.0612, Test MSE: 0.0057\n",
      "Time: 14.811847925186157\n",
      "---------------------------------------- 0.15000000000000002\n",
      "graphs_train shape: 5708 graphs_train[0] shape: Data(x=[36, 267], edge_index=[2, 14], y=0.7580213903743316)\n",
      "graphs_test shape: 216 graphs_test[0] shape: Data(x=[36, 267], edge_index=[2, 11], y=0.845)\n"
     ]
    },
    {
     "name": "stderr",
     "output_type": "stream",
     "text": [
      "/Users/haox/opt/anaconda3/lib/python3.8/site-packages/torch_geometric/deprecation.py:13: UserWarning: 'data.DataLoader' is deprecated, use 'loader.DataLoader' instead\n",
      "  warnings.warn(out)\n"
     ]
    },
    {
     "name": "stdout",
     "output_type": "stream",
     "text": [
      "Epoch: 009, Train MAE: 0.1166, Train MSE: 0.0272\n",
      "Epoch: 009, Test MAE: 0.0275, Test MSE: 0.0042\n",
      "Time: 23.33597207069397\n",
      "---------------------------------------- 0.2\n",
      "graphs_train shape: 6128 graphs_train[0] shape: Data(x=[36, 267], edge_index=[2, 14], y=0.7580213903743316)\n",
      "graphs_test shape: 216 graphs_test[0] shape: Data(x=[36, 267], edge_index=[2, 11], y=0.845)\n"
     ]
    },
    {
     "name": "stderr",
     "output_type": "stream",
     "text": [
      "/Users/haox/opt/anaconda3/lib/python3.8/site-packages/torch_geometric/deprecation.py:13: UserWarning: 'data.DataLoader' is deprecated, use 'loader.DataLoader' instead\n",
      "  warnings.warn(out)\n"
     ]
    },
    {
     "name": "stdout",
     "output_type": "stream",
     "text": [
      "Epoch: 009, Train MAE: 0.1366, Train MSE: 0.0394\n",
      "Epoch: 009, Test MAE: 0.0501, Test MSE: 0.0049\n",
      "Time: 26.280705213546753\n",
      "---------------------------------------- 0.25\n",
      "graphs_train shape: 6981 graphs_train[0] shape: Data(x=[36, 267], edge_index=[2, 14], y=0.7580213903743316)\n",
      "graphs_test shape: 216 graphs_test[0] shape: Data(x=[36, 267], edge_index=[2, 11], y=0.845)\n"
     ]
    },
    {
     "name": "stderr",
     "output_type": "stream",
     "text": [
      "/Users/haox/opt/anaconda3/lib/python3.8/site-packages/torch_geometric/deprecation.py:13: UserWarning: 'data.DataLoader' is deprecated, use 'loader.DataLoader' instead\n",
      "  warnings.warn(out)\n"
     ]
    },
    {
     "name": "stdout",
     "output_type": "stream",
     "text": [
      "Epoch: 009, Train MAE: 0.2827, Train MSE: 0.6959\n",
      "Epoch: 009, Test MAE: 0.1335, Test MSE: 0.0183\n",
      "Time: 33.77305483818054\n",
      "---------------------------------------- 0.3\n",
      "graphs_train shape: 7167 graphs_train[0] shape: Data(x=[36, 267], edge_index=[2, 14], y=0.7580213903743316)\n",
      "graphs_test shape: 216 graphs_test[0] shape: Data(x=[36, 267], edge_index=[2, 11], y=0.845)\n"
     ]
    },
    {
     "name": "stderr",
     "output_type": "stream",
     "text": [
      "/Users/haox/opt/anaconda3/lib/python3.8/site-packages/torch_geometric/deprecation.py:13: UserWarning: 'data.DataLoader' is deprecated, use 'loader.DataLoader' instead\n",
      "  warnings.warn(out)\n"
     ]
    },
    {
     "name": "stdout",
     "output_type": "stream",
     "text": [
      "Epoch: 009, Train MAE: 0.1469, Train MSE: 0.0402\n",
      "Epoch: 009, Test MAE: 0.0564, Test MSE: 0.0053\n",
      "Time: 32.94730591773987\n",
      "---------------------------------------- 0.35000000000000003\n",
      "graphs_train shape: 7383 graphs_train[0] shape: Data(x=[36, 267], edge_index=[2, 14], y=0.7580213903743316)\n",
      "graphs_test shape: 216 graphs_test[0] shape: Data(x=[36, 267], edge_index=[2, 11], y=0.845)\n"
     ]
    },
    {
     "name": "stderr",
     "output_type": "stream",
     "text": [
      "/Users/haox/opt/anaconda3/lib/python3.8/site-packages/torch_geometric/deprecation.py:13: UserWarning: 'data.DataLoader' is deprecated, use 'loader.DataLoader' instead\n",
      "  warnings.warn(out)\n"
     ]
    },
    {
     "name": "stdout",
     "output_type": "stream",
     "text": [
      "Epoch: 009, Train MAE: 0.1620, Train MSE: 0.0492\n",
      "Epoch: 009, Test MAE: 0.0374, Test MSE: 0.0044\n",
      "Time: 48.94436001777649\n",
      "---------------------------------------- 0.4\n",
      "++++++++++++++++++++++++++++++\n",
      "kc1_MF+GIN_0.35 kc1_MF+GIN_0.4\n",
      "36 36\n",
      "---------------------------------------- 0.45\n",
      "++++++++++++++++++++++++++++++\n",
      "kc1_MF+GIN_0.4 kc1_MF+GIN_0.45\n",
      "36 36\n",
      "========================================\n",
      "25 KDDCup09_appetency\n",
      "---------------------------------------- 0.05\n",
      "graphs_train shape: 1196 graphs_train[0] shape: Data(x=[36, 267], edge_index=[2, 14], y=0.81)\n",
      "graphs_test shape: 7 graphs_test[0] shape: Data(x=[36, 267], edge_index=[2, 15], y=0.977)\n"
     ]
    },
    {
     "name": "stderr",
     "output_type": "stream",
     "text": [
      "/Users/haox/opt/anaconda3/lib/python3.8/site-packages/torch_geometric/deprecation.py:13: UserWarning: 'data.DataLoader' is deprecated, use 'loader.DataLoader' instead\n",
      "  warnings.warn(out)\n"
     ]
    },
    {
     "name": "stdout",
     "output_type": "stream",
     "text": [
      "Epoch: 009, Train MAE: 0.1104, Train MSE: 0.0254\n",
      "Epoch: 009, Test MAE: 0.1782, Test MSE: 0.0318\n",
      "Time: 6.3022730350494385\n",
      "---------------------------------------- 0.1\n",
      "graphs_train shape: 2449 graphs_train[0] shape: Data(x=[36, 267], edge_index=[2, 14], y=0.17222222222222222)\n",
      "graphs_test shape: 7 graphs_test[0] shape: Data(x=[36, 267], edge_index=[2, 15], y=0.977)\n"
     ]
    },
    {
     "name": "stderr",
     "output_type": "stream",
     "text": [
      "/Users/haox/opt/anaconda3/lib/python3.8/site-packages/torch_geometric/deprecation.py:13: UserWarning: 'data.DataLoader' is deprecated, use 'loader.DataLoader' instead\n",
      "  warnings.warn(out)\n"
     ]
    },
    {
     "name": "stdout",
     "output_type": "stream",
     "text": [
      "Epoch: 009, Train MAE: 0.1137, Train MSE: 0.0280\n",
      "Epoch: 009, Test MAE: 0.1012, Test MSE: 0.0103\n",
      "Time: 11.205584287643433\n",
      "---------------------------------------- 0.15000000000000002\n",
      "graphs_train shape: 3579 graphs_train[0] shape: Data(x=[36, 267], edge_index=[2, 14], y=0.17222222222222222)\n",
      "graphs_test shape: 7 graphs_test[0] shape: Data(x=[36, 267], edge_index=[2, 15], y=0.977)\n"
     ]
    },
    {
     "name": "stderr",
     "output_type": "stream",
     "text": [
      "/Users/haox/opt/anaconda3/lib/python3.8/site-packages/torch_geometric/deprecation.py:13: UserWarning: 'data.DataLoader' is deprecated, use 'loader.DataLoader' instead\n",
      "  warnings.warn(out)\n"
     ]
    },
    {
     "name": "stdout",
     "output_type": "stream",
     "text": [
      "Epoch: 009, Train MAE: 0.1010, Train MSE: 0.0221\n",
      "Epoch: 009, Test MAE: 0.1452, Test MSE: 0.0211\n",
      "Time: 16.746726751327515\n",
      "---------------------------------------- 0.2\n",
      "graphs_train shape: 4427 graphs_train[0] shape: Data(x=[36, 267], edge_index=[2, 14], y=0.7580213903743316)\n",
      "graphs_test shape: 7 graphs_test[0] shape: Data(x=[36, 267], edge_index=[2, 15], y=0.977)\n"
     ]
    },
    {
     "name": "stderr",
     "output_type": "stream",
     "text": [
      "/Users/haox/opt/anaconda3/lib/python3.8/site-packages/torch_geometric/deprecation.py:13: UserWarning: 'data.DataLoader' is deprecated, use 'loader.DataLoader' instead\n",
      "  warnings.warn(out)\n"
     ]
    },
    {
     "name": "stdout",
     "output_type": "stream",
     "text": [
      "Epoch: 009, Train MAE: 0.1032, Train MSE: 0.0209\n",
      "Epoch: 009, Test MAE: 0.2209, Test MSE: 0.0488\n",
      "Time: 19.588944911956787\n",
      "---------------------------------------- 0.25\n",
      "graphs_train shape: 5269 graphs_train[0] shape: Data(x=[36, 267], edge_index=[2, 14], y=0.7580213903743316)\n",
      "graphs_test shape: 7 graphs_test[0] shape: Data(x=[36, 267], edge_index=[2, 15], y=0.977)\n"
     ]
    },
    {
     "name": "stderr",
     "output_type": "stream",
     "text": [
      "/Users/haox/opt/anaconda3/lib/python3.8/site-packages/torch_geometric/deprecation.py:13: UserWarning: 'data.DataLoader' is deprecated, use 'loader.DataLoader' instead\n",
      "  warnings.warn(out)\n"
     ]
    },
    {
     "name": "stdout",
     "output_type": "stream",
     "text": [
      "Epoch: 009, Train MAE: 0.0958, Train MSE: 0.0189\n",
      "Epoch: 009, Test MAE: 0.1952, Test MSE: 0.0381\n",
      "Time: 21.057558059692383\n",
      "---------------------------------------- 0.3\n",
      "graphs_train shape: 6337 graphs_train[0] shape: Data(x=[36, 267], edge_index=[2, 14], y=0.7580213903743316)\n",
      "graphs_test shape: 7 graphs_test[0] shape: Data(x=[36, 267], edge_index=[2, 15], y=0.977)\n"
     ]
    },
    {
     "name": "stderr",
     "output_type": "stream",
     "text": [
      "/Users/haox/opt/anaconda3/lib/python3.8/site-packages/torch_geometric/deprecation.py:13: UserWarning: 'data.DataLoader' is deprecated, use 'loader.DataLoader' instead\n",
      "  warnings.warn(out)\n"
     ]
    },
    {
     "name": "stdout",
     "output_type": "stream",
     "text": [
      "Epoch: 009, Train MAE: 0.1323, Train MSE: 0.0380\n",
      "Epoch: 009, Test MAE: 0.1681, Test MSE: 0.0283\n",
      "Time: 25.155841827392578\n",
      "---------------------------------------- 0.35000000000000003\n",
      "++++++++++++++++++++++++++++++\n",
      "KDDCup09_appetency_MF+GIN_0.3 KDDCup09_appetency_MF+GIN_0.35\n",
      "28 28\n",
      "---------------------------------------- 0.4\n",
      "graphs_train shape: 7190 graphs_train[0] shape: Data(x=[36, 267], edge_index=[2, 14], y=0.7580213903743316)\n",
      "graphs_test shape: 7 graphs_test[0] shape: Data(x=[36, 267], edge_index=[2, 15], y=0.977)\n"
     ]
    },
    {
     "name": "stderr",
     "output_type": "stream",
     "text": [
      "/Users/haox/opt/anaconda3/lib/python3.8/site-packages/torch_geometric/deprecation.py:13: UserWarning: 'data.DataLoader' is deprecated, use 'loader.DataLoader' instead\n",
      "  warnings.warn(out)\n"
     ]
    },
    {
     "name": "stdout",
     "output_type": "stream",
     "text": [
      "Epoch: 009, Train MAE: 0.1628, Train MSE: 0.0521\n",
      "Epoch: 009, Test MAE: 0.1451, Test MSE: 0.0211\n",
      "Time: 31.075472116470337\n",
      "---------------------------------------- 0.45\n",
      "graphs_train shape: 7376 graphs_train[0] shape: Data(x=[36, 267], edge_index=[2, 14], y=0.7580213903743316)\n",
      "graphs_test shape: 7 graphs_test[0] shape: Data(x=[36, 267], edge_index=[2, 15], y=0.977)\n"
     ]
    },
    {
     "name": "stderr",
     "output_type": "stream",
     "text": [
      "/Users/haox/opt/anaconda3/lib/python3.8/site-packages/torch_geometric/deprecation.py:13: UserWarning: 'data.DataLoader' is deprecated, use 'loader.DataLoader' instead\n",
      "  warnings.warn(out)\n"
     ]
    },
    {
     "name": "stdout",
     "output_type": "stream",
     "text": [
      "Epoch: 009, Train MAE: 0.1546, Train MSE: 0.0451\n",
      "Epoch: 009, Test MAE: 0.1761, Test MSE: 0.0310\n",
      "Time: 29.61568784713745\n",
      "========================================\n",
      "26 kr-vs-kp\n",
      "---------------------------------------- 0.05\n",
      "graphs_train shape: 505 graphs_train[0] shape: Data(x=[36, 267], edge_index=[2, 14], y=0.81)\n",
      "graphs_test shape: 266 graphs_test[0] shape: Data(x=[36, 267], edge_index=[2, 13], y=0.9584999999999999)\n"
     ]
    },
    {
     "name": "stderr",
     "output_type": "stream",
     "text": [
      "/Users/haox/opt/anaconda3/lib/python3.8/site-packages/torch_geometric/deprecation.py:13: UserWarning: 'data.DataLoader' is deprecated, use 'loader.DataLoader' instead\n",
      "  warnings.warn(out)\n"
     ]
    },
    {
     "name": "stdout",
     "output_type": "stream",
     "text": [
      "Epoch: 009, Train MAE: 0.1990, Train MSE: 0.0470\n",
      "Epoch: 009, Test MAE: 0.3068, Test MSE: 0.1291\n",
      "Time: 2.2902870178222656\n",
      "---------------------------------------- 0.1\n",
      "graphs_train shape: 1781 graphs_train[0] shape: Data(x=[36, 267], edge_index=[2, 14], y=0.17222222222222222)\n",
      "graphs_test shape: 266 graphs_test[0] shape: Data(x=[36, 267], edge_index=[2, 13], y=0.9584999999999999)\n"
     ]
    },
    {
     "name": "stderr",
     "output_type": "stream",
     "text": [
      "/Users/haox/opt/anaconda3/lib/python3.8/site-packages/torch_geometric/deprecation.py:13: UserWarning: 'data.DataLoader' is deprecated, use 'loader.DataLoader' instead\n",
      "  warnings.warn(out)\n"
     ]
    },
    {
     "name": "stdout",
     "output_type": "stream",
     "text": [
      "Epoch: 009, Train MAE: 0.2125, Train MSE: 0.0520\n",
      "Epoch: 009, Test MAE: 0.2285, Test MSE: 0.0585\n",
      "Time: 8.046506881713867\n",
      "---------------------------------------- 0.15000000000000002\n",
      "graphs_train shape: 3104 graphs_train[0] shape: Data(x=[36, 267], edge_index=[2, 14], y=0.17222222222222222)\n",
      "graphs_test shape: 266 graphs_test[0] shape: Data(x=[36, 267], edge_index=[2, 13], y=0.9584999999999999)\n"
     ]
    },
    {
     "name": "stderr",
     "output_type": "stream",
     "text": [
      "/Users/haox/opt/anaconda3/lib/python3.8/site-packages/torch_geometric/deprecation.py:13: UserWarning: 'data.DataLoader' is deprecated, use 'loader.DataLoader' instead\n",
      "  warnings.warn(out)\n"
     ]
    },
    {
     "name": "stdout",
     "output_type": "stream",
     "text": [
      "Epoch: 009, Train MAE: 0.0738, Train MSE: 0.0154\n",
      "Epoch: 009, Test MAE: 0.1783, Test MSE: 0.0378\n",
      "Time: 13.29127311706543\n",
      "---------------------------------------- 0.2\n",
      "graphs_train shape: 4168 graphs_train[0] shape: Data(x=[36, 267], edge_index=[2, 14], y=0.7580213903743316)\n",
      "graphs_test shape: 266 graphs_test[0] shape: Data(x=[36, 267], edge_index=[2, 13], y=0.9584999999999999)\n"
     ]
    },
    {
     "name": "stderr",
     "output_type": "stream",
     "text": [
      "/Users/haox/opt/anaconda3/lib/python3.8/site-packages/torch_geometric/deprecation.py:13: UserWarning: 'data.DataLoader' is deprecated, use 'loader.DataLoader' instead\n",
      "  warnings.warn(out)\n"
     ]
    },
    {
     "name": "stdout",
     "output_type": "stream",
     "text": [
      "Epoch: 009, Train MAE: 0.1034, Train MSE: 0.0231\n",
      "Epoch: 009, Test MAE: 0.1661, Test MSE: 0.0385\n",
      "Time: 18.002158164978027\n",
      "---------------------------------------- 0.25\n",
      "graphs_train shape: 4384 graphs_train[0] shape: Data(x=[36, 267], edge_index=[2, 14], y=0.7580213903743316)\n",
      "graphs_test shape: 266 graphs_test[0] shape: Data(x=[36, 267], edge_index=[2, 13], y=0.9584999999999999)\n"
     ]
    },
    {
     "name": "stderr",
     "output_type": "stream",
     "text": [
      "/Users/haox/opt/anaconda3/lib/python3.8/site-packages/torch_geometric/deprecation.py:13: UserWarning: 'data.DataLoader' is deprecated, use 'loader.DataLoader' instead\n",
      "  warnings.warn(out)\n"
     ]
    },
    {
     "name": "stdout",
     "output_type": "stream",
     "text": [
      "Epoch: 009, Train MAE: 0.1199, Train MSE: 0.0286\n",
      "Epoch: 009, Test MAE: 0.2033, Test MSE: 0.0441\n",
      "Time: 19.698089838027954\n",
      "---------------------------------------- 0.3\n",
      "graphs_train shape: 5658 graphs_train[0] shape: Data(x=[36, 267], edge_index=[2, 14], y=0.7580213903743316)\n",
      "graphs_test shape: 266 graphs_test[0] shape: Data(x=[36, 267], edge_index=[2, 13], y=0.9584999999999999)\n"
     ]
    },
    {
     "name": "stderr",
     "output_type": "stream",
     "text": [
      "/Users/haox/opt/anaconda3/lib/python3.8/site-packages/torch_geometric/deprecation.py:13: UserWarning: 'data.DataLoader' is deprecated, use 'loader.DataLoader' instead\n",
      "  warnings.warn(out)\n"
     ]
    },
    {
     "name": "stdout",
     "output_type": "stream",
     "text": [
      "Epoch: 009, Train MAE: 0.1127, Train MSE: 0.0240\n",
      "Epoch: 009, Test MAE: 0.1876, Test MSE: 0.0386\n",
      "Time: 23.356101989746094\n",
      "---------------------------------------- 0.35000000000000003\n",
      "graphs_train shape: 6078 graphs_train[0] shape: Data(x=[36, 267], edge_index=[2, 14], y=0.7580213903743316)\n",
      "graphs_test shape: 266 graphs_test[0] shape: Data(x=[36, 267], edge_index=[2, 13], y=0.9584999999999999)\n"
     ]
    },
    {
     "name": "stderr",
     "output_type": "stream",
     "text": [
      "/Users/haox/opt/anaconda3/lib/python3.8/site-packages/torch_geometric/deprecation.py:13: UserWarning: 'data.DataLoader' is deprecated, use 'loader.DataLoader' instead\n",
      "  warnings.warn(out)\n"
     ]
    },
    {
     "name": "stdout",
     "output_type": "stream",
     "text": [
      "Epoch: 009, Train MAE: 0.1387, Train MSE: 0.0463\n",
      "Epoch: 009, Test MAE: 0.2000, Test MSE: 0.0428\n",
      "Time: 26.879781007766724\n",
      "---------------------------------------- 0.4\n",
      "graphs_train shape: 6931 graphs_train[0] shape: Data(x=[36, 267], edge_index=[2, 14], y=0.7580213903743316)\n",
      "graphs_test shape: 266 graphs_test[0] shape: Data(x=[36, 267], edge_index=[2, 13], y=0.9584999999999999)\n"
     ]
    },
    {
     "name": "stderr",
     "output_type": "stream",
     "text": [
      "/Users/haox/opt/anaconda3/lib/python3.8/site-packages/torch_geometric/deprecation.py:13: UserWarning: 'data.DataLoader' is deprecated, use 'loader.DataLoader' instead\n",
      "  warnings.warn(out)\n"
     ]
    },
    {
     "name": "stdout",
     "output_type": "stream",
     "text": [
      "Epoch: 009, Train MAE: 0.1524, Train MSE: 0.0462\n",
      "Epoch: 009, Test MAE: 0.1811, Test MSE: 0.0376\n",
      "Time: 31.155046224594116\n",
      "---------------------------------------- 0.45\n",
      "graphs_train shape: 7117 graphs_train[0] shape: Data(x=[36, 267], edge_index=[2, 14], y=0.7580213903743316)\n",
      "graphs_test shape: 266 graphs_test[0] shape: Data(x=[36, 267], edge_index=[2, 13], y=0.9584999999999999)\n"
     ]
    },
    {
     "name": "stderr",
     "output_type": "stream",
     "text": [
      "/Users/haox/opt/anaconda3/lib/python3.8/site-packages/torch_geometric/deprecation.py:13: UserWarning: 'data.DataLoader' is deprecated, use 'loader.DataLoader' instead\n",
      "  warnings.warn(out)\n"
     ]
    },
    {
     "name": "stdout",
     "output_type": "stream",
     "text": [
      "Epoch: 009, Train MAE: 0.1554, Train MSE: 0.0470\n",
      "Epoch: 009, Test MAE: 0.1799, Test MSE: 0.0375\n",
      "Time: 33.92361116409302\n",
      "========================================\n",
      "27 mfeat-factors\n",
      "---------------------------------------- 0.05\n",
      "graphs_train shape: 1203 graphs_train[0] shape: Data(x=[36, 267], edge_index=[2, 14], y=0.81)\n",
      "graphs_test shape: 216 graphs_test[0] shape: Data(x=[36, 267], edge_index=[2, 14], y=0.957)\n"
     ]
    },
    {
     "name": "stderr",
     "output_type": "stream",
     "text": [
      "/Users/haox/opt/anaconda3/lib/python3.8/site-packages/torch_geometric/deprecation.py:13: UserWarning: 'data.DataLoader' is deprecated, use 'loader.DataLoader' instead\n",
      "  warnings.warn(out)\n"
     ]
    },
    {
     "name": "stdout",
     "output_type": "stream",
     "text": [
      "Epoch: 009, Train MAE: 0.0889, Train MSE: 0.0183\n",
      "Epoch: 009, Test MAE: 0.0835, Test MSE: 0.0228\n",
      "Time: 5.2664268016815186\n",
      "---------------------------------------- 0.1\n",
      "graphs_train shape: 2240 graphs_train[0] shape: Data(x=[36, 267], edge_index=[2, 14], y=0.17222222222222222)\n",
      "graphs_test shape: 216 graphs_test[0] shape: Data(x=[36, 267], edge_index=[2, 14], y=0.957)\n"
     ]
    },
    {
     "name": "stderr",
     "output_type": "stream",
     "text": [
      "/Users/haox/opt/anaconda3/lib/python3.8/site-packages/torch_geometric/deprecation.py:13: UserWarning: 'data.DataLoader' is deprecated, use 'loader.DataLoader' instead\n",
      "  warnings.warn(out)\n"
     ]
    },
    {
     "name": "stdout",
     "output_type": "stream",
     "text": [
      "Epoch: 009, Train MAE: 0.1318, Train MSE: 0.0349\n",
      "Epoch: 009, Test MAE: 0.1441, Test MSE: 0.0433\n",
      "Time: 10.500944137573242\n",
      "---------------------------------------- 0.15000000000000002\n",
      "graphs_train shape: 3822 graphs_train[0] shape: Data(x=[36, 267], edge_index=[2, 14], y=0.17222222222222222)\n",
      "graphs_test shape: 216 graphs_test[0] shape: Data(x=[36, 267], edge_index=[2, 14], y=0.957)\n"
     ]
    },
    {
     "name": "stderr",
     "output_type": "stream",
     "text": [
      "/Users/haox/opt/anaconda3/lib/python3.8/site-packages/torch_geometric/deprecation.py:13: UserWarning: 'data.DataLoader' is deprecated, use 'loader.DataLoader' instead\n",
      "  warnings.warn(out)\n"
     ]
    },
    {
     "name": "stdout",
     "output_type": "stream",
     "text": [
      "Epoch: 009, Train MAE: 0.0978, Train MSE: 0.0250\n",
      "Epoch: 009, Test MAE: 0.0985, Test MSE: 0.0225\n",
      "Time: 16.901031017303467\n",
      "---------------------------------------- 0.2\n",
      "graphs_train shape: 4218 graphs_train[0] shape: Data(x=[36, 267], edge_index=[2, 14], y=0.7580213903743316)\n",
      "graphs_test shape: 216 graphs_test[0] shape: Data(x=[36, 267], edge_index=[2, 14], y=0.957)\n"
     ]
    },
    {
     "name": "stderr",
     "output_type": "stream",
     "text": [
      "/Users/haox/opt/anaconda3/lib/python3.8/site-packages/torch_geometric/deprecation.py:13: UserWarning: 'data.DataLoader' is deprecated, use 'loader.DataLoader' instead\n",
      "  warnings.warn(out)\n"
     ]
    },
    {
     "name": "stdout",
     "output_type": "stream",
     "text": [
      "Epoch: 009, Train MAE: 0.0933, Train MSE: 0.0202\n",
      "Epoch: 009, Test MAE: 0.1323, Test MSE: 0.0264\n",
      "Time: 17.629669189453125\n",
      "---------------------------------------- 0.25\n",
      "graphs_train shape: 5060 graphs_train[0] shape: Data(x=[36, 267], edge_index=[2, 14], y=0.7580213903743316)\n",
      "graphs_test shape: 216 graphs_test[0] shape: Data(x=[36, 267], edge_index=[2, 14], y=0.957)\n"
     ]
    },
    {
     "name": "stderr",
     "output_type": "stream",
     "text": [
      "/Users/haox/opt/anaconda3/lib/python3.8/site-packages/torch_geometric/deprecation.py:13: UserWarning: 'data.DataLoader' is deprecated, use 'loader.DataLoader' instead\n",
      "  warnings.warn(out)\n"
     ]
    },
    {
     "name": "stdout",
     "output_type": "stream",
     "text": [
      "Epoch: 009, Train MAE: 0.0954, Train MSE: 0.0191\n",
      "Epoch: 009, Test MAE: 0.1617, Test MSE: 0.0328\n",
      "Time: 20.69743299484253\n",
      "---------------------------------------- 0.3\n",
      "graphs_train shape: 6128 graphs_train[0] shape: Data(x=[36, 267], edge_index=[2, 14], y=0.7580213903743316)\n",
      "graphs_test shape: 216 graphs_test[0] shape: Data(x=[36, 267], edge_index=[2, 14], y=0.957)\n"
     ]
    },
    {
     "name": "stderr",
     "output_type": "stream",
     "text": [
      "/Users/haox/opt/anaconda3/lib/python3.8/site-packages/torch_geometric/deprecation.py:13: UserWarning: 'data.DataLoader' is deprecated, use 'loader.DataLoader' instead\n",
      "  warnings.warn(out)\n"
     ]
    },
    {
     "name": "stdout",
     "output_type": "stream",
     "text": [
      "Epoch: 009, Train MAE: 0.1329, Train MSE: 0.0381\n",
      "Epoch: 009, Test MAE: 0.1431, Test MSE: 0.0284\n",
      "Time: 25.37419629096985\n",
      "---------------------------------------- 0.35000000000000003\n",
      "++++++++++++++++++++++++++++++\n",
      "mfeat-factors_MF+GIN_0.3 mfeat-factors_MF+GIN_0.35\n",
      "28 28\n",
      "---------------------------------------- 0.4\n",
      "graphs_train shape: 6981 graphs_train[0] shape: Data(x=[36, 267], edge_index=[2, 14], y=0.7580213903743316)\n",
      "graphs_test shape: 216 graphs_test[0] shape: Data(x=[36, 267], edge_index=[2, 14], y=0.957)\n"
     ]
    },
    {
     "name": "stderr",
     "output_type": "stream",
     "text": [
      "/Users/haox/opt/anaconda3/lib/python3.8/site-packages/torch_geometric/deprecation.py:13: UserWarning: 'data.DataLoader' is deprecated, use 'loader.DataLoader' instead\n",
      "  warnings.warn(out)\n"
     ]
    },
    {
     "name": "stdout",
     "output_type": "stream",
     "text": [
      "Epoch: 009, Train MAE: 0.1523, Train MSE: 0.0456\n",
      "Epoch: 009, Test MAE: 0.1396, Test MSE: 0.0277\n",
      "Time: 31.01981830596924\n",
      "---------------------------------------- 0.45\n",
      "graphs_train shape: 7167 graphs_train[0] shape: Data(x=[36, 267], edge_index=[2, 14], y=0.7580213903743316)\n",
      "graphs_test shape: 216 graphs_test[0] shape: Data(x=[36, 267], edge_index=[2, 14], y=0.957)\n"
     ]
    },
    {
     "name": "stderr",
     "output_type": "stream",
     "text": [
      "/Users/haox/opt/anaconda3/lib/python3.8/site-packages/torch_geometric/deprecation.py:13: UserWarning: 'data.DataLoader' is deprecated, use 'loader.DataLoader' instead\n",
      "  warnings.warn(out)\n"
     ]
    },
    {
     "name": "stdout",
     "output_type": "stream",
     "text": [
      "Epoch: 009, Train MAE: 0.1562, Train MSE: 0.0473\n",
      "Epoch: 009, Test MAE: 0.1350, Test MSE: 0.0269\n",
      "Time: 29.280034065246582\n",
      "========================================\n",
      "28 MiniBooNE\n",
      "---------------------------------------- 0.05\n",
      "graphs_train shape: 2171 graphs_train[0] shape: Data(x=[36, 267], edge_index=[2, 14], y=0.7580213903743316)\n",
      "graphs_test shape: 216 graphs_test[0] shape: Data(x=[36, 267], edge_index=[2, 14], y=0.8975)\n"
     ]
    },
    {
     "name": "stderr",
     "output_type": "stream",
     "text": [
      "/Users/haox/opt/anaconda3/lib/python3.8/site-packages/torch_geometric/deprecation.py:13: UserWarning: 'data.DataLoader' is deprecated, use 'loader.DataLoader' instead\n",
      "  warnings.warn(out)\n"
     ]
    },
    {
     "name": "stdout",
     "output_type": "stream",
     "text": [
      "Epoch: 009, Train MAE: 0.0921, Train MSE: 0.0222\n",
      "Epoch: 009, Test MAE: 0.0557, Test MSE: 0.0084\n",
      "Time: 8.216724872589111\n",
      "---------------------------------------- 0.1\n",
      "graphs_train shape: 3447 graphs_train[0] shape: Data(x=[36, 267], edge_index=[2, 14], y=0.7580213903743316)\n",
      "graphs_test shape: 216 graphs_test[0] shape: Data(x=[36, 267], edge_index=[2, 14], y=0.8975)\n"
     ]
    },
    {
     "name": "stderr",
     "output_type": "stream",
     "text": [
      "/Users/haox/opt/anaconda3/lib/python3.8/site-packages/torch_geometric/deprecation.py:13: UserWarning: 'data.DataLoader' is deprecated, use 'loader.DataLoader' instead\n",
      "  warnings.warn(out)\n"
     ]
    },
    {
     "name": "stdout",
     "output_type": "stream",
     "text": [
      "Epoch: 009, Train MAE: 0.1722, Train MSE: 0.1147\n",
      "Epoch: 009, Test MAE: 0.6698, Test MSE: 0.4573\n",
      "Time: 15.724071741104126\n",
      "---------------------------------------- 0.15000000000000002\n",
      "graphs_train shape: 5708 graphs_train[0] shape: Data(x=[36, 267], edge_index=[2, 14], y=0.7580213903743316)\n",
      "graphs_test shape: 216 graphs_test[0] shape: Data(x=[36, 267], edge_index=[2, 14], y=0.8975)\n"
     ]
    },
    {
     "name": "stderr",
     "output_type": "stream",
     "text": [
      "/Users/haox/opt/anaconda3/lib/python3.8/site-packages/torch_geometric/deprecation.py:13: UserWarning: 'data.DataLoader' is deprecated, use 'loader.DataLoader' instead\n",
      "  warnings.warn(out)\n"
     ]
    },
    {
     "name": "stdout",
     "output_type": "stream",
     "text": [
      "Epoch: 009, Train MAE: 0.1244, Train MSE: 0.0318\n",
      "Epoch: 009, Test MAE: 0.0812, Test MSE: 0.0125\n",
      "Time: 23.453162908554077\n",
      "---------------------------------------- 0.2\n",
      "graphs_train shape: 6128 graphs_train[0] shape: Data(x=[36, 267], edge_index=[2, 14], y=0.7580213903743316)\n",
      "graphs_test shape: 216 graphs_test[0] shape: Data(x=[36, 267], edge_index=[2, 14], y=0.8975)\n"
     ]
    },
    {
     "name": "stderr",
     "output_type": "stream",
     "text": [
      "/Users/haox/opt/anaconda3/lib/python3.8/site-packages/torch_geometric/deprecation.py:13: UserWarning: 'data.DataLoader' is deprecated, use 'loader.DataLoader' instead\n",
      "  warnings.warn(out)\n"
     ]
    },
    {
     "name": "stdout",
     "output_type": "stream",
     "text": [
      "Epoch: 009, Train MAE: 0.1381, Train MSE: 0.0412\n",
      "Epoch: 009, Test MAE: 0.0521, Test MSE: 0.0060\n",
      "Time: 26.259608030319214\n",
      "---------------------------------------- 0.25\n",
      "graphs_train shape: 6981 graphs_train[0] shape: Data(x=[36, 267], edge_index=[2, 14], y=0.7580213903743316)\n",
      "graphs_test shape: 216 graphs_test[0] shape: Data(x=[36, 267], edge_index=[2, 14], y=0.8975)\n"
     ]
    },
    {
     "name": "stderr",
     "output_type": "stream",
     "text": [
      "/Users/haox/opt/anaconda3/lib/python3.8/site-packages/torch_geometric/deprecation.py:13: UserWarning: 'data.DataLoader' is deprecated, use 'loader.DataLoader' instead\n",
      "  warnings.warn(out)\n"
     ]
    },
    {
     "name": "stdout",
     "output_type": "stream",
     "text": [
      "Epoch: 009, Train MAE: 0.1569, Train MSE: 0.0501\n",
      "Epoch: 009, Test MAE: 0.0482, Test MSE: 0.0059\n",
      "Time: 29.02100706100464\n",
      "---------------------------------------- 0.3\n",
      "graphs_train shape: 7167 graphs_train[0] shape: Data(x=[36, 267], edge_index=[2, 14], y=0.7580213903743316)\n",
      "graphs_test shape: 216 graphs_test[0] shape: Data(x=[36, 267], edge_index=[2, 14], y=0.8975)\n"
     ]
    },
    {
     "name": "stderr",
     "output_type": "stream",
     "text": [
      "/Users/haox/opt/anaconda3/lib/python3.8/site-packages/torch_geometric/deprecation.py:13: UserWarning: 'data.DataLoader' is deprecated, use 'loader.DataLoader' instead\n",
      "  warnings.warn(out)\n"
     ]
    },
    {
     "name": "stdout",
     "output_type": "stream",
     "text": [
      "Epoch: 009, Train MAE: 0.1579, Train MSE: 0.0469\n",
      "Epoch: 009, Test MAE: 0.0599, Test MSE: 0.0065\n",
      "Time: 29.754231691360474\n",
      "---------------------------------------- 0.35000000000000003\n",
      "++++++++++++++++++++++++++++++\n",
      "MiniBooNE_MF+GIN_0.3 MiniBooNE_MF+GIN_0.35\n",
      "35 35\n",
      "---------------------------------------- 0.4\n",
      "graphs_train shape: 7383 graphs_train[0] shape: Data(x=[36, 267], edge_index=[2, 14], y=0.7580213903743316)\n",
      "graphs_test shape: 216 graphs_test[0] shape: Data(x=[36, 267], edge_index=[2, 14], y=0.8975)\n"
     ]
    },
    {
     "name": "stderr",
     "output_type": "stream",
     "text": [
      "/Users/haox/opt/anaconda3/lib/python3.8/site-packages/torch_geometric/deprecation.py:13: UserWarning: 'data.DataLoader' is deprecated, use 'loader.DataLoader' instead\n",
      "  warnings.warn(out)\n"
     ]
    },
    {
     "name": "stdout",
     "output_type": "stream",
     "text": [
      "Epoch: 009, Train MAE: 0.1617, Train MSE: 0.0476\n",
      "Epoch: 009, Test MAE: 0.0586, Test MSE: 0.0064\n",
      "Time: 31.383301973342896\n",
      "---------------------------------------- 0.45\n",
      "++++++++++++++++++++++++++++++\n",
      "MiniBooNE_MF+GIN_0.4 MiniBooNE_MF+GIN_0.45\n",
      "36 36\n",
      "========================================\n",
      "29 nomao\n",
      "---------------------------------------- 0.05\n",
      "graphs_train shape: 1565 graphs_train[0] shape: Data(x=[36, 267], edge_index=[2, 14], y=0.17222222222222222)\n",
      "graphs_test shape: 216 graphs_test[0] shape: Data(x=[36, 267], edge_index=[2, 14], y=0.926)\n"
     ]
    },
    {
     "name": "stderr",
     "output_type": "stream",
     "text": [
      "/Users/haox/opt/anaconda3/lib/python3.8/site-packages/torch_geometric/deprecation.py:13: UserWarning: 'data.DataLoader' is deprecated, use 'loader.DataLoader' instead\n",
      "  warnings.warn(out)\n"
     ]
    },
    {
     "name": "stdout",
     "output_type": "stream",
     "text": [
      "Epoch: 009, Train MAE: 0.2206, Train MSE: 0.0619\n",
      "Epoch: 009, Test MAE: 0.1347, Test MSE: 0.0297\n",
      "Time: 6.579068183898926\n",
      "---------------------------------------- 0.1\n",
      "graphs_train shape: 3154 graphs_train[0] shape: Data(x=[36, 267], edge_index=[2, 14], y=0.17222222222222222)\n",
      "graphs_test shape: 216 graphs_test[0] shape: Data(x=[36, 267], edge_index=[2, 14], y=0.926)\n"
     ]
    },
    {
     "name": "stderr",
     "output_type": "stream",
     "text": [
      "/Users/haox/opt/anaconda3/lib/python3.8/site-packages/torch_geometric/deprecation.py:13: UserWarning: 'data.DataLoader' is deprecated, use 'loader.DataLoader' instead\n",
      "  warnings.warn(out)\n"
     ]
    },
    {
     "name": "stdout",
     "output_type": "stream",
     "text": [
      "Epoch: 009, Train MAE: 0.0827, Train MSE: 0.0192\n",
      "Epoch: 009, Test MAE: 0.0675, Test MSE: 0.0112\n",
      "Time: 13.098761081695557\n",
      "---------------------------------------- 0.15000000000000002\n",
      "graphs_train shape: 4218 graphs_train[0] shape: Data(x=[36, 267], edge_index=[2, 14], y=0.7580213903743316)\n",
      "graphs_test shape: 216 graphs_test[0] shape: Data(x=[36, 267], edge_index=[2, 14], y=0.926)\n"
     ]
    },
    {
     "name": "stderr",
     "output_type": "stream",
     "text": [
      "/Users/haox/opt/anaconda3/lib/python3.8/site-packages/torch_geometric/deprecation.py:13: UserWarning: 'data.DataLoader' is deprecated, use 'loader.DataLoader' instead\n",
      "  warnings.warn(out)\n"
     ]
    },
    {
     "name": "stdout",
     "output_type": "stream",
     "text": [
      "Epoch: 009, Train MAE: 0.1089, Train MSE: 0.0277\n",
      "Epoch: 009, Test MAE: 0.0671, Test MSE: 0.0111\n",
      "Time: 17.99503993988037\n",
      "---------------------------------------- 0.2\n",
      "graphs_train shape: 4434 graphs_train[0] shape: Data(x=[36, 267], edge_index=[2, 14], y=0.7580213903743316)\n",
      "graphs_test shape: 216 graphs_test[0] shape: Data(x=[36, 267], edge_index=[2, 14], y=0.926)\n"
     ]
    },
    {
     "name": "stderr",
     "output_type": "stream",
     "text": [
      "/Users/haox/opt/anaconda3/lib/python3.8/site-packages/torch_geometric/deprecation.py:13: UserWarning: 'data.DataLoader' is deprecated, use 'loader.DataLoader' instead\n",
      "  warnings.warn(out)\n"
     ]
    },
    {
     "name": "stdout",
     "output_type": "stream",
     "text": [
      "Epoch: 009, Train MAE: 0.1021, Train MSE: 0.0235\n",
      "Epoch: 009, Test MAE: 0.1632, Test MSE: 0.0297\n",
      "Time: 18.453212022781372\n",
      "---------------------------------------- 0.25\n",
      "graphs_train shape: 5708 graphs_train[0] shape: Data(x=[36, 267], edge_index=[2, 14], y=0.7580213903743316)\n",
      "graphs_test shape: 216 graphs_test[0] shape: Data(x=[36, 267], edge_index=[2, 14], y=0.926)\n"
     ]
    },
    {
     "name": "stderr",
     "output_type": "stream",
     "text": [
      "/Users/haox/opt/anaconda3/lib/python3.8/site-packages/torch_geometric/deprecation.py:13: UserWarning: 'data.DataLoader' is deprecated, use 'loader.DataLoader' instead\n",
      "  warnings.warn(out)\n"
     ]
    },
    {
     "name": "stdout",
     "output_type": "stream",
     "text": [
      "Epoch: 009, Train MAE: 0.1121, Train MSE: 0.0249\n",
      "Epoch: 009, Test MAE: 0.1156, Test MSE: 0.0167\n",
      "Time: 25.112050771713257\n",
      "---------------------------------------- 0.3\n",
      "graphs_train shape: 6128 graphs_train[0] shape: Data(x=[36, 267], edge_index=[2, 14], y=0.7580213903743316)\n",
      "graphs_test shape: 216 graphs_test[0] shape: Data(x=[36, 267], edge_index=[2, 14], y=0.926)\n"
     ]
    },
    {
     "name": "stderr",
     "output_type": "stream",
     "text": [
      "/Users/haox/opt/anaconda3/lib/python3.8/site-packages/torch_geometric/deprecation.py:13: UserWarning: 'data.DataLoader' is deprecated, use 'loader.DataLoader' instead\n",
      "  warnings.warn(out)\n"
     ]
    },
    {
     "name": "stdout",
     "output_type": "stream",
     "text": [
      "Epoch: 009, Train MAE: 0.1358, Train MSE: 0.0405\n",
      "Epoch: 009, Test MAE: 0.1101, Test MSE: 0.0157\n",
      "Time: 25.59284281730652\n",
      "---------------------------------------- 0.35000000000000003\n",
      "graphs_train shape: 6981 graphs_train[0] shape: Data(x=[36, 267], edge_index=[2, 14], y=0.7580213903743316)\n",
      "graphs_test shape: 216 graphs_test[0] shape: Data(x=[36, 267], edge_index=[2, 14], y=0.926)\n"
     ]
    },
    {
     "name": "stderr",
     "output_type": "stream",
     "text": [
      "/Users/haox/opt/anaconda3/lib/python3.8/site-packages/torch_geometric/deprecation.py:13: UserWarning: 'data.DataLoader' is deprecated, use 'loader.DataLoader' instead\n",
      "  warnings.warn(out)\n"
     ]
    },
    {
     "name": "stdout",
     "output_type": "stream",
     "text": [
      "Epoch: 009, Train MAE: 0.1495, Train MSE: 0.0448\n",
      "Epoch: 009, Test MAE: 0.1086, Test MSE: 0.0155\n",
      "Time: 28.755707263946533\n",
      "---------------------------------------- 0.4\n",
      "graphs_train shape: 7167 graphs_train[0] shape: Data(x=[36, 267], edge_index=[2, 14], y=0.7580213903743316)\n",
      "graphs_test shape: 216 graphs_test[0] shape: Data(x=[36, 267], edge_index=[2, 14], y=0.926)\n"
     ]
    },
    {
     "name": "stderr",
     "output_type": "stream",
     "text": [
      "/Users/haox/opt/anaconda3/lib/python3.8/site-packages/torch_geometric/deprecation.py:13: UserWarning: 'data.DataLoader' is deprecated, use 'loader.DataLoader' instead\n",
      "  warnings.warn(out)\n"
     ]
    },
    {
     "name": "stdout",
     "output_type": "stream",
     "text": [
      "Epoch: 009, Train MAE: 0.1477, Train MSE: 0.0438\n",
      "Epoch: 009, Test MAE: 0.1305, Test MSE: 0.0200\n",
      "Time: 29.88062620162964\n",
      "---------------------------------------- 0.45\n",
      "graphs_train shape: 7383 graphs_train[0] shape: Data(x=[36, 267], edge_index=[2, 14], y=0.7580213903743316)\n",
      "graphs_test shape: 216 graphs_test[0] shape: Data(x=[36, 267], edge_index=[2, 14], y=0.926)\n"
     ]
    },
    {
     "name": "stderr",
     "output_type": "stream",
     "text": [
      "/Users/haox/opt/anaconda3/lib/python3.8/site-packages/torch_geometric/deprecation.py:13: UserWarning: 'data.DataLoader' is deprecated, use 'loader.DataLoader' instead\n",
      "  warnings.warn(out)\n"
     ]
    },
    {
     "name": "stdout",
     "output_type": "stream",
     "text": [
      "Epoch: 009, Train MAE: 0.1585, Train MSE: 0.0470\n",
      "Epoch: 009, Test MAE: 0.1219, Test MSE: 0.0180\n",
      "Time: 30.315099954605103\n",
      "========================================\n",
      "30 numerai28.6\n",
      "---------------------------------------- 0.05\n",
      "---------------------------------------- 0.1\n",
      "graphs_train shape: 186 graphs_train[0] shape: Data(x=[36, 267], edge_index=[2, 14], y=0.5525)\n",
      "graphs_test shape: 216 graphs_test[0] shape: Data(x=[36, 267], edge_index=[2, 14], y=0.5025)\n"
     ]
    },
    {
     "name": "stderr",
     "output_type": "stream",
     "text": [
      "/Users/haox/opt/anaconda3/lib/python3.8/site-packages/torch_geometric/deprecation.py:13: UserWarning: 'data.DataLoader' is deprecated, use 'loader.DataLoader' instead\n",
      "  warnings.warn(out)\n"
     ]
    },
    {
     "name": "stdout",
     "output_type": "stream",
     "text": [
      "Epoch: 009, Train MAE: 0.0532, Train MSE: 0.0041\n",
      "Epoch: 009, Test MAE: 0.4074, Test MSE: 0.1663\n",
      "Time: 1.0049469470977783\n",
      "---------------------------------------- 0.15000000000000002\n",
      "graphs_train shape: 1047 graphs_train[0] shape: Data(x=[36, 267], edge_index=[2, 11], y=0.4525)\n",
      "graphs_test shape: 216 graphs_test[0] shape: Data(x=[36, 267], edge_index=[2, 14], y=0.5025)\n"
     ]
    },
    {
     "name": "stderr",
     "output_type": "stream",
     "text": [
      "/Users/haox/opt/anaconda3/lib/python3.8/site-packages/torch_geometric/deprecation.py:13: UserWarning: 'data.DataLoader' is deprecated, use 'loader.DataLoader' instead\n",
      "  warnings.warn(out)\n"
     ]
    },
    {
     "name": "stdout",
     "output_type": "stream",
     "text": [
      "Epoch: 009, Train MAE: 0.0571, Train MSE: 0.0073\n",
      "Epoch: 009, Test MAE: 0.0620, Test MSE: 0.0041\n",
      "Time: 5.422394275665283\n",
      "---------------------------------------- 0.2\n",
      "graphs_train shape: 1467 graphs_train[0] shape: Data(x=[36, 267], edge_index=[2, 14], y=0.23099999999999998)\n",
      "graphs_test shape: 216 graphs_test[0] shape: Data(x=[36, 267], edge_index=[2, 14], y=0.5025)\n"
     ]
    },
    {
     "name": "stderr",
     "output_type": "stream",
     "text": [
      "/Users/haox/opt/anaconda3/lib/python3.8/site-packages/torch_geometric/deprecation.py:13: UserWarning: 'data.DataLoader' is deprecated, use 'loader.DataLoader' instead\n",
      "  warnings.warn(out)\n"
     ]
    },
    {
     "name": "stdout",
     "output_type": "stream",
     "text": [
      "Epoch: 009, Train MAE: 0.1165, Train MSE: 0.0254\n",
      "Epoch: 009, Test MAE: 0.0676, Test MSE: 0.0049\n",
      "Time: 6.603796005249023\n",
      "---------------------------------------- 0.25\n",
      "graphs_train shape: 2945 graphs_train[0] shape: Data(x=[36, 267], edge_index=[2, 14], y=0.23099999999999998)\n",
      "graphs_test shape: 216 graphs_test[0] shape: Data(x=[36, 267], edge_index=[2, 14], y=0.5025)\n"
     ]
    },
    {
     "name": "stderr",
     "output_type": "stream",
     "text": [
      "/Users/haox/opt/anaconda3/lib/python3.8/site-packages/torch_geometric/deprecation.py:13: UserWarning: 'data.DataLoader' is deprecated, use 'loader.DataLoader' instead\n",
      "  warnings.warn(out)\n"
     ]
    },
    {
     "name": "stdout",
     "output_type": "stream",
     "text": [
      "Epoch: 009, Train MAE: 0.1525, Train MSE: 0.0382\n",
      "Epoch: 009, Test MAE: 0.0228, Test MSE: 0.0007\n",
      "Time: 13.07503890991211\n",
      "---------------------------------------- 0.3\n",
      "graphs_train shape: 3161 graphs_train[0] shape: Data(x=[36, 267], edge_index=[2, 14], y=0.23099999999999998)\n",
      "graphs_test shape: 216 graphs_test[0] shape: Data(x=[36, 267], edge_index=[2, 14], y=0.5025)\n"
     ]
    },
    {
     "name": "stderr",
     "output_type": "stream",
     "text": [
      "/Users/haox/opt/anaconda3/lib/python3.8/site-packages/torch_geometric/deprecation.py:13: UserWarning: 'data.DataLoader' is deprecated, use 'loader.DataLoader' instead\n",
      "  warnings.warn(out)\n"
     ]
    },
    {
     "name": "stdout",
     "output_type": "stream",
     "text": [
      "Epoch: 009, Train MAE: 0.1462, Train MSE: 0.0398\n",
      "Epoch: 009, Test MAE: 0.0685, Test MSE: 0.0050\n",
      "Time: 14.061583042144775\n",
      "---------------------------------------- 0.35000000000000003\n",
      "graphs_train shape: 4707 graphs_train[0] shape: Data(x=[36, 267], edge_index=[2, 14], y=0.7580213903743316)\n",
      "graphs_test shape: 216 graphs_test[0] shape: Data(x=[36, 267], edge_index=[2, 14], y=0.5025)\n"
     ]
    },
    {
     "name": "stderr",
     "output_type": "stream",
     "text": [
      "/Users/haox/opt/anaconda3/lib/python3.8/site-packages/torch_geometric/deprecation.py:13: UserWarning: 'data.DataLoader' is deprecated, use 'loader.DataLoader' instead\n",
      "  warnings.warn(out)\n"
     ]
    },
    {
     "name": "stdout",
     "output_type": "stream",
     "text": [
      "Epoch: 009, Train MAE: 0.1511, Train MSE: 0.0465\n",
      "Epoch: 009, Test MAE: 0.1665, Test MSE: 0.0280\n",
      "Time: 19.13404893875122\n",
      "---------------------------------------- 0.4\n",
      "graphs_train shape: 5548 graphs_train[0] shape: Data(x=[36, 267], edge_index=[2, 14], y=0.7580213903743316)\n",
      "graphs_test shape: 216 graphs_test[0] shape: Data(x=[36, 267], edge_index=[2, 14], y=0.5025)\n"
     ]
    },
    {
     "name": "stderr",
     "output_type": "stream",
     "text": [
      "/Users/haox/opt/anaconda3/lib/python3.8/site-packages/torch_geometric/deprecation.py:13: UserWarning: 'data.DataLoader' is deprecated, use 'loader.DataLoader' instead\n",
      "  warnings.warn(out)\n"
     ]
    },
    {
     "name": "stdout",
     "output_type": "stream",
     "text": [
      "Epoch: 009, Train MAE: 0.1562, Train MSE: 0.0505\n",
      "Epoch: 009, Test MAE: 0.2194, Test MSE: 0.0484\n",
      "Time: 23.61517882347107\n",
      "---------------------------------------- 0.45\n",
      "graphs_train shape: 6824 graphs_train[0] shape: Data(x=[36, 267], edge_index=[2, 14], y=0.7580213903743316)\n",
      "graphs_test shape: 216 graphs_test[0] shape: Data(x=[36, 267], edge_index=[2, 14], y=0.5025)\n"
     ]
    },
    {
     "name": "stderr",
     "output_type": "stream",
     "text": [
      "/Users/haox/opt/anaconda3/lib/python3.8/site-packages/torch_geometric/deprecation.py:13: UserWarning: 'data.DataLoader' is deprecated, use 'loader.DataLoader' instead\n",
      "  warnings.warn(out)\n"
     ]
    },
    {
     "name": "stdout",
     "output_type": "stream",
     "text": [
      "Epoch: 009, Train MAE: 0.1593, Train MSE: 0.0514\n",
      "Epoch: 009, Test MAE: 0.2511, Test MSE: 0.0633\n",
      "Time: 28.318202257156372\n",
      "========================================\n",
      "31 phoneme\n",
      "---------------------------------------- 0.05\n",
      "graphs_train shape: 1762 graphs_train[0] shape: Data(x=[36, 267], edge_index=[2, 14], y=0.7580213903743316)\n",
      "graphs_test shape: 216 graphs_test[0] shape: Data(x=[36, 267], edge_index=[2, 12], y=0.757)\n"
     ]
    },
    {
     "name": "stderr",
     "output_type": "stream",
     "text": [
      "/Users/haox/opt/anaconda3/lib/python3.8/site-packages/torch_geometric/deprecation.py:13: UserWarning: 'data.DataLoader' is deprecated, use 'loader.DataLoader' instead\n",
      "  warnings.warn(out)\n"
     ]
    },
    {
     "name": "stdout",
     "output_type": "stream",
     "text": [
      "Epoch: 009, Train MAE: 0.2068, Train MSE: 0.1306\n",
      "Epoch: 009, Test MAE: 0.0450, Test MSE: 0.0028\n",
      "Time: 6.835937023162842\n",
      "---------------------------------------- 0.1\n",
      "graphs_train shape: 3425 graphs_train[0] shape: Data(x=[36, 267], edge_index=[2, 14], y=0.7580213903743316)\n",
      "graphs_test shape: 216 graphs_test[0] shape: Data(x=[36, 267], edge_index=[2, 12], y=0.757)\n"
     ]
    },
    {
     "name": "stderr",
     "output_type": "stream",
     "text": [
      "/Users/haox/opt/anaconda3/lib/python3.8/site-packages/torch_geometric/deprecation.py:13: UserWarning: 'data.DataLoader' is deprecated, use 'loader.DataLoader' instead\n",
      "  warnings.warn(out)\n"
     ]
    },
    {
     "name": "stdout",
     "output_type": "stream",
     "text": [
      "Epoch: 009, Train MAE: 0.1241, Train MSE: 0.0280\n",
      "Epoch: 009, Test MAE: 0.0901, Test MSE: 0.0107\n",
      "Time: 14.204826831817627\n",
      "---------------------------------------- 0.15000000000000002\n",
      "graphs_train shape: 5435 graphs_train[0] shape: Data(x=[36, 267], edge_index=[2, 14], y=0.7580213903743316)\n",
      "graphs_test shape: 216 graphs_test[0] shape: Data(x=[36, 267], edge_index=[2, 12], y=0.757)\n"
     ]
    },
    {
     "name": "stderr",
     "output_type": "stream",
     "text": [
      "/Users/haox/opt/anaconda3/lib/python3.8/site-packages/torch_geometric/deprecation.py:13: UserWarning: 'data.DataLoader' is deprecated, use 'loader.DataLoader' instead\n",
      "  warnings.warn(out)\n"
     ]
    },
    {
     "name": "stdout",
     "output_type": "stream",
     "text": [
      "Epoch: 009, Train MAE: 0.1482, Train MSE: 0.0411\n",
      "Epoch: 009, Test MAE: 0.0638, Test MSE: 0.0063\n",
      "Time: 22.897826194763184\n",
      "---------------------------------------- 0.2\n",
      "graphs_train shape: 6145 graphs_train[0] shape: Data(x=[36, 267], edge_index=[2, 14], y=0.7580213903743316)\n",
      "graphs_test shape: 216 graphs_test[0] shape: Data(x=[36, 267], edge_index=[2, 12], y=0.757)\n"
     ]
    },
    {
     "name": "stderr",
     "output_type": "stream",
     "text": [
      "/Users/haox/opt/anaconda3/lib/python3.8/site-packages/torch_geometric/deprecation.py:13: UserWarning: 'data.DataLoader' is deprecated, use 'loader.DataLoader' instead\n",
      "  warnings.warn(out)\n"
     ]
    },
    {
     "name": "stdout",
     "output_type": "stream",
     "text": [
      "Epoch: 009, Train MAE: 0.1325, Train MSE: 0.0380\n",
      "Epoch: 009, Test MAE: 0.0524, Test MSE: 0.0037\n",
      "Time: 26.148725032806396\n",
      "---------------------------------------- 0.25\n",
      "graphs_train shape: 6981 graphs_train[0] shape: Data(x=[36, 267], edge_index=[2, 14], y=0.7580213903743316)\n",
      "graphs_test shape: 216 graphs_test[0] shape: Data(x=[36, 267], edge_index=[2, 12], y=0.757)\n"
     ]
    },
    {
     "name": "stderr",
     "output_type": "stream",
     "text": [
      "/Users/haox/opt/anaconda3/lib/python3.8/site-packages/torch_geometric/deprecation.py:13: UserWarning: 'data.DataLoader' is deprecated, use 'loader.DataLoader' instead\n",
      "  warnings.warn(out)\n"
     ]
    },
    {
     "name": "stdout",
     "output_type": "stream",
     "text": [
      "Epoch: 009, Train MAE: 0.1562, Train MSE: 0.0477\n",
      "Epoch: 009, Test MAE: 0.0524, Test MSE: 0.0037\n",
      "Time: 28.24786877632141\n",
      "---------------------------------------- 0.3\n",
      "graphs_train shape: 7167 graphs_train[0] shape: Data(x=[36, 267], edge_index=[2, 14], y=0.7580213903743316)\n",
      "graphs_test shape: 216 graphs_test[0] shape: Data(x=[36, 267], edge_index=[2, 12], y=0.757)\n"
     ]
    },
    {
     "name": "stderr",
     "output_type": "stream",
     "text": [
      "/Users/haox/opt/anaconda3/lib/python3.8/site-packages/torch_geometric/deprecation.py:13: UserWarning: 'data.DataLoader' is deprecated, use 'loader.DataLoader' instead\n",
      "  warnings.warn(out)\n"
     ]
    },
    {
     "name": "stdout",
     "output_type": "stream",
     "text": [
      "Epoch: 009, Train MAE: 0.1580, Train MSE: 0.0469\n",
      "Epoch: 009, Test MAE: 0.0561, Test MSE: 0.0045\n",
      "Time: 29.58419179916382\n",
      "---------------------------------------- 0.35000000000000003\n",
      "graphs_train shape: 7383 graphs_train[0] shape: Data(x=[36, 267], edge_index=[2, 14], y=0.7580213903743316)\n",
      "graphs_test shape: 216 graphs_test[0] shape: Data(x=[36, 267], edge_index=[2, 12], y=0.757)\n"
     ]
    },
    {
     "name": "stderr",
     "output_type": "stream",
     "text": [
      "/Users/haox/opt/anaconda3/lib/python3.8/site-packages/torch_geometric/deprecation.py:13: UserWarning: 'data.DataLoader' is deprecated, use 'loader.DataLoader' instead\n",
      "  warnings.warn(out)\n"
     ]
    },
    {
     "name": "stdout",
     "output_type": "stream",
     "text": [
      "Epoch: 009, Train MAE: 0.1583, Train MSE: 0.0461\n",
      "Epoch: 009, Test MAE: 0.0471, Test MSE: 0.0028\n",
      "Time: 30.593902111053467\n",
      "---------------------------------------- 0.4\n",
      "++++++++++++++++++++++++++++++\n",
      "phoneme_MF+GIN_0.35 phoneme_MF+GIN_0.4\n",
      "36 36\n",
      "---------------------------------------- 0.45\n",
      "graphs_train shape: 7391 graphs_train[0] shape: Data(x=[36, 267], edge_index=[2, 14], y=0.7580213903743316)\n",
      "graphs_test shape: 216 graphs_test[0] shape: Data(x=[36, 267], edge_index=[2, 12], y=0.757)\n"
     ]
    },
    {
     "name": "stderr",
     "output_type": "stream",
     "text": [
      "/Users/haox/opt/anaconda3/lib/python3.8/site-packages/torch_geometric/deprecation.py:13: UserWarning: 'data.DataLoader' is deprecated, use 'loader.DataLoader' instead\n",
      "  warnings.warn(out)\n"
     ]
    },
    {
     "name": "stdout",
     "output_type": "stream",
     "text": [
      "Epoch: 009, Train MAE: 0.4114, Train MSE: 0.3761\n",
      "Epoch: 009, Test MAE: 0.2923, Test MSE: 0.0877\n",
      "Time: 30.920886993408203\n",
      "========================================\n",
      "32 riccardo\n",
      "---------------------------------------- 0.05\n",
      "graphs_train shape: 1771 graphs_train[0] shape: Data(x=[36, 267], edge_index=[2, 14], y=0.17222222222222222)\n",
      "graphs_test shape: 60 graphs_test[0] shape: Data(x=[36, 267], edge_index=[2, 14], y=0.81)\n"
     ]
    },
    {
     "name": "stderr",
     "output_type": "stream",
     "text": [
      "/Users/haox/opt/anaconda3/lib/python3.8/site-packages/torch_geometric/deprecation.py:13: UserWarning: 'data.DataLoader' is deprecated, use 'loader.DataLoader' instead\n",
      "  warnings.warn(out)\n"
     ]
    },
    {
     "name": "stdout",
     "output_type": "stream",
     "text": [
      "Epoch: 009, Train MAE: 0.1343, Train MSE: 0.0262\n",
      "Epoch: 009, Test MAE: 0.0432, Test MSE: 0.0030\n",
      "Time: 6.943799018859863\n",
      "---------------------------------------- 0.1\n",
      "graphs_train shape: 2396 graphs_train[0] shape: Data(x=[36, 267], edge_index=[2, 14], y=0.17222222222222222)\n",
      "graphs_test shape: 60 graphs_test[0] shape: Data(x=[36, 267], edge_index=[2, 14], y=0.81)\n"
     ]
    },
    {
     "name": "stderr",
     "output_type": "stream",
     "text": [
      "/Users/haox/opt/anaconda3/lib/python3.8/site-packages/torch_geometric/deprecation.py:13: UserWarning: 'data.DataLoader' is deprecated, use 'loader.DataLoader' instead\n",
      "  warnings.warn(out)\n"
     ]
    },
    {
     "name": "stdout",
     "output_type": "stream",
     "text": [
      "Epoch: 009, Train MAE: 0.0856, Train MSE: 0.0197\n",
      "Epoch: 009, Test MAE: 0.0789, Test MSE: 0.0083\n",
      "Time: 10.453132152557373\n",
      "---------------------------------------- 0.15000000000000002\n",
      "graphs_train shape: 4374 graphs_train[0] shape: Data(x=[36, 267], edge_index=[2, 14], y=0.7580213903743316)\n",
      "graphs_test shape: 60 graphs_test[0] shape: Data(x=[36, 267], edge_index=[2, 14], y=0.81)\n"
     ]
    },
    {
     "name": "stderr",
     "output_type": "stream",
     "text": [
      "/Users/haox/opt/anaconda3/lib/python3.8/site-packages/torch_geometric/deprecation.py:13: UserWarning: 'data.DataLoader' is deprecated, use 'loader.DataLoader' instead\n",
      "  warnings.warn(out)\n"
     ]
    },
    {
     "name": "stdout",
     "output_type": "stream",
     "text": [
      "Epoch: 009, Train MAE: 0.0947, Train MSE: 0.0211\n",
      "Epoch: 009, Test MAE: 0.0451, Test MSE: 0.0031\n",
      "Time: 17.51236081123352\n",
      "---------------------------------------- 0.2\n",
      "++++++++++++++++++++++++++++++\n",
      "riccardo_MF+GIN_0.15 riccardo_MF+GIN_0.2\n",
      "20 20\n",
      "---------------------------------------- 0.25\n",
      "graphs_train shape: 5432 graphs_train[0] shape: Data(x=[36, 267], edge_index=[2, 14], y=0.7580213903743316)\n",
      "graphs_test shape: 60 graphs_test[0] shape: Data(x=[36, 267], edge_index=[2, 14], y=0.81)\n"
     ]
    },
    {
     "name": "stderr",
     "output_type": "stream",
     "text": [
      "/Users/haox/opt/anaconda3/lib/python3.8/site-packages/torch_geometric/deprecation.py:13: UserWarning: 'data.DataLoader' is deprecated, use 'loader.DataLoader' instead\n",
      "  warnings.warn(out)\n"
     ]
    },
    {
     "name": "stdout",
     "output_type": "stream",
     "text": [
      "Epoch: 009, Train MAE: 0.1108, Train MSE: 0.0226\n",
      "Epoch: 009, Test MAE: 0.0428, Test MSE: 0.0030\n",
      "Time: 22.1003360748291\n",
      "---------------------------------------- 0.3\n",
      "graphs_train shape: 6284 graphs_train[0] shape: Data(x=[36, 267], edge_index=[2, 14], y=0.7580213903743316)\n",
      "graphs_test shape: 60 graphs_test[0] shape: Data(x=[36, 267], edge_index=[2, 14], y=0.81)\n"
     ]
    },
    {
     "name": "stderr",
     "output_type": "stream",
     "text": [
      "/Users/haox/opt/anaconda3/lib/python3.8/site-packages/torch_geometric/deprecation.py:13: UserWarning: 'data.DataLoader' is deprecated, use 'loader.DataLoader' instead\n",
      "  warnings.warn(out)\n"
     ]
    },
    {
     "name": "stdout",
     "output_type": "stream",
     "text": [
      "Epoch: 009, Train MAE: 0.1963, Train MSE: 0.1443\n",
      "Epoch: 009, Test MAE: 0.0428, Test MSE: 0.0029\n",
      "Time: 27.0197811126709\n",
      "---------------------------------------- 0.35000000000000003\n",
      "graphs_train shape: 6921 graphs_train[0] shape: Data(x=[36, 267], edge_index=[2, 14], y=0.7580213903743316)\n",
      "graphs_test shape: 60 graphs_test[0] shape: Data(x=[36, 267], edge_index=[2, 14], y=0.81)\n"
     ]
    },
    {
     "name": "stderr",
     "output_type": "stream",
     "text": [
      "/Users/haox/opt/anaconda3/lib/python3.8/site-packages/torch_geometric/deprecation.py:13: UserWarning: 'data.DataLoader' is deprecated, use 'loader.DataLoader' instead\n",
      "  warnings.warn(out)\n"
     ]
    },
    {
     "name": "stdout",
     "output_type": "stream",
     "text": [
      "Epoch: 009, Train MAE: 0.1523, Train MSE: 0.0479\n",
      "Epoch: 009, Test MAE: 0.0722, Test MSE: 0.0076\n",
      "Time: 28.609290838241577\n",
      "---------------------------------------- 0.4\n",
      "graphs_train shape: 7142 graphs_train[0] shape: Data(x=[36, 267], edge_index=[2, 14], y=0.7580213903743316)\n",
      "graphs_test shape: 60 graphs_test[0] shape: Data(x=[36, 267], edge_index=[2, 14], y=0.81)\n"
     ]
    },
    {
     "name": "stderr",
     "output_type": "stream",
     "text": [
      "/Users/haox/opt/anaconda3/lib/python3.8/site-packages/torch_geometric/deprecation.py:13: UserWarning: 'data.DataLoader' is deprecated, use 'loader.DataLoader' instead\n",
      "  warnings.warn(out)\n"
     ]
    },
    {
     "name": "stdout",
     "output_type": "stream",
     "text": [
      "Epoch: 009, Train MAE: 0.1601, Train MSE: 0.0541\n",
      "Epoch: 009, Test MAE: 0.0449, Test MSE: 0.0031\n",
      "Time: 29.787442922592163\n",
      "---------------------------------------- 0.45\n",
      "graphs_train shape: 7323 graphs_train[0] shape: Data(x=[36, 267], edge_index=[2, 14], y=0.7580213903743316)\n",
      "graphs_test shape: 60 graphs_test[0] shape: Data(x=[36, 267], edge_index=[2, 14], y=0.81)\n"
     ]
    },
    {
     "name": "stderr",
     "output_type": "stream",
     "text": [
      "/Users/haox/opt/anaconda3/lib/python3.8/site-packages/torch_geometric/deprecation.py:13: UserWarning: 'data.DataLoader' is deprecated, use 'loader.DataLoader' instead\n",
      "  warnings.warn(out)\n"
     ]
    },
    {
     "name": "stdout",
     "output_type": "stream",
     "text": [
      "Epoch: 009, Train MAE: 0.1563, Train MSE: 0.0463\n",
      "Epoch: 009, Test MAE: 0.0430, Test MSE: 0.0029\n",
      "Time: 29.956732988357544\n",
      "========================================\n",
      "33 robert\n",
      "---------------------------------------- 0.05\n",
      "---------------------------------------- 0.1\n",
      "---------------------------------------- 0.15000000000000002\n",
      "graphs_train shape: 420 graphs_train[0] shape: Data(x=[36, 267], edge_index=[2, 11], y=0.224)\n",
      "graphs_test shape: 8 graphs_test[0] shape: Data(x=[36, 267], edge_index=[2, 11], y=0.269)\n"
     ]
    },
    {
     "name": "stderr",
     "output_type": "stream",
     "text": [
      "/Users/haox/opt/anaconda3/lib/python3.8/site-packages/torch_geometric/deprecation.py:13: UserWarning: 'data.DataLoader' is deprecated, use 'loader.DataLoader' instead\n",
      "  warnings.warn(out)\n"
     ]
    },
    {
     "name": "stdout",
     "output_type": "stream",
     "text": [
      "Epoch: 009, Train MAE: 0.0350, Train MSE: 0.0023\n",
      "Epoch: 009, Test MAE: 0.1186, Test MSE: 0.0169\n",
      "Time: 1.5140280723571777\n",
      "---------------------------------------- 0.2\n",
      "graphs_train shape: 606 graphs_train[0] shape: Data(x=[36, 267], edge_index=[2, 11], y=0.224)\n",
      "graphs_test shape: 8 graphs_test[0] shape: Data(x=[36, 267], edge_index=[2, 11], y=0.269)\n"
     ]
    },
    {
     "name": "stderr",
     "output_type": "stream",
     "text": [
      "/Users/haox/opt/anaconda3/lib/python3.8/site-packages/torch_geometric/deprecation.py:13: UserWarning: 'data.DataLoader' is deprecated, use 'loader.DataLoader' instead\n",
      "  warnings.warn(out)\n"
     ]
    },
    {
     "name": "stdout",
     "output_type": "stream",
     "text": [
      "Epoch: 009, Train MAE: 0.1940, Train MSE: 0.0402\n",
      "Epoch: 009, Test MAE: 0.0906, Test MSE: 0.0111\n",
      "Time: 2.1798789501190186\n",
      "---------------------------------------- 0.25\n",
      "graphs_train shape: 1459 graphs_train[0] shape: Data(x=[36, 267], edge_index=[2, 11], y=0.4525)\n",
      "graphs_test shape: 8 graphs_test[0] shape: Data(x=[36, 267], edge_index=[2, 11], y=0.269)\n"
     ]
    },
    {
     "name": "stderr",
     "output_type": "stream",
     "text": [
      "/Users/haox/opt/anaconda3/lib/python3.8/site-packages/torch_geometric/deprecation.py:13: UserWarning: 'data.DataLoader' is deprecated, use 'loader.DataLoader' instead\n",
      "  warnings.warn(out)\n"
     ]
    },
    {
     "name": "stdout",
     "output_type": "stream",
     "text": [
      "Epoch: 009, Train MAE: 0.1138, Train MSE: 0.0194\n",
      "Epoch: 009, Test MAE: 0.3204, Test MSE: 0.1055\n",
      "Time: 6.786964178085327\n",
      "---------------------------------------- 0.3\n",
      "++++++++++++++++++++++++++++++\n",
      "robert_MF+GIN_0.25 robert_MF+GIN_0.3\n",
      "9 9\n",
      "---------------------------------------- 0.35000000000000003\n",
      "graphs_train shape: 2527 graphs_train[0] shape: Data(x=[36, 267], edge_index=[2, 14], y=0.23099999999999998)\n",
      "graphs_test shape: 8 graphs_test[0] shape: Data(x=[36, 267], edge_index=[2, 11], y=0.269)\n"
     ]
    },
    {
     "name": "stderr",
     "output_type": "stream",
     "text": [
      "/Users/haox/opt/anaconda3/lib/python3.8/site-packages/torch_geometric/deprecation.py:13: UserWarning: 'data.DataLoader' is deprecated, use 'loader.DataLoader' instead\n",
      "  warnings.warn(out)\n"
     ]
    },
    {
     "name": "stdout",
     "output_type": "stream",
     "text": [
      "Epoch: 009, Train MAE: 0.1441, Train MSE: 0.0382\n",
      "Epoch: 009, Test MAE: 0.3805, Test MSE: 0.1479\n",
      "Time: 10.60112190246582\n",
      "---------------------------------------- 0.4\n",
      "graphs_train shape: 3369 graphs_train[0] shape: Data(x=[36, 267], edge_index=[2, 14], y=0.23099999999999998)\n",
      "graphs_test shape: 8 graphs_test[0] shape: Data(x=[36, 267], edge_index=[2, 11], y=0.269)\n"
     ]
    },
    {
     "name": "stderr",
     "output_type": "stream",
     "text": [
      "/Users/haox/opt/anaconda3/lib/python3.8/site-packages/torch_geometric/deprecation.py:13: UserWarning: 'data.DataLoader' is deprecated, use 'loader.DataLoader' instead\n",
      "  warnings.warn(out)\n"
     ]
    },
    {
     "name": "stdout",
     "output_type": "stream",
     "text": [
      "Epoch: 009, Train MAE: 0.1439, Train MSE: 0.0359\n",
      "Epoch: 009, Test MAE: 0.3182, Test MSE: 0.1041\n",
      "Time: 13.82369327545166\n",
      "---------------------------------------- 0.45\n",
      "graphs_train shape: 3765 graphs_train[0] shape: Data(x=[36, 267], edge_index=[2, 14], y=0.7580213903743316)\n",
      "graphs_test shape: 8 graphs_test[0] shape: Data(x=[36, 267], edge_index=[2, 11], y=0.269)\n"
     ]
    },
    {
     "name": "stderr",
     "output_type": "stream",
     "text": [
      "/Users/haox/opt/anaconda3/lib/python3.8/site-packages/torch_geometric/deprecation.py:13: UserWarning: 'data.DataLoader' is deprecated, use 'loader.DataLoader' instead\n",
      "  warnings.warn(out)\n"
     ]
    },
    {
     "name": "stdout",
     "output_type": "stream",
     "text": [
      "Epoch: 009, Train MAE: 0.1441, Train MSE: 0.0391\n",
      "Epoch: 009, Test MAE: 0.3835, Test MSE: 0.1500\n",
      "Time: 15.204097032546997\n",
      "========================================\n",
      "34 segment\n",
      "---------------------------------------- 0.05\n",
      "graphs_train shape: 1565 graphs_train[0] shape: Data(x=[36, 267], edge_index=[2, 14], y=0.17222222222222222)\n",
      "graphs_test shape: 216 graphs_test[0] shape: Data(x=[36, 267], edge_index=[2, 13], y=0.795)\n"
     ]
    },
    {
     "name": "stderr",
     "output_type": "stream",
     "text": [
      "/Users/haox/opt/anaconda3/lib/python3.8/site-packages/torch_geometric/deprecation.py:13: UserWarning: 'data.DataLoader' is deprecated, use 'loader.DataLoader' instead\n",
      "  warnings.warn(out)\n"
     ]
    },
    {
     "name": "stdout",
     "output_type": "stream",
     "text": [
      "Epoch: 009, Train MAE: 0.0839, Train MSE: 0.0179\n",
      "Epoch: 009, Test MAE: 0.1072, Test MSE: 0.0161\n",
      "Time: 6.706169128417969\n",
      "---------------------------------------- 0.1\n",
      "graphs_train shape: 3154 graphs_train[0] shape: Data(x=[36, 267], edge_index=[2, 14], y=0.17222222222222222)\n",
      "graphs_test shape: 216 graphs_test[0] shape: Data(x=[36, 267], edge_index=[2, 13], y=0.795)\n"
     ]
    },
    {
     "name": "stderr",
     "output_type": "stream",
     "text": [
      "/Users/haox/opt/anaconda3/lib/python3.8/site-packages/torch_geometric/deprecation.py:13: UserWarning: 'data.DataLoader' is deprecated, use 'loader.DataLoader' instead\n",
      "  warnings.warn(out)\n"
     ]
    },
    {
     "name": "stdout",
     "output_type": "stream",
     "text": [
      "Epoch: 009, Train MAE: 0.0718, Train MSE: 0.0161\n",
      "Epoch: 009, Test MAE: 0.1020, Test MSE: 0.0157\n",
      "Time: 13.165998935699463\n",
      "---------------------------------------- 0.15000000000000002\n",
      "graphs_train shape: 4218 graphs_train[0] shape: Data(x=[36, 267], edge_index=[2, 14], y=0.7580213903743316)\n",
      "graphs_test shape: 216 graphs_test[0] shape: Data(x=[36, 267], edge_index=[2, 13], y=0.795)\n"
     ]
    },
    {
     "name": "stderr",
     "output_type": "stream",
     "text": [
      "/Users/haox/opt/anaconda3/lib/python3.8/site-packages/torch_geometric/deprecation.py:13: UserWarning: 'data.DataLoader' is deprecated, use 'loader.DataLoader' instead\n",
      "  warnings.warn(out)\n"
     ]
    },
    {
     "name": "stdout",
     "output_type": "stream",
     "text": [
      "Epoch: 009, Train MAE: 0.1695, Train MSE: 0.0867\n",
      "Epoch: 009, Test MAE: 0.0956, Test MSE: 0.0162\n",
      "Time: 17.24674081802368\n",
      "---------------------------------------- 0.2\n",
      "graphs_train shape: 4434 graphs_train[0] shape: Data(x=[36, 267], edge_index=[2, 14], y=0.7580213903743316)\n",
      "graphs_test shape: 216 graphs_test[0] shape: Data(x=[36, 267], edge_index=[2, 13], y=0.795)\n"
     ]
    },
    {
     "name": "stderr",
     "output_type": "stream",
     "text": [
      "/Users/haox/opt/anaconda3/lib/python3.8/site-packages/torch_geometric/deprecation.py:13: UserWarning: 'data.DataLoader' is deprecated, use 'loader.DataLoader' instead\n",
      "  warnings.warn(out)\n"
     ]
    },
    {
     "name": "stdout",
     "output_type": "stream",
     "text": [
      "Epoch: 009, Train MAE: 0.0960, Train MSE: 0.0220\n",
      "Epoch: 009, Test MAE: 0.1021, Test MSE: 0.0157\n",
      "Time: 18.53792095184326\n",
      "---------------------------------------- 0.25\n",
      "graphs_train shape: 5912 graphs_train[0] shape: Data(x=[36, 267], edge_index=[2, 14], y=0.7580213903743316)\n",
      "graphs_test shape: 216 graphs_test[0] shape: Data(x=[36, 267], edge_index=[2, 13], y=0.795)\n"
     ]
    },
    {
     "name": "stderr",
     "output_type": "stream",
     "text": [
      "/Users/haox/opt/anaconda3/lib/python3.8/site-packages/torch_geometric/deprecation.py:13: UserWarning: 'data.DataLoader' is deprecated, use 'loader.DataLoader' instead\n",
      "  warnings.warn(out)\n"
     ]
    },
    {
     "name": "stdout",
     "output_type": "stream",
     "text": [
      "Epoch: 009, Train MAE: 0.1344, Train MSE: 0.0374\n",
      "Epoch: 009, Test MAE: 0.1295, Test MSE: 0.0208\n",
      "Time: 24.002819061279297\n",
      "---------------------------------------- 0.3\n",
      "graphs_train shape: 6128 graphs_train[0] shape: Data(x=[36, 267], edge_index=[2, 14], y=0.7580213903743316)\n",
      "graphs_test shape: 216 graphs_test[0] shape: Data(x=[36, 267], edge_index=[2, 13], y=0.795)\n"
     ]
    },
    {
     "name": "stderr",
     "output_type": "stream",
     "text": [
      "/Users/haox/opt/anaconda3/lib/python3.8/site-packages/torch_geometric/deprecation.py:13: UserWarning: 'data.DataLoader' is deprecated, use 'loader.DataLoader' instead\n",
      "  warnings.warn(out)\n"
     ]
    },
    {
     "name": "stdout",
     "output_type": "stream",
     "text": [
      "Epoch: 009, Train MAE: 0.1323, Train MSE: 0.0367\n",
      "Epoch: 009, Test MAE: 0.1312, Test MSE: 0.0213\n",
      "Time: 27.255815267562866\n",
      "---------------------------------------- 0.35000000000000003\n",
      "graphs_train shape: 6981 graphs_train[0] shape: Data(x=[36, 267], edge_index=[2, 14], y=0.7580213903743316)\n",
      "graphs_test shape: 216 graphs_test[0] shape: Data(x=[36, 267], edge_index=[2, 13], y=0.795)\n"
     ]
    },
    {
     "name": "stderr",
     "output_type": "stream",
     "text": [
      "/Users/haox/opt/anaconda3/lib/python3.8/site-packages/torch_geometric/deprecation.py:13: UserWarning: 'data.DataLoader' is deprecated, use 'loader.DataLoader' instead\n",
      "  warnings.warn(out)\n"
     ]
    },
    {
     "name": "stdout",
     "output_type": "stream",
     "text": [
      "Epoch: 009, Train MAE: 0.1764, Train MSE: 0.0682\n",
      "Epoch: 009, Test MAE: 0.1516, Test MSE: 0.0393\n",
      "Time: 28.738465070724487\n",
      "---------------------------------------- 0.4\n",
      "graphs_train shape: 7167 graphs_train[0] shape: Data(x=[36, 267], edge_index=[2, 14], y=0.7580213903743316)\n",
      "graphs_test shape: 216 graphs_test[0] shape: Data(x=[36, 267], edge_index=[2, 13], y=0.795)\n"
     ]
    },
    {
     "name": "stderr",
     "output_type": "stream",
     "text": [
      "/Users/haox/opt/anaconda3/lib/python3.8/site-packages/torch_geometric/deprecation.py:13: UserWarning: 'data.DataLoader' is deprecated, use 'loader.DataLoader' instead\n",
      "  warnings.warn(out)\n"
     ]
    },
    {
     "name": "stdout",
     "output_type": "stream",
     "text": [
      "Epoch: 009, Train MAE: 0.1510, Train MSE: 0.0455\n",
      "Epoch: 009, Test MAE: 0.1110, Test MSE: 0.0166\n",
      "Time: 29.899890899658203\n",
      "---------------------------------------- 0.45\n",
      "graphs_train shape: 7383 graphs_train[0] shape: Data(x=[36, 267], edge_index=[2, 14], y=0.7580213903743316)\n",
      "graphs_test shape: 216 graphs_test[0] shape: Data(x=[36, 267], edge_index=[2, 13], y=0.795)\n"
     ]
    },
    {
     "name": "stderr",
     "output_type": "stream",
     "text": [
      "/Users/haox/opt/anaconda3/lib/python3.8/site-packages/torch_geometric/deprecation.py:13: UserWarning: 'data.DataLoader' is deprecated, use 'loader.DataLoader' instead\n",
      "  warnings.warn(out)\n"
     ]
    },
    {
     "name": "stdout",
     "output_type": "stream",
     "text": [
      "Epoch: 009, Train MAE: 0.1619, Train MSE: 0.0473\n",
      "Epoch: 009, Test MAE: 0.1396, Test MSE: 0.0239\n",
      "Time: 29.609622955322266\n",
      "========================================\n",
      "35 shuttle\n",
      "---------------------------------------- 0.05\n",
      "graphs_train shape: 999 graphs_train[0] shape: Data(x=[36, 267], edge_index=[2, 14], y=0.81)\n",
      "graphs_test shape: 204 graphs_test[0] shape: Data(x=[36, 267], edge_index=[2, 13], y=0.8420000000000001)\n"
     ]
    },
    {
     "name": "stderr",
     "output_type": "stream",
     "text": [
      "/Users/haox/opt/anaconda3/lib/python3.8/site-packages/torch_geometric/deprecation.py:13: UserWarning: 'data.DataLoader' is deprecated, use 'loader.DataLoader' instead\n",
      "  warnings.warn(out)\n"
     ]
    },
    {
     "name": "stdout",
     "output_type": "stream",
     "text": [
      "Epoch: 009, Train MAE: 0.2361, Train MSE: 0.0668\n",
      "Epoch: 009, Test MAE: 0.2559, Test MSE: 0.0688\n",
      "Time: 4.32191276550293\n",
      "---------------------------------------- 0.1\n",
      "graphs_train shape: 2252 graphs_train[0] shape: Data(x=[36, 267], edge_index=[2, 14], y=0.17222222222222222)\n",
      "graphs_test shape: 204 graphs_test[0] shape: Data(x=[36, 267], edge_index=[2, 13], y=0.8420000000000001)\n"
     ]
    },
    {
     "name": "stderr",
     "output_type": "stream",
     "text": [
      "/Users/haox/opt/anaconda3/lib/python3.8/site-packages/torch_geometric/deprecation.py:13: UserWarning: 'data.DataLoader' is deprecated, use 'loader.DataLoader' instead\n",
      "  warnings.warn(out)\n"
     ]
    },
    {
     "name": "stdout",
     "output_type": "stream",
     "text": [
      "Epoch: 009, Train MAE: 0.0859, Train MSE: 0.0204\n",
      "Epoch: 009, Test MAE: 0.0836, Test MSE: 0.0084\n",
      "Time: 10.023849964141846\n",
      "---------------------------------------- 0.15000000000000002\n",
      "graphs_train shape: 3166 graphs_train[0] shape: Data(x=[36, 267], edge_index=[2, 14], y=0.17222222222222222)\n",
      "graphs_test shape: 204 graphs_test[0] shape: Data(x=[36, 267], edge_index=[2, 13], y=0.8420000000000001)\n"
     ]
    },
    {
     "name": "stderr",
     "output_type": "stream",
     "text": [
      "/Users/haox/opt/anaconda3/lib/python3.8/site-packages/torch_geometric/deprecation.py:13: UserWarning: 'data.DataLoader' is deprecated, use 'loader.DataLoader' instead\n",
      "  warnings.warn(out)\n"
     ]
    },
    {
     "name": "stdout",
     "output_type": "stream",
     "text": [
      "Epoch: 009, Train MAE: 0.1205, Train MSE: 0.0292\n",
      "Epoch: 009, Test MAE: 0.1351, Test MSE: 0.0209\n",
      "Time: 13.527247905731201\n",
      "---------------------------------------- 0.2\n",
      "graphs_train shape: 4230 graphs_train[0] shape: Data(x=[36, 267], edge_index=[2, 14], y=0.7580213903743316)\n",
      "graphs_test shape: 204 graphs_test[0] shape: Data(x=[36, 267], edge_index=[2, 13], y=0.8420000000000001)\n"
     ]
    },
    {
     "name": "stderr",
     "output_type": "stream",
     "text": [
      "/Users/haox/opt/anaconda3/lib/python3.8/site-packages/torch_geometric/deprecation.py:13: UserWarning: 'data.DataLoader' is deprecated, use 'loader.DataLoader' instead\n",
      "  warnings.warn(out)\n"
     ]
    },
    {
     "name": "stdout",
     "output_type": "stream",
     "text": [
      "Epoch: 009, Train MAE: 0.0995, Train MSE: 0.0214\n",
      "Epoch: 009, Test MAE: 0.1394, Test MSE: 0.0222\n",
      "Time: 17.341827154159546\n",
      "---------------------------------------- 0.25\n",
      "graphs_train shape: 5072 graphs_train[0] shape: Data(x=[36, 267], edge_index=[2, 14], y=0.7580213903743316)\n",
      "graphs_test shape: 204 graphs_test[0] shape: Data(x=[36, 267], edge_index=[2, 13], y=0.8420000000000001)\n"
     ]
    },
    {
     "name": "stderr",
     "output_type": "stream",
     "text": [
      "/Users/haox/opt/anaconda3/lib/python3.8/site-packages/torch_geometric/deprecation.py:13: UserWarning: 'data.DataLoader' is deprecated, use 'loader.DataLoader' instead\n",
      "  warnings.warn(out)\n"
     ]
    },
    {
     "name": "stdout",
     "output_type": "stream",
     "text": [
      "Epoch: 009, Train MAE: 0.1046, Train MSE: 0.0202\n",
      "Epoch: 009, Test MAE: 0.1553, Test MSE: 0.0269\n",
      "Time: 22.25462293624878\n",
      "---------------------------------------- 0.3\n",
      "graphs_train shape: 5924 graphs_train[0] shape: Data(x=[36, 267], edge_index=[2, 14], y=0.7580213903743316)\n",
      "graphs_test shape: 204 graphs_test[0] shape: Data(x=[36, 267], edge_index=[2, 13], y=0.8420000000000001)\n"
     ]
    },
    {
     "name": "stderr",
     "output_type": "stream",
     "text": [
      "/Users/haox/opt/anaconda3/lib/python3.8/site-packages/torch_geometric/deprecation.py:13: UserWarning: 'data.DataLoader' is deprecated, use 'loader.DataLoader' instead\n",
      "  warnings.warn(out)\n"
     ]
    },
    {
     "name": "stdout",
     "output_type": "stream",
     "text": [
      "Epoch: 009, Train MAE: 0.1324, Train MSE: 0.0364\n",
      "Epoch: 009, Test MAE: 0.1866, Test MSE: 0.0378\n",
      "Time: 24.16943907737732\n",
      "---------------------------------------- 0.35000000000000003\n",
      "graphs_train shape: 6140 graphs_train[0] shape: Data(x=[36, 267], edge_index=[2, 14], y=0.7580213903743316)\n",
      "graphs_test shape: 204 graphs_test[0] shape: Data(x=[36, 267], edge_index=[2, 13], y=0.8420000000000001)\n"
     ]
    },
    {
     "name": "stderr",
     "output_type": "stream",
     "text": [
      "/Users/haox/opt/anaconda3/lib/python3.8/site-packages/torch_geometric/deprecation.py:13: UserWarning: 'data.DataLoader' is deprecated, use 'loader.DataLoader' instead\n",
      "  warnings.warn(out)\n"
     ]
    },
    {
     "name": "stdout",
     "output_type": "stream",
     "text": [
      "Epoch: 009, Train MAE: 0.1315, Train MSE: 0.0370\n",
      "Epoch: 009, Test MAE: 0.1601, Test MSE: 0.0285\n",
      "Time: 25.796685934066772\n",
      "---------------------------------------- 0.4\n",
      "graphs_train shape: 6993 graphs_train[0] shape: Data(x=[36, 267], edge_index=[2, 14], y=0.7580213903743316)\n",
      "graphs_test shape: 204 graphs_test[0] shape: Data(x=[36, 267], edge_index=[2, 13], y=0.8420000000000001)\n"
     ]
    },
    {
     "name": "stderr",
     "output_type": "stream",
     "text": [
      "/Users/haox/opt/anaconda3/lib/python3.8/site-packages/torch_geometric/deprecation.py:13: UserWarning: 'data.DataLoader' is deprecated, use 'loader.DataLoader' instead\n",
      "  warnings.warn(out)\n"
     ]
    },
    {
     "name": "stdout",
     "output_type": "stream",
     "text": [
      "Epoch: 009, Train MAE: 0.1538, Train MSE: 0.0467\n",
      "Epoch: 009, Test MAE: 0.1555, Test MSE: 0.0270\n",
      "Time: 28.24770998954773\n",
      "---------------------------------------- 0.45\n",
      "graphs_train shape: 7179 graphs_train[0] shape: Data(x=[36, 267], edge_index=[2, 14], y=0.7580213903743316)\n",
      "graphs_test shape: 204 graphs_test[0] shape: Data(x=[36, 267], edge_index=[2, 13], y=0.8420000000000001)\n"
     ]
    },
    {
     "name": "stderr",
     "output_type": "stream",
     "text": [
      "/Users/haox/opt/anaconda3/lib/python3.8/site-packages/torch_geometric/deprecation.py:13: UserWarning: 'data.DataLoader' is deprecated, use 'loader.DataLoader' instead\n",
      "  warnings.warn(out)\n"
     ]
    },
    {
     "name": "stdout",
     "output_type": "stream",
     "text": [
      "Epoch: 009, Train MAE: 0.1500, Train MSE: 0.0426\n",
      "Epoch: 009, Test MAE: 0.1667, Test MSE: 0.0307\n",
      "Time: 30.11201000213623\n",
      "========================================\n",
      "36 sylvine\n",
      "---------------------------------------- 0.05\n",
      "graphs_train shape: 1469 graphs_train[0] shape: Data(x=[36, 267], edge_index=[2, 14], y=0.17222222222222222)\n",
      "graphs_test shape: 216 graphs_test[0] shape: Data(x=[36, 267], edge_index=[2, 14], y=0.8865000000000001)\n"
     ]
    },
    {
     "name": "stderr",
     "output_type": "stream",
     "text": [
      "/Users/haox/opt/anaconda3/lib/python3.8/site-packages/torch_geometric/deprecation.py:13: UserWarning: 'data.DataLoader' is deprecated, use 'loader.DataLoader' instead\n",
      "  warnings.warn(out)\n"
     ]
    },
    {
     "name": "stdout",
     "output_type": "stream",
     "text": [
      "Epoch: 009, Train MAE: 0.0871, Train MSE: 0.0237\n",
      "Epoch: 009, Test MAE: 0.0443, Test MSE: 0.0082\n",
      "Time: 5.932890892028809\n",
      "---------------------------------------- 0.1\n",
      "graphs_train shape: 4218 graphs_train[0] shape: Data(x=[36, 267], edge_index=[2, 14], y=0.7580213903743316)\n",
      "graphs_test shape: 216 graphs_test[0] shape: Data(x=[36, 267], edge_index=[2, 14], y=0.8865000000000001)\n"
     ]
    },
    {
     "name": "stderr",
     "output_type": "stream",
     "text": [
      "/Users/haox/opt/anaconda3/lib/python3.8/site-packages/torch_geometric/deprecation.py:13: UserWarning: 'data.DataLoader' is deprecated, use 'loader.DataLoader' instead\n",
      "  warnings.warn(out)\n"
     ]
    },
    {
     "name": "stdout",
     "output_type": "stream",
     "text": [
      "Epoch: 009, Train MAE: 0.0944, Train MSE: 0.0209\n",
      "Epoch: 009, Test MAE: 0.0746, Test MSE: 0.0080\n",
      "Time: 17.4110369682312\n",
      "---------------------------------------- 0.15000000000000002\n",
      "++++++++++++++++++++++++++++++\n",
      "sylvine_MF+GIN_0.1 sylvine_MF+GIN_0.15\n",
      "20 20\n",
      "---------------------------------------- 0.2\n",
      "graphs_train shape: 5492 graphs_train[0] shape: Data(x=[36, 267], edge_index=[2, 14], y=0.7580213903743316)\n",
      "graphs_test shape: 216 graphs_test[0] shape: Data(x=[36, 267], edge_index=[2, 14], y=0.8865000000000001)\n"
     ]
    },
    {
     "name": "stderr",
     "output_type": "stream",
     "text": [
      "/Users/haox/opt/anaconda3/lib/python3.8/site-packages/torch_geometric/deprecation.py:13: UserWarning: 'data.DataLoader' is deprecated, use 'loader.DataLoader' instead\n",
      "  warnings.warn(out)\n"
     ]
    },
    {
     "name": "stdout",
     "output_type": "stream",
     "text": [
      "Epoch: 009, Train MAE: 0.1408, Train MSE: 0.0550\n",
      "Epoch: 009, Test MAE: 0.0654, Test MSE: 0.0072\n",
      "Time: 23.252614974975586\n",
      "---------------------------------------- 0.25\n",
      "graphs_train shape: 6128 graphs_train[0] shape: Data(x=[36, 267], edge_index=[2, 14], y=0.7580213903743316)\n",
      "graphs_test shape: 216 graphs_test[0] shape: Data(x=[36, 267], edge_index=[2, 14], y=0.8865000000000001)\n"
     ]
    },
    {
     "name": "stderr",
     "output_type": "stream",
     "text": [
      "/Users/haox/opt/anaconda3/lib/python3.8/site-packages/torch_geometric/deprecation.py:13: UserWarning: 'data.DataLoader' is deprecated, use 'loader.DataLoader' instead\n",
      "  warnings.warn(out)\n"
     ]
    },
    {
     "name": "stdout",
     "output_type": "stream",
     "text": [
      "Epoch: 009, Train MAE: 0.1335, Train MSE: 0.0379\n",
      "Epoch: 009, Test MAE: 0.1086, Test MSE: 0.0132\n",
      "Time: 24.79687190055847\n",
      "---------------------------------------- 0.3\n",
      "graphs_train shape: 6981 graphs_train[0] shape: Data(x=[36, 267], edge_index=[2, 14], y=0.7580213903743316)\n",
      "graphs_test shape: 216 graphs_test[0] shape: Data(x=[36, 267], edge_index=[2, 14], y=0.8865000000000001)\n"
     ]
    },
    {
     "name": "stderr",
     "output_type": "stream",
     "text": [
      "/Users/haox/opt/anaconda3/lib/python3.8/site-packages/torch_geometric/deprecation.py:13: UserWarning: 'data.DataLoader' is deprecated, use 'loader.DataLoader' instead\n",
      "  warnings.warn(out)\n"
     ]
    },
    {
     "name": "stdout",
     "output_type": "stream",
     "text": [
      "Epoch: 009, Train MAE: 0.1541, Train MSE: 0.0460\n",
      "Epoch: 009, Test MAE: 0.0992, Test MSE: 0.0114\n",
      "Time: 31.014058828353882\n",
      "---------------------------------------- 0.35000000000000003\n",
      "graphs_train shape: 6986 graphs_train[0] shape: Data(x=[36, 267], edge_index=[2, 14], y=0.7580213903743316)\n",
      "graphs_test shape: 216 graphs_test[0] shape: Data(x=[36, 267], edge_index=[2, 14], y=0.8865000000000001)\n"
     ]
    },
    {
     "name": "stderr",
     "output_type": "stream",
     "text": [
      "/Users/haox/opt/anaconda3/lib/python3.8/site-packages/torch_geometric/deprecation.py:13: UserWarning: 'data.DataLoader' is deprecated, use 'loader.DataLoader' instead\n",
      "  warnings.warn(out)\n"
     ]
    },
    {
     "name": "stdout",
     "output_type": "stream",
     "text": [
      "Epoch: 009, Train MAE: 0.1597, Train MSE: 0.0494\n",
      "Epoch: 009, Test MAE: 0.0950, Test MSE: 0.0107\n",
      "Time: 28.19499683380127\n",
      "---------------------------------------- 0.4\n",
      "graphs_train shape: 7167 graphs_train[0] shape: Data(x=[36, 267], edge_index=[2, 14], y=0.7580213903743316)\n",
      "graphs_test shape: 216 graphs_test[0] shape: Data(x=[36, 267], edge_index=[2, 14], y=0.8865000000000001)\n"
     ]
    },
    {
     "name": "stderr",
     "output_type": "stream",
     "text": [
      "/Users/haox/opt/anaconda3/lib/python3.8/site-packages/torch_geometric/deprecation.py:13: UserWarning: 'data.DataLoader' is deprecated, use 'loader.DataLoader' instead\n",
      "  warnings.warn(out)\n"
     ]
    },
    {
     "name": "stdout",
     "output_type": "stream",
     "text": [
      "Epoch: 009, Train MAE: 0.1536, Train MSE: 0.0445\n",
      "Epoch: 009, Test MAE: 0.1099, Test MSE: 0.0134\n",
      "Time: 28.976536750793457\n",
      "---------------------------------------- 0.45\n",
      "graphs_train shape: 7383 graphs_train[0] shape: Data(x=[36, 267], edge_index=[2, 14], y=0.7580213903743316)\n",
      "graphs_test shape: 216 graphs_test[0] shape: Data(x=[36, 267], edge_index=[2, 14], y=0.8865000000000001)\n"
     ]
    },
    {
     "name": "stderr",
     "output_type": "stream",
     "text": [
      "/Users/haox/opt/anaconda3/lib/python3.8/site-packages/torch_geometric/deprecation.py:13: UserWarning: 'data.DataLoader' is deprecated, use 'loader.DataLoader' instead\n",
      "  warnings.warn(out)\n"
     ]
    },
    {
     "name": "stdout",
     "output_type": "stream",
     "text": [
      "Epoch: 009, Train MAE: 0.1554, Train MSE: 0.0441\n",
      "Epoch: 009, Test MAE: 0.1166, Test MSE: 0.0149\n",
      "Time: 30.836872100830078\n",
      "========================================\n",
      "37 vehicle\n",
      "---------------------------------------- 0.05\n",
      "graphs_train shape: 1694 graphs_train[0] shape: Data(x=[36, 267], edge_index=[2, 14], y=0.23099999999999998)\n",
      "graphs_test shape: 216 graphs_test[0] shape: Data(x=[36, 267], edge_index=[2, 14], y=0.5508274231678487)\n"
     ]
    },
    {
     "name": "stderr",
     "output_type": "stream",
     "text": [
      "/Users/haox/opt/anaconda3/lib/python3.8/site-packages/torch_geometric/deprecation.py:13: UserWarning: 'data.DataLoader' is deprecated, use 'loader.DataLoader' instead\n",
      "  warnings.warn(out)\n"
     ]
    },
    {
     "name": "stdout",
     "output_type": "stream",
     "text": [
      "Epoch: 009, Train MAE: 0.1391, Train MSE: 0.0346\n",
      "Epoch: 009, Test MAE: 0.1353, Test MSE: 0.0256\n",
      "Time: 6.819969892501831\n",
      "---------------------------------------- 0.1\n",
      "graphs_train shape: 2547 graphs_train[0] shape: Data(x=[36, 267], edge_index=[2, 14], y=0.23099999999999998)\n",
      "graphs_test shape: 216 graphs_test[0] shape: Data(x=[36, 267], edge_index=[2, 14], y=0.5508274231678487)\n"
     ]
    },
    {
     "name": "stderr",
     "output_type": "stream",
     "text": [
      "/Users/haox/opt/anaconda3/lib/python3.8/site-packages/torch_geometric/deprecation.py:13: UserWarning: 'data.DataLoader' is deprecated, use 'loader.DataLoader' instead\n",
      "  warnings.warn(out)\n"
     ]
    },
    {
     "name": "stdout",
     "output_type": "stream",
     "text": [
      "Epoch: 009, Train MAE: 0.1620, Train MSE: 0.0476\n",
      "Epoch: 009, Test MAE: 0.1297, Test MSE: 0.0209\n",
      "Time: 10.981559753417969\n",
      "---------------------------------------- 0.15000000000000002\n",
      "graphs_train shape: 4530 graphs_train[0] shape: Data(x=[36, 267], edge_index=[2, 14], y=0.7580213903743316)\n",
      "graphs_test shape: 216 graphs_test[0] shape: Data(x=[36, 267], edge_index=[2, 14], y=0.5508274231678487)\n"
     ]
    },
    {
     "name": "stderr",
     "output_type": "stream",
     "text": [
      "/Users/haox/opt/anaconda3/lib/python3.8/site-packages/torch_geometric/deprecation.py:13: UserWarning: 'data.DataLoader' is deprecated, use 'loader.DataLoader' instead\n",
      "  warnings.warn(out)\n"
     ]
    },
    {
     "name": "stdout",
     "output_type": "stream",
     "text": [
      "Epoch: 009, Train MAE: 0.1398, Train MSE: 0.0429\n",
      "Epoch: 009, Test MAE: 0.1447, Test MSE: 0.0374\n",
      "Time: 19.33765983581543\n",
      "---------------------------------------- 0.2\n",
      "graphs_train shape: 5120 graphs_train[0] shape: Data(x=[36, 267], edge_index=[2, 14], y=0.7580213903743316)\n",
      "graphs_test shape: 216 graphs_test[0] shape: Data(x=[36, 267], edge_index=[2, 14], y=0.5508274231678487)\n"
     ]
    },
    {
     "name": "stderr",
     "output_type": "stream",
     "text": [
      "/Users/haox/opt/anaconda3/lib/python3.8/site-packages/torch_geometric/deprecation.py:13: UserWarning: 'data.DataLoader' is deprecated, use 'loader.DataLoader' instead\n",
      "  warnings.warn(out)\n"
     ]
    },
    {
     "name": "stdout",
     "output_type": "stream",
     "text": [
      "Epoch: 009, Train MAE: 0.1384, Train MSE: 0.0397\n",
      "Epoch: 009, Test MAE: 0.1430, Test MSE: 0.0365\n",
      "Time: 20.902092218399048\n",
      "---------------------------------------- 0.25\n",
      "graphs_train shape: 6612 graphs_train[0] shape: Data(x=[36, 267], edge_index=[2, 14], y=0.7580213903743316)\n",
      "graphs_test shape: 216 graphs_test[0] shape: Data(x=[36, 267], edge_index=[2, 14], y=0.5508274231678487)\n"
     ]
    },
    {
     "name": "stderr",
     "output_type": "stream",
     "text": [
      "/Users/haox/opt/anaconda3/lib/python3.8/site-packages/torch_geometric/deprecation.py:13: UserWarning: 'data.DataLoader' is deprecated, use 'loader.DataLoader' instead\n",
      "  warnings.warn(out)\n"
     ]
    },
    {
     "name": "stdout",
     "output_type": "stream",
     "text": [
      "Epoch: 009, Train MAE: 0.1519, Train MSE: 0.0441\n",
      "Epoch: 009, Test MAE: 0.1709, Test MSE: 0.0483\n",
      "Time: 27.36763906478882\n",
      "---------------------------------------- 0.3\n",
      "graphs_train shape: 7383 graphs_train[0] shape: Data(x=[36, 267], edge_index=[2, 14], y=0.7580213903743316)\n",
      "graphs_test shape: 216 graphs_test[0] shape: Data(x=[36, 267], edge_index=[2, 14], y=0.5508274231678487)\n"
     ]
    },
    {
     "name": "stderr",
     "output_type": "stream",
     "text": [
      "/Users/haox/opt/anaconda3/lib/python3.8/site-packages/torch_geometric/deprecation.py:13: UserWarning: 'data.DataLoader' is deprecated, use 'loader.DataLoader' instead\n",
      "  warnings.warn(out)\n"
     ]
    },
    {
     "name": "stdout",
     "output_type": "stream",
     "text": [
      "Epoch: 009, Train MAE: 0.1548, Train MSE: 0.0444\n",
      "Epoch: 009, Test MAE: 0.1815, Test MSE: 0.0523\n",
      "Time: 29.021507024765015\n",
      "---------------------------------------- 0.35000000000000003\n",
      "graphs_train shape: 7391 graphs_train[0] shape: Data(x=[36, 267], edge_index=[2, 14], y=0.7580213903743316)\n",
      "graphs_test shape: 216 graphs_test[0] shape: Data(x=[36, 267], edge_index=[2, 14], y=0.5508274231678487)\n"
     ]
    },
    {
     "name": "stderr",
     "output_type": "stream",
     "text": [
      "/Users/haox/opt/anaconda3/lib/python3.8/site-packages/torch_geometric/deprecation.py:13: UserWarning: 'data.DataLoader' is deprecated, use 'loader.DataLoader' instead\n",
      "  warnings.warn(out)\n"
     ]
    },
    {
     "name": "stdout",
     "output_type": "stream",
     "text": [
      "Epoch: 009, Train MAE: 0.1552, Train MSE: 0.0443\n",
      "Epoch: 009, Test MAE: 0.1786, Test MSE: 0.0512\n",
      "Time: 32.62701416015625\n",
      "---------------------------------------- 0.4\n",
      "++++++++++++++++++++++++++++++\n",
      "vehicle_MF+GIN_0.35 vehicle_MF+GIN_0.4\n",
      "37 37\n",
      "---------------------------------------- 0.45\n",
      "graphs_train shape: 7595 graphs_train[0] shape: Data(x=[36, 267], edge_index=[2, 14], y=0.7580213903743316)\n",
      "graphs_test shape: 216 graphs_test[0] shape: Data(x=[36, 267], edge_index=[2, 14], y=0.5508274231678487)\n"
     ]
    },
    {
     "name": "stderr",
     "output_type": "stream",
     "text": [
      "/Users/haox/opt/anaconda3/lib/python3.8/site-packages/torch_geometric/deprecation.py:13: UserWarning: 'data.DataLoader' is deprecated, use 'loader.DataLoader' instead\n",
      "  warnings.warn(out)\n"
     ]
    },
    {
     "name": "stdout",
     "output_type": "stream",
     "text": [
      "Epoch: 009, Train MAE: 0.1677, Train MSE: 0.0537\n",
      "Epoch: 009, Test MAE: 0.1789, Test MSE: 0.0513\n",
      "Time: 32.43118715286255\n",
      "========================================\n",
      "38 volkert\n",
      "---------------------------------------- 0.05\n",
      "graphs_train shape: 637 graphs_train[0] shape: Data(x=[36, 267], edge_index=[2, 11], y=0.4525)\n",
      "graphs_test shape: 216 graphs_test[0] shape: Data(x=[36, 267], edge_index=[2, 12], y=0.4497787212787213)\n"
     ]
    },
    {
     "name": "stderr",
     "output_type": "stream",
     "text": [
      "/Users/haox/opt/anaconda3/lib/python3.8/site-packages/torch_geometric/deprecation.py:13: UserWarning: 'data.DataLoader' is deprecated, use 'loader.DataLoader' instead\n",
      "  warnings.warn(out)\n"
     ]
    },
    {
     "name": "stdout",
     "output_type": "stream",
     "text": [
      "Epoch: 009, Train MAE: 0.0639, Train MSE: 0.0093\n",
      "Epoch: 009, Test MAE: 0.1987, Test MSE: 0.0475\n",
      "Time: 3.057827949523926\n",
      "---------------------------------------- 0.1\n",
      "graphs_train shape: 1675 graphs_train[0] shape: Data(x=[36, 267], edge_index=[2, 14], y=0.23099999999999998)\n",
      "graphs_test shape: 216 graphs_test[0] shape: Data(x=[36, 267], edge_index=[2, 12], y=0.4497787212787213)\n"
     ]
    },
    {
     "name": "stderr",
     "output_type": "stream",
     "text": [
      "/Users/haox/opt/anaconda3/lib/python3.8/site-packages/torch_geometric/deprecation.py:13: UserWarning: 'data.DataLoader' is deprecated, use 'loader.DataLoader' instead\n",
      "  warnings.warn(out)\n"
     ]
    },
    {
     "name": "stdout",
     "output_type": "stream",
     "text": [
      "Epoch: 009, Train MAE: 0.1319, Train MSE: 0.0334\n",
      "Epoch: 009, Test MAE: 0.1000, Test MSE: 0.0179\n",
      "Time: 8.633766889572144\n",
      "---------------------------------------- 0.15000000000000002\n",
      "graphs_train shape: 2949 graphs_train[0] shape: Data(x=[36, 267], edge_index=[2, 14], y=0.23099999999999998)\n",
      "graphs_test shape: 216 graphs_test[0] shape: Data(x=[36, 267], edge_index=[2, 12], y=0.4497787212787213)\n"
     ]
    },
    {
     "name": "stderr",
     "output_type": "stream",
     "text": [
      "/Users/haox/opt/anaconda3/lib/python3.8/site-packages/torch_geometric/deprecation.py:13: UserWarning: 'data.DataLoader' is deprecated, use 'loader.DataLoader' instead\n",
      "  warnings.warn(out)\n"
     ]
    },
    {
     "name": "stdout",
     "output_type": "stream",
     "text": [
      "Epoch: 009, Train MAE: 0.1211, Train MSE: 0.0304\n",
      "Epoch: 009, Test MAE: 0.1821, Test MSE: 0.0412\n",
      "Time: 12.382199048995972\n",
      "---------------------------------------- 0.2\n",
      "++++++++++++++++++++++++++++++\n",
      "volkert_MF+GIN_0.15 volkert_MF+GIN_0.2\n",
      "15 15\n",
      "---------------------------------------- 0.25\n",
      "graphs_train shape: 4935 graphs_train[0] shape: Data(x=[36, 267], edge_index=[2, 14], y=0.7580213903743316)\n",
      "graphs_test shape: 216 graphs_test[0] shape: Data(x=[36, 267], edge_index=[2, 12], y=0.4497787212787213)\n"
     ]
    },
    {
     "name": "stderr",
     "output_type": "stream",
     "text": [
      "/Users/haox/opt/anaconda3/lib/python3.8/site-packages/torch_geometric/deprecation.py:13: UserWarning: 'data.DataLoader' is deprecated, use 'loader.DataLoader' instead\n",
      "  warnings.warn(out)\n"
     ]
    },
    {
     "name": "stdout",
     "output_type": "stream",
     "text": [
      "Epoch: 009, Train MAE: 0.1288, Train MSE: 0.0327\n",
      "Epoch: 009, Test MAE: 0.2338, Test MSE: 0.0627\n",
      "Time: 20.39136528968811\n",
      "---------------------------------------- 0.3\n",
      "graphs_train shape: 5756 graphs_train[0] shape: Data(x=[36, 267], edge_index=[2, 14], y=0.7580213903743316)\n",
      "graphs_test shape: 216 graphs_test[0] shape: Data(x=[36, 267], edge_index=[2, 12], y=0.4497787212787213)\n"
     ]
    },
    {
     "name": "stderr",
     "output_type": "stream",
     "text": [
      "/Users/haox/opt/anaconda3/lib/python3.8/site-packages/torch_geometric/deprecation.py:13: UserWarning: 'data.DataLoader' is deprecated, use 'loader.DataLoader' instead\n",
      "  warnings.warn(out)\n"
     ]
    },
    {
     "name": "stdout",
     "output_type": "stream",
     "text": [
      "Epoch: 009, Train MAE: 0.1365, Train MSE: 0.0402\n",
      "Epoch: 009, Test MAE: 0.2263, Test MSE: 0.0593\n",
      "Time: 23.658448934555054\n",
      "---------------------------------------- 0.35000000000000003\n",
      "graphs_train shape: 6884 graphs_train[0] shape: Data(x=[36, 267], edge_index=[2, 14], y=0.7580213903743316)\n",
      "graphs_test shape: 216 graphs_test[0] shape: Data(x=[36, 267], edge_index=[2, 12], y=0.4497787212787213)\n"
     ]
    },
    {
     "name": "stderr",
     "output_type": "stream",
     "text": [
      "/Users/haox/opt/anaconda3/lib/python3.8/site-packages/torch_geometric/deprecation.py:13: UserWarning: 'data.DataLoader' is deprecated, use 'loader.DataLoader' instead\n",
      "  warnings.warn(out)\n"
     ]
    },
    {
     "name": "stdout",
     "output_type": "stream",
     "text": [
      "Epoch: 009, Train MAE: 0.1598, Train MSE: 0.0519\n",
      "Epoch: 009, Test MAE: 0.3643, Test MSE: 0.1408\n",
      "Time: 27.994584798812866\n",
      "---------------------------------------- 0.4\n",
      "graphs_train shape: 7595 graphs_train[0] shape: Data(x=[36, 267], edge_index=[2, 14], y=0.7580213903743316)\n",
      "graphs_test shape: 216 graphs_test[0] shape: Data(x=[36, 267], edge_index=[2, 12], y=0.4497787212787213)\n"
     ]
    },
    {
     "name": "stderr",
     "output_type": "stream",
     "text": [
      "/Users/haox/opt/anaconda3/lib/python3.8/site-packages/torch_geometric/deprecation.py:13: UserWarning: 'data.DataLoader' is deprecated, use 'loader.DataLoader' instead\n",
      "  warnings.warn(out)\n"
     ]
    },
    {
     "name": "stdout",
     "output_type": "stream",
     "text": [
      "Epoch: 009, Train MAE: 0.1577, Train MSE: 0.0494\n",
      "Epoch: 009, Test MAE: 0.2884, Test MSE: 0.0914\n",
      "Time: 31.437166213989258\n",
      "---------------------------------------- 0.45\n",
      "++++++++++++++++++++++++++++++\n",
      "volkert_MF+GIN_0.4 volkert_MF+GIN_0.45\n",
      "38 38\n"
     ]
    }
   ],
   "source": [
    "from torch_geometric.data import DataLoader\n",
    "\n",
    "target_test_pred_time = {}\n",
    "data_names = list(MF_np.keys())\n",
    "data_embed = MF_np\n",
    "batch_size = 64\n",
    "\n",
    "for data_index, data_name in enumerate(data_names):\n",
    "    print(\"=\"*40)\n",
    "    print(data_index, data_name)\n",
    "    \n",
    "    task_test = [data_name]\n",
    "    candidate_score = DDN[data_name]\n",
    "    prev_key = None\n",
    "    dict_key = None\n",
    "    len_task_train = 0\n",
    "    prev_len_task_train = 0\n",
    "    for threshold in np.arange(0.05, 0.5, 0.05):\n",
    "        print(\"-\"*40, threshold)\n",
    "        prev_key = dict_key\n",
    "        dict_key = '_'.join([data_name, combination_name, str(round(threshold,2))])\n",
    "        \n",
    "        start = time.time()\n",
    "        task_train = [i for i in data_names if i!=data_name and abs(DDN[i]-candidate_score)<threshold]\n",
    "        prev_len_task_train = len_task_train\n",
    "        len_task_train = len(task_train)\n",
    "        if len_task_train == 0:\n",
    "            target_test_pred_time[dict_key] = 'N.A.'\n",
    "            pickle.dump(target_test_pred_time, open(log_target_test_pred_time, \"wb\"))\n",
    "            continue\n",
    "            \n",
    "        if len_task_train == prev_len_task_train:\n",
    "            print(\"+\"*30)\n",
    "            print(prev_key, dict_key)\n",
    "            print(prev_len_task_train, len_task_train)\n",
    "            target_test_pred_time[dict_key] =  target_test_pred_time[prev_key]\n",
    "            continue\n",
    "\n",
    "        graphs_train = []\n",
    "        graphs_test = []\n",
    "        for key in graphs:\n",
    "            if key in task_train:\n",
    "                graphs_train += graphs[key]\n",
    "            elif key in task_test:\n",
    "                graphs_test += graphs[key]\n",
    "        train_loader = DataLoader(graphs_train, batch_size=batch_size, shuffle=False)\n",
    "        test_loader = DataLoader(graphs_test, batch_size=batch_size, shuffle=False)\n",
    "        print(\"graphs_train shape:\", len(graphs_train), \"graphs_train[0] shape:\", graphs_train[0])\n",
    "        print(\"graphs_test shape:\", len(graphs_test), \"graphs_test[0] shape:\", graphs_test[0])\n",
    "\n",
    "        model = GIN(in_channels=graphs_train[0].num_node_features, hidden_channels=64).to(device)\n",
    "        optimizer = torch.optim.Adam(model.parameters(), lr=0.01)\n",
    "        criterion = torch.nn.MSELoss() \n",
    "        def train():\n",
    "            model.train()\n",
    "            for data in train_loader:  # Iterate in batches over the training dataset.\n",
    "                out = model(data.x, data.edge_index, data.batch)  # Perform a single forward pass.\n",
    "                loss = criterion(out, data.y.reshape(data.y.shape[0],1).to(device))  # Compute the loss.\n",
    "                # loss = criterion(out, data.y.to(device))  # Compute the loss.\n",
    "                loss.backward()  # Derive gradients.\n",
    "                optimizer.step()  # Update parameters based on gradients.\n",
    "                optimizer.zero_grad()  # Clear gradients.\n",
    "\n",
    "        def test(loader):\n",
    "            model.eval()\n",
    "            test = []\n",
    "            pred = []\n",
    "            for data in loader:  # Iterate in batches over the training/test dataset.\n",
    "                out = model(data.x, data.edge_index, data.batch)  \n",
    "        #         print(out, data.y)\n",
    "                if len(test) == 0:\n",
    "                    test = data.y\n",
    "                    pred = out.detach()\n",
    "                else:\n",
    "                    test = torch.cat((test, data.y))\n",
    "                    pred = torch.cat((pred, out.detach()))\n",
    "            return test, pred, mean_absolute_error(test.cpu(), pred.cpu()), mean_squared_error(test.cpu(), pred.cpu())  # Derive ratio of correct predictions.\n",
    "\n",
    "\n",
    "        start = time.time()\n",
    "        for epoch in range(10):\n",
    "            train()\n",
    "            _, _, train_mae, train_mse = test(train_loader)\n",
    "            test_y, pred_y, test_mae, test_mse = test(test_loader)\n",
    "        #     test_acc = test(test_loader)\n",
    "        end  = time.time()\n",
    "        duration = end-start\n",
    "        print(f'Epoch: {epoch:03d}, Train MAE: {train_mae:.4f}, Train MSE: {train_mse:.4f}')\n",
    "        print(f'Epoch: {epoch:03d}, Test MAE: {test_mae:.4f}, Test MSE: {test_mse:.4f}')\n",
    "        print(\"Time:\", duration)\n",
    "        \n",
    "        target_test_pred_time[dict_key] = (test_y, pred_y, duration, test_mae, test_mse)\n",
    "        pickle.dump(target_test_pred_time, open(log_target_test_pred_time, 'wb'))\n",
    "    \n"
   ]
  },
  {
   "cell_type": "code",
   "execution_count": null,
   "id": "dab781fe",
   "metadata": {},
   "outputs": [],
   "source": []
  },
  {
   "cell_type": "code",
   "execution_count": null,
   "id": "245c2ff9",
   "metadata": {},
   "outputs": [],
   "source": []
  }
 ],
 "metadata": {
  "kernelspec": {
   "display_name": "Python 3",
   "language": "python",
   "name": "python3"
  },
  "language_info": {
   "codemirror_mode": {
    "name": "ipython",
    "version": 3
   },
   "file_extension": ".py",
   "mimetype": "text/x-python",
   "name": "python",
   "nbconvert_exporter": "python",
   "pygments_lexer": "ipython3",
   "version": "3.8.8"
  }
 },
 "nbformat": 4,
 "nbformat_minor": 5
}
