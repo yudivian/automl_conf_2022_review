{
 "cells": [
  {
   "cell_type": "code",
   "execution_count": 1,
   "id": "69da0295",
   "metadata": {},
   "outputs": [],
   "source": [
    "import pickle\n",
    "import math\n",
    "import numpy as np\n",
    "\n",
    "import time\n",
    "import networkx as nx\n",
    "\n",
    "import torch\n",
    "from torch.nn import Linear\n",
    "import torch.nn.functional as F\n",
    "from torch_geometric.nn import GCNConv\n",
    "\n",
    "from sklearn.metrics import mean_absolute_error, mean_squared_error, r2_score\n"
   ]
  },
  {
   "cell_type": "code",
   "execution_count": 2,
   "id": "e42fe530",
   "metadata": {},
   "outputs": [],
   "source": [
    "AutoML_path = \"\"\n",
    "log_folder = \"tpot_log\"\n",
    "\n",
    "log_DDN = AutoML_path+log_folder+'/DDN_single_time'\n",
    "log_pipeline_steps = AutoML_path+log_folder+'/pipeline_steps_class_02272022_tpot'\n",
    "\n",
    "combination_name = 'DDN+GIN'\n",
    "today = '03102022'\n",
    "log_target_test_pred_time = AutoML_path+log_folder+'/'+combination_name+'_target_test_pred_time_'+today"
   ]
  },
  {
   "cell_type": "code",
   "execution_count": 3,
   "id": "8bbe7f3b",
   "metadata": {},
   "outputs": [
    {
     "name": "stdout",
     "output_type": "stream",
     "text": [
      "39\n",
      "12863\n",
      "11797\n"
     ]
    }
   ],
   "source": [
    "DDN = pickle.load(open(log_DDN, \"rb\"))\n",
    "print(len(DDN))\n",
    "\n",
    "pipeline_steps_class = pickle.load(open(log_pipeline_steps, 'rb'))\n",
    "print(len(pipeline_steps_class))\n",
    "\n",
    "pipeline_steps_class = [i for i in pipeline_steps_class if i[3] != \"Timeout\" and not np.isinf(i[3])]\n",
    "print(len(pipeline_steps_class))\n"
   ]
  },
  {
   "cell_type": "code",
   "execution_count": 4,
   "id": "cdeddf07",
   "metadata": {},
   "outputs": [
    {
     "name": "stderr",
     "output_type": "stream",
     "text": [
      "<ipython-input-4-4f395973b4cb>:15: UserWarning: Creating a tensor from a list of numpy.ndarrays is extremely slow. Please consider converting the list to a single numpy.ndarray with numpy.array() before converting to a tensor. (Triggered internally at  ../torch/csrc/utils/tensor_new.cpp:201.)\n",
      "  node_x = torch.tensor(node_attribute_list, dtype=torch.double)\n"
     ]
    }
   ],
   "source": [
    "from torch_geometric.data import Data\n",
    "from collections import defaultdict\n",
    "device = torch.device('cpu')\n",
    "graphs = defaultdict(list)\n",
    "\n",
    "for pipeline in pipeline_steps_class:\n",
    "    data_name = pipeline[0]\n",
    "    if data_name in DDN:\n",
    "        g = pipeline[2]\n",
    "        score = pipeline[3]\n",
    "        node_attribute_dict = nx.get_node_attributes(g, name='feature')\n",
    "        node_attribute_list = [np.hstack((node_attribute_dict[i],DDN[data_name])) for i in node_attribute_dict]\n",
    "#         node_attribute_list = [np.hstack((node_attribute_dict[i],X_meta[data_name])) for i in node_attribute_dict]\n",
    "#         node_x = torch.tensor(node_attribute_list)\n",
    "        node_x = torch.tensor(node_attribute_list, dtype=torch.double)\n",
    "\n",
    "        edge_list = list(g.edges())\n",
    "#         edge_index = torch.tensor(edge_list).t()\n",
    "        edge_index = torch.tensor(edge_list,dtype=torch.long).t()\n",
    "\n",
    "        graph_data = Data(edge_index=edge_index, x=node_x, y=score)\n",
    "        graphs[data_name].append(graph_data.to(device))\n",
    "        "
   ]
  },
  {
   "cell_type": "code",
   "execution_count": 5,
   "id": "ca247f0c",
   "metadata": {},
   "outputs": [
    {
     "name": "stdout",
     "output_type": "stream",
     "text": [
      "39\n"
     ]
    },
    {
     "data": {
      "text/plain": [
       "Data(x=[46, 47], edge_index=[2, 1], y=0.7911666666666666)"
      ]
     },
     "execution_count": 5,
     "metadata": {},
     "output_type": "execute_result"
    }
   ],
   "source": [
    "print(len(graphs))\n",
    "graphs['adult'][0]"
   ]
  },
  {
   "cell_type": "code",
   "execution_count": 6,
   "id": "5221d2cd",
   "metadata": {},
   "outputs": [],
   "source": [
    "from torch.nn import Linear\n",
    "import torch.nn.functional as F\n",
    "from torch_geometric.nn import GCNConv, GATConv, GINConv\n",
    "from torch_geometric.nn import global_mean_pool\n",
    "\n",
    "class GIN(torch.nn.Module):\n",
    "    def __init__(self, in_channels, hidden_channels):\n",
    "        super(GIN, self).__init__()\n",
    "        torch.manual_seed(12345)\n",
    "        self.conv1 = GINConv(torch.nn.Sequential(\n",
    "           Linear(in_channels, hidden_channels)\n",
    "        ))\n",
    "        self.conv2 = GINConv(torch.nn.Sequential(\n",
    "           Linear(hidden_channels, hidden_channels)\n",
    "        ))\n",
    "        self.conv3 = GINConv(torch.nn.Sequential(\n",
    "           Linear(hidden_channels, hidden_channels)\n",
    "        ))\n",
    "        self.lin1 = Linear(hidden_channels, hidden_channels)\n",
    "        self.lin2 = Linear(hidden_channels, hidden_channels)\n",
    "        self.lin3 = Linear(hidden_channels, 1)\n",
    "        self.double()\n",
    "\n",
    "    def forward(self, x, edge_index, batch):\n",
    "        dataset_embedding = x[:, 40:104]\n",
    "#         print(x.shape, dataset_embedding.shape)\n",
    "        # 1. Obtain node embeddings \n",
    "        x = self.conv1(x, edge_index)\n",
    "        x = x.relu()\n",
    "        x = F.dropout(x, p=0.2, training=self.training)\n",
    "        x = self.conv2(x, edge_index)\n",
    "        x = x.relu()\n",
    "        x = F.dropout(x, p=0.2, training=self.training)\n",
    "        x = self.conv3(x, edge_index)\n",
    "        x = x.relu()\n",
    "\n",
    "        # 2. Readout layer\n",
    "#         x = torch.cat((x, dataset_embedding), dim=1)\n",
    "        x = global_mean_pool(x, batch)  # [batch_size, hidden_channels]\n",
    "\n",
    "        # 3. Apply a final classifier\n",
    "#         x = F.dropout(x, p=0.2, training=self.training)\n",
    "#         print(x.shape, dataset_embedding.shape)\n",
    "        x = self.lin1(x)\n",
    "        x = x.relu()\n",
    "        x = self.lin2(x)\n",
    "        x = x.relu()\n",
    "        x = self.lin3(x)\n",
    "        \n",
    "        return x"
   ]
  },
  {
   "cell_type": "code",
   "execution_count": 7,
   "id": "da7459d7",
   "metadata": {
    "scrolled": true
   },
   "outputs": [
    {
     "name": "stdout",
     "output_type": "stream",
     "text": [
      "========================================\n",
      "0 adult\n",
      "---------------------------------------- 0.05\n",
      "graphs_train shape: 2129 graphs_train[0] shape: Data(x=[46, 47], edge_index=[2, 1], y=0.7552428795420986)\n",
      "graphs_test shape: 271 graphs_test[0] shape: Data(x=[46, 47], edge_index=[2, 1], y=0.7911666666666666)\n"
     ]
    },
    {
     "name": "stderr",
     "output_type": "stream",
     "text": [
      "/Users/haox/opt/anaconda3/lib/python3.8/site-packages/torch_geometric/deprecation.py:13: UserWarning: 'data.DataLoader' is deprecated, use 'loader.DataLoader' instead\n",
      "  warnings.warn(out)\n"
     ]
    },
    {
     "name": "stdout",
     "output_type": "stream",
     "text": [
      "Epoch: 009, Train MAE: 0.1078, Train MSE: 0.0207\n",
      "Epoch: 009, Test MAE: 0.1192, Test MSE: 0.0173\n",
      "Time: 9.425677061080933\n",
      "---------------------------------------- 0.1\n",
      "graphs_train shape: 4352 graphs_train[0] shape: Data(x=[46, 47], edge_index=[2, 1], y=0.7552428795420986)\n",
      "graphs_test shape: 271 graphs_test[0] shape: Data(x=[46, 47], edge_index=[2, 1], y=0.7911666666666666)\n"
     ]
    },
    {
     "name": "stderr",
     "output_type": "stream",
     "text": [
      "/Users/haox/opt/anaconda3/lib/python3.8/site-packages/torch_geometric/deprecation.py:13: UserWarning: 'data.DataLoader' is deprecated, use 'loader.DataLoader' instead\n",
      "  warnings.warn(out)\n"
     ]
    },
    {
     "name": "stdout",
     "output_type": "stream",
     "text": [
      "Epoch: 009, Train MAE: 0.0910, Train MSE: 0.0155\n",
      "Epoch: 009, Test MAE: 0.0957, Test MSE: 0.0123\n",
      "Time: 18.405853271484375\n",
      "---------------------------------------- 0.15000000000000002\n",
      "graphs_train shape: 7632 graphs_train[0] shape: Data(x=[46, 47], edge_index=[2, 1], y=0.932)\n",
      "graphs_test shape: 271 graphs_test[0] shape: Data(x=[46, 47], edge_index=[2, 1], y=0.7911666666666666)\n"
     ]
    },
    {
     "name": "stderr",
     "output_type": "stream",
     "text": [
      "/Users/haox/opt/anaconda3/lib/python3.8/site-packages/torch_geometric/deprecation.py:13: UserWarning: 'data.DataLoader' is deprecated, use 'loader.DataLoader' instead\n",
      "  warnings.warn(out)\n"
     ]
    },
    {
     "name": "stdout",
     "output_type": "stream",
     "text": [
      "Epoch: 009, Train MAE: 0.1115, Train MSE: 0.0251\n",
      "Epoch: 009, Test MAE: 0.0916, Test MSE: 0.0115\n",
      "Time: 29.835318088531494\n",
      "---------------------------------------- 0.2\n",
      "graphs_train shape: 8814 graphs_train[0] shape: Data(x=[46, 47], edge_index=[2, 1], y=0.932)\n",
      "graphs_test shape: 271 graphs_test[0] shape: Data(x=[46, 47], edge_index=[2, 1], y=0.7911666666666666)\n"
     ]
    },
    {
     "name": "stderr",
     "output_type": "stream",
     "text": [
      "/Users/haox/opt/anaconda3/lib/python3.8/site-packages/torch_geometric/deprecation.py:13: UserWarning: 'data.DataLoader' is deprecated, use 'loader.DataLoader' instead\n",
      "  warnings.warn(out)\n"
     ]
    },
    {
     "name": "stdout",
     "output_type": "stream",
     "text": [
      "Epoch: 009, Train MAE: 0.1131, Train MSE: 0.0267\n",
      "Epoch: 009, Test MAE: 0.1093, Test MSE: 0.0151\n",
      "Time: 40.81270790100098\n",
      "---------------------------------------- 0.25\n",
      "graphs_train shape: 10228 graphs_train[0] shape: Data(x=[46, 47], edge_index=[2, 1], y=0.932)\n",
      "graphs_test shape: 271 graphs_test[0] shape: Data(x=[46, 47], edge_index=[2, 1], y=0.7911666666666666)\n"
     ]
    },
    {
     "name": "stderr",
     "output_type": "stream",
     "text": [
      "/Users/haox/opt/anaconda3/lib/python3.8/site-packages/torch_geometric/deprecation.py:13: UserWarning: 'data.DataLoader' is deprecated, use 'loader.DataLoader' instead\n",
      "  warnings.warn(out)\n"
     ]
    },
    {
     "name": "stdout",
     "output_type": "stream",
     "text": [
      "Epoch: 009, Train MAE: 0.1335, Train MSE: 0.0312\n",
      "Epoch: 009, Test MAE: 0.0633, Test MSE: 0.0071\n",
      "Time: 47.92094683647156\n",
      "---------------------------------------- 0.3\n",
      "graphs_train shape: 10830 graphs_train[0] shape: Data(x=[46, 47], edge_index=[2, 1], y=0.932)\n",
      "graphs_test shape: 271 graphs_test[0] shape: Data(x=[46, 47], edge_index=[2, 1], y=0.7911666666666666)\n"
     ]
    },
    {
     "name": "stderr",
     "output_type": "stream",
     "text": [
      "/Users/haox/opt/anaconda3/lib/python3.8/site-packages/torch_geometric/deprecation.py:13: UserWarning: 'data.DataLoader' is deprecated, use 'loader.DataLoader' instead\n",
      "  warnings.warn(out)\n"
     ]
    },
    {
     "name": "stdout",
     "output_type": "stream",
     "text": [
      "Epoch: 009, Train MAE: 0.1426, Train MSE: 0.0346\n",
      "Epoch: 009, Test MAE: 0.0661, Test MSE: 0.0075\n",
      "Time: 48.24768686294556\n",
      "---------------------------------------- 0.35000000000000003\n",
      "graphs_train shape: 11173 graphs_train[0] shape: Data(x=[46, 47], edge_index=[2, 1], y=0.932)\n",
      "graphs_test shape: 271 graphs_test[0] shape: Data(x=[46, 47], edge_index=[2, 1], y=0.7911666666666666)\n"
     ]
    },
    {
     "name": "stderr",
     "output_type": "stream",
     "text": [
      "/Users/haox/opt/anaconda3/lib/python3.8/site-packages/torch_geometric/deprecation.py:13: UserWarning: 'data.DataLoader' is deprecated, use 'loader.DataLoader' instead\n",
      "  warnings.warn(out)\n"
     ]
    },
    {
     "name": "stdout",
     "output_type": "stream",
     "text": [
      "Epoch: 009, Train MAE: 0.1492, Train MSE: 0.0375\n",
      "Epoch: 009, Test MAE: 0.0656, Test MSE: 0.0074\n",
      "Time: 46.9285728931427\n",
      "---------------------------------------- 0.4\n",
      "++++++++++++++++++++++++++++++\n",
      "adult_DDN+GIN_0.35 adult_DDN+GIN_0.4\n",
      "36 36\n",
      "---------------------------------------- 0.45\n",
      "++++++++++++++++++++++++++++++\n",
      "adult_DDN+GIN_0.4 adult_DDN+GIN_0.45\n",
      "36 36\n",
      "========================================\n",
      "1 airlines\n",
      "---------------------------------------- 0.05\n",
      "graphs_train shape: 281 graphs_train[0] shape: Data(x=[46, 47], edge_index=[2, 1], y=0.6066666666666667)\n",
      "graphs_test shape: 321 graphs_test[0] shape: Data(x=[46, 47], edge_index=[2, 1], y=0.589)\n"
     ]
    },
    {
     "name": "stderr",
     "output_type": "stream",
     "text": [
      "/Users/haox/opt/anaconda3/lib/python3.8/site-packages/torch_geometric/deprecation.py:13: UserWarning: 'data.DataLoader' is deprecated, use 'loader.DataLoader' instead\n",
      "  warnings.warn(out)\n"
     ]
    },
    {
     "name": "stdout",
     "output_type": "stream",
     "text": [
      "Epoch: 009, Train MAE: 0.0403, Train MSE: 0.0021\n",
      "Epoch: 009, Test MAE: 0.0289, Test MSE: 0.0011\n",
      "Time: 1.505138874053955\n",
      "---------------------------------------- 0.1\n",
      "graphs_train shape: 2038 graphs_train[0] shape: Data(x=[46, 47], edge_index=[2, 1], y=0.5485)\n",
      "graphs_test shape: 321 graphs_test[0] shape: Data(x=[46, 47], edge_index=[2, 1], y=0.589)\n"
     ]
    },
    {
     "name": "stderr",
     "output_type": "stream",
     "text": [
      "/Users/haox/opt/anaconda3/lib/python3.8/site-packages/torch_geometric/deprecation.py:13: UserWarning: 'data.DataLoader' is deprecated, use 'loader.DataLoader' instead\n",
      "  warnings.warn(out)\n"
     ]
    },
    {
     "name": "stdout",
     "output_type": "stream",
     "text": [
      "Epoch: 009, Train MAE: 0.0723, Train MSE: 0.0080\n",
      "Epoch: 009, Test MAE: 0.0387, Test MSE: 0.0023\n",
      "Time: 7.22686505317688\n",
      "---------------------------------------- 0.15000000000000002\n",
      "graphs_train shape: 2473 graphs_train[0] shape: Data(x=[46, 47], edge_index=[2, 1], y=0.6736413817340144)\n",
      "graphs_test shape: 321 graphs_test[0] shape: Data(x=[46, 47], edge_index=[2, 1], y=0.589)\n"
     ]
    },
    {
     "name": "stderr",
     "output_type": "stream",
     "text": [
      "/Users/haox/opt/anaconda3/lib/python3.8/site-packages/torch_geometric/deprecation.py:13: UserWarning: 'data.DataLoader' is deprecated, use 'loader.DataLoader' instead\n",
      "  warnings.warn(out)\n"
     ]
    },
    {
     "name": "stdout",
     "output_type": "stream",
     "text": [
      "Epoch: 009, Train MAE: 0.0766, Train MSE: 0.0112\n",
      "Epoch: 009, Test MAE: 0.0308, Test MSE: 0.0012\n",
      "Time: 8.563478946685791\n",
      "---------------------------------------- 0.2\n",
      "graphs_train shape: 4552 graphs_train[0] shape: Data(x=[46, 47], edge_index=[2, 1], y=0.45183333333333336)\n",
      "graphs_test shape: 321 graphs_test[0] shape: Data(x=[46, 47], edge_index=[2, 1], y=0.589)\n"
     ]
    },
    {
     "name": "stderr",
     "output_type": "stream",
     "text": [
      "/Users/haox/opt/anaconda3/lib/python3.8/site-packages/torch_geometric/deprecation.py:13: UserWarning: 'data.DataLoader' is deprecated, use 'loader.DataLoader' instead\n",
      "  warnings.warn(out)\n"
     ]
    },
    {
     "name": "stdout",
     "output_type": "stream",
     "text": [
      "Epoch: 009, Train MAE: 0.1217, Train MSE: 0.0219\n",
      "Epoch: 009, Test MAE: 0.0309, Test MSE: 0.0015\n",
      "Time: 26.35130524635315\n",
      "---------------------------------------- 0.25\n",
      "++++++++++++++++++++++++++++++\n",
      "airlines_DDN+GIN_0.2 airlines_DDN+GIN_0.25\n",
      "16 16\n",
      "---------------------------------------- 0.3\n",
      "graphs_train shape: 7186 graphs_train[0] shape: Data(x=[46, 47], edge_index=[2, 1], y=0.45183333333333336)\n",
      "graphs_test shape: 321 graphs_test[0] shape: Data(x=[46, 47], edge_index=[2, 1], y=0.589)\n"
     ]
    },
    {
     "name": "stderr",
     "output_type": "stream",
     "text": [
      "/Users/haox/opt/anaconda3/lib/python3.8/site-packages/torch_geometric/deprecation.py:13: UserWarning: 'data.DataLoader' is deprecated, use 'loader.DataLoader' instead\n",
      "  warnings.warn(out)\n"
     ]
    },
    {
     "name": "stdout",
     "output_type": "stream",
     "text": [
      "Epoch: 009, Train MAE: 0.1339, Train MSE: 0.0323\n",
      "Epoch: 009, Test MAE: 0.1397, Test MSE: 0.0205\n",
      "Time: 32.598480224609375\n",
      "---------------------------------------- 0.35000000000000003\n",
      "graphs_train shape: 7505 graphs_train[0] shape: Data(x=[46, 47], edge_index=[2, 1], y=0.45183333333333336)\n",
      "graphs_test shape: 321 graphs_test[0] shape: Data(x=[46, 47], edge_index=[2, 1], y=0.589)\n"
     ]
    },
    {
     "name": "stderr",
     "output_type": "stream",
     "text": [
      "/Users/haox/opt/anaconda3/lib/python3.8/site-packages/torch_geometric/deprecation.py:13: UserWarning: 'data.DataLoader' is deprecated, use 'loader.DataLoader' instead\n",
      "  warnings.warn(out)\n"
     ]
    },
    {
     "name": "stdout",
     "output_type": "stream",
     "text": [
      "Epoch: 009, Train MAE: 0.1395, Train MSE: 0.0363\n",
      "Epoch: 009, Test MAE: 0.1789, Test MSE: 0.0330\n",
      "Time: 37.743940114974976\n",
      "---------------------------------------- 0.4\n",
      "graphs_train shape: 9479 graphs_train[0] shape: Data(x=[46, 47], edge_index=[2, 1], y=0.45183333333333336)\n",
      "graphs_test shape: 321 graphs_test[0] shape: Data(x=[46, 47], edge_index=[2, 1], y=0.589)\n"
     ]
    },
    {
     "name": "stderr",
     "output_type": "stream",
     "text": [
      "/Users/haox/opt/anaconda3/lib/python3.8/site-packages/torch_geometric/deprecation.py:13: UserWarning: 'data.DataLoader' is deprecated, use 'loader.DataLoader' instead\n",
      "  warnings.warn(out)\n"
     ]
    },
    {
     "name": "stdout",
     "output_type": "stream",
     "text": [
      "Epoch: 009, Train MAE: 0.1450, Train MSE: 0.0361\n",
      "Epoch: 009, Test MAE: 0.1982, Test MSE: 0.0403\n",
      "Time: 42.44243144989014\n",
      "---------------------------------------- 0.45\n",
      "graphs_train shape: 11476 graphs_train[0] shape: Data(x=[46, 47], edge_index=[2, 1], y=0.932)\n",
      "graphs_test shape: 321 graphs_test[0] shape: Data(x=[46, 47], edge_index=[2, 1], y=0.589)\n"
     ]
    },
    {
     "name": "stderr",
     "output_type": "stream",
     "text": [
      "/Users/haox/opt/anaconda3/lib/python3.8/site-packages/torch_geometric/deprecation.py:13: UserWarning: 'data.DataLoader' is deprecated, use 'loader.DataLoader' instead\n",
      "  warnings.warn(out)\n"
     ]
    },
    {
     "name": "stdout",
     "output_type": "stream",
     "text": [
      "Epoch: 009, Train MAE: 0.1567, Train MSE: 0.0454\n",
      "Epoch: 009, Test MAE: 0.2833, Test MSE: 0.0813\n",
      "Time: 53.022315979003906\n",
      "========================================\n",
      "2 albert\n",
      "---------------------------------------- 0.05\n",
      "graphs_train shape: 606 graphs_train[0] shape: Data(x=[46, 47], edge_index=[2, 1], y=0.589)\n",
      "graphs_test shape: 281 graphs_test[0] shape: Data(x=[46, 47], edge_index=[2, 1], y=0.6066666666666667)\n"
     ]
    },
    {
     "name": "stderr",
     "output_type": "stream",
     "text": [
      "/Users/haox/opt/anaconda3/lib/python3.8/site-packages/torch_geometric/deprecation.py:13: UserWarning: 'data.DataLoader' is deprecated, use 'loader.DataLoader' instead\n",
      "  warnings.warn(out)\n"
     ]
    },
    {
     "name": "stdout",
     "output_type": "stream",
     "text": [
      "Epoch: 009, Train MAE: 0.0307, Train MSE: 0.0015\n",
      "Epoch: 009, Test MAE: 0.0435, Test MSE: 0.0025\n",
      "Time: 3.0082101821899414\n",
      "---------------------------------------- 0.1\n",
      "graphs_train shape: 2078 graphs_train[0] shape: Data(x=[46, 47], edge_index=[2, 1], y=0.5485)\n",
      "graphs_test shape: 281 graphs_test[0] shape: Data(x=[46, 47], edge_index=[2, 1], y=0.6066666666666667)\n"
     ]
    },
    {
     "name": "stderr",
     "output_type": "stream",
     "text": [
      "/Users/haox/opt/anaconda3/lib/python3.8/site-packages/torch_geometric/deprecation.py:13: UserWarning: 'data.DataLoader' is deprecated, use 'loader.DataLoader' instead\n",
      "  warnings.warn(out)\n"
     ]
    },
    {
     "name": "stdout",
     "output_type": "stream",
     "text": [
      "Epoch: 009, Train MAE: 0.0923, Train MSE: 0.0127\n",
      "Epoch: 009, Test MAE: 0.0766, Test MSE: 0.0079\n",
      "Time: 8.979099750518799\n",
      "---------------------------------------- 0.15000000000000002\n",
      "graphs_train shape: 3214 graphs_train[0] shape: Data(x=[46, 47], edge_index=[2, 1], y=0.4556213017751479)\n",
      "graphs_test shape: 281 graphs_test[0] shape: Data(x=[46, 47], edge_index=[2, 1], y=0.6066666666666667)\n"
     ]
    },
    {
     "name": "stderr",
     "output_type": "stream",
     "text": [
      "/Users/haox/opt/anaconda3/lib/python3.8/site-packages/torch_geometric/deprecation.py:13: UserWarning: 'data.DataLoader' is deprecated, use 'loader.DataLoader' instead\n",
      "  warnings.warn(out)\n"
     ]
    },
    {
     "name": "stdout",
     "output_type": "stream",
     "text": [
      "Epoch: 009, Train MAE: 0.0888, Train MSE: 0.0131\n",
      "Epoch: 009, Test MAE: 0.0414, Test MSE: 0.0021\n",
      "Time: 11.929442882537842\n",
      "---------------------------------------- 0.2\n",
      "graphs_train shape: 4592 graphs_train[0] shape: Data(x=[46, 47], edge_index=[2, 1], y=0.45183333333333336)\n",
      "graphs_test shape: 281 graphs_test[0] shape: Data(x=[46, 47], edge_index=[2, 1], y=0.6066666666666667)\n"
     ]
    },
    {
     "name": "stderr",
     "output_type": "stream",
     "text": [
      "/Users/haox/opt/anaconda3/lib/python3.8/site-packages/torch_geometric/deprecation.py:13: UserWarning: 'data.DataLoader' is deprecated, use 'loader.DataLoader' instead\n",
      "  warnings.warn(out)\n"
     ]
    },
    {
     "name": "stdout",
     "output_type": "stream",
     "text": [
      "Epoch: 009, Train MAE: 0.1268, Train MSE: 0.0237\n",
      "Epoch: 009, Test MAE: 0.0463, Test MSE: 0.0031\n",
      "Time: 25.592622995376587\n",
      "---------------------------------------- 0.25\n",
      "++++++++++++++++++++++++++++++\n",
      "albert_DDN+GIN_0.2 albert_DDN+GIN_0.25\n",
      "16 16\n",
      "---------------------------------------- 0.3\n",
      "graphs_train shape: 7226 graphs_train[0] shape: Data(x=[46, 47], edge_index=[2, 1], y=0.45183333333333336)\n",
      "graphs_test shape: 281 graphs_test[0] shape: Data(x=[46, 47], edge_index=[2, 1], y=0.6066666666666667)\n"
     ]
    },
    {
     "name": "stderr",
     "output_type": "stream",
     "text": [
      "/Users/haox/opt/anaconda3/lib/python3.8/site-packages/torch_geometric/deprecation.py:13: UserWarning: 'data.DataLoader' is deprecated, use 'loader.DataLoader' instead\n",
      "  warnings.warn(out)\n"
     ]
    },
    {
     "name": "stdout",
     "output_type": "stream",
     "text": [
      "Epoch: 009, Train MAE: 0.1335, Train MSE: 0.0310\n",
      "Epoch: 009, Test MAE: 0.1282, Test MSE: 0.0185\n",
      "Time: 34.059576988220215\n",
      "---------------------------------------- 0.35000000000000003\n",
      "graphs_train shape: 8201 graphs_train[0] shape: Data(x=[46, 47], edge_index=[2, 1], y=0.45183333333333336)\n",
      "graphs_test shape: 281 graphs_test[0] shape: Data(x=[46, 47], edge_index=[2, 1], y=0.6066666666666667)\n"
     ]
    },
    {
     "name": "stderr",
     "output_type": "stream",
     "text": [
      "/Users/haox/opt/anaconda3/lib/python3.8/site-packages/torch_geometric/deprecation.py:13: UserWarning: 'data.DataLoader' is deprecated, use 'loader.DataLoader' instead\n",
      "  warnings.warn(out)\n"
     ]
    },
    {
     "name": "stdout",
     "output_type": "stream",
     "text": [
      "Epoch: 009, Train MAE: 0.1381, Train MSE: 0.0325\n",
      "Epoch: 009, Test MAE: 0.1520, Test MSE: 0.0251\n",
      "Time: 31.271344900131226\n",
      "---------------------------------------- 0.4\n",
      "graphs_train shape: 9736 graphs_train[0] shape: Data(x=[46, 47], edge_index=[2, 1], y=0.45183333333333336)\n",
      "graphs_test shape: 281 graphs_test[0] shape: Data(x=[46, 47], edge_index=[2, 1], y=0.6066666666666667)\n"
     ]
    },
    {
     "name": "stderr",
     "output_type": "stream",
     "text": [
      "/Users/haox/opt/anaconda3/lib/python3.8/site-packages/torch_geometric/deprecation.py:13: UserWarning: 'data.DataLoader' is deprecated, use 'loader.DataLoader' instead\n",
      "  warnings.warn(out)\n"
     ]
    },
    {
     "name": "stdout",
     "output_type": "stream",
     "text": [
      "Epoch: 009, Train MAE: 0.1456, Train MSE: 0.0367\n",
      "Epoch: 009, Test MAE: 0.2118, Test MSE: 0.0469\n",
      "Time: 50.79120421409607\n",
      "---------------------------------------- 0.45\n",
      "graphs_train shape: 11516 graphs_train[0] shape: Data(x=[46, 47], edge_index=[2, 1], y=0.932)\n",
      "graphs_test shape: 281 graphs_test[0] shape: Data(x=[46, 47], edge_index=[2, 1], y=0.6066666666666667)\n"
     ]
    },
    {
     "name": "stderr",
     "output_type": "stream",
     "text": [
      "/Users/haox/opt/anaconda3/lib/python3.8/site-packages/torch_geometric/deprecation.py:13: UserWarning: 'data.DataLoader' is deprecated, use 'loader.DataLoader' instead\n",
      "  warnings.warn(out)\n"
     ]
    },
    {
     "name": "stdout",
     "output_type": "stream",
     "text": [
      "Epoch: 009, Train MAE: 0.1563, Train MSE: 0.0448\n",
      "Epoch: 009, Test MAE: 0.2837, Test MSE: 0.0825\n",
      "Time: 51.07842206954956\n",
      "========================================\n",
      "3 Amazon_employee_access\n",
      "---------------------------------------- 0.05\n",
      "graphs_train shape: 2711 graphs_train[0] shape: Data(x=[46, 47], edge_index=[2, 1], y=0.932)\n",
      "graphs_test shape: 397 graphs_test[0] shape: Data(x=[46, 47], edge_index=[2, 1], y=0.8511666666666666)\n"
     ]
    },
    {
     "name": "stderr",
     "output_type": "stream",
     "text": [
      "/Users/haox/opt/anaconda3/lib/python3.8/site-packages/torch_geometric/deprecation.py:13: UserWarning: 'data.DataLoader' is deprecated, use 'loader.DataLoader' instead\n",
      "  warnings.warn(out)\n"
     ]
    },
    {
     "name": "stdout",
     "output_type": "stream",
     "text": [
      "Epoch: 009, Train MAE: 0.0753, Train MSE: 0.0075\n",
      "Epoch: 009, Test MAE: 0.0752, Test MSE: 0.0083\n",
      "Time: 17.042951822280884\n",
      "---------------------------------------- 0.1\n",
      "graphs_train shape: 5399 graphs_train[0] shape: Data(x=[46, 47], edge_index=[2, 1], y=0.932)\n",
      "graphs_test shape: 397 graphs_test[0] shape: Data(x=[46, 47], edge_index=[2, 1], y=0.8511666666666666)\n"
     ]
    },
    {
     "name": "stderr",
     "output_type": "stream",
     "text": [
      "/Users/haox/opt/anaconda3/lib/python3.8/site-packages/torch_geometric/deprecation.py:13: UserWarning: 'data.DataLoader' is deprecated, use 'loader.DataLoader' instead\n",
      "  warnings.warn(out)\n"
     ]
    },
    {
     "name": "stdout",
     "output_type": "stream",
     "text": [
      "Epoch: 009, Train MAE: 0.0934, Train MSE: 0.0201\n",
      "Epoch: 009, Test MAE: 0.0723, Test MSE: 0.0096\n",
      "Time: 25.22227716445923\n",
      "---------------------------------------- 0.15000000000000002\n",
      "graphs_train shape: 6293 graphs_train[0] shape: Data(x=[46, 47], edge_index=[2, 1], y=0.932)\n",
      "graphs_test shape: 397 graphs_test[0] shape: Data(x=[46, 47], edge_index=[2, 1], y=0.8511666666666666)\n"
     ]
    },
    {
     "name": "stderr",
     "output_type": "stream",
     "text": [
      "/Users/haox/opt/anaconda3/lib/python3.8/site-packages/torch_geometric/deprecation.py:13: UserWarning: 'data.DataLoader' is deprecated, use 'loader.DataLoader' instead\n",
      "  warnings.warn(out)\n"
     ]
    },
    {
     "name": "stdout",
     "output_type": "stream",
     "text": [
      "Epoch: 009, Train MAE: 0.0767, Train MSE: 0.0117\n",
      "Epoch: 009, Test MAE: 0.0476, Test MSE: 0.0052\n",
      "Time: 31.72663712501526\n",
      "---------------------------------------- 0.2\n",
      "graphs_train shape: 7276 graphs_train[0] shape: Data(x=[46, 47], edge_index=[2, 1], y=0.932)\n",
      "graphs_test shape: 397 graphs_test[0] shape: Data(x=[46, 47], edge_index=[2, 1], y=0.8511666666666666)\n"
     ]
    },
    {
     "name": "stderr",
     "output_type": "stream",
     "text": [
      "/Users/haox/opt/anaconda3/lib/python3.8/site-packages/torch_geometric/deprecation.py:13: UserWarning: 'data.DataLoader' is deprecated, use 'loader.DataLoader' instead\n",
      "  warnings.warn(out)\n"
     ]
    },
    {
     "name": "stdout",
     "output_type": "stream",
     "text": [
      "Epoch: 009, Train MAE: 0.0862, Train MSE: 0.0135\n",
      "Epoch: 009, Test MAE: 0.0492, Test MSE: 0.0053\n",
      "Time: 31.237016201019287\n",
      "---------------------------------------- 0.25\n",
      "graphs_train shape: 8688 graphs_train[0] shape: Data(x=[46, 47], edge_index=[2, 1], y=0.932)\n",
      "graphs_test shape: 397 graphs_test[0] shape: Data(x=[46, 47], edge_index=[2, 1], y=0.8511666666666666)\n"
     ]
    },
    {
     "name": "stderr",
     "output_type": "stream",
     "text": [
      "/Users/haox/opt/anaconda3/lib/python3.8/site-packages/torch_geometric/deprecation.py:13: UserWarning: 'data.DataLoader' is deprecated, use 'loader.DataLoader' instead\n",
      "  warnings.warn(out)\n"
     ]
    },
    {
     "name": "stdout",
     "output_type": "stream",
     "text": [
      "Epoch: 009, Train MAE: 0.1099, Train MSE: 0.0229\n",
      "Epoch: 009, Test MAE: 0.0624, Test MSE: 0.0066\n",
      "Time: 36.281517028808594\n",
      "---------------------------------------- 0.3\n",
      "++++++++++++++++++++++++++++++\n",
      "Amazon_employee_access_DDN+GIN_0.25 Amazon_employee_access_DDN+GIN_0.3\n",
      "28 28\n",
      "---------------------------------------- 0.35000000000000003\n",
      "graphs_train shape: 10102 graphs_train[0] shape: Data(x=[46, 47], edge_index=[2, 1], y=0.932)\n",
      "graphs_test shape: 397 graphs_test[0] shape: Data(x=[46, 47], edge_index=[2, 1], y=0.8511666666666666)\n"
     ]
    },
    {
     "name": "stderr",
     "output_type": "stream",
     "text": [
      "/Users/haox/opt/anaconda3/lib/python3.8/site-packages/torch_geometric/deprecation.py:13: UserWarning: 'data.DataLoader' is deprecated, use 'loader.DataLoader' instead\n",
      "  warnings.warn(out)\n"
     ]
    },
    {
     "name": "stdout",
     "output_type": "stream",
     "text": [
      "Epoch: 009, Train MAE: 0.1333, Train MSE: 0.0310\n",
      "Epoch: 009, Test MAE: 0.0743, Test MSE: 0.0082\n",
      "Time: 43.21661400794983\n",
      "---------------------------------------- 0.4\n",
      "graphs_train shape: 10704 graphs_train[0] shape: Data(x=[46, 47], edge_index=[2, 1], y=0.932)\n",
      "graphs_test shape: 397 graphs_test[0] shape: Data(x=[46, 47], edge_index=[2, 1], y=0.8511666666666666)\n"
     ]
    },
    {
     "name": "stderr",
     "output_type": "stream",
     "text": [
      "/Users/haox/opt/anaconda3/lib/python3.8/site-packages/torch_geometric/deprecation.py:13: UserWarning: 'data.DataLoader' is deprecated, use 'loader.DataLoader' instead\n",
      "  warnings.warn(out)\n"
     ]
    },
    {
     "name": "stdout",
     "output_type": "stream",
     "text": [
      "Epoch: 009, Train MAE: 0.1419, Train MSE: 0.0339\n",
      "Epoch: 009, Test MAE: 0.0740, Test MSE: 0.0081\n",
      "Time: 43.442578077316284\n",
      "---------------------------------------- 0.45\n",
      "graphs_train shape: 11047 graphs_train[0] shape: Data(x=[46, 47], edge_index=[2, 1], y=0.932)\n",
      "graphs_test shape: 397 graphs_test[0] shape: Data(x=[46, 47], edge_index=[2, 1], y=0.8511666666666666)\n"
     ]
    },
    {
     "name": "stderr",
     "output_type": "stream",
     "text": [
      "/Users/haox/opt/anaconda3/lib/python3.8/site-packages/torch_geometric/deprecation.py:13: UserWarning: 'data.DataLoader' is deprecated, use 'loader.DataLoader' instead\n",
      "  warnings.warn(out)\n"
     ]
    },
    {
     "name": "stdout",
     "output_type": "stream",
     "text": [
      "Epoch: 009, Train MAE: 0.1477, Train MSE: 0.0362\n",
      "Epoch: 009, Test MAE: 0.0767, Test MSE: 0.0085\n",
      "Time: 54.42356300354004\n",
      "========================================\n",
      "4 APSFailure\n",
      "---------------------------------------- 0.05\n",
      "graphs_train shape: 2996 graphs_train[0] shape: Data(x=[46, 47], edge_index=[2, 1], y=0.932)\n",
      "graphs_test shape: 319 graphs_test[0] shape: Data(x=[46, 47], edge_index=[2, 1], y=0.9281666666666666)\n"
     ]
    },
    {
     "name": "stderr",
     "output_type": "stream",
     "text": [
      "/Users/haox/opt/anaconda3/lib/python3.8/site-packages/torch_geometric/deprecation.py:13: UserWarning: 'data.DataLoader' is deprecated, use 'loader.DataLoader' instead\n",
      "  warnings.warn(out)\n"
     ]
    },
    {
     "name": "stdout",
     "output_type": "stream",
     "text": [
      "Epoch: 009, Train MAE: 0.1046, Train MSE: 0.0203\n",
      "Epoch: 009, Test MAE: 0.0678, Test MSE: 0.0052\n",
      "Time: 13.168722152709961\n",
      "---------------------------------------- 0.1\n",
      "graphs_train shape: 3971 graphs_train[0] shape: Data(x=[46, 47], edge_index=[2, 1], y=0.932)\n",
      "graphs_test shape: 319 graphs_test[0] shape: Data(x=[46, 47], edge_index=[2, 1], y=0.9281666666666666)\n"
     ]
    },
    {
     "name": "stderr",
     "output_type": "stream",
     "text": [
      "/Users/haox/opt/anaconda3/lib/python3.8/site-packages/torch_geometric/deprecation.py:13: UserWarning: 'data.DataLoader' is deprecated, use 'loader.DataLoader' instead\n",
      "  warnings.warn(out)\n"
     ]
    },
    {
     "name": "stdout",
     "output_type": "stream",
     "text": [
      "Epoch: 009, Train MAE: 0.0803, Train MSE: 0.0108\n",
      "Epoch: 009, Test MAE: 0.1008, Test MSE: 0.0105\n",
      "Time: 15.74624514579773\n",
      "---------------------------------------- 0.15000000000000002\n",
      "graphs_train shape: 6371 graphs_train[0] shape: Data(x=[46, 47], edge_index=[2, 1], y=0.932)\n",
      "graphs_test shape: 319 graphs_test[0] shape: Data(x=[46, 47], edge_index=[2, 1], y=0.9281666666666666)\n"
     ]
    },
    {
     "name": "stderr",
     "output_type": "stream",
     "text": [
      "/Users/haox/opt/anaconda3/lib/python3.8/site-packages/torch_geometric/deprecation.py:13: UserWarning: 'data.DataLoader' is deprecated, use 'loader.DataLoader' instead\n",
      "  warnings.warn(out)\n"
     ]
    },
    {
     "name": "stdout",
     "output_type": "stream",
     "text": [
      "Epoch: 009, Train MAE: 0.0757, Train MSE: 0.0115\n",
      "Epoch: 009, Test MAE: 0.0851, Test MSE: 0.0075\n",
      "Time: 34.17091989517212\n",
      "---------------------------------------- 0.2\n",
      "++++++++++++++++++++++++++++++\n",
      "APSFailure_DDN+GIN_0.15 APSFailure_DDN+GIN_0.2\n",
      "20 20\n",
      "---------------------------------------- 0.25\n",
      "graphs_train shape: 7354 graphs_train[0] shape: Data(x=[46, 47], edge_index=[2, 1], y=0.932)\n",
      "graphs_test shape: 319 graphs_test[0] shape: Data(x=[46, 47], edge_index=[2, 1], y=0.9281666666666666)\n"
     ]
    },
    {
     "name": "stderr",
     "output_type": "stream",
     "text": [
      "/Users/haox/opt/anaconda3/lib/python3.8/site-packages/torch_geometric/deprecation.py:13: UserWarning: 'data.DataLoader' is deprecated, use 'loader.DataLoader' instead\n",
      "  warnings.warn(out)\n"
     ]
    },
    {
     "name": "stdout",
     "output_type": "stream",
     "text": [
      "Epoch: 009, Train MAE: 0.0844, Train MSE: 0.0133\n",
      "Epoch: 009, Test MAE: 0.0815, Test MSE: 0.0069\n",
      "Time: 38.98359775543213\n",
      "---------------------------------------- 0.3\n",
      "graphs_train shape: 8766 graphs_train[0] shape: Data(x=[46, 47], edge_index=[2, 1], y=0.932)\n",
      "graphs_test shape: 319 graphs_test[0] shape: Data(x=[46, 47], edge_index=[2, 1], y=0.9281666666666666)\n"
     ]
    },
    {
     "name": "stderr",
     "output_type": "stream",
     "text": [
      "/Users/haox/opt/anaconda3/lib/python3.8/site-packages/torch_geometric/deprecation.py:13: UserWarning: 'data.DataLoader' is deprecated, use 'loader.DataLoader' instead\n",
      "  warnings.warn(out)\n"
     ]
    },
    {
     "name": "stdout",
     "output_type": "stream",
     "text": [
      "Epoch: 009, Train MAE: 0.1081, Train MSE: 0.0226\n",
      "Epoch: 009, Test MAE: 0.0983, Test MSE: 0.0100\n",
      "Time: 37.369661808013916\n",
      "---------------------------------------- 0.35000000000000003\n",
      "graphs_train shape: 8997 graphs_train[0] shape: Data(x=[46, 47], edge_index=[2, 1], y=0.932)\n",
      "graphs_test shape: 319 graphs_test[0] shape: Data(x=[46, 47], edge_index=[2, 1], y=0.9281666666666666)\n"
     ]
    },
    {
     "name": "stderr",
     "output_type": "stream",
     "text": [
      "/Users/haox/opt/anaconda3/lib/python3.8/site-packages/torch_geometric/deprecation.py:13: UserWarning: 'data.DataLoader' is deprecated, use 'loader.DataLoader' instead\n",
      "  warnings.warn(out)\n"
     ]
    },
    {
     "name": "stdout",
     "output_type": "stream",
     "text": [
      "Epoch: 009, Train MAE: 0.1129, Train MSE: 0.0246\n",
      "Epoch: 009, Test MAE: 0.0895, Test MSE: 0.0083\n",
      "Time: 41.483537912368774\n",
      "---------------------------------------- 0.4\n",
      "graphs_train shape: 10180 graphs_train[0] shape: Data(x=[46, 47], edge_index=[2, 1], y=0.932)\n",
      "graphs_test shape: 319 graphs_test[0] shape: Data(x=[46, 47], edge_index=[2, 1], y=0.9281666666666666)\n"
     ]
    },
    {
     "name": "stderr",
     "output_type": "stream",
     "text": [
      "/Users/haox/opt/anaconda3/lib/python3.8/site-packages/torch_geometric/deprecation.py:13: UserWarning: 'data.DataLoader' is deprecated, use 'loader.DataLoader' instead\n",
      "  warnings.warn(out)\n"
     ]
    },
    {
     "name": "stdout",
     "output_type": "stream",
     "text": [
      "Epoch: 009, Train MAE: 0.1316, Train MSE: 0.0305\n",
      "Epoch: 009, Test MAE: 0.1124, Test MSE: 0.0129\n",
      "Time: 52.91904091835022\n",
      "---------------------------------------- 0.45\n",
      "graphs_train shape: 10782 graphs_train[0] shape: Data(x=[46, 47], edge_index=[2, 1], y=0.932)\n",
      "graphs_test shape: 319 graphs_test[0] shape: Data(x=[46, 47], edge_index=[2, 1], y=0.9281666666666666)\n"
     ]
    },
    {
     "name": "stderr",
     "output_type": "stream",
     "text": [
      "/Users/haox/opt/anaconda3/lib/python3.8/site-packages/torch_geometric/deprecation.py:13: UserWarning: 'data.DataLoader' is deprecated, use 'loader.DataLoader' instead\n",
      "  warnings.warn(out)\n"
     ]
    },
    {
     "name": "stdout",
     "output_type": "stream",
     "text": [
      "Epoch: 009, Train MAE: 0.1398, Train MSE: 0.0332\n",
      "Epoch: 009, Test MAE: 0.1133, Test MSE: 0.0132\n",
      "Time: 43.45355176925659\n",
      "========================================\n",
      "5 Australian\n",
      "---------------------------------------- 0.05\n",
      "graphs_train shape: 2405 graphs_train[0] shape: Data(x=[46, 47], edge_index=[2, 1], y=0.7552428795420986)\n",
      "graphs_test shape: 314 graphs_test[0] shape: Data(x=[46, 47], edge_index=[2, 1], y=0.8548714693748016)\n"
     ]
    },
    {
     "name": "stderr",
     "output_type": "stream",
     "text": [
      "/Users/haox/opt/anaconda3/lib/python3.8/site-packages/torch_geometric/deprecation.py:13: UserWarning: 'data.DataLoader' is deprecated, use 'loader.DataLoader' instead\n",
      "  warnings.warn(out)\n"
     ]
    },
    {
     "name": "stdout",
     "output_type": "stream",
     "text": [
      "Epoch: 009, Train MAE: 0.0977, Train MSE: 0.0180\n",
      "Epoch: 009, Test MAE: 0.0838, Test MSE: 0.0090\n",
      "Time: 11.494817972183228\n",
      "---------------------------------------- 0.1\n",
      "graphs_train shape: 4379 graphs_train[0] shape: Data(x=[46, 47], edge_index=[2, 1], y=0.7552428795420986)\n",
      "graphs_test shape: 314 graphs_test[0] shape: Data(x=[46, 47], edge_index=[2, 1], y=0.8548714693748016)\n"
     ]
    },
    {
     "name": "stderr",
     "output_type": "stream",
     "text": [
      "/Users/haox/opt/anaconda3/lib/python3.8/site-packages/torch_geometric/deprecation.py:13: UserWarning: 'data.DataLoader' is deprecated, use 'loader.DataLoader' instead\n",
      "  warnings.warn(out)\n"
     ]
    },
    {
     "name": "stdout",
     "output_type": "stream",
     "text": [
      "Epoch: 009, Train MAE: 0.0967, Train MSE: 0.0135\n",
      "Epoch: 009, Test MAE: 0.0443, Test MSE: 0.0026\n",
      "Time: 16.002034902572632\n",
      "---------------------------------------- 0.15000000000000002\n",
      "graphs_train shape: 8336 graphs_train[0] shape: Data(x=[46, 47], edge_index=[2, 1], y=0.932)\n",
      "graphs_test shape: 314 graphs_test[0] shape: Data(x=[46, 47], edge_index=[2, 1], y=0.8548714693748016)\n"
     ]
    },
    {
     "name": "stderr",
     "output_type": "stream",
     "text": [
      "/Users/haox/opt/anaconda3/lib/python3.8/site-packages/torch_geometric/deprecation.py:13: UserWarning: 'data.DataLoader' is deprecated, use 'loader.DataLoader' instead\n",
      "  warnings.warn(out)\n"
     ]
    },
    {
     "name": "stdout",
     "output_type": "stream",
     "text": [
      "Epoch: 009, Train MAE: 0.1017, Train MSE: 0.0171\n",
      "Epoch: 009, Test MAE: 0.0306, Test MSE: 0.0026\n",
      "Time: 38.82539129257202\n",
      "---------------------------------------- 0.2\n",
      "graphs_train shape: 8771 graphs_train[0] shape: Data(x=[46, 47], edge_index=[2, 1], y=0.932)\n",
      "graphs_test shape: 314 graphs_test[0] shape: Data(x=[46, 47], edge_index=[2, 1], y=0.8548714693748016)\n"
     ]
    },
    {
     "name": "stderr",
     "output_type": "stream",
     "text": [
      "/Users/haox/opt/anaconda3/lib/python3.8/site-packages/torch_geometric/deprecation.py:13: UserWarning: 'data.DataLoader' is deprecated, use 'loader.DataLoader' instead\n",
      "  warnings.warn(out)\n"
     ]
    },
    {
     "name": "stdout",
     "output_type": "stream",
     "text": [
      "Epoch: 009, Train MAE: 0.1100, Train MSE: 0.0221\n",
      "Epoch: 009, Test MAE: 0.0352, Test MSE: 0.0032\n",
      "Time: 36.88719701766968\n",
      "---------------------------------------- 0.25\n",
      "graphs_train shape: 10185 graphs_train[0] shape: Data(x=[46, 47], edge_index=[2, 1], y=0.932)\n",
      "graphs_test shape: 314 graphs_test[0] shape: Data(x=[46, 47], edge_index=[2, 1], y=0.8548714693748016)\n"
     ]
    },
    {
     "name": "stderr",
     "output_type": "stream",
     "text": [
      "/Users/haox/opt/anaconda3/lib/python3.8/site-packages/torch_geometric/deprecation.py:13: UserWarning: 'data.DataLoader' is deprecated, use 'loader.DataLoader' instead\n",
      "  warnings.warn(out)\n"
     ]
    },
    {
     "name": "stdout",
     "output_type": "stream",
     "text": [
      "Epoch: 009, Train MAE: 0.1350, Train MSE: 0.0318\n",
      "Epoch: 009, Test MAE: 0.0383, Test MSE: 0.0034\n",
      "Time: 50.13550806045532\n",
      "---------------------------------------- 0.3\n",
      "graphs_train shape: 10787 graphs_train[0] shape: Data(x=[46, 47], edge_index=[2, 1], y=0.932)\n",
      "graphs_test shape: 314 graphs_test[0] shape: Data(x=[46, 47], edge_index=[2, 1], y=0.8548714693748016)\n"
     ]
    },
    {
     "name": "stderr",
     "output_type": "stream",
     "text": [
      "/Users/haox/opt/anaconda3/lib/python3.8/site-packages/torch_geometric/deprecation.py:13: UserWarning: 'data.DataLoader' is deprecated, use 'loader.DataLoader' instead\n",
      "  warnings.warn(out)\n"
     ]
    },
    {
     "name": "stdout",
     "output_type": "stream",
     "text": [
      "Epoch: 009, Train MAE: 0.1437, Train MSE: 0.0349\n",
      "Epoch: 009, Test MAE: 0.0387, Test MSE: 0.0035\n",
      "Time: 50.028199195861816\n",
      "---------------------------------------- 0.35000000000000003\n",
      "++++++++++++++++++++++++++++++\n",
      "Australian_DDN+GIN_0.3 Australian_DDN+GIN_0.35\n",
      "35 35\n",
      "---------------------------------------- 0.4\n",
      "graphs_train shape: 11130 graphs_train[0] shape: Data(x=[46, 47], edge_index=[2, 1], y=0.932)\n",
      "graphs_test shape: 314 graphs_test[0] shape: Data(x=[46, 47], edge_index=[2, 1], y=0.8548714693748016)\n"
     ]
    },
    {
     "name": "stderr",
     "output_type": "stream",
     "text": [
      "/Users/haox/opt/anaconda3/lib/python3.8/site-packages/torch_geometric/deprecation.py:13: UserWarning: 'data.DataLoader' is deprecated, use 'loader.DataLoader' instead\n",
      "  warnings.warn(out)\n"
     ]
    },
    {
     "name": "stdout",
     "output_type": "stream",
     "text": [
      "Epoch: 009, Train MAE: 0.1501, Train MSE: 0.0376\n",
      "Epoch: 009, Test MAE: 0.0373, Test MSE: 0.0033\n",
      "Time: 47.27184009552002\n",
      "---------------------------------------- 0.45\n",
      "++++++++++++++++++++++++++++++\n",
      "Australian_DDN+GIN_0.4 Australian_DDN+GIN_0.45\n",
      "36 36\n",
      "========================================\n",
      "6 bank-marketing\n",
      "---------------------------------------- 0.05\n",
      "graphs_train shape: 2591 graphs_train[0] shape: Data(x=[46, 47], edge_index=[2, 1], y=0.6303610622434448)\n",
      "graphs_test shape: 319 graphs_test[0] shape: Data(x=[46, 47], edge_index=[2, 1], y=0.8285)\n"
     ]
    },
    {
     "name": "stderr",
     "output_type": "stream",
     "text": [
      "/Users/haox/opt/anaconda3/lib/python3.8/site-packages/torch_geometric/deprecation.py:13: UserWarning: 'data.DataLoader' is deprecated, use 'loader.DataLoader' instead\n",
      "  warnings.warn(out)\n"
     ]
    },
    {
     "name": "stdout",
     "output_type": "stream",
     "text": [
      "Epoch: 009, Train MAE: 0.1240, Train MSE: 0.0197\n",
      "Epoch: 009, Test MAE: 0.0948, Test MSE: 0.0095\n",
      "Time: 11.560153007507324\n",
      "---------------------------------------- 0.1\n",
      "graphs_train shape: 6009 graphs_train[0] shape: Data(x=[46, 47], edge_index=[2, 1], y=0.932)\n",
      "graphs_test shape: 319 graphs_test[0] shape: Data(x=[46, 47], edge_index=[2, 1], y=0.8285)\n"
     ]
    },
    {
     "name": "stderr",
     "output_type": "stream",
     "text": [
      "/Users/haox/opt/anaconda3/lib/python3.8/site-packages/torch_geometric/deprecation.py:13: UserWarning: 'data.DataLoader' is deprecated, use 'loader.DataLoader' instead\n",
      "  warnings.warn(out)\n"
     ]
    },
    {
     "name": "stdout",
     "output_type": "stream",
     "text": [
      "Epoch: 009, Train MAE: 0.0863, Train MSE: 0.0182\n",
      "Epoch: 009, Test MAE: 0.0927, Test MSE: 0.0092\n",
      "Time: 24.302135705947876\n",
      "---------------------------------------- 0.15000000000000002\n",
      "graphs_train shape: 6706 graphs_train[0] shape: Data(x=[46, 47], edge_index=[2, 1], y=0.932)\n",
      "graphs_test shape: 319 graphs_test[0] shape: Data(x=[46, 47], edge_index=[2, 1], y=0.8285)\n"
     ]
    },
    {
     "name": "stderr",
     "output_type": "stream",
     "text": [
      "/Users/haox/opt/anaconda3/lib/python3.8/site-packages/torch_geometric/deprecation.py:13: UserWarning: 'data.DataLoader' is deprecated, use 'loader.DataLoader' instead\n",
      "  warnings.warn(out)\n"
     ]
    },
    {
     "name": "stdout",
     "output_type": "stream",
     "text": [
      "Epoch: 009, Train MAE: 0.0811, Train MSE: 0.0157\n",
      "Epoch: 009, Test MAE: 0.0734, Test MSE: 0.0060\n",
      "Time: 29.60671877861023\n",
      "---------------------------------------- 0.2\n",
      "graphs_train shape: 8493 graphs_train[0] shape: Data(x=[46, 47], edge_index=[2, 1], y=0.932)\n",
      "graphs_test shape: 319 graphs_test[0] shape: Data(x=[46, 47], edge_index=[2, 1], y=0.8285)\n"
     ]
    },
    {
     "name": "stderr",
     "output_type": "stream",
     "text": [
      "/Users/haox/opt/anaconda3/lib/python3.8/site-packages/torch_geometric/deprecation.py:13: UserWarning: 'data.DataLoader' is deprecated, use 'loader.DataLoader' instead\n",
      "  warnings.warn(out)\n"
     ]
    },
    {
     "name": "stdout",
     "output_type": "stream",
     "text": [
      "Epoch: 009, Train MAE: 0.1094, Train MSE: 0.0238\n",
      "Epoch: 009, Test MAE: 0.0199, Test MSE: 0.0010\n",
      "Time: 36.435986042022705\n",
      "---------------------------------------- 0.25\n",
      "graphs_train shape: 8766 graphs_train[0] shape: Data(x=[46, 47], edge_index=[2, 1], y=0.932)\n",
      "graphs_test shape: 319 graphs_test[0] shape: Data(x=[46, 47], edge_index=[2, 1], y=0.8285)\n"
     ]
    },
    {
     "name": "stderr",
     "output_type": "stream",
     "text": [
      "/Users/haox/opt/anaconda3/lib/python3.8/site-packages/torch_geometric/deprecation.py:13: UserWarning: 'data.DataLoader' is deprecated, use 'loader.DataLoader' instead\n",
      "  warnings.warn(out)\n"
     ]
    },
    {
     "name": "stdout",
     "output_type": "stream",
     "text": [
      "Epoch: 009, Train MAE: 0.1121, Train MSE: 0.0241\n",
      "Epoch: 009, Test MAE: 0.0187, Test MSE: 0.0008\n",
      "Time: 38.75031566619873\n",
      "---------------------------------------- 0.3\n",
      "graphs_train shape: 10180 graphs_train[0] shape: Data(x=[46, 47], edge_index=[2, 1], y=0.932)\n",
      "graphs_test shape: 319 graphs_test[0] shape: Data(x=[46, 47], edge_index=[2, 1], y=0.8285)\n"
     ]
    },
    {
     "name": "stderr",
     "output_type": "stream",
     "text": [
      "/Users/haox/opt/anaconda3/lib/python3.8/site-packages/torch_geometric/deprecation.py:13: UserWarning: 'data.DataLoader' is deprecated, use 'loader.DataLoader' instead\n",
      "  warnings.warn(out)\n"
     ]
    },
    {
     "name": "stdout",
     "output_type": "stream",
     "text": [
      "Epoch: 009, Train MAE: 0.1344, Train MSE: 0.0309\n",
      "Epoch: 009, Test MAE: 0.0222, Test MSE: 0.0007\n",
      "Time: 45.013323068618774\n",
      "---------------------------------------- 0.35000000000000003\n",
      "graphs_train shape: 10782 graphs_train[0] shape: Data(x=[46, 47], edge_index=[2, 1], y=0.932)\n",
      "graphs_test shape: 319 graphs_test[0] shape: Data(x=[46, 47], edge_index=[2, 1], y=0.8285)\n"
     ]
    },
    {
     "name": "stderr",
     "output_type": "stream",
     "text": [
      "/Users/haox/opt/anaconda3/lib/python3.8/site-packages/torch_geometric/deprecation.py:13: UserWarning: 'data.DataLoader' is deprecated, use 'loader.DataLoader' instead\n",
      "  warnings.warn(out)\n"
     ]
    },
    {
     "name": "stdout",
     "output_type": "stream",
     "text": [
      "Epoch: 009, Train MAE: 0.1428, Train MSE: 0.0338\n",
      "Epoch: 009, Test MAE: 0.0219, Test MSE: 0.0007\n",
      "Time: 49.4706449508667\n",
      "---------------------------------------- 0.4\n",
      "graphs_train shape: 11125 graphs_train[0] shape: Data(x=[46, 47], edge_index=[2, 1], y=0.932)\n",
      "graphs_test shape: 319 graphs_test[0] shape: Data(x=[46, 47], edge_index=[2, 1], y=0.8285)\n"
     ]
    },
    {
     "name": "stderr",
     "output_type": "stream",
     "text": [
      "/Users/haox/opt/anaconda3/lib/python3.8/site-packages/torch_geometric/deprecation.py:13: UserWarning: 'data.DataLoader' is deprecated, use 'loader.DataLoader' instead\n",
      "  warnings.warn(out)\n"
     ]
    },
    {
     "name": "stdout",
     "output_type": "stream",
     "text": [
      "Epoch: 009, Train MAE: 0.1490, Train MSE: 0.0364\n",
      "Epoch: 009, Test MAE: 0.0226, Test MSE: 0.0007\n",
      "Time: 46.83748388290405\n",
      "---------------------------------------- 0.45\n",
      "++++++++++++++++++++++++++++++\n",
      "bank-marketing_DDN+GIN_0.4 bank-marketing_DDN+GIN_0.45\n",
      "36 36\n",
      "========================================\n",
      "7 blood-transfusion-service-center\n",
      "---------------------------------------- 0.05\n",
      "graphs_train shape: 2103 graphs_train[0] shape: Data(x=[46, 47], edge_index=[2, 1], y=0.7552428795420986)\n",
      "graphs_test shape: 297 graphs_test[0] shape: Data(x=[46, 47], edge_index=[2, 1], y=0.7469798657718122)\n"
     ]
    },
    {
     "name": "stderr",
     "output_type": "stream",
     "text": [
      "/Users/haox/opt/anaconda3/lib/python3.8/site-packages/torch_geometric/deprecation.py:13: UserWarning: 'data.DataLoader' is deprecated, use 'loader.DataLoader' instead\n",
      "  warnings.warn(out)\n"
     ]
    },
    {
     "name": "stdout",
     "output_type": "stream",
     "text": [
      "Epoch: 009, Train MAE: 0.0710, Train MSE: 0.0125\n",
      "Epoch: 009, Test MAE: 0.1309, Test MSE: 0.0178\n",
      "Time: 11.437412738800049\n",
      "---------------------------------------- 0.1\n",
      "graphs_train shape: 4326 graphs_train[0] shape: Data(x=[46, 47], edge_index=[2, 1], y=0.7552428795420986)\n",
      "graphs_test shape: 297 graphs_test[0] shape: Data(x=[46, 47], edge_index=[2, 1], y=0.7469798657718122)\n"
     ]
    },
    {
     "name": "stderr",
     "output_type": "stream",
     "text": [
      "/Users/haox/opt/anaconda3/lib/python3.8/site-packages/torch_geometric/deprecation.py:13: UserWarning: 'data.DataLoader' is deprecated, use 'loader.DataLoader' instead\n",
      "  warnings.warn(out)\n"
     ]
    },
    {
     "name": "stdout",
     "output_type": "stream",
     "text": [
      "Epoch: 009, Train MAE: 0.0759, Train MSE: 0.0101\n",
      "Epoch: 009, Test MAE: 0.0729, Test MSE: 0.0060\n",
      "Time: 16.96355891227722\n",
      "---------------------------------------- 0.15000000000000002\n",
      "graphs_train shape: 7327 graphs_train[0] shape: Data(x=[46, 47], edge_index=[2, 1], y=0.45183333333333336)\n",
      "graphs_test shape: 297 graphs_test[0] shape: Data(x=[46, 47], edge_index=[2, 1], y=0.7469798657718122)\n"
     ]
    },
    {
     "name": "stderr",
     "output_type": "stream",
     "text": [
      "/Users/haox/opt/anaconda3/lib/python3.8/site-packages/torch_geometric/deprecation.py:13: UserWarning: 'data.DataLoader' is deprecated, use 'loader.DataLoader' instead\n",
      "  warnings.warn(out)\n"
     ]
    },
    {
     "name": "stdout",
     "output_type": "stream",
     "text": [
      "Epoch: 009, Train MAE: 0.1033, Train MSE: 0.0211\n",
      "Epoch: 009, Test MAE: 0.1118, Test MSE: 0.0132\n",
      "Time: 42.56735396385193\n",
      "---------------------------------------- 0.2\n",
      "graphs_train shape: 9019 graphs_train[0] shape: Data(x=[46, 47], edge_index=[2, 1], y=0.932)\n",
      "graphs_test shape: 297 graphs_test[0] shape: Data(x=[46, 47], edge_index=[2, 1], y=0.7469798657718122)\n"
     ]
    },
    {
     "name": "stderr",
     "output_type": "stream",
     "text": [
      "/Users/haox/opt/anaconda3/lib/python3.8/site-packages/torch_geometric/deprecation.py:13: UserWarning: 'data.DataLoader' is deprecated, use 'loader.DataLoader' instead\n",
      "  warnings.warn(out)\n"
     ]
    },
    {
     "name": "stdout",
     "output_type": "stream",
     "text": [
      "Epoch: 009, Train MAE: 0.1105, Train MSE: 0.0232\n",
      "Epoch: 009, Test MAE: 0.1293, Test MSE: 0.0174\n",
      "Time: 42.446000814437866\n",
      "---------------------------------------- 0.25\n",
      "graphs_train shape: 10202 graphs_train[0] shape: Data(x=[46, 47], edge_index=[2, 1], y=0.932)\n",
      "graphs_test shape: 297 graphs_test[0] shape: Data(x=[46, 47], edge_index=[2, 1], y=0.7469798657718122)\n"
     ]
    },
    {
     "name": "stderr",
     "output_type": "stream",
     "text": [
      "/Users/haox/opt/anaconda3/lib/python3.8/site-packages/torch_geometric/deprecation.py:13: UserWarning: 'data.DataLoader' is deprecated, use 'loader.DataLoader' instead\n",
      "  warnings.warn(out)\n"
     ]
    },
    {
     "name": "stdout",
     "output_type": "stream",
     "text": [
      "Epoch: 009, Train MAE: 0.1318, Train MSE: 0.0309\n",
      "Epoch: 009, Test MAE: 0.1197, Test MSE: 0.0150\n",
      "Time: 49.824100971221924\n",
      "---------------------------------------- 0.3\n",
      "graphs_train shape: 10804 graphs_train[0] shape: Data(x=[46, 47], edge_index=[2, 1], y=0.932)\n",
      "graphs_test shape: 297 graphs_test[0] shape: Data(x=[46, 47], edge_index=[2, 1], y=0.7469798657718122)\n"
     ]
    },
    {
     "name": "stderr",
     "output_type": "stream",
     "text": [
      "/Users/haox/opt/anaconda3/lib/python3.8/site-packages/torch_geometric/deprecation.py:13: UserWarning: 'data.DataLoader' is deprecated, use 'loader.DataLoader' instead\n",
      "  warnings.warn(out)\n"
     ]
    },
    {
     "name": "stdout",
     "output_type": "stream",
     "text": [
      "Epoch: 009, Train MAE: 0.1404, Train MSE: 0.0338\n",
      "Epoch: 009, Test MAE: 0.1200, Test MSE: 0.0151\n",
      "Time: 50.48472809791565\n",
      "---------------------------------------- 0.35000000000000003\n",
      "graphs_train shape: 11147 graphs_train[0] shape: Data(x=[46, 47], edge_index=[2, 1], y=0.932)\n",
      "graphs_test shape: 297 graphs_test[0] shape: Data(x=[46, 47], edge_index=[2, 1], y=0.7469798657718122)\n"
     ]
    },
    {
     "name": "stderr",
     "output_type": "stream",
     "text": [
      "/Users/haox/opt/anaconda3/lib/python3.8/site-packages/torch_geometric/deprecation.py:13: UserWarning: 'data.DataLoader' is deprecated, use 'loader.DataLoader' instead\n",
      "  warnings.warn(out)\n"
     ]
    },
    {
     "name": "stdout",
     "output_type": "stream",
     "text": [
      "Epoch: 009, Train MAE: 0.1470, Train MSE: 0.0366\n",
      "Epoch: 009, Test MAE: 0.1196, Test MSE: 0.0150\n",
      "Time: 51.06355619430542\n",
      "---------------------------------------- 0.4\n",
      "++++++++++++++++++++++++++++++\n",
      "blood-transfusion-service-center_DDN+GIN_0.35 blood-transfusion-service-center_DDN+GIN_0.4\n",
      "36 36\n",
      "---------------------------------------- 0.45\n",
      "graphs_train shape: 11266 graphs_train[0] shape: Data(x=[46, 47], edge_index=[2, 1], y=0.932)\n",
      "graphs_test shape: 297 graphs_test[0] shape: Data(x=[46, 47], edge_index=[2, 1], y=0.7469798657718122)\n"
     ]
    },
    {
     "name": "stderr",
     "output_type": "stream",
     "text": [
      "/Users/haox/opt/anaconda3/lib/python3.8/site-packages/torch_geometric/deprecation.py:13: UserWarning: 'data.DataLoader' is deprecated, use 'loader.DataLoader' instead\n",
      "  warnings.warn(out)\n"
     ]
    },
    {
     "name": "stdout",
     "output_type": "stream",
     "text": [
      "Epoch: 009, Train MAE: 0.1512, Train MSE: 0.0395\n",
      "Epoch: 009, Test MAE: 0.1199, Test MSE: 0.0151\n",
      "Time: 52.304763078689575\n",
      "========================================\n",
      "8 car\n",
      "---------------------------------------- 0.05\n",
      "graphs_train shape: 2384 graphs_train[0] shape: Data(x=[46, 47], edge_index=[2, 1], y=0.7552428795420986)\n",
      "graphs_test shape: 335 graphs_test[0] shape: Data(x=[46, 47], edge_index=[2, 1], y=0.6303610622434448)\n"
     ]
    },
    {
     "name": "stderr",
     "output_type": "stream",
     "text": [
      "/Users/haox/opt/anaconda3/lib/python3.8/site-packages/torch_geometric/deprecation.py:13: UserWarning: 'data.DataLoader' is deprecated, use 'loader.DataLoader' instead\n",
      "  warnings.warn(out)\n"
     ]
    },
    {
     "name": "stdout",
     "output_type": "stream",
     "text": [
      "Epoch: 009, Train MAE: 0.0568, Train MSE: 0.0080\n",
      "Epoch: 009, Test MAE: 0.1341, Test MSE: 0.0193\n",
      "Time: 10.896755933761597\n",
      "---------------------------------------- 0.1\n",
      "graphs_train shape: 4693 graphs_train[0] shape: Data(x=[46, 47], edge_index=[2, 1], y=0.7552428795420986)\n",
      "graphs_test shape: 335 graphs_test[0] shape: Data(x=[46, 47], edge_index=[2, 1], y=0.6303610622434448)\n"
     ]
    },
    {
     "name": "stderr",
     "output_type": "stream",
     "text": [
      "/Users/haox/opt/anaconda3/lib/python3.8/site-packages/torch_geometric/deprecation.py:13: UserWarning: 'data.DataLoader' is deprecated, use 'loader.DataLoader' instead\n",
      "  warnings.warn(out)\n"
     ]
    },
    {
     "name": "stdout",
     "output_type": "stream",
     "text": [
      "Epoch: 009, Train MAE: 0.0945, Train MSE: 0.0133\n",
      "Epoch: 009, Test MAE: 0.1580, Test MSE: 0.0268\n",
      "Time: 19.855357885360718\n",
      "---------------------------------------- 0.15000000000000002\n",
      "graphs_train shape: 8315 graphs_train[0] shape: Data(x=[46, 47], edge_index=[2, 1], y=0.932)\n",
      "graphs_test shape: 335 graphs_test[0] shape: Data(x=[46, 47], edge_index=[2, 1], y=0.6303610622434448)\n"
     ]
    },
    {
     "name": "stderr",
     "output_type": "stream",
     "text": [
      "/Users/haox/opt/anaconda3/lib/python3.8/site-packages/torch_geometric/deprecation.py:13: UserWarning: 'data.DataLoader' is deprecated, use 'loader.DataLoader' instead\n",
      "  warnings.warn(out)\n"
     ]
    },
    {
     "name": "stdout",
     "output_type": "stream",
     "text": [
      "Epoch: 009, Train MAE: 0.0981, Train MSE: 0.0167\n",
      "Epoch: 009, Test MAE: 0.1151, Test MSE: 0.0156\n",
      "Time: 39.1072781085968\n",
      "---------------------------------------- 0.2\n",
      "graphs_train shape: 8750 graphs_train[0] shape: Data(x=[46, 47], edge_index=[2, 1], y=0.932)\n",
      "graphs_test shape: 335 graphs_test[0] shape: Data(x=[46, 47], edge_index=[2, 1], y=0.6303610622434448)\n"
     ]
    },
    {
     "name": "stderr",
     "output_type": "stream",
     "text": [
      "/Users/haox/opt/anaconda3/lib/python3.8/site-packages/torch_geometric/deprecation.py:13: UserWarning: 'data.DataLoader' is deprecated, use 'loader.DataLoader' instead\n",
      "  warnings.warn(out)\n"
     ]
    },
    {
     "name": "stdout",
     "output_type": "stream",
     "text": [
      "Epoch: 009, Train MAE: 0.1072, Train MSE: 0.0216\n",
      "Epoch: 009, Test MAE: 0.1129, Test MSE: 0.0153\n",
      "Time: 37.75983810424805\n",
      "---------------------------------------- 0.25\n",
      "graphs_train shape: 10164 graphs_train[0] shape: Data(x=[46, 47], edge_index=[2, 1], y=0.932)\n",
      "graphs_test shape: 335 graphs_test[0] shape: Data(x=[46, 47], edge_index=[2, 1], y=0.6303610622434448)\n"
     ]
    },
    {
     "name": "stderr",
     "output_type": "stream",
     "text": [
      "/Users/haox/opt/anaconda3/lib/python3.8/site-packages/torch_geometric/deprecation.py:13: UserWarning: 'data.DataLoader' is deprecated, use 'loader.DataLoader' instead\n",
      "  warnings.warn(out)\n"
     ]
    },
    {
     "name": "stdout",
     "output_type": "stream",
     "text": [
      "Epoch: 009, Train MAE: 0.1320, Train MSE: 0.0309\n",
      "Epoch: 009, Test MAE: 0.1132, Test MSE: 0.0154\n",
      "Time: 43.4813277721405\n",
      "---------------------------------------- 0.3\n",
      "graphs_train shape: 10766 graphs_train[0] shape: Data(x=[46, 47], edge_index=[2, 1], y=0.932)\n",
      "graphs_test shape: 335 graphs_test[0] shape: Data(x=[46, 47], edge_index=[2, 1], y=0.6303610622434448)\n"
     ]
    },
    {
     "name": "stderr",
     "output_type": "stream",
     "text": [
      "/Users/haox/opt/anaconda3/lib/python3.8/site-packages/torch_geometric/deprecation.py:13: UserWarning: 'data.DataLoader' is deprecated, use 'loader.DataLoader' instead\n",
      "  warnings.warn(out)\n"
     ]
    },
    {
     "name": "stdout",
     "output_type": "stream",
     "text": [
      "Epoch: 009, Train MAE: 0.1409, Train MSE: 0.0340\n",
      "Epoch: 009, Test MAE: 0.1123, Test MSE: 0.0153\n",
      "Time: 47.38624811172485\n",
      "---------------------------------------- 0.35000000000000003\n",
      "graphs_train shape: 11109 graphs_train[0] shape: Data(x=[46, 47], edge_index=[2, 1], y=0.932)\n",
      "graphs_test shape: 335 graphs_test[0] shape: Data(x=[46, 47], edge_index=[2, 1], y=0.6303610622434448)\n"
     ]
    },
    {
     "name": "stderr",
     "output_type": "stream",
     "text": [
      "/Users/haox/opt/anaconda3/lib/python3.8/site-packages/torch_geometric/deprecation.py:13: UserWarning: 'data.DataLoader' is deprecated, use 'loader.DataLoader' instead\n",
      "  warnings.warn(out)\n"
     ]
    },
    {
     "name": "stdout",
     "output_type": "stream",
     "text": [
      "Epoch: 009, Train MAE: 0.1473, Train MSE: 0.0367\n",
      "Epoch: 009, Test MAE: 0.1130, Test MSE: 0.0154\n",
      "Time: 49.249927043914795\n",
      "---------------------------------------- 0.4\n",
      "++++++++++++++++++++++++++++++\n",
      "car_DDN+GIN_0.35 car_DDN+GIN_0.4\n",
      "36 36\n",
      "---------------------------------------- 0.45\n",
      "++++++++++++++++++++++++++++++\n",
      "car_DDN+GIN_0.4 car_DDN+GIN_0.45\n",
      "36 36\n",
      "========================================\n",
      "9 christine\n",
      "---------------------------------------- 0.05\n",
      "graphs_train shape: 1139 graphs_train[0] shape: Data(x=[46, 47], edge_index=[2, 1], y=0.45183333333333336)\n",
      "graphs_test shape: 273 graphs_test[0] shape: Data(x=[46, 47], edge_index=[2, 1], y=0.6736413817340144)\n"
     ]
    },
    {
     "name": "stderr",
     "output_type": "stream",
     "text": [
      "/Users/haox/opt/anaconda3/lib/python3.8/site-packages/torch_geometric/deprecation.py:13: UserWarning: 'data.DataLoader' is deprecated, use 'loader.DataLoader' instead\n",
      "  warnings.warn(out)\n"
     ]
    },
    {
     "name": "stdout",
     "output_type": "stream",
     "text": [
      "Epoch: 009, Train MAE: 0.1336, Train MSE: 0.0274\n",
      "Epoch: 009, Test MAE: 0.0844, Test MSE: 0.0083\n",
      "Time: 4.205007076263428\n",
      "---------------------------------------- 0.1\n",
      "graphs_train shape: 3536 graphs_train[0] shape: Data(x=[46, 47], edge_index=[2, 1], y=0.45183333333333336)\n",
      "graphs_test shape: 273 graphs_test[0] shape: Data(x=[46, 47], edge_index=[2, 1], y=0.6736413817340144)\n"
     ]
    },
    {
     "name": "stderr",
     "output_type": "stream",
     "text": [
      "/Users/haox/opt/anaconda3/lib/python3.8/site-packages/torch_geometric/deprecation.py:13: UserWarning: 'data.DataLoader' is deprecated, use 'loader.DataLoader' instead\n",
      "  warnings.warn(out)\n"
     ]
    },
    {
     "name": "stdout",
     "output_type": "stream",
     "text": [
      "Epoch: 009, Train MAE: 0.1111, Train MSE: 0.0191\n",
      "Epoch: 009, Test MAE: 0.0848, Test MSE: 0.0083\n",
      "Time: 20.34964609146118\n",
      "---------------------------------------- 0.15000000000000002\n",
      "graphs_train shape: 5032 graphs_train[0] shape: Data(x=[46, 47], edge_index=[2, 1], y=0.45183333333333336)\n",
      "graphs_test shape: 273 graphs_test[0] shape: Data(x=[46, 47], edge_index=[2, 1], y=0.6736413817340144)\n"
     ]
    },
    {
     "name": "stderr",
     "output_type": "stream",
     "text": [
      "/Users/haox/opt/anaconda3/lib/python3.8/site-packages/torch_geometric/deprecation.py:13: UserWarning: 'data.DataLoader' is deprecated, use 'loader.DataLoader' instead\n",
      "  warnings.warn(out)\n"
     ]
    },
    {
     "name": "stdout",
     "output_type": "stream",
     "text": [
      "Epoch: 009, Train MAE: 0.1028, Train MSE: 0.0175\n",
      "Epoch: 009, Test MAE: 0.0305, Test MSE: 0.0014\n",
      "Time: 20.92973804473877\n",
      "---------------------------------------- 0.2\n",
      "graphs_train shape: 6881 graphs_train[0] shape: Data(x=[46, 47], edge_index=[2, 1], y=0.45183333333333336)\n",
      "graphs_test shape: 273 graphs_test[0] shape: Data(x=[46, 47], edge_index=[2, 1], y=0.6736413817340144)\n"
     ]
    },
    {
     "name": "stderr",
     "output_type": "stream",
     "text": [
      "/Users/haox/opt/anaconda3/lib/python3.8/site-packages/torch_geometric/deprecation.py:13: UserWarning: 'data.DataLoader' is deprecated, use 'loader.DataLoader' instead\n",
      "  warnings.warn(out)\n"
     ]
    },
    {
     "name": "stdout",
     "output_type": "stream",
     "text": [
      "Epoch: 009, Train MAE: 0.1245, Train MSE: 0.0257\n",
      "Epoch: 009, Test MAE: 0.0715, Test MSE: 0.0065\n",
      "Time: 31.140695095062256\n",
      "---------------------------------------- 0.25\n",
      "graphs_train shape: 8518 graphs_train[0] shape: Data(x=[46, 47], edge_index=[2, 1], y=0.45183333333333336)\n",
      "graphs_test shape: 273 graphs_test[0] shape: Data(x=[46, 47], edge_index=[2, 1], y=0.6736413817340144)\n"
     ]
    },
    {
     "name": "stderr",
     "output_type": "stream",
     "text": [
      "/Users/haox/opt/anaconda3/lib/python3.8/site-packages/torch_geometric/deprecation.py:13: UserWarning: 'data.DataLoader' is deprecated, use 'loader.DataLoader' instead\n",
      "  warnings.warn(out)\n"
     ]
    },
    {
     "name": "stdout",
     "output_type": "stream",
     "text": [
      "Epoch: 009, Train MAE: 0.1328, Train MSE: 0.0283\n",
      "Epoch: 009, Test MAE: 0.1070, Test MSE: 0.0128\n",
      "Time: 40.18076801300049\n",
      "---------------------------------------- 0.3\n",
      "graphs_train shape: 10400 graphs_train[0] shape: Data(x=[46, 47], edge_index=[2, 1], y=0.932)\n",
      "graphs_test shape: 273 graphs_test[0] shape: Data(x=[46, 47], edge_index=[2, 1], y=0.6736413817340144)\n"
     ]
    },
    {
     "name": "stderr",
     "output_type": "stream",
     "text": [
      "/Users/haox/opt/anaconda3/lib/python3.8/site-packages/torch_geometric/deprecation.py:13: UserWarning: 'data.DataLoader' is deprecated, use 'loader.DataLoader' instead\n",
      "  warnings.warn(out)\n"
     ]
    },
    {
     "name": "stdout",
     "output_type": "stream",
     "text": [
      "Epoch: 009, Train MAE: 0.1410, Train MSE: 0.0322\n",
      "Epoch: 009, Test MAE: 0.1478, Test MSE: 0.0232\n",
      "Time: 47.942373752593994\n",
      "---------------------------------------- 0.35000000000000003\n",
      "graphs_train shape: 11290 graphs_train[0] shape: Data(x=[46, 47], edge_index=[2, 1], y=0.932)\n",
      "graphs_test shape: 273 graphs_test[0] shape: Data(x=[46, 47], edge_index=[2, 1], y=0.6736413817340144)\n"
     ]
    },
    {
     "name": "stderr",
     "output_type": "stream",
     "text": [
      "/Users/haox/opt/anaconda3/lib/python3.8/site-packages/torch_geometric/deprecation.py:13: UserWarning: 'data.DataLoader' is deprecated, use 'loader.DataLoader' instead\n",
      "  warnings.warn(out)\n"
     ]
    },
    {
     "name": "stdout",
     "output_type": "stream",
     "text": [
      "Epoch: 009, Train MAE: 0.1496, Train MSE: 0.0389\n",
      "Epoch: 009, Test MAE: 0.1831, Test MSE: 0.0349\n",
      "Time: 51.9976909160614\n",
      "---------------------------------------- 0.4\n",
      "++++++++++++++++++++++++++++++\n",
      "christine_DDN+GIN_0.35 christine_DDN+GIN_0.4\n",
      "37 37\n",
      "---------------------------------------- 0.45\n",
      "graphs_train shape: 11524 graphs_train[0] shape: Data(x=[46, 47], edge_index=[2, 1], y=0.932)\n",
      "graphs_test shape: 273 graphs_test[0] shape: Data(x=[46, 47], edge_index=[2, 1], y=0.6736413817340144)\n"
     ]
    },
    {
     "name": "stderr",
     "output_type": "stream",
     "text": [
      "/Users/haox/opt/anaconda3/lib/python3.8/site-packages/torch_geometric/deprecation.py:13: UserWarning: 'data.DataLoader' is deprecated, use 'loader.DataLoader' instead\n",
      "  warnings.warn(out)\n"
     ]
    },
    {
     "name": "stdout",
     "output_type": "stream",
     "text": [
      "Epoch: 009, Train MAE: 0.1594, Train MSE: 0.0465\n",
      "Epoch: 009, Test MAE: 0.1815, Test MSE: 0.0343\n",
      "Time: 55.92035794258118\n",
      "========================================\n",
      "10 cnae-9\n",
      "---------------------------------------- 0.05\n",
      "graphs_train shape: 2222 graphs_train[0] shape: Data(x=[46, 47], edge_index=[2, 1], y=0.7858106644900136)\n",
      "graphs_test shape: 288 graphs_test[0] shape: Data(x=[46, 47], edge_index=[2, 1], y=0.9127993109388457)\n"
     ]
    },
    {
     "name": "stderr",
     "output_type": "stream",
     "text": [
      "/Users/haox/opt/anaconda3/lib/python3.8/site-packages/torch_geometric/deprecation.py:13: UserWarning: 'data.DataLoader' is deprecated, use 'loader.DataLoader' instead\n",
      "  warnings.warn(out)\n"
     ]
    },
    {
     "name": "stdout",
     "output_type": "stream",
     "text": [
      "Epoch: 009, Train MAE: 0.0950, Train MSE: 0.0111\n",
      "Epoch: 009, Test MAE: 0.0939, Test MSE: 0.0098\n",
      "Time: 10.521780967712402\n",
      "---------------------------------------- 0.1\n",
      "graphs_train shape: 6402 graphs_train[0] shape: Data(x=[46, 47], edge_index=[2, 1], y=0.932)\n",
      "graphs_test shape: 288 graphs_test[0] shape: Data(x=[46, 47], edge_index=[2, 1], y=0.9127993109388457)\n"
     ]
    },
    {
     "name": "stderr",
     "output_type": "stream",
     "text": [
      "/Users/haox/opt/anaconda3/lib/python3.8/site-packages/torch_geometric/deprecation.py:13: UserWarning: 'data.DataLoader' is deprecated, use 'loader.DataLoader' instead\n",
      "  warnings.warn(out)\n"
     ]
    },
    {
     "name": "stdout",
     "output_type": "stream",
     "text": [
      "Epoch: 009, Train MAE: 0.1005, Train MSE: 0.0152\n",
      "Epoch: 009, Test MAE: 0.0934, Test MSE: 0.0097\n",
      "Time: 27.629043102264404\n",
      "---------------------------------------- 0.15000000000000002\n",
      "++++++++++++++++++++++++++++++\n",
      "cnae-9_DDN+GIN_0.1 cnae-9_DDN+GIN_0.15\n",
      "20 20\n",
      "---------------------------------------- 0.2\n",
      "graphs_train shape: 7661 graphs_train[0] shape: Data(x=[46, 47], edge_index=[2, 1], y=0.932)\n",
      "graphs_test shape: 288 graphs_test[0] shape: Data(x=[46, 47], edge_index=[2, 1], y=0.9127993109388457)\n"
     ]
    },
    {
     "name": "stderr",
     "output_type": "stream",
     "text": [
      "/Users/haox/opt/anaconda3/lib/python3.8/site-packages/torch_geometric/deprecation.py:13: UserWarning: 'data.DataLoader' is deprecated, use 'loader.DataLoader' instead\n",
      "  warnings.warn(out)\n"
     ]
    },
    {
     "name": "stdout",
     "output_type": "stream",
     "text": [
      "Epoch: 009, Train MAE: 0.0918, Train MSE: 0.0163\n",
      "Epoch: 009, Test MAE: 0.0338, Test MSE: 0.0014\n",
      "Time: 33.28966927528381\n",
      "---------------------------------------- 0.25\n",
      "graphs_train shape: 8797 graphs_train[0] shape: Data(x=[46, 47], edge_index=[2, 1], y=0.932)\n",
      "graphs_test shape: 288 graphs_test[0] shape: Data(x=[46, 47], edge_index=[2, 1], y=0.9127993109388457)\n"
     ]
    },
    {
     "name": "stderr",
     "output_type": "stream",
     "text": [
      "/Users/haox/opt/anaconda3/lib/python3.8/site-packages/torch_geometric/deprecation.py:13: UserWarning: 'data.DataLoader' is deprecated, use 'loader.DataLoader' instead\n",
      "  warnings.warn(out)\n"
     ]
    },
    {
     "name": "stdout",
     "output_type": "stream",
     "text": [
      "Epoch: 009, Train MAE: 0.1089, Train MSE: 0.0218\n",
      "Epoch: 009, Test MAE: 0.0620, Test MSE: 0.0047\n",
      "Time: 38.253381967544556\n",
      "---------------------------------------- 0.3\n",
      "graphs_train shape: 9926 graphs_train[0] shape: Data(x=[46, 47], edge_index=[2, 1], y=0.932)\n",
      "graphs_test shape: 288 graphs_test[0] shape: Data(x=[46, 47], edge_index=[2, 1], y=0.9127993109388457)\n"
     ]
    },
    {
     "name": "stderr",
     "output_type": "stream",
     "text": [
      "/Users/haox/opt/anaconda3/lib/python3.8/site-packages/torch_geometric/deprecation.py:13: UserWarning: 'data.DataLoader' is deprecated, use 'loader.DataLoader' instead\n",
      "  warnings.warn(out)\n"
     ]
    },
    {
     "name": "stdout",
     "output_type": "stream",
     "text": [
      "Epoch: 009, Train MAE: 0.1292, Train MSE: 0.0299\n",
      "Epoch: 009, Test MAE: 0.0568, Test MSE: 0.0040\n",
      "Time: 47.059898853302\n",
      "---------------------------------------- 0.35000000000000003\n",
      "graphs_train shape: 10492 graphs_train[0] shape: Data(x=[46, 47], edge_index=[2, 1], y=0.932)\n",
      "graphs_test shape: 288 graphs_test[0] shape: Data(x=[46, 47], edge_index=[2, 1], y=0.9127993109388457)\n"
     ]
    },
    {
     "name": "stderr",
     "output_type": "stream",
     "text": [
      "/Users/haox/opt/anaconda3/lib/python3.8/site-packages/torch_geometric/deprecation.py:13: UserWarning: 'data.DataLoader' is deprecated, use 'loader.DataLoader' instead\n",
      "  warnings.warn(out)\n"
     ]
    },
    {
     "name": "stdout",
     "output_type": "stream",
     "text": [
      "Epoch: 009, Train MAE: 0.1378, Train MSE: 0.0327\n",
      "Epoch: 009, Test MAE: 0.0591, Test MSE: 0.0043\n",
      "Time: 44.968339920043945\n",
      "---------------------------------------- 0.4\n",
      "graphs_train shape: 10813 graphs_train[0] shape: Data(x=[46, 47], edge_index=[2, 1], y=0.932)\n",
      "graphs_test shape: 288 graphs_test[0] shape: Data(x=[46, 47], edge_index=[2, 1], y=0.9127993109388457)\n"
     ]
    },
    {
     "name": "stderr",
     "output_type": "stream",
     "text": [
      "/Users/haox/opt/anaconda3/lib/python3.8/site-packages/torch_geometric/deprecation.py:13: UserWarning: 'data.DataLoader' is deprecated, use 'loader.DataLoader' instead\n",
      "  warnings.warn(out)\n"
     ]
    },
    {
     "name": "stdout",
     "output_type": "stream",
     "text": [
      "Epoch: 009, Train MAE: 0.1421, Train MSE: 0.0342\n",
      "Epoch: 009, Test MAE: 0.0593, Test MSE: 0.0043\n",
      "Time: 45.49479913711548\n",
      "---------------------------------------- 0.45\n",
      "graphs_train shape: 11156 graphs_train[0] shape: Data(x=[46, 47], edge_index=[2, 1], y=0.932)\n",
      "graphs_test shape: 288 graphs_test[0] shape: Data(x=[46, 47], edge_index=[2, 1], y=0.9127993109388457)\n"
     ]
    },
    {
     "name": "stderr",
     "output_type": "stream",
     "text": [
      "/Users/haox/opt/anaconda3/lib/python3.8/site-packages/torch_geometric/deprecation.py:13: UserWarning: 'data.DataLoader' is deprecated, use 'loader.DataLoader' instead\n",
      "  warnings.warn(out)\n"
     ]
    },
    {
     "name": "stdout",
     "output_type": "stream",
     "text": [
      "Epoch: 009, Train MAE: 0.1487, Train MSE: 0.0370\n",
      "Epoch: 009, Test MAE: 0.0594, Test MSE: 0.0043\n",
      "Time: 50.84448575973511\n",
      "========================================\n",
      "11 connect-4\n",
      "---------------------------------------- 0.05\n",
      "graphs_train shape: 2073 graphs_train[0] shape: Data(x=[46, 47], edge_index=[2, 1], y=0.45183333333333336)\n",
      "graphs_test shape: 322 graphs_test[0] shape: Data(x=[46, 47], edge_index=[2, 1], y=0.2455)\n"
     ]
    },
    {
     "name": "stderr",
     "output_type": "stream",
     "text": [
      "/Users/haox/opt/anaconda3/lib/python3.8/site-packages/torch_geometric/deprecation.py:13: UserWarning: 'data.DataLoader' is deprecated, use 'loader.DataLoader' instead\n",
      "  warnings.warn(out)\n"
     ]
    },
    {
     "name": "stdout",
     "output_type": "stream",
     "text": [
      "Epoch: 009, Train MAE: 0.0980, Train MSE: 0.0251\n",
      "Epoch: 009, Test MAE: 0.1187, Test MSE: 0.0278\n",
      "Time: 10.240070819854736\n",
      "---------------------------------------- 0.1\n",
      "graphs_train shape: 3487 graphs_train[0] shape: Data(x=[46, 47], edge_index=[2, 1], y=0.45183333333333336)\n",
      "graphs_test shape: 322 graphs_test[0] shape: Data(x=[46, 47], edge_index=[2, 1], y=0.2455)\n"
     ]
    },
    {
     "name": "stderr",
     "output_type": "stream",
     "text": [
      "/Users/haox/opt/anaconda3/lib/python3.8/site-packages/torch_geometric/deprecation.py:13: UserWarning: 'data.DataLoader' is deprecated, use 'loader.DataLoader' instead\n",
      "  warnings.warn(out)\n"
     ]
    },
    {
     "name": "stdout",
     "output_type": "stream",
     "text": [
      "Epoch: 009, Train MAE: 0.1074, Train MSE: 0.0179\n",
      "Epoch: 009, Test MAE: 0.1068, Test MSE: 0.0173\n",
      "Time: 14.078828811645508\n",
      "---------------------------------------- 0.15000000000000002\n",
      "graphs_train shape: 6168 graphs_train[0] shape: Data(x=[46, 47], edge_index=[2, 1], y=0.45183333333333336)\n",
      "graphs_test shape: 322 graphs_test[0] shape: Data(x=[46, 47], edge_index=[2, 1], y=0.2455)\n"
     ]
    },
    {
     "name": "stderr",
     "output_type": "stream",
     "text": [
      "/Users/haox/opt/anaconda3/lib/python3.8/site-packages/torch_geometric/deprecation.py:13: UserWarning: 'data.DataLoader' is deprecated, use 'loader.DataLoader' instead\n",
      "  warnings.warn(out)\n"
     ]
    },
    {
     "name": "stdout",
     "output_type": "stream",
     "text": [
      "Epoch: 009, Train MAE: 0.1360, Train MSE: 0.0326\n",
      "Epoch: 009, Test MAE: 0.1562, Test MSE: 0.0381\n",
      "Time: 30.856741905212402\n",
      "---------------------------------------- 0.2\n",
      "graphs_train shape: 7176 graphs_train[0] shape: Data(x=[46, 47], edge_index=[2, 1], y=0.45183333333333336)\n",
      "graphs_test shape: 322 graphs_test[0] shape: Data(x=[46, 47], edge_index=[2, 1], y=0.2455)\n"
     ]
    },
    {
     "name": "stderr",
     "output_type": "stream",
     "text": [
      "/Users/haox/opt/anaconda3/lib/python3.8/site-packages/torch_geometric/deprecation.py:13: UserWarning: 'data.DataLoader' is deprecated, use 'loader.DataLoader' instead\n",
      "  warnings.warn(out)\n"
     ]
    },
    {
     "name": "stdout",
     "output_type": "stream",
     "text": [
      "Epoch: 009, Train MAE: 0.1514, Train MSE: 0.0392\n",
      "Epoch: 009, Test MAE: 0.1911, Test MSE: 0.0502\n",
      "Time: 32.602123975753784\n",
      "---------------------------------------- 0.25\n",
      "graphs_train shape: 9125 graphs_train[0] shape: Data(x=[46, 47], edge_index=[2, 1], y=0.45183333333333336)\n",
      "graphs_test shape: 322 graphs_test[0] shape: Data(x=[46, 47], edge_index=[2, 1], y=0.2455)\n"
     ]
    },
    {
     "name": "stderr",
     "output_type": "stream",
     "text": [
      "/Users/haox/opt/anaconda3/lib/python3.8/site-packages/torch_geometric/deprecation.py:13: UserWarning: 'data.DataLoader' is deprecated, use 'loader.DataLoader' instead\n",
      "  warnings.warn(out)\n"
     ]
    },
    {
     "name": "stdout",
     "output_type": "stream",
     "text": [
      "Epoch: 009, Train MAE: 0.1338, Train MSE: 0.0279\n",
      "Epoch: 009, Test MAE: 0.1294, Test MSE: 0.0305\n",
      "Time: 44.939937114715576\n",
      "---------------------------------------- 0.3\n",
      "graphs_train shape: 11122 graphs_train[0] shape: Data(x=[46, 47], edge_index=[2, 1], y=0.932)\n",
      "graphs_test shape: 322 graphs_test[0] shape: Data(x=[46, 47], edge_index=[2, 1], y=0.2455)\n"
     ]
    },
    {
     "name": "stderr",
     "output_type": "stream",
     "text": [
      "/Users/haox/opt/anaconda3/lib/python3.8/site-packages/torch_geometric/deprecation.py:13: UserWarning: 'data.DataLoader' is deprecated, use 'loader.DataLoader' instead\n",
      "  warnings.warn(out)\n"
     ]
    },
    {
     "name": "stdout",
     "output_type": "stream",
     "text": [
      "Epoch: 009, Train MAE: 0.1447, Train MSE: 0.0355\n",
      "Epoch: 009, Test MAE: 0.2021, Test MSE: 0.0546\n",
      "Time: 45.878852128982544\n",
      "---------------------------------------- 0.35000000000000003\n",
      "graphs_train shape: 11241 graphs_train[0] shape: Data(x=[46, 47], edge_index=[2, 1], y=0.932)\n",
      "graphs_test shape: 322 graphs_test[0] shape: Data(x=[46, 47], edge_index=[2, 1], y=0.2455)\n"
     ]
    },
    {
     "name": "stderr",
     "output_type": "stream",
     "text": [
      "/Users/haox/opt/anaconda3/lib/python3.8/site-packages/torch_geometric/deprecation.py:13: UserWarning: 'data.DataLoader' is deprecated, use 'loader.DataLoader' instead\n",
      "  warnings.warn(out)\n"
     ]
    },
    {
     "name": "stdout",
     "output_type": "stream",
     "text": [
      "Epoch: 009, Train MAE: 0.1488, Train MSE: 0.0383\n",
      "Epoch: 009, Test MAE: 0.2018, Test MSE: 0.0545\n",
      "Time: 59.37452292442322\n",
      "---------------------------------------- 0.4\n",
      "++++++++++++++++++++++++++++++\n",
      "connect-4_DDN+GIN_0.35 connect-4_DDN+GIN_0.4\n",
      "37 37\n",
      "---------------------------------------- 0.45\n",
      "graphs_train shape: 11475 graphs_train[0] shape: Data(x=[46, 47], edge_index=[2, 1], y=0.932)\n",
      "graphs_test shape: 322 graphs_test[0] shape: Data(x=[46, 47], edge_index=[2, 1], y=0.2455)\n"
     ]
    },
    {
     "name": "stderr",
     "output_type": "stream",
     "text": [
      "/Users/haox/opt/anaconda3/lib/python3.8/site-packages/torch_geometric/deprecation.py:13: UserWarning: 'data.DataLoader' is deprecated, use 'loader.DataLoader' instead\n",
      "  warnings.warn(out)\n"
     ]
    },
    {
     "name": "stdout",
     "output_type": "stream",
     "text": [
      "Epoch: 009, Train MAE: 0.1587, Train MSE: 0.0459\n",
      "Epoch: 009, Test MAE: 0.2002, Test MSE: 0.0538\n",
      "Time: 46.694206953048706\n",
      "========================================\n",
      "12 covertype\n",
      "---------------------------------------- 0.05\n",
      "graphs_train shape: 2119 graphs_train[0] shape: Data(x=[46, 47], edge_index=[2, 1], y=0.4556213017751479)\n",
      "graphs_test shape: 276 graphs_test[0] shape: Data(x=[46, 47], edge_index=[2, 1], y=0.45183333333333336)\n"
     ]
    },
    {
     "name": "stderr",
     "output_type": "stream",
     "text": [
      "/Users/haox/opt/anaconda3/lib/python3.8/site-packages/torch_geometric/deprecation.py:13: UserWarning: 'data.DataLoader' is deprecated, use 'loader.DataLoader' instead\n",
      "  warnings.warn(out)\n"
     ]
    },
    {
     "name": "stdout",
     "output_type": "stream",
     "text": [
      "Epoch: 009, Train MAE: 0.0960, Train MSE: 0.0238\n",
      "Epoch: 009, Test MAE: 0.1149, Test MSE: 0.0314\n",
      "Time: 15.400269031524658\n",
      "---------------------------------------- 0.1\n",
      "graphs_train shape: 2589 graphs_train[0] shape: Data(x=[46, 47], edge_index=[2, 1], y=0.4556213017751479)\n",
      "graphs_test shape: 276 graphs_test[0] shape: Data(x=[46, 47], edge_index=[2, 1], y=0.45183333333333336)\n"
     ]
    },
    {
     "name": "stderr",
     "output_type": "stream",
     "text": [
      "/Users/haox/opt/anaconda3/lib/python3.8/site-packages/torch_geometric/deprecation.py:13: UserWarning: 'data.DataLoader' is deprecated, use 'loader.DataLoader' instead\n",
      "  warnings.warn(out)\n"
     ]
    },
    {
     "name": "stdout",
     "output_type": "stream",
     "text": [
      "Epoch: 009, Train MAE: 0.0797, Train MSE: 0.0151\n",
      "Epoch: 009, Test MAE: 0.0948, Test MSE: 0.0199\n",
      "Time: 11.12096381187439\n",
      "---------------------------------------- 0.15000000000000002\n",
      "graphs_train shape: 5933 graphs_train[0] shape: Data(x=[46, 47], edge_index=[2, 1], y=0.4556213017751479)\n",
      "graphs_test shape: 276 graphs_test[0] shape: Data(x=[46, 47], edge_index=[2, 1], y=0.45183333333333336)\n"
     ]
    },
    {
     "name": "stderr",
     "output_type": "stream",
     "text": [
      "/Users/haox/opt/anaconda3/lib/python3.8/site-packages/torch_geometric/deprecation.py:13: UserWarning: 'data.DataLoader' is deprecated, use 'loader.DataLoader' instead\n",
      "  warnings.warn(out)\n"
     ]
    },
    {
     "name": "stdout",
     "output_type": "stream",
     "text": [
      "Epoch: 009, Train MAE: 0.1307, Train MSE: 0.0308\n",
      "Epoch: 009, Test MAE: 0.1511, Test MSE: 0.0420\n",
      "Time: 28.328778982162476\n",
      "---------------------------------------- 0.2\n",
      "graphs_train shape: 7510 graphs_train[0] shape: Data(x=[46, 47], edge_index=[2, 1], y=0.4556213017751479)\n",
      "graphs_test shape: 276 graphs_test[0] shape: Data(x=[46, 47], edge_index=[2, 1], y=0.45183333333333336)\n"
     ]
    },
    {
     "name": "stderr",
     "output_type": "stream",
     "text": [
      "/Users/haox/opt/anaconda3/lib/python3.8/site-packages/torch_geometric/deprecation.py:13: UserWarning: 'data.DataLoader' is deprecated, use 'loader.DataLoader' instead\n",
      "  warnings.warn(out)\n"
     ]
    },
    {
     "name": "stdout",
     "output_type": "stream",
     "text": [
      "Epoch: 009, Train MAE: 0.1228, Train MSE: 0.0247\n",
      "Epoch: 009, Test MAE: 0.1153, Test MSE: 0.0316\n",
      "Time: 33.968498945236206\n",
      "---------------------------------------- 0.25\n",
      "graphs_train shape: 9388 graphs_train[0] shape: Data(x=[46, 47], edge_index=[2, 1], y=0.4556213017751479)\n",
      "graphs_test shape: 276 graphs_test[0] shape: Data(x=[46, 47], edge_index=[2, 1], y=0.45183333333333336)\n"
     ]
    },
    {
     "name": "stderr",
     "output_type": "stream",
     "text": [
      "/Users/haox/opt/anaconda3/lib/python3.8/site-packages/torch_geometric/deprecation.py:13: UserWarning: 'data.DataLoader' is deprecated, use 'loader.DataLoader' instead\n",
      "  warnings.warn(out)\n"
     ]
    },
    {
     "name": "stdout",
     "output_type": "stream",
     "text": [
      "Epoch: 009, Train MAE: 0.1349, Train MSE: 0.0285\n",
      "Epoch: 009, Test MAE: 0.1366, Test MSE: 0.0378\n",
      "Time: 39.913763999938965\n",
      "---------------------------------------- 0.3\n",
      "graphs_train shape: 11168 graphs_train[0] shape: Data(x=[46, 47], edge_index=[2, 1], y=0.932)\n",
      "graphs_test shape: 276 graphs_test[0] shape: Data(x=[46, 47], edge_index=[2, 1], y=0.45183333333333336)\n"
     ]
    },
    {
     "name": "stderr",
     "output_type": "stream",
     "text": [
      "/Users/haox/opt/anaconda3/lib/python3.8/site-packages/torch_geometric/deprecation.py:13: UserWarning: 'data.DataLoader' is deprecated, use 'loader.DataLoader' instead\n",
      "  warnings.warn(out)\n"
     ]
    },
    {
     "name": "stdout",
     "output_type": "stream",
     "text": [
      "Epoch: 009, Train MAE: 0.1450, Train MSE: 0.0356\n",
      "Epoch: 009, Test MAE: 0.1986, Test MSE: 0.0586\n",
      "Time: 48.83961796760559\n",
      "---------------------------------------- 0.35000000000000003\n",
      "graphs_train shape: 11287 graphs_train[0] shape: Data(x=[46, 47], edge_index=[2, 1], y=0.932)\n",
      "graphs_test shape: 276 graphs_test[0] shape: Data(x=[46, 47], edge_index=[2, 1], y=0.45183333333333336)\n"
     ]
    },
    {
     "name": "stderr",
     "output_type": "stream",
     "text": [
      "/Users/haox/opt/anaconda3/lib/python3.8/site-packages/torch_geometric/deprecation.py:13: UserWarning: 'data.DataLoader' is deprecated, use 'loader.DataLoader' instead\n",
      "  warnings.warn(out)\n"
     ]
    },
    {
     "name": "stdout",
     "output_type": "stream",
     "text": [
      "Epoch: 009, Train MAE: 0.1492, Train MSE: 0.0383\n",
      "Epoch: 009, Test MAE: 0.1983, Test MSE: 0.0585\n",
      "Time: 46.94971799850464\n",
      "---------------------------------------- 0.4\n",
      "++++++++++++++++++++++++++++++\n",
      "covertype_DDN+GIN_0.35 covertype_DDN+GIN_0.4\n",
      "37 37\n",
      "---------------------------------------- 0.45\n",
      "graphs_train shape: 11521 graphs_train[0] shape: Data(x=[46, 47], edge_index=[2, 1], y=0.932)\n",
      "graphs_test shape: 276 graphs_test[0] shape: Data(x=[46, 47], edge_index=[2, 1], y=0.45183333333333336)\n"
     ]
    },
    {
     "name": "stderr",
     "output_type": "stream",
     "text": [
      "/Users/haox/opt/anaconda3/lib/python3.8/site-packages/torch_geometric/deprecation.py:13: UserWarning: 'data.DataLoader' is deprecated, use 'loader.DataLoader' instead\n",
      "  warnings.warn(out)\n"
     ]
    },
    {
     "name": "stdout",
     "output_type": "stream",
     "text": [
      "Epoch: 009, Train MAE: 0.1590, Train MSE: 0.0459\n",
      "Epoch: 009, Test MAE: 0.1966, Test MSE: 0.0578\n",
      "Time: 55.58202385902405\n",
      "========================================\n",
      "13 credit-g\n",
      "---------------------------------------- 0.05\n",
      "graphs_train shape: 1810 graphs_train[0] shape: Data(x=[46, 47], edge_index=[2, 1], y=0.45183333333333336)\n",
      "graphs_test shape: 312 graphs_test[0] shape: Data(x=[46, 47], edge_index=[2, 1], y=0.6887437185929649)\n"
     ]
    },
    {
     "name": "stderr",
     "output_type": "stream",
     "text": [
      "/Users/haox/opt/anaconda3/lib/python3.8/site-packages/torch_geometric/deprecation.py:13: UserWarning: 'data.DataLoader' is deprecated, use 'loader.DataLoader' instead\n",
      "  warnings.warn(out)\n"
     ]
    },
    {
     "name": "stdout",
     "output_type": "stream",
     "text": [
      "Epoch: 009, Train MAE: 0.1299, Train MSE: 0.0381\n",
      "Epoch: 009, Test MAE: 0.1217, Test MSE: 0.0188\n",
      "Time: 8.354485034942627\n",
      "---------------------------------------- 0.1\n",
      "graphs_train shape: 3210 graphs_train[0] shape: Data(x=[46, 47], edge_index=[2, 1], y=0.45183333333333336)\n",
      "graphs_test shape: 312 graphs_test[0] shape: Data(x=[46, 47], edge_index=[2, 1], y=0.6887437185929649)\n"
     ]
    },
    {
     "name": "stderr",
     "output_type": "stream",
     "text": [
      "/Users/haox/opt/anaconda3/lib/python3.8/site-packages/torch_geometric/deprecation.py:13: UserWarning: 'data.DataLoader' is deprecated, use 'loader.DataLoader' instead\n",
      "  warnings.warn(out)\n"
     ]
    },
    {
     "name": "stdout",
     "output_type": "stream",
     "text": [
      "Epoch: 009, Train MAE: 0.0810, Train MSE: 0.0178\n",
      "Epoch: 009, Test MAE: 0.0657, Test MSE: 0.0082\n",
      "Time: 12.348862886428833\n",
      "---------------------------------------- 0.15000000000000002\n",
      "graphs_train shape: 5897 graphs_train[0] shape: Data(x=[46, 47], edge_index=[2, 1], y=0.45183333333333336)\n",
      "graphs_test shape: 312 graphs_test[0] shape: Data(x=[46, 47], edge_index=[2, 1], y=0.6887437185929649)\n"
     ]
    },
    {
     "name": "stderr",
     "output_type": "stream",
     "text": [
      "/Users/haox/opt/anaconda3/lib/python3.8/site-packages/torch_geometric/deprecation.py:13: UserWarning: 'data.DataLoader' is deprecated, use 'loader.DataLoader' instead\n",
      "  warnings.warn(out)\n"
     ]
    },
    {
     "name": "stdout",
     "output_type": "stream",
     "text": [
      "Epoch: 009, Train MAE: 0.1342, Train MSE: 0.0329\n",
      "Epoch: 009, Test MAE: 0.1258, Test MSE: 0.0198\n",
      "Time: 32.3035888671875\n",
      "---------------------------------------- 0.2\n",
      "graphs_train shape: 8136 graphs_train[0] shape: Data(x=[46, 47], edge_index=[2, 1], y=0.45183333333333336)\n",
      "graphs_test shape: 312 graphs_test[0] shape: Data(x=[46, 47], edge_index=[2, 1], y=0.6887437185929649)\n"
     ]
    },
    {
     "name": "stderr",
     "output_type": "stream",
     "text": [
      "/Users/haox/opt/anaconda3/lib/python3.8/site-packages/torch_geometric/deprecation.py:13: UserWarning: 'data.DataLoader' is deprecated, use 'loader.DataLoader' instead\n",
      "  warnings.warn(out)\n"
     ]
    },
    {
     "name": "stdout",
     "output_type": "stream",
     "text": [
      "Epoch: 009, Train MAE: 0.1290, Train MSE: 0.0275\n",
      "Epoch: 009, Test MAE: 0.1043, Test MSE: 0.0149\n",
      "Time: 40.69438886642456\n",
      "---------------------------------------- 0.25\n",
      "graphs_train shape: 10770 graphs_train[0] shape: Data(x=[46, 47], edge_index=[2, 1], y=0.932)\n",
      "graphs_test shape: 312 graphs_test[0] shape: Data(x=[46, 47], edge_index=[2, 1], y=0.6887437185929649)\n"
     ]
    },
    {
     "name": "stderr",
     "output_type": "stream",
     "text": [
      "/Users/haox/opt/anaconda3/lib/python3.8/site-packages/torch_geometric/deprecation.py:13: UserWarning: 'data.DataLoader' is deprecated, use 'loader.DataLoader' instead\n",
      "  warnings.warn(out)\n"
     ]
    },
    {
     "name": "stdout",
     "output_type": "stream",
     "text": [
      "Epoch: 009, Train MAE: 0.1471, Train MSE: 0.0372\n",
      "Epoch: 009, Test MAE: 0.1706, Test MSE: 0.0331\n",
      "Time: 48.67713212966919\n",
      "---------------------------------------- 0.3\n",
      "graphs_train shape: 11132 graphs_train[0] shape: Data(x=[46, 47], edge_index=[2, 1], y=0.932)\n",
      "graphs_test shape: 312 graphs_test[0] shape: Data(x=[46, 47], edge_index=[2, 1], y=0.6887437185929649)\n"
     ]
    },
    {
     "name": "stderr",
     "output_type": "stream",
     "text": [
      "/Users/haox/opt/anaconda3/lib/python3.8/site-packages/torch_geometric/deprecation.py:13: UserWarning: 'data.DataLoader' is deprecated, use 'loader.DataLoader' instead\n",
      "  warnings.warn(out)\n"
     ]
    },
    {
     "name": "stdout",
     "output_type": "stream",
     "text": [
      "Epoch: 009, Train MAE: 0.1457, Train MSE: 0.0362\n",
      "Epoch: 009, Test MAE: 0.1690, Test MSE: 0.0326\n",
      "Time: 53.22023105621338\n",
      "---------------------------------------- 0.35000000000000003\n",
      "++++++++++++++++++++++++++++++\n",
      "credit-g_DDN+GIN_0.3 credit-g_DDN+GIN_0.35\n",
      "36 36\n",
      "---------------------------------------- 0.4\n",
      "graphs_train shape: 11251 graphs_train[0] shape: Data(x=[46, 47], edge_index=[2, 1], y=0.932)\n",
      "graphs_test shape: 312 graphs_test[0] shape: Data(x=[46, 47], edge_index=[2, 1], y=0.6887437185929649)\n"
     ]
    },
    {
     "name": "stderr",
     "output_type": "stream",
     "text": [
      "/Users/haox/opt/anaconda3/lib/python3.8/site-packages/torch_geometric/deprecation.py:13: UserWarning: 'data.DataLoader' is deprecated, use 'loader.DataLoader' instead\n",
      "  warnings.warn(out)\n"
     ]
    },
    {
     "name": "stdout",
     "output_type": "stream",
     "text": [
      "Epoch: 009, Train MAE: 0.1499, Train MSE: 0.0390\n",
      "Epoch: 009, Test MAE: 0.1690, Test MSE: 0.0326\n",
      "Time: 49.91584086418152\n",
      "---------------------------------------- 0.45\n",
      "++++++++++++++++++++++++++++++\n",
      "credit-g_DDN+GIN_0.4 credit-g_DDN+GIN_0.45\n",
      "37 37\n",
      "========================================\n",
      "14 dilbert\n",
      "---------------------------------------- 0.05\n",
      "graphs_train shape: 2564 graphs_train[0] shape: Data(x=[46, 47], edge_index=[2, 1], y=0.7858106644900136)\n",
      "graphs_test shape: 265 graphs_test[0] shape: Data(x=[46, 47], edge_index=[2, 1], y=0.5965)\n"
     ]
    },
    {
     "name": "stderr",
     "output_type": "stream",
     "text": [
      "/Users/haox/opt/anaconda3/lib/python3.8/site-packages/torch_geometric/deprecation.py:13: UserWarning: 'data.DataLoader' is deprecated, use 'loader.DataLoader' instead\n",
      "  warnings.warn(out)\n"
     ]
    },
    {
     "name": "stdout",
     "output_type": "stream",
     "text": [
      "Epoch: 009, Train MAE: 0.0780, Train MSE: 0.0081\n",
      "Epoch: 009, Test MAE: 0.0884, Test MSE: 0.0101\n",
      "Time: 11.523191928863525\n",
      "---------------------------------------- 0.1\n",
      "graphs_train shape: 6099 graphs_train[0] shape: Data(x=[46, 47], edge_index=[2, 1], y=0.932)\n",
      "graphs_test shape: 265 graphs_test[0] shape: Data(x=[46, 47], edge_index=[2, 1], y=0.5965)\n"
     ]
    },
    {
     "name": "stderr",
     "output_type": "stream",
     "text": [
      "/Users/haox/opt/anaconda3/lib/python3.8/site-packages/torch_geometric/deprecation.py:13: UserWarning: 'data.DataLoader' is deprecated, use 'loader.DataLoader' instead\n",
      "  warnings.warn(out)\n"
     ]
    },
    {
     "name": "stdout",
     "output_type": "stream",
     "text": [
      "Epoch: 009, Train MAE: 0.0946, Train MSE: 0.0141\n",
      "Epoch: 009, Test MAE: 0.0958, Test MSE: 0.0112\n",
      "Time: 26.140936136245728\n",
      "---------------------------------------- 0.15000000000000002\n",
      "graphs_train shape: 6425 graphs_train[0] shape: Data(x=[46, 47], edge_index=[2, 1], y=0.932)\n",
      "graphs_test shape: 265 graphs_test[0] shape: Data(x=[46, 47], edge_index=[2, 1], y=0.5965)\n"
     ]
    },
    {
     "name": "stderr",
     "output_type": "stream",
     "text": [
      "/Users/haox/opt/anaconda3/lib/python3.8/site-packages/torch_geometric/deprecation.py:13: UserWarning: 'data.DataLoader' is deprecated, use 'loader.DataLoader' instead\n",
      "  warnings.warn(out)\n"
     ]
    },
    {
     "name": "stdout",
     "output_type": "stream",
     "text": [
      "Epoch: 009, Train MAE: 0.0937, Train MSE: 0.0138\n",
      "Epoch: 009, Test MAE: 0.0978, Test MSE: 0.0116\n",
      "Time: 28.161978244781494\n",
      "---------------------------------------- 0.2\n",
      "graphs_train shape: 7408 graphs_train[0] shape: Data(x=[46, 47], edge_index=[2, 1], y=0.932)\n",
      "graphs_test shape: 265 graphs_test[0] shape: Data(x=[46, 47], edge_index=[2, 1], y=0.5965)\n"
     ]
    },
    {
     "name": "stderr",
     "output_type": "stream",
     "text": [
      "/Users/haox/opt/anaconda3/lib/python3.8/site-packages/torch_geometric/deprecation.py:13: UserWarning: 'data.DataLoader' is deprecated, use 'loader.DataLoader' instead\n",
      "  warnings.warn(out)\n"
     ]
    },
    {
     "name": "stdout",
     "output_type": "stream",
     "text": [
      "Epoch: 009, Train MAE: 0.0849, Train MSE: 0.0132\n",
      "Epoch: 009, Test MAE: 0.0658, Test MSE: 0.0084\n",
      "Time: 32.194506883621216\n",
      "---------------------------------------- 0.25\n",
      "graphs_train shape: 8820 graphs_train[0] shape: Data(x=[46, 47], edge_index=[2, 1], y=0.932)\n",
      "graphs_test shape: 265 graphs_test[0] shape: Data(x=[46, 47], edge_index=[2, 1], y=0.5965)\n"
     ]
    },
    {
     "name": "stderr",
     "output_type": "stream",
     "text": [
      "/Users/haox/opt/anaconda3/lib/python3.8/site-packages/torch_geometric/deprecation.py:13: UserWarning: 'data.DataLoader' is deprecated, use 'loader.DataLoader' instead\n",
      "  warnings.warn(out)\n"
     ]
    },
    {
     "name": "stdout",
     "output_type": "stream",
     "text": [
      "Epoch: 009, Train MAE: 0.1081, Train MSE: 0.0217\n",
      "Epoch: 009, Test MAE: 0.0836, Test MSE: 0.0095\n",
      "Time: 39.268588066101074\n",
      "---------------------------------------- 0.3\n",
      "graphs_train shape: 9051 graphs_train[0] shape: Data(x=[46, 47], edge_index=[2, 1], y=0.932)\n",
      "graphs_test shape: 265 graphs_test[0] shape: Data(x=[46, 47], edge_index=[2, 1], y=0.5965)\n"
     ]
    },
    {
     "name": "stderr",
     "output_type": "stream",
     "text": [
      "/Users/haox/opt/anaconda3/lib/python3.8/site-packages/torch_geometric/deprecation.py:13: UserWarning: 'data.DataLoader' is deprecated, use 'loader.DataLoader' instead\n",
      "  warnings.warn(out)\n"
     ]
    },
    {
     "name": "stdout",
     "output_type": "stream",
     "text": [
      "Epoch: 009, Train MAE: 0.1118, Train MSE: 0.0232\n",
      "Epoch: 009, Test MAE: 0.0783, Test MSE: 0.0090\n",
      "Time: 41.22309613227844\n",
      "---------------------------------------- 0.35000000000000003\n",
      "graphs_train shape: 10234 graphs_train[0] shape: Data(x=[46, 47], edge_index=[2, 1], y=0.932)\n",
      "graphs_test shape: 265 graphs_test[0] shape: Data(x=[46, 47], edge_index=[2, 1], y=0.5965)\n"
     ]
    },
    {
     "name": "stderr",
     "output_type": "stream",
     "text": [
      "/Users/haox/opt/anaconda3/lib/python3.8/site-packages/torch_geometric/deprecation.py:13: UserWarning: 'data.DataLoader' is deprecated, use 'loader.DataLoader' instead\n",
      "  warnings.warn(out)\n"
     ]
    },
    {
     "name": "stdout",
     "output_type": "stream",
     "text": [
      "Epoch: 009, Train MAE: 0.1327, Train MSE: 0.0310\n",
      "Epoch: 009, Test MAE: 0.0825, Test MSE: 0.0094\n",
      "Time: 46.66929507255554\n",
      "---------------------------------------- 0.4\n",
      "graphs_train shape: 10836 graphs_train[0] shape: Data(x=[46, 47], edge_index=[2, 1], y=0.932)\n",
      "graphs_test shape: 265 graphs_test[0] shape: Data(x=[46, 47], edge_index=[2, 1], y=0.5965)\n"
     ]
    },
    {
     "name": "stderr",
     "output_type": "stream",
     "text": [
      "/Users/haox/opt/anaconda3/lib/python3.8/site-packages/torch_geometric/deprecation.py:13: UserWarning: 'data.DataLoader' is deprecated, use 'loader.DataLoader' instead\n",
      "  warnings.warn(out)\n"
     ]
    },
    {
     "name": "stdout",
     "output_type": "stream",
     "text": [
      "Epoch: 009, Train MAE: 0.1415, Train MSE: 0.0340\n",
      "Epoch: 009, Test MAE: 0.0818, Test MSE: 0.0094\n",
      "Time: 47.04050612449646\n",
      "---------------------------------------- 0.45\n",
      "graphs_train shape: 11179 graphs_train[0] shape: Data(x=[46, 47], edge_index=[2, 1], y=0.932)\n",
      "graphs_test shape: 265 graphs_test[0] shape: Data(x=[46, 47], edge_index=[2, 1], y=0.5965)\n"
     ]
    },
    {
     "name": "stderr",
     "output_type": "stream",
     "text": [
      "/Users/haox/opt/anaconda3/lib/python3.8/site-packages/torch_geometric/deprecation.py:13: UserWarning: 'data.DataLoader' is deprecated, use 'loader.DataLoader' instead\n",
      "  warnings.warn(out)\n"
     ]
    },
    {
     "name": "stdout",
     "output_type": "stream",
     "text": [
      "Epoch: 009, Train MAE: 0.1479, Train MSE: 0.0368\n",
      "Epoch: 009, Test MAE: 0.0824, Test MSE: 0.0094\n",
      "Time: 53.532508850097656\n",
      "========================================\n",
      "15 dionis\n",
      "---------------------------------------- 0.05\n",
      "graphs_train shape: 1898 graphs_train[0] shape: Data(x=[46, 47], edge_index=[2, 1], y=0.45183333333333336)\n",
      "graphs_test shape: 162 graphs_test[0] shape: Data(x=[46, 47], edge_index=[2, 1], y=0.48083333333333333)\n"
     ]
    },
    {
     "name": "stderr",
     "output_type": "stream",
     "text": [
      "/Users/haox/opt/anaconda3/lib/python3.8/site-packages/torch_geometric/deprecation.py:13: UserWarning: 'data.DataLoader' is deprecated, use 'loader.DataLoader' instead\n",
      "  warnings.warn(out)\n"
     ]
    },
    {
     "name": "stdout",
     "output_type": "stream",
     "text": [
      "Epoch: 009, Train MAE: 0.0668, Train MSE: 0.0106\n",
      "Epoch: 009, Test MAE: 0.3130, Test MSE: 0.1426\n",
      "Time: 12.64448595046997\n",
      "---------------------------------------- 0.1\n",
      "graphs_train shape: 3647 graphs_train[0] shape: Data(x=[46, 47], edge_index=[2, 1], y=0.45183333333333336)\n",
      "graphs_test shape: 162 graphs_test[0] shape: Data(x=[46, 47], edge_index=[2, 1], y=0.48083333333333333)\n"
     ]
    },
    {
     "name": "stderr",
     "output_type": "stream",
     "text": [
      "/Users/haox/opt/anaconda3/lib/python3.8/site-packages/torch_geometric/deprecation.py:13: UserWarning: 'data.DataLoader' is deprecated, use 'loader.DataLoader' instead\n",
      "  warnings.warn(out)\n"
     ]
    },
    {
     "name": "stdout",
     "output_type": "stream",
     "text": [
      "Epoch: 009, Train MAE: 0.1057, Train MSE: 0.0160\n",
      "Epoch: 009, Test MAE: 0.2181, Test MSE: 0.0771\n",
      "Time: 15.339841842651367\n",
      "---------------------------------------- 0.15000000000000002\n",
      "graphs_train shape: 5376 graphs_train[0] shape: Data(x=[46, 47], edge_index=[2, 1], y=0.45183333333333336)\n",
      "graphs_test shape: 162 graphs_test[0] shape: Data(x=[46, 47], edge_index=[2, 1], y=0.48083333333333333)\n"
     ]
    },
    {
     "name": "stderr",
     "output_type": "stream",
     "text": [
      "/Users/haox/opt/anaconda3/lib/python3.8/site-packages/torch_geometric/deprecation.py:13: UserWarning: 'data.DataLoader' is deprecated, use 'loader.DataLoader' instead\n",
      "  warnings.warn(out)\n"
     ]
    },
    {
     "name": "stdout",
     "output_type": "stream",
     "text": [
      "Epoch: 009, Train MAE: 0.0969, Train MSE: 0.0140\n",
      "Epoch: 009, Test MAE: 0.2514, Test MSE: 0.1009\n",
      "Time: 19.901787042617798\n",
      "---------------------------------------- 0.2\n",
      "graphs_train shape: 7311 graphs_train[0] shape: Data(x=[46, 47], edge_index=[2, 1], y=0.45183333333333336)\n",
      "graphs_test shape: 162 graphs_test[0] shape: Data(x=[46, 47], edge_index=[2, 1], y=0.48083333333333333)\n"
     ]
    },
    {
     "name": "stderr",
     "output_type": "stream",
     "text": [
      "/Users/haox/opt/anaconda3/lib/python3.8/site-packages/torch_geometric/deprecation.py:13: UserWarning: 'data.DataLoader' is deprecated, use 'loader.DataLoader' instead\n",
      "  warnings.warn(out)\n"
     ]
    },
    {
     "name": "stdout",
     "output_type": "stream",
     "text": [
      "Epoch: 009, Train MAE: 0.1352, Train MSE: 0.0296\n",
      "Epoch: 009, Test MAE: 0.3936, Test MSE: 0.1995\n",
      "Time: 37.99857831001282\n",
      "---------------------------------------- 0.25\n",
      "graphs_train shape: 8969 graphs_train[0] shape: Data(x=[46, 47], edge_index=[2, 1], y=0.45183333333333336)\n",
      "graphs_test shape: 162 graphs_test[0] shape: Data(x=[46, 47], edge_index=[2, 1], y=0.48083333333333333)\n"
     ]
    },
    {
     "name": "stderr",
     "output_type": "stream",
     "text": [
      "/Users/haox/opt/anaconda3/lib/python3.8/site-packages/torch_geometric/deprecation.py:13: UserWarning: 'data.DataLoader' is deprecated, use 'loader.DataLoader' instead\n",
      "  warnings.warn(out)\n"
     ]
    },
    {
     "name": "stdout",
     "output_type": "stream",
     "text": [
      "Epoch: 009, Train MAE: 0.1308, Train MSE: 0.0265\n",
      "Epoch: 009, Test MAE: 0.3883, Test MSE: 0.1954\n",
      "Time: 43.17179989814758\n",
      "---------------------------------------- 0.3\n",
      "graphs_train shape: 10920 graphs_train[0] shape: Data(x=[46, 47], edge_index=[2, 1], y=0.932)\n",
      "graphs_test shape: 162 graphs_test[0] shape: Data(x=[46, 47], edge_index=[2, 1], y=0.48083333333333333)\n"
     ]
    },
    {
     "name": "stderr",
     "output_type": "stream",
     "text": [
      "/Users/haox/opt/anaconda3/lib/python3.8/site-packages/torch_geometric/deprecation.py:13: UserWarning: 'data.DataLoader' is deprecated, use 'loader.DataLoader' instead\n",
      "  warnings.warn(out)\n"
     ]
    },
    {
     "name": "stdout",
     "output_type": "stream",
     "text": [
      "Epoch: 009, Train MAE: 0.1432, Train MSE: 0.0340\n",
      "Epoch: 009, Test MAE: 0.4518, Test MSE: 0.2487\n",
      "Time: 46.94761896133423\n",
      "---------------------------------------- 0.35000000000000003\n",
      "graphs_train shape: 11401 graphs_train[0] shape: Data(x=[46, 47], edge_index=[2, 1], y=0.932)\n",
      "graphs_test shape: 162 graphs_test[0] shape: Data(x=[46, 47], edge_index=[2, 1], y=0.48083333333333333)\n"
     ]
    },
    {
     "name": "stderr",
     "output_type": "stream",
     "text": [
      "/Users/haox/opt/anaconda3/lib/python3.8/site-packages/torch_geometric/deprecation.py:13: UserWarning: 'data.DataLoader' is deprecated, use 'loader.DataLoader' instead\n",
      "  warnings.warn(out)\n"
     ]
    },
    {
     "name": "stdout",
     "output_type": "stream",
     "text": [
      "Epoch: 009, Train MAE: 0.1465, Train MSE: 0.0362\n",
      "Epoch: 009, Test MAE: 0.4519, Test MSE: 0.2488\n",
      "Time: 48.09761095046997\n",
      "---------------------------------------- 0.4\n",
      "++++++++++++++++++++++++++++++\n",
      "dionis_DDN+GIN_0.35 dionis_DDN+GIN_0.4\n",
      "37 37\n",
      "---------------------------------------- 0.45\n",
      "graphs_train shape: 11635 graphs_train[0] shape: Data(x=[46, 47], edge_index=[2, 1], y=0.932)\n",
      "graphs_test shape: 162 graphs_test[0] shape: Data(x=[46, 47], edge_index=[2, 1], y=0.48083333333333333)\n"
     ]
    },
    {
     "name": "stderr",
     "output_type": "stream",
     "text": [
      "/Users/haox/opt/anaconda3/lib/python3.8/site-packages/torch_geometric/deprecation.py:13: UserWarning: 'data.DataLoader' is deprecated, use 'loader.DataLoader' instead\n",
      "  warnings.warn(out)\n"
     ]
    },
    {
     "name": "stdout",
     "output_type": "stream",
     "text": [
      "Epoch: 009, Train MAE: 0.1571, Train MSE: 0.0444\n",
      "Epoch: 009, Test MAE: 0.4537, Test MSE: 0.2504\n",
      "Time: 50.51862716674805\n",
      "========================================\n",
      "16 fabert\n",
      "---------------------------------------- 0.05\n",
      "graphs_train shape: 1175 graphs_train[0] shape: Data(x=[46, 47], edge_index=[2, 1], y=0.5485)\n",
      "graphs_test shape: 239 graphs_test[0] shape: Data(x=[46, 47], edge_index=[2, 1], y=0.4831666666666667)\n"
     ]
    },
    {
     "name": "stderr",
     "output_type": "stream",
     "text": [
      "/Users/haox/opt/anaconda3/lib/python3.8/site-packages/torch_geometric/deprecation.py:13: UserWarning: 'data.DataLoader' is deprecated, use 'loader.DataLoader' instead\n",
      "  warnings.warn(out)\n"
     ]
    },
    {
     "name": "stdout",
     "output_type": "stream",
     "text": [
      "Epoch: 009, Train MAE: 0.0809, Train MSE: 0.0092\n",
      "Epoch: 009, Test MAE: 0.1265, Test MSE: 0.0184\n",
      "Time: 5.8326499462127686\n",
      "---------------------------------------- 0.1\n",
      "graphs_train shape: 3189 graphs_train[0] shape: Data(x=[46, 47], edge_index=[2, 1], y=0.45183333333333336)\n",
      "graphs_test shape: 239 graphs_test[0] shape: Data(x=[46, 47], edge_index=[2, 1], y=0.4831666666666667)\n"
     ]
    },
    {
     "name": "stderr",
     "output_type": "stream",
     "text": [
      "/Users/haox/opt/anaconda3/lib/python3.8/site-packages/torch_geometric/deprecation.py:13: UserWarning: 'data.DataLoader' is deprecated, use 'loader.DataLoader' instead\n",
      "  warnings.warn(out)\n"
     ]
    },
    {
     "name": "stdout",
     "output_type": "stream",
     "text": [
      "Epoch: 009, Train MAE: 0.1127, Train MSE: 0.0191\n",
      "Epoch: 009, Test MAE: 0.1157, Test MSE: 0.0150\n",
      "Time: 15.835002183914185\n",
      "---------------------------------------- 0.15000000000000002\n",
      "graphs_train shape: 4515 graphs_train[0] shape: Data(x=[46, 47], edge_index=[2, 1], y=0.45183333333333336)\n",
      "graphs_test shape: 239 graphs_test[0] shape: Data(x=[46, 47], edge_index=[2, 1], y=0.4831666666666667)\n"
     ]
    },
    {
     "name": "stderr",
     "output_type": "stream",
     "text": [
      "/Users/haox/opt/anaconda3/lib/python3.8/site-packages/torch_geometric/deprecation.py:13: UserWarning: 'data.DataLoader' is deprecated, use 'loader.DataLoader' instead\n",
      "  warnings.warn(out)\n"
     ]
    },
    {
     "name": "stdout",
     "output_type": "stream",
     "text": [
      "Epoch: 009, Train MAE: 0.1026, Train MSE: 0.0177\n",
      "Epoch: 009, Test MAE: 0.0564, Test MSE: 0.0084\n",
      "Time: 21.57405996322632\n",
      "---------------------------------------- 0.2\n",
      "++++++++++++++++++++++++++++++\n",
      "fabert_DDN+GIN_0.15 fabert_DDN+GIN_0.2\n",
      "15 15\n",
      "---------------------------------------- 0.25\n",
      "graphs_train shape: 7034 graphs_train[0] shape: Data(x=[46, 47], edge_index=[2, 1], y=0.45183333333333336)\n",
      "graphs_test shape: 239 graphs_test[0] shape: Data(x=[46, 47], edge_index=[2, 1], y=0.4831666666666667)\n"
     ]
    },
    {
     "name": "stderr",
     "output_type": "stream",
     "text": [
      "/Users/haox/opt/anaconda3/lib/python3.8/site-packages/torch_geometric/deprecation.py:13: UserWarning: 'data.DataLoader' is deprecated, use 'loader.DataLoader' instead\n",
      "  warnings.warn(out)\n"
     ]
    },
    {
     "name": "stdout",
     "output_type": "stream",
     "text": [
      "Epoch: 009, Train MAE: 0.1230, Train MSE: 0.0246\n",
      "Epoch: 009, Test MAE: 0.0897, Test MSE: 0.0135\n",
      "Time: 31.448459148406982\n",
      "---------------------------------------- 0.3\n",
      "graphs_train shape: 8009 graphs_train[0] shape: Data(x=[46, 47], edge_index=[2, 1], y=0.45183333333333336)\n",
      "graphs_test shape: 239 graphs_test[0] shape: Data(x=[46, 47], edge_index=[2, 1], y=0.4831666666666667)\n"
     ]
    },
    {
     "name": "stderr",
     "output_type": "stream",
     "text": [
      "/Users/haox/opt/anaconda3/lib/python3.8/site-packages/torch_geometric/deprecation.py:13: UserWarning: 'data.DataLoader' is deprecated, use 'loader.DataLoader' instead\n",
      "  warnings.warn(out)\n"
     ]
    },
    {
     "name": "stdout",
     "output_type": "stream",
     "text": [
      "Epoch: 009, Train MAE: 0.1286, Train MSE: 0.0260\n",
      "Epoch: 009, Test MAE: 0.1076, Test MSE: 0.0171\n",
      "Time: 36.43423795700073\n",
      "---------------------------------------- 0.35000000000000003\n",
      "graphs_train shape: 9778 graphs_train[0] shape: Data(x=[46, 47], edge_index=[2, 1], y=0.45183333333333336)\n",
      "graphs_test shape: 239 graphs_test[0] shape: Data(x=[46, 47], edge_index=[2, 1], y=0.4831666666666667)\n"
     ]
    },
    {
     "name": "stderr",
     "output_type": "stream",
     "text": [
      "/Users/haox/opt/anaconda3/lib/python3.8/site-packages/torch_geometric/deprecation.py:13: UserWarning: 'data.DataLoader' is deprecated, use 'loader.DataLoader' instead\n",
      "  warnings.warn(out)\n"
     ]
    },
    {
     "name": "stdout",
     "output_type": "stream",
     "text": [
      "Epoch: 009, Train MAE: 0.1486, Train MSE: 0.0385\n",
      "Epoch: 009, Test MAE: 0.1736, Test MSE: 0.0356\n",
      "Time: 44.0107741355896\n",
      "---------------------------------------- 0.4\n",
      "graphs_train shape: 11558 graphs_train[0] shape: Data(x=[46, 47], edge_index=[2, 1], y=0.932)\n",
      "graphs_test shape: 239 graphs_test[0] shape: Data(x=[46, 47], edge_index=[2, 1], y=0.4831666666666667)\n"
     ]
    },
    {
     "name": "stderr",
     "output_type": "stream",
     "text": [
      "/Users/haox/opt/anaconda3/lib/python3.8/site-packages/torch_geometric/deprecation.py:13: UserWarning: 'data.DataLoader' is deprecated, use 'loader.DataLoader' instead\n",
      "  warnings.warn(out)\n"
     ]
    },
    {
     "name": "stdout",
     "output_type": "stream",
     "text": [
      "Epoch: 009, Train MAE: 0.1659, Train MSE: 0.0521\n",
      "Epoch: 009, Test MAE: 0.2648, Test MSE: 0.0756\n",
      "Time: 53.222525119781494\n",
      "---------------------------------------- 0.45\n",
      "++++++++++++++++++++++++++++++\n",
      "fabert_DDN+GIN_0.4 fabert_DDN+GIN_0.45\n",
      "38 38\n",
      "========================================\n",
      "17 fashion_mnist\n",
      "---------------------------------------- 0.05\n",
      "graphs_train shape: 2167 graphs_train[0] shape: Data(x=[46, 47], edge_index=[2, 1], y=0.7552428795420986)\n",
      "graphs_test shape: 233 graphs_test[0] shape: Data(x=[46, 47], edge_index=[2, 1], y=0.5173333333333334)\n"
     ]
    },
    {
     "name": "stderr",
     "output_type": "stream",
     "text": [
      "/Users/haox/opt/anaconda3/lib/python3.8/site-packages/torch_geometric/deprecation.py:13: UserWarning: 'data.DataLoader' is deprecated, use 'loader.DataLoader' instead\n",
      "  warnings.warn(out)\n"
     ]
    },
    {
     "name": "stdout",
     "output_type": "stream",
     "text": [
      "Epoch: 009, Train MAE: 0.0781, Train MSE: 0.0127\n",
      "Epoch: 009, Test MAE: 0.1273, Test MSE: 0.0263\n",
      "Time: 9.790608167648315\n",
      "---------------------------------------- 0.1\n",
      "graphs_train shape: 4787 graphs_train[0] shape: Data(x=[46, 47], edge_index=[2, 1], y=0.7552428795420986)\n",
      "graphs_test shape: 233 graphs_test[0] shape: Data(x=[46, 47], edge_index=[2, 1], y=0.5173333333333334)\n"
     ]
    },
    {
     "name": "stderr",
     "output_type": "stream",
     "text": [
      "/Users/haox/opt/anaconda3/lib/python3.8/site-packages/torch_geometric/deprecation.py:13: UserWarning: 'data.DataLoader' is deprecated, use 'loader.DataLoader' instead\n",
      "  warnings.warn(out)\n"
     ]
    },
    {
     "name": "stdout",
     "output_type": "stream",
     "text": [
      "Epoch: 009, Train MAE: 0.0928, Train MSE: 0.0130\n",
      "Epoch: 009, Test MAE: 0.0628, Test MSE: 0.0107\n",
      "Time: 20.009664058685303\n",
      "---------------------------------------- 0.15000000000000002\n",
      "graphs_train shape: 7808 graphs_train[0] shape: Data(x=[46, 47], edge_index=[2, 1], y=0.932)\n",
      "graphs_test shape: 233 graphs_test[0] shape: Data(x=[46, 47], edge_index=[2, 1], y=0.5173333333333334)\n"
     ]
    },
    {
     "name": "stderr",
     "output_type": "stream",
     "text": [
      "/Users/haox/opt/anaconda3/lib/python3.8/site-packages/torch_geometric/deprecation.py:13: UserWarning: 'data.DataLoader' is deprecated, use 'loader.DataLoader' instead\n",
      "  warnings.warn(out)\n"
     ]
    },
    {
     "name": "stdout",
     "output_type": "stream",
     "text": [
      "Epoch: 009, Train MAE: 0.1063, Train MSE: 0.0204\n",
      "Epoch: 009, Test MAE: 0.0779, Test MSE: 0.0158\n",
      "Time: 36.0668740272522\n",
      "---------------------------------------- 0.2\n",
      "graphs_train shape: 8852 graphs_train[0] shape: Data(x=[46, 47], edge_index=[2, 1], y=0.932)\n",
      "graphs_test shape: 233 graphs_test[0] shape: Data(x=[46, 47], edge_index=[2, 1], y=0.5173333333333334)\n"
     ]
    },
    {
     "name": "stderr",
     "output_type": "stream",
     "text": [
      "/Users/haox/opt/anaconda3/lib/python3.8/site-packages/torch_geometric/deprecation.py:13: UserWarning: 'data.DataLoader' is deprecated, use 'loader.DataLoader' instead\n",
      "  warnings.warn(out)\n"
     ]
    },
    {
     "name": "stdout",
     "output_type": "stream",
     "text": [
      "Epoch: 009, Train MAE: 0.1073, Train MSE: 0.0215\n",
      "Epoch: 009, Test MAE: 0.1105, Test MSE: 0.0223\n",
      "Time: 38.95841407775879\n",
      "---------------------------------------- 0.25\n",
      "graphs_train shape: 10266 graphs_train[0] shape: Data(x=[46, 47], edge_index=[2, 1], y=0.932)\n",
      "graphs_test shape: 233 graphs_test[0] shape: Data(x=[46, 47], edge_index=[2, 1], y=0.5173333333333334)\n"
     ]
    },
    {
     "name": "stderr",
     "output_type": "stream",
     "text": [
      "/Users/haox/opt/anaconda3/lib/python3.8/site-packages/torch_geometric/deprecation.py:13: UserWarning: 'data.DataLoader' is deprecated, use 'loader.DataLoader' instead\n",
      "  warnings.warn(out)\n"
     ]
    },
    {
     "name": "stdout",
     "output_type": "stream",
     "text": [
      "Epoch: 009, Train MAE: 0.1319, Train MSE: 0.0306\n",
      "Epoch: 009, Test MAE: 0.1084, Test MSE: 0.0218\n",
      "Time: 45.983701944351196\n",
      "---------------------------------------- 0.3\n",
      "graphs_train shape: 10868 graphs_train[0] shape: Data(x=[46, 47], edge_index=[2, 1], y=0.932)\n",
      "graphs_test shape: 233 graphs_test[0] shape: Data(x=[46, 47], edge_index=[2, 1], y=0.5173333333333334)\n"
     ]
    },
    {
     "name": "stderr",
     "output_type": "stream",
     "text": [
      "/Users/haox/opt/anaconda3/lib/python3.8/site-packages/torch_geometric/deprecation.py:13: UserWarning: 'data.DataLoader' is deprecated, use 'loader.DataLoader' instead\n",
      "  warnings.warn(out)\n"
     ]
    },
    {
     "name": "stdout",
     "output_type": "stream",
     "text": [
      "Epoch: 009, Train MAE: 0.1406, Train MSE: 0.0336\n",
      "Epoch: 009, Test MAE: 0.1090, Test MSE: 0.0220\n",
      "Time: 53.02549505233765\n",
      "---------------------------------------- 0.35000000000000003\n",
      "graphs_train shape: 11211 graphs_train[0] shape: Data(x=[46, 47], edge_index=[2, 1], y=0.932)\n",
      "graphs_test shape: 233 graphs_test[0] shape: Data(x=[46, 47], edge_index=[2, 1], y=0.5173333333333334)\n"
     ]
    },
    {
     "name": "stderr",
     "output_type": "stream",
     "text": [
      "/Users/haox/opt/anaconda3/lib/python3.8/site-packages/torch_geometric/deprecation.py:13: UserWarning: 'data.DataLoader' is deprecated, use 'loader.DataLoader' instead\n",
      "  warnings.warn(out)\n"
     ]
    },
    {
     "name": "stdout",
     "output_type": "stream",
     "text": [
      "Epoch: 009, Train MAE: 0.1471, Train MSE: 0.0364\n",
      "Epoch: 009, Test MAE: 0.1086, Test MSE: 0.0219\n",
      "Time: 51.865066051483154\n",
      "---------------------------------------- 0.4\n",
      "++++++++++++++++++++++++++++++\n",
      "fashion_mnist_DDN+GIN_0.35 fashion_mnist_DDN+GIN_0.4\n",
      "36 36\n",
      "---------------------------------------- 0.45\n",
      "++++++++++++++++++++++++++++++\n",
      "fashion_mnist_DDN+GIN_0.4 fashion_mnist_DDN+GIN_0.45\n",
      "36 36\n",
      "========================================\n",
      "18 guillermo\n",
      "---------------------------------------- 0.05\n",
      "graphs_train shape: 1183 graphs_train[0] shape: Data(x=[46, 47], edge_index=[2, 1], y=0.48116666666666663)\n",
      "graphs_test shape: 231 graphs_test[0] shape: Data(x=[46, 47], edge_index=[2, 1], y=0.5485)\n"
     ]
    },
    {
     "name": "stderr",
     "output_type": "stream",
     "text": [
      "/Users/haox/opt/anaconda3/lib/python3.8/site-packages/torch_geometric/deprecation.py:13: UserWarning: 'data.DataLoader' is deprecated, use 'loader.DataLoader' instead\n",
      "  warnings.warn(out)\n"
     ]
    },
    {
     "name": "stdout",
     "output_type": "stream",
     "text": [
      "Epoch: 009, Train MAE: 0.0632, Train MSE: 0.0064\n",
      "Epoch: 009, Test MAE: 0.0779, Test MSE: 0.0082\n",
      "Time: 6.015120267868042\n",
      "---------------------------------------- 0.1\n",
      "graphs_train shape: 3197 graphs_train[0] shape: Data(x=[46, 47], edge_index=[2, 1], y=0.45183333333333336)\n",
      "graphs_test shape: 231 graphs_test[0] shape: Data(x=[46, 47], edge_index=[2, 1], y=0.5485)\n"
     ]
    },
    {
     "name": "stderr",
     "output_type": "stream",
     "text": [
      "/Users/haox/opt/anaconda3/lib/python3.8/site-packages/torch_geometric/deprecation.py:13: UserWarning: 'data.DataLoader' is deprecated, use 'loader.DataLoader' instead\n",
      "  warnings.warn(out)\n"
     ]
    },
    {
     "name": "stdout",
     "output_type": "stream",
     "text": [
      "Epoch: 009, Train MAE: 0.0991, Train MSE: 0.0160\n",
      "Epoch: 009, Test MAE: 0.0829, Test MSE: 0.0094\n",
      "Time: 19.372236013412476\n",
      "---------------------------------------- 0.15000000000000002\n",
      "graphs_train shape: 4523 graphs_train[0] shape: Data(x=[46, 47], edge_index=[2, 1], y=0.45183333333333336)\n",
      "graphs_test shape: 231 graphs_test[0] shape: Data(x=[46, 47], edge_index=[2, 1], y=0.5485)\n"
     ]
    },
    {
     "name": "stderr",
     "output_type": "stream",
     "text": [
      "/Users/haox/opt/anaconda3/lib/python3.8/site-packages/torch_geometric/deprecation.py:13: UserWarning: 'data.DataLoader' is deprecated, use 'loader.DataLoader' instead\n",
      "  warnings.warn(out)\n"
     ]
    },
    {
     "name": "stdout",
     "output_type": "stream",
     "text": [
      "Epoch: 009, Train MAE: 0.0959, Train MSE: 0.0151\n",
      "Epoch: 009, Test MAE: 0.0515, Test MSE: 0.0037\n",
      "Time: 18.75988793373108\n",
      "---------------------------------------- 0.2\n",
      "graphs_train shape: 5146 graphs_train[0] shape: Data(x=[46, 47], edge_index=[2, 1], y=0.45183333333333336)\n",
      "graphs_test shape: 231 graphs_test[0] shape: Data(x=[46, 47], edge_index=[2, 1], y=0.5485)\n"
     ]
    },
    {
     "name": "stderr",
     "output_type": "stream",
     "text": [
      "/Users/haox/opt/anaconda3/lib/python3.8/site-packages/torch_geometric/deprecation.py:13: UserWarning: 'data.DataLoader' is deprecated, use 'loader.DataLoader' instead\n",
      "  warnings.warn(out)\n"
     ]
    },
    {
     "name": "stdout",
     "output_type": "stream",
     "text": [
      "Epoch: 009, Train MAE: 0.1042, Train MSE: 0.0170\n",
      "Epoch: 009, Test MAE: 0.0518, Test MSE: 0.0037\n",
      "Time: 20.24945378303528\n",
      "---------------------------------------- 0.25\n",
      "graphs_train shape: 7042 graphs_train[0] shape: Data(x=[46, 47], edge_index=[2, 1], y=0.45183333333333336)\n",
      "graphs_test shape: 231 graphs_test[0] shape: Data(x=[46, 47], edge_index=[2, 1], y=0.5485)\n"
     ]
    },
    {
     "name": "stderr",
     "output_type": "stream",
     "text": [
      "/Users/haox/opt/anaconda3/lib/python3.8/site-packages/torch_geometric/deprecation.py:13: UserWarning: 'data.DataLoader' is deprecated, use 'loader.DataLoader' instead\n",
      "  warnings.warn(out)\n"
     ]
    },
    {
     "name": "stdout",
     "output_type": "stream",
     "text": [
      "Epoch: 009, Train MAE: 0.1253, Train MSE: 0.0265\n",
      "Epoch: 009, Test MAE: 0.1103, Test MSE: 0.0158\n",
      "Time: 33.37807822227478\n",
      "---------------------------------------- 0.3\n",
      "graphs_train shape: 8282 graphs_train[0] shape: Data(x=[46, 47], edge_index=[2, 1], y=0.45183333333333336)\n",
      "graphs_test shape: 231 graphs_test[0] shape: Data(x=[46, 47], edge_index=[2, 1], y=0.5485)\n"
     ]
    },
    {
     "name": "stderr",
     "output_type": "stream",
     "text": [
      "/Users/haox/opt/anaconda3/lib/python3.8/site-packages/torch_geometric/deprecation.py:13: UserWarning: 'data.DataLoader' is deprecated, use 'loader.DataLoader' instead\n",
      "  warnings.warn(out)\n"
     ]
    },
    {
     "name": "stdout",
     "output_type": "stream",
     "text": [
      "Epoch: 009, Train MAE: 0.1305, Train MSE: 0.0262\n",
      "Epoch: 009, Test MAE: 0.0983, Test MSE: 0.0130\n",
      "Time: 39.17845797538757\n",
      "---------------------------------------- 0.35000000000000003\n",
      "graphs_train shape: 9871 graphs_train[0] shape: Data(x=[46, 47], edge_index=[2, 1], y=0.45183333333333336)\n",
      "graphs_test shape: 231 graphs_test[0] shape: Data(x=[46, 47], edge_index=[2, 1], y=0.5485)\n"
     ]
    },
    {
     "name": "stderr",
     "output_type": "stream",
     "text": [
      "/Users/haox/opt/anaconda3/lib/python3.8/site-packages/torch_geometric/deprecation.py:13: UserWarning: 'data.DataLoader' is deprecated, use 'loader.DataLoader' instead\n",
      "  warnings.warn(out)\n"
     ]
    },
    {
     "name": "stdout",
     "output_type": "stream",
     "text": [
      "Epoch: 009, Train MAE: 0.1420, Train MSE: 0.0334\n",
      "Epoch: 009, Test MAE: 0.1914, Test MSE: 0.0403\n",
      "Time: 49.33128905296326\n",
      "---------------------------------------- 0.4\n",
      "graphs_train shape: 11566 graphs_train[0] shape: Data(x=[46, 47], edge_index=[2, 1], y=0.932)\n",
      "graphs_test shape: 231 graphs_test[0] shape: Data(x=[46, 47], edge_index=[2, 1], y=0.5485)\n"
     ]
    },
    {
     "name": "stderr",
     "output_type": "stream",
     "text": [
      "/Users/haox/opt/anaconda3/lib/python3.8/site-packages/torch_geometric/deprecation.py:13: UserWarning: 'data.DataLoader' is deprecated, use 'loader.DataLoader' instead\n",
      "  warnings.warn(out)\n"
     ]
    },
    {
     "name": "stdout",
     "output_type": "stream",
     "text": [
      "Epoch: 009, Train MAE: 0.1584, Train MSE: 0.0459\n",
      "Epoch: 009, Test MAE: 0.2326, Test MSE: 0.0578\n",
      "Time: 92.1195650100708\n",
      "---------------------------------------- 0.45\n",
      "++++++++++++++++++++++++++++++\n",
      "guillermo_DDN+GIN_0.4 guillermo_DDN+GIN_0.45\n",
      "38 38\n",
      "========================================\n",
      "19 helena\n",
      "---------------------------------------- 0.05\n",
      "---------------------------------------- 0.1\n",
      "---------------------------------------- 0.15000000000000002\n",
      "graphs_train shape: 119 graphs_train[0] shape: Data(x=[46, 47], edge_index=[2, 1], y=0.36366666666666664)\n",
      "graphs_test shape: 234 graphs_test[0] shape: Data(x=[46, 47], edge_index=[2, 1], y=0.19849999999999998)\n"
     ]
    },
    {
     "name": "stderr",
     "output_type": "stream",
     "text": [
      "/Users/haox/opt/anaconda3/lib/python3.8/site-packages/torch_geometric/deprecation.py:13: UserWarning: 'data.DataLoader' is deprecated, use 'loader.DataLoader' instead\n",
      "  warnings.warn(out)\n"
     ]
    },
    {
     "name": "stdout",
     "output_type": "stream",
     "text": [
      "Epoch: 009, Train MAE: 0.0668, Train MSE: 0.0058\n",
      "Epoch: 009, Test MAE: 0.0961, Test MSE: 0.0140\n",
      "Time: 1.1886990070343018\n",
      "---------------------------------------- 0.2\n",
      "++++++++++++++++++++++++++++++\n",
      "helena_DDN+GIN_0.15 helena_DDN+GIN_0.2\n",
      "1 1\n",
      "---------------------------------------- 0.25\n",
      "graphs_train shape: 462 graphs_train[0] shape: Data(x=[46, 47], edge_index=[2, 1], y=0.518)\n",
      "graphs_test shape: 234 graphs_test[0] shape: Data(x=[46, 47], edge_index=[2, 1], y=0.19849999999999998)\n"
     ]
    },
    {
     "name": "stderr",
     "output_type": "stream",
     "text": [
      "/Users/haox/opt/anaconda3/lib/python3.8/site-packages/torch_geometric/deprecation.py:13: UserWarning: 'data.DataLoader' is deprecated, use 'loader.DataLoader' instead\n",
      "  warnings.warn(out)\n"
     ]
    },
    {
     "name": "stdout",
     "output_type": "stream",
     "text": [
      "Epoch: 009, Train MAE: 0.0778, Train MSE: 0.0083\n",
      "Epoch: 009, Test MAE: 0.2305, Test MSE: 0.0579\n",
      "Time: 2.8168740272521973\n",
      "---------------------------------------- 0.3\n",
      "graphs_train shape: 1064 graphs_train[0] shape: Data(x=[46, 47], edge_index=[2, 1], y=0.589)\n",
      "graphs_test shape: 234 graphs_test[0] shape: Data(x=[46, 47], edge_index=[2, 1], y=0.19849999999999998)\n"
     ]
    },
    {
     "name": "stderr",
     "output_type": "stream",
     "text": [
      "/Users/haox/opt/anaconda3/lib/python3.8/site-packages/torch_geometric/deprecation.py:13: UserWarning: 'data.DataLoader' is deprecated, use 'loader.DataLoader' instead\n",
      "  warnings.warn(out)\n"
     ]
    },
    {
     "name": "stdout",
     "output_type": "stream",
     "text": [
      "Epoch: 009, Train MAE: 0.0602, Train MSE: 0.0078\n",
      "Epoch: 009, Test MAE: 0.3107, Test MSE: 0.1013\n",
      "Time: 4.917088985443115\n",
      "---------------------------------------- 0.35000000000000003\n",
      "graphs_train shape: 2247 graphs_train[0] shape: Data(x=[46, 47], edge_index=[2, 1], y=0.589)\n",
      "graphs_test shape: 234 graphs_test[0] shape: Data(x=[46, 47], edge_index=[2, 1], y=0.19849999999999998)\n"
     ]
    },
    {
     "name": "stderr",
     "output_type": "stream",
     "text": [
      "/Users/haox/opt/anaconda3/lib/python3.8/site-packages/torch_geometric/deprecation.py:13: UserWarning: 'data.DataLoader' is deprecated, use 'loader.DataLoader' instead\n",
      "  warnings.warn(out)\n"
     ]
    },
    {
     "name": "stdout",
     "output_type": "stream",
     "text": [
      "Epoch: 009, Train MAE: 0.0687, Train MSE: 0.0091\n",
      "Epoch: 009, Test MAE: 0.3746, Test MSE: 0.1451\n",
      "Time: 10.15391731262207\n",
      "---------------------------------------- 0.4\n",
      "graphs_train shape: 2478 graphs_train[0] shape: Data(x=[46, 47], edge_index=[2, 1], y=0.5485)\n",
      "graphs_test shape: 234 graphs_test[0] shape: Data(x=[46, 47], edge_index=[2, 1], y=0.19849999999999998)\n"
     ]
    },
    {
     "name": "stderr",
     "output_type": "stream",
     "text": [
      "/Users/haox/opt/anaconda3/lib/python3.8/site-packages/torch_geometric/deprecation.py:13: UserWarning: 'data.DataLoader' is deprecated, use 'loader.DataLoader' instead\n",
      "  warnings.warn(out)\n"
     ]
    },
    {
     "name": "stdout",
     "output_type": "stream",
     "text": [
      "Epoch: 009, Train MAE: 0.0653, Train MSE: 0.0078\n",
      "Epoch: 009, Test MAE: 0.3520, Test MSE: 0.1287\n",
      "Time: 10.216645002365112\n",
      "---------------------------------------- 0.45\n",
      "graphs_train shape: 3890 graphs_train[0] shape: Data(x=[46, 47], edge_index=[2, 1], y=0.45183333333333336)\n",
      "graphs_test shape: 234 graphs_test[0] shape: Data(x=[46, 47], edge_index=[2, 1], y=0.19849999999999998)\n"
     ]
    },
    {
     "name": "stderr",
     "output_type": "stream",
     "text": [
      "/Users/haox/opt/anaconda3/lib/python3.8/site-packages/torch_geometric/deprecation.py:13: UserWarning: 'data.DataLoader' is deprecated, use 'loader.DataLoader' instead\n",
      "  warnings.warn(out)\n"
     ]
    },
    {
     "name": "stdout",
     "output_type": "stream",
     "text": [
      "Epoch: 009, Train MAE: 0.1025, Train MSE: 0.0168\n",
      "Epoch: 009, Test MAE: 0.3263, Test MSE: 0.1113\n",
      "Time: 15.638703107833862\n",
      "========================================\n",
      "20 higgs\n",
      "---------------------------------------- 0.05\n",
      "graphs_train shape: 1410 graphs_train[0] shape: Data(x=[46, 47], edge_index=[2, 1], y=0.5485)\n",
      "graphs_test shape: 285 graphs_test[0] shape: Data(x=[46, 47], edge_index=[2, 1], y=0.552)\n"
     ]
    },
    {
     "name": "stderr",
     "output_type": "stream",
     "text": [
      "/Users/haox/opt/anaconda3/lib/python3.8/site-packages/torch_geometric/deprecation.py:13: UserWarning: 'data.DataLoader' is deprecated, use 'loader.DataLoader' instead\n",
      "  warnings.warn(out)\n"
     ]
    },
    {
     "name": "stdout",
     "output_type": "stream",
     "text": [
      "Epoch: 009, Train MAE: 0.0764, Train MSE: 0.0106\n",
      "Epoch: 009, Test MAE: 0.0833, Test MSE: 0.0082\n",
      "Time: 6.95341682434082\n",
      "---------------------------------------- 0.1\n",
      "graphs_train shape: 2867 graphs_train[0] shape: Data(x=[46, 47], edge_index=[2, 1], y=0.4556213017751479)\n",
      "graphs_test shape: 285 graphs_test[0] shape: Data(x=[46, 47], edge_index=[2, 1], y=0.552)\n"
     ]
    },
    {
     "name": "stderr",
     "output_type": "stream",
     "text": [
      "/Users/haox/opt/anaconda3/lib/python3.8/site-packages/torch_geometric/deprecation.py:13: UserWarning: 'data.DataLoader' is deprecated, use 'loader.DataLoader' instead\n",
      "  warnings.warn(out)\n"
     ]
    },
    {
     "name": "stdout",
     "output_type": "stream",
     "text": [
      "Epoch: 009, Train MAE: 0.0923, Train MSE: 0.0141\n",
      "Epoch: 009, Test MAE: 0.0285, Test MSE: 0.0014\n",
      "Time: 11.420106887817383\n",
      "---------------------------------------- 0.15000000000000002\n",
      "graphs_train shape: 4469 graphs_train[0] shape: Data(x=[46, 47], edge_index=[2, 1], y=0.45183333333333336)\n",
      "graphs_test shape: 285 graphs_test[0] shape: Data(x=[46, 47], edge_index=[2, 1], y=0.552)\n"
     ]
    },
    {
     "name": "stderr",
     "output_type": "stream",
     "text": [
      "/Users/haox/opt/anaconda3/lib/python3.8/site-packages/torch_geometric/deprecation.py:13: UserWarning: 'data.DataLoader' is deprecated, use 'loader.DataLoader' instead\n",
      "  warnings.warn(out)\n"
     ]
    },
    {
     "name": "stdout",
     "output_type": "stream",
     "text": [
      "Epoch: 009, Train MAE: 0.1132, Train MSE: 0.0228\n",
      "Epoch: 009, Test MAE: 0.1593, Test MSE: 0.0267\n",
      "Time: 21.298377990722656\n",
      "---------------------------------------- 0.2\n",
      "++++++++++++++++++++++++++++++\n",
      "higgs_DDN+GIN_0.15 higgs_DDN+GIN_0.2\n",
      "15 15\n",
      "---------------------------------------- 0.25\n",
      "graphs_train shape: 6988 graphs_train[0] shape: Data(x=[46, 47], edge_index=[2, 1], y=0.45183333333333336)\n",
      "graphs_test shape: 285 graphs_test[0] shape: Data(x=[46, 47], edge_index=[2, 1], y=0.552)\n"
     ]
    },
    {
     "name": "stderr",
     "output_type": "stream",
     "text": [
      "/Users/haox/opt/anaconda3/lib/python3.8/site-packages/torch_geometric/deprecation.py:13: UserWarning: 'data.DataLoader' is deprecated, use 'loader.DataLoader' instead\n",
      "  warnings.warn(out)\n"
     ]
    },
    {
     "name": "stdout",
     "output_type": "stream",
     "text": [
      "Epoch: 009, Train MAE: 0.1247, Train MSE: 0.0271\n",
      "Epoch: 009, Test MAE: 0.1906, Test MSE: 0.0376\n",
      "Time: 43.774264097213745\n",
      "---------------------------------------- 0.3\n",
      "graphs_train shape: 7675 graphs_train[0] shape: Data(x=[46, 47], edge_index=[2, 1], y=0.45183333333333336)\n",
      "graphs_test shape: 285 graphs_test[0] shape: Data(x=[46, 47], edge_index=[2, 1], y=0.552)\n"
     ]
    },
    {
     "name": "stderr",
     "output_type": "stream",
     "text": [
      "/Users/haox/opt/anaconda3/lib/python3.8/site-packages/torch_geometric/deprecation.py:13: UserWarning: 'data.DataLoader' is deprecated, use 'loader.DataLoader' instead\n",
      "  warnings.warn(out)\n"
     ]
    },
    {
     "name": "stdout",
     "output_type": "stream",
     "text": [
      "Epoch: 009, Train MAE: 0.1261, Train MSE: 0.0270\n",
      "Epoch: 009, Test MAE: 0.1978, Test MSE: 0.0404\n",
      "Time: 52.57496786117554\n",
      "---------------------------------------- 0.35000000000000003\n",
      "graphs_train shape: 9515 graphs_train[0] shape: Data(x=[46, 47], edge_index=[2, 1], y=0.45183333333333336)\n",
      "graphs_test shape: 285 graphs_test[0] shape: Data(x=[46, 47], edge_index=[2, 1], y=0.552)\n"
     ]
    },
    {
     "name": "stderr",
     "output_type": "stream",
     "text": [
      "/Users/haox/opt/anaconda3/lib/python3.8/site-packages/torch_geometric/deprecation.py:13: UserWarning: 'data.DataLoader' is deprecated, use 'loader.DataLoader' instead\n",
      "  warnings.warn(out)\n"
     ]
    },
    {
     "name": "stdout",
     "output_type": "stream",
     "text": [
      "Epoch: 009, Train MAE: 0.1450, Train MSE: 0.0364\n",
      "Epoch: 009, Test MAE: 0.2221, Test MSE: 0.0506\n",
      "Time: 57.12363624572754\n",
      "---------------------------------------- 0.4\n",
      "graphs_train shape: 11512 graphs_train[0] shape: Data(x=[46, 47], edge_index=[2, 1], y=0.932)\n",
      "graphs_test shape: 285 graphs_test[0] shape: Data(x=[46, 47], edge_index=[2, 1], y=0.552)\n"
     ]
    },
    {
     "name": "stderr",
     "output_type": "stream",
     "text": [
      "/Users/haox/opt/anaconda3/lib/python3.8/site-packages/torch_geometric/deprecation.py:13: UserWarning: 'data.DataLoader' is deprecated, use 'loader.DataLoader' instead\n",
      "  warnings.warn(out)\n"
     ]
    },
    {
     "name": "stdout",
     "output_type": "stream",
     "text": [
      "Epoch: 009, Train MAE: 0.1575, Train MSE: 0.0460\n",
      "Epoch: 009, Test MAE: 0.3064, Test MSE: 0.0952\n",
      "Time: 51.71849012374878\n",
      "---------------------------------------- 0.45\n",
      "++++++++++++++++++++++++++++++\n",
      "higgs_DDN+GIN_0.4 higgs_DDN+GIN_0.45\n",
      "38 38\n",
      "========================================\n",
      "21 jannis\n",
      "---------------------------------------- 0.05\n",
      "graphs_train shape: 1112 graphs_train[0] shape: Data(x=[46, 47], edge_index=[2, 1], y=0.5485)\n",
      "graphs_test shape: 302 graphs_test[0] shape: Data(x=[46, 47], edge_index=[2, 1], y=0.48116666666666663)\n"
     ]
    },
    {
     "name": "stderr",
     "output_type": "stream",
     "text": [
      "/Users/haox/opt/anaconda3/lib/python3.8/site-packages/torch_geometric/deprecation.py:13: UserWarning: 'data.DataLoader' is deprecated, use 'loader.DataLoader' instead\n",
      "  warnings.warn(out)\n"
     ]
    },
    {
     "name": "stdout",
     "output_type": "stream",
     "text": [
      "Epoch: 009, Train MAE: 0.0758, Train MSE: 0.0085\n",
      "Epoch: 009, Test MAE: 0.0759, Test MSE: 0.0078\n",
      "Time: 5.697503089904785\n",
      "---------------------------------------- 0.1\n",
      "graphs_train shape: 2850 graphs_train[0] shape: Data(x=[46, 47], edge_index=[2, 1], y=0.4556213017751479)\n",
      "graphs_test shape: 302 graphs_test[0] shape: Data(x=[46, 47], edge_index=[2, 1], y=0.48116666666666663)\n"
     ]
    },
    {
     "name": "stderr",
     "output_type": "stream",
     "text": [
      "/Users/haox/opt/anaconda3/lib/python3.8/site-packages/torch_geometric/deprecation.py:13: UserWarning: 'data.DataLoader' is deprecated, use 'loader.DataLoader' instead\n",
      "  warnings.warn(out)\n"
     ]
    },
    {
     "name": "stdout",
     "output_type": "stream",
     "text": [
      "Epoch: 009, Train MAE: 0.0847, Train MSE: 0.0131\n",
      "Epoch: 009, Test MAE: 0.0604, Test MSE: 0.0046\n",
      "Time: 20.61244010925293\n",
      "---------------------------------------- 0.15000000000000002\n",
      "graphs_train shape: 4452 graphs_train[0] shape: Data(x=[46, 47], edge_index=[2, 1], y=0.45183333333333336)\n",
      "graphs_test shape: 302 graphs_test[0] shape: Data(x=[46, 47], edge_index=[2, 1], y=0.48116666666666663)\n"
     ]
    },
    {
     "name": "stderr",
     "output_type": "stream",
     "text": [
      "/Users/haox/opt/anaconda3/lib/python3.8/site-packages/torch_geometric/deprecation.py:13: UserWarning: 'data.DataLoader' is deprecated, use 'loader.DataLoader' instead\n",
      "  warnings.warn(out)\n"
     ]
    },
    {
     "name": "stdout",
     "output_type": "stream",
     "text": [
      "Epoch: 009, Train MAE: 0.0962, Train MSE: 0.0151\n",
      "Epoch: 009, Test MAE: 0.0594, Test MSE: 0.0060\n",
      "Time: 20.474053144454956\n",
      "---------------------------------------- 0.2\n",
      "++++++++++++++++++++++++++++++\n",
      "jannis_DDN+GIN_0.15 jannis_DDN+GIN_0.2\n",
      "15 15\n",
      "---------------------------------------- 0.25\n",
      "graphs_train shape: 6971 graphs_train[0] shape: Data(x=[46, 47], edge_index=[2, 1], y=0.45183333333333336)\n",
      "graphs_test shape: 302 graphs_test[0] shape: Data(x=[46, 47], edge_index=[2, 1], y=0.48116666666666663)\n"
     ]
    },
    {
     "name": "stderr",
     "output_type": "stream",
     "text": [
      "/Users/haox/opt/anaconda3/lib/python3.8/site-packages/torch_geometric/deprecation.py:13: UserWarning: 'data.DataLoader' is deprecated, use 'loader.DataLoader' instead\n",
      "  warnings.warn(out)\n"
     ]
    },
    {
     "name": "stdout",
     "output_type": "stream",
     "text": [
      "Epoch: 009, Train MAE: 0.1323, Train MSE: 0.0307\n",
      "Epoch: 009, Test MAE: 0.1818, Test MSE: 0.0376\n",
      "Time: 40.17127227783203\n",
      "---------------------------------------- 0.3\n",
      "graphs_train shape: 7946 graphs_train[0] shape: Data(x=[46, 47], edge_index=[2, 1], y=0.45183333333333336)\n",
      "graphs_test shape: 302 graphs_test[0] shape: Data(x=[46, 47], edge_index=[2, 1], y=0.48116666666666663)\n"
     ]
    },
    {
     "name": "stderr",
     "output_type": "stream",
     "text": [
      "/Users/haox/opt/anaconda3/lib/python3.8/site-packages/torch_geometric/deprecation.py:13: UserWarning: 'data.DataLoader' is deprecated, use 'loader.DataLoader' instead\n",
      "  warnings.warn(out)\n"
     ]
    },
    {
     "name": "stdout",
     "output_type": "stream",
     "text": [
      "Epoch: 009, Train MAE: 0.1275, Train MSE: 0.0265\n",
      "Epoch: 009, Test MAE: 0.1544, Test MSE: 0.0284\n",
      "Time: 35.68479108810425\n",
      "---------------------------------------- 0.35000000000000003\n",
      "graphs_train shape: 9715 graphs_train[0] shape: Data(x=[46, 47], edge_index=[2, 1], y=0.45183333333333336)\n",
      "graphs_test shape: 302 graphs_test[0] shape: Data(x=[46, 47], edge_index=[2, 1], y=0.48116666666666663)\n"
     ]
    },
    {
     "name": "stderr",
     "output_type": "stream",
     "text": [
      "/Users/haox/opt/anaconda3/lib/python3.8/site-packages/torch_geometric/deprecation.py:13: UserWarning: 'data.DataLoader' is deprecated, use 'loader.DataLoader' instead\n",
      "  warnings.warn(out)\n"
     ]
    },
    {
     "name": "stdout",
     "output_type": "stream",
     "text": [
      "Epoch: 009, Train MAE: 0.1483, Train MSE: 0.0389\n",
      "Epoch: 009, Test MAE: 0.2129, Test MSE: 0.0499\n",
      "Time: 49.59880495071411\n",
      "---------------------------------------- 0.4\n",
      "graphs_train shape: 11495 graphs_train[0] shape: Data(x=[46, 47], edge_index=[2, 1], y=0.932)\n",
      "graphs_test shape: 302 graphs_test[0] shape: Data(x=[46, 47], edge_index=[2, 1], y=0.48116666666666663)\n"
     ]
    },
    {
     "name": "stderr",
     "output_type": "stream",
     "text": [
      "/Users/haox/opt/anaconda3/lib/python3.8/site-packages/torch_geometric/deprecation.py:13: UserWarning: 'data.DataLoader' is deprecated, use 'loader.DataLoader' instead\n",
      "  warnings.warn(out)\n"
     ]
    },
    {
     "name": "stdout",
     "output_type": "stream",
     "text": [
      "Epoch: 009, Train MAE: 0.1572, Train MSE: 0.0455\n",
      "Epoch: 009, Test MAE: 0.2711, Test MSE: 0.0780\n",
      "Time: 56.81805872917175\n",
      "---------------------------------------- 0.45\n",
      "++++++++++++++++++++++++++++++\n",
      "jannis_DDN+GIN_0.4 jannis_DDN+GIN_0.45\n",
      "38 38\n",
      "========================================\n",
      "22 jasmine\n",
      "---------------------------------------- 0.05\n",
      "graphs_train shape: 1625 graphs_train[0] shape: Data(x=[46, 47], edge_index=[2, 1], y=0.45183333333333336)\n",
      "graphs_test shape: 335 graphs_test[0] shape: Data(x=[46, 47], edge_index=[2, 1], y=0.7077870325982742)\n"
     ]
    },
    {
     "name": "stderr",
     "output_type": "stream",
     "text": [
      "/Users/haox/opt/anaconda3/lib/python3.8/site-packages/torch_geometric/deprecation.py:13: UserWarning: 'data.DataLoader' is deprecated, use 'loader.DataLoader' instead\n",
      "  warnings.warn(out)\n"
     ]
    },
    {
     "name": "stdout",
     "output_type": "stream",
     "text": [
      "Epoch: 009, Train MAE: 0.0717, Train MSE: 0.0110\n",
      "Epoch: 009, Test MAE: 0.0653, Test MSE: 0.0050\n",
      "Time: 7.338075160980225\n",
      "---------------------------------------- 0.1\n",
      "graphs_train shape: 3835 graphs_train[0] shape: Data(x=[46, 47], edge_index=[2, 1], y=0.45183333333333336)\n",
      "graphs_test shape: 335 graphs_test[0] shape: Data(x=[46, 47], edge_index=[2, 1], y=0.7077870325982742)\n"
     ]
    },
    {
     "name": "stderr",
     "output_type": "stream",
     "text": [
      "/Users/haox/opt/anaconda3/lib/python3.8/site-packages/torch_geometric/deprecation.py:13: UserWarning: 'data.DataLoader' is deprecated, use 'loader.DataLoader' instead\n",
      "  warnings.warn(out)\n"
     ]
    },
    {
     "name": "stdout",
     "output_type": "stream",
     "text": [
      "Epoch: 009, Train MAE: 0.1036, Train MSE: 0.0202\n",
      "Epoch: 009, Test MAE: 0.0687, Test MSE: 0.0055\n",
      "Time: 20.056180953979492\n",
      "---------------------------------------- 0.15000000000000002\n",
      "graphs_train shape: 6193 graphs_train[0] shape: Data(x=[46, 47], edge_index=[2, 1], y=0.45183333333333336)\n",
      "graphs_test shape: 335 graphs_test[0] shape: Data(x=[46, 47], edge_index=[2, 1], y=0.7077870325982742)\n"
     ]
    },
    {
     "name": "stderr",
     "output_type": "stream",
     "text": [
      "/Users/haox/opt/anaconda3/lib/python3.8/site-packages/torch_geometric/deprecation.py:13: UserWarning: 'data.DataLoader' is deprecated, use 'loader.DataLoader' instead\n",
      "  warnings.warn(out)\n"
     ]
    },
    {
     "name": "stdout",
     "output_type": "stream",
     "text": [
      "Epoch: 009, Train MAE: 0.1239, Train MSE: 0.0274\n",
      "Epoch: 009, Test MAE: 0.0277, Test MSE: 0.0013\n",
      "Time: 31.64001202583313\n",
      "---------------------------------------- 0.2\n",
      "graphs_train shape: 8769 graphs_train[0] shape: Data(x=[46, 47], edge_index=[2, 1], y=0.45183333333333336)\n",
      "graphs_test shape: 335 graphs_test[0] shape: Data(x=[46, 47], edge_index=[2, 1], y=0.7077870325982742)\n"
     ]
    },
    {
     "name": "stderr",
     "output_type": "stream",
     "text": [
      "/Users/haox/opt/anaconda3/lib/python3.8/site-packages/torch_geometric/deprecation.py:13: UserWarning: 'data.DataLoader' is deprecated, use 'loader.DataLoader' instead\n",
      "  warnings.warn(out)\n"
     ]
    },
    {
     "name": "stdout",
     "output_type": "stream",
     "text": [
      "Epoch: 009, Train MAE: 0.1318, Train MSE: 0.0268\n",
      "Epoch: 009, Test MAE: 0.0263, Test MSE: 0.0012\n",
      "Time: 39.36178207397461\n",
      "---------------------------------------- 0.25\n",
      "graphs_train shape: 10766 graphs_train[0] shape: Data(x=[46, 47], edge_index=[2, 1], y=0.932)\n",
      "graphs_test shape: 335 graphs_test[0] shape: Data(x=[46, 47], edge_index=[2, 1], y=0.7077870325982742)\n"
     ]
    },
    {
     "name": "stderr",
     "output_type": "stream",
     "text": [
      "/Users/haox/opt/anaconda3/lib/python3.8/site-packages/torch_geometric/deprecation.py:13: UserWarning: 'data.DataLoader' is deprecated, use 'loader.DataLoader' instead\n",
      "  warnings.warn(out)\n"
     ]
    },
    {
     "name": "stdout",
     "output_type": "stream",
     "text": [
      "Epoch: 009, Train MAE: 0.1415, Train MSE: 0.0343\n",
      "Epoch: 009, Test MAE: 0.0963, Test MSE: 0.0100\n",
      "Time: 54.1835241317749\n",
      "---------------------------------------- 0.3\n",
      "graphs_train shape: 11109 graphs_train[0] shape: Data(x=[46, 47], edge_index=[2, 1], y=0.932)\n",
      "graphs_test shape: 335 graphs_test[0] shape: Data(x=[46, 47], edge_index=[2, 1], y=0.7077870325982742)\n"
     ]
    },
    {
     "name": "stderr",
     "output_type": "stream",
     "text": [
      "/Users/haox/opt/anaconda3/lib/python3.8/site-packages/torch_geometric/deprecation.py:13: UserWarning: 'data.DataLoader' is deprecated, use 'loader.DataLoader' instead\n",
      "  warnings.warn(out)\n"
     ]
    },
    {
     "name": "stdout",
     "output_type": "stream",
     "text": [
      "Epoch: 009, Train MAE: 0.1480, Train MSE: 0.0370\n",
      "Epoch: 009, Test MAE: 0.0948, Test MSE: 0.0098\n",
      "Time: 52.88596296310425\n",
      "---------------------------------------- 0.35000000000000003\n",
      "++++++++++++++++++++++++++++++\n",
      "jasmine_DDN+GIN_0.3 jasmine_DDN+GIN_0.35\n",
      "36 36\n",
      "---------------------------------------- 0.4\n",
      "graphs_train shape: 11228 graphs_train[0] shape: Data(x=[46, 47], edge_index=[2, 1], y=0.932)\n",
      "graphs_test shape: 335 graphs_test[0] shape: Data(x=[46, 47], edge_index=[2, 1], y=0.7077870325982742)\n"
     ]
    },
    {
     "name": "stderr",
     "output_type": "stream",
     "text": [
      "/Users/haox/opt/anaconda3/lib/python3.8/site-packages/torch_geometric/deprecation.py:13: UserWarning: 'data.DataLoader' is deprecated, use 'loader.DataLoader' instead\n",
      "  warnings.warn(out)\n"
     ]
    },
    {
     "name": "stdout",
     "output_type": "stream",
     "text": [
      "Epoch: 009, Train MAE: 0.1522, Train MSE: 0.0398\n",
      "Epoch: 009, Test MAE: 0.0950, Test MSE: 0.0098\n",
      "Time: 54.31627702713013\n",
      "---------------------------------------- 0.45\n",
      "++++++++++++++++++++++++++++++\n",
      "jasmine_DDN+GIN_0.4 jasmine_DDN+GIN_0.45\n",
      "37 37\n",
      "========================================\n",
      "23 jungle_chess_2pcs_raw_endgame_complete\n",
      "---------------------------------------- 0.05\n",
      "graphs_train shape: 1786 graphs_train[0] shape: Data(x=[46, 47], edge_index=[2, 1], y=0.45183333333333336)\n",
      "graphs_test shape: 336 graphs_test[0] shape: Data(x=[46, 47], edge_index=[2, 1], y=0.6908333333333333)\n"
     ]
    },
    {
     "name": "stderr",
     "output_type": "stream",
     "text": [
      "/Users/haox/opt/anaconda3/lib/python3.8/site-packages/torch_geometric/deprecation.py:13: UserWarning: 'data.DataLoader' is deprecated, use 'loader.DataLoader' instead\n",
      "  warnings.warn(out)\n"
     ]
    },
    {
     "name": "stdout",
     "output_type": "stream",
     "text": [
      "Epoch: 009, Train MAE: 0.1052, Train MSE: 0.0300\n",
      "Epoch: 009, Test MAE: 0.0517, Test MSE: 0.0043\n",
      "Time: 8.347196102142334\n",
      "---------------------------------------- 0.1\n",
      "graphs_train shape: 3186 graphs_train[0] shape: Data(x=[46, 47], edge_index=[2, 1], y=0.45183333333333336)\n",
      "graphs_test shape: 336 graphs_test[0] shape: Data(x=[46, 47], edge_index=[2, 1], y=0.6908333333333333)\n"
     ]
    },
    {
     "name": "stderr",
     "output_type": "stream",
     "text": [
      "/Users/haox/opt/anaconda3/lib/python3.8/site-packages/torch_geometric/deprecation.py:13: UserWarning: 'data.DataLoader' is deprecated, use 'loader.DataLoader' instead\n",
      "  warnings.warn(out)\n"
     ]
    },
    {
     "name": "stdout",
     "output_type": "stream",
     "text": [
      "Epoch: 009, Train MAE: 0.0895, Train MSE: 0.0166\n",
      "Epoch: 009, Test MAE: 0.0988, Test MSE: 0.0110\n",
      "Time: 12.778111934661865\n",
      "---------------------------------------- 0.15000000000000002\n",
      "graphs_train shape: 5873 graphs_train[0] shape: Data(x=[46, 47], edge_index=[2, 1], y=0.45183333333333336)\n",
      "graphs_test shape: 336 graphs_test[0] shape: Data(x=[46, 47], edge_index=[2, 1], y=0.6908333333333333)\n"
     ]
    },
    {
     "name": "stderr",
     "output_type": "stream",
     "text": [
      "/Users/haox/opt/anaconda3/lib/python3.8/site-packages/torch_geometric/deprecation.py:13: UserWarning: 'data.DataLoader' is deprecated, use 'loader.DataLoader' instead\n",
      "  warnings.warn(out)\n"
     ]
    },
    {
     "name": "stdout",
     "output_type": "stream",
     "text": [
      "Epoch: 009, Train MAE: 0.1422, Train MSE: 0.0352\n",
      "Epoch: 009, Test MAE: 0.0524, Test MSE: 0.0070\n",
      "Time: 20.828830003738403\n",
      "---------------------------------------- 0.2\n",
      "graphs_train shape: 8112 graphs_train[0] shape: Data(x=[46, 47], edge_index=[2, 1], y=0.45183333333333336)\n",
      "graphs_test shape: 336 graphs_test[0] shape: Data(x=[46, 47], edge_index=[2, 1], y=0.6908333333333333)\n"
     ]
    },
    {
     "name": "stderr",
     "output_type": "stream",
     "text": [
      "/Users/haox/opt/anaconda3/lib/python3.8/site-packages/torch_geometric/deprecation.py:13: UserWarning: 'data.DataLoader' is deprecated, use 'loader.DataLoader' instead\n",
      "  warnings.warn(out)\n"
     ]
    },
    {
     "name": "stdout",
     "output_type": "stream",
     "text": [
      "Epoch: 009, Train MAE: 0.1342, Train MSE: 0.0293\n",
      "Epoch: 009, Test MAE: 0.0436, Test MSE: 0.0055\n",
      "Time: 23.342159032821655\n",
      "---------------------------------------- 0.25\n",
      "graphs_train shape: 10746 graphs_train[0] shape: Data(x=[46, 47], edge_index=[2, 1], y=0.932)\n",
      "graphs_test shape: 336 graphs_test[0] shape: Data(x=[46, 47], edge_index=[2, 1], y=0.6908333333333333)\n"
     ]
    },
    {
     "name": "stderr",
     "output_type": "stream",
     "text": [
      "/Users/haox/opt/anaconda3/lib/python3.8/site-packages/torch_geometric/deprecation.py:13: UserWarning: 'data.DataLoader' is deprecated, use 'loader.DataLoader' instead\n",
      "  warnings.warn(out)\n"
     ]
    },
    {
     "name": "stdout",
     "output_type": "stream",
     "text": [
      "Epoch: 009, Train MAE: 0.1489, Train MSE: 0.0374\n",
      "Epoch: 009, Test MAE: 0.0875, Test MSE: 0.0120\n",
      "Time: 29.80002498626709\n",
      "---------------------------------------- 0.3\n",
      "graphs_train shape: 11108 graphs_train[0] shape: Data(x=[46, 47], edge_index=[2, 1], y=0.932)\n",
      "graphs_test shape: 336 graphs_test[0] shape: Data(x=[46, 47], edge_index=[2, 1], y=0.6908333333333333)\n"
     ]
    },
    {
     "name": "stderr",
     "output_type": "stream",
     "text": [
      "/Users/haox/opt/anaconda3/lib/python3.8/site-packages/torch_geometric/deprecation.py:13: UserWarning: 'data.DataLoader' is deprecated, use 'loader.DataLoader' instead\n",
      "  warnings.warn(out)\n"
     ]
    },
    {
     "name": "stdout",
     "output_type": "stream",
     "text": [
      "Epoch: 009, Train MAE: 0.1480, Train MSE: 0.0368\n",
      "Epoch: 009, Test MAE: 0.0884, Test MSE: 0.0122\n",
      "Time: 30.57362198829651\n",
      "---------------------------------------- 0.35000000000000003\n",
      "++++++++++++++++++++++++++++++\n",
      "jungle_chess_2pcs_raw_endgame_complete_DDN+GIN_0.3 jungle_chess_2pcs_raw_endgame_complete_DDN+GIN_0.35\n",
      "36 36\n",
      "---------------------------------------- 0.4\n",
      "graphs_train shape: 11227 graphs_train[0] shape: Data(x=[46, 47], edge_index=[2, 1], y=0.932)\n",
      "graphs_test shape: 336 graphs_test[0] shape: Data(x=[46, 47], edge_index=[2, 1], y=0.6908333333333333)\n"
     ]
    },
    {
     "name": "stderr",
     "output_type": "stream",
     "text": [
      "/Users/haox/opt/anaconda3/lib/python3.8/site-packages/torch_geometric/deprecation.py:13: UserWarning: 'data.DataLoader' is deprecated, use 'loader.DataLoader' instead\n",
      "  warnings.warn(out)\n"
     ]
    },
    {
     "name": "stdout",
     "output_type": "stream",
     "text": [
      "Epoch: 009, Train MAE: 0.1522, Train MSE: 0.0396\n",
      "Epoch: 009, Test MAE: 0.0885, Test MSE: 0.0122\n",
      "Time: 31.009215831756592\n",
      "---------------------------------------- 0.45\n",
      "++++++++++++++++++++++++++++++\n",
      "jungle_chess_2pcs_raw_endgame_complete_DDN+GIN_0.4 jungle_chess_2pcs_raw_endgame_complete_DDN+GIN_0.45\n",
      "37 37\n",
      "========================================\n",
      "24 kc1\n",
      "---------------------------------------- 0.05\n",
      "graphs_train shape: 2406 graphs_train[0] shape: Data(x=[46, 47], edge_index=[2, 1], y=0.7552428795420986)\n",
      "graphs_test shape: 313 graphs_test[0] shape: Data(x=[46, 47], edge_index=[2, 1], y=0.8260591782134729)\n"
     ]
    },
    {
     "name": "stderr",
     "output_type": "stream",
     "text": [
      "/Users/haox/opt/anaconda3/lib/python3.8/site-packages/torch_geometric/deprecation.py:13: UserWarning: 'data.DataLoader' is deprecated, use 'loader.DataLoader' instead\n",
      "  warnings.warn(out)\n"
     ]
    },
    {
     "name": "stdout",
     "output_type": "stream",
     "text": [
      "Epoch: 009, Train MAE: 0.0699, Train MSE: 0.0109\n",
      "Epoch: 009, Test MAE: 0.0169, Test MSE: 0.0007\n",
      "Time: 7.184937953948975\n",
      "---------------------------------------- 0.1\n",
      "graphs_train shape: 4715 graphs_train[0] shape: Data(x=[46, 47], edge_index=[2, 1], y=0.7552428795420986)\n",
      "graphs_test shape: 313 graphs_test[0] shape: Data(x=[46, 47], edge_index=[2, 1], y=0.8260591782134729)\n"
     ]
    },
    {
     "name": "stderr",
     "output_type": "stream",
     "text": [
      "/Users/haox/opt/anaconda3/lib/python3.8/site-packages/torch_geometric/deprecation.py:13: UserWarning: 'data.DataLoader' is deprecated, use 'loader.DataLoader' instead\n",
      "  warnings.warn(out)\n"
     ]
    },
    {
     "name": "stdout",
     "output_type": "stream",
     "text": [
      "Epoch: 009, Train MAE: 0.0946, Train MSE: 0.0131\n",
      "Epoch: 009, Test MAE: 0.0347, Test MSE: 0.0015\n",
      "Time: 13.544871091842651\n",
      "---------------------------------------- 0.15000000000000002\n",
      "graphs_train shape: 8337 graphs_train[0] shape: Data(x=[46, 47], edge_index=[2, 1], y=0.932)\n",
      "graphs_test shape: 313 graphs_test[0] shape: Data(x=[46, 47], edge_index=[2, 1], y=0.8260591782134729)\n"
     ]
    },
    {
     "name": "stderr",
     "output_type": "stream",
     "text": [
      "/Users/haox/opt/anaconda3/lib/python3.8/site-packages/torch_geometric/deprecation.py:13: UserWarning: 'data.DataLoader' is deprecated, use 'loader.DataLoader' instead\n",
      "  warnings.warn(out)\n"
     ]
    },
    {
     "name": "stdout",
     "output_type": "stream",
     "text": [
      "Epoch: 009, Train MAE: 0.1011, Train MSE: 0.0173\n",
      "Epoch: 009, Test MAE: 0.0304, Test MSE: 0.0014\n",
      "Time: 24.35584783554077\n",
      "---------------------------------------- 0.2\n",
      "graphs_train shape: 8772 graphs_train[0] shape: Data(x=[46, 47], edge_index=[2, 1], y=0.932)\n",
      "graphs_test shape: 313 graphs_test[0] shape: Data(x=[46, 47], edge_index=[2, 1], y=0.8260591782134729)\n"
     ]
    },
    {
     "name": "stderr",
     "output_type": "stream",
     "text": [
      "/Users/haox/opt/anaconda3/lib/python3.8/site-packages/torch_geometric/deprecation.py:13: UserWarning: 'data.DataLoader' is deprecated, use 'loader.DataLoader' instead\n",
      "  warnings.warn(out)\n"
     ]
    },
    {
     "name": "stdout",
     "output_type": "stream",
     "text": [
      "Epoch: 009, Train MAE: 0.1102, Train MSE: 0.0220\n",
      "Epoch: 009, Test MAE: 0.0287, Test MSE: 0.0013\n",
      "Time: 25.488308906555176\n",
      "---------------------------------------- 0.25\n",
      "graphs_train shape: 10186 graphs_train[0] shape: Data(x=[46, 47], edge_index=[2, 1], y=0.932)\n",
      "graphs_test shape: 313 graphs_test[0] shape: Data(x=[46, 47], edge_index=[2, 1], y=0.8260591782134729)\n"
     ]
    },
    {
     "name": "stderr",
     "output_type": "stream",
     "text": [
      "/Users/haox/opt/anaconda3/lib/python3.8/site-packages/torch_geometric/deprecation.py:13: UserWarning: 'data.DataLoader' is deprecated, use 'loader.DataLoader' instead\n",
      "  warnings.warn(out)\n"
     ]
    },
    {
     "name": "stdout",
     "output_type": "stream",
     "text": [
      "Epoch: 009, Train MAE: 0.1346, Train MSE: 0.0313\n",
      "Epoch: 009, Test MAE: 0.0310, Test MSE: 0.0015\n",
      "Time: 29.312434911727905\n",
      "---------------------------------------- 0.3\n",
      "graphs_train shape: 10788 graphs_train[0] shape: Data(x=[46, 47], edge_index=[2, 1], y=0.932)\n",
      "graphs_test shape: 313 graphs_test[0] shape: Data(x=[46, 47], edge_index=[2, 1], y=0.8260591782134729)\n"
     ]
    },
    {
     "name": "stderr",
     "output_type": "stream",
     "text": [
      "/Users/haox/opt/anaconda3/lib/python3.8/site-packages/torch_geometric/deprecation.py:13: UserWarning: 'data.DataLoader' is deprecated, use 'loader.DataLoader' instead\n",
      "  warnings.warn(out)\n"
     ]
    },
    {
     "name": "stdout",
     "output_type": "stream",
     "text": [
      "Epoch: 009, Train MAE: 0.1431, Train MSE: 0.0343\n",
      "Epoch: 009, Test MAE: 0.0315, Test MSE: 0.0015\n",
      "Time: 30.84236216545105\n",
      "---------------------------------------- 0.35000000000000003\n",
      "graphs_train shape: 11131 graphs_train[0] shape: Data(x=[46, 47], edge_index=[2, 1], y=0.932)\n",
      "graphs_test shape: 313 graphs_test[0] shape: Data(x=[46, 47], edge_index=[2, 1], y=0.8260591782134729)\n"
     ]
    },
    {
     "name": "stderr",
     "output_type": "stream",
     "text": [
      "/Users/haox/opt/anaconda3/lib/python3.8/site-packages/torch_geometric/deprecation.py:13: UserWarning: 'data.DataLoader' is deprecated, use 'loader.DataLoader' instead\n",
      "  warnings.warn(out)\n"
     ]
    },
    {
     "name": "stdout",
     "output_type": "stream",
     "text": [
      "Epoch: 009, Train MAE: 0.1495, Train MSE: 0.0370\n",
      "Epoch: 009, Test MAE: 0.0304, Test MSE: 0.0014\n",
      "Time: 32.197099924087524\n",
      "---------------------------------------- 0.4\n",
      "++++++++++++++++++++++++++++++\n",
      "kc1_DDN+GIN_0.35 kc1_DDN+GIN_0.4\n",
      "36 36\n",
      "---------------------------------------- 0.45\n",
      "++++++++++++++++++++++++++++++\n",
      "kc1_DDN+GIN_0.4 kc1_DDN+GIN_0.45\n",
      "36 36\n",
      "========================================\n",
      "25 KDDCup09_appetency\n",
      "---------------------------------------- 0.05\n",
      "graphs_train shape: 2242 graphs_train[0] shape: Data(x=[46, 47], edge_index=[2, 1], y=0.932)\n",
      "graphs_test shape: 411 graphs_test[0] shape: Data(x=[46, 47], edge_index=[2, 1], y=0.4093333333333334)\n"
     ]
    },
    {
     "name": "stderr",
     "output_type": "stream",
     "text": [
      "/Users/haox/opt/anaconda3/lib/python3.8/site-packages/torch_geometric/deprecation.py:13: UserWarning: 'data.DataLoader' is deprecated, use 'loader.DataLoader' instead\n",
      "  warnings.warn(out)\n"
     ]
    },
    {
     "name": "stdout",
     "output_type": "stream",
     "text": [
      "Epoch: 009, Train MAE: 0.0334, Train MSE: 0.0041\n",
      "Epoch: 009, Test MAE: 0.0655, Test MSE: 0.0402\n",
      "Time: 6.982580900192261\n",
      "---------------------------------------- 0.1\n",
      "graphs_train shape: 3879 graphs_train[0] shape: Data(x=[46, 47], edge_index=[2, 1], y=0.932)\n",
      "graphs_test shape: 411 graphs_test[0] shape: Data(x=[46, 47], edge_index=[2, 1], y=0.4093333333333334)\n"
     ]
    },
    {
     "name": "stderr",
     "output_type": "stream",
     "text": [
      "/Users/haox/opt/anaconda3/lib/python3.8/site-packages/torch_geometric/deprecation.py:13: UserWarning: 'data.DataLoader' is deprecated, use 'loader.DataLoader' instead\n",
      "  warnings.warn(out)\n"
     ]
    },
    {
     "name": "stdout",
     "output_type": "stream",
     "text": [
      "Epoch: 009, Train MAE: 0.0868, Train MSE: 0.0097\n",
      "Epoch: 009, Test MAE: 0.1540, Test MSE: 0.0406\n",
      "Time: 11.822901964187622\n",
      "---------------------------------------- 0.15000000000000002\n",
      "graphs_train shape: 5385 graphs_train[0] shape: Data(x=[46, 47], edge_index=[2, 1], y=0.932)\n",
      "graphs_test shape: 411 graphs_test[0] shape: Data(x=[46, 47], edge_index=[2, 1], y=0.4093333333333334)\n"
     ]
    },
    {
     "name": "stderr",
     "output_type": "stream",
     "text": [
      "/Users/haox/opt/anaconda3/lib/python3.8/site-packages/torch_geometric/deprecation.py:13: UserWarning: 'data.DataLoader' is deprecated, use 'loader.DataLoader' instead\n",
      "  warnings.warn(out)\n"
     ]
    },
    {
     "name": "stdout",
     "output_type": "stream",
     "text": [
      "Epoch: 009, Train MAE: 0.0853, Train MSE: 0.0160\n",
      "Epoch: 009, Test MAE: 0.0705, Test MSE: 0.0422\n",
      "Time: 16.506390810012817\n",
      "---------------------------------------- 0.2\n",
      "graphs_train shape: 6279 graphs_train[0] shape: Data(x=[46, 47], edge_index=[2, 1], y=0.932)\n",
      "graphs_test shape: 411 graphs_test[0] shape: Data(x=[46, 47], edge_index=[2, 1], y=0.4093333333333334)\n"
     ]
    },
    {
     "name": "stderr",
     "output_type": "stream",
     "text": [
      "/Users/haox/opt/anaconda3/lib/python3.8/site-packages/torch_geometric/deprecation.py:13: UserWarning: 'data.DataLoader' is deprecated, use 'loader.DataLoader' instead\n",
      "  warnings.warn(out)\n"
     ]
    },
    {
     "name": "stdout",
     "output_type": "stream",
     "text": [
      "Epoch: 009, Train MAE: 0.0720, Train MSE: 0.0096\n",
      "Epoch: 009, Test MAE: 0.1240, Test MSE: 0.0377\n",
      "Time: 18.24516773223877\n",
      "---------------------------------------- 0.25\n",
      "graphs_train shape: 7262 graphs_train[0] shape: Data(x=[46, 47], edge_index=[2, 1], y=0.932)\n",
      "graphs_test shape: 411 graphs_test[0] shape: Data(x=[46, 47], edge_index=[2, 1], y=0.4093333333333334)\n"
     ]
    },
    {
     "name": "stderr",
     "output_type": "stream",
     "text": [
      "/Users/haox/opt/anaconda3/lib/python3.8/site-packages/torch_geometric/deprecation.py:13: UserWarning: 'data.DataLoader' is deprecated, use 'loader.DataLoader' instead\n",
      "  warnings.warn(out)\n"
     ]
    },
    {
     "name": "stdout",
     "output_type": "stream",
     "text": [
      "Epoch: 009, Train MAE: 0.0838, Train MSE: 0.0132\n",
      "Epoch: 009, Test MAE: 0.1074, Test MSE: 0.0372\n",
      "Time: 20.948853969573975\n",
      "---------------------------------------- 0.3\n",
      "graphs_train shape: 8674 graphs_train[0] shape: Data(x=[46, 47], edge_index=[2, 1], y=0.932)\n",
      "graphs_test shape: 411 graphs_test[0] shape: Data(x=[46, 47], edge_index=[2, 1], y=0.4093333333333334)\n"
     ]
    },
    {
     "name": "stderr",
     "output_type": "stream",
     "text": [
      "/Users/haox/opt/anaconda3/lib/python3.8/site-packages/torch_geometric/deprecation.py:13: UserWarning: 'data.DataLoader' is deprecated, use 'loader.DataLoader' instead\n",
      "  warnings.warn(out)\n"
     ]
    },
    {
     "name": "stdout",
     "output_type": "stream",
     "text": [
      "Epoch: 009, Train MAE: 0.1091, Train MSE: 0.0234\n",
      "Epoch: 009, Test MAE: 0.1236, Test MSE: 0.0377\n",
      "Time: 24.158003091812134\n",
      "---------------------------------------- 0.35000000000000003\n",
      "++++++++++++++++++++++++++++++\n",
      "KDDCup09_appetency_DDN+GIN_0.3 KDDCup09_appetency_DDN+GIN_0.35\n",
      "28 28\n",
      "---------------------------------------- 0.4\n",
      "graphs_train shape: 10088 graphs_train[0] shape: Data(x=[46, 47], edge_index=[2, 1], y=0.932)\n",
      "graphs_test shape: 411 graphs_test[0] shape: Data(x=[46, 47], edge_index=[2, 1], y=0.4093333333333334)\n"
     ]
    },
    {
     "name": "stderr",
     "output_type": "stream",
     "text": [
      "/Users/haox/opt/anaconda3/lib/python3.8/site-packages/torch_geometric/deprecation.py:13: UserWarning: 'data.DataLoader' is deprecated, use 'loader.DataLoader' instead\n",
      "  warnings.warn(out)\n"
     ]
    },
    {
     "name": "stdout",
     "output_type": "stream",
     "text": [
      "Epoch: 009, Train MAE: 0.1312, Train MSE: 0.0304\n",
      "Epoch: 009, Test MAE: 0.1468, Test MSE: 0.0397\n",
      "Time: 28.0106041431427\n",
      "---------------------------------------- 0.45\n",
      "graphs_train shape: 10690 graphs_train[0] shape: Data(x=[46, 47], edge_index=[2, 1], y=0.932)\n",
      "graphs_test shape: 411 graphs_test[0] shape: Data(x=[46, 47], edge_index=[2, 1], y=0.4093333333333334)\n"
     ]
    },
    {
     "name": "stderr",
     "output_type": "stream",
     "text": [
      "/Users/haox/opt/anaconda3/lib/python3.8/site-packages/torch_geometric/deprecation.py:13: UserWarning: 'data.DataLoader' is deprecated, use 'loader.DataLoader' instead\n",
      "  warnings.warn(out)\n"
     ]
    },
    {
     "name": "stdout",
     "output_type": "stream",
     "text": [
      "Epoch: 009, Train MAE: 0.1407, Train MSE: 0.0339\n",
      "Epoch: 009, Test MAE: 0.1446, Test MSE: 0.0394\n",
      "Time: 29.61682105064392\n",
      "========================================\n",
      "26 kr-vs-kp\n",
      "---------------------------------------- 0.05\n",
      "graphs_train shape: 1635 graphs_train[0] shape: Data(x=[46, 47], edge_index=[2, 1], y=0.932)\n",
      "graphs_test shape: 362 graphs_test[0] shape: Data(x=[46, 47], edge_index=[2, 1], y=0.5969954766875435)\n"
     ]
    },
    {
     "name": "stderr",
     "output_type": "stream",
     "text": [
      "/Users/haox/opt/anaconda3/lib/python3.8/site-packages/torch_geometric/deprecation.py:13: UserWarning: 'data.DataLoader' is deprecated, use 'loader.DataLoader' instead\n",
      "  warnings.warn(out)\n"
     ]
    },
    {
     "name": "stdout",
     "output_type": "stream",
     "text": [
      "Epoch: 009, Train MAE: 0.0403, Train MSE: 0.0128\n",
      "Epoch: 009, Test MAE: 0.0292, Test MSE: 0.0053\n",
      "Time: 4.897526979446411\n",
      "---------------------------------------- 0.1\n",
      "graphs_train shape: 3609 graphs_train[0] shape: Data(x=[46, 47], edge_index=[2, 1], y=0.932)\n",
      "graphs_test shape: 362 graphs_test[0] shape: Data(x=[46, 47], edge_index=[2, 1], y=0.5969954766875435)\n"
     ]
    },
    {
     "name": "stderr",
     "output_type": "stream",
     "text": [
      "/Users/haox/opt/anaconda3/lib/python3.8/site-packages/torch_geometric/deprecation.py:13: UserWarning: 'data.DataLoader' is deprecated, use 'loader.DataLoader' instead\n",
      "  warnings.warn(out)\n"
     ]
    },
    {
     "name": "stdout",
     "output_type": "stream",
     "text": [
      "Epoch: 009, Train MAE: 0.0943, Train MSE: 0.0172\n",
      "Epoch: 009, Test MAE: 0.0607, Test MSE: 0.0088\n",
      "Time: 10.395280122756958\n",
      "---------------------------------------- 0.15000000000000002\n",
      "graphs_train shape: 5201 graphs_train[0] shape: Data(x=[46, 47], edge_index=[2, 1], y=0.932)\n",
      "graphs_test shape: 362 graphs_test[0] shape: Data(x=[46, 47], edge_index=[2, 1], y=0.5969954766875435)\n"
     ]
    },
    {
     "name": "stderr",
     "output_type": "stream",
     "text": [
      "/Users/haox/opt/anaconda3/lib/python3.8/site-packages/torch_geometric/deprecation.py:13: UserWarning: 'data.DataLoader' is deprecated, use 'loader.DataLoader' instead\n",
      "  warnings.warn(out)\n"
     ]
    },
    {
     "name": "stdout",
     "output_type": "stream",
     "text": [
      "Epoch: 009, Train MAE: 0.0781, Train MSE: 0.0160\n",
      "Epoch: 009, Test MAE: 0.0271, Test MSE: 0.0056\n",
      "Time: 14.728054761886597\n",
      "---------------------------------------- 0.2\n",
      "graphs_train shape: 6328 graphs_train[0] shape: Data(x=[46, 47], edge_index=[2, 1], y=0.932)\n",
      "graphs_test shape: 362 graphs_test[0] shape: Data(x=[46, 47], edge_index=[2, 1], y=0.5969954766875435)\n"
     ]
    },
    {
     "name": "stderr",
     "output_type": "stream",
     "text": [
      "/Users/haox/opt/anaconda3/lib/python3.8/site-packages/torch_geometric/deprecation.py:13: UserWarning: 'data.DataLoader' is deprecated, use 'loader.DataLoader' instead\n",
      "  warnings.warn(out)\n"
     ]
    },
    {
     "name": "stdout",
     "output_type": "stream",
     "text": [
      "Epoch: 009, Train MAE: 0.0752, Train MSE: 0.0113\n",
      "Epoch: 009, Test MAE: 0.0950, Test MSE: 0.0106\n",
      "Time: 17.909143924713135\n",
      "---------------------------------------- 0.25\n",
      "graphs_train shape: 6663 graphs_train[0] shape: Data(x=[46, 47], edge_index=[2, 1], y=0.932)\n",
      "graphs_test shape: 362 graphs_test[0] shape: Data(x=[46, 47], edge_index=[2, 1], y=0.5969954766875435)\n"
     ]
    },
    {
     "name": "stderr",
     "output_type": "stream",
     "text": [
      "/Users/haox/opt/anaconda3/lib/python3.8/site-packages/torch_geometric/deprecation.py:13: UserWarning: 'data.DataLoader' is deprecated, use 'loader.DataLoader' instead\n",
      "  warnings.warn(out)\n"
     ]
    },
    {
     "name": "stdout",
     "output_type": "stream",
     "text": [
      "Epoch: 009, Train MAE: 0.0816, Train MSE: 0.0117\n",
      "Epoch: 009, Test MAE: 0.1174, Test MSE: 0.0149\n",
      "Time: 18.814740896224976\n",
      "---------------------------------------- 0.3\n",
      "graphs_train shape: 8288 graphs_train[0] shape: Data(x=[46, 47], edge_index=[2, 1], y=0.932)\n",
      "graphs_test shape: 362 graphs_test[0] shape: Data(x=[46, 47], edge_index=[2, 1], y=0.5969954766875435)\n"
     ]
    },
    {
     "name": "stderr",
     "output_type": "stream",
     "text": [
      "/Users/haox/opt/anaconda3/lib/python3.8/site-packages/torch_geometric/deprecation.py:13: UserWarning: 'data.DataLoader' is deprecated, use 'loader.DataLoader' instead\n",
      "  warnings.warn(out)\n"
     ]
    },
    {
     "name": "stdout",
     "output_type": "stream",
     "text": [
      "Epoch: 009, Train MAE: 0.0978, Train MSE: 0.0170\n",
      "Epoch: 009, Test MAE: 0.1137, Test MSE: 0.0141\n",
      "Time: 23.336079835891724\n",
      "---------------------------------------- 0.35000000000000003\n",
      "graphs_train shape: 8723 graphs_train[0] shape: Data(x=[46, 47], edge_index=[2, 1], y=0.932)\n",
      "graphs_test shape: 362 graphs_test[0] shape: Data(x=[46, 47], edge_index=[2, 1], y=0.5969954766875435)\n"
     ]
    },
    {
     "name": "stderr",
     "output_type": "stream",
     "text": [
      "/Users/haox/opt/anaconda3/lib/python3.8/site-packages/torch_geometric/deprecation.py:13: UserWarning: 'data.DataLoader' is deprecated, use 'loader.DataLoader' instead\n",
      "  warnings.warn(out)\n"
     ]
    },
    {
     "name": "stdout",
     "output_type": "stream",
     "text": [
      "Epoch: 009, Train MAE: 0.1077, Train MSE: 0.0225\n",
      "Epoch: 009, Test MAE: 0.1076, Test MSE: 0.0129\n",
      "Time: 25.18412208557129\n",
      "---------------------------------------- 0.4\n",
      "graphs_train shape: 10137 graphs_train[0] shape: Data(x=[46, 47], edge_index=[2, 1], y=0.932)\n",
      "graphs_test shape: 362 graphs_test[0] shape: Data(x=[46, 47], edge_index=[2, 1], y=0.5969954766875435)\n"
     ]
    },
    {
     "name": "stderr",
     "output_type": "stream",
     "text": [
      "/Users/haox/opt/anaconda3/lib/python3.8/site-packages/torch_geometric/deprecation.py:13: UserWarning: 'data.DataLoader' is deprecated, use 'loader.DataLoader' instead\n",
      "  warnings.warn(out)\n"
     ]
    },
    {
     "name": "stdout",
     "output_type": "stream",
     "text": [
      "Epoch: 009, Train MAE: 0.1321, Train MSE: 0.0311\n",
      "Epoch: 009, Test MAE: 0.1160, Test MSE: 0.0146\n",
      "Time: 28.897119998931885\n",
      "---------------------------------------- 0.45\n",
      "graphs_train shape: 10739 graphs_train[0] shape: Data(x=[46, 47], edge_index=[2, 1], y=0.932)\n",
      "graphs_test shape: 362 graphs_test[0] shape: Data(x=[46, 47], edge_index=[2, 1], y=0.5969954766875435)\n"
     ]
    },
    {
     "name": "stderr",
     "output_type": "stream",
     "text": [
      "/Users/haox/opt/anaconda3/lib/python3.8/site-packages/torch_geometric/deprecation.py:13: UserWarning: 'data.DataLoader' is deprecated, use 'loader.DataLoader' instead\n",
      "  warnings.warn(out)\n"
     ]
    },
    {
     "name": "stdout",
     "output_type": "stream",
     "text": [
      "Epoch: 009, Train MAE: 0.1410, Train MSE: 0.0342\n",
      "Epoch: 009, Test MAE: 0.1152, Test MSE: 0.0144\n",
      "Time: 32.09943985939026\n",
      "========================================\n",
      "27 mfeat-factors\n",
      "---------------------------------------- 0.05\n",
      "graphs_train shape: 2771 graphs_train[0] shape: Data(x=[46, 47], edge_index=[2, 1], y=0.7858106644900136)\n",
      "graphs_test shape: 279 graphs_test[0] shape: Data(x=[46, 47], edge_index=[2, 1], y=0.932)\n"
     ]
    },
    {
     "name": "stderr",
     "output_type": "stream",
     "text": [
      "/Users/haox/opt/anaconda3/lib/python3.8/site-packages/torch_geometric/deprecation.py:13: UserWarning: 'data.DataLoader' is deprecated, use 'loader.DataLoader' instead\n",
      "  warnings.warn(out)\n"
     ]
    },
    {
     "name": "stdout",
     "output_type": "stream",
     "text": [
      "Epoch: 009, Train MAE: 0.0939, Train MSE: 0.0179\n",
      "Epoch: 009, Test MAE: 0.0973, Test MSE: 0.0122\n",
      "Time: 8.456748008728027\n",
      "---------------------------------------- 0.1\n",
      "graphs_train shape: 4011 graphs_train[0] shape: Data(x=[46, 47], edge_index=[2, 1], y=0.7858106644900136)\n",
      "graphs_test shape: 279 graphs_test[0] shape: Data(x=[46, 47], edge_index=[2, 1], y=0.932)\n"
     ]
    },
    {
     "name": "stderr",
     "output_type": "stream",
     "text": [
      "/Users/haox/opt/anaconda3/lib/python3.8/site-packages/torch_geometric/deprecation.py:13: UserWarning: 'data.DataLoader' is deprecated, use 'loader.DataLoader' instead\n",
      "  warnings.warn(out)\n"
     ]
    },
    {
     "name": "stdout",
     "output_type": "stream",
     "text": [
      "Epoch: 009, Train MAE: 0.0845, Train MSE: 0.0114\n",
      "Epoch: 009, Test MAE: 0.0785, Test MSE: 0.0075\n",
      "Time: 11.581902027130127\n",
      "---------------------------------------- 0.15000000000000002\n",
      "graphs_train shape: 5788 graphs_train[0] shape: Data(x=[46, 47], edge_index=[2, 1], y=0.6303610622434448)\n",
      "graphs_test shape: 279 graphs_test[0] shape: Data(x=[46, 47], edge_index=[2, 1], y=0.932)\n"
     ]
    },
    {
     "name": "stderr",
     "output_type": "stream",
     "text": [
      "/Users/haox/opt/anaconda3/lib/python3.8/site-packages/torch_geometric/deprecation.py:13: UserWarning: 'data.DataLoader' is deprecated, use 'loader.DataLoader' instead\n",
      "  warnings.warn(out)\n"
     ]
    },
    {
     "name": "stdout",
     "output_type": "stream",
     "text": [
      "Epoch: 009, Train MAE: 0.0943, Train MSE: 0.0143\n",
      "Epoch: 009, Test MAE: 0.1032, Test MSE: 0.0120\n",
      "Time: 16.315460681915283\n",
      "---------------------------------------- 0.2\n",
      "graphs_train shape: 6411 graphs_train[0] shape: Data(x=[46, 47], edge_index=[2, 1], y=0.7552428795420986)\n",
      "graphs_test shape: 279 graphs_test[0] shape: Data(x=[46, 47], edge_index=[2, 1], y=0.932)\n"
     ]
    },
    {
     "name": "stderr",
     "output_type": "stream",
     "text": [
      "/Users/haox/opt/anaconda3/lib/python3.8/site-packages/torch_geometric/deprecation.py:13: UserWarning: 'data.DataLoader' is deprecated, use 'loader.DataLoader' instead\n",
      "  warnings.warn(out)\n"
     ]
    },
    {
     "name": "stdout",
     "output_type": "stream",
     "text": [
      "Epoch: 009, Train MAE: 0.0840, Train MSE: 0.0123\n",
      "Epoch: 009, Test MAE: 0.0869, Test MSE: 0.0089\n",
      "Time: 20.403576135635376\n",
      "---------------------------------------- 0.25\n",
      "graphs_train shape: 7394 graphs_train[0] shape: Data(x=[46, 47], edge_index=[2, 1], y=0.7552428795420986)\n",
      "graphs_test shape: 279 graphs_test[0] shape: Data(x=[46, 47], edge_index=[2, 1], y=0.932)\n"
     ]
    },
    {
     "name": "stderr",
     "output_type": "stream",
     "text": [
      "/Users/haox/opt/anaconda3/lib/python3.8/site-packages/torch_geometric/deprecation.py:13: UserWarning: 'data.DataLoader' is deprecated, use 'loader.DataLoader' instead\n",
      "  warnings.warn(out)\n"
     ]
    },
    {
     "name": "stdout",
     "output_type": "stream",
     "text": [
      "Epoch: 009, Train MAE: 0.0854, Train MSE: 0.0138\n",
      "Epoch: 009, Test MAE: 0.0536, Test MSE: 0.0042\n",
      "Time: 26.692188262939453\n",
      "---------------------------------------- 0.3\n",
      "graphs_train shape: 8806 graphs_train[0] shape: Data(x=[46, 47], edge_index=[2, 1], y=0.45183333333333336)\n",
      "graphs_test shape: 279 graphs_test[0] shape: Data(x=[46, 47], edge_index=[2, 1], y=0.932)\n"
     ]
    },
    {
     "name": "stderr",
     "output_type": "stream",
     "text": [
      "/Users/haox/opt/anaconda3/lib/python3.8/site-packages/torch_geometric/deprecation.py:13: UserWarning: 'data.DataLoader' is deprecated, use 'loader.DataLoader' instead\n",
      "  warnings.warn(out)\n"
     ]
    },
    {
     "name": "stdout",
     "output_type": "stream",
     "text": [
      "Epoch: 009, Train MAE: 0.1096, Train MSE: 0.0233\n",
      "Epoch: 009, Test MAE: 0.0674, Test MSE: 0.0059\n",
      "Time: 25.248362064361572\n",
      "---------------------------------------- 0.35000000000000003\n",
      "++++++++++++++++++++++++++++++\n",
      "mfeat-factors_DDN+GIN_0.3 mfeat-factors_DDN+GIN_0.35\n",
      "28 28\n",
      "---------------------------------------- 0.4\n",
      "graphs_train shape: 10220 graphs_train[0] shape: Data(x=[46, 47], edge_index=[2, 1], y=0.45183333333333336)\n",
      "graphs_test shape: 279 graphs_test[0] shape: Data(x=[46, 47], edge_index=[2, 1], y=0.932)\n"
     ]
    },
    {
     "name": "stderr",
     "output_type": "stream",
     "text": [
      "/Users/haox/opt/anaconda3/lib/python3.8/site-packages/torch_geometric/deprecation.py:13: UserWarning: 'data.DataLoader' is deprecated, use 'loader.DataLoader' instead\n",
      "  warnings.warn(out)\n"
     ]
    },
    {
     "name": "stdout",
     "output_type": "stream",
     "text": [
      "Epoch: 009, Train MAE: 0.1330, Train MSE: 0.0312\n",
      "Epoch: 009, Test MAE: 0.0822, Test MSE: 0.0081\n",
      "Time: 29.85351824760437\n",
      "---------------------------------------- 0.45\n",
      "graphs_train shape: 10822 graphs_train[0] shape: Data(x=[46, 47], edge_index=[2, 1], y=0.45183333333333336)\n",
      "graphs_test shape: 279 graphs_test[0] shape: Data(x=[46, 47], edge_index=[2, 1], y=0.932)\n"
     ]
    },
    {
     "name": "stderr",
     "output_type": "stream",
     "text": [
      "/Users/haox/opt/anaconda3/lib/python3.8/site-packages/torch_geometric/deprecation.py:13: UserWarning: 'data.DataLoader' is deprecated, use 'loader.DataLoader' instead\n",
      "  warnings.warn(out)\n"
     ]
    },
    {
     "name": "stdout",
     "output_type": "stream",
     "text": [
      "Epoch: 009, Train MAE: 0.1416, Train MSE: 0.0342\n",
      "Epoch: 009, Test MAE: 0.0818, Test MSE: 0.0080\n",
      "Time: 32.30801200866699\n",
      "========================================\n",
      "28 MiniBooNE\n",
      "---------------------------------------- 0.05\n",
      "graphs_train shape: 2408 graphs_train[0] shape: Data(x=[46, 47], edge_index=[2, 1], y=0.7552428795420986)\n",
      "graphs_test shape: 311 graphs_test[0] shape: Data(x=[46, 47], edge_index=[2, 1], y=0.2798333333333334)\n"
     ]
    },
    {
     "name": "stderr",
     "output_type": "stream",
     "text": [
      "/Users/haox/opt/anaconda3/lib/python3.8/site-packages/torch_geometric/deprecation.py:13: UserWarning: 'data.DataLoader' is deprecated, use 'loader.DataLoader' instead\n",
      "  warnings.warn(out)\n"
     ]
    },
    {
     "name": "stdout",
     "output_type": "stream",
     "text": [
      "Epoch: 009, Train MAE: 0.0926, Train MSE: 0.0132\n",
      "Epoch: 009, Test MAE: 0.0795, Test MSE: 0.0359\n",
      "Time: 7.326910972595215\n",
      "---------------------------------------- 0.1\n",
      "graphs_train shape: 4382 graphs_train[0] shape: Data(x=[46, 47], edge_index=[2, 1], y=0.7552428795420986)\n",
      "graphs_test shape: 311 graphs_test[0] shape: Data(x=[46, 47], edge_index=[2, 1], y=0.2798333333333334)\n"
     ]
    },
    {
     "name": "stderr",
     "output_type": "stream",
     "text": [
      "/Users/haox/opt/anaconda3/lib/python3.8/site-packages/torch_geometric/deprecation.py:13: UserWarning: 'data.DataLoader' is deprecated, use 'loader.DataLoader' instead\n",
      "  warnings.warn(out)\n"
     ]
    },
    {
     "name": "stdout",
     "output_type": "stream",
     "text": [
      "Epoch: 009, Train MAE: 0.0909, Train MSE: 0.0114\n",
      "Epoch: 009, Test MAE: 0.1227, Test MSE: 0.0314\n",
      "Time: 12.603352785110474\n",
      "---------------------------------------- 0.15000000000000002\n",
      "graphs_train shape: 8339 graphs_train[0] shape: Data(x=[46, 47], edge_index=[2, 1], y=0.932)\n",
      "graphs_test shape: 311 graphs_test[0] shape: Data(x=[46, 47], edge_index=[2, 1], y=0.2798333333333334)\n"
     ]
    },
    {
     "name": "stderr",
     "output_type": "stream",
     "text": [
      "/Users/haox/opt/anaconda3/lib/python3.8/site-packages/torch_geometric/deprecation.py:13: UserWarning: 'data.DataLoader' is deprecated, use 'loader.DataLoader' instead\n",
      "  warnings.warn(out)\n"
     ]
    },
    {
     "name": "stdout",
     "output_type": "stream",
     "text": [
      "Epoch: 009, Train MAE: 0.0998, Train MSE: 0.0160\n",
      "Epoch: 009, Test MAE: 0.0866, Test MSE: 0.0310\n",
      "Time: 25.89838981628418\n",
      "---------------------------------------- 0.2\n",
      "graphs_train shape: 8774 graphs_train[0] shape: Data(x=[46, 47], edge_index=[2, 1], y=0.932)\n",
      "graphs_test shape: 311 graphs_test[0] shape: Data(x=[46, 47], edge_index=[2, 1], y=0.2798333333333334)\n"
     ]
    },
    {
     "name": "stderr",
     "output_type": "stream",
     "text": [
      "/Users/haox/opt/anaconda3/lib/python3.8/site-packages/torch_geometric/deprecation.py:13: UserWarning: 'data.DataLoader' is deprecated, use 'loader.DataLoader' instead\n",
      "  warnings.warn(out)\n"
     ]
    },
    {
     "name": "stdout",
     "output_type": "stream",
     "text": [
      "Epoch: 009, Train MAE: 0.1084, Train MSE: 0.0211\n",
      "Epoch: 009, Test MAE: 0.0800, Test MSE: 0.0315\n",
      "Time: 25.239008903503418\n",
      "---------------------------------------- 0.25\n",
      "graphs_train shape: 10188 graphs_train[0] shape: Data(x=[46, 47], edge_index=[2, 1], y=0.932)\n",
      "graphs_test shape: 311 graphs_test[0] shape: Data(x=[46, 47], edge_index=[2, 1], y=0.2798333333333334)\n"
     ]
    },
    {
     "name": "stderr",
     "output_type": "stream",
     "text": [
      "/Users/haox/opt/anaconda3/lib/python3.8/site-packages/torch_geometric/deprecation.py:13: UserWarning: 'data.DataLoader' is deprecated, use 'loader.DataLoader' instead\n",
      "  warnings.warn(out)\n"
     ]
    },
    {
     "name": "stdout",
     "output_type": "stream",
     "text": [
      "Epoch: 009, Train MAE: 0.1346, Train MSE: 0.0316\n",
      "Epoch: 009, Test MAE: 0.0765, Test MSE: 0.0321\n",
      "Time: 29.987777948379517\n",
      "---------------------------------------- 0.3\n",
      "graphs_train shape: 10790 graphs_train[0] shape: Data(x=[46, 47], edge_index=[2, 1], y=0.932)\n",
      "graphs_test shape: 311 graphs_test[0] shape: Data(x=[46, 47], edge_index=[2, 1], y=0.2798333333333334)\n"
     ]
    },
    {
     "name": "stderr",
     "output_type": "stream",
     "text": [
      "/Users/haox/opt/anaconda3/lib/python3.8/site-packages/torch_geometric/deprecation.py:13: UserWarning: 'data.DataLoader' is deprecated, use 'loader.DataLoader' instead\n",
      "  warnings.warn(out)\n"
     ]
    },
    {
     "name": "stdout",
     "output_type": "stream",
     "text": [
      "Epoch: 009, Train MAE: 0.1435, Train MSE: 0.0347\n",
      "Epoch: 009, Test MAE: 0.0766, Test MSE: 0.0321\n",
      "Time: 34.573474168777466\n",
      "---------------------------------------- 0.35000000000000003\n",
      "++++++++++++++++++++++++++++++\n",
      "MiniBooNE_DDN+GIN_0.3 MiniBooNE_DDN+GIN_0.35\n",
      "35 35\n",
      "---------------------------------------- 0.4\n",
      "graphs_train shape: 11133 graphs_train[0] shape: Data(x=[46, 47], edge_index=[2, 1], y=0.932)\n",
      "graphs_test shape: 311 graphs_test[0] shape: Data(x=[46, 47], edge_index=[2, 1], y=0.2798333333333334)\n"
     ]
    },
    {
     "name": "stderr",
     "output_type": "stream",
     "text": [
      "/Users/haox/opt/anaconda3/lib/python3.8/site-packages/torch_geometric/deprecation.py:13: UserWarning: 'data.DataLoader' is deprecated, use 'loader.DataLoader' instead\n",
      "  warnings.warn(out)\n"
     ]
    },
    {
     "name": "stdout",
     "output_type": "stream",
     "text": [
      "Epoch: 009, Train MAE: 0.1497, Train MSE: 0.0373\n",
      "Epoch: 009, Test MAE: 0.0773, Test MSE: 0.0319\n",
      "Time: 36.060770750045776\n",
      "---------------------------------------- 0.45\n",
      "++++++++++++++++++++++++++++++\n",
      "MiniBooNE_DDN+GIN_0.4 MiniBooNE_DDN+GIN_0.45\n",
      "36 36\n",
      "========================================\n",
      "29 nomao\n",
      "---------------------------------------- 0.05\n",
      "graphs_train shape: 3293 graphs_train[0] shape: Data(x=[46, 47], edge_index=[2, 1], y=0.932)\n",
      "graphs_test shape: 316 graphs_test[0] shape: Data(x=[46, 47], edge_index=[2, 1], y=0.7986666666666666)\n"
     ]
    },
    {
     "name": "stderr",
     "output_type": "stream",
     "text": [
      "/Users/haox/opt/anaconda3/lib/python3.8/site-packages/torch_geometric/deprecation.py:13: UserWarning: 'data.DataLoader' is deprecated, use 'loader.DataLoader' instead\n",
      "  warnings.warn(out)\n"
     ]
    },
    {
     "name": "stdout",
     "output_type": "stream",
     "text": [
      "Epoch: 009, Train MAE: 0.1267, Train MSE: 0.0251\n",
      "Epoch: 009, Test MAE: 0.1170, Test MSE: 0.0146\n",
      "Time: 10.695611000061035\n",
      "---------------------------------------- 0.1\n",
      "graphs_train shape: 5247 graphs_train[0] shape: Data(x=[46, 47], edge_index=[2, 1], y=0.932)\n",
      "graphs_test shape: 316 graphs_test[0] shape: Data(x=[46, 47], edge_index=[2, 1], y=0.7986666666666666)\n"
     ]
    },
    {
     "name": "stderr",
     "output_type": "stream",
     "text": [
      "/Users/haox/opt/anaconda3/lib/python3.8/site-packages/torch_geometric/deprecation.py:13: UserWarning: 'data.DataLoader' is deprecated, use 'loader.DataLoader' instead\n",
      "  warnings.warn(out)\n"
     ]
    },
    {
     "name": "stdout",
     "output_type": "stream",
     "text": [
      "Epoch: 009, Train MAE: 0.0977, Train MSE: 0.0148\n",
      "Epoch: 009, Test MAE: 0.0974, Test MSE: 0.0100\n",
      "Time: 16.048845052719116\n",
      "---------------------------------------- 0.15000000000000002\n",
      "graphs_train shape: 6374 graphs_train[0] shape: Data(x=[46, 47], edge_index=[2, 1], y=0.932)\n",
      "graphs_test shape: 316 graphs_test[0] shape: Data(x=[46, 47], edge_index=[2, 1], y=0.7986666666666666)\n"
     ]
    },
    {
     "name": "stderr",
     "output_type": "stream",
     "text": [
      "/Users/haox/opt/anaconda3/lib/python3.8/site-packages/torch_geometric/deprecation.py:13: UserWarning: 'data.DataLoader' is deprecated, use 'loader.DataLoader' instead\n",
      "  warnings.warn(out)\n"
     ]
    },
    {
     "name": "stdout",
     "output_type": "stream",
     "text": [
      "Epoch: 009, Train MAE: 0.0905, Train MSE: 0.0134\n",
      "Epoch: 009, Test MAE: 0.0941, Test MSE: 0.0093\n",
      "Time: 20.017455101013184\n",
      "---------------------------------------- 0.2\n",
      "graphs_train shape: 6709 graphs_train[0] shape: Data(x=[46, 47], edge_index=[2, 1], y=0.932)\n",
      "graphs_test shape: 316 graphs_test[0] shape: Data(x=[46, 47], edge_index=[2, 1], y=0.7986666666666666)\n"
     ]
    },
    {
     "name": "stderr",
     "output_type": "stream",
     "text": [
      "/Users/haox/opt/anaconda3/lib/python3.8/site-packages/torch_geometric/deprecation.py:13: UserWarning: 'data.DataLoader' is deprecated, use 'loader.DataLoader' instead\n",
      "  warnings.warn(out)\n"
     ]
    },
    {
     "name": "stdout",
     "output_type": "stream",
     "text": [
      "Epoch: 009, Train MAE: 0.0932, Train MSE: 0.0136\n",
      "Epoch: 009, Test MAE: 0.1012, Test MSE: 0.0108\n",
      "Time: 21.29388999938965\n",
      "---------------------------------------- 0.25\n",
      "graphs_train shape: 8334 graphs_train[0] shape: Data(x=[46, 47], edge_index=[2, 1], y=0.932)\n",
      "graphs_test shape: 316 graphs_test[0] shape: Data(x=[46, 47], edge_index=[2, 1], y=0.7986666666666666)\n"
     ]
    },
    {
     "name": "stderr",
     "output_type": "stream",
     "text": [
      "/Users/haox/opt/anaconda3/lib/python3.8/site-packages/torch_geometric/deprecation.py:13: UserWarning: 'data.DataLoader' is deprecated, use 'loader.DataLoader' instead\n",
      "  warnings.warn(out)\n"
     ]
    },
    {
     "name": "stdout",
     "output_type": "stream",
     "text": [
      "Epoch: 009, Train MAE: 0.0994, Train MSE: 0.0171\n",
      "Epoch: 009, Test MAE: 0.0781, Test MSE: 0.0065\n",
      "Time: 26.450518131256104\n",
      "---------------------------------------- 0.3\n",
      "graphs_train shape: 8769 graphs_train[0] shape: Data(x=[46, 47], edge_index=[2, 1], y=0.932)\n",
      "graphs_test shape: 316 graphs_test[0] shape: Data(x=[46, 47], edge_index=[2, 1], y=0.7986666666666666)\n"
     ]
    },
    {
     "name": "stderr",
     "output_type": "stream",
     "text": [
      "/Users/haox/opt/anaconda3/lib/python3.8/site-packages/torch_geometric/deprecation.py:13: UserWarning: 'data.DataLoader' is deprecated, use 'loader.DataLoader' instead\n",
      "  warnings.warn(out)\n"
     ]
    },
    {
     "name": "stdout",
     "output_type": "stream",
     "text": [
      "Epoch: 009, Train MAE: 0.1084, Train MSE: 0.0219\n",
      "Epoch: 009, Test MAE: 0.0780, Test MSE: 0.0065\n",
      "Time: 25.630446195602417\n",
      "---------------------------------------- 0.35000000000000003\n",
      "graphs_train shape: 10183 graphs_train[0] shape: Data(x=[46, 47], edge_index=[2, 1], y=0.932)\n",
      "graphs_test shape: 316 graphs_test[0] shape: Data(x=[46, 47], edge_index=[2, 1], y=0.7986666666666666)\n"
     ]
    },
    {
     "name": "stderr",
     "output_type": "stream",
     "text": [
      "/Users/haox/opt/anaconda3/lib/python3.8/site-packages/torch_geometric/deprecation.py:13: UserWarning: 'data.DataLoader' is deprecated, use 'loader.DataLoader' instead\n",
      "  warnings.warn(out)\n"
     ]
    },
    {
     "name": "stdout",
     "output_type": "stream",
     "text": [
      "Epoch: 009, Train MAE: 0.1332, Train MSE: 0.0312\n",
      "Epoch: 009, Test MAE: 0.0765, Test MSE: 0.0062\n",
      "Time: 30.23701810836792\n",
      "---------------------------------------- 0.4\n",
      "graphs_train shape: 10785 graphs_train[0] shape: Data(x=[46, 47], edge_index=[2, 1], y=0.932)\n",
      "graphs_test shape: 316 graphs_test[0] shape: Data(x=[46, 47], edge_index=[2, 1], y=0.7986666666666666)\n"
     ]
    },
    {
     "name": "stderr",
     "output_type": "stream",
     "text": [
      "/Users/haox/opt/anaconda3/lib/python3.8/site-packages/torch_geometric/deprecation.py:13: UserWarning: 'data.DataLoader' is deprecated, use 'loader.DataLoader' instead\n",
      "  warnings.warn(out)\n"
     ]
    },
    {
     "name": "stdout",
     "output_type": "stream",
     "text": [
      "Epoch: 009, Train MAE: 0.1419, Train MSE: 0.0342\n",
      "Epoch: 009, Test MAE: 0.0761, Test MSE: 0.0061\n",
      "Time: 32.13465976715088\n",
      "---------------------------------------- 0.45\n",
      "graphs_train shape: 11128 graphs_train[0] shape: Data(x=[46, 47], edge_index=[2, 1], y=0.932)\n",
      "graphs_test shape: 316 graphs_test[0] shape: Data(x=[46, 47], edge_index=[2, 1], y=0.7986666666666666)\n"
     ]
    },
    {
     "name": "stderr",
     "output_type": "stream",
     "text": [
      "/Users/haox/opt/anaconda3/lib/python3.8/site-packages/torch_geometric/deprecation.py:13: UserWarning: 'data.DataLoader' is deprecated, use 'loader.DataLoader' instead\n",
      "  warnings.warn(out)\n"
     ]
    },
    {
     "name": "stdout",
     "output_type": "stream",
     "text": [
      "Epoch: 009, Train MAE: 0.1483, Train MSE: 0.0370\n",
      "Epoch: 009, Test MAE: 0.0769, Test MSE: 0.0063\n",
      "Time: 35.46358394622803\n",
      "========================================\n",
      "30 numerai28.6\n",
      "---------------------------------------- 0.05\n",
      "---------------------------------------- 0.1\n",
      "graphs_train shape: 602 graphs_train[0] shape: Data(x=[46, 47], edge_index=[2, 1], y=0.589)\n",
      "graphs_test shape: 343 graphs_test[0] shape: Data(x=[46, 47], edge_index=[2, 1], y=0.518)\n"
     ]
    },
    {
     "name": "stderr",
     "output_type": "stream",
     "text": [
      "/Users/haox/opt/anaconda3/lib/python3.8/site-packages/torch_geometric/deprecation.py:13: UserWarning: 'data.DataLoader' is deprecated, use 'loader.DataLoader' instead\n",
      "  warnings.warn(out)\n"
     ]
    },
    {
     "name": "stdout",
     "output_type": "stream",
     "text": [
      "Epoch: 009, Train MAE: 0.0338, Train MSE: 0.0015\n",
      "Epoch: 009, Test MAE: 0.0677, Test MSE: 0.0046\n",
      "Time: 2.1992931365966797\n",
      "---------------------------------------- 0.15000000000000002\n",
      "graphs_train shape: 2135 graphs_train[0] shape: Data(x=[46, 47], edge_index=[2, 1], y=0.5485)\n",
      "graphs_test shape: 343 graphs_test[0] shape: Data(x=[46, 47], edge_index=[2, 1], y=0.518)\n"
     ]
    },
    {
     "name": "stderr",
     "output_type": "stream",
     "text": [
      "/Users/haox/opt/anaconda3/lib/python3.8/site-packages/torch_geometric/deprecation.py:13: UserWarning: 'data.DataLoader' is deprecated, use 'loader.DataLoader' instead\n",
      "  warnings.warn(out)\n"
     ]
    },
    {
     "name": "stdout",
     "output_type": "stream",
     "text": [
      "Epoch: 009, Train MAE: 0.0660, Train MSE: 0.0085\n",
      "Epoch: 009, Test MAE: 0.0614, Test MSE: 0.0038\n",
      "Time: 7.0767669677734375\n",
      "---------------------------------------- 0.2\n",
      "graphs_train shape: 2570 graphs_train[0] shape: Data(x=[46, 47], edge_index=[2, 1], y=0.6736413817340144)\n",
      "graphs_test shape: 343 graphs_test[0] shape: Data(x=[46, 47], edge_index=[2, 1], y=0.518)\n"
     ]
    },
    {
     "name": "stderr",
     "output_type": "stream",
     "text": [
      "/Users/haox/opt/anaconda3/lib/python3.8/site-packages/torch_geometric/deprecation.py:13: UserWarning: 'data.DataLoader' is deprecated, use 'loader.DataLoader' instead\n",
      "  warnings.warn(out)\n"
     ]
    },
    {
     "name": "stdout",
     "output_type": "stream",
     "text": [
      "Epoch: 009, Train MAE: 0.0922, Train MSE: 0.0141\n",
      "Epoch: 009, Test MAE: 0.0249, Test MSE: 0.0007\n",
      "Time: 7.984023094177246\n",
      "---------------------------------------- 0.25\n",
      "graphs_train shape: 4429 graphs_train[0] shape: Data(x=[46, 47], edge_index=[2, 1], y=0.45183333333333336)\n",
      "graphs_test shape: 343 graphs_test[0] shape: Data(x=[46, 47], edge_index=[2, 1], y=0.518)\n"
     ]
    },
    {
     "name": "stderr",
     "output_type": "stream",
     "text": [
      "/Users/haox/opt/anaconda3/lib/python3.8/site-packages/torch_geometric/deprecation.py:13: UserWarning: 'data.DataLoader' is deprecated, use 'loader.DataLoader' instead\n",
      "  warnings.warn(out)\n"
     ]
    },
    {
     "name": "stdout",
     "output_type": "stream",
     "text": [
      "Epoch: 009, Train MAE: 0.1150, Train MSE: 0.0239\n",
      "Epoch: 009, Test MAE: 0.0830, Test MSE: 0.0069\n",
      "Time: 13.062093257904053\n",
      "---------------------------------------- 0.3\n",
      "graphs_train shape: 4764 graphs_train[0] shape: Data(x=[46, 47], edge_index=[2, 1], y=0.45183333333333336)\n",
      "graphs_test shape: 343 graphs_test[0] shape: Data(x=[46, 47], edge_index=[2, 1], y=0.518)\n"
     ]
    },
    {
     "name": "stderr",
     "output_type": "stream",
     "text": [
      "/Users/haox/opt/anaconda3/lib/python3.8/site-packages/torch_geometric/deprecation.py:13: UserWarning: 'data.DataLoader' is deprecated, use 'loader.DataLoader' instead\n",
      "  warnings.warn(out)\n"
     ]
    },
    {
     "name": "stdout",
     "output_type": "stream",
     "text": [
      "Epoch: 009, Train MAE: 0.1139, Train MSE: 0.0243\n",
      "Epoch: 009, Test MAE: 0.1110, Test MSE: 0.0124\n",
      "Time: 14.654362201690674\n",
      "---------------------------------------- 0.35000000000000003\n",
      "graphs_train shape: 6539 graphs_train[0] shape: Data(x=[46, 47], edge_index=[2, 1], y=0.45183333333333336)\n",
      "graphs_test shape: 343 graphs_test[0] shape: Data(x=[46, 47], edge_index=[2, 1], y=0.518)\n"
     ]
    },
    {
     "name": "stderr",
     "output_type": "stream",
     "text": [
      "/Users/haox/opt/anaconda3/lib/python3.8/site-packages/torch_geometric/deprecation.py:13: UserWarning: 'data.DataLoader' is deprecated, use 'loader.DataLoader' instead\n",
      "  warnings.warn(out)\n"
     ]
    },
    {
     "name": "stdout",
     "output_type": "stream",
     "text": [
      "Epoch: 009, Train MAE: 0.1405, Train MSE: 0.0314\n",
      "Epoch: 009, Test MAE: 0.1044, Test MSE: 0.0110\n",
      "Time: 20.463239192962646\n",
      "---------------------------------------- 0.4\n",
      "graphs_train shape: 7483 graphs_train[0] shape: Data(x=[46, 47], edge_index=[2, 1], y=0.45183333333333336)\n",
      "graphs_test shape: 343 graphs_test[0] shape: Data(x=[46, 47], edge_index=[2, 1], y=0.518)\n"
     ]
    },
    {
     "name": "stderr",
     "output_type": "stream",
     "text": [
      "/Users/haox/opt/anaconda3/lib/python3.8/site-packages/torch_geometric/deprecation.py:13: UserWarning: 'data.DataLoader' is deprecated, use 'loader.DataLoader' instead\n",
      "  warnings.warn(out)\n"
     ]
    },
    {
     "name": "stdout",
     "output_type": "stream",
     "text": [
      "Epoch: 009, Train MAE: 0.1388, Train MSE: 0.0365\n",
      "Epoch: 009, Test MAE: 0.2631, Test MSE: 0.0693\n",
      "Time: 22.482990026474\n",
      "---------------------------------------- 0.45\n",
      "graphs_train shape: 9457 graphs_train[0] shape: Data(x=[46, 47], edge_index=[2, 1], y=0.45183333333333336)\n",
      "graphs_test shape: 343 graphs_test[0] shape: Data(x=[46, 47], edge_index=[2, 1], y=0.518)\n"
     ]
    },
    {
     "name": "stderr",
     "output_type": "stream",
     "text": [
      "/Users/haox/opt/anaconda3/lib/python3.8/site-packages/torch_geometric/deprecation.py:13: UserWarning: 'data.DataLoader' is deprecated, use 'loader.DataLoader' instead\n",
      "  warnings.warn(out)\n"
     ]
    },
    {
     "name": "stdout",
     "output_type": "stream",
     "text": [
      "Epoch: 009, Train MAE: 0.1417, Train MSE: 0.0340\n",
      "Epoch: 009, Test MAE: 0.2594, Test MSE: 0.0673\n",
      "Time: 28.143276929855347\n",
      "========================================\n",
      "31 phoneme\n",
      "---------------------------------------- 0.05\n",
      "graphs_train shape: 2074 graphs_train[0] shape: Data(x=[46, 47], edge_index=[2, 1], y=0.6303610622434448)\n",
      "graphs_test shape: 326 graphs_test[0] shape: Data(x=[46, 47], edge_index=[2, 1], y=0.7552428795420986)\n"
     ]
    },
    {
     "name": "stderr",
     "output_type": "stream",
     "text": [
      "/Users/haox/opt/anaconda3/lib/python3.8/site-packages/torch_geometric/deprecation.py:13: UserWarning: 'data.DataLoader' is deprecated, use 'loader.DataLoader' instead\n",
      "  warnings.warn(out)\n"
     ]
    },
    {
     "name": "stdout",
     "output_type": "stream",
     "text": [
      "Epoch: 009, Train MAE: 0.0760, Train MSE: 0.0131\n",
      "Epoch: 009, Test MAE: 0.0418, Test MSE: 0.0037\n",
      "Time: 6.834944009780884\n",
      "---------------------------------------- 0.1\n",
      "graphs_train shape: 4032 graphs_train[0] shape: Data(x=[46, 47], edge_index=[2, 1], y=0.6303610622434448)\n",
      "graphs_test shape: 326 graphs_test[0] shape: Data(x=[46, 47], edge_index=[2, 1], y=0.7552428795420986)\n"
     ]
    },
    {
     "name": "stderr",
     "output_type": "stream",
     "text": [
      "/Users/haox/opt/anaconda3/lib/python3.8/site-packages/torch_geometric/deprecation.py:13: UserWarning: 'data.DataLoader' is deprecated, use 'loader.DataLoader' instead\n",
      "  warnings.warn(out)\n"
     ]
    },
    {
     "name": "stdout",
     "output_type": "stream",
     "text": [
      "Epoch: 009, Train MAE: 0.0745, Train MSE: 0.0104\n",
      "Epoch: 009, Test MAE: 0.0476, Test MSE: 0.0032\n",
      "Time: 12.309439182281494\n",
      "---------------------------------------- 0.15000000000000002\n",
      "graphs_train shape: 7298 graphs_train[0] shape: Data(x=[46, 47], edge_index=[2, 1], y=0.45183333333333336)\n",
      "graphs_test shape: 326 graphs_test[0] shape: Data(x=[46, 47], edge_index=[2, 1], y=0.7552428795420986)\n"
     ]
    },
    {
     "name": "stderr",
     "output_type": "stream",
     "text": [
      "/Users/haox/opt/anaconda3/lib/python3.8/site-packages/torch_geometric/deprecation.py:13: UserWarning: 'data.DataLoader' is deprecated, use 'loader.DataLoader' instead\n",
      "  warnings.warn(out)\n"
     ]
    },
    {
     "name": "stdout",
     "output_type": "stream",
     "text": [
      "Epoch: 009, Train MAE: 0.1067, Train MSE: 0.0217\n",
      "Epoch: 009, Test MAE: 0.0415, Test MSE: 0.0036\n",
      "Time: 21.212972164154053\n",
      "---------------------------------------- 0.2\n",
      "graphs_train shape: 8990 graphs_train[0] shape: Data(x=[46, 47], edge_index=[2, 1], y=0.932)\n",
      "graphs_test shape: 326 graphs_test[0] shape: Data(x=[46, 47], edge_index=[2, 1], y=0.7552428795420986)\n"
     ]
    },
    {
     "name": "stderr",
     "output_type": "stream",
     "text": [
      "/Users/haox/opt/anaconda3/lib/python3.8/site-packages/torch_geometric/deprecation.py:13: UserWarning: 'data.DataLoader' is deprecated, use 'loader.DataLoader' instead\n",
      "  warnings.warn(out)\n"
     ]
    },
    {
     "name": "stdout",
     "output_type": "stream",
     "text": [
      "Epoch: 009, Train MAE: 0.1145, Train MSE: 0.0248\n",
      "Epoch: 009, Test MAE: 0.0514, Test MSE: 0.0053\n",
      "Time: 26.184401988983154\n",
      "---------------------------------------- 0.25\n",
      "graphs_train shape: 10173 graphs_train[0] shape: Data(x=[46, 47], edge_index=[2, 1], y=0.932)\n",
      "graphs_test shape: 326 graphs_test[0] shape: Data(x=[46, 47], edge_index=[2, 1], y=0.7552428795420986)\n"
     ]
    },
    {
     "name": "stderr",
     "output_type": "stream",
     "text": [
      "/Users/haox/opt/anaconda3/lib/python3.8/site-packages/torch_geometric/deprecation.py:13: UserWarning: 'data.DataLoader' is deprecated, use 'loader.DataLoader' instead\n",
      "  warnings.warn(out)\n"
     ]
    },
    {
     "name": "stdout",
     "output_type": "stream",
     "text": [
      "Epoch: 009, Train MAE: 0.1342, Train MSE: 0.0312\n",
      "Epoch: 009, Test MAE: 0.0425, Test MSE: 0.0038\n",
      "Time: 29.511677980422974\n",
      "---------------------------------------- 0.3\n",
      "graphs_train shape: 10775 graphs_train[0] shape: Data(x=[46, 47], edge_index=[2, 1], y=0.932)\n",
      "graphs_test shape: 326 graphs_test[0] shape: Data(x=[46, 47], edge_index=[2, 1], y=0.7552428795420986)\n"
     ]
    },
    {
     "name": "stderr",
     "output_type": "stream",
     "text": [
      "/Users/haox/opt/anaconda3/lib/python3.8/site-packages/torch_geometric/deprecation.py:13: UserWarning: 'data.DataLoader' is deprecated, use 'loader.DataLoader' instead\n",
      "  warnings.warn(out)\n"
     ]
    },
    {
     "name": "stdout",
     "output_type": "stream",
     "text": [
      "Epoch: 009, Train MAE: 0.1429, Train MSE: 0.0343\n",
      "Epoch: 009, Test MAE: 0.0429, Test MSE: 0.0039\n",
      "Time: 33.745827198028564\n",
      "---------------------------------------- 0.35000000000000003\n",
      "graphs_train shape: 11118 graphs_train[0] shape: Data(x=[46, 47], edge_index=[2, 1], y=0.932)\n",
      "graphs_test shape: 326 graphs_test[0] shape: Data(x=[46, 47], edge_index=[2, 1], y=0.7552428795420986)\n"
     ]
    },
    {
     "name": "stderr",
     "output_type": "stream",
     "text": [
      "/Users/haox/opt/anaconda3/lib/python3.8/site-packages/torch_geometric/deprecation.py:13: UserWarning: 'data.DataLoader' is deprecated, use 'loader.DataLoader' instead\n",
      "  warnings.warn(out)\n"
     ]
    },
    {
     "name": "stdout",
     "output_type": "stream",
     "text": [
      "Epoch: 009, Train MAE: 0.1493, Train MSE: 0.0370\n",
      "Epoch: 009, Test MAE: 0.0426, Test MSE: 0.0038\n",
      "Time: 31.652765035629272\n",
      "---------------------------------------- 0.4\n",
      "++++++++++++++++++++++++++++++\n",
      "phoneme_DDN+GIN_0.35 phoneme_DDN+GIN_0.4\n",
      "36 36\n",
      "---------------------------------------- 0.45\n",
      "graphs_train shape: 11237 graphs_train[0] shape: Data(x=[46, 47], edge_index=[2, 1], y=0.932)\n",
      "graphs_test shape: 326 graphs_test[0] shape: Data(x=[46, 47], edge_index=[2, 1], y=0.7552428795420986)\n"
     ]
    },
    {
     "name": "stderr",
     "output_type": "stream",
     "text": [
      "/Users/haox/opt/anaconda3/lib/python3.8/site-packages/torch_geometric/deprecation.py:13: UserWarning: 'data.DataLoader' is deprecated, use 'loader.DataLoader' instead\n",
      "  warnings.warn(out)\n"
     ]
    },
    {
     "name": "stdout",
     "output_type": "stream",
     "text": [
      "Epoch: 009, Train MAE: 0.1535, Train MSE: 0.0398\n",
      "Epoch: 009, Test MAE: 0.0426, Test MSE: 0.0038\n",
      "Time: 33.896564960479736\n",
      "========================================\n",
      "32 riccardo\n",
      "---------------------------------------- 0.05\n",
      "graphs_train shape: 3386 graphs_train[0] shape: Data(x=[46, 47], edge_index=[2, 1], y=0.932)\n",
      "graphs_test shape: 217 graphs_test[0] shape: Data(x=[46, 47], edge_index=[2, 1], y=0.7208333333333333)\n"
     ]
    },
    {
     "name": "stderr",
     "output_type": "stream",
     "text": [
      "/Users/haox/opt/anaconda3/lib/python3.8/site-packages/torch_geometric/deprecation.py:13: UserWarning: 'data.DataLoader' is deprecated, use 'loader.DataLoader' instead\n",
      "  warnings.warn(out)\n"
     ]
    },
    {
     "name": "stdout",
     "output_type": "stream",
     "text": [
      "Epoch: 009, Train MAE: 0.0956, Train MSE: 0.0173\n",
      "Epoch: 009, Test MAE: 0.1277, Test MSE: 0.0213\n",
      "Time: 10.555250883102417\n",
      "---------------------------------------- 0.1\n",
      "graphs_train shape: 4073 graphs_train[0] shape: Data(x=[46, 47], edge_index=[2, 1], y=0.932)\n",
      "graphs_test shape: 217 graphs_test[0] shape: Data(x=[46, 47], edge_index=[2, 1], y=0.7208333333333333)\n"
     ]
    },
    {
     "name": "stderr",
     "output_type": "stream",
     "text": [
      "/Users/haox/opt/anaconda3/lib/python3.8/site-packages/torch_geometric/deprecation.py:13: UserWarning: 'data.DataLoader' is deprecated, use 'loader.DataLoader' instead\n",
      "  warnings.warn(out)\n"
     ]
    },
    {
     "name": "stdout",
     "output_type": "stream",
     "text": [
      "Epoch: 009, Train MAE: 0.0622, Train MSE: 0.0086\n",
      "Epoch: 009, Test MAE: 0.0572, Test MSE: 0.0051\n",
      "Time: 12.027677059173584\n",
      "---------------------------------------- 0.15000000000000002\n",
      "graphs_train shape: 6473 graphs_train[0] shape: Data(x=[46, 47], edge_index=[2, 1], y=0.932)\n",
      "graphs_test shape: 217 graphs_test[0] shape: Data(x=[46, 47], edge_index=[2, 1], y=0.7208333333333333)\n"
     ]
    },
    {
     "name": "stderr",
     "output_type": "stream",
     "text": [
      "/Users/haox/opt/anaconda3/lib/python3.8/site-packages/torch_geometric/deprecation.py:13: UserWarning: 'data.DataLoader' is deprecated, use 'loader.DataLoader' instead\n",
      "  warnings.warn(out)\n"
     ]
    },
    {
     "name": "stdout",
     "output_type": "stream",
     "text": [
      "Epoch: 009, Train MAE: 0.0769, Train MSE: 0.0115\n",
      "Epoch: 009, Test MAE: 0.0621, Test MSE: 0.0054\n",
      "Time: 19.40511202812195\n",
      "---------------------------------------- 0.2\n",
      "++++++++++++++++++++++++++++++\n",
      "riccardo_DDN+GIN_0.15 riccardo_DDN+GIN_0.2\n",
      "20 20\n",
      "---------------------------------------- 0.25\n",
      "graphs_train shape: 7732 graphs_train[0] shape: Data(x=[46, 47], edge_index=[2, 1], y=0.932)\n",
      "graphs_test shape: 217 graphs_test[0] shape: Data(x=[46, 47], edge_index=[2, 1], y=0.7208333333333333)\n"
     ]
    },
    {
     "name": "stderr",
     "output_type": "stream",
     "text": [
      "/Users/haox/opt/anaconda3/lib/python3.8/site-packages/torch_geometric/deprecation.py:13: UserWarning: 'data.DataLoader' is deprecated, use 'loader.DataLoader' instead\n",
      "  warnings.warn(out)\n"
     ]
    },
    {
     "name": "stdout",
     "output_type": "stream",
     "text": [
      "Epoch: 009, Train MAE: 0.0901, Train MSE: 0.0156\n",
      "Epoch: 009, Test MAE: 0.0591, Test MSE: 0.0052\n",
      "Time: 25.369368076324463\n",
      "---------------------------------------- 0.3\n",
      "graphs_train shape: 8868 graphs_train[0] shape: Data(x=[46, 47], edge_index=[2, 1], y=0.932)\n",
      "graphs_test shape: 217 graphs_test[0] shape: Data(x=[46, 47], edge_index=[2, 1], y=0.7208333333333333)\n"
     ]
    },
    {
     "name": "stderr",
     "output_type": "stream",
     "text": [
      "/Users/haox/opt/anaconda3/lib/python3.8/site-packages/torch_geometric/deprecation.py:13: UserWarning: 'data.DataLoader' is deprecated, use 'loader.DataLoader' instead\n",
      "  warnings.warn(out)\n"
     ]
    },
    {
     "name": "stdout",
     "output_type": "stream",
     "text": [
      "Epoch: 009, Train MAE: 0.1089, Train MSE: 0.0227\n",
      "Epoch: 009, Test MAE: 0.0659, Test MSE: 0.0060\n",
      "Time: 25.644301176071167\n",
      "---------------------------------------- 0.35000000000000003\n",
      "graphs_train shape: 9997 graphs_train[0] shape: Data(x=[46, 47], edge_index=[2, 1], y=0.932)\n",
      "graphs_test shape: 217 graphs_test[0] shape: Data(x=[46, 47], edge_index=[2, 1], y=0.7208333333333333)\n"
     ]
    },
    {
     "name": "stderr",
     "output_type": "stream",
     "text": [
      "/Users/haox/opt/anaconda3/lib/python3.8/site-packages/torch_geometric/deprecation.py:13: UserWarning: 'data.DataLoader' is deprecated, use 'loader.DataLoader' instead\n",
      "  warnings.warn(out)\n"
     ]
    },
    {
     "name": "stdout",
     "output_type": "stream",
     "text": [
      "Epoch: 009, Train MAE: 0.1285, Train MSE: 0.0297\n",
      "Epoch: 009, Test MAE: 0.0698, Test MSE: 0.0065\n",
      "Time: 27.815162897109985\n",
      "---------------------------------------- 0.4\n",
      "graphs_train shape: 10563 graphs_train[0] shape: Data(x=[46, 47], edge_index=[2, 1], y=0.932)\n",
      "graphs_test shape: 217 graphs_test[0] shape: Data(x=[46, 47], edge_index=[2, 1], y=0.7208333333333333)\n"
     ]
    },
    {
     "name": "stderr",
     "output_type": "stream",
     "text": [
      "/Users/haox/opt/anaconda3/lib/python3.8/site-packages/torch_geometric/deprecation.py:13: UserWarning: 'data.DataLoader' is deprecated, use 'loader.DataLoader' instead\n",
      "  warnings.warn(out)\n"
     ]
    },
    {
     "name": "stdout",
     "output_type": "stream",
     "text": [
      "Epoch: 009, Train MAE: 0.1369, Train MSE: 0.0324\n",
      "Epoch: 009, Test MAE: 0.0726, Test MSE: 0.0068\n",
      "Time: 30.64607000350952\n",
      "---------------------------------------- 0.45\n",
      "graphs_train shape: 10884 graphs_train[0] shape: Data(x=[46, 47], edge_index=[2, 1], y=0.932)\n",
      "graphs_test shape: 217 graphs_test[0] shape: Data(x=[46, 47], edge_index=[2, 1], y=0.7208333333333333)\n"
     ]
    },
    {
     "name": "stderr",
     "output_type": "stream",
     "text": [
      "/Users/haox/opt/anaconda3/lib/python3.8/site-packages/torch_geometric/deprecation.py:13: UserWarning: 'data.DataLoader' is deprecated, use 'loader.DataLoader' instead\n",
      "  warnings.warn(out)\n"
     ]
    },
    {
     "name": "stdout",
     "output_type": "stream",
     "text": [
      "Epoch: 009, Train MAE: 0.1411, Train MSE: 0.0338\n",
      "Epoch: 009, Test MAE: 0.0729, Test MSE: 0.0069\n",
      "Time: 34.06888389587402\n",
      "========================================\n",
      "33 robert\n",
      "---------------------------------------- 0.05\n",
      "---------------------------------------- 0.1\n",
      "---------------------------------------- 0.15000000000000002\n",
      "graphs_train shape: 577 graphs_train[0] shape: Data(x=[46, 47], edge_index=[2, 1], y=0.19849999999999998)\n",
      "graphs_test shape: 119 graphs_test[0] shape: Data(x=[46, 47], edge_index=[2, 1], y=0.36366666666666664)\n"
     ]
    },
    {
     "name": "stderr",
     "output_type": "stream",
     "text": [
      "/Users/haox/opt/anaconda3/lib/python3.8/site-packages/torch_geometric/deprecation.py:13: UserWarning: 'data.DataLoader' is deprecated, use 'loader.DataLoader' instead\n",
      "  warnings.warn(out)\n"
     ]
    },
    {
     "name": "stdout",
     "output_type": "stream",
     "text": [
      "Epoch: 009, Train MAE: 0.1359, Train MSE: 0.0234\n",
      "Epoch: 009, Test MAE: 0.0948, Test MSE: 0.0146\n",
      "Time: 2.025459051132202\n",
      "---------------------------------------- 0.2\n",
      "graphs_train shape: 1179 graphs_train[0] shape: Data(x=[46, 47], edge_index=[2, 1], y=0.589)\n",
      "graphs_test shape: 119 graphs_test[0] shape: Data(x=[46, 47], edge_index=[2, 1], y=0.36366666666666664)\n"
     ]
    },
    {
     "name": "stderr",
     "output_type": "stream",
     "text": [
      "/Users/haox/opt/anaconda3/lib/python3.8/site-packages/torch_geometric/deprecation.py:13: UserWarning: 'data.DataLoader' is deprecated, use 'loader.DataLoader' instead\n",
      "  warnings.warn(out)\n"
     ]
    },
    {
     "name": "stdout",
     "output_type": "stream",
     "text": [
      "Epoch: 009, Train MAE: 0.1225, Train MSE: 0.0215\n",
      "Epoch: 009, Test MAE: 0.1385, Test MSE: 0.0249\n",
      "Time: 3.799592971801758\n",
      "---------------------------------------- 0.25\n",
      "graphs_train shape: 2593 graphs_train[0] shape: Data(x=[46, 47], edge_index=[2, 1], y=0.5485)\n",
      "graphs_test shape: 119 graphs_test[0] shape: Data(x=[46, 47], edge_index=[2, 1], y=0.36366666666666664)\n"
     ]
    },
    {
     "name": "stderr",
     "output_type": "stream",
     "text": [
      "/Users/haox/opt/anaconda3/lib/python3.8/site-packages/torch_geometric/deprecation.py:13: UserWarning: 'data.DataLoader' is deprecated, use 'loader.DataLoader' instead\n",
      "  warnings.warn(out)\n"
     ]
    },
    {
     "name": "stdout",
     "output_type": "stream",
     "text": [
      "Epoch: 009, Train MAE: 0.0978, Train MSE: 0.0216\n",
      "Epoch: 009, Test MAE: 0.2942, Test MSE: 0.0922\n",
      "Time: 9.045176029205322\n",
      "---------------------------------------- 0.3\n",
      "++++++++++++++++++++++++++++++\n",
      "robert_DDN+GIN_0.25 robert_DDN+GIN_0.3\n",
      "9 9\n",
      "---------------------------------------- 0.35000000000000003\n",
      "graphs_train shape: 4005 graphs_train[0] shape: Data(x=[46, 47], edge_index=[2, 1], y=0.45183333333333336)\n",
      "graphs_test shape: 119 graphs_test[0] shape: Data(x=[46, 47], edge_index=[2, 1], y=0.36366666666666664)\n"
     ]
    },
    {
     "name": "stderr",
     "output_type": "stream",
     "text": [
      "/Users/haox/opt/anaconda3/lib/python3.8/site-packages/torch_geometric/deprecation.py:13: UserWarning: 'data.DataLoader' is deprecated, use 'loader.DataLoader' instead\n",
      "  warnings.warn(out)\n"
     ]
    },
    {
     "name": "stdout",
     "output_type": "stream",
     "text": [
      "Epoch: 009, Train MAE: 0.1017, Train MSE: 0.0207\n",
      "Epoch: 009, Test MAE: 0.2769, Test MSE: 0.0824\n",
      "Time: 14.041263818740845\n",
      "---------------------------------------- 0.4\n",
      "graphs_train shape: 4988 graphs_train[0] shape: Data(x=[46, 47], edge_index=[2, 1], y=0.45183333333333336)\n",
      "graphs_test shape: 119 graphs_test[0] shape: Data(x=[46, 47], edge_index=[2, 1], y=0.36366666666666664)\n"
     ]
    },
    {
     "name": "stderr",
     "output_type": "stream",
     "text": [
      "/Users/haox/opt/anaconda3/lib/python3.8/site-packages/torch_geometric/deprecation.py:13: UserWarning: 'data.DataLoader' is deprecated, use 'loader.DataLoader' instead\n",
      "  warnings.warn(out)\n"
     ]
    },
    {
     "name": "stdout",
     "output_type": "stream",
     "text": [
      "Epoch: 009, Train MAE: 0.1132, Train MSE: 0.0249\n",
      "Epoch: 009, Test MAE: 0.3427, Test MSE: 0.1231\n",
      "Time: 15.981137037277222\n",
      "---------------------------------------- 0.45\n",
      "graphs_train shape: 5611 graphs_train[0] shape: Data(x=[46, 47], edge_index=[2, 1], y=0.45183333333333336)\n",
      "graphs_test shape: 119 graphs_test[0] shape: Data(x=[46, 47], edge_index=[2, 1], y=0.36366666666666664)\n"
     ]
    },
    {
     "name": "stderr",
     "output_type": "stream",
     "text": [
      "/Users/haox/opt/anaconda3/lib/python3.8/site-packages/torch_geometric/deprecation.py:13: UserWarning: 'data.DataLoader' is deprecated, use 'loader.DataLoader' instead\n",
      "  warnings.warn(out)\n"
     ]
    },
    {
     "name": "stdout",
     "output_type": "stream",
     "text": [
      "Epoch: 009, Train MAE: 0.1152, Train MSE: 0.0232\n",
      "Epoch: 009, Test MAE: 0.3072, Test MSE: 0.1001\n",
      "Time: 16.322837352752686\n",
      "========================================\n",
      "34 segment\n",
      "---------------------------------------- 0.05\n",
      "graphs_train shape: 3269 graphs_train[0] shape: Data(x=[46, 47], edge_index=[2, 1], y=0.932)\n",
      "graphs_test shape: 340 graphs_test[0] shape: Data(x=[46, 47], edge_index=[2, 1], y=0.7858106644900136)\n"
     ]
    },
    {
     "name": "stderr",
     "output_type": "stream",
     "text": [
      "/Users/haox/opt/anaconda3/lib/python3.8/site-packages/torch_geometric/deprecation.py:13: UserWarning: 'data.DataLoader' is deprecated, use 'loader.DataLoader' instead\n",
      "  warnings.warn(out)\n"
     ]
    },
    {
     "name": "stdout",
     "output_type": "stream",
     "text": [
      "Epoch: 009, Train MAE: 0.1268, Train MSE: 0.0245\n",
      "Epoch: 009, Test MAE: 0.1236, Test MSE: 0.0211\n",
      "Time: 9.991659879684448\n",
      "---------------------------------------- 0.1\n",
      "graphs_train shape: 5223 graphs_train[0] shape: Data(x=[46, 47], edge_index=[2, 1], y=0.932)\n",
      "graphs_test shape: 340 graphs_test[0] shape: Data(x=[46, 47], edge_index=[2, 1], y=0.7858106644900136)\n"
     ]
    },
    {
     "name": "stderr",
     "output_type": "stream",
     "text": [
      "/Users/haox/opt/anaconda3/lib/python3.8/site-packages/torch_geometric/deprecation.py:13: UserWarning: 'data.DataLoader' is deprecated, use 'loader.DataLoader' instead\n",
      "  warnings.warn(out)\n"
     ]
    },
    {
     "name": "stdout",
     "output_type": "stream",
     "text": [
      "Epoch: 009, Train MAE: 0.0720, Train MSE: 0.0148\n",
      "Epoch: 009, Test MAE: 0.0457, Test MSE: 0.0082\n",
      "Time: 17.11166000366211\n",
      "---------------------------------------- 0.15000000000000002\n",
      "graphs_train shape: 6350 graphs_train[0] shape: Data(x=[46, 47], edge_index=[2, 1], y=0.932)\n",
      "graphs_test shape: 340 graphs_test[0] shape: Data(x=[46, 47], edge_index=[2, 1], y=0.7858106644900136)\n"
     ]
    },
    {
     "name": "stderr",
     "output_type": "stream",
     "text": [
      "/Users/haox/opt/anaconda3/lib/python3.8/site-packages/torch_geometric/deprecation.py:13: UserWarning: 'data.DataLoader' is deprecated, use 'loader.DataLoader' instead\n",
      "  warnings.warn(out)\n"
     ]
    },
    {
     "name": "stdout",
     "output_type": "stream",
     "text": [
      "Epoch: 009, Train MAE: 0.0936, Train MSE: 0.0138\n",
      "Epoch: 009, Test MAE: 0.1114, Test MSE: 0.0146\n",
      "Time: 21.395133018493652\n",
      "---------------------------------------- 0.2\n",
      "graphs_train shape: 6685 graphs_train[0] shape: Data(x=[46, 47], edge_index=[2, 1], y=0.932)\n",
      "graphs_test shape: 340 graphs_test[0] shape: Data(x=[46, 47], edge_index=[2, 1], y=0.7858106644900136)\n"
     ]
    },
    {
     "name": "stderr",
     "output_type": "stream",
     "text": [
      "/Users/haox/opt/anaconda3/lib/python3.8/site-packages/torch_geometric/deprecation.py:13: UserWarning: 'data.DataLoader' is deprecated, use 'loader.DataLoader' instead\n",
      "  warnings.warn(out)\n"
     ]
    },
    {
     "name": "stdout",
     "output_type": "stream",
     "text": [
      "Epoch: 009, Train MAE: 0.0918, Train MSE: 0.0133\n",
      "Epoch: 009, Test MAE: 0.1103, Test MSE: 0.0143\n",
      "Time: 19.686152935028076\n",
      "---------------------------------------- 0.25\n",
      "graphs_train shape: 8472 graphs_train[0] shape: Data(x=[46, 47], edge_index=[2, 1], y=0.932)\n",
      "graphs_test shape: 340 graphs_test[0] shape: Data(x=[46, 47], edge_index=[2, 1], y=0.7858106644900136)\n"
     ]
    },
    {
     "name": "stderr",
     "output_type": "stream",
     "text": [
      "/Users/haox/opt/anaconda3/lib/python3.8/site-packages/torch_geometric/deprecation.py:13: UserWarning: 'data.DataLoader' is deprecated, use 'loader.DataLoader' instead\n",
      "  warnings.warn(out)\n"
     ]
    },
    {
     "name": "stdout",
     "output_type": "stream",
     "text": [
      "Epoch: 009, Train MAE: 0.1056, Train MSE: 0.0216\n",
      "Epoch: 009, Test MAE: 0.0888, Test MSE: 0.0101\n",
      "Time: 25.371957063674927\n",
      "---------------------------------------- 0.3\n",
      "graphs_train shape: 8745 graphs_train[0] shape: Data(x=[46, 47], edge_index=[2, 1], y=0.932)\n",
      "graphs_test shape: 340 graphs_test[0] shape: Data(x=[46, 47], edge_index=[2, 1], y=0.7858106644900136)\n"
     ]
    },
    {
     "name": "stderr",
     "output_type": "stream",
     "text": [
      "/Users/haox/opt/anaconda3/lib/python3.8/site-packages/torch_geometric/deprecation.py:13: UserWarning: 'data.DataLoader' is deprecated, use 'loader.DataLoader' instead\n",
      "  warnings.warn(out)\n"
     ]
    },
    {
     "name": "stdout",
     "output_type": "stream",
     "text": [
      "Epoch: 009, Train MAE: 0.1079, Train MSE: 0.0217\n",
      "Epoch: 009, Test MAE: 0.0933, Test MSE: 0.0109\n",
      "Time: 26.510177850723267\n",
      "---------------------------------------- 0.35000000000000003\n",
      "graphs_train shape: 10159 graphs_train[0] shape: Data(x=[46, 47], edge_index=[2, 1], y=0.932)\n",
      "graphs_test shape: 340 graphs_test[0] shape: Data(x=[46, 47], edge_index=[2, 1], y=0.7858106644900136)\n"
     ]
    },
    {
     "name": "stderr",
     "output_type": "stream",
     "text": [
      "/Users/haox/opt/anaconda3/lib/python3.8/site-packages/torch_geometric/deprecation.py:13: UserWarning: 'data.DataLoader' is deprecated, use 'loader.DataLoader' instead\n",
      "  warnings.warn(out)\n"
     ]
    },
    {
     "name": "stdout",
     "output_type": "stream",
     "text": [
      "Epoch: 009, Train MAE: 0.1328, Train MSE: 0.0311\n",
      "Epoch: 009, Test MAE: 0.0913, Test MSE: 0.0105\n",
      "Time: 67.96639633178711\n",
      "---------------------------------------- 0.4\n",
      "graphs_train shape: 10761 graphs_train[0] shape: Data(x=[46, 47], edge_index=[2, 1], y=0.932)\n",
      "graphs_test shape: 340 graphs_test[0] shape: Data(x=[46, 47], edge_index=[2, 1], y=0.7858106644900136)\n"
     ]
    },
    {
     "name": "stderr",
     "output_type": "stream",
     "text": [
      "/Users/haox/opt/anaconda3/lib/python3.8/site-packages/torch_geometric/deprecation.py:13: UserWarning: 'data.DataLoader' is deprecated, use 'loader.DataLoader' instead\n",
      "  warnings.warn(out)\n"
     ]
    },
    {
     "name": "stdout",
     "output_type": "stream",
     "text": [
      "Epoch: 009, Train MAE: 0.1416, Train MSE: 0.0342\n",
      "Epoch: 009, Test MAE: 0.0904, Test MSE: 0.0104\n",
      "Time: 74.2476441860199\n",
      "---------------------------------------- 0.45\n",
      "graphs_train shape: 11104 graphs_train[0] shape: Data(x=[46, 47], edge_index=[2, 1], y=0.932)\n",
      "graphs_test shape: 340 graphs_test[0] shape: Data(x=[46, 47], edge_index=[2, 1], y=0.7858106644900136)\n"
     ]
    },
    {
     "name": "stderr",
     "output_type": "stream",
     "text": [
      "/Users/haox/opt/anaconda3/lib/python3.8/site-packages/torch_geometric/deprecation.py:13: UserWarning: 'data.DataLoader' is deprecated, use 'loader.DataLoader' instead\n",
      "  warnings.warn(out)\n"
     ]
    },
    {
     "name": "stdout",
     "output_type": "stream",
     "text": [
      "Epoch: 009, Train MAE: 0.1481, Train MSE: 0.0369\n",
      "Epoch: 009, Test MAE: 0.0911, Test MSE: 0.0105\n",
      "Time: 34.118221044540405\n",
      "========================================\n",
      "35 shuttle\n",
      "---------------------------------------- 0.05\n",
      "graphs_train shape: 2244 graphs_train[0] shape: Data(x=[46, 47], edge_index=[2, 1], y=0.932)\n",
      "graphs_test shape: 409 graphs_test[0] shape: Data(x=[46, 47], edge_index=[2, 1], y=0.9188333333333334)\n"
     ]
    },
    {
     "name": "stderr",
     "output_type": "stream",
     "text": [
      "/Users/haox/opt/anaconda3/lib/python3.8/site-packages/torch_geometric/deprecation.py:13: UserWarning: 'data.DataLoader' is deprecated, use 'loader.DataLoader' instead\n",
      "  warnings.warn(out)\n"
     ]
    },
    {
     "name": "stdout",
     "output_type": "stream",
     "text": [
      "Epoch: 009, Train MAE: 0.0400, Train MSE: 0.0111\n",
      "Epoch: 009, Test MAE: 0.0296, Test MSE: 0.0022\n",
      "Time: 6.689218997955322\n",
      "---------------------------------------- 0.1\n",
      "graphs_train shape: 3881 graphs_train[0] shape: Data(x=[46, 47], edge_index=[2, 1], y=0.932)\n",
      "graphs_test shape: 409 graphs_test[0] shape: Data(x=[46, 47], edge_index=[2, 1], y=0.9188333333333334)\n"
     ]
    },
    {
     "name": "stderr",
     "output_type": "stream",
     "text": [
      "/Users/haox/opt/anaconda3/lib/python3.8/site-packages/torch_geometric/deprecation.py:13: UserWarning: 'data.DataLoader' is deprecated, use 'loader.DataLoader' instead\n",
      "  warnings.warn(out)\n"
     ]
    },
    {
     "name": "stdout",
     "output_type": "stream",
     "text": [
      "Epoch: 009, Train MAE: 0.1056, Train MSE: 0.0150\n",
      "Epoch: 009, Test MAE: 0.1445, Test MSE: 0.0219\n",
      "Time: 11.104942083358765\n",
      "---------------------------------------- 0.15000000000000002\n",
      "graphs_train shape: 5154 graphs_train[0] shape: Data(x=[46, 47], edge_index=[2, 1], y=0.932)\n",
      "graphs_test shape: 409 graphs_test[0] shape: Data(x=[46, 47], edge_index=[2, 1], y=0.9188333333333334)\n"
     ]
    },
    {
     "name": "stderr",
     "output_type": "stream",
     "text": [
      "/Users/haox/opt/anaconda3/lib/python3.8/site-packages/torch_geometric/deprecation.py:13: UserWarning: 'data.DataLoader' is deprecated, use 'loader.DataLoader' instead\n",
      "  warnings.warn(out)\n"
     ]
    },
    {
     "name": "stdout",
     "output_type": "stream",
     "text": [
      "Epoch: 009, Train MAE: 0.0719, Train MSE: 0.0107\n",
      "Epoch: 009, Test MAE: 0.1033, Test MSE: 0.0117\n",
      "Time: 14.642076969146729\n",
      "---------------------------------------- 0.2\n",
      "graphs_train shape: 6281 graphs_train[0] shape: Data(x=[46, 47], edge_index=[2, 1], y=0.932)\n",
      "graphs_test shape: 409 graphs_test[0] shape: Data(x=[46, 47], edge_index=[2, 1], y=0.9188333333333334)\n"
     ]
    },
    {
     "name": "stderr",
     "output_type": "stream",
     "text": [
      "/Users/haox/opt/anaconda3/lib/python3.8/site-packages/torch_geometric/deprecation.py:13: UserWarning: 'data.DataLoader' is deprecated, use 'loader.DataLoader' instead\n",
      "  warnings.warn(out)\n"
     ]
    },
    {
     "name": "stdout",
     "output_type": "stream",
     "text": [
      "Epoch: 009, Train MAE: 0.0842, Train MSE: 0.0122\n",
      "Epoch: 009, Test MAE: 0.1303, Test MSE: 0.0180\n",
      "Time: 18.660308122634888\n",
      "---------------------------------------- 0.25\n",
      "graphs_train shape: 7264 graphs_train[0] shape: Data(x=[46, 47], edge_index=[2, 1], y=0.932)\n",
      "graphs_test shape: 409 graphs_test[0] shape: Data(x=[46, 47], edge_index=[2, 1], y=0.9188333333333334)\n"
     ]
    },
    {
     "name": "stderr",
     "output_type": "stream",
     "text": [
      "/Users/haox/opt/anaconda3/lib/python3.8/site-packages/torch_geometric/deprecation.py:13: UserWarning: 'data.DataLoader' is deprecated, use 'loader.DataLoader' instead\n",
      "  warnings.warn(out)\n"
     ]
    },
    {
     "name": "stdout",
     "output_type": "stream",
     "text": [
      "Epoch: 009, Train MAE: 0.0966, Train MSE: 0.0142\n",
      "Epoch: 009, Test MAE: 0.1595, Test MSE: 0.0264\n",
      "Time: 21.249396800994873\n",
      "---------------------------------------- 0.3\n",
      "graphs_train shape: 8403 graphs_train[0] shape: Data(x=[46, 47], edge_index=[2, 1], y=0.932)\n",
      "graphs_test shape: 409 graphs_test[0] shape: Data(x=[46, 47], edge_index=[2, 1], y=0.9188333333333334)\n"
     ]
    },
    {
     "name": "stderr",
     "output_type": "stream",
     "text": [
      "/Users/haox/opt/anaconda3/lib/python3.8/site-packages/torch_geometric/deprecation.py:13: UserWarning: 'data.DataLoader' is deprecated, use 'loader.DataLoader' instead\n",
      "  warnings.warn(out)\n"
     ]
    },
    {
     "name": "stdout",
     "output_type": "stream",
     "text": [
      "Epoch: 009, Train MAE: 0.1064, Train MSE: 0.0204\n",
      "Epoch: 009, Test MAE: 0.1472, Test MSE: 0.0227\n",
      "Time: 25.825031757354736\n",
      "---------------------------------------- 0.35000000000000003\n",
      "graphs_train shape: 8676 graphs_train[0] shape: Data(x=[46, 47], edge_index=[2, 1], y=0.932)\n",
      "graphs_test shape: 409 graphs_test[0] shape: Data(x=[46, 47], edge_index=[2, 1], y=0.9188333333333334)\n"
     ]
    },
    {
     "name": "stderr",
     "output_type": "stream",
     "text": [
      "/Users/haox/opt/anaconda3/lib/python3.8/site-packages/torch_geometric/deprecation.py:13: UserWarning: 'data.DataLoader' is deprecated, use 'loader.DataLoader' instead\n",
      "  warnings.warn(out)\n"
     ]
    },
    {
     "name": "stdout",
     "output_type": "stream",
     "text": [
      "Epoch: 009, Train MAE: 0.1115, Train MSE: 0.0207\n",
      "Epoch: 009, Test MAE: 0.1686, Test MSE: 0.0294\n",
      "Time: 26.186267137527466\n",
      "---------------------------------------- 0.4\n",
      "graphs_train shape: 10090 graphs_train[0] shape: Data(x=[46, 47], edge_index=[2, 1], y=0.932)\n",
      "graphs_test shape: 409 graphs_test[0] shape: Data(x=[46, 47], edge_index=[2, 1], y=0.9188333333333334)\n"
     ]
    },
    {
     "name": "stderr",
     "output_type": "stream",
     "text": [
      "/Users/haox/opt/anaconda3/lib/python3.8/site-packages/torch_geometric/deprecation.py:13: UserWarning: 'data.DataLoader' is deprecated, use 'loader.DataLoader' instead\n",
      "  warnings.warn(out)\n"
     ]
    },
    {
     "name": "stdout",
     "output_type": "stream",
     "text": [
      "Epoch: 009, Train MAE: 0.1289, Train MSE: 0.0275\n",
      "Epoch: 009, Test MAE: 0.1521, Test MSE: 0.0241\n",
      "Time: 28.66268491744995\n",
      "---------------------------------------- 0.45\n",
      "graphs_train shape: 10692 graphs_train[0] shape: Data(x=[46, 47], edge_index=[2, 1], y=0.932)\n",
      "graphs_test shape: 409 graphs_test[0] shape: Data(x=[46, 47], edge_index=[2, 1], y=0.9188333333333334)\n"
     ]
    },
    {
     "name": "stderr",
     "output_type": "stream",
     "text": [
      "/Users/haox/opt/anaconda3/lib/python3.8/site-packages/torch_geometric/deprecation.py:13: UserWarning: 'data.DataLoader' is deprecated, use 'loader.DataLoader' instead\n",
      "  warnings.warn(out)\n"
     ]
    },
    {
     "name": "stdout",
     "output_type": "stream",
     "text": [
      "Epoch: 009, Train MAE: 0.1360, Train MSE: 0.0299\n",
      "Epoch: 009, Test MAE: 0.1498, Test MSE: 0.0234\n",
      "Time: 30.039126873016357\n",
      "========================================\n",
      "36 sylvine\n",
      "---------------------------------------- 0.05\n",
      "graphs_train shape: 1925 graphs_train[0] shape: Data(x=[46, 47], edge_index=[2, 1], y=0.7858106644900136)\n",
      "graphs_test shape: 368 graphs_test[0] shape: Data(x=[46, 47], edge_index=[2, 1], y=0.8907147404638058)\n"
     ]
    },
    {
     "name": "stderr",
     "output_type": "stream",
     "text": [
      "/Users/haox/opt/anaconda3/lib/python3.8/site-packages/torch_geometric/deprecation.py:13: UserWarning: 'data.DataLoader' is deprecated, use 'loader.DataLoader' instead\n",
      "  warnings.warn(out)\n"
     ]
    },
    {
     "name": "stdout",
     "output_type": "stream",
     "text": [
      "Epoch: 009, Train MAE: 0.1003, Train MSE: 0.0121\n",
      "Epoch: 009, Test MAE: 0.0842, Test MSE: 0.0087\n",
      "Time: 5.850096940994263\n",
      "---------------------------------------- 0.1\n",
      "graphs_train shape: 6322 graphs_train[0] shape: Data(x=[46, 47], edge_index=[2, 1], y=0.932)\n",
      "graphs_test shape: 368 graphs_test[0] shape: Data(x=[46, 47], edge_index=[2, 1], y=0.8907147404638058)\n"
     ]
    },
    {
     "name": "stderr",
     "output_type": "stream",
     "text": [
      "/Users/haox/opt/anaconda3/lib/python3.8/site-packages/torch_geometric/deprecation.py:13: UserWarning: 'data.DataLoader' is deprecated, use 'loader.DataLoader' instead\n",
      "  warnings.warn(out)\n"
     ]
    },
    {
     "name": "stdout",
     "output_type": "stream",
     "text": [
      "Epoch: 009, Train MAE: 0.0947, Train MSE: 0.0141\n",
      "Epoch: 009, Test MAE: 0.0746, Test MSE: 0.0073\n",
      "Time: 18.09140396118164\n",
      "---------------------------------------- 0.15000000000000002\n",
      "++++++++++++++++++++++++++++++\n",
      "sylvine_DDN+GIN_0.1 sylvine_DDN+GIN_0.15\n",
      "20 20\n",
      "---------------------------------------- 0.2\n",
      "graphs_train shape: 7903 graphs_train[0] shape: Data(x=[46, 47], edge_index=[2, 1], y=0.932)\n",
      "graphs_test shape: 368 graphs_test[0] shape: Data(x=[46, 47], edge_index=[2, 1], y=0.8907147404638058)\n"
     ]
    },
    {
     "name": "stderr",
     "output_type": "stream",
     "text": [
      "/Users/haox/opt/anaconda3/lib/python3.8/site-packages/torch_geometric/deprecation.py:13: UserWarning: 'data.DataLoader' is deprecated, use 'loader.DataLoader' instead\n",
      "  warnings.warn(out)\n"
     ]
    },
    {
     "name": "stdout",
     "output_type": "stream",
     "text": [
      "Epoch: 009, Train MAE: 0.0964, Train MSE: 0.0168\n",
      "Epoch: 009, Test MAE: 0.0539, Test MSE: 0.0059\n",
      "Time: 22.872374057769775\n",
      "---------------------------------------- 0.25\n",
      "graphs_train shape: 8717 graphs_train[0] shape: Data(x=[46, 47], edge_index=[2, 1], y=0.932)\n",
      "graphs_test shape: 368 graphs_test[0] shape: Data(x=[46, 47], edge_index=[2, 1], y=0.8907147404638058)\n"
     ]
    },
    {
     "name": "stderr",
     "output_type": "stream",
     "text": [
      "/Users/haox/opt/anaconda3/lib/python3.8/site-packages/torch_geometric/deprecation.py:13: UserWarning: 'data.DataLoader' is deprecated, use 'loader.DataLoader' instead\n",
      "  warnings.warn(out)\n"
     ]
    },
    {
     "name": "stdout",
     "output_type": "stream",
     "text": [
      "Epoch: 009, Train MAE: 0.1092, Train MSE: 0.0218\n",
      "Epoch: 009, Test MAE: 0.0635, Test MSE: 0.0062\n",
      "Time: 25.69184112548828\n",
      "---------------------------------------- 0.3\n",
      "graphs_train shape: 10131 graphs_train[0] shape: Data(x=[46, 47], edge_index=[2, 1], y=0.932)\n",
      "graphs_test shape: 368 graphs_test[0] shape: Data(x=[46, 47], edge_index=[2, 1], y=0.8907147404638058)\n"
     ]
    },
    {
     "name": "stderr",
     "output_type": "stream",
     "text": [
      "/Users/haox/opt/anaconda3/lib/python3.8/site-packages/torch_geometric/deprecation.py:13: UserWarning: 'data.DataLoader' is deprecated, use 'loader.DataLoader' instead\n",
      "  warnings.warn(out)\n"
     ]
    },
    {
     "name": "stdout",
     "output_type": "stream",
     "text": [
      "Epoch: 009, Train MAE: 0.1340, Train MSE: 0.0313\n",
      "Epoch: 009, Test MAE: 0.0615, Test MSE: 0.0061\n",
      "Time: 32.726638078689575\n",
      "---------------------------------------- 0.35000000000000003\n",
      "graphs_train shape: 10412 graphs_train[0] shape: Data(x=[46, 47], edge_index=[2, 1], y=0.932)\n",
      "graphs_test shape: 368 graphs_test[0] shape: Data(x=[46, 47], edge_index=[2, 1], y=0.8907147404638058)\n"
     ]
    },
    {
     "name": "stderr",
     "output_type": "stream",
     "text": [
      "/Users/haox/opt/anaconda3/lib/python3.8/site-packages/torch_geometric/deprecation.py:13: UserWarning: 'data.DataLoader' is deprecated, use 'loader.DataLoader' instead\n",
      "  warnings.warn(out)\n"
     ]
    },
    {
     "name": "stdout",
     "output_type": "stream",
     "text": [
      "Epoch: 009, Train MAE: 0.1383, Train MSE: 0.0329\n",
      "Epoch: 009, Test MAE: 0.0611, Test MSE: 0.0061\n",
      "Time: 32.442264795303345\n",
      "---------------------------------------- 0.4\n",
      "graphs_train shape: 10733 graphs_train[0] shape: Data(x=[46, 47], edge_index=[2, 1], y=0.932)\n",
      "graphs_test shape: 368 graphs_test[0] shape: Data(x=[46, 47], edge_index=[2, 1], y=0.8907147404638058)\n"
     ]
    },
    {
     "name": "stderr",
     "output_type": "stream",
     "text": [
      "/Users/haox/opt/anaconda3/lib/python3.8/site-packages/torch_geometric/deprecation.py:13: UserWarning: 'data.DataLoader' is deprecated, use 'loader.DataLoader' instead\n",
      "  warnings.warn(out)\n"
     ]
    },
    {
     "name": "stdout",
     "output_type": "stream",
     "text": [
      "Epoch: 009, Train MAE: 0.1426, Train MSE: 0.0343\n",
      "Epoch: 009, Test MAE: 0.0612, Test MSE: 0.0061\n",
      "Time: 31.670111179351807\n",
      "---------------------------------------- 0.45\n",
      "graphs_train shape: 11076 graphs_train[0] shape: Data(x=[46, 47], edge_index=[2, 1], y=0.932)\n",
      "graphs_test shape: 368 graphs_test[0] shape: Data(x=[46, 47], edge_index=[2, 1], y=0.8907147404638058)\n"
     ]
    },
    {
     "name": "stderr",
     "output_type": "stream",
     "text": [
      "/Users/haox/opt/anaconda3/lib/python3.8/site-packages/torch_geometric/deprecation.py:13: UserWarning: 'data.DataLoader' is deprecated, use 'loader.DataLoader' instead\n",
      "  warnings.warn(out)\n"
     ]
    },
    {
     "name": "stdout",
     "output_type": "stream",
     "text": [
      "Epoch: 009, Train MAE: 0.1493, Train MSE: 0.0372\n",
      "Epoch: 009, Test MAE: 0.0613, Test MSE: 0.0061\n",
      "Time: 36.46437311172485\n",
      "========================================\n",
      "37 vehicle\n",
      "---------------------------------------- 0.05\n",
      "graphs_train shape: 2016 graphs_train[0] shape: Data(x=[46, 47], edge_index=[2, 1], y=0.45183333333333336)\n",
      "graphs_test shape: 379 graphs_test[0] shape: Data(x=[46, 47], edge_index=[2, 1], y=0.4556213017751479)\n"
     ]
    },
    {
     "name": "stderr",
     "output_type": "stream",
     "text": [
      "/Users/haox/opt/anaconda3/lib/python3.8/site-packages/torch_geometric/deprecation.py:13: UserWarning: 'data.DataLoader' is deprecated, use 'loader.DataLoader' instead\n",
      "  warnings.warn(out)\n"
     ]
    },
    {
     "name": "stdout",
     "output_type": "stream",
     "text": [
      "Epoch: 009, Train MAE: 0.1033, Train MSE: 0.0275\n",
      "Epoch: 009, Test MAE: 0.0900, Test MSE: 0.0151\n",
      "Time: 6.278412103652954\n",
      "---------------------------------------- 0.1\n",
      "graphs_train shape: 3430 graphs_train[0] shape: Data(x=[46, 47], edge_index=[2, 1], y=0.45183333333333336)\n",
      "graphs_test shape: 379 graphs_test[0] shape: Data(x=[46, 47], edge_index=[2, 1], y=0.4556213017751479)\n"
     ]
    },
    {
     "name": "stderr",
     "output_type": "stream",
     "text": [
      "/Users/haox/opt/anaconda3/lib/python3.8/site-packages/torch_geometric/deprecation.py:13: UserWarning: 'data.DataLoader' is deprecated, use 'loader.DataLoader' instead\n",
      "  warnings.warn(out)\n"
     ]
    },
    {
     "name": "stdout",
     "output_type": "stream",
     "text": [
      "Epoch: 009, Train MAE: 0.1081, Train MSE: 0.0185\n",
      "Epoch: 009, Test MAE: 0.1170, Test MSE: 0.0163\n",
      "Time: 10.377467155456543\n",
      "---------------------------------------- 0.15000000000000002\n",
      "graphs_train shape: 6111 graphs_train[0] shape: Data(x=[46, 47], edge_index=[2, 1], y=0.45183333333333336)\n",
      "graphs_test shape: 379 graphs_test[0] shape: Data(x=[46, 47], edge_index=[2, 1], y=0.4556213017751479)\n"
     ]
    },
    {
     "name": "stderr",
     "output_type": "stream",
     "text": [
      "/Users/haox/opt/anaconda3/lib/python3.8/site-packages/torch_geometric/deprecation.py:13: UserWarning: 'data.DataLoader' is deprecated, use 'loader.DataLoader' instead\n",
      "  warnings.warn(out)\n"
     ]
    },
    {
     "name": "stdout",
     "output_type": "stream",
     "text": [
      "Epoch: 009, Train MAE: 0.1363, Train MSE: 0.0328\n",
      "Epoch: 009, Test MAE: 0.1224, Test MSE: 0.0223\n",
      "Time: 21.4603910446167\n",
      "---------------------------------------- 0.2\n",
      "graphs_train shape: 6751 graphs_train[0] shape: Data(x=[46, 47], edge_index=[2, 1], y=0.45183333333333336)\n",
      "graphs_test shape: 379 graphs_test[0] shape: Data(x=[46, 47], edge_index=[2, 1], y=0.4556213017751479)\n"
     ]
    },
    {
     "name": "stderr",
     "output_type": "stream",
     "text": [
      "/Users/haox/opt/anaconda3/lib/python3.8/site-packages/torch_geometric/deprecation.py:13: UserWarning: 'data.DataLoader' is deprecated, use 'loader.DataLoader' instead\n",
      "  warnings.warn(out)\n"
     ]
    },
    {
     "name": "stdout",
     "output_type": "stream",
     "text": [
      "Epoch: 009, Train MAE: 0.1434, Train MSE: 0.0354\n",
      "Epoch: 009, Test MAE: 0.1350, Test MSE: 0.0256\n",
      "Time: 22.552467107772827\n",
      "---------------------------------------- 0.25\n",
      "graphs_train shape: 9068 graphs_train[0] shape: Data(x=[46, 47], edge_index=[2, 1], y=0.45183333333333336)\n",
      "graphs_test shape: 379 graphs_test[0] shape: Data(x=[46, 47], edge_index=[2, 1], y=0.4556213017751479)\n"
     ]
    },
    {
     "name": "stderr",
     "output_type": "stream",
     "text": [
      "/Users/haox/opt/anaconda3/lib/python3.8/site-packages/torch_geometric/deprecation.py:13: UserWarning: 'data.DataLoader' is deprecated, use 'loader.DataLoader' instead\n",
      "  warnings.warn(out)\n"
     ]
    },
    {
     "name": "stdout",
     "output_type": "stream",
     "text": [
      "Epoch: 009, Train MAE: 0.1347, Train MSE: 0.0279\n",
      "Epoch: 009, Test MAE: 0.0936, Test MSE: 0.0158\n",
      "Time: 29.40567922592163\n",
      "---------------------------------------- 0.3\n",
      "graphs_train shape: 11065 graphs_train[0] shape: Data(x=[46, 47], edge_index=[2, 1], y=0.932)\n",
      "graphs_test shape: 379 graphs_test[0] shape: Data(x=[46, 47], edge_index=[2, 1], y=0.4556213017751479)\n"
     ]
    },
    {
     "name": "stderr",
     "output_type": "stream",
     "text": [
      "/Users/haox/opt/anaconda3/lib/python3.8/site-packages/torch_geometric/deprecation.py:13: UserWarning: 'data.DataLoader' is deprecated, use 'loader.DataLoader' instead\n",
      "  warnings.warn(out)\n"
     ]
    },
    {
     "name": "stdout",
     "output_type": "stream",
     "text": [
      "Epoch: 009, Train MAE: 0.1454, Train MSE: 0.0360\n",
      "Epoch: 009, Test MAE: 0.1709, Test MSE: 0.0365\n",
      "Time: 34.54967784881592\n",
      "---------------------------------------- 0.35000000000000003\n",
      "graphs_train shape: 11184 graphs_train[0] shape: Data(x=[46, 47], edge_index=[2, 1], y=0.932)\n",
      "graphs_test shape: 379 graphs_test[0] shape: Data(x=[46, 47], edge_index=[2, 1], y=0.4556213017751479)\n"
     ]
    },
    {
     "name": "stderr",
     "output_type": "stream",
     "text": [
      "/Users/haox/opt/anaconda3/lib/python3.8/site-packages/torch_geometric/deprecation.py:13: UserWarning: 'data.DataLoader' is deprecated, use 'loader.DataLoader' instead\n",
      "  warnings.warn(out)\n"
     ]
    },
    {
     "name": "stdout",
     "output_type": "stream",
     "text": [
      "Epoch: 009, Train MAE: 0.1495, Train MSE: 0.0387\n",
      "Epoch: 009, Test MAE: 0.1702, Test MSE: 0.0363\n",
      "Time: 36.46677899360657\n",
      "---------------------------------------- 0.4\n",
      "++++++++++++++++++++++++++++++\n",
      "vehicle_DDN+GIN_0.35 vehicle_DDN+GIN_0.4\n",
      "37 37\n",
      "---------------------------------------- 0.45\n",
      "graphs_train shape: 11418 graphs_train[0] shape: Data(x=[46, 47], edge_index=[2, 1], y=0.932)\n",
      "graphs_test shape: 379 graphs_test[0] shape: Data(x=[46, 47], edge_index=[2, 1], y=0.4556213017751479)\n"
     ]
    },
    {
     "name": "stderr",
     "output_type": "stream",
     "text": [
      "/Users/haox/opt/anaconda3/lib/python3.8/site-packages/torch_geometric/deprecation.py:13: UserWarning: 'data.DataLoader' is deprecated, use 'loader.DataLoader' instead\n",
      "  warnings.warn(out)\n"
     ]
    },
    {
     "name": "stdout",
     "output_type": "stream",
     "text": [
      "Epoch: 009, Train MAE: 0.1593, Train MSE: 0.0463\n",
      "Epoch: 009, Test MAE: 0.1684, Test MSE: 0.0357\n",
      "Time: 36.191503047943115\n",
      "========================================\n",
      "38 volkert\n",
      "---------------------------------------- 0.05\n",
      "graphs_train shape: 1057 graphs_train[0] shape: Data(x=[46, 47], edge_index=[2, 1], y=0.5485)\n",
      "graphs_test shape: 357 graphs_test[0] shape: Data(x=[46, 47], edge_index=[2, 1], y=0.30466666666666664)\n"
     ]
    },
    {
     "name": "stderr",
     "output_type": "stream",
     "text": [
      "/Users/haox/opt/anaconda3/lib/python3.8/site-packages/torch_geometric/deprecation.py:13: UserWarning: 'data.DataLoader' is deprecated, use 'loader.DataLoader' instead\n",
      "  warnings.warn(out)\n"
     ]
    },
    {
     "name": "stdout",
     "output_type": "stream",
     "text": [
      "Epoch: 009, Train MAE: 0.0607, Train MSE: 0.0061\n",
      "Epoch: 009, Test MAE: 0.1256, Test MSE: 0.0227\n",
      "Time: 3.9291861057281494\n",
      "---------------------------------------- 0.1\n",
      "graphs_train shape: 2795 graphs_train[0] shape: Data(x=[46, 47], edge_index=[2, 1], y=0.4556213017751479)\n",
      "graphs_test shape: 357 graphs_test[0] shape: Data(x=[46, 47], edge_index=[2, 1], y=0.30466666666666664)\n"
     ]
    },
    {
     "name": "stderr",
     "output_type": "stream",
     "text": [
      "/Users/haox/opt/anaconda3/lib/python3.8/site-packages/torch_geometric/deprecation.py:13: UserWarning: 'data.DataLoader' is deprecated, use 'loader.DataLoader' instead\n",
      "  warnings.warn(out)\n"
     ]
    },
    {
     "name": "stdout",
     "output_type": "stream",
     "text": [
      "Epoch: 009, Train MAE: 0.0840, Train MSE: 0.0125\n",
      "Epoch: 009, Test MAE: 0.0741, Test MSE: 0.0114\n",
      "Time: 9.130691766738892\n",
      "---------------------------------------- 0.15000000000000002\n",
      "graphs_train shape: 4397 graphs_train[0] shape: Data(x=[46, 47], edge_index=[2, 1], y=0.45183333333333336)\n",
      "graphs_test shape: 357 graphs_test[0] shape: Data(x=[46, 47], edge_index=[2, 1], y=0.30466666666666664)\n"
     ]
    },
    {
     "name": "stderr",
     "output_type": "stream",
     "text": [
      "/Users/haox/opt/anaconda3/lib/python3.8/site-packages/torch_geometric/deprecation.py:13: UserWarning: 'data.DataLoader' is deprecated, use 'loader.DataLoader' instead\n",
      "  warnings.warn(out)\n"
     ]
    },
    {
     "name": "stdout",
     "output_type": "stream",
     "text": [
      "Epoch: 009, Train MAE: 0.1138, Train MSE: 0.0196\n",
      "Epoch: 009, Test MAE: 0.0696, Test MSE: 0.0093\n",
      "Time: 13.063477039337158\n",
      "---------------------------------------- 0.2\n",
      "++++++++++++++++++++++++++++++\n",
      "volkert_DDN+GIN_0.15 volkert_DDN+GIN_0.2\n",
      "15 15\n",
      "---------------------------------------- 0.25\n",
      "graphs_train shape: 6916 graphs_train[0] shape: Data(x=[46, 47], edge_index=[2, 1], y=0.45183333333333336)\n",
      "graphs_test shape: 357 graphs_test[0] shape: Data(x=[46, 47], edge_index=[2, 1], y=0.30466666666666664)\n"
     ]
    },
    {
     "name": "stderr",
     "output_type": "stream",
     "text": [
      "/Users/haox/opt/anaconda3/lib/python3.8/site-packages/torch_geometric/deprecation.py:13: UserWarning: 'data.DataLoader' is deprecated, use 'loader.DataLoader' instead\n",
      "  warnings.warn(out)\n"
     ]
    },
    {
     "name": "stdout",
     "output_type": "stream",
     "text": [
      "Epoch: 009, Train MAE: 0.1178, Train MSE: 0.0232\n",
      "Epoch: 009, Test MAE: 0.2056, Test MSE: 0.0492\n",
      "Time: 21.955822229385376\n",
      "---------------------------------------- 0.3\n",
      "graphs_train shape: 7891 graphs_train[0] shape: Data(x=[46, 47], edge_index=[2, 1], y=0.45183333333333336)\n",
      "graphs_test shape: 357 graphs_test[0] shape: Data(x=[46, 47], edge_index=[2, 1], y=0.30466666666666664)\n"
     ]
    },
    {
     "name": "stderr",
     "output_type": "stream",
     "text": [
      "/Users/haox/opt/anaconda3/lib/python3.8/site-packages/torch_geometric/deprecation.py:13: UserWarning: 'data.DataLoader' is deprecated, use 'loader.DataLoader' instead\n",
      "  warnings.warn(out)\n"
     ]
    },
    {
     "name": "stdout",
     "output_type": "stream",
     "text": [
      "Epoch: 009, Train MAE: 0.1238, Train MSE: 0.0245\n",
      "Epoch: 009, Test MAE: 0.2223, Test MSE: 0.0563\n",
      "Time: 25.598948001861572\n",
      "---------------------------------------- 0.35000000000000003\n",
      "graphs_train shape: 9660 graphs_train[0] shape: Data(x=[46, 47], edge_index=[2, 1], y=0.45183333333333336)\n",
      "graphs_test shape: 357 graphs_test[0] shape: Data(x=[46, 47], edge_index=[2, 1], y=0.30466666666666664)\n"
     ]
    },
    {
     "name": "stderr",
     "output_type": "stream",
     "text": [
      "/Users/haox/opt/anaconda3/lib/python3.8/site-packages/torch_geometric/deprecation.py:13: UserWarning: 'data.DataLoader' is deprecated, use 'loader.DataLoader' instead\n",
      "  warnings.warn(out)\n"
     ]
    },
    {
     "name": "stdout",
     "output_type": "stream",
     "text": [
      "Epoch: 009, Train MAE: 0.1445, Train MSE: 0.0368\n",
      "Epoch: 009, Test MAE: 0.2880, Test MSE: 0.0899\n",
      "Time: 29.806519031524658\n",
      "---------------------------------------- 0.4\n",
      "graphs_train shape: 11440 graphs_train[0] shape: Data(x=[46, 47], edge_index=[2, 1], y=0.932)\n",
      "graphs_test shape: 357 graphs_test[0] shape: Data(x=[46, 47], edge_index=[2, 1], y=0.30466666666666664)\n"
     ]
    },
    {
     "name": "stderr",
     "output_type": "stream",
     "text": [
      "/Users/haox/opt/anaconda3/lib/python3.8/site-packages/torch_geometric/deprecation.py:13: UserWarning: 'data.DataLoader' is deprecated, use 'loader.DataLoader' instead\n",
      "  warnings.warn(out)\n"
     ]
    },
    {
     "name": "stdout",
     "output_type": "stream",
     "text": [
      "Epoch: 009, Train MAE: 0.1546, Train MSE: 0.0441\n",
      "Epoch: 009, Test MAE: 0.3510, Test MSE: 0.1302\n",
      "Time: 34.55955505371094\n",
      "---------------------------------------- 0.45\n",
      "++++++++++++++++++++++++++++++\n",
      "volkert_DDN+GIN_0.4 volkert_DDN+GIN_0.45\n",
      "38 38\n"
     ]
    }
   ],
   "source": [
    "from torch_geometric.data import DataLoader\n",
    "\n",
    "target_test_pred_time = {}\n",
    "data_names = list(DDN.keys())\n",
    "data_embed = DDN\n",
    "batch_size = 64\n",
    "\n",
    "for data_index, data_name in enumerate(data_names):\n",
    "    print(\"=\"*40)\n",
    "    print(data_index, data_name)\n",
    "    \n",
    "    task_test = [data_name]\n",
    "    candidate_score = DDN[data_name]\n",
    "    prev_key = None\n",
    "    dict_key = None\n",
    "    len_task_train = 0\n",
    "    prev_len_task_train = 0\n",
    "    for threshold in np.arange(0.05, 0.5, 0.05):\n",
    "        print(\"-\"*40, threshold)\n",
    "        prev_key = dict_key\n",
    "        dict_key = '_'.join([data_name, combination_name, str(round(threshold,2))])\n",
    "        \n",
    "        start = time.time()\n",
    "        task_train = [i for i in data_names if i!=data_name and abs(DDN[i]-candidate_score)<threshold]\n",
    "        prev_len_task_train = len_task_train\n",
    "        len_task_train = len(task_train)\n",
    "        if len_task_train == 0:\n",
    "            target_test_pred_time[dict_key] = 'N.A.'\n",
    "            pickle.dump(target_test_pred_time, open(log_target_test_pred_time, \"wb\"))\n",
    "            continue\n",
    "            \n",
    "        if len_task_train == prev_len_task_train:\n",
    "            print(\"+\"*30)\n",
    "            print(prev_key, dict_key)\n",
    "            print(prev_len_task_train, len_task_train)\n",
    "            target_test_pred_time[dict_key] =  target_test_pred_time[prev_key]\n",
    "            continue\n",
    "\n",
    "        graphs_train = []\n",
    "        graphs_test = []\n",
    "        for key in graphs:\n",
    "            if key in task_train:\n",
    "                graphs_train += graphs[key]\n",
    "            elif key in task_test:\n",
    "                graphs_test += graphs[key]\n",
    "        train_loader = DataLoader(graphs_train, batch_size=batch_size, shuffle=False)\n",
    "        test_loader = DataLoader(graphs_test, batch_size=batch_size, shuffle=False)\n",
    "        print(\"graphs_train shape:\", len(graphs_train), \"graphs_train[0] shape:\", graphs_train[0])\n",
    "        print(\"graphs_test shape:\", len(graphs_test), \"graphs_test[0] shape:\", graphs_test[0])\n",
    "\n",
    "        model = GIN(in_channels=graphs_train[0].num_node_features, hidden_channels=64).to(device)\n",
    "        optimizer = torch.optim.Adam(model.parameters(), lr=0.01)\n",
    "        criterion = torch.nn.MSELoss() \n",
    "        def train():\n",
    "            model.train()\n",
    "            for data in train_loader:  # Iterate in batches over the training dataset.\n",
    "                out = model(data.x, data.edge_index, data.batch)  # Perform a single forward pass.\n",
    "                loss = criterion(out, data.y.reshape(data.y.shape[0],1).to(device))  # Compute the loss.\n",
    "                # loss = criterion(out, data.y.to(device))  # Compute the loss.\n",
    "                loss.backward()  # Derive gradients.\n",
    "                optimizer.step()  # Update parameters based on gradients.\n",
    "                optimizer.zero_grad()  # Clear gradients.\n",
    "\n",
    "        def test(loader):\n",
    "            model.eval()\n",
    "            test = []\n",
    "            pred = []\n",
    "            for data in loader:  # Iterate in batches over the training/test dataset.\n",
    "                out = model(data.x, data.edge_index, data.batch)  \n",
    "        #         print(out, data.y)\n",
    "                if len(test) == 0:\n",
    "                    test = data.y\n",
    "                    pred = out.detach()\n",
    "                else:\n",
    "                    test = torch.cat((test, data.y))\n",
    "                    pred = torch.cat((pred, out.detach()))\n",
    "            return test, pred, mean_absolute_error(test.cpu(), pred.cpu()), mean_squared_error(test.cpu(), pred.cpu())  # Derive ratio of correct predictions.\n",
    "\n",
    "\n",
    "        start = time.time()\n",
    "        for epoch in range(10):\n",
    "            train()\n",
    "            _, _, train_mae, train_mse = test(train_loader)\n",
    "            test_y, pred_y, test_mae, test_mse = test(test_loader)\n",
    "        #     test_acc = test(test_loader)\n",
    "        end  = time.time()\n",
    "        duration = end-start\n",
    "        print(f'Epoch: {epoch:03d}, Train MAE: {train_mae:.4f}, Train MSE: {train_mse:.4f}')\n",
    "        print(f'Epoch: {epoch:03d}, Test MAE: {test_mae:.4f}, Test MSE: {test_mse:.4f}')\n",
    "        print(\"Time:\", duration)\n",
    "        \n",
    "        target_test_pred_time[dict_key] = (test_y, pred_y, duration, test_mae, test_mse)\n",
    "        pickle.dump(target_test_pred_time, open(log_target_test_pred_time, 'wb'))\n",
    "    \n"
   ]
  },
  {
   "cell_type": "code",
   "execution_count": null,
   "id": "500ff44a",
   "metadata": {},
   "outputs": [],
   "source": []
  }
 ],
 "metadata": {
  "kernelspec": {
   "display_name": "Python 3",
   "language": "python",
   "name": "python3"
  },
  "language_info": {
   "codemirror_mode": {
    "name": "ipython",
    "version": 3
   },
   "file_extension": ".py",
   "mimetype": "text/x-python",
   "name": "python",
   "nbconvert_exporter": "python",
   "pygments_lexer": "ipython3",
   "version": "3.8.8"
  }
 },
 "nbformat": 4,
 "nbformat_minor": 5
}
